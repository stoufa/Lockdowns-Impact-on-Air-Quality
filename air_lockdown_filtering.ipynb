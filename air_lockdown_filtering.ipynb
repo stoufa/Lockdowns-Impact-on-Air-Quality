{
 "cells": [
  {
   "cell_type": "code",
   "execution_count": 1,
   "metadata": {
    "executionInfo": {
     "elapsed": 2067,
     "status": "ok",
     "timestamp": 1636648794368,
     "user": {
      "displayName": "Parfait",
      "photoUrl": "https://lh3.googleusercontent.com/a-/AOh14GhIPlE7pYiqUVfDOOAQvaqxv6sF-4ug-LPmo0AX=s64",
      "userId": "09578346727017763896"
     },
     "user_tz": -120
    },
    "id": "RTMEHQQDCPKm"
   },
   "outputs": [],
   "source": [
    "import numpy as np\n",
    "import pandas as pd\n",
    "import matplotlib.pyplot as plt\n",
    "import seaborn as sns\n",
    "import requests \n",
    "import os"
   ]
  },
  {
   "cell_type": "code",
   "execution_count": 2,
   "metadata": {
    "executionInfo": {
     "elapsed": 12,
     "status": "ok",
     "timestamp": 1636645652823,
     "user": {
      "displayName": "Parfait",
      "photoUrl": "https://lh3.googleusercontent.com/a-/AOh14GhIPlE7pYiqUVfDOOAQvaqxv6sF-4ug-LPmo0AX=s64",
      "userId": "09578346727017763896"
     },
     "user_tz": -120
    },
    "id": "ZDB9edyyCW_J"
   },
   "outputs": [],
   "source": [
    "pd.set_option('display.max_rows', None)\n",
    "pd.set_option('display.max_columns', None)\n",
    "pd.set_option('display.width', None)"
   ]
  },
  {
   "cell_type": "code",
   "execution_count": 3,
   "metadata": {
    "colab": {
     "base_uri": "https://localhost:8080/"
    },
    "executionInfo": {
     "elapsed": 28669,
     "status": "ok",
     "timestamp": 1636645681482,
     "user": {
      "displayName": "Parfait",
      "photoUrl": "https://lh3.googleusercontent.com/a-/AOh14GhIPlE7pYiqUVfDOOAQvaqxv6sF-4ug-LPmo0AX=s64",
      "userId": "09578346727017763896"
     },
     "user_tz": -120
    },
    "id": "LfhxhMs1Cbc7",
    "outputId": "e5f63fbf-dede-4938-be34-f6086cd0c7e8"
   },
   "outputs": [
    {
     "name": "stdout",
     "output_type": "stream",
     "text": [
      "https://aqicn.org/data-platform/covid19/report/13220-61539cf0/2019Q1\n",
      "successful\n",
      "https://aqicn.org/data-platform/covid19/report/13220-61539cf0/2019Q2\n",
      "successful\n",
      "https://aqicn.org/data-platform/covid19/report/13220-61539cf0/2019Q3\n",
      "successful\n",
      "https://aqicn.org/data-platform/covid19/report/13220-61539cf0/2019Q4\n",
      "successful\n",
      "https://aqicn.org/data-platform/covid19/report/13220-61539cf0/2020Q1\n",
      "successful\n",
      "https://aqicn.org/data-platform/covid19/report/13220-61539cf0/2020Q2\n",
      "successful\n",
      "https://aqicn.org/data-platform/covid19/report/13220-61539cf0/2020Q3\n",
      "successful\n",
      "https://aqicn.org/data-platform/covid19/report/13220-61539cf0/2020Q4\n",
      "successful\n"
     ]
    }
   ],
   "source": [
    "dicto = {}\n",
    "i = 0\n",
    "for period in ['2019Q1', '2019Q2', '2019Q3', '2019Q4','2020Q1', '2020Q2', '2020Q3', '2020Q4']:\n",
    "  csv_url = 'https://aqicn.org/data-platform/covid19/report/13220-61539cf0/'+ period\n",
    "  print(csv_url)\n",
    "  req = requests.get(csv_url)\n",
    "  print(\"successful\")  \n",
    "  url_content = req.content\n",
    "  csv_file = open(f'downloaded_{i}.csv', 'wb')\n",
    "  csv_file.write(url_content)\n",
    "  csv_file.close()\n",
    "  dicto[f\"df_{i}\"] = pd.read_csv(f\"downloaded_{i}.csv\", skiprows=4,low_memory=False)\n",
    "  i+=1"
   ]
  },
  {
   "cell_type": "code",
   "execution_count": 4,
   "metadata": {
    "colab": {
     "base_uri": "https://localhost:8080/"
    },
    "executionInfo": {
     "elapsed": 14,
     "status": "ok",
     "timestamp": 1636645681483,
     "user": {
      "displayName": "Parfait",
      "photoUrl": "https://lh3.googleusercontent.com/a-/AOh14GhIPlE7pYiqUVfDOOAQvaqxv6sF-4ug-LPmo0AX=s64",
      "userId": "09578346727017763896"
     },
     "user_tz": -120
    },
    "id": "M1Ihf_LLOo38",
    "outputId": "827ed928-63b0-4dd8-aea1-7b3684eef111"
   },
   "outputs": [
    {
     "data": {
      "text/plain": [
       "dict_keys(['df_0', 'df_1', 'df_2', 'df_3', 'df_4', 'df_5', 'df_6', 'df_7'])"
      ]
     },
     "execution_count": 4,
     "metadata": {},
     "output_type": "execute_result"
    }
   ],
   "source": [
    "dicto.keys()"
   ]
  },
  {
   "cell_type": "code",
   "execution_count": 5,
   "metadata": {
    "colab": {
     "base_uri": "https://localhost:8080/",
     "height": 204
    },
    "executionInfo": {
     "elapsed": 8,
     "status": "ok",
     "timestamp": 1636645681483,
     "user": {
      "displayName": "Parfait",
      "photoUrl": "https://lh3.googleusercontent.com/a-/AOh14GhIPlE7pYiqUVfDOOAQvaqxv6sF-4ug-LPmo0AX=s64",
      "userId": "09578346727017763896"
     },
     "user_tz": -120
    },
    "id": "oKKl8HOtOwMe",
    "outputId": "7be2eca0-1cd4-4afa-b5e3-4d2828fb22d5"
   },
   "outputs": [
    {
     "data": {
      "text/html": [
       "<div>\n",
       "<style scoped>\n",
       "    .dataframe tbody tr th:only-of-type {\n",
       "        vertical-align: middle;\n",
       "    }\n",
       "\n",
       "    .dataframe tbody tr th {\n",
       "        vertical-align: top;\n",
       "    }\n",
       "\n",
       "    .dataframe thead th {\n",
       "        text-align: right;\n",
       "    }\n",
       "</style>\n",
       "<table border=\"1\" class=\"dataframe\">\n",
       "  <thead>\n",
       "    <tr style=\"text-align: right;\">\n",
       "      <th></th>\n",
       "      <th>Date</th>\n",
       "      <th>Country</th>\n",
       "      <th>City</th>\n",
       "      <th>Specie</th>\n",
       "      <th>count</th>\n",
       "      <th>min</th>\n",
       "      <th>max</th>\n",
       "      <th>median</th>\n",
       "      <th>variance</th>\n",
       "    </tr>\n",
       "  </thead>\n",
       "  <tbody>\n",
       "    <tr>\n",
       "      <th>0</th>\n",
       "      <td>2019-01-16</td>\n",
       "      <td>AE</td>\n",
       "      <td>Abu Dhabi</td>\n",
       "      <td>pm10</td>\n",
       "      <td>24</td>\n",
       "      <td>86.0</td>\n",
       "      <td>99.0</td>\n",
       "      <td>97.0</td>\n",
       "      <td>179.40</td>\n",
       "    </tr>\n",
       "    <tr>\n",
       "      <th>1</th>\n",
       "      <td>2019-01-22</td>\n",
       "      <td>AE</td>\n",
       "      <td>Abu Dhabi</td>\n",
       "      <td>pm10</td>\n",
       "      <td>24</td>\n",
       "      <td>51.0</td>\n",
       "      <td>57.0</td>\n",
       "      <td>55.0</td>\n",
       "      <td>23.75</td>\n",
       "    </tr>\n",
       "    <tr>\n",
       "      <th>2</th>\n",
       "      <td>2019-01-26</td>\n",
       "      <td>AE</td>\n",
       "      <td>Abu Dhabi</td>\n",
       "      <td>pm10</td>\n",
       "      <td>24</td>\n",
       "      <td>136.0</td>\n",
       "      <td>173.0</td>\n",
       "      <td>160.0</td>\n",
       "      <td>941.96</td>\n",
       "    </tr>\n",
       "    <tr>\n",
       "      <th>3</th>\n",
       "      <td>2019-01-07</td>\n",
       "      <td>AE</td>\n",
       "      <td>Abu Dhabi</td>\n",
       "      <td>pm10</td>\n",
       "      <td>24</td>\n",
       "      <td>60.0</td>\n",
       "      <td>91.0</td>\n",
       "      <td>72.0</td>\n",
       "      <td>1006.88</td>\n",
       "    </tr>\n",
       "    <tr>\n",
       "      <th>4</th>\n",
       "      <td>2019-01-10</td>\n",
       "      <td>AE</td>\n",
       "      <td>Abu Dhabi</td>\n",
       "      <td>pm10</td>\n",
       "      <td>24</td>\n",
       "      <td>82.0</td>\n",
       "      <td>93.0</td>\n",
       "      <td>87.0</td>\n",
       "      <td>57.97</td>\n",
       "    </tr>\n",
       "  </tbody>\n",
       "</table>\n",
       "</div>"
      ],
      "text/plain": [
       "         Date Country       City Specie  count    min    max  median  variance\n",
       "0  2019-01-16      AE  Abu Dhabi   pm10     24   86.0   99.0    97.0    179.40\n",
       "1  2019-01-22      AE  Abu Dhabi   pm10     24   51.0   57.0    55.0     23.75\n",
       "2  2019-01-26      AE  Abu Dhabi   pm10     24  136.0  173.0   160.0    941.96\n",
       "3  2019-01-07      AE  Abu Dhabi   pm10     24   60.0   91.0    72.0   1006.88\n",
       "4  2019-01-10      AE  Abu Dhabi   pm10     24   82.0   93.0    87.0     57.97"
      ]
     },
     "execution_count": 5,
     "metadata": {},
     "output_type": "execute_result"
    }
   ],
   "source": [
    "dicto['df_0'].head()"
   ]
  },
  {
   "cell_type": "code",
   "execution_count": 6,
   "metadata": {
    "executionInfo": {
     "elapsed": 4549,
     "status": "ok",
     "timestamp": 1636645686026,
     "user": {
      "displayName": "Parfait",
      "photoUrl": "https://lh3.googleusercontent.com/a-/AOh14GhIPlE7pYiqUVfDOOAQvaqxv6sF-4ug-LPmo0AX=s64",
      "userId": "09578346727017763896"
     },
     "user_tz": -120
    },
    "id": "qRZY-WpfFzsd"
   },
   "outputs": [],
   "source": [
    "frames = [dicto[f\"df_{i}\"].sort_values('Date') for i in range(8)]"
   ]
  },
  {
   "cell_type": "code",
   "execution_count": 7,
   "metadata": {
    "colab": {
     "base_uri": "https://localhost:8080/",
     "height": 1000
    },
    "executionInfo": {
     "elapsed": 60,
     "status": "ok",
     "timestamp": 1636645686028,
     "user": {
      "displayName": "Parfait",
      "photoUrl": "https://lh3.googleusercontent.com/a-/AOh14GhIPlE7pYiqUVfDOOAQvaqxv6sF-4ug-LPmo0AX=s64",
      "userId": "09578346727017763896"
     },
     "user_tz": -120
    },
    "id": "VdOupryGPZTS",
    "outputId": "d53e5436-a32d-4c11-d8c6-0bff699b72d5"
   },
   "outputs": [
    {
     "data": {
      "text/html": [
       "<div>\n",
       "<style scoped>\n",
       "    .dataframe tbody tr th:only-of-type {\n",
       "        vertical-align: middle;\n",
       "    }\n",
       "\n",
       "    .dataframe tbody tr th {\n",
       "        vertical-align: top;\n",
       "    }\n",
       "\n",
       "    .dataframe thead th {\n",
       "        text-align: right;\n",
       "    }\n",
       "</style>\n",
       "<table border=\"1\" class=\"dataframe\">\n",
       "  <thead>\n",
       "    <tr style=\"text-align: right;\">\n",
       "      <th></th>\n",
       "      <th>Date</th>\n",
       "      <th>Country</th>\n",
       "      <th>City</th>\n",
       "      <th>Specie</th>\n",
       "      <th>count</th>\n",
       "      <th>min</th>\n",
       "      <th>max</th>\n",
       "      <th>median</th>\n",
       "      <th>variance</th>\n",
       "    </tr>\n",
       "  </thead>\n",
       "  <tbody>\n",
       "    <tr>\n",
       "      <th>149419</th>\n",
       "      <td>2018-12-31</td>\n",
       "      <td>FR</td>\n",
       "      <td>Paris</td>\n",
       "      <td>dew</td>\n",
       "      <td>97</td>\n",
       "      <td>5.0</td>\n",
       "      <td>8.0</td>\n",
       "      <td>7.0</td>\n",
       "      <td>8.32</td>\n",
       "    </tr>\n",
       "    <tr>\n",
       "      <th>54650</th>\n",
       "      <td>2018-12-31</td>\n",
       "      <td>IL</td>\n",
       "      <td>Ashkelon</td>\n",
       "      <td>temperature</td>\n",
       "      <td>72</td>\n",
       "      <td>9.2</td>\n",
       "      <td>19.6</td>\n",
       "      <td>12.1</td>\n",
       "      <td>72.78</td>\n",
       "    </tr>\n",
       "    <tr>\n",
       "      <th>221778</th>\n",
       "      <td>2018-12-31</td>\n",
       "      <td>RO</td>\n",
       "      <td>Râmnicu Vâlcea</td>\n",
       "      <td>pm10</td>\n",
       "      <td>48</td>\n",
       "      <td>24.0</td>\n",
       "      <td>42.0</td>\n",
       "      <td>34.0</td>\n",
       "      <td>182.97</td>\n",
       "    </tr>\n",
       "    <tr>\n",
       "      <th>248821</th>\n",
       "      <td>2018-12-31</td>\n",
       "      <td>ES</td>\n",
       "      <td>Burgos</td>\n",
       "      <td>no2</td>\n",
       "      <td>48</td>\n",
       "      <td>0.5</td>\n",
       "      <td>49.4</td>\n",
       "      <td>7.8</td>\n",
       "      <td>1478.16</td>\n",
       "    </tr>\n",
       "    <tr>\n",
       "      <th>435001</th>\n",
       "      <td>2018-12-31</td>\n",
       "      <td>PL</td>\n",
       "      <td>Łódź</td>\n",
       "      <td>so2</td>\n",
       "      <td>71</td>\n",
       "      <td>0.4</td>\n",
       "      <td>16.6</td>\n",
       "      <td>2.6</td>\n",
       "      <td>109.18</td>\n",
       "    </tr>\n",
       "  </tbody>\n",
       "</table>\n",
       "</div>"
      ],
      "text/plain": [
       "              Date Country            City       Specie  count   min   max  \\\n",
       "149419  2018-12-31      FR           Paris          dew     97   5.0   8.0   \n",
       "54650   2018-12-31      IL        Ashkelon  temperature     72   9.2  19.6   \n",
       "221778  2018-12-31      RO  Râmnicu Vâlcea         pm10     48  24.0  42.0   \n",
       "248821  2018-12-31      ES          Burgos          no2     48   0.5  49.4   \n",
       "435001  2018-12-31      PL            Łódź          so2     71   0.4  16.6   \n",
       "\n",
       "        median  variance  \n",
       "149419     7.0      8.32  \n",
       "54650     12.1     72.78  \n",
       "221778    34.0    182.97  \n",
       "248821     7.8   1478.16  \n",
       "435001     2.6    109.18  "
      ]
     },
     "execution_count": 7,
     "metadata": {},
     "output_type": "execute_result"
    }
   ],
   "source": [
    "res = pd.concat(frames)\n",
    "res.head()"
   ]
  },
  {
   "cell_type": "code",
   "execution_count": 8,
   "metadata": {
    "colab": {
     "base_uri": "https://localhost:8080/",
     "height": 1000
    },
    "executionInfo": {
     "elapsed": 56,
     "status": "ok",
     "timestamp": 1636645686031,
     "user": {
      "displayName": "Parfait",
      "photoUrl": "https://lh3.googleusercontent.com/a-/AOh14GhIPlE7pYiqUVfDOOAQvaqxv6sF-4ug-LPmo0AX=s64",
      "userId": "09578346727017763896"
     },
     "user_tz": -120
    },
    "id": "O2N2Sr3NJ_96",
    "outputId": "2982fd9d-f2b4-4acc-a34b-d78b22854250"
   },
   "outputs": [
    {
     "data": {
      "text/html": [
       "<div>\n",
       "<style scoped>\n",
       "    .dataframe tbody tr th:only-of-type {\n",
       "        vertical-align: middle;\n",
       "    }\n",
       "\n",
       "    .dataframe tbody tr th {\n",
       "        vertical-align: top;\n",
       "    }\n",
       "\n",
       "    .dataframe thead th {\n",
       "        text-align: right;\n",
       "    }\n",
       "</style>\n",
       "<table border=\"1\" class=\"dataframe\">\n",
       "  <thead>\n",
       "    <tr style=\"text-align: right;\">\n",
       "      <th></th>\n",
       "      <th>Date</th>\n",
       "      <th>Country</th>\n",
       "      <th>City</th>\n",
       "      <th>Specie</th>\n",
       "      <th>count</th>\n",
       "      <th>min</th>\n",
       "      <th>max</th>\n",
       "      <th>median</th>\n",
       "      <th>variance</th>\n",
       "    </tr>\n",
       "  </thead>\n",
       "  <tbody>\n",
       "    <tr>\n",
       "      <th>508184</th>\n",
       "      <td>2021-01-03</td>\n",
       "      <td>AU</td>\n",
       "      <td>Hobart</td>\n",
       "      <td>pm25</td>\n",
       "      <td>41</td>\n",
       "      <td>5.0</td>\n",
       "      <td>13.0</td>\n",
       "      <td>9.0</td>\n",
       "      <td>63.80</td>\n",
       "    </tr>\n",
       "    <tr>\n",
       "      <th>133041</th>\n",
       "      <td>2021-01-03</td>\n",
       "      <td>IN</td>\n",
       "      <td>Kolkata</td>\n",
       "      <td>pm25</td>\n",
       "      <td>236</td>\n",
       "      <td>160.0</td>\n",
       "      <td>834.0</td>\n",
       "      <td>224.0</td>\n",
       "      <td>103322.00</td>\n",
       "    </tr>\n",
       "    <tr>\n",
       "      <th>425333</th>\n",
       "      <td>2021-01-03</td>\n",
       "      <td>DE</td>\n",
       "      <td>Hannover</td>\n",
       "      <td>wind-speed</td>\n",
       "      <td>48</td>\n",
       "      <td>1.0</td>\n",
       "      <td>7.0</td>\n",
       "      <td>3.0</td>\n",
       "      <td>20.53</td>\n",
       "    </tr>\n",
       "    <tr>\n",
       "      <th>394408</th>\n",
       "      <td>2021-01-03</td>\n",
       "      <td>RS</td>\n",
       "      <td>Novi Sad</td>\n",
       "      <td>pm10</td>\n",
       "      <td>48</td>\n",
       "      <td>5.0</td>\n",
       "      <td>22.0</td>\n",
       "      <td>14.0</td>\n",
       "      <td>123.12</td>\n",
       "    </tr>\n",
       "    <tr>\n",
       "      <th>570582</th>\n",
       "      <td>2021-01-03</td>\n",
       "      <td>HR</td>\n",
       "      <td>Rijeka</td>\n",
       "      <td>o3</td>\n",
       "      <td>47</td>\n",
       "      <td>11.6</td>\n",
       "      <td>31.3</td>\n",
       "      <td>20.7</td>\n",
       "      <td>233.17</td>\n",
       "    </tr>\n",
       "  </tbody>\n",
       "</table>\n",
       "</div>"
      ],
      "text/plain": [
       "              Date Country      City      Specie  count    min    max  median  \\\n",
       "508184  2021-01-03      AU    Hobart        pm25     41    5.0   13.0     9.0   \n",
       "133041  2021-01-03      IN   Kolkata        pm25    236  160.0  834.0   224.0   \n",
       "425333  2021-01-03      DE  Hannover  wind-speed     48    1.0    7.0     3.0   \n",
       "394408  2021-01-03      RS  Novi Sad        pm10     48    5.0   22.0    14.0   \n",
       "570582  2021-01-03      HR    Rijeka          o3     47   11.6   31.3    20.7   \n",
       "\n",
       "         variance  \n",
       "508184      63.80  \n",
       "133041  103322.00  \n",
       "425333      20.53  \n",
       "394408     123.12  \n",
       "570582     233.17  "
      ]
     },
     "execution_count": 8,
     "metadata": {},
     "output_type": "execute_result"
    }
   ],
   "source": [
    "res.tail()"
   ]
  },
  {
   "cell_type": "code",
   "execution_count": 9,
   "metadata": {
    "colab": {
     "base_uri": "https://localhost:8080/"
    },
    "executionInfo": {
     "elapsed": 32,
     "status": "ok",
     "timestamp": 1636645686865,
     "user": {
      "displayName": "Parfait",
      "photoUrl": "https://lh3.googleusercontent.com/a-/AOh14GhIPlE7pYiqUVfDOOAQvaqxv6sF-4ug-LPmo0AX=s64",
      "userId": "09578346727017763896"
     },
     "user_tz": -120
    },
    "id": "Z_RLKCRpLSpP",
    "outputId": "ee8cd9a5-01c3-405a-9936-2dbadf4eaf94"
   },
   "outputs": [
    {
     "data": {
      "text/plain": [
       "(4502027, 9)"
      ]
     },
     "execution_count": 9,
     "metadata": {},
     "output_type": "execute_result"
    }
   ],
   "source": [
    "res.shape"
   ]
  },
  {
   "cell_type": "code",
   "execution_count": 10,
   "metadata": {
    "colab": {
     "base_uri": "https://localhost:8080/",
     "height": 35
    },
    "executionInfo": {
     "elapsed": 23,
     "status": "ok",
     "timestamp": 1636645686867,
     "user": {
      "displayName": "Parfait",
      "photoUrl": "https://lh3.googleusercontent.com/a-/AOh14GhIPlE7pYiqUVfDOOAQvaqxv6sF-4ug-LPmo0AX=s64",
      "userId": "09578346727017763896"
     },
     "user_tz": -120
    },
    "id": "cmPGgbuZQIx-",
    "outputId": "107c5170-7790-4ceb-dca8-7adaf852dd4c"
   },
   "outputs": [
    {
     "data": {
      "text/plain": [
       "'2021-01-03'"
      ]
     },
     "execution_count": 10,
     "metadata": {},
     "output_type": "execute_result"
    }
   ],
   "source": [
    "res['Date'].max()"
   ]
  },
  {
   "cell_type": "code",
   "execution_count": 11,
   "metadata": {
    "colab": {
     "base_uri": "https://localhost:8080/",
     "height": 204
    },
    "executionInfo": {
     "elapsed": 3638,
     "status": "ok",
     "timestamp": 1636645690487,
     "user": {
      "displayName": "Parfait",
      "photoUrl": "https://lh3.googleusercontent.com/a-/AOh14GhIPlE7pYiqUVfDOOAQvaqxv6sF-4ug-LPmo0AX=s64",
      "userId": "09578346727017763896"
     },
     "user_tz": -120
    },
    "id": "N2H4ierbQNAW",
    "outputId": "edaf05b1-080d-4639-bb35-b3a8d0f3d42a"
   },
   "outputs": [
    {
     "data": {
      "text/html": [
       "<div>\n",
       "<style scoped>\n",
       "    .dataframe tbody tr th:only-of-type {\n",
       "        vertical-align: middle;\n",
       "    }\n",
       "\n",
       "    .dataframe tbody tr th {\n",
       "        vertical-align: top;\n",
       "    }\n",
       "\n",
       "    .dataframe thead th {\n",
       "        text-align: right;\n",
       "    }\n",
       "</style>\n",
       "<table border=\"1\" class=\"dataframe\">\n",
       "  <thead>\n",
       "    <tr style=\"text-align: right;\">\n",
       "      <th></th>\n",
       "      <th>Date</th>\n",
       "      <th>Country</th>\n",
       "      <th>City</th>\n",
       "      <th>Specie</th>\n",
       "      <th>count</th>\n",
       "      <th>min</th>\n",
       "      <th>max</th>\n",
       "      <th>median</th>\n",
       "      <th>variance</th>\n",
       "    </tr>\n",
       "  </thead>\n",
       "  <tbody>\n",
       "    <tr>\n",
       "      <th>98148</th>\n",
       "      <td>2021-01-03</td>\n",
       "      <td>ZA</td>\n",
       "      <td>Johannesburg</td>\n",
       "      <td>wd</td>\n",
       "      <td>71</td>\n",
       "      <td>8.1</td>\n",
       "      <td>359.6</td>\n",
       "      <td>116.0</td>\n",
       "      <td>153479.00</td>\n",
       "    </tr>\n",
       "    <tr>\n",
       "      <th>98261</th>\n",
       "      <td>2021-01-03</td>\n",
       "      <td>ZA</td>\n",
       "      <td>Johannesburg</td>\n",
       "      <td>precipitation</td>\n",
       "      <td>8</td>\n",
       "      <td>0.1</td>\n",
       "      <td>0.4</td>\n",
       "      <td>0.2</td>\n",
       "      <td>0.14</td>\n",
       "    </tr>\n",
       "    <tr>\n",
       "      <th>97960</th>\n",
       "      <td>2021-01-03</td>\n",
       "      <td>ZA</td>\n",
       "      <td>Johannesburg</td>\n",
       "      <td>no2</td>\n",
       "      <td>48</td>\n",
       "      <td>2.4</td>\n",
       "      <td>12.0</td>\n",
       "      <td>4.4</td>\n",
       "      <td>58.98</td>\n",
       "    </tr>\n",
       "    <tr>\n",
       "      <th>97939</th>\n",
       "      <td>2021-01-03</td>\n",
       "      <td>ZA</td>\n",
       "      <td>Johannesburg</td>\n",
       "      <td>wind-speed</td>\n",
       "      <td>109</td>\n",
       "      <td>0.2</td>\n",
       "      <td>5.5</td>\n",
       "      <td>2.0</td>\n",
       "      <td>20.65</td>\n",
       "    </tr>\n",
       "    <tr>\n",
       "      <th>98073</th>\n",
       "      <td>2021-01-03</td>\n",
       "      <td>ZA</td>\n",
       "      <td>Johannesburg</td>\n",
       "      <td>pressure</td>\n",
       "      <td>72</td>\n",
       "      <td>826.8</td>\n",
       "      <td>858.9</td>\n",
       "      <td>843.8</td>\n",
       "      <td>828.00</td>\n",
       "    </tr>\n",
       "  </tbody>\n",
       "</table>\n",
       "</div>"
      ],
      "text/plain": [
       "             Date Country          City         Specie  count    min    max  \\\n",
       "98148  2021-01-03      ZA  Johannesburg             wd     71    8.1  359.6   \n",
       "98261  2021-01-03      ZA  Johannesburg  precipitation      8    0.1    0.4   \n",
       "97960  2021-01-03      ZA  Johannesburg            no2     48    2.4   12.0   \n",
       "97939  2021-01-03      ZA  Johannesburg     wind-speed    109    0.2    5.5   \n",
       "98073  2021-01-03      ZA  Johannesburg       pressure     72  826.8  858.9   \n",
       "\n",
       "       median   variance  \n",
       "98148   116.0  153479.00  \n",
       "98261     0.2       0.14  \n",
       "97960     4.4      58.98  \n",
       "97939     2.0      20.65  \n",
       "98073   843.8     828.00  "
      ]
     },
     "execution_count": 11,
     "metadata": {},
     "output_type": "execute_result"
    }
   ],
   "source": [
    "res.sort_values(['Date','Country']).tail()"
   ]
  },
  {
   "cell_type": "code",
   "execution_count": 12,
   "metadata": {
    "colab": {
     "base_uri": "https://localhost:8080/",
     "height": 204
    },
    "executionInfo": {
     "elapsed": 39,
     "status": "ok",
     "timestamp": 1636645690493,
     "user": {
      "displayName": "Parfait",
      "photoUrl": "https://lh3.googleusercontent.com/a-/AOh14GhIPlE7pYiqUVfDOOAQvaqxv6sF-4ug-LPmo0AX=s64",
      "userId": "09578346727017763896"
     },
     "user_tz": -120
    },
    "id": "G9VzwNi4RLM2",
    "outputId": "3e7bbd69-7d9d-4db2-ad80-879c4e331cdf"
   },
   "outputs": [
    {
     "data": {
      "text/html": [
       "<div>\n",
       "<style scoped>\n",
       "    .dataframe tbody tr th:only-of-type {\n",
       "        vertical-align: middle;\n",
       "    }\n",
       "\n",
       "    .dataframe tbody tr th {\n",
       "        vertical-align: top;\n",
       "    }\n",
       "\n",
       "    .dataframe thead th {\n",
       "        text-align: right;\n",
       "    }\n",
       "</style>\n",
       "<table border=\"1\" class=\"dataframe\">\n",
       "  <thead>\n",
       "    <tr style=\"text-align: right;\">\n",
       "      <th></th>\n",
       "      <th>Date</th>\n",
       "      <th>Country</th>\n",
       "      <th>City</th>\n",
       "      <th>Specie</th>\n",
       "      <th>count</th>\n",
       "      <th>min</th>\n",
       "      <th>max</th>\n",
       "      <th>median</th>\n",
       "      <th>variance</th>\n",
       "    </tr>\n",
       "  </thead>\n",
       "  <tbody>\n",
       "    <tr>\n",
       "      <th>149419</th>\n",
       "      <td>2018-12-31</td>\n",
       "      <td>FR</td>\n",
       "      <td>Paris</td>\n",
       "      <td>dew</td>\n",
       "      <td>97</td>\n",
       "      <td>5.0</td>\n",
       "      <td>8.0</td>\n",
       "      <td>7.0</td>\n",
       "      <td>8.32</td>\n",
       "    </tr>\n",
       "    <tr>\n",
       "      <th>162424</th>\n",
       "      <td>2018-12-31</td>\n",
       "      <td>FR</td>\n",
       "      <td>Metz</td>\n",
       "      <td>wind-speed</td>\n",
       "      <td>155</td>\n",
       "      <td>0.1</td>\n",
       "      <td>7.2</td>\n",
       "      <td>4.0</td>\n",
       "      <td>72.47</td>\n",
       "    </tr>\n",
       "    <tr>\n",
       "      <th>162149</th>\n",
       "      <td>2018-12-31</td>\n",
       "      <td>FR</td>\n",
       "      <td>Metz</td>\n",
       "      <td>so2</td>\n",
       "      <td>44</td>\n",
       "      <td>0.1</td>\n",
       "      <td>4.2</td>\n",
       "      <td>1.3</td>\n",
       "      <td>17.59</td>\n",
       "    </tr>\n",
       "    <tr>\n",
       "      <th>162263</th>\n",
       "      <td>2018-12-31</td>\n",
       "      <td>FR</td>\n",
       "      <td>Metz</td>\n",
       "      <td>pressure</td>\n",
       "      <td>168</td>\n",
       "      <td>1031.6</td>\n",
       "      <td>1035.4</td>\n",
       "      <td>1033.9</td>\n",
       "      <td>8.55</td>\n",
       "    </tr>\n",
       "    <tr>\n",
       "      <th>162228</th>\n",
       "      <td>2018-12-31</td>\n",
       "      <td>FR</td>\n",
       "      <td>Metz</td>\n",
       "      <td>pm25</td>\n",
       "      <td>168</td>\n",
       "      <td>25.0</td>\n",
       "      <td>61.0</td>\n",
       "      <td>43.0</td>\n",
       "      <td>653.73</td>\n",
       "    </tr>\n",
       "  </tbody>\n",
       "</table>\n",
       "</div>"
      ],
      "text/plain": [
       "              Date Country   City      Specie  count     min     max  median  \\\n",
       "149419  2018-12-31      FR  Paris         dew     97     5.0     8.0     7.0   \n",
       "162424  2018-12-31      FR   Metz  wind-speed    155     0.1     7.2     4.0   \n",
       "162149  2018-12-31      FR   Metz         so2     44     0.1     4.2     1.3   \n",
       "162263  2018-12-31      FR   Metz    pressure    168  1031.6  1035.4  1033.9   \n",
       "162228  2018-12-31      FR   Metz        pm25    168    25.0    61.0    43.0   \n",
       "\n",
       "        variance  \n",
       "149419      8.32  \n",
       "162424     72.47  \n",
       "162149     17.59  \n",
       "162263      8.55  \n",
       "162228    653.73  "
      ]
     },
     "execution_count": 12,
     "metadata": {},
     "output_type": "execute_result"
    }
   ],
   "source": [
    "res[res['Country']=='FR'].head()"
   ]
  },
  {
   "cell_type": "code",
   "execution_count": 15,
   "metadata": {},
   "outputs": [
    {
     "data": {
      "text/html": [
       "<div>\n",
       "<style scoped>\n",
       "    .dataframe tbody tr th:only-of-type {\n",
       "        vertical-align: middle;\n",
       "    }\n",
       "\n",
       "    .dataframe tbody tr th {\n",
       "        vertical-align: top;\n",
       "    }\n",
       "\n",
       "    .dataframe thead tr th {\n",
       "        text-align: left;\n",
       "    }\n",
       "</style>\n",
       "<table border=\"1\" class=\"dataframe\">\n",
       "  <thead>\n",
       "    <tr>\n",
       "      <th></th>\n",
       "      <th>Country / territory</th>\n",
       "      <th>Place</th>\n",
       "      <th colspan=\"3\" halign=\"left\">First lockdown</th>\n",
       "      <th colspan=\"3\" halign=\"left\">Second lockdown</th>\n",
       "      <th colspan=\"3\" halign=\"left\">Third lockdown</th>\n",
       "      <th colspan=\"3\" halign=\"left\">Fourth lockdown</th>\n",
       "      <th colspan=\"3\" halign=\"left\">Fifth lockdown</th>\n",
       "      <th colspan=\"3\" halign=\"left\">Sixth lockdown</th>\n",
       "      <th colspan=\"3\" halign=\"left\">Seventh lockdown</th>\n",
       "      <th colspan=\"3\" halign=\"left\">Eighth lockdown</th>\n",
       "      <th>Total length (days)</th>\n",
       "      <th>Level</th>\n",
       "      <th>Unnamed: 28_level_1</th>\n",
       "    </tr>\n",
       "    <tr>\n",
       "      <th></th>\n",
       "      <th>Country / territory</th>\n",
       "      <th>Place</th>\n",
       "      <th>Start date</th>\n",
       "      <th>End date</th>\n",
       "      <th>Length (days)</th>\n",
       "      <th>Start date</th>\n",
       "      <th>End date</th>\n",
       "      <th>Length (days)</th>\n",
       "      <th>Start date</th>\n",
       "      <th>End date</th>\n",
       "      <th>Length (days)</th>\n",
       "      <th>Start date</th>\n",
       "      <th>End date</th>\n",
       "      <th>Length (days)</th>\n",
       "      <th>Start date</th>\n",
       "      <th>End date</th>\n",
       "      <th>Length (days)</th>\n",
       "      <th>Start date</th>\n",
       "      <th>End date</th>\n",
       "      <th>Length (days)</th>\n",
       "      <th>Start date</th>\n",
       "      <th>End date</th>\n",
       "      <th>Length (days)</th>\n",
       "      <th>Start date</th>\n",
       "      <th>End date</th>\n",
       "      <th>Length (days)</th>\n",
       "      <th>Total length (days)</th>\n",
       "      <th>Level</th>\n",
       "      <th>Unnamed: 28_level_2</th>\n",
       "    </tr>\n",
       "  </thead>\n",
       "  <tbody>\n",
       "    <tr>\n",
       "      <th>0</th>\n",
       "      <td>France</td>\n",
       "      <td>Nationwide</td>\n",
       "      <td>2020-03-17</td>\n",
       "      <td>2020-05-11</td>\n",
       "      <td>55</td>\n",
       "      <td>2020-10-30</td>\n",
       "      <td>2020-12-15</td>\n",
       "      <td>46</td>\n",
       "      <td>2021-04-04</td>\n",
       "      <td>2021-05-03</td>\n",
       "      <td>29</td>\n",
       "      <td>NaN</td>\n",
       "      <td>NaN</td>\n",
       "      <td>NaN</td>\n",
       "      <td>NaN</td>\n",
       "      <td>NaN</td>\n",
       "      <td>NaN</td>\n",
       "      <td>NaN</td>\n",
       "      <td>NaN</td>\n",
       "      <td>NaN</td>\n",
       "      <td>NaN</td>\n",
       "      <td>NaN</td>\n",
       "      <td>NaN</td>\n",
       "      <td>NaN</td>\n",
       "      <td>NaN</td>\n",
       "      <td>NaN</td>\n",
       "      <td>130</td>\n",
       "      <td>National</td>\n",
       "      <td>NaN</td>\n",
       "    </tr>\n",
       "    <tr>\n",
       "      <th>1</th>\n",
       "      <td>France</td>\n",
       "      <td>Paris</td>\n",
       "      <td>NaN</td>\n",
       "      <td>NaN</td>\n",
       "      <td>55</td>\n",
       "      <td>NaN</td>\n",
       "      <td>NaN</td>\n",
       "      <td>46</td>\n",
       "      <td>2021-03-19</td>\n",
       "      <td>2021-04-18</td>\n",
       "      <td>30</td>\n",
       "      <td>NaN</td>\n",
       "      <td>NaN</td>\n",
       "      <td>NaN</td>\n",
       "      <td>NaN</td>\n",
       "      <td>NaN</td>\n",
       "      <td>NaN</td>\n",
       "      <td>NaN</td>\n",
       "      <td>NaN</td>\n",
       "      <td>NaN</td>\n",
       "      <td>NaN</td>\n",
       "      <td>NaN</td>\n",
       "      <td>NaN</td>\n",
       "      <td>NaN</td>\n",
       "      <td>NaN</td>\n",
       "      <td>NaN</td>\n",
       "      <td>131</td>\n",
       "      <td>Region</td>\n",
       "      <td>NaN</td>\n",
       "    </tr>\n",
       "  </tbody>\n",
       "</table>\n",
       "</div>"
      ],
      "text/plain": [
       "  Country / territory       Place First lockdown                            \\\n",
       "  Country / territory       Place     Start date    End date Length (days)   \n",
       "0              France  Nationwide     2020-03-17  2020-05-11            55   \n",
       "1              France       Paris            NaN         NaN            55   \n",
       "\n",
       "  Second lockdown                           Third lockdown              \\\n",
       "       Start date    End date Length (days)     Start date    End date   \n",
       "0      2020-10-30  2020-12-15            46     2021-04-04  2021-05-03   \n",
       "1             NaN         NaN            46     2021-03-19  2021-04-18   \n",
       "\n",
       "                Fourth lockdown                        Fifth lockdown  \\\n",
       "  Length (days)      Start date End date Length (days)     Start date   \n",
       "0            29             NaN      NaN           NaN            NaN   \n",
       "1            30             NaN      NaN           NaN            NaN   \n",
       "\n",
       "                         Sixth lockdown                         \\\n",
       "  End date Length (days)     Start date End date Length (days)   \n",
       "0      NaN           NaN            NaN      NaN           NaN   \n",
       "1      NaN           NaN            NaN      NaN           NaN   \n",
       "\n",
       "  Seventh lockdown                        Eighth lockdown           \\\n",
       "        Start date End date Length (days)      Start date End date   \n",
       "0              NaN      NaN           NaN             NaN      NaN   \n",
       "1              NaN      NaN           NaN             NaN      NaN   \n",
       "\n",
       "                Total length (days)     Level Unnamed: 28_level_1  \n",
       "  Length (days) Total length (days)     Level Unnamed: 28_level_2  \n",
       "0           NaN                 130  National                 NaN  \n",
       "1           NaN                 131    Region                 NaN  "
      ]
     },
     "execution_count": 15,
     "metadata": {},
     "output_type": "execute_result"
    }
   ],
   "source": [
    "france_lockdown = pd.read_csv(\"france_lockdown.csv\",header=[0,1],parse_dates=True)\n",
    "france_lockdown"
   ]
  },
  {
   "cell_type": "code",
   "execution_count": 20,
   "metadata": {},
   "outputs": [
    {
     "data": {
      "text/html": [
       "<style  type=\"text/css\" >\n",
       "    #T_9307e_ th {\n",
       "          border: 1px black solid !important;\n",
       "    }#T_9307e_row0_col0,#T_9307e_row0_col1,#T_9307e_row0_col2,#T_9307e_row0_col3,#T_9307e_row0_col4,#T_9307e_row0_col5,#T_9307e_row0_col6,#T_9307e_row0_col7,#T_9307e_row0_col8,#T_9307e_row0_col9,#T_9307e_row0_col10,#T_9307e_row0_col11,#T_9307e_row0_col12,#T_9307e_row0_col13,#T_9307e_row0_col14,#T_9307e_row0_col15,#T_9307e_row0_col16,#T_9307e_row0_col17,#T_9307e_row0_col18,#T_9307e_row0_col19,#T_9307e_row0_col20,#T_9307e_row0_col21,#T_9307e_row0_col22,#T_9307e_row0_col23,#T_9307e_row0_col24,#T_9307e_row0_col25,#T_9307e_row0_col26,#T_9307e_row0_col27,#T_9307e_row0_col28,#T_9307e_row1_col0,#T_9307e_row1_col1,#T_9307e_row1_col2,#T_9307e_row1_col3,#T_9307e_row1_col4,#T_9307e_row1_col5,#T_9307e_row1_col6,#T_9307e_row1_col7,#T_9307e_row1_col8,#T_9307e_row1_col9,#T_9307e_row1_col10,#T_9307e_row1_col11,#T_9307e_row1_col12,#T_9307e_row1_col13,#T_9307e_row1_col14,#T_9307e_row1_col15,#T_9307e_row1_col16,#T_9307e_row1_col17,#T_9307e_row1_col18,#T_9307e_row1_col19,#T_9307e_row1_col20,#T_9307e_row1_col21,#T_9307e_row1_col22,#T_9307e_row1_col23,#T_9307e_row1_col24,#T_9307e_row1_col25,#T_9307e_row1_col26,#T_9307e_row1_col27,#T_9307e_row1_col28{\n",
       "            color:  black !important;\n",
       "            border:  1px black solid !important;\n",
       "        }</style><table id=\"T_9307e_\" ><thead>    <tr>        <th class=\"blank level0\" ></th>        <th class=\"col_heading level0 col0\" >Country / territory</th>        <th class=\"col_heading level0 col1\" >Place</th>        <th class=\"col_heading level0 col2\" colspan=\"3\">First lockdown</th>        <th class=\"col_heading level0 col5\" colspan=\"3\">Second lockdown</th>        <th class=\"col_heading level0 col8\" colspan=\"3\">Third lockdown</th>        <th class=\"col_heading level0 col11\" colspan=\"3\">Fourth lockdown</th>        <th class=\"col_heading level0 col14\" colspan=\"3\">Fifth lockdown</th>        <th class=\"col_heading level0 col17\" colspan=\"3\">Sixth lockdown</th>        <th class=\"col_heading level0 col20\" colspan=\"3\">Seventh lockdown</th>        <th class=\"col_heading level0 col23\" colspan=\"3\">Eighth lockdown</th>        <th class=\"col_heading level0 col26\" >Total length (days)</th>        <th class=\"col_heading level0 col27\" >Level</th>        <th class=\"col_heading level0 col28\" >Unnamed: 28_level_1</th>    </tr>    <tr>        <th class=\"blank level1\" ></th>        <th class=\"col_heading level1 col0\" >Country / territory</th>        <th class=\"col_heading level1 col1\" >Place</th>        <th class=\"col_heading level1 col2\" >Start date</th>        <th class=\"col_heading level1 col3\" >End date</th>        <th class=\"col_heading level1 col4\" >Length (days)</th>        <th class=\"col_heading level1 col5\" >Start date</th>        <th class=\"col_heading level1 col6\" >End date</th>        <th class=\"col_heading level1 col7\" >Length (days)</th>        <th class=\"col_heading level1 col8\" >Start date</th>        <th class=\"col_heading level1 col9\" >End date</th>        <th class=\"col_heading level1 col10\" >Length (days)</th>        <th class=\"col_heading level1 col11\" >Start date</th>        <th class=\"col_heading level1 col12\" >End date</th>        <th class=\"col_heading level1 col13\" >Length (days)</th>        <th class=\"col_heading level1 col14\" >Start date</th>        <th class=\"col_heading level1 col15\" >End date</th>        <th class=\"col_heading level1 col16\" >Length (days)</th>        <th class=\"col_heading level1 col17\" >Start date</th>        <th class=\"col_heading level1 col18\" >End date</th>        <th class=\"col_heading level1 col19\" >Length (days)</th>        <th class=\"col_heading level1 col20\" >Start date</th>        <th class=\"col_heading level1 col21\" >End date</th>        <th class=\"col_heading level1 col22\" >Length (days)</th>        <th class=\"col_heading level1 col23\" >Start date</th>        <th class=\"col_heading level1 col24\" >End date</th>        <th class=\"col_heading level1 col25\" >Length (days)</th>        <th class=\"col_heading level1 col26\" >Total length (days)</th>        <th class=\"col_heading level1 col27\" >Level</th>        <th class=\"col_heading level1 col28\" >Unnamed: 28_level_2</th>    </tr></thead><tbody>\n",
       "                <tr>\n",
       "                        <th id=\"T_9307e_level0_row0\" class=\"row_heading level0 row0\" >0</th>\n",
       "                        <td id=\"T_9307e_row0_col0\" class=\"data row0 col0\" >France</td>\n",
       "                        <td id=\"T_9307e_row0_col1\" class=\"data row0 col1\" >Nationwide</td>\n",
       "                        <td id=\"T_9307e_row0_col2\" class=\"data row0 col2\" >2020-03-17</td>\n",
       "                        <td id=\"T_9307e_row0_col3\" class=\"data row0 col3\" >2020-05-11</td>\n",
       "                        <td id=\"T_9307e_row0_col4\" class=\"data row0 col4\" >55</td>\n",
       "                        <td id=\"T_9307e_row0_col5\" class=\"data row0 col5\" >2020-10-30</td>\n",
       "                        <td id=\"T_9307e_row0_col6\" class=\"data row0 col6\" >2020-12-15</td>\n",
       "                        <td id=\"T_9307e_row0_col7\" class=\"data row0 col7\" >46</td>\n",
       "                        <td id=\"T_9307e_row0_col8\" class=\"data row0 col8\" >2021-04-04</td>\n",
       "                        <td id=\"T_9307e_row0_col9\" class=\"data row0 col9\" >2021-05-03</td>\n",
       "                        <td id=\"T_9307e_row0_col10\" class=\"data row0 col10\" >29</td>\n",
       "                        <td id=\"T_9307e_row0_col11\" class=\"data row0 col11\" >nan</td>\n",
       "                        <td id=\"T_9307e_row0_col12\" class=\"data row0 col12\" >nan</td>\n",
       "                        <td id=\"T_9307e_row0_col13\" class=\"data row0 col13\" >nan</td>\n",
       "                        <td id=\"T_9307e_row0_col14\" class=\"data row0 col14\" >nan</td>\n",
       "                        <td id=\"T_9307e_row0_col15\" class=\"data row0 col15\" >nan</td>\n",
       "                        <td id=\"T_9307e_row0_col16\" class=\"data row0 col16\" >nan</td>\n",
       "                        <td id=\"T_9307e_row0_col17\" class=\"data row0 col17\" >nan</td>\n",
       "                        <td id=\"T_9307e_row0_col18\" class=\"data row0 col18\" >nan</td>\n",
       "                        <td id=\"T_9307e_row0_col19\" class=\"data row0 col19\" >nan</td>\n",
       "                        <td id=\"T_9307e_row0_col20\" class=\"data row0 col20\" >nan</td>\n",
       "                        <td id=\"T_9307e_row0_col21\" class=\"data row0 col21\" >nan</td>\n",
       "                        <td id=\"T_9307e_row0_col22\" class=\"data row0 col22\" >nan</td>\n",
       "                        <td id=\"T_9307e_row0_col23\" class=\"data row0 col23\" >nan</td>\n",
       "                        <td id=\"T_9307e_row0_col24\" class=\"data row0 col24\" >nan</td>\n",
       "                        <td id=\"T_9307e_row0_col25\" class=\"data row0 col25\" >nan</td>\n",
       "                        <td id=\"T_9307e_row0_col26\" class=\"data row0 col26\" >130</td>\n",
       "                        <td id=\"T_9307e_row0_col27\" class=\"data row0 col27\" >National</td>\n",
       "                        <td id=\"T_9307e_row0_col28\" class=\"data row0 col28\" >nan</td>\n",
       "            </tr>\n",
       "            <tr>\n",
       "                        <th id=\"T_9307e_level0_row1\" class=\"row_heading level0 row1\" >1</th>\n",
       "                        <td id=\"T_9307e_row1_col0\" class=\"data row1 col0\" >France</td>\n",
       "                        <td id=\"T_9307e_row1_col1\" class=\"data row1 col1\" >Paris</td>\n",
       "                        <td id=\"T_9307e_row1_col2\" class=\"data row1 col2\" >nan</td>\n",
       "                        <td id=\"T_9307e_row1_col3\" class=\"data row1 col3\" >nan</td>\n",
       "                        <td id=\"T_9307e_row1_col4\" class=\"data row1 col4\" >55</td>\n",
       "                        <td id=\"T_9307e_row1_col5\" class=\"data row1 col5\" >nan</td>\n",
       "                        <td id=\"T_9307e_row1_col6\" class=\"data row1 col6\" >nan</td>\n",
       "                        <td id=\"T_9307e_row1_col7\" class=\"data row1 col7\" >46</td>\n",
       "                        <td id=\"T_9307e_row1_col8\" class=\"data row1 col8\" >2021-03-19</td>\n",
       "                        <td id=\"T_9307e_row1_col9\" class=\"data row1 col9\" >2021-04-18</td>\n",
       "                        <td id=\"T_9307e_row1_col10\" class=\"data row1 col10\" >30</td>\n",
       "                        <td id=\"T_9307e_row1_col11\" class=\"data row1 col11\" >nan</td>\n",
       "                        <td id=\"T_9307e_row1_col12\" class=\"data row1 col12\" >nan</td>\n",
       "                        <td id=\"T_9307e_row1_col13\" class=\"data row1 col13\" >nan</td>\n",
       "                        <td id=\"T_9307e_row1_col14\" class=\"data row1 col14\" >nan</td>\n",
       "                        <td id=\"T_9307e_row1_col15\" class=\"data row1 col15\" >nan</td>\n",
       "                        <td id=\"T_9307e_row1_col16\" class=\"data row1 col16\" >nan</td>\n",
       "                        <td id=\"T_9307e_row1_col17\" class=\"data row1 col17\" >nan</td>\n",
       "                        <td id=\"T_9307e_row1_col18\" class=\"data row1 col18\" >nan</td>\n",
       "                        <td id=\"T_9307e_row1_col19\" class=\"data row1 col19\" >nan</td>\n",
       "                        <td id=\"T_9307e_row1_col20\" class=\"data row1 col20\" >nan</td>\n",
       "                        <td id=\"T_9307e_row1_col21\" class=\"data row1 col21\" >nan</td>\n",
       "                        <td id=\"T_9307e_row1_col22\" class=\"data row1 col22\" >nan</td>\n",
       "                        <td id=\"T_9307e_row1_col23\" class=\"data row1 col23\" >nan</td>\n",
       "                        <td id=\"T_9307e_row1_col24\" class=\"data row1 col24\" >nan</td>\n",
       "                        <td id=\"T_9307e_row1_col25\" class=\"data row1 col25\" >nan</td>\n",
       "                        <td id=\"T_9307e_row1_col26\" class=\"data row1 col26\" >131</td>\n",
       "                        <td id=\"T_9307e_row1_col27\" class=\"data row1 col27\" >Region</td>\n",
       "                        <td id=\"T_9307e_row1_col28\" class=\"data row1 col28\" >nan</td>\n",
       "            </tr>\n",
       "    </tbody></table>"
      ],
      "text/plain": [
       "<pandas.io.formats.style.Styler at 0x11be76dcfd0>"
      ]
     },
     "execution_count": 20,
     "metadata": {},
     "output_type": "execute_result"
    }
   ],
   "source": [
    "france_lockdown.style.set_properties(\n",
    "    **{'color': 'black !important',\n",
    "       'border': '1px black solid !important'}\n",
    ").set_table_styles([{\n",
    "    'selector': 'th',\n",
    "    'props': [('border', '1px black solid !important')]\n",
    "}])"
   ]
  },
  {
   "cell_type": "code",
   "execution_count": null,
   "metadata": {},
   "outputs": [],
   "source": []
  }
 ],
 "metadata": {
  "colab": {
   "authorship_tag": "ABX9TyP8WhwZ4Lsuzy8xAAFuwxo/",
   "collapsed_sections": [],
   "name": "Untitled8.ipynb",
   "provenance": []
  },
  "kernelspec": {
   "display_name": "Python 3",
   "language": "python",
   "name": "python3"
  },
  "language_info": {
   "codemirror_mode": {
    "name": "ipython",
    "version": 3
   },
   "file_extension": ".py",
   "mimetype": "text/x-python",
   "name": "python",
   "nbconvert_exporter": "python",
   "pygments_lexer": "ipython3",
   "version": "3.8.5"
  }
 },
 "nbformat": 4,
 "nbformat_minor": 1
}
