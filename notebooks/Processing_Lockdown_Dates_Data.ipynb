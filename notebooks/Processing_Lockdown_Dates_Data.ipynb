{
  "nbformat": 4,
  "nbformat_minor": 0,
  "metadata": {
    "colab": {
      "name": "DSAA Capstone Project (Lockdown Dates Data).ipynb",
      "provenance": [],
      "collapsed_sections": []
    },
    "kernelspec": {
      "name": "python3",
      "display_name": "Python 3"
    },
    "language_info": {
      "name": "python"
    }
  },
  "cells": [
    {
      "cell_type": "markdown",
      "metadata": {
        "id": "kTHZt5wzd9k3"
      },
      "source": [
        "# DSAA-Kulimi Rwanda Data Camp Capstone Project <br> Lockdowns Impact on Air Quality 🌍\n",
        "\n",
        "GitHub repo: https://github.com/stoufa/Lockdowns-Impact-on-Air-Quality"
      ]
    },
    {
      "cell_type": "code",
      "metadata": {
        "id": "oMVrtxddk_n5"
      },
      "source": [
        "# Enabling Line Wrapping\n",
        "from IPython.display import HTML, display\n",
        "def set_css():\n",
        "  display(HTML('''\n",
        "  <style>\n",
        "    pre {\n",
        "        white-space: pre-wrap;\n",
        "    }\n",
        "  </style>\n",
        "  '''))\n",
        "get_ipython().events.register('pre_run_cell', set_css)"
      ],
      "execution_count": null,
      "outputs": []
    },
    {
      "cell_type": "markdown",
      "metadata": {
        "id": "DK0lC27fNUc8"
      },
      "source": [
        "# Getting Data"
      ]
    },
    {
      "cell_type": "code",
      "metadata": {
        "id": "HIKgyzFUQcv-",
        "colab": {
          "base_uri": "https://localhost:8080/",
          "height": 17
        },
        "outputId": "143567ae-aebd-4250-8b0b-8f05052bb0b2"
      },
      "source": [
        "# creates the project's folder structure if it doesn't already exist\n",
        "!mkdir -p data/{air_quality,lockdowns}\n",
        "!mkdir -p data/air_quality/{raw,clean}\n",
        "!mkdir -p data/lockdowns/{raw,clean}"
      ],
      "execution_count": null,
      "outputs": [
        {
          "output_type": "display_data",
          "data": {
            "text/html": [
              "\n",
              "  <style>\n",
              "    pre {\n",
              "        white-space: pre-wrap;\n",
              "    }\n",
              "  </style>\n",
              "  "
            ],
            "text/plain": [
              "<IPython.core.display.HTML object>"
            ]
          },
          "metadata": {}
        }
      ]
    },
    {
      "cell_type": "markdown",
      "metadata": {
        "id": "z5DngmyzNY8t"
      },
      "source": [
        "## Lockdown Dates Data\n",
        "\n",
        "We'll be getting this data from the [COVID-19 Lockdown dates by country Kaggle dataset](https://www.kaggle.com/jcyzag/covid19-lockdown-dates-by-country)"
      ]
    },
    {
      "cell_type": "code",
      "metadata": {
        "id": "Z_PxkXz2PYTH",
        "colab": {
          "base_uri": "https://localhost:8080/",
          "height": 17
        },
        "outputId": "26158607-ddd9-42a7-e5e8-c63e3adcea2e"
      },
      "source": [
        "from pathlib import Path\n",
        "import pandas as pd\n",
        "from pprint import pprint as pp"
      ],
      "execution_count": null,
      "outputs": [
        {
          "output_type": "display_data",
          "data": {
            "text/html": [
              "\n",
              "  <style>\n",
              "    pre {\n",
              "        white-space: pre-wrap;\n",
              "    }\n",
              "  </style>\n",
              "  "
            ],
            "text/plain": [
              "<IPython.core.display.HTML object>"
            ]
          },
          "metadata": {}
        }
      ]
    },
    {
      "cell_type": "code",
      "metadata": {
        "colab": {
          "base_uri": "https://localhost:8080/",
          "height": 17
        },
        "id": "WUw9NrbK3Dib",
        "outputId": "c4e9296e-38f9-42c2-a307-03672f11d4c1"
      },
      "source": [
        "# better way to display pandas dataframes\n",
        "%load_ext google.colab.data_table"
      ],
      "execution_count": null,
      "outputs": [
        {
          "output_type": "display_data",
          "data": {
            "text/html": [
              "\n",
              "  <style>\n",
              "    pre {\n",
              "        white-space: pre-wrap;\n",
              "    }\n",
              "  </style>\n",
              "  "
            ],
            "text/plain": [
              "<IPython.core.display.HTML object>"
            ]
          },
          "metadata": {}
        }
      ]
    },
    {
      "cell_type": "code",
      "metadata": {
        "id": "ZW77Bt6JQwTf",
        "colab": {
          "base_uri": "https://localhost:8080/",
          "height": 17
        },
        "outputId": "99b04ac4-ad83-47b1-875c-7b287aeefc2f"
      },
      "source": [
        "DATA_FOLDER = Path('data')\n",
        "\n",
        "AIR_QUALITY_DATA_FOLDER = DATA_FOLDER / 'air_quality'\n",
        "AIR_QUALITY_RAW_DATA_FOLDER = AIR_QUALITY_DATA_FOLDER / 'raw'\n",
        "AIR_QUALITY_CLEAN_DATA_FOLDER = AIR_QUALITY_DATA_FOLDER / 'clean'\n",
        "\n",
        "LOCKDOWNS_DATA_FOLDER = DATA_FOLDER / 'lockdowns'\n",
        "LOCKDOWNS_RAW_DATA_FOLDER = LOCKDOWNS_DATA_FOLDER / 'raw'\n",
        "LOCKDOWNS_CLEAN_DATA_FOLDER = LOCKDOWNS_DATA_FOLDER / 'clean'"
      ],
      "execution_count": null,
      "outputs": [
        {
          "output_type": "display_data",
          "data": {
            "text/html": [
              "\n",
              "  <style>\n",
              "    pre {\n",
              "        white-space: pre-wrap;\n",
              "    }\n",
              "  </style>\n",
              "  "
            ],
            "text/plain": [
              "<IPython.core.display.HTML object>"
            ]
          },
          "metadata": {}
        }
      ]
    },
    {
      "cell_type": "code",
      "metadata": {
        "id": "ltxp8poLAhBk",
        "colab": {
          "base_uri": "https://localhost:8080/",
          "height": 17
        },
        "outputId": "0032d6d1-0fab-4911-fe60-351085a1f45b"
      },
      "source": [
        "# download data\n",
        "DATASET_URL = 'https://www.dropbox.com/s/1kc7imm6dvzv9jv/COVID-19%20Lockdown%20dates%20by%20country.zip'\n",
        "!wget {DATASET_URL} &> /dev/null"
      ],
      "execution_count": null,
      "outputs": [
        {
          "output_type": "display_data",
          "data": {
            "text/html": [
              "\n",
              "  <style>\n",
              "    pre {\n",
              "        white-space: pre-wrap;\n",
              "    }\n",
              "  </style>\n",
              "  "
            ],
            "text/plain": [
              "<IPython.core.display.HTML object>"
            ]
          },
          "metadata": {}
        }
      ]
    },
    {
      "cell_type": "code",
      "metadata": {
        "colab": {
          "base_uri": "https://localhost:8080/",
          "height": 68
        },
        "id": "n8q4gQpwA3KQ",
        "outputId": "50682b29-7959-4758-8e8f-6604c9717806"
      },
      "source": [
        "!unzip \"COVID-19 Lockdown dates by country.zip\""
      ],
      "execution_count": null,
      "outputs": [
        {
          "output_type": "display_data",
          "data": {
            "text/html": [
              "\n",
              "  <style>\n",
              "    pre {\n",
              "        white-space: pre-wrap;\n",
              "    }\n",
              "  </style>\n",
              "  "
            ],
            "text/plain": [
              "<IPython.core.display.HTML object>"
            ]
          },
          "metadata": {}
        },
        {
          "output_type": "stream",
          "name": "stdout",
          "text": [
            "Archive:  COVID-19 Lockdown dates by country.zip\n",
            "  inflating: countryLockdowndates.csv  \n",
            "  inflating: countryLockdowndatesJHUMatch.csv  \n"
          ]
        }
      ]
    },
    {
      "cell_type": "code",
      "metadata": {
        "colab": {
          "base_uri": "https://localhost:8080/",
          "height": 17
        },
        "id": "sJZNwKoU1VFL",
        "outputId": "e396063d-0918-41e8-80d4-dc1ac9315141"
      },
      "source": [
        "# move the data to its appropriate location\n",
        "!mv *.csv data/lockdowns/raw/"
      ],
      "execution_count": null,
      "outputs": [
        {
          "output_type": "display_data",
          "data": {
            "text/html": [
              "\n",
              "  <style>\n",
              "    pre {\n",
              "        white-space: pre-wrap;\n",
              "    }\n",
              "  </style>\n",
              "  "
            ],
            "text/plain": [
              "<IPython.core.display.HTML object>"
            ]
          },
          "metadata": {}
        }
      ]
    },
    {
      "cell_type": "code",
      "metadata": {
        "id": "MylVGHBxSeka",
        "colab": {
          "base_uri": "https://localhost:8080/",
          "height": 17
        },
        "outputId": "684023a5-d25d-4969-b178-119f372227a7"
      },
      "source": [
        "# remove all CSV files in data/\n",
        "# !rm data/*.csv"
      ],
      "execution_count": null,
      "outputs": [
        {
          "output_type": "display_data",
          "data": {
            "text/html": [
              "\n",
              "  <style>\n",
              "    pre {\n",
              "        white-space: pre-wrap;\n",
              "    }\n",
              "  </style>\n",
              "  "
            ],
            "text/plain": [
              "<IPython.core.display.HTML object>"
            ]
          },
          "metadata": {}
        }
      ]
    },
    {
      "cell_type": "markdown",
      "metadata": {
        "id": "A7OB2UxMTx7z"
      },
      "source": [
        "let's now take a look at the data"
      ]
    },
    {
      "cell_type": "code",
      "metadata": {
        "colab": {
          "base_uri": "https://localhost:8080/",
          "height": 255
        },
        "id": "umabb7zJBIUj",
        "outputId": "805ac9d0-c308-4ab5-a346-8929267806ca"
      },
      "source": [
        "# display the first 10 lines of the data file (with line numbers)\n",
        "CSV_FILE_PATH = LOCKDOWNS_RAW_DATA_FOLDER / 'countryLockdowndates.csv'\n",
        "!head {CSV_FILE_PATH} | cat -n"
      ],
      "execution_count": null,
      "outputs": [
        {
          "output_type": "display_data",
          "data": {
            "text/html": [
              "\n",
              "  <style>\n",
              "    pre {\n",
              "        white-space: pre-wrap;\n",
              "    }\n",
              "  </style>\n",
              "  "
            ],
            "text/plain": [
              "<IPython.core.display.HTML object>"
            ]
          },
          "metadata": {}
        },
        {
          "output_type": "stream",
          "name": "stdout",
          "text": [
            "     1\tCountry/Region,Province,Date,Type,Reference\r\n",
            "     2\tAfghanistan,,24/03/2020,Full,https://www.thestatesman.com/world/afghan-govt-imposes-lockdown-coronavirus-cases-increase-15-1502870945.html\r\n",
            "     3\tAlbania,,08/03/2020,Full,https://en.wikipedia.org/wiki/2020_coronavirus_pandemic_in_Albania\r\n",
            "     4\tAlgeria,,24/03/2020,Full,https://www.garda.com/crisis24/news-alerts/325896/algeria-government-implements-lockdown-and-curfew-in-blida-and-algiers-march-23-update-7\r\n",
            "     5\tAndorra,,16/03/2020,Full,https://en.wikipedia.org/wiki/2020_coronavirus_pandemic_in_Andorra\r\n",
            "     6\tAngola,,24/03/2020,Full,https://en.wikipedia.org/wiki/2020_coronavirus_pandemic_in_Angola\r\n",
            "     7\tAntigua and Barbuda,,,None,\r\n",
            "     8\tArgentina,,20/03/2020,Full,https://www.bloomberg.com/news/articles/2020-03-20/argentina-orders-exceptional-lockdown-in-bid-to-contain-virus\r\n",
            "     9\tArmenia,,24/03/2020,Full,https://www.azatutyun.am/a/30506939.html\r\n",
            "    10\tAustralia,Australian Capital Territory,,None,https://en.wikipedia.org/wiki/2020_coronavirus_pandemic_in_Australia\r\n"
          ]
        }
      ]
    },
    {
      "cell_type": "markdown",
      "metadata": {
        "id": "HXv68koYVjMY"
      },
      "source": [
        "We can see that we have a comma-separated dataset with 5 columns\n"
      ]
    },
    {
      "cell_type": "code",
      "metadata": {
        "id": "WfFcSRKwT1_g",
        "colab": {
          "base_uri": "https://localhost:8080/",
          "height": 17
        },
        "outputId": "ef0fbe5f-9660-4849-9c78-1348447cb56d"
      },
      "source": [
        "df = pd.read_csv(CSV_FILE_PATH)"
      ],
      "execution_count": null,
      "outputs": [
        {
          "output_type": "display_data",
          "data": {
            "text/html": [
              "\n",
              "  <style>\n",
              "    pre {\n",
              "        white-space: pre-wrap;\n",
              "    }\n",
              "  </style>\n",
              "  "
            ],
            "text/plain": [
              "<IPython.core.display.HTML object>"
            ]
          },
          "metadata": {}
        }
      ]
    },
    {
      "cell_type": "code",
      "metadata": {
        "colab": {
          "base_uri": "https://localhost:8080/",
          "height": 34
        },
        "id": "C8PuFFjYjTS1",
        "outputId": "355d0d95-7972-4b51-e36e-d1ac63601985"
      },
      "source": [
        "# let's lowercase colum names to make using them easier later\n",
        "df.columns = map(lambda x : x.lower(), df.columns)\n",
        "# let's also replace slashes '/' with underscores '_' for the same reason\n",
        "df.columns = map(lambda x : x.replace('/', '_'), df.columns)\n",
        "df.columns"
      ],
      "execution_count": null,
      "outputs": [
        {
          "output_type": "display_data",
          "data": {
            "text/html": [
              "\n",
              "  <style>\n",
              "    pre {\n",
              "        white-space: pre-wrap;\n",
              "    }\n",
              "  </style>\n",
              "  "
            ],
            "text/plain": [
              "<IPython.core.display.HTML object>"
            ]
          },
          "metadata": {}
        },
        {
          "output_type": "execute_result",
          "data": {
            "text/plain": [
              "Index(['country_region', 'province', 'date', 'type', 'reference'], dtype='object')"
            ]
          },
          "metadata": {},
          "execution_count": 12
        }
      ]
    },
    {
      "cell_type": "code",
      "metadata": {
        "colab": {
          "base_uri": "https://localhost:8080/",
          "height": 226
        },
        "id": "OXLm3vaXVJmV",
        "outputId": "501ea515-949e-495f-e384-934b0b8c0de7"
      },
      "source": [
        "# displays the first 5 rows of the data\n",
        "df.head()"
      ],
      "execution_count": null,
      "outputs": [
        {
          "output_type": "display_data",
          "data": {
            "text/html": [
              "\n",
              "  <style>\n",
              "    pre {\n",
              "        white-space: pre-wrap;\n",
              "    }\n",
              "  </style>\n",
              "  "
            ],
            "text/plain": [
              "<IPython.core.display.HTML object>"
            ]
          },
          "metadata": {}
        },
        {
          "output_type": "execute_result",
          "data": {
            "application/vnd.google.colaboratory.module+javascript": "\n      import \"https://ssl.gstatic.com/colaboratory/data_table/a6224c040fa35dcf/data_table.js\";\n\n      window.createDataTable({\n        data: [[{\n            'v': 0,\n            'f': \"0\",\n        },\n\"Afghanistan\",\n{\n            'v': NaN,\n            'f': \"NaN\",\n        },\n\"24/03/2020\",\n\"Full\",\n\"https://www.thestatesman.com/world/afghan-govt-imposes-lockdown-coronavirus-cases-increase-15-1502870945.html\"],\n [{\n            'v': 1,\n            'f': \"1\",\n        },\n\"Albania\",\n{\n            'v': NaN,\n            'f': \"NaN\",\n        },\n\"08/03/2020\",\n\"Full\",\n\"https://en.wikipedia.org/wiki/2020_coronavirus_pandemic_in_Albania\"],\n [{\n            'v': 2,\n            'f': \"2\",\n        },\n\"Algeria\",\n{\n            'v': NaN,\n            'f': \"NaN\",\n        },\n\"24/03/2020\",\n\"Full\",\n\"https://www.garda.com/crisis24/news-alerts/325896/algeria-government-implements-lockdown-and-curfew-in-blida-and-algiers-march-23-update-7\"],\n [{\n            'v': 3,\n            'f': \"3\",\n        },\n\"Andorra\",\n{\n            'v': NaN,\n            'f': \"NaN\",\n        },\n\"16/03/2020\",\n\"Full\",\n\"https://en.wikipedia.org/wiki/2020_coronavirus_pandemic_in_Andorra\"],\n [{\n            'v': 4,\n            'f': \"4\",\n        },\n\"Angola\",\n{\n            'v': NaN,\n            'f': \"NaN\",\n        },\n\"24/03/2020\",\n\"Full\",\n\"https://en.wikipedia.org/wiki/2020_coronavirus_pandemic_in_Angola\"]],\n        columns: [[\"number\", \"index\"], [\"string\", \"country_region\"], [\"number\", \"province\"], [\"string\", \"date\"], [\"string\", \"type\"], [\"string\", \"reference\"]],\n        columnOptions: [{\"width\": \"1px\", \"className\": \"index_column\"}],\n        rowsPerPage: 25,\n        helpUrl: \"https://colab.research.google.com/notebooks/data_table.ipynb\",\n        suppressOutputScrolling: true,\n        minimumWidth: undefined,\n      });\n    ",
            "text/html": [
              "<div>\n",
              "<style scoped>\n",
              "    .dataframe tbody tr th:only-of-type {\n",
              "        vertical-align: middle;\n",
              "    }\n",
              "\n",
              "    .dataframe tbody tr th {\n",
              "        vertical-align: top;\n",
              "    }\n",
              "\n",
              "    .dataframe thead th {\n",
              "        text-align: right;\n",
              "    }\n",
              "</style>\n",
              "<table border=\"1\" class=\"dataframe\">\n",
              "  <thead>\n",
              "    <tr style=\"text-align: right;\">\n",
              "      <th></th>\n",
              "      <th>country_region</th>\n",
              "      <th>province</th>\n",
              "      <th>date</th>\n",
              "      <th>type</th>\n",
              "      <th>reference</th>\n",
              "    </tr>\n",
              "  </thead>\n",
              "  <tbody>\n",
              "    <tr>\n",
              "      <th>0</th>\n",
              "      <td>Afghanistan</td>\n",
              "      <td>NaN</td>\n",
              "      <td>24/03/2020</td>\n",
              "      <td>Full</td>\n",
              "      <td>https://www.thestatesman.com/world/afghan-govt...</td>\n",
              "    </tr>\n",
              "    <tr>\n",
              "      <th>1</th>\n",
              "      <td>Albania</td>\n",
              "      <td>NaN</td>\n",
              "      <td>08/03/2020</td>\n",
              "      <td>Full</td>\n",
              "      <td>https://en.wikipedia.org/wiki/2020_coronavirus...</td>\n",
              "    </tr>\n",
              "    <tr>\n",
              "      <th>2</th>\n",
              "      <td>Algeria</td>\n",
              "      <td>NaN</td>\n",
              "      <td>24/03/2020</td>\n",
              "      <td>Full</td>\n",
              "      <td>https://www.garda.com/crisis24/news-alerts/325...</td>\n",
              "    </tr>\n",
              "    <tr>\n",
              "      <th>3</th>\n",
              "      <td>Andorra</td>\n",
              "      <td>NaN</td>\n",
              "      <td>16/03/2020</td>\n",
              "      <td>Full</td>\n",
              "      <td>https://en.wikipedia.org/wiki/2020_coronavirus...</td>\n",
              "    </tr>\n",
              "    <tr>\n",
              "      <th>4</th>\n",
              "      <td>Angola</td>\n",
              "      <td>NaN</td>\n",
              "      <td>24/03/2020</td>\n",
              "      <td>Full</td>\n",
              "      <td>https://en.wikipedia.org/wiki/2020_coronavirus...</td>\n",
              "    </tr>\n",
              "  </tbody>\n",
              "</table>\n",
              "</div>"
            ],
            "text/plain": [
              "  country_region  ...                                          reference\n",
              "0    Afghanistan  ...  https://www.thestatesman.com/world/afghan-govt...\n",
              "1        Albania  ...  https://en.wikipedia.org/wiki/2020_coronavirus...\n",
              "2        Algeria  ...  https://www.garda.com/crisis24/news-alerts/325...\n",
              "3        Andorra  ...  https://en.wikipedia.org/wiki/2020_coronavirus...\n",
              "4         Angola  ...  https://en.wikipedia.org/wiki/2020_coronavirus...\n",
              "\n",
              "[5 rows x 5 columns]"
            ]
          },
          "metadata": {},
          "execution_count": 13
        }
      ]
    },
    {
      "cell_type": "code",
      "metadata": {
        "colab": {
          "base_uri": "https://localhost:8080/",
          "height": 221
        },
        "id": "RWA0Zf8fWDp4",
        "outputId": "31ef10de-228a-4d33-a184-82c1cae0c93b"
      },
      "source": [
        "# getting more details about the column names and data types\n",
        "df.info()"
      ],
      "execution_count": null,
      "outputs": [
        {
          "output_type": "display_data",
          "data": {
            "text/html": [
              "\n",
              "  <style>\n",
              "    pre {\n",
              "        white-space: pre-wrap;\n",
              "    }\n",
              "  </style>\n",
              "  "
            ],
            "text/plain": [
              "<IPython.core.display.HTML object>"
            ]
          },
          "metadata": {}
        },
        {
          "output_type": "stream",
          "name": "stdout",
          "text": [
            "<class 'pandas.core.frame.DataFrame'>\n",
            "RangeIndex: 307 entries, 0 to 306\n",
            "Data columns (total 5 columns):\n",
            " #   Column          Non-Null Count  Dtype \n",
            "---  ------          --------------  ----- \n",
            " 0   country_region  307 non-null    object\n",
            " 1   province        129 non-null    object\n",
            " 2   date            230 non-null    object\n",
            " 3   type            307 non-null    object\n",
            " 4   reference       238 non-null    object\n",
            "dtypes: object(5)\n",
            "memory usage: 12.1+ KB\n"
          ]
        }
      ]
    },
    {
      "cell_type": "code",
      "metadata": {
        "colab": {
          "base_uri": "https://localhost:8080/",
          "height": 173
        },
        "id": "2-b-yGOLW7jI",
        "outputId": "ff6a345b-4194-417e-fb56-b1fd8cddbfee"
      },
      "source": [
        "# getting a summary of the main descriptive statistics of this data file\n",
        "df.describe()"
      ],
      "execution_count": null,
      "outputs": [
        {
          "output_type": "display_data",
          "data": {
            "text/html": [
              "\n",
              "  <style>\n",
              "    pre {\n",
              "        white-space: pre-wrap;\n",
              "    }\n",
              "  </style>\n",
              "  "
            ],
            "text/plain": [
              "<IPython.core.display.HTML object>"
            ]
          },
          "metadata": {}
        },
        {
          "output_type": "execute_result",
          "data": {
            "application/vnd.google.colaboratory.module+javascript": "\n      import \"https://ssl.gstatic.com/colaboratory/data_table/a6224c040fa35dcf/data_table.js\";\n\n      window.createDataTable({\n        data: [[\"count\",\n307,\n129,\n230,\n307,\n238],\n [\"unique\",\n182,\n129,\n37,\n3,\n146],\n [\"top\",\n\"US\",\n\"Hong Kong\",\n\"23/01/2020\",\n\"Full\",\n\"https://en.wikipedia.org/wiki/2020_coronavirus_pandemic_in_the_United_States\"],\n [\"freq\",\n54,\n1,\n31,\n207,\n40]],\n        columns: [[\"string\", \"index\"], [\"string\", \"country_region\"], [\"string\", \"province\"], [\"string\", \"date\"], [\"string\", \"type\"], [\"string\", \"reference\"]],\n        columnOptions: [{\"width\": \"1px\", \"className\": \"index_column\"}],\n        rowsPerPage: 25,\n        helpUrl: \"https://colab.research.google.com/notebooks/data_table.ipynb\",\n        suppressOutputScrolling: true,\n        minimumWidth: undefined,\n      });\n    ",
            "text/html": [
              "<div>\n",
              "<style scoped>\n",
              "    .dataframe tbody tr th:only-of-type {\n",
              "        vertical-align: middle;\n",
              "    }\n",
              "\n",
              "    .dataframe tbody tr th {\n",
              "        vertical-align: top;\n",
              "    }\n",
              "\n",
              "    .dataframe thead th {\n",
              "        text-align: right;\n",
              "    }\n",
              "</style>\n",
              "<table border=\"1\" class=\"dataframe\">\n",
              "  <thead>\n",
              "    <tr style=\"text-align: right;\">\n",
              "      <th></th>\n",
              "      <th>country_region</th>\n",
              "      <th>province</th>\n",
              "      <th>date</th>\n",
              "      <th>type</th>\n",
              "      <th>reference</th>\n",
              "    </tr>\n",
              "  </thead>\n",
              "  <tbody>\n",
              "    <tr>\n",
              "      <th>count</th>\n",
              "      <td>307</td>\n",
              "      <td>129</td>\n",
              "      <td>230</td>\n",
              "      <td>307</td>\n",
              "      <td>238</td>\n",
              "    </tr>\n",
              "    <tr>\n",
              "      <th>unique</th>\n",
              "      <td>182</td>\n",
              "      <td>129</td>\n",
              "      <td>37</td>\n",
              "      <td>3</td>\n",
              "      <td>146</td>\n",
              "    </tr>\n",
              "    <tr>\n",
              "      <th>top</th>\n",
              "      <td>US</td>\n",
              "      <td>Hong Kong</td>\n",
              "      <td>23/01/2020</td>\n",
              "      <td>Full</td>\n",
              "      <td>https://en.wikipedia.org/wiki/2020_coronavirus...</td>\n",
              "    </tr>\n",
              "    <tr>\n",
              "      <th>freq</th>\n",
              "      <td>54</td>\n",
              "      <td>1</td>\n",
              "      <td>31</td>\n",
              "      <td>207</td>\n",
              "      <td>40</td>\n",
              "    </tr>\n",
              "  </tbody>\n",
              "</table>\n",
              "</div>"
            ],
            "text/plain": [
              "       country_region  ...                                          reference\n",
              "count             307  ...                                                238\n",
              "unique            182  ...                                                146\n",
              "top                US  ...  https://en.wikipedia.org/wiki/2020_coronavirus...\n",
              "freq               54  ...                                                 40\n",
              "\n",
              "[4 rows x 5 columns]"
            ]
          },
          "metadata": {},
          "execution_count": 15
        }
      ]
    },
    {
      "cell_type": "code",
      "metadata": {
        "colab": {
          "base_uri": "https://localhost:8080/",
          "height": 751
        },
        "id": "nHhyIR-8FzXO",
        "outputId": "16ec8581-2993-4d0d-f898-df5eccb2f32e"
      },
      "source": [
        "# find rows having null date values\n",
        "df[df[['date']].isnull().any(axis=1)]\n",
        "# we can notice that we have 77 entries without dates, so,\n",
        "# we can remove them, and we'll see if we can find better data elsewhere"
      ],
      "execution_count": null,
      "outputs": [
        {
          "output_type": "display_data",
          "data": {
            "text/html": [
              "\n",
              "  <style>\n",
              "    pre {\n",
              "        white-space: pre-wrap;\n",
              "    }\n",
              "  </style>\n",
              "  "
            ],
            "text/plain": [
              "<IPython.core.display.HTML object>"
            ]
          },
          "metadata": {}
        },
        {
          "output_type": "execute_result",
          "data": {
            "application/vnd.google.colaboratory.module+javascript": "\n      import \"https://ssl.gstatic.com/colaboratory/data_table/a6224c040fa35dcf/data_table.js\";\n\n      window.createDataTable({\n        data: [[{\n            'v': 5,\n            'f': \"5\",\n        },\n\"Antigua and Barbuda\",\nNaN,\n{\n            'v': NaN,\n            'f': \"NaN\",\n        },\n\"None\",\nNaN],\n [{\n            'v': 8,\n            'f': \"8\",\n        },\n\"Australia\",\n\"Australian Capital Territory\",\n{\n            'v': NaN,\n            'f': \"NaN\",\n        },\n\"None\",\n\"https://en.wikipedia.org/wiki/2020_coronavirus_pandemic_in_Australia\"],\n [{\n            'v': 9,\n            'f': \"9\",\n        },\n\"Australia\",\n\"New South Wales\",\n{\n            'v': NaN,\n            'f': \"NaN\",\n        },\n\"None\",\n\"https://en.wikipedia.org/wiki/2020_coronavirus_pandemic_in_Australia\"],\n [{\n            'v': 10,\n            'f': \"10\",\n        },\n\"Australia\",\n\"Northern Territory\",\n{\n            'v': NaN,\n            'f': \"NaN\",\n        },\n\"None\",\n\"https://en.wikipedia.org/wiki/2020_coronavirus_pandemic_in_Australia\"],\n [{\n            'v': 11,\n            'f': \"11\",\n        },\n\"Australia\",\n\"Queensland\",\n{\n            'v': NaN,\n            'f': \"NaN\",\n        },\n\"None\",\n\"https://en.wikipedia.org/wiki/2020_coronavirus_pandemic_in_Australia\"],\n [{\n            'v': 12,\n            'f': \"12\",\n        },\n\"Australia\",\n\"South Australia\",\n{\n            'v': NaN,\n            'f': \"NaN\",\n        },\n\"None\",\n\"https://en.wikipedia.org/wiki/2020_coronavirus_pandemic_in_Australia\"],\n [{\n            'v': 13,\n            'f': \"13\",\n        },\n\"Australia\",\n\"Tasmania\",\n{\n            'v': NaN,\n            'f': \"NaN\",\n        },\n\"None\",\n\"https://en.wikipedia.org/wiki/2020_coronavirus_pandemic_in_Australia\"],\n [{\n            'v': 15,\n            'f': \"15\",\n        },\n\"Australia\",\n\"Western Australia\",\n{\n            'v': NaN,\n            'f': \"NaN\",\n        },\n\"None\",\n\"https://en.wikipedia.org/wiki/2020_coronavirus_pandemic_in_Australia\"],\n [{\n            'v': 22,\n            'f': \"22\",\n        },\n\"Belarus\",\nNaN,\n{\n            'v': NaN,\n            'f': \"NaN\",\n        },\n\"None\",\n\"https://en.wikipedia.org/wiki/2020_coronavirus_pandemic_in_Belarus\"],\n [{\n            'v': 25,\n            'f': \"25\",\n        },\n\"Benin\",\nNaN,\n{\n            'v': NaN,\n            'f': \"NaN\",\n        },\n\"None\",\nNaN],\n [{\n            'v': 30,\n            'f': \"30\",\n        },\n\"Brazil\",\nNaN,\n{\n            'v': NaN,\n            'f': \"NaN\",\n        },\n\"None\",\n\"https://www.aljazeera.com/ajimpact/brazil-bolsonaro-denounces-mayors-virus-lockdowns-200325223340032.html\"],\n [{\n            'v': 31,\n            'f': \"31\",\n        },\n\"Brunei\",\nNaN,\n{\n            'v': NaN,\n            'f': \"NaN\",\n        },\n\"None\",\nNaN],\n [{\n            'v': 34,\n            'f': \"34\",\n        },\n\"Burma\",\nNaN,\n{\n            'v': NaN,\n            'f': \"NaN\",\n        },\n\"None\",\nNaN],\n [{\n            'v': 35,\n            'f': \"35\",\n        },\n\"Cabo Verde\",\nNaN,\n{\n            'v': NaN,\n            'f': \"NaN\",\n        },\n\"None\",\nNaN],\n [{\n            'v': 37,\n            'f': \"37\",\n        },\n\"Cameroon\",\nNaN,\n{\n            'v': NaN,\n            'f': \"NaN\",\n        },\n\"None\",\nNaN],\n [{\n            'v': 50,\n            'f': \"50\",\n        },\n\"Central African Republic\",\nNaN,\n{\n            'v': NaN,\n            'f': \"NaN\",\n        },\n\"None\",\nNaN],\n [{\n            'v': 51,\n            'f': \"51\",\n        },\n\"Chad\",\nNaN,\n{\n            'v': NaN,\n            'f': \"NaN\",\n        },\n\"None\",\nNaN],\n [{\n            'v': 87,\n            'f': \"87\",\n        },\n\"Congo (Brazzaville)\",\nNaN,\n{\n            'v': NaN,\n            'f': \"NaN\",\n        },\n\"None\",\nNaN],\n [{\n            'v': 92,\n            'f': \"92\",\n        },\n\"Cuba\",\nNaN,\n{\n            'v': NaN,\n            'f': \"NaN\",\n        },\n\"None\",\nNaN],\n [{\n            'v': 97,\n            'f': \"97\",\n        },\n\"Diamond Princess\",\nNaN,\n{\n            'v': NaN,\n            'f': \"NaN\",\n        },\n\"None\",\nNaN],\n [{\n            'v': 98,\n            'f': \"98\",\n        },\n\"Djibouti\",\nNaN,\n{\n            'v': NaN,\n            'f': \"NaN\",\n        },\n\"None\",\nNaN],\n [{\n            'v': 99,\n            'f': \"99\",\n        },\n\"Dominica\",\nNaN,\n{\n            'v': NaN,\n            'f': \"NaN\",\n        },\n\"None\",\nNaN],\n [{\n            'v': 104,\n            'f': \"104\",\n        },\n\"Equatorial Guinea\",\nNaN,\n{\n            'v': NaN,\n            'f': \"NaN\",\n        },\n\"None\",\nNaN],\n [{\n            'v': 105,\n            'f': \"105\",\n        },\n\"Eritrea\",\nNaN,\n{\n            'v': NaN,\n            'f': \"NaN\",\n        },\n\"None\",\nNaN],\n [{\n            'v': 107,\n            'f': \"107\",\n        },\n\"Eswatini\",\nNaN,\n{\n            'v': NaN,\n            'f': \"NaN\",\n        },\n\"None\",\nNaN],\n [{\n            'v': 111,\n            'f': \"111\",\n        },\n\"France\",\n\"French Guiana\",\n{\n            'v': NaN,\n            'f': \"NaN\",\n        },\n\"None\",\nNaN],\n [{\n            'v': 113,\n            'f': \"113\",\n        },\n\"France\",\n\"Guadeloupe\",\n{\n            'v': NaN,\n            'f': \"NaN\",\n        },\n\"None\",\nNaN],\n [{\n            'v': 115,\n            'f': \"115\",\n        },\n\"France\",\n\"Mayotte\",\n{\n            'v': NaN,\n            'f': \"NaN\",\n        },\n\"None\",\nNaN],\n [{\n            'v': 116,\n            'f': \"116\",\n        },\n\"France\",\n\"New Caledonia\",\n{\n            'v': NaN,\n            'f': \"NaN\",\n        },\n\"None\",\nNaN],\n [{\n            'v': 117,\n            'f': \"117\",\n        },\n\"France\",\n\"Reunion\",\n{\n            'v': NaN,\n            'f': \"NaN\",\n        },\n\"None\",\nNaN],\n [{\n            'v': 118,\n            'f': \"118\",\n        },\n\"France\",\n\"Saint Barthelemy\",\n{\n            'v': NaN,\n            'f': \"NaN\",\n        },\n\"None\",\nNaN],\n [{\n            'v': 119,\n            'f': \"119\",\n        },\n\"France\",\n\"St Martin\",\n{\n            'v': NaN,\n            'f': \"NaN\",\n        },\n\"None\",\nNaN],\n [{\n            'v': 121,\n            'f': \"121\",\n        },\n\"Gabon\",\nNaN,\n{\n            'v': NaN,\n            'f': \"NaN\",\n        },\n\"None\",\nNaN],\n [{\n            'v': 127,\n            'f': \"127\",\n        },\n\"Greenland\",\nNaN,\n{\n            'v': NaN,\n            'f': \"NaN\",\n        },\n\"None\",\nNaN],\n [{\n            'v': 128,\n            'f': \"128\",\n        },\n\"Grenada\",\nNaN,\n{\n            'v': NaN,\n            'f': \"NaN\",\n        },\n\"None\",\nNaN],\n [{\n            'v': 129,\n            'f': \"129\",\n        },\n\"Guatemala\",\nNaN,\n{\n            'v': NaN,\n            'f': \"NaN\",\n        },\n\"None\",\nNaN],\n [{\n            'v': 130,\n            'f': \"130\",\n        },\n\"Guinea\",\nNaN,\n{\n            'v': NaN,\n            'f': \"NaN\",\n        },\n\"None\",\nNaN],\n [{\n            'v': 131,\n            'f': \"131\",\n        },\n\"Guinea-Bissau\",\nNaN,\n{\n            'v': NaN,\n            'f': \"NaN\",\n        },\n\"None\",\nNaN],\n [{\n            'v': 132,\n            'f': \"132\",\n        },\n\"Guyana\",\nNaN,\n{\n            'v': NaN,\n            'f': \"NaN\",\n        },\n\"None\",\nNaN],\n [{\n            'v': 133,\n            'f': \"133\",\n        },\n\"Haiti\",\nNaN,\n{\n            'v': NaN,\n            'f': \"NaN\",\n        },\n\"None\",\nNaN],\n [{\n            'v': 154,\n            'f': \"154\",\n        },\n\"Laos\",\nNaN,\n{\n            'v': NaN,\n            'f': \"NaN\",\n        },\n\"None\",\nNaN],\n [{\n            'v': 157,\n            'f': \"157\",\n        },\n\"Liberia\",\nNaN,\n{\n            'v': NaN,\n            'f': \"NaN\",\n        },\n\"None\",\nNaN],\n [{\n            'v': 158,\n            'f': \"158\",\n        },\n\"Libya\",\nNaN,\n{\n            'v': NaN,\n            'f': \"NaN\",\n        },\n\"None\",\nNaN],\n [{\n            'v': 167,\n            'f': \"167\",\n        },\n\"Mauritania\",\nNaN,\n{\n            'v': NaN,\n            'f': \"NaN\",\n        },\n\"None\",\nNaN],\n [{\n            'v': 175,\n            'f': \"175\",\n        },\n\"Mozambique\",\nNaN,\n{\n            'v': NaN,\n            'f': \"NaN\",\n        },\n\"None\",\nNaN],\n [{\n            'v': 176,\n            'f': \"176\",\n        },\n\"MS Zaandam\",\nNaN,\n{\n            'v': NaN,\n            'f': \"NaN\",\n        },\n\"None\",\nNaN],\n [{\n            'v': 181,\n            'f': \"181\",\n        },\n\"Netherlands\",\n\"Curacao\",\n{\n            'v': NaN,\n            'f': \"NaN\",\n        },\n\"None\",\nNaN],\n [{\n            'v': 182,\n            'f': \"182\",\n        },\n\"Netherlands\",\n\"Sint Maarten\",\n{\n            'v': NaN,\n            'f': \"NaN\",\n        },\n\"None\",\nNaN],\n [{\n            'v': 184,\n            'f': \"184\",\n        },\n\"Nicaragua\",\nNaN,\n{\n            'v': NaN,\n            'f': \"NaN\",\n        },\n\"None\",\nNaN],\n [{\n            'v': 185,\n            'f': \"185\",\n        },\n\"Niger\",\nNaN,\n{\n            'v': NaN,\n            'f': \"NaN\",\n        },\n\"None\",\nNaN],\n [{\n            'v': 193,\n            'f': \"193\",\n        },\n\"Papua New Guinea\",\nNaN,\n{\n            'v': NaN,\n            'f': \"NaN\",\n        },\n\"None\",\nNaN],\n [{\n            'v': 203,\n            'f': \"203\",\n        },\n\"Saint Kitts and Nevis\",\nNaN,\n{\n            'v': NaN,\n            'f': \"NaN\",\n        },\n\"None\",\nNaN],\n [{\n            'v': 205,\n            'f': \"205\",\n        },\n\"Saint Vincent and the Grenadines\",\nNaN,\n{\n            'v': NaN,\n            'f': \"NaN\",\n        },\n\"None\",\nNaN],\n [{\n            'v': 210,\n            'f': \"210\",\n        },\n\"Seychelles\",\nNaN,\n{\n            'v': NaN,\n            'f': \"NaN\",\n        },\n\"None\",\n\"https://en.wikipedia.org/wiki/2020_coronavirus_pandemic_in_Seychelles\"],\n [{\n            'v': 211,\n            'f': \"211\",\n        },\n\"Sierra Leone\",\nNaN,\n{\n            'v': NaN,\n            'f': \"NaN\",\n        },\n\"None\",\nNaN],\n [{\n            'v': 219,\n            'f': \"219\",\n        },\n\"Sudan\",\nNaN,\n{\n            'v': NaN,\n            'f': \"NaN\",\n        },\n\"None\",\nNaN],\n [{\n            'v': 220,\n            'f': \"220\",\n        },\n\"Suriname\",\nNaN,\n{\n            'v': NaN,\n            'f': \"NaN\",\n        },\n\"None\",\nNaN],\n [{\n            'v': 221,\n            'f': \"221\",\n        },\n\"Sweden\",\nNaN,\n{\n            'v': NaN,\n            'f': \"NaN\",\n        },\n\"None\",\nNaN],\n [{\n            'v': 225,\n            'f': \"225\",\n        },\n\"Tanzania\",\nNaN,\n{\n            'v': NaN,\n            'f': \"NaN\",\n        },\n\"None\",\nNaN],\n [{\n            'v': 227,\n            'f': \"227\",\n        },\n\"Timor-Leste\",\nNaN,\n{\n            'v': NaN,\n            'f': \"NaN\",\n        },\n\"None\",\nNaN],\n [{\n            'v': 236,\n            'f': \"236\",\n        },\n\"United Kingdom\",\n\"Bermuda\",\n{\n            'v': NaN,\n            'f': \"NaN\",\n        },\n\"None\",\nNaN],\n [{\n            'v': 237,\n            'f': \"237\",\n        },\n\"United Kingdom\",\n\"British Virgin Islands\",\n{\n            'v': NaN,\n            'f': \"NaN\",\n        },\n\"None\",\nNaN],\n [{\n            'v': 238,\n            'f': \"238\",\n        },\n\"United Kingdom\",\n\"Cayman Islands\",\n{\n            'v': NaN,\n            'f': \"NaN\",\n        },\n\"None\",\nNaN],\n [{\n            'v': 239,\n            'f': \"239\",\n        },\n\"United Kingdom\",\n\"Channel Islands\",\n{\n            'v': NaN,\n            'f': \"NaN\",\n        },\n\"None\",\nNaN],\n [{\n            'v': 242,\n            'f': \"242\",\n        },\n\"United Kingdom\",\n\"Montserrat\",\n{\n            'v': NaN,\n            'f': \"NaN\",\n        },\n\"None\",\nNaN],\n [{\n            'v': 249,\n            'f': \"249\",\n        },\n\"US\",\n\"Arkansas\",\n{\n            'v': NaN,\n            'f': \"NaN\",\n        },\n\"None\",\nNaN],\n [{\n            'v': 254,\n            'f': \"254\",\n        },\n\"US\",\n\"District of Columbia\",\n{\n            'v': NaN,\n            'f': \"NaN\",\n        },\n\"None\",\nNaN],\n [{\n            'v': 256,\n            'f': \"256\",\n        },\n\"US\",\n\"Georgia\",\n{\n            'v': NaN,\n            'f': \"NaN\",\n        },\n\"None\",\nNaN],\n [{\n            'v': 262,\n            'f': \"262\",\n        },\n\"US\",\n\"Iowa\",\n{\n            'v': NaN,\n            'f': \"NaN\",\n        },\n\"None\",\nNaN],\n [{\n            'v': 274,\n            'f': \"274\",\n        },\n\"US\",\n\"Nebraska\",\n{\n            'v': NaN,\n            'f': \"NaN\",\n        },\n\"None\",\nNaN],\n [{\n            'v': 281,\n            'f': \"281\",\n        },\n\"US\",\n\"North Dakota\",\n{\n            'v': NaN,\n            'f': \"NaN\",\n        },\n\"None\",\nNaN],\n [{\n            'v': 283,\n            'f': \"283\",\n        },\n\"US\",\n\"Oklahoma\",\n{\n            'v': NaN,\n            'f': \"NaN\",\n        },\n\"None\",\nNaN],\n [{\n            'v': 288,\n            'f': \"288\",\n        },\n\"US\",\n\"South Carolina\",\n{\n            'v': NaN,\n            'f': \"NaN\",\n        },\n\"None\",\nNaN],\n [{\n            'v': 289,\n            'f': \"289\",\n        },\n\"US\",\n\"South Dakota\",\n{\n            'v': NaN,\n            'f': \"NaN\",\n        },\n\"None\",\nNaN],\n [{\n            'v': 292,\n            'f': \"292\",\n        },\n\"US\",\n\"Utah\",\n{\n            'v': NaN,\n            'f': \"NaN\",\n        },\n\"None\",\nNaN],\n [{\n            'v': 299,\n            'f': \"299\",\n        },\n\"US\",\n\"Wyoming\",\n{\n            'v': NaN,\n            'f': \"NaN\",\n        },\n\"None\",\nNaN],\n [{\n            'v': 305,\n            'f': \"305\",\n        },\n\"Zambia\",\nNaN,\n{\n            'v': NaN,\n            'f': \"NaN\",\n        },\n\"None\",\nNaN]],\n        columns: [[\"number\", \"index\"], [\"string\", \"country_region\"], [\"string\", \"province\"], [\"number\", \"date\"], [\"string\", \"type\"], [\"string\", \"reference\"]],\n        columnOptions: [{\"width\": \"1px\", \"className\": \"index_column\"}],\n        rowsPerPage: 25,\n        helpUrl: \"https://colab.research.google.com/notebooks/data_table.ipynb\",\n        suppressOutputScrolling: true,\n        minimumWidth: undefined,\n      });\n    ",
            "text/html": [
              "<div>\n",
              "<style scoped>\n",
              "    .dataframe tbody tr th:only-of-type {\n",
              "        vertical-align: middle;\n",
              "    }\n",
              "\n",
              "    .dataframe tbody tr th {\n",
              "        vertical-align: top;\n",
              "    }\n",
              "\n",
              "    .dataframe thead th {\n",
              "        text-align: right;\n",
              "    }\n",
              "</style>\n",
              "<table border=\"1\" class=\"dataframe\">\n",
              "  <thead>\n",
              "    <tr style=\"text-align: right;\">\n",
              "      <th></th>\n",
              "      <th>country_region</th>\n",
              "      <th>province</th>\n",
              "      <th>date</th>\n",
              "      <th>type</th>\n",
              "      <th>reference</th>\n",
              "    </tr>\n",
              "  </thead>\n",
              "  <tbody>\n",
              "    <tr>\n",
              "      <th>5</th>\n",
              "      <td>Antigua and Barbuda</td>\n",
              "      <td>NaN</td>\n",
              "      <td>NaN</td>\n",
              "      <td>None</td>\n",
              "      <td>NaN</td>\n",
              "    </tr>\n",
              "    <tr>\n",
              "      <th>8</th>\n",
              "      <td>Australia</td>\n",
              "      <td>Australian Capital Territory</td>\n",
              "      <td>NaN</td>\n",
              "      <td>None</td>\n",
              "      <td>https://en.wikipedia.org/wiki/2020_coronavirus...</td>\n",
              "    </tr>\n",
              "    <tr>\n",
              "      <th>9</th>\n",
              "      <td>Australia</td>\n",
              "      <td>New South Wales</td>\n",
              "      <td>NaN</td>\n",
              "      <td>None</td>\n",
              "      <td>https://en.wikipedia.org/wiki/2020_coronavirus...</td>\n",
              "    </tr>\n",
              "    <tr>\n",
              "      <th>10</th>\n",
              "      <td>Australia</td>\n",
              "      <td>Northern Territory</td>\n",
              "      <td>NaN</td>\n",
              "      <td>None</td>\n",
              "      <td>https://en.wikipedia.org/wiki/2020_coronavirus...</td>\n",
              "    </tr>\n",
              "    <tr>\n",
              "      <th>11</th>\n",
              "      <td>Australia</td>\n",
              "      <td>Queensland</td>\n",
              "      <td>NaN</td>\n",
              "      <td>None</td>\n",
              "      <td>https://en.wikipedia.org/wiki/2020_coronavirus...</td>\n",
              "    </tr>\n",
              "    <tr>\n",
              "      <th>...</th>\n",
              "      <td>...</td>\n",
              "      <td>...</td>\n",
              "      <td>...</td>\n",
              "      <td>...</td>\n",
              "      <td>...</td>\n",
              "    </tr>\n",
              "    <tr>\n",
              "      <th>288</th>\n",
              "      <td>US</td>\n",
              "      <td>South Carolina</td>\n",
              "      <td>NaN</td>\n",
              "      <td>None</td>\n",
              "      <td>NaN</td>\n",
              "    </tr>\n",
              "    <tr>\n",
              "      <th>289</th>\n",
              "      <td>US</td>\n",
              "      <td>South Dakota</td>\n",
              "      <td>NaN</td>\n",
              "      <td>None</td>\n",
              "      <td>NaN</td>\n",
              "    </tr>\n",
              "    <tr>\n",
              "      <th>292</th>\n",
              "      <td>US</td>\n",
              "      <td>Utah</td>\n",
              "      <td>NaN</td>\n",
              "      <td>None</td>\n",
              "      <td>NaN</td>\n",
              "    </tr>\n",
              "    <tr>\n",
              "      <th>299</th>\n",
              "      <td>US</td>\n",
              "      <td>Wyoming</td>\n",
              "      <td>NaN</td>\n",
              "      <td>None</td>\n",
              "      <td>NaN</td>\n",
              "    </tr>\n",
              "    <tr>\n",
              "      <th>305</th>\n",
              "      <td>Zambia</td>\n",
              "      <td>NaN</td>\n",
              "      <td>NaN</td>\n",
              "      <td>None</td>\n",
              "      <td>NaN</td>\n",
              "    </tr>\n",
              "  </tbody>\n",
              "</table>\n",
              "<p>77 rows × 5 columns</p>\n",
              "</div>"
            ],
            "text/plain": [
              "          country_region  ...                                          reference\n",
              "5    Antigua and Barbuda  ...                                                NaN\n",
              "8              Australia  ...  https://en.wikipedia.org/wiki/2020_coronavirus...\n",
              "9              Australia  ...  https://en.wikipedia.org/wiki/2020_coronavirus...\n",
              "10             Australia  ...  https://en.wikipedia.org/wiki/2020_coronavirus...\n",
              "11             Australia  ...  https://en.wikipedia.org/wiki/2020_coronavirus...\n",
              "..                   ...  ...                                                ...\n",
              "288                   US  ...                                                NaN\n",
              "289                   US  ...                                                NaN\n",
              "292                   US  ...                                                NaN\n",
              "299                   US  ...                                                NaN\n",
              "305               Zambia  ...                                                NaN\n",
              "\n",
              "[77 rows x 5 columns]"
            ]
          },
          "metadata": {},
          "execution_count": 16
        }
      ]
    },
    {
      "cell_type": "code",
      "metadata": {
        "colab": {
          "base_uri": "https://localhost:8080/",
          "height": 798
        },
        "id": "p5uPTnIPKUs-",
        "outputId": "45c2ec46-ae22-4542-ce8b-9240f850f5e2"
      },
      "source": [
        "df = df.dropna(subset=['date'])\n",
        "df"
      ],
      "execution_count": null,
      "outputs": [
        {
          "output_type": "display_data",
          "data": {
            "text/html": [
              "\n",
              "  <style>\n",
              "    pre {\n",
              "        white-space: pre-wrap;\n",
              "    }\n",
              "  </style>\n",
              "  "
            ],
            "text/plain": [
              "<IPython.core.display.HTML object>"
            ]
          },
          "metadata": {}
        },
        {
          "output_type": "execute_result",
          "data": {
            "application/vnd.google.colaboratory.module+javascript": "\n      import \"https://ssl.gstatic.com/colaboratory/data_table/a6224c040fa35dcf/data_table.js\";\n\n      window.createDataTable({\n        data: [[{\n            'v': 0,\n            'f': \"0\",\n        },\n\"Afghanistan\",\nNaN,\n\"24/03/2020\",\n\"Full\",\n\"https://www.thestatesman.com/world/afghan-govt-imposes-lockdown-coronavirus-cases-increase-15-1502870945.html\"],\n [{\n            'v': 1,\n            'f': \"1\",\n        },\n\"Albania\",\nNaN,\n\"08/03/2020\",\n\"Full\",\n\"https://en.wikipedia.org/wiki/2020_coronavirus_pandemic_in_Albania\"],\n [{\n            'v': 2,\n            'f': \"2\",\n        },\n\"Algeria\",\nNaN,\n\"24/03/2020\",\n\"Full\",\n\"https://www.garda.com/crisis24/news-alerts/325896/algeria-government-implements-lockdown-and-curfew-in-blida-and-algiers-march-23-update-7\"],\n [{\n            'v': 3,\n            'f': \"3\",\n        },\n\"Andorra\",\nNaN,\n\"16/03/2020\",\n\"Full\",\n\"https://en.wikipedia.org/wiki/2020_coronavirus_pandemic_in_Andorra\"],\n [{\n            'v': 4,\n            'f': \"4\",\n        },\n\"Angola\",\nNaN,\n\"24/03/2020\",\n\"Full\",\n\"https://en.wikipedia.org/wiki/2020_coronavirus_pandemic_in_Angola\"],\n [{\n            'v': 6,\n            'f': \"6\",\n        },\n\"Argentina\",\nNaN,\n\"20/03/2020\",\n\"Full\",\n\"https://www.bloomberg.com/news/articles/2020-03-20/argentina-orders-exceptional-lockdown-in-bid-to-contain-virus\"],\n [{\n            'v': 7,\n            'f': \"7\",\n        },\n\"Armenia\",\nNaN,\n\"24/03/2020\",\n\"Full\",\n\"https://www.azatutyun.am/a/30506939.html\"],\n [{\n            'v': 14,\n            'f': \"14\",\n        },\n\"Australia\",\n\"Victoria\",\n\"24/03/2020\",\n\"Full\",\n\"https://www.theage.com.au/national/victoria/schools-closed-from-tuesday-in-drastic-bid-to-curb-coronavirus-spread-20200322-p54cpw.html\"],\n [{\n            'v': 16,\n            'f': \"16\",\n        },\n\"Austria\",\nNaN,\n\"16/03/2020\",\n\"Full\",\n\"https://www.reuters.com/article/us-health-coronavirus-austria/austria-close-to-standstill-starts-biggest-repatriation-effort-ever-idUSKBN21427X\"],\n [{\n            'v': 17,\n            'f': \"17\",\n        },\n\"Azerbaijan\",\nNaN,\n\"02/03/2020\",\n\"Full\",\n\"https://en.trend.az/azerbaijan/society/3200643.html\"],\n [{\n            'v': 18,\n            'f': \"18\",\n        },\n\"Bahamas\",\nNaN,\n\"20/03/2020\",\n\"Full\",\n\"https://en.wikipedia.org/wiki/2020_coronavirus_pandemic_in_the_Bahamas\"],\n [{\n            'v': 19,\n            'f': \"19\",\n        },\n\"Bahrain\",\nNaN,\n\"25/02/2020\",\n\"Full\",\n\"https://en.wikipedia.org/wiki/2020_coronavirus_pandemic_in_Bahrain\"],\n [{\n            'v': 20,\n            'f': \"20\",\n        },\n\"Bangladesh\",\nNaN,\n\"19/03/2020\",\n\"Full\",\n\"https://en.wikipedia.org/wiki/2020_coronavirus_pandemic_in_Bangladesh\"],\n [{\n            'v': 21,\n            'f': \"21\",\n        },\n\"Barbados\",\nNaN,\n\"28/03/2020\",\n\"Full\",\n\"https://en.wikipedia.org/wiki/2020_coronavirus_pandemic_in_Barbados\"],\n [{\n            'v': 23,\n            'f': \"23\",\n        },\n\"Belgium\",\nNaN,\n\"17/03/2020\",\n\"Full\",\n\"https://www.businessinsider.com/countries-on-lockdown-coronavirus-italy-2020-3?r=US&IR=T#the-uk-went-into-full-coronavirus-lockdown-on-monday-evening-7\"],\n [{\n            'v': 24,\n            'f': \"24\",\n        },\n\"Belize\",\nNaN,\n\"30/03/2020\",\n\"Full\",\n\"https://en.wikipedia.org/wiki/2020_coronavirus_pandemic_in_Belize\"],\n [{\n            'v': 26,\n            'f': \"26\",\n        },\n\"Bhutan\",\nNaN,\n\"06/03/2020\",\n\"Full\",\n\"https://en.wikipedia.org/wiki/2020_coronavirus_pandemic_in_Bhutan\"],\n [{\n            'v': 27,\n            'f': \"27\",\n        },\n\"Bolivia\",\nNaN,\n\"12/03/2020\",\n\"Full\",\n\"https://en.wikipedia.org/wiki/2020_coronavirus_pandemic_in_Bolivia\"],\n [{\n            'v': 28,\n            'f': \"28\",\n        },\n\"Bosnia and Herzegovina\",\nNaN,\n\"11/03/2020\",\n\"Full\",\n\"https://en.wikipedia.org/wiki/2020_coronavirus_pandemic_in_Bosnia_and_Herzegovina\"],\n [{\n            'v': 29,\n            'f': \"29\",\n        },\n\"Botswana\",\nNaN,\n\"02/04/2020\",\n\"Full\",\n\"https://www.voanews.com/science-health/coronavirus-outbreak/botswana-declares-emergency-first-confirmed-covid-cases\"],\n [{\n            'v': 32,\n            'f': \"32\",\n        },\n\"Bulgaria\",\nNaN,\n\"13/03/2020\",\n\"Full\",\n\"https://en.wikipedia.org/wiki/2020_coronavirus_pandemic_in_Bulgaria\"],\n [{\n            'v': 33,\n            'f': \"33\",\n        },\n\"Burkina Faso\",\nNaN,\n\"21/03/2020\",\n\"Full\",\n\"https://en.wikipedia.org/wiki/2020_coronavirus_pandemic_in_Burkina_Faso\"],\n [{\n            'v': 36,\n            'f': \"36\",\n        },\n\"Cambodia\",\nNaN,\n\"28/03/2020\",\n\"Partial\",\n\"https://www.bangkokpost.com/world/1888300/cambodia-steps-up-travel-curbs-on-foreigners\"],\n [{\n            'v': 38,\n            'f': \"38\",\n        },\n\"Canada\",\n\"Alberta\",\n\"17/03/2020\",\n\"Full\",\n\"https://en.wikipedia.org/wiki/2020_coronavirus_pandemic_in_Canada\"],\n [{\n            'v': 39,\n            'f': \"39\",\n        },\n\"Canada\",\n\"British Columbia\",\n\"18/03/2020\",\n\"Full\",\n\"https://en.wikipedia.org/wiki/2020_coronavirus_pandemic_in_Canada\"],\n [{\n            'v': 40,\n            'f': \"40\",\n        },\n\"Canada\",\n\"Manitoba\",\n\"20/03/2020\",\n\"Full\",\n\"https://en.wikipedia.org/wiki/2020_coronavirus_pandemic_in_Canada\"],\n [{\n            'v': 41,\n            'f': \"41\",\n        },\n\"Canada\",\n\"New Brunswick\",\n\"19/03/2020\",\n\"Full\",\n\"https://en.wikipedia.org/wiki/2020_coronavirus_pandemic_in_Canada\"],\n [{\n            'v': 42,\n            'f': \"42\",\n        },\n\"Canada\",\n\"Newfoundland and Labrador\",\n\"18/03/2020\",\n\"Full\",\n\"https://en.wikipedia.org/wiki/2020_coronavirus_pandemic_in_Canada\"],\n [{\n            'v': 43,\n            'f': \"43\",\n        },\n\"Canada\",\n\"Northwest Territories\",\n\"18/03/2020\",\n\"Partial\",\n\"https://en.wikipedia.org/wiki/2020_coronavirus_pandemic_in_Canada\"],\n [{\n            'v': 44,\n            'f': \"44\",\n        },\n\"Canada\",\n\"Nova Scotia\",\n\"22/03/2020\",\n\"Full\",\n\"https://en.wikipedia.org/wiki/2020_coronavirus_pandemic_in_Canada\"],\n [{\n            'v': 45,\n            'f': \"45\",\n        },\n\"Canada\",\n\"Ontario\",\n\"14/03/2020\",\n\"Full\",\n\"https://en.wikipedia.org/wiki/2020_coronavirus_pandemic_in_Canada\"],\n [{\n            'v': 46,\n            'f': \"46\",\n        },\n\"Canada\",\n\"Prince Edward Island\",\n\"16/03/2020\",\n\"Full\",\n\"https://en.wikipedia.org/wiki/2020_coronavirus_pandemic_in_Canada\"],\n [{\n            'v': 47,\n            'f': \"47\",\n        },\n\"Canada\",\n\"Quebec\",\n\"12/03/2020\",\n\"Full\",\n\"https://en.wikipedia.org/wiki/2020_coronavirus_pandemic_in_Canada\"],\n [{\n            'v': 48,\n            'f': \"48\",\n        },\n\"Canada\",\n\"Saskatchewan\",\n\"18/03/2020\",\n\"Full\",\n\"https://en.wikipedia.org/wiki/2020_coronavirus_pandemic_in_Canada\"],\n [{\n            'v': 49,\n            'f': \"49\",\n        },\n\"Canada\",\n\"Yukon\",\n\"18/03/2020\",\n\"Partial\",\n\"https://en.wikipedia.org/wiki/2020_coronavirus_pandemic_in_Canada\"],\n [{\n            'v': 52,\n            'f': \"52\",\n        },\n\"Chile\",\nNaN,\n\"26/03/2020\",\n\"Full\",\n\"https://en.wikipedia.org/wiki/2020_coronavirus_pandemic_in_Chile\"],\n [{\n            'v': 53,\n            'f': \"53\",\n        },\n\"China\",\n\"Anhui\",\n\"23/01/2020\",\n\"Full\",\n\"https://en.wikipedia.org/wiki/2020_Hubei_lockdowns\"],\n [{\n            'v': 54,\n            'f': \"54\",\n        },\n\"China\",\n\"Beijing\",\n\"23/01/2020\",\n\"Full\",\n\"https://en.wikipedia.org/wiki/2020_Hubei_lockdowns\"],\n [{\n            'v': 55,\n            'f': \"55\",\n        },\n\"China\",\n\"Chongqing\",\n\"23/01/2020\",\n\"Full\",\n\"https://en.wikipedia.org/wiki/2020_Hubei_lockdowns\"],\n [{\n            'v': 56,\n            'f': \"56\",\n        },\n\"China\",\n\"Fujian\",\n\"23/01/2020\",\n\"Full\",\n\"https://en.wikipedia.org/wiki/2020_Hubei_lockdowns\"],\n [{\n            'v': 57,\n            'f': \"57\",\n        },\n\"China\",\n\"Gansu\",\n\"23/01/2020\",\n\"Full\",\n\"https://en.wikipedia.org/wiki/2020_Hubei_lockdowns\"],\n [{\n            'v': 58,\n            'f': \"58\",\n        },\n\"China\",\n\"Guangdong\",\n\"23/01/2020\",\n\"Full\",\n\"https://en.wikipedia.org/wiki/2020_Hubei_lockdowns\"],\n [{\n            'v': 59,\n            'f': \"59\",\n        },\n\"China\",\n\"Guangxi\",\n\"23/01/2020\",\n\"Full\",\n\"https://en.wikipedia.org/wiki/2020_Hubei_lockdowns\"],\n [{\n            'v': 60,\n            'f': \"60\",\n        },\n\"China\",\n\"Guizhou\",\n\"23/01/2020\",\n\"Full\",\n\"https://en.wikipedia.org/wiki/2020_Hubei_lockdowns\"],\n [{\n            'v': 61,\n            'f': \"61\",\n        },\n\"China\",\n\"Hainan\",\n\"23/01/2020\",\n\"Full\",\n\"https://en.wikipedia.org/wiki/2020_Hubei_lockdowns\"],\n [{\n            'v': 62,\n            'f': \"62\",\n        },\n\"China\",\n\"Hebei\",\n\"23/01/2020\",\n\"Full\",\n\"https://en.wikipedia.org/wiki/2020_Hubei_lockdowns\"],\n [{\n            'v': 63,\n            'f': \"63\",\n        },\n\"China\",\n\"Heilongjiang\",\n\"23/01/2020\",\n\"Full\",\n\"https://en.wikipedia.org/wiki/2020_Hubei_lockdowns\"],\n [{\n            'v': 64,\n            'f': \"64\",\n        },\n\"China\",\n\"Henan\",\n\"23/01/2020\",\n\"Full\",\n\"https://en.wikipedia.org/wiki/2020_Hubei_lockdowns\"],\n [{\n            'v': 65,\n            'f': \"65\",\n        },\n\"China\",\n\"Hong Kong\",\n\"23/03/2020\",\n\"Full\",\n\"https://en.wikipedia.org/wiki/2020_coronavirus_pandemic_in_Hong_Kong\"],\n [{\n            'v': 66,\n            'f': \"66\",\n        },\n\"China\",\n\"Hubei\",\n\"23/01/2020\",\n\"Full\",\n\"https://en.wikipedia.org/wiki/2020_Hubei_lockdowns\"],\n [{\n            'v': 67,\n            'f': \"67\",\n        },\n\"China\",\n\"Hunan\",\n\"23/01/2020\",\n\"Full\",\n\"https://en.wikipedia.org/wiki/2020_Hubei_lockdowns\"],\n [{\n            'v': 68,\n            'f': \"68\",\n        },\n\"China\",\n\"Inner Mongolia\",\n\"23/01/2020\",\n\"Full\",\n\"https://en.wikipedia.org/wiki/2020_Hubei_lockdowns\"],\n [{\n            'v': 69,\n            'f': \"69\",\n        },\n\"China\",\n\"Jiangsu\",\n\"23/01/2020\",\n\"Full\",\n\"https://en.wikipedia.org/wiki/2020_Hubei_lockdowns\"],\n [{\n            'v': 70,\n            'f': \"70\",\n        },\n\"China\",\n\"Jiangxi\",\n\"23/01/2020\",\n\"Full\",\n\"https://en.wikipedia.org/wiki/2020_Hubei_lockdowns\"],\n [{\n            'v': 71,\n            'f': \"71\",\n        },\n\"China\",\n\"Jilin\",\n\"23/01/2020\",\n\"Full\",\n\"https://en.wikipedia.org/wiki/2020_Hubei_lockdowns\"],\n [{\n            'v': 72,\n            'f': \"72\",\n        },\n\"China\",\n\"Liaoning\",\n\"23/01/2020\",\n\"Full\",\n\"https://en.wikipedia.org/wiki/2020_Hubei_lockdowns\"],\n [{\n            'v': 73,\n            'f': \"73\",\n        },\n\"China\",\n\"Macau\",\n\"26/01/2020\",\n\"Full\",\n\"https://en.wikipedia.org/wiki/2020_coronavirus_pandemic_in_Macau\"],\n [{\n            'v': 74,\n            'f': \"74\",\n        },\n\"China\",\n\"Ningxia\",\n\"23/01/2020\",\n\"Full\",\n\"https://en.wikipedia.org/wiki/2020_Hubei_lockdowns\"],\n [{\n            'v': 75,\n            'f': \"75\",\n        },\n\"China\",\n\"Qinghai\",\n\"23/01/2020\",\n\"Full\",\n\"https://en.wikipedia.org/wiki/2020_Hubei_lockdowns\"],\n [{\n            'v': 76,\n            'f': \"76\",\n        },\n\"China\",\n\"Shaanxi\",\n\"23/01/2020\",\n\"Full\",\n\"https://en.wikipedia.org/wiki/2020_Hubei_lockdowns\"],\n [{\n            'v': 77,\n            'f': \"77\",\n        },\n\"China\",\n\"Shandong\",\n\"23/01/2020\",\n\"Full\",\n\"https://en.wikipedia.org/wiki/2020_Hubei_lockdowns\"],\n [{\n            'v': 78,\n            'f': \"78\",\n        },\n\"China\",\n\"Shanghai\",\n\"23/01/2020\",\n\"Full\",\n\"https://en.wikipedia.org/wiki/2020_Hubei_lockdowns\"],\n [{\n            'v': 79,\n            'f': \"79\",\n        },\n\"China\",\n\"Shanxi\",\n\"23/01/2020\",\n\"Full\",\n\"https://en.wikipedia.org/wiki/2020_Hubei_lockdowns\"],\n [{\n            'v': 80,\n            'f': \"80\",\n        },\n\"China\",\n\"Sichuan\",\n\"23/01/2020\",\n\"Full\",\n\"https://en.wikipedia.org/wiki/2020_Hubei_lockdowns\"],\n [{\n            'v': 81,\n            'f': \"81\",\n        },\n\"China\",\n\"Tianjin\",\n\"23/01/2020\",\n\"Full\",\n\"https://en.wikipedia.org/wiki/2020_Hubei_lockdowns\"],\n [{\n            'v': 82,\n            'f': \"82\",\n        },\n\"China\",\n\"Tibet\",\n\"23/01/2020\",\n\"Full\",\n\"https://en.wikipedia.org/wiki/2020_Hubei_lockdowns\"],\n [{\n            'v': 83,\n            'f': \"83\",\n        },\n\"China\",\n\"Xinjiang\",\n\"23/01/2020\",\n\"Full\",\n\"https://en.wikipedia.org/wiki/2020_Hubei_lockdowns\"],\n [{\n            'v': 84,\n            'f': \"84\",\n        },\n\"China\",\n\"Yunnan\",\n\"23/01/2020\",\n\"Full\",\n\"https://en.wikipedia.org/wiki/2020_Hubei_lockdowns\"],\n [{\n            'v': 85,\n            'f': \"85\",\n        },\n\"China\",\n\"Zhejiang\",\n\"23/01/2020\",\n\"Full\",\n\"https://en.wikipedia.org/wiki/2020_Hubei_lockdowns\"],\n [{\n            'v': 86,\n            'f': \"86\",\n        },\n\"Colombia\",\nNaN,\n\"25/03/2020\",\n\"Full\",\n\"https://www.theguardian.com/world/2020/mar/23/colombian-groups-exploiting-coronavirus-lockdown-to-kill-activists\"],\n [{\n            'v': 88,\n            'f': \"88\",\n        },\n\"Congo (Kinshasa)\",\nNaN,\n\"19/03/2020\",\n\"Full\",\n\"https://en.wikipedia.org/wiki/2020_coronavirus_pandemic_in_the_Democratic_Republic_of_the_Congo\"],\n [{\n            'v': 89,\n            'f': \"89\",\n        },\n\"Costa Rica\",\nNaN,\n\"15/03/2020\",\n\"Full\",\n\"https://en.wikipedia.org/wiki/2020_coronavirus_pandemic_in_Costa_Rica\"],\n [{\n            'v': 90,\n            'f': \"90\",\n        },\n\"Cote dIvoire\",\nNaN,\n\"29/03/2020\",\n\"Full\",\nNaN],\n [{\n            'v': 91,\n            'f': \"91\",\n        },\n\"Croatia\",\nNaN,\n\"22/03/2020\",\n\"Partial\",\n\"https://www.wfmz.com/news/croatia-quake-injures-amid-partial-coronavirus-lockdown/image_45bd4c4f-1ed0-5361-b5ca-d9d228fc5e5f.html\"],\n [{\n            'v': 93,\n            'f': \"93\",\n        },\n\"Cyprus\",\nNaN,\n\"25/03/2020\",\n\"Full\",\n\"https://www.reuters.com/article/us-health-coronavirus-cyprus-lockdown/cyprus-announces-lockdown-on-coronavirus-until-april-13-idUSKBN21A3C8\"],\n [{\n            'v': 94,\n            'f': \"94\",\n        },\n\"Czechia\",\nNaN,\n\"16/03/2020\",\n\"Full\",\n\"https://en.wikipedia.org/wiki/2020_coronavirus_pandemic_in_the_Czech_Republic\"],\n [{\n            'v': 95,\n            'f': \"95\",\n        },\n\"Denmark\",\n\"Faroe Islands\",\n\"12/03/2020\",\n\"Full\",\n\"https://en.wikipedia.org/wiki/2020_coronavirus_pandemic_in_the_Faroe_Islands\"],\n [{\n            'v': 96,\n            'f': \"96\",\n        },\n\"Denmark\",\nNaN,\n\"11/03/2020\",\n\"Full\",\n\"https://www.businessinsider.com/countries-on-lockdown-coronavirus-italy-2020-3?r=US&IR=T#many-countries-have-also-closed-borders-to-prevent-international-travelers-from-spreading-the-virus-29\"],\n [{\n            'v': 100,\n            'f': \"100\",\n        },\n\"Dominican Republic\",\nNaN,\n\"17/03/2020\",\n\"Full\",\n\"https://en.wikipedia.org/wiki/2020_coronavirus_pandemic_in_the_Dominican_Republic\"],\n [{\n            'v': 101,\n            'f': \"101\",\n        },\n\"Ecuador\",\nNaN,\n\"24/03/2020\",\n\"Partial\",\n\"https://en.wikipedia.org/wiki/2020_coronavirus_pandemic_in_Ecuador\"],\n [{\n            'v': 102,\n            'f': \"102\",\n        },\n\"Egypt\",\nNaN,\n\"24/03/2020\",\n\"Full\",\n\"https://www.thenational.ae/world/mena/curfew-crash-kills-18-as-egypt-enters-lockdown-1.997575\"],\n [{\n            'v': 103,\n            'f': \"103\",\n        },\n\"El Salvador\",\nNaN,\n\"11/03/2020\",\n\"Full\",\n\"https://en.wikipedia.org/wiki/2020_coronavirus_pandemic_in_El_Salvador\"],\n [{\n            'v': 106,\n            'f': \"106\",\n        },\n\"Estonia\",\nNaN,\n\"13/03/2020\",\n\"Full\",\n\"https://en.wikipedia.org/wiki/2020_coronavirus_pandemic_in_Estonia\"],\n [{\n            'v': 108,\n            'f': \"108\",\n        },\n\"Ethiopia\",\nNaN,\n\"16/03/2020\",\n\"Full\",\n\"https://en.wikipedia.org/wiki/2020_coronavirus_pandemic_in_Ethiopia\"],\n [{\n            'v': 109,\n            'f': \"109\",\n        },\n\"Fiji\",\nNaN,\n\"20/03/2020\",\n\"Full\",\n\"https://en.wikipedia.org/wiki/2020_coronavirus_pandemic_in_Fiji\"],\n [{\n            'v': 110,\n            'f': \"110\",\n        },\n\"Finland\",\nNaN,\n\"27/03/2020\",\n\"Full\",\n\"http://global.chinadaily.com.cn/a/202003/27/WS5e7ce399a310128217282530.html\"],\n [{\n            'v': 112,\n            'f': \"112\",\n        },\n\"France\",\n\"French Polynesia\",\n\"27/03/2020\",\n\"Partial\",\n\"https://en.wikipedia.org/wiki/2020_coronavirus_pandemic_in_French_Polynesia\"],\n [{\n            'v': 114,\n            'f': \"114\",\n        },\n\"France\",\n\"Martinique\",\n\"20/03/2020\",\n\"Partial\",\n\"https://en.wikipedia.org/wiki/2020_coronavirus_pandemic_in_Martinique\"],\n [{\n            'v': 120,\n            'f': \"120\",\n        },\n\"France\",\nNaN,\n\"16/03/2020\",\n\"Full\",\n\"https://www.businessinsider.com/countries-on-lockdown-coronavirus-italy-2020-3?r=US&IR=T#spain-became-the-second-european-country-to-impose-a-nationwide-quarantine-on-march-14-on-thursday-the-lockdown-was-extended-to-at-least-april-12-21\"],\n [{\n            'v': 122,\n            'f': \"122\",\n        },\n\"Gambia\",\nNaN,\n\"27/03/2020\",\n\"Full\",\n\"https://en.wikipedia.org/wiki/2020_coronavirus_pandemic_in_the_Gambia\"],\n [{\n            'v': 123,\n            'f': \"123\",\n        },\n\"Georgia\",\nNaN,\n\"22/03/2020\",\n\"Partial\",\n\"https://www.garda.com/crisis24/news-alerts/325581/georgia-government-places-two-cities-on-lockdown-march-22-update-6\"],\n [{\n            'v': 124,\n            'f': \"124\",\n        },\n\"Germany\",\nNaN,\n\"20/03/2020\",\n\"Full\",\n\"https://www.politico.eu/article/german-state-of-bavaria-heads-for-full-coronavirus-lockdown/\"],\n [{\n            'v': 125,\n            'f': \"125\",\n        },\n\"Ghana\",\nNaN,\n\"15/03/2020\",\n\"Full\",\n\"https://en.wikipedia.org/wiki/2020_coronavirus_pandemic_in_Ghana\"],\n [{\n            'v': 126,\n            'f': \"126\",\n        },\n\"Greece\",\nNaN,\n\"18/03/2020\",\n\"Full\",\n\"https://www.tornosnews.gr/en/greek-news/society/39369-greece-in-total-lockdown-from-wednesday-due-to-coronavirus-outbreak.html\"],\n [{\n            'v': 134,\n            'f': \"134\",\n        },\n\"Honduras\",\nNaN,\n\"20/03/2020\",\n\"Partial\",\n\"https://en.wikipedia.org/wiki/2020_coronavirus_pandemic_in_Honduras\"],\n [{\n            'v': 135,\n            'f': \"135\",\n        },\n\"Hungary\",\nNaN,\n\"16/03/2020\",\n\"Full\",\n\"https://en.wikipedia.org/wiki/2020_coronavirus_pandemic_in_Hungary\"],\n [{\n            'v': 136,\n            'f': \"136\",\n        },\n\"Iceland\",\nNaN,\n\"16/03/2020\",\n\"Full\",\n\"https://en.wikipedia.org/wiki/2020_coronavirus_pandemic_in_Iceland\"],\n [{\n            'v': 137,\n            'f': \"137\",\n        },\n\"India\",\nNaN,\n\"24/03/2020\",\n\"Full\",\n\"https://www.businessinsider.com/countries-on-lockdown-coronavirus-italy-2020-3?r=US&IR=T#the-uk-went-into-full-coronavirus-lockdown-on-monday-evening-7\"],\n [{\n            'v': 138,\n            'f': \"138\",\n        },\n\"Indonesia\",\nNaN,\n\"15/03/2020\",\n\"Full\",\n\"https://en.wikipedia.org/wiki/2020_coronavirus_pandemic_in_Indonesia\"],\n [{\n            'v': 139,\n            'f': \"139\",\n        },\n\"Iran\",\nNaN,\n\"15/03/2020\",\n\"Full\",\n\"https://www.dailymail.co.uk/news/article-8109981/Iran-imposes-nationwide-lockdown-24-hours-citizen-checked-coronavirus.html\"],\n [{\n            'v': 140,\n            'f': \"140\",\n        },\n\"Iraq\",\nNaN,\n\"22/03/2020\",\n\"Full\",\n\"https://www.middleeasteye.net/news/coronavirus-iraq-impose-total-lockdown-until-28-march\"],\n [{\n            'v': 141,\n            'f': \"141\",\n        },\n\"Ireland\",\nNaN,\n\"12/03/2020\",\n\"Full\",\n\"https://en.wikipedia.org/wiki/2020_coronavirus_pandemic_in_the_Republic_of_Ireland\"],\n [{\n            'v': 142,\n            'f': \"142\",\n        },\n\"Israel\",\nNaN,\n\"12/03/2020\",\n\"Full\",\n\"https://en.wikipedia.org/wiki/2020_coronavirus_pandemic_in_Israel\"],\n [{\n            'v': 143,\n            'f': \"143\",\n        },\n\"Italy\",\nNaN,\n\"11/03/2020\",\n\"Full\",\n\"https://www.businessinsider.com/countries-on-lockdown-coronavirus-italy-2020-3?r=US&IR=T#the-uk-went-into-full-coronavirus-lockdown-on-monday-evening-7\"],\n [{\n            'v': 144,\n            'f': \"144\",\n        },\n\"Jamaica\",\nNaN,\n\"12/03/2020\",\n\"Full\",\n\"https://en.wikipedia.org/wiki/2020_coronavirus_pandemic_in_Jamaica\"],\n [{\n            'v': 145,\n            'f': \"145\",\n        },\n\"Japan\",\nNaN,\n\"27/02/2020\",\n\"Full\",\n\"https://en.wikipedia.org/wiki/2020_coronavirus_pandemic_in_Japan\"],\n [{\n            'v': 146,\n            'f': \"146\",\n        },\n\"Jersey\",\nNaN,\n\"18/03/2020\",\n\"Full\",\n\"https://en.wikipedia.org/wiki/2020_coronavirus_pandemic_in_Jersey\"],\n [{\n            'v': 147,\n            'f': \"147\",\n        },\n\"Jordan\",\nNaN,\n\"21/03/2020\",\n\"Full\",\n\"https://www.nytimes.com/aponline/2020/03/21/world/middleeast/ap-ml-virus-outbreak-mideast.html\"],\n [{\n            'v': 148,\n            'f': \"148\",\n        },\n\"Kazakhstan\",\nNaN,\n\"15/03/2020\",\n\"Full\",\n\"https://en.wikipedia.org/wiki/2020_coronavirus_pandemic_in_Kazakhstan\"],\n [{\n            'v': 149,\n            'f': \"149\",\n        },\n\"Kenya\",\nNaN,\n\"15/03/2020\",\n\"Full\",\n\"https://en.wikipedia.org/wiki/2020_coronavirus_pandemic_in_Kenya\"],\n [{\n            'v': 150,\n            'f': \"150\",\n        },\n\"Korea, South\",\nNaN,\n\"23/02/2020\",\n\"Full\",\n\"https://en.wikipedia.org/wiki/2020_coronavirus_pandemic_in_South_Korea\"],\n [{\n            'v': 151,\n            'f': \"151\",\n        },\n\"Kosovo\",\nNaN,\n\"25/03/2020\",\n\"Partial\",\n\"https://en.wikipedia.org/wiki/2020_coronavirus_pandemic_in_Kosovo\"],\n [{\n            'v': 152,\n            'f': \"152\",\n        },\n\"Kuwait\",\nNaN,\n\"16/03/2020\",\n\"Partial\",\n\"https://www.cosmopolitanme.com/travel/kuwait-shutdown-due-to-coronavirus\"],\n [{\n            'v': 153,\n            'f': \"153\",\n        },\n\"Kyrgyzstan\",\nNaN,\n\"24/03/2020\",\n\"Partial\",\n\"https://en.wikipedia.org/wiki/2020_coronavirus_pandemic_in_Kyrgyzstan\"],\n [{\n            'v': 155,\n            'f': \"155\",\n        },\n\"Latvia\",\nNaN,\n\"13/03/2020\",\n\"Full\",\n\"https://en.wikipedia.org/wiki/2020_coronavirus_pandemic_in_Latvia\"],\n [{\n            'v': 156,\n            'f': \"156\",\n        },\n\"Lebanon\",\nNaN,\n\"16/03/2020\",\n\"Full\",\n\"https://www.haaretz.com/middle-east-news/lebanon-goes-on-virus-lockdown-as-iraqis-go-panic-shopping-ahead-of-curfew-1.8679069\"],\n [{\n            'v': 159,\n            'f': \"159\",\n        },\n\"Liechtenstein\",\nNaN,\n\"20/03/2020\",\n\"Partial\",\n\"https://en.wikipedia.org/wiki/2020_coronavirus_pandemic_in_Liechtenstein\"],\n [{\n            'v': 160,\n            'f': \"160\",\n        },\n\"Lithuania\",\nNaN,\n\"16/03/2020\",\n\"Full\",\n\"https://www.euractiv.com/section/coronavirus/short_news/lithuania-update-covid-19/\"],\n [{\n            'v': 161,\n            'f': \"161\",\n        },\n\"Luxembourg\",\nNaN,\n\"16/03/2020\",\n\"Full\",\n\"https://luxtimes.lu/luxembourg/40100-germany-border-checks-add-to-luxembourg-virus-lockdown\"],\n [{\n            'v': 162,\n            'f': \"162\",\n        },\n\"Madagascar\",\nNaN,\n\"17/03/2020\",\n\"Partial\",\n\"https://en.wikipedia.org/wiki/2020_coronavirus_pandemic_in_Madagascar\"],\n [{\n            'v': 163,\n            'f': \"163\",\n        },\n\"Malaysia\",\nNaN,\n\"18/03/2020\",\n\"Full\",\n\"https://en.wikipedia.org/wiki/2020_coronavirus_pandemic_in_Malaysia\"],\n [{\n            'v': 164,\n            'f': \"164\",\n        },\n\"Maldives\",\nNaN,\n\"11/03/2020\",\n\"Full\",\n\"https://en.wikipedia.org/wiki/2020_coronavirus_pandemic_in_the_Maldives\"],\n [{\n            'v': 165,\n            'f': \"165\",\n        },\n\"Mali\",\nNaN,\n\"18/03/2020\",\n\"Full\",\n\"https://en.wikipedia.org/wiki/2020_coronavirus_pandemic_in_Mali\"],\n [{\n            'v': 166,\n            'f': \"166\",\n        },\n\"Malta\",\nNaN,\n\"12/03/2020\",\n\"Full\",\n\"https://en.wikipedia.org/wiki/2020_coronavirus_pandemic_in_Malta\"],\n [{\n            'v': 168,\n            'f': \"168\",\n        },\n\"Mauritius\",\nNaN,\n\"17/03/2020\",\n\"Partial\",\n\"https://en.wikipedia.org/wiki/2020_coronavirus_pandemic_in_Mauritius\"],\n [{\n            'v': 169,\n            'f': \"169\",\n        },\n\"Mexico\",\nNaN,\n\"14/03/2020\",\n\"Partial\",\n\"https://en.wikipedia.org/wiki/2020_coronavirus_pandemic_in_Mexico\"],\n [{\n            'v': 170,\n            'f': \"170\",\n        },\n\"Moldova\",\nNaN,\n\"11/03/2020\",\n\"Full\",\n\"https://en.wikipedia.org/wiki/2020_coronavirus_pandemic_in_Moldova\"],\n [{\n            'v': 171,\n            'f': \"171\",\n        },\n\"Monaco\",\nNaN,\n\"17/03/2020\",\n\"Full\",\n\"https://en.wikipedia.org/wiki/2020_coronavirus_pandemic_in_Monaco\"],\n [{\n            'v': 172,\n            'f': \"172\",\n        },\n\"Mongolia\",\nNaN,\n\"10/03/2020\",\n\"Full\",\n\"https://en.wikipedia.org/wiki/2020_coronavirus_pandemic_in_Mongolia\"],\n [{\n            'v': 173,\n            'f': \"173\",\n        },\n\"Montenegro\",\nNaN,\n\"24/03/2020\",\n\"Full\",\n\"https://en.wikipedia.org/wiki/2020_coronavirus_pandemic_in_Montenegro\"],\n [{\n            'v': 174,\n            'f': \"174\",\n        },\n\"Morocco\",\nNaN,\n\"16/03/2020\",\n\"Full\",\n\"https://en.wikipedia.org/wiki/2020_coronavirus_pandemic_in_Morocco\"],\n [{\n            'v': 177,\n            'f': \"177\",\n        },\n\"Namibia\",\nNaN,\n\"14/03/2020\",\n\"Full\",\n\"https://en.wikipedia.org/wiki/2020_coronavirus_pandemic_in_Namibia\"],\n [{\n            'v': 178,\n            'f': \"178\",\n        },\n\"Nepal\",\nNaN,\n\"24/03/2020\",\n\"Full\",\n\"https://edition.cnn.com/travel/article/nepal-trekkers-stranded-coronavirus-scli-intl/index.html\"],\n [{\n            'v': 179,\n            'f': \"179\",\n        },\n\"Netherlands\",\n\"Aruba\",\n\"16/03/2020\",\n\"Full\",\n\"https://en.wikipedia.org/wiki/2020_coronavirus_pandemic_in_Aruba\"],\n [{\n            'v': 180,\n            'f': \"180\",\n        },\n\"Netherlands\",\nNaN,\n\"24/03/2020\",\n\"Full\",\n\"https://www.ukrant.nl/why-the-netherlands-is-not-on-lockdown-yet/?lang=en\"],\n [{\n            'v': 183,\n            'f': \"183\",\n        },\n\"New Zealand\",\nNaN,\n\"25/03/2020\",\n\"Full\",\n\"https://www.bbc.co.uk/news/av/world-52001578/coronavirus-new-zealand-announces-lockdown\"],\n [{\n            'v': 186,\n            'f': \"186\",\n        },\n\"Nigeria\",\nNaN,\n\"25/03/2020\",\n\"Full\",\n\"https://uk.reuters.com/article/uk-health-coronavirus-nigeria-security/nigerian-army-prepares-for-coronavirus-lockdown-mass-burials-idUKKBN21C2BL\"],\n [{\n            'v': 187,\n            'f': \"187\",\n        },\n\"North Macedonia\",\nNaN,\n\"18/03/2020\",\n\"Full\",\n\"https://balkaninsight.com/2020/03/19/volunteers-help-north-macedonias-elderly-survive-lockdown/\"],\n [{\n            'v': 188,\n            'f': \"188\",\n        },\n\"Norway\",\nNaN,\n\"12/03/2020\",\n\"Full\",\n\"https://www.thelocal.no/20200324/norway-extends-coronavirus-lockdown-until-after-easter\"],\n [{\n            'v': 189,\n            'f': \"189\",\n        },\n\"Oman\",\nNaN,\n\"29/03/2020\",\n\"Partial\",\n\"https://www.omanobserver.om/oman-to-suspend-all-domestic-and-international-flights-from-sunday612586-2/\"],\n [{\n            'v': 190,\n            'f': \"190\",\n        },\n\"Pakistan\",\nNaN,\n\"26/03/2020\",\n\"Full\",\n\"https://sourcingjournal.com/topics/sourcing/pakistan-coronavirus-lockdown-garment-factories-closed-synergies-worldwide-levis-202444/\"],\n [{\n            'v': 191,\n            'f': \"191\",\n        },\n\"Palestine\",\nNaN,\n\"05/03/2020\",\n\"Full\",\n\"https://en.wikipedia.org/wiki/2020_coronavirus_pandemic_in_the_State_of_Palestine\"],\n [{\n            'v': 192,\n            'f': \"192\",\n        },\n\"Panama\",\nNaN,\n\"25/03/2020\",\n\"Full\",\n\"https://news.yahoo.com/panama-orders-lockdown-paraguay-closes-borders-072748034.html\"],\n [{\n            'v': 194,\n            'f': \"194\",\n        },\n\"Paraguay\",\nNaN,\n\"15/03/2020\",\n\"Partial\",\n\"https://en.wikipedia.org/wiki/2020_coronavirus_pandemic_in_Paraguay\"],\n [{\n            'v': 195,\n            'f': \"195\",\n        },\n\"Peru\",\nNaN,\n\"10/03/2020\",\n\"Full\",\n\"https://en.wikipedia.org/wiki/2020_coronavirus_pandemic_in_Peru\"],\n [{\n            'v': 196,\n            'f': \"196\",\n        },\n\"Philippines\",\nNaN,\n\"16/03/2020\",\n\"Partial\",\n\"https://en.wikipedia.org/wiki/2020_coronavirus_pandemic_in_the_Philippines\"],\n [{\n            'v': 197,\n            'f': \"197\",\n        },\n\"Poland\",\nNaN,\n\"12/03/2020\",\n\"Full\",\n\"https://en.wikipedia.org/wiki/2020_coronavirus_pandemic_in_Poland\"],\n [{\n            'v': 198,\n            'f': \"198\",\n        },\n\"Portugal\",\nNaN,\n\"18/03/2020\",\n\"Full\",\n\"https://en.wikipedia.org/wiki/2020_coronavirus_pandemic_in_Portugal\"],\n [{\n            'v': 199,\n            'f': \"199\",\n        },\n\"Qatar\",\nNaN,\n\"11/03/2020\",\n\"Full\",\n\"https://www.theguardian.com/global-development/2020/mar/20/covid-19-lockdown-turns-qatars-largest-migrant-camp-into-virtual-prison\"],\n [{\n            'v': 200,\n            'f': \"200\",\n        },\n\"Romania\",\nNaN,\n\"25/03/2020\",\n\"Full\",\n\"https://www.garda.com/crisis24/news-alerts/326626/romania-government-announces-lockdown-measures-on-march-25-update-2\"],\n [{\n            'v': 201,\n            'f': \"201\",\n        },\n\"Russia\",\nNaN,\n\"27/03/2020\",\n\"Full\",\n\"https://www.independent.co.uk/news/world/europe/coronavirus-russia-lockdown-putin-cases-latest-a9429601.html\"],\n [{\n            'v': 202,\n            'f': \"202\",\n        },\n\"Rwanda\",\nNaN,\n\"16/03/2020\",\n\"Full\",\n\"https://en.wikipedia.org/wiki/2020_coronavirus_pandemic_in_Rwanda\"],\n [{\n            'v': 204,\n            'f': \"204\",\n        },\n\"Saint Lucia\",\nNaN,\n\"20/03/2020\",\n\"Full\",\n\"https://en.wikipedia.org/wiki/2020_coronavirus_pandemic_in_Saint_Lucia\"],\n [{\n            'v': 206,\n            'f': \"206\",\n        },\n\"San Marino\",\nNaN,\n\"09/03/2020\",\n\"Full\",\n\"https://en.wikipedia.org/wiki/2020_Italy_coronavirus_lockdown\"],\n [{\n            'v': 207,\n            'f': \"207\",\n        },\n\"Saudi Arabia\",\nNaN,\n\"15/03/2020\",\n\"Full\",\n\"https://en.wikipedia.org/wiki/2020_coronavirus_pandemic_in_Saudi_Arabia\"],\n [{\n            'v': 208,\n            'f': \"208\",\n        },\n\"Senegal\",\nNaN,\n\"24/03/2020\",\n\"Partial\",\n\"https://www.deccanherald.com/international/china-offers-to-build-makeshift-covid-19-hospitals-in-india-818718.html\"],\n [{\n            'v': 209,\n            'f': \"209\",\n        },\n\"Serbia\",\nNaN,\n\"15/03/2020\",\n\"Full\",\n\"https://en.wikipedia.org/wiki/2020_coronavirus_pandemic_in_Serbia\"],\n [{\n            'v': 212,\n            'f': \"212\",\n        },\n\"Singapore\",\nNaN,\n\"26/03/2020\",\n\"Partial\",\n\"https://en.wikipedia.org/wiki/2020_coronavirus_pandemic_in_Singapore\"],\n [{\n            'v': 213,\n            'f': \"213\",\n        },\n\"Slovakia\",\nNaN,\n\"09/03/2020\",\n\"Full\",\n\"https://en.wikipedia.org/wiki/2020_coronavirus_pandemic_in_Slovakia\"],\n [{\n            'v': 214,\n            'f': \"214\",\n        },\n\"Slovenia\",\nNaN,\n\"11/03/2020\",\n\"Full\",\n\"https://en.wikipedia.org/wiki/2020_coronavirus_pandemic_in_Slovenia\"],\n [{\n            'v': 215,\n            'f': \"215\",\n        },\n\"Somalia\",\nNaN,\n\"19/03/2020\",\n\"Full\",\n\"https://en.wikipedia.org/wiki/2020_coronavirus_pandemic_in_Somalia\"],\n [{\n            'v': 216,\n            'f': \"216\",\n        },\n\"South Africa\",\nNaN,\n\"26/03/2020\",\n\"Full\",\n\"https://www.deccanherald.com/international/china-offers-to-build-makeshift-covid-19-hospitals-in-india-818718.html\"],\n [{\n            'v': 217,\n            'f': \"217\",\n        },\n\"Spain\",\nNaN,\n\"14/03/2020\",\n\"Full\",\n\"https://www.businessinsider.com/countries-on-lockdown-coronavirus-italy-2020-3?r=US&IR=T#the-uk-went-into-full-coronavirus-lockdown-on-monday-evening-7\"],\n [{\n            'v': 218,\n            'f': \"218\",\n        },\n\"Sri Lanka\",\nNaN,\n\"21/03/2020\",\n\"Full\",\n\"https://www.deccanherald.com/international/china-offers-to-build-makeshift-covid-19-hospitals-in-india-818718.html\"],\n [{\n            'v': 222,\n            'f': \"222\",\n        },\n\"Switzerland\",\nNaN,\n\"18/03/2020\",\n\"Full\",\n\"https://www.cnnmoney.ch/shows/big-picture/videos/switzerland-desperate-race-stay-ahead-coronavirus\"],\n [{\n            'v': 223,\n            'f': \"223\",\n        },\n\"Syria\",\nNaN,\n\"14/03/2020\",\n\"Full\",\n\"https://en.wikipedia.org/wiki/2020_coronavirus_pandemic_in_Syria\"],\n [{\n            'v': 224,\n            'f': \"224\",\n        },\n\"Taiwan*\",\nNaN,\n\"02/02/2020\",\n\"Full\",\n\"https://en.wikipedia.org/wiki/2020_coronavirus_pandemic_in_Taiwan\"],\n [{\n            'v': 226,\n            'f': \"226\",\n        },\n\"Thailand\",\nNaN,\n\"22/03/2020\",\n\"Full\",\n\"https://en.wikipedia.org/wiki/2020_coronavirus_pandemic_in_Thailand\"],\n [{\n            'v': 228,\n            'f': \"228\",\n        },\n\"Togo\",\nNaN,\n\"20/03/2020\",\n\"Partial\",\n\"https://en.wikipedia.org/wiki/2020_coronavirus_pandemic_in_Togo\"],\n [{\n            'v': 229,\n            'f': \"229\",\n        },\n\"Trinidad and Tobago\",\nNaN,\n\"13/03/2020\",\n\"Full\",\n\"https://en.wikipedia.org/wiki/2020_coronavirus_pandemic_in_Trinidad_and_Tobago\"],\n [{\n            'v': 230,\n            'f': \"230\",\n        },\n\"Tunisia\",\nNaN,\n\"20/03/2020\",\n\"Full\",\n\"https://www.france24.com/en/20200320-tunisia-orders-general-lockdown-in-bid-to-contain-coronavirus\"],\n [{\n            'v': 231,\n            'f': \"231\",\n        },\n\"Turkey\",\nNaN,\n\"23/03/2020\",\n\"Full\",\n\"https://en.wikipedia.org/wiki/2020_coronavirus_pandemic_in_Turkey\"],\n [{\n            'v': 232,\n            'f': \"232\",\n        },\n\"Uganda\",\nNaN,\n\"18/03/2020\",\n\"Full\",\n\"https://en.wikipedia.org/wiki/2020_coronavirus_pandemic_in_Uganda\"],\n [{\n            'v': 233,\n            'f': \"233\",\n        },\n\"Ukraine\",\nNaN,\n\"17/03/2020\",\n\"Full\",\n\"https://www.ukrinform.net/rubric-society/2899162-ten-facts-about-coronavirus-lockdown-in-ukraine.html\"],\n [{\n            'v': 234,\n            'f': \"234\",\n        },\n\"United Arab Emirates\",\nNaN,\n\"24/03/2020\",\n\"Full\",\n\"https://uk.reuters.com/article/uk-health-coronavirus-saudi/saudi-reports-first-coronavirus-death-uae-gears-up-for-lockdown-idUKKBN21B1YM\"],\n [{\n            'v': 235,\n            'f': \"235\",\n        },\n\"United Kingdom\",\n\"Anguilla\",\n\"18/03/2020\",\n\"Full\",\n\"https://en.wikipedia.org/wiki/2020_coronavirus_pandemic_in_Anguilla\"],\n [{\n            'v': 240,\n            'f': \"240\",\n        },\n\"United Kingdom\",\n\"Gibraltar\",\n\"24/03/2020\",\n\"Full\",\n\"https://www.theolivepress.es/spain-news/2020/03/22/full-lockdown-in-gibraltar-from-tuesday-morning-as-coronavirus-spikes/\"],\n [{\n            'v': 241,\n            'f': \"241\",\n        },\n\"United Kingdom\",\n\"Isle of Man\",\n\"23/03/2020\",\n\"Full\",\n\"https://en.wikipedia.org/wiki/2020_coronavirus_pandemic_in_the_Isle_of_Man\"],\n [{\n            'v': 243,\n            'f': \"243\",\n        },\n\"United Kingdom\",\n\"Turks and Caicos Islands\",\n\"27/03/2020\",\n\"Full\",\n\"https://en.wikipedia.org/wiki/2020_coronavirus_pandemic_in_the_Turks_and_Caicos_Islands\"],\n [{\n            'v': 244,\n            'f': \"244\",\n        },\n\"United Kingdom\",\nNaN,\n\"23/03/2020\",\n\"Full\",\n\"https://www.businessinsider.com/countries-on-lockdown-coronavirus-italy-2020-3?r=US&IR=T#the-uk-went-into-full-coronavirus-lockdown-on-monday-evening-7\"],\n [{\n            'v': 245,\n            'f': \"245\",\n        },\n\"Uruguay\",\nNaN,\n\"16/03/2020\",\n\"Full\",\n\"https://en.wikipedia.org/wiki/2020_coronavirus_pandemic_in_Uruguay\"],\n [{\n            'v': 246,\n            'f': \"246\",\n        },\n\"US\",\n\"Alabama\",\n\"04/04/2020\",\n\"Full\",\n\"https://en.wikipedia.org/wiki/2020_coronavirus_pandemic_in_the_United_States\"],\n [{\n            'v': 247,\n            'f': \"247\",\n        },\n\"US\",\n\"Alaska\",\n\"28/03/2020\",\n\"Full\",\n\"https://en.wikipedia.org/wiki/2020_coronavirus_pandemic_in_the_United_States\"],\n [{\n            'v': 248,\n            'f': \"248\",\n        },\n\"US\",\n\"Arizona\",\n\"31/03/2020\",\n\"Full\",\n\"https://en.wikipedia.org/wiki/2020_coronavirus_pandemic_in_the_United_States\"],\n [{\n            'v': 250,\n            'f': \"250\",\n        },\n\"US\",\n\"California\",\n\"19/03/2020\",\n\"Full\",\n\"https://en.wikipedia.org/wiki/2020_coronavirus_pandemic_in_the_United_States\"],\n [{\n            'v': 251,\n            'f': \"251\",\n        },\n\"US\",\n\"Colorado\",\n\"26/03/2020\",\n\"Full\",\n\"https://en.wikipedia.org/wiki/2020_coronavirus_pandemic_in_the_United_States\"],\n [{\n            'v': 252,\n            'f': \"252\",\n        },\n\"US\",\n\"Connecticut\",\n\"23/03/2020\",\n\"Full\",\n\"https://en.wikipedia.org/wiki/2020_coronavirus_pandemic_in_the_United_States\"],\n [{\n            'v': 253,\n            'f': \"253\",\n        },\n\"US\",\n\"Delaware\",\n\"24/03/2020\",\n\"Full\",\n\"https://en.wikipedia.org/wiki/2020_coronavirus_pandemic_in_the_United_States\"],\n [{\n            'v': 255,\n            'f': \"255\",\n        },\n\"US\",\n\"Florida\",\n\"02/04/2020\",\n\"Full\",\n\"https://en.wikipedia.org/wiki/2020_coronavirus_pandemic_in_the_United_States\"],\n [{\n            'v': 257,\n            'f': \"257\",\n        },\n\"US\",\n\"Guam\",\n\"26/03/2020\",\n\"Full\",\n\"https://en.wikipedia.org/wiki/2020_coronavirus_pandemic_in_Guam\"],\n [{\n            'v': 258,\n            'f': \"258\",\n        },\n\"US\",\n\"Hawaii\",\n\"25/03/2020\",\n\"Full\",\n\"https://en.wikipedia.org/wiki/2020_coronavirus_pandemic_in_the_United_States\"],\n [{\n            'v': 259,\n            'f': \"259\",\n        },\n\"US\",\n\"Idaho\",\n\"25/03/2020\",\n\"Full\",\n\"https://en.wikipedia.org/wiki/2020_coronavirus_pandemic_in_the_United_States\"],\n [{\n            'v': 260,\n            'f': \"260\",\n        },\n\"US\",\n\"Illinois\",\n\"21/03/2020\",\n\"Full\",\n\"https://en.wikipedia.org/wiki/2020_coronavirus_pandemic_in_the_United_States\"],\n [{\n            'v': 261,\n            'f': \"261\",\n        },\n\"US\",\n\"Indiana\",\n\"24/03/2020\",\n\"Full\",\n\"https://en.wikipedia.org/wiki/2020_coronavirus_pandemic_in_the_United_States\"],\n [{\n            'v': 263,\n            'f': \"263\",\n        },\n\"US\",\n\"Kansas\",\n\"30/03/2020\",\n\"Full\",\n\"https://en.wikipedia.org/wiki/2020_coronavirus_pandemic_in_the_United_States\"],\n [{\n            'v': 264,\n            'f': \"264\",\n        },\n\"US\",\n\"Kentucky\",\n\"26/03/2020\",\n\"Full\",\n\"https://en.wikipedia.org/wiki/2020_coronavirus_pandemic_in_the_United_States\"],\n [{\n            'v': 265,\n            'f': \"265\",\n        },\n\"US\",\n\"Louisiana\",\n\"23/03/2020\",\n\"Full\",\n\"https://en.wikipedia.org/wiki/2020_coronavirus_pandemic_in_the_United_States\"],\n [{\n            'v': 266,\n            'f': \"266\",\n        },\n\"US\",\n\"Maine\",\n\"02/04/2020\",\n\"Full\",\n\"https://en.wikipedia.org/wiki/2020_coronavirus_pandemic_in_the_United_States\"],\n [{\n            'v': 267,\n            'f': \"267\",\n        },\n\"US\",\n\"Maryland\",\n\"30/03/2020\",\n\"Full\",\n\"https://en.wikipedia.org/wiki/2020_coronavirus_pandemic_in_the_United_States\"],\n [{\n            'v': 268,\n            'f': \"268\",\n        },\n\"US\",\n\"Massachusetts\",\n\"24/03/2020\",\n\"Full\",\n\"https://en.wikipedia.org/wiki/2020_coronavirus_pandemic_in_the_United_States\"],\n [{\n            'v': 269,\n            'f': \"269\",\n        },\n\"US\",\n\"Michigan\",\n\"24/03/2020\",\n\"Full\",\n\"https://en.wikipedia.org/wiki/2020_coronavirus_pandemic_in_the_United_States\"],\n [{\n            'v': 270,\n            'f': \"270\",\n        },\n\"US\",\n\"Minnesota\",\n\"27/03/2020\",\n\"Full\",\n\"https://en.wikipedia.org/wiki/2020_coronavirus_pandemic_in_the_United_States\"],\n [{\n            'v': 271,\n            'f': \"271\",\n        },\n\"US\",\n\"Mississippi\",\n\"03/04/2020\",\n\"Full\",\n\"https://en.wikipedia.org/wiki/2020_coronavirus_pandemic_in_the_United_States\"],\n [{\n            'v': 272,\n            'f': \"272\",\n        },\n\"US\",\n\"Missouri\",\n\"06/04/2020\",\n\"Full\",\n\"https://en.wikipedia.org/wiki/2020_coronavirus_pandemic_in_the_United_States\"],\n [{\n            'v': 273,\n            'f': \"273\",\n        },\n\"US\",\n\"Montana\",\n\"28/03/2020\",\n\"Full\",\n\"https://en.wikipedia.org/wiki/2020_coronavirus_pandemic_in_the_United_States\"],\n [{\n            'v': 275,\n            'f': \"275\",\n        },\n\"US\",\n\"Nevada\",\n\"02/04/2020\",\n\"Full\",\n\"https://en.wikipedia.org/wiki/2020_coronavirus_pandemic_in_the_United_States\"],\n [{\n            'v': 276,\n            'f': \"276\",\n        },\n\"US\",\n\"New Hampshire\",\n\"27/03/2020\",\n\"Full\",\n\"https://en.wikipedia.org/wiki/2020_coronavirus_pandemic_in_the_United_States\"],\n [{\n            'v': 277,\n            'f': \"277\",\n        },\n\"US\",\n\"New Jersey\",\n\"21/03/2020\",\n\"Full\",\n\"https://en.wikipedia.org/wiki/2020_coronavirus_pandemic_in_the_United_States\"],\n [{\n            'v': 278,\n            'f': \"278\",\n        },\n\"US\",\n\"New Mexico\",\n\"24/03/2020\",\n\"Full\",\n\"https://en.wikipedia.org/wiki/2020_coronavirus_pandemic_in_the_United_States\"],\n [{\n            'v': 279,\n            'f': \"279\",\n        },\n\"US\",\n\"New York\",\n\"22/03/2020\",\n\"Full\",\n\"https://en.wikipedia.org/wiki/2020_coronavirus_pandemic_in_the_United_States\"],\n [{\n            'v': 280,\n            'f': \"280\",\n        },\n\"US\",\n\"North Carolina\",\n\"30/03/2020\",\n\"Full\",\n\"https://en.wikipedia.org/wiki/2020_coronavirus_pandemic_in_the_United_States\"],\n [{\n            'v': 282,\n            'f': \"282\",\n        },\n\"US\",\n\"Ohio\",\n\"23/03/2020\",\n\"Full\",\n\"https://en.wikipedia.org/wiki/2020_coronavirus_pandemic_in_the_United_States\"],\n [{\n            'v': 284,\n            'f': \"284\",\n        },\n\"US\",\n\"Oregon\",\n\"23/03/2020\",\n\"Full\",\n\"https://en.wikipedia.org/wiki/2020_coronavirus_pandemic_in_the_United_States\"],\n [{\n            'v': 285,\n            'f': \"285\",\n        },\n\"US\",\n\"Pennsylvania\",\n\"02/04/2020\",\n\"Full\",\n\"https://en.wikipedia.org/wiki/2020_coronavirus_pandemic_in_the_United_States\"],\n [{\n            'v': 286,\n            'f': \"286\",\n        },\n\"US\",\n\"Puerto Rico\",\n\"13/03/2020\",\n\"Full\",\n\"https://en.wikipedia.org/wiki/2020_coronavirus_pandemic_in_Puerto_Rico\"],\n [{\n            'v': 287,\n            'f': \"287\",\n        },\n\"US\",\n\"Rhode Island\",\n\"28/03/2020\",\n\"Full\",\n\"https://en.wikipedia.org/wiki/2020_coronavirus_pandemic_in_the_United_States\"],\n [{\n            'v': 290,\n            'f': \"290\",\n        },\n\"US\",\n\"Tennessee\",\n\"31/03/2020\",\n\"Full\",\n\"https://en.wikipedia.org/wiki/2020_coronavirus_pandemic_in_the_United_States\"],\n [{\n            'v': 291,\n            'f': \"291\",\n        },\n\"US\",\n\"Texas\",\n\"02/04/2020\",\n\"Full\",\n\"https://en.wikipedia.org/wiki/2020_coronavirus_pandemic_in_the_United_States\"],\n [{\n            'v': 293,\n            'f': \"293\",\n        },\n\"US\",\n\"Vermont\",\n\"25/03/2020\",\n\"Full\",\n\"https://en.wikipedia.org/wiki/2020_coronavirus_pandemic_in_the_United_States\"],\n [{\n            'v': 294,\n            'f': \"294\",\n        },\n\"US\",\n\"Virgin Islands\",\n\"25/03/2020\",\n\"Full\",\n\"https://en.wikipedia.org/wiki/2020_coronavirus_pandemic_in_the_United_States_Virgin_Islands\"],\n [{\n            'v': 295,\n            'f': \"295\",\n        },\n\"US\",\n\"Virginia\",\n\"30/03/2020\",\n\"Full\",\n\"https://en.wikipedia.org/wiki/2020_coronavirus_pandemic_in_the_United_States\"],\n [{\n            'v': 296,\n            'f': \"296\",\n        },\n\"US\",\n\"Washington\",\n\"23/03/2020\",\n\"Full\",\n\"https://en.wikipedia.org/wiki/2020_coronavirus_pandemic_in_the_United_States\"],\n [{\n            'v': 297,\n            'f': \"297\",\n        },\n\"US\",\n\"West Virginia\",\n\"24/03/2020\",\n\"Full\",\n\"https://en.wikipedia.org/wiki/2020_coronavirus_pandemic_in_the_United_States\"],\n [{\n            'v': 298,\n            'f': \"298\",\n        },\n\"US\",\n\"Wisconsin\",\n\"25/03/2020\",\n\"Full\",\n\"https://en.wikipedia.org/wiki/2020_coronavirus_pandemic_in_the_United_States\"],\n [{\n            'v': 300,\n            'f': \"300\",\n        },\n\"Uzbekistan\",\nNaN,\n\"20/03/2020\",\n\"Partial\",\n\"https://en.wikipedia.org/wiki/2020_coronavirus_pandemic_in_Uzbekistan\"],\n [{\n            'v': 301,\n            'f': \"301\",\n        },\n\"Vatican City\",\nNaN,\n\"10/03/2020\",\n\"Full\",\n\"https://en.wikipedia.org/wiki/2020_coronavirus_pandemic_in_Vatican_City\"],\n [{\n            'v': 302,\n            'f': \"302\",\n        },\n\"Venezuela\",\nNaN,\n\"16/03/2020\",\n\"Full\",\n\"https://en.wikipedia.org/wiki/2020_coronavirus_pandemic_in_Venezuela\"],\n [{\n            'v': 303,\n            'f': \"303\",\n        },\n\"Vietnam\",\nNaN,\n\"19/03/2020\",\n\"Full\",\n\"https://en.wikipedia.org/wiki/2020_coronavirus_pandemic_in_Vietnam\"],\n [{\n            'v': 304,\n            'f': \"304\",\n        },\n\"West Bank and Gaza\",\nNaN,\n\"05/03/2020\",\n\"Full\",\nNaN],\n [{\n            'v': 306,\n            'f': \"306\",\n        },\n\"Zimbabwe\",\nNaN,\n\"27/03/2020\",\n\"Full\",\n\"https://en.wikipedia.org/wiki/2020_coronavirus_pandemic_in_Zimbabwe\"]],\n        columns: [[\"number\", \"index\"], [\"string\", \"country_region\"], [\"string\", \"province\"], [\"string\", \"date\"], [\"string\", \"type\"], [\"string\", \"reference\"]],\n        columnOptions: [{\"width\": \"1px\", \"className\": \"index_column\"}],\n        rowsPerPage: 25,\n        helpUrl: \"https://colab.research.google.com/notebooks/data_table.ipynb\",\n        suppressOutputScrolling: true,\n        minimumWidth: undefined,\n      });\n    ",
            "text/html": [
              "<div>\n",
              "<style scoped>\n",
              "    .dataframe tbody tr th:only-of-type {\n",
              "        vertical-align: middle;\n",
              "    }\n",
              "\n",
              "    .dataframe tbody tr th {\n",
              "        vertical-align: top;\n",
              "    }\n",
              "\n",
              "    .dataframe thead th {\n",
              "        text-align: right;\n",
              "    }\n",
              "</style>\n",
              "<table border=\"1\" class=\"dataframe\">\n",
              "  <thead>\n",
              "    <tr style=\"text-align: right;\">\n",
              "      <th></th>\n",
              "      <th>country_region</th>\n",
              "      <th>province</th>\n",
              "      <th>date</th>\n",
              "      <th>type</th>\n",
              "      <th>reference</th>\n",
              "    </tr>\n",
              "  </thead>\n",
              "  <tbody>\n",
              "    <tr>\n",
              "      <th>0</th>\n",
              "      <td>Afghanistan</td>\n",
              "      <td>NaN</td>\n",
              "      <td>24/03/2020</td>\n",
              "      <td>Full</td>\n",
              "      <td>https://www.thestatesman.com/world/afghan-govt...</td>\n",
              "    </tr>\n",
              "    <tr>\n",
              "      <th>1</th>\n",
              "      <td>Albania</td>\n",
              "      <td>NaN</td>\n",
              "      <td>08/03/2020</td>\n",
              "      <td>Full</td>\n",
              "      <td>https://en.wikipedia.org/wiki/2020_coronavirus...</td>\n",
              "    </tr>\n",
              "    <tr>\n",
              "      <th>2</th>\n",
              "      <td>Algeria</td>\n",
              "      <td>NaN</td>\n",
              "      <td>24/03/2020</td>\n",
              "      <td>Full</td>\n",
              "      <td>https://www.garda.com/crisis24/news-alerts/325...</td>\n",
              "    </tr>\n",
              "    <tr>\n",
              "      <th>3</th>\n",
              "      <td>Andorra</td>\n",
              "      <td>NaN</td>\n",
              "      <td>16/03/2020</td>\n",
              "      <td>Full</td>\n",
              "      <td>https://en.wikipedia.org/wiki/2020_coronavirus...</td>\n",
              "    </tr>\n",
              "    <tr>\n",
              "      <th>4</th>\n",
              "      <td>Angola</td>\n",
              "      <td>NaN</td>\n",
              "      <td>24/03/2020</td>\n",
              "      <td>Full</td>\n",
              "      <td>https://en.wikipedia.org/wiki/2020_coronavirus...</td>\n",
              "    </tr>\n",
              "    <tr>\n",
              "      <th>...</th>\n",
              "      <td>...</td>\n",
              "      <td>...</td>\n",
              "      <td>...</td>\n",
              "      <td>...</td>\n",
              "      <td>...</td>\n",
              "    </tr>\n",
              "    <tr>\n",
              "      <th>301</th>\n",
              "      <td>Vatican City</td>\n",
              "      <td>NaN</td>\n",
              "      <td>10/03/2020</td>\n",
              "      <td>Full</td>\n",
              "      <td>https://en.wikipedia.org/wiki/2020_coronavirus...</td>\n",
              "    </tr>\n",
              "    <tr>\n",
              "      <th>302</th>\n",
              "      <td>Venezuela</td>\n",
              "      <td>NaN</td>\n",
              "      <td>16/03/2020</td>\n",
              "      <td>Full</td>\n",
              "      <td>https://en.wikipedia.org/wiki/2020_coronavirus...</td>\n",
              "    </tr>\n",
              "    <tr>\n",
              "      <th>303</th>\n",
              "      <td>Vietnam</td>\n",
              "      <td>NaN</td>\n",
              "      <td>19/03/2020</td>\n",
              "      <td>Full</td>\n",
              "      <td>https://en.wikipedia.org/wiki/2020_coronavirus...</td>\n",
              "    </tr>\n",
              "    <tr>\n",
              "      <th>304</th>\n",
              "      <td>West Bank and Gaza</td>\n",
              "      <td>NaN</td>\n",
              "      <td>05/03/2020</td>\n",
              "      <td>Full</td>\n",
              "      <td>NaN</td>\n",
              "    </tr>\n",
              "    <tr>\n",
              "      <th>306</th>\n",
              "      <td>Zimbabwe</td>\n",
              "      <td>NaN</td>\n",
              "      <td>27/03/2020</td>\n",
              "      <td>Full</td>\n",
              "      <td>https://en.wikipedia.org/wiki/2020_coronavirus...</td>\n",
              "    </tr>\n",
              "  </tbody>\n",
              "</table>\n",
              "<p>230 rows × 5 columns</p>\n",
              "</div>"
            ],
            "text/plain": [
              "         country_region  ...                                          reference\n",
              "0           Afghanistan  ...  https://www.thestatesman.com/world/afghan-govt...\n",
              "1               Albania  ...  https://en.wikipedia.org/wiki/2020_coronavirus...\n",
              "2               Algeria  ...  https://www.garda.com/crisis24/news-alerts/325...\n",
              "3               Andorra  ...  https://en.wikipedia.org/wiki/2020_coronavirus...\n",
              "4                Angola  ...  https://en.wikipedia.org/wiki/2020_coronavirus...\n",
              "..                  ...  ...                                                ...\n",
              "301        Vatican City  ...  https://en.wikipedia.org/wiki/2020_coronavirus...\n",
              "302           Venezuela  ...  https://en.wikipedia.org/wiki/2020_coronavirus...\n",
              "303             Vietnam  ...  https://en.wikipedia.org/wiki/2020_coronavirus...\n",
              "304  West Bank and Gaza  ...                                                NaN\n",
              "306            Zimbabwe  ...  https://en.wikipedia.org/wiki/2020_coronavirus...\n",
              "\n",
              "[230 rows x 5 columns]"
            ]
          },
          "metadata": {},
          "execution_count": 17
        }
      ]
    },
    {
      "cell_type": "code",
      "metadata": {
        "colab": {
          "base_uri": "https://localhost:8080/",
          "height": 35
        },
        "id": "hlnjPZLkDXYG",
        "outputId": "1539568f-0825-4208-96da-641e673d68d4"
      },
      "source": [
        "# let's change the date format to make it easier to use\n",
        "# now, it's `dd-mm-yyyy`, so, let's convert it to `yyyy-mm-dd`\n",
        "# e.g. 16/03/2020 --> 2020-03-16\n",
        "\n",
        "from datetime import datetime\n",
        "\n",
        "datetime.strptime('16/03/2020', '%d/%m/%Y').strftime('%Y-%m-%d')"
      ],
      "execution_count": null,
      "outputs": [
        {
          "output_type": "display_data",
          "data": {
            "text/html": [
              "\n",
              "  <style>\n",
              "    pre {\n",
              "        white-space: pre-wrap;\n",
              "    }\n",
              "  </style>\n",
              "  "
            ],
            "text/plain": [
              "<IPython.core.display.HTML object>"
            ]
          },
          "metadata": {}
        },
        {
          "output_type": "execute_result",
          "data": {
            "application/vnd.google.colaboratory.intrinsic+json": {
              "type": "string"
            },
            "text/plain": [
              "'2020-03-16'"
            ]
          },
          "metadata": {},
          "execution_count": 18
        }
      ]
    },
    {
      "cell_type": "code",
      "metadata": {
        "colab": {
          "base_uri": "https://localhost:8080/",
          "height": 34
        },
        "id": "dqhK0U2qFiUD",
        "outputId": "f5b744ee-2854-4afd-a20a-8a4b1b0718bd"
      },
      "source": [
        "# check if date column have any null values\n",
        "df.date.isnull().values.any()"
      ],
      "execution_count": null,
      "outputs": [
        {
          "output_type": "display_data",
          "data": {
            "text/html": [
              "\n",
              "  <style>\n",
              "    pre {\n",
              "        white-space: pre-wrap;\n",
              "    }\n",
              "  </style>\n",
              "  "
            ],
            "text/plain": [
              "<IPython.core.display.HTML object>"
            ]
          },
          "metadata": {}
        },
        {
          "output_type": "execute_result",
          "data": {
            "text/plain": [
              "False"
            ]
          },
          "metadata": {},
          "execution_count": 19
        }
      ]
    },
    {
      "cell_type": "code",
      "metadata": {
        "colab": {
          "base_uri": "https://localhost:8080/",
          "height": 221
        },
        "id": "JE3koeFdFRFU",
        "outputId": "cf0569ea-f4fd-4efe-f1fd-e9984558d563"
      },
      "source": [
        "df.date = df.date.apply(\n",
        "    lambda x : datetime.strptime(x, '%d/%m/%Y').strftime('%Y-%m-%d')\n",
        ")\n",
        "df.date"
      ],
      "execution_count": null,
      "outputs": [
        {
          "output_type": "display_data",
          "data": {
            "text/html": [
              "\n",
              "  <style>\n",
              "    pre {\n",
              "        white-space: pre-wrap;\n",
              "    }\n",
              "  </style>\n",
              "  "
            ],
            "text/plain": [
              "<IPython.core.display.HTML object>"
            ]
          },
          "metadata": {}
        },
        {
          "output_type": "execute_result",
          "data": {
            "text/plain": [
              "0      2020-03-24\n",
              "1      2020-03-08\n",
              "2      2020-03-24\n",
              "3      2020-03-16\n",
              "4      2020-03-24\n",
              "          ...    \n",
              "301    2020-03-10\n",
              "302    2020-03-16\n",
              "303    2020-03-19\n",
              "304    2020-03-05\n",
              "306    2020-03-27\n",
              "Name: date, Length: 230, dtype: object"
            ]
          },
          "metadata": {},
          "execution_count": 20
        }
      ]
    },
    {
      "cell_type": "code",
      "metadata": {
        "colab": {
          "base_uri": "https://localhost:8080/",
          "height": 623
        },
        "id": "PVc_37SkDIUW",
        "outputId": "ad7a2fa9-7f2a-4219-9afa-033cfc00c1e5"
      },
      "source": [
        "df.sort_values(by='date', ascending=True)"
      ],
      "execution_count": null,
      "outputs": [
        {
          "output_type": "display_data",
          "data": {
            "text/html": [
              "\n",
              "  <style>\n",
              "    pre {\n",
              "        white-space: pre-wrap;\n",
              "    }\n",
              "  </style>\n",
              "  "
            ],
            "text/plain": [
              "<IPython.core.display.HTML object>"
            ]
          },
          "metadata": {}
        },
        {
          "output_type": "execute_result",
          "data": {
            "application/vnd.google.colaboratory.module+javascript": "\n      import \"https://ssl.gstatic.com/colaboratory/data_table/a6224c040fa35dcf/data_table.js\";\n\n      window.createDataTable({\n        data: [[{\n            'v': 81,\n            'f': \"81\",\n        },\n\"China\",\n\"Tianjin\",\n\"2020-01-23\",\n\"Full\",\n\"https://en.wikipedia.org/wiki/2020_Hubei_lockdowns\"],\n [{\n            'v': 84,\n            'f': \"84\",\n        },\n\"China\",\n\"Yunnan\",\n\"2020-01-23\",\n\"Full\",\n\"https://en.wikipedia.org/wiki/2020_Hubei_lockdowns\"],\n [{\n            'v': 83,\n            'f': \"83\",\n        },\n\"China\",\n\"Xinjiang\",\n\"2020-01-23\",\n\"Full\",\n\"https://en.wikipedia.org/wiki/2020_Hubei_lockdowns\"],\n [{\n            'v': 53,\n            'f': \"53\",\n        },\n\"China\",\n\"Anhui\",\n\"2020-01-23\",\n\"Full\",\n\"https://en.wikipedia.org/wiki/2020_Hubei_lockdowns\"],\n [{\n            'v': 54,\n            'f': \"54\",\n        },\n\"China\",\n\"Beijing\",\n\"2020-01-23\",\n\"Full\",\n\"https://en.wikipedia.org/wiki/2020_Hubei_lockdowns\"],\n [{\n            'v': 55,\n            'f': \"55\",\n        },\n\"China\",\n\"Chongqing\",\n\"2020-01-23\",\n\"Full\",\n\"https://en.wikipedia.org/wiki/2020_Hubei_lockdowns\"],\n [{\n            'v': 56,\n            'f': \"56\",\n        },\n\"China\",\n\"Fujian\",\n\"2020-01-23\",\n\"Full\",\n\"https://en.wikipedia.org/wiki/2020_Hubei_lockdowns\"],\n [{\n            'v': 57,\n            'f': \"57\",\n        },\n\"China\",\n\"Gansu\",\n\"2020-01-23\",\n\"Full\",\n\"https://en.wikipedia.org/wiki/2020_Hubei_lockdowns\"],\n [{\n            'v': 58,\n            'f': \"58\",\n        },\n\"China\",\n\"Guangdong\",\n\"2020-01-23\",\n\"Full\",\n\"https://en.wikipedia.org/wiki/2020_Hubei_lockdowns\"],\n [{\n            'v': 59,\n            'f': \"59\",\n        },\n\"China\",\n\"Guangxi\",\n\"2020-01-23\",\n\"Full\",\n\"https://en.wikipedia.org/wiki/2020_Hubei_lockdowns\"],\n [{\n            'v': 60,\n            'f': \"60\",\n        },\n\"China\",\n\"Guizhou\",\n\"2020-01-23\",\n\"Full\",\n\"https://en.wikipedia.org/wiki/2020_Hubei_lockdowns\"],\n [{\n            'v': 61,\n            'f': \"61\",\n        },\n\"China\",\n\"Hainan\",\n\"2020-01-23\",\n\"Full\",\n\"https://en.wikipedia.org/wiki/2020_Hubei_lockdowns\"],\n [{\n            'v': 62,\n            'f': \"62\",\n        },\n\"China\",\n\"Hebei\",\n\"2020-01-23\",\n\"Full\",\n\"https://en.wikipedia.org/wiki/2020_Hubei_lockdowns\"],\n [{\n            'v': 63,\n            'f': \"63\",\n        },\n\"China\",\n\"Heilongjiang\",\n\"2020-01-23\",\n\"Full\",\n\"https://en.wikipedia.org/wiki/2020_Hubei_lockdowns\"],\n [{\n            'v': 64,\n            'f': \"64\",\n        },\n\"China\",\n\"Henan\",\n\"2020-01-23\",\n\"Full\",\n\"https://en.wikipedia.org/wiki/2020_Hubei_lockdowns\"],\n [{\n            'v': 82,\n            'f': \"82\",\n        },\n\"China\",\n\"Tibet\",\n\"2020-01-23\",\n\"Full\",\n\"https://en.wikipedia.org/wiki/2020_Hubei_lockdowns\"],\n [{\n            'v': 66,\n            'f': \"66\",\n        },\n\"China\",\n\"Hubei\",\n\"2020-01-23\",\n\"Full\",\n\"https://en.wikipedia.org/wiki/2020_Hubei_lockdowns\"],\n [{\n            'v': 67,\n            'f': \"67\",\n        },\n\"China\",\n\"Hunan\",\n\"2020-01-23\",\n\"Full\",\n\"https://en.wikipedia.org/wiki/2020_Hubei_lockdowns\"],\n [{\n            'v': 68,\n            'f': \"68\",\n        },\n\"China\",\n\"Inner Mongolia\",\n\"2020-01-23\",\n\"Full\",\n\"https://en.wikipedia.org/wiki/2020_Hubei_lockdowns\"],\n [{\n            'v': 69,\n            'f': \"69\",\n        },\n\"China\",\n\"Jiangsu\",\n\"2020-01-23\",\n\"Full\",\n\"https://en.wikipedia.org/wiki/2020_Hubei_lockdowns\"],\n [{\n            'v': 70,\n            'f': \"70\",\n        },\n\"China\",\n\"Jiangxi\",\n\"2020-01-23\",\n\"Full\",\n\"https://en.wikipedia.org/wiki/2020_Hubei_lockdowns\"],\n [{\n            'v': 71,\n            'f': \"71\",\n        },\n\"China\",\n\"Jilin\",\n\"2020-01-23\",\n\"Full\",\n\"https://en.wikipedia.org/wiki/2020_Hubei_lockdowns\"],\n [{\n            'v': 72,\n            'f': \"72\",\n        },\n\"China\",\n\"Liaoning\",\n\"2020-01-23\",\n\"Full\",\n\"https://en.wikipedia.org/wiki/2020_Hubei_lockdowns\"],\n [{\n            'v': 74,\n            'f': \"74\",\n        },\n\"China\",\n\"Ningxia\",\n\"2020-01-23\",\n\"Full\",\n\"https://en.wikipedia.org/wiki/2020_Hubei_lockdowns\"],\n [{\n            'v': 75,\n            'f': \"75\",\n        },\n\"China\",\n\"Qinghai\",\n\"2020-01-23\",\n\"Full\",\n\"https://en.wikipedia.org/wiki/2020_Hubei_lockdowns\"],\n [{\n            'v': 76,\n            'f': \"76\",\n        },\n\"China\",\n\"Shaanxi\",\n\"2020-01-23\",\n\"Full\",\n\"https://en.wikipedia.org/wiki/2020_Hubei_lockdowns\"],\n [{\n            'v': 77,\n            'f': \"77\",\n        },\n\"China\",\n\"Shandong\",\n\"2020-01-23\",\n\"Full\",\n\"https://en.wikipedia.org/wiki/2020_Hubei_lockdowns\"],\n [{\n            'v': 78,\n            'f': \"78\",\n        },\n\"China\",\n\"Shanghai\",\n\"2020-01-23\",\n\"Full\",\n\"https://en.wikipedia.org/wiki/2020_Hubei_lockdowns\"],\n [{\n            'v': 79,\n            'f': \"79\",\n        },\n\"China\",\n\"Shanxi\",\n\"2020-01-23\",\n\"Full\",\n\"https://en.wikipedia.org/wiki/2020_Hubei_lockdowns\"],\n [{\n            'v': 85,\n            'f': \"85\",\n        },\n\"China\",\n\"Zhejiang\",\n\"2020-01-23\",\n\"Full\",\n\"https://en.wikipedia.org/wiki/2020_Hubei_lockdowns\"],\n [{\n            'v': 80,\n            'f': \"80\",\n        },\n\"China\",\n\"Sichuan\",\n\"2020-01-23\",\n\"Full\",\n\"https://en.wikipedia.org/wiki/2020_Hubei_lockdowns\"],\n [{\n            'v': 73,\n            'f': \"73\",\n        },\n\"China\",\n\"Macau\",\n\"2020-01-26\",\n\"Full\",\n\"https://en.wikipedia.org/wiki/2020_coronavirus_pandemic_in_Macau\"],\n [{\n            'v': 224,\n            'f': \"224\",\n        },\n\"Taiwan*\",\nNaN,\n\"2020-02-02\",\n\"Full\",\n\"https://en.wikipedia.org/wiki/2020_coronavirus_pandemic_in_Taiwan\"],\n [{\n            'v': 150,\n            'f': \"150\",\n        },\n\"Korea, South\",\nNaN,\n\"2020-02-23\",\n\"Full\",\n\"https://en.wikipedia.org/wiki/2020_coronavirus_pandemic_in_South_Korea\"],\n [{\n            'v': 19,\n            'f': \"19\",\n        },\n\"Bahrain\",\nNaN,\n\"2020-02-25\",\n\"Full\",\n\"https://en.wikipedia.org/wiki/2020_coronavirus_pandemic_in_Bahrain\"],\n [{\n            'v': 145,\n            'f': \"145\",\n        },\n\"Japan\",\nNaN,\n\"2020-02-27\",\n\"Full\",\n\"https://en.wikipedia.org/wiki/2020_coronavirus_pandemic_in_Japan\"],\n [{\n            'v': 17,\n            'f': \"17\",\n        },\n\"Azerbaijan\",\nNaN,\n\"2020-03-02\",\n\"Full\",\n\"https://en.trend.az/azerbaijan/society/3200643.html\"],\n [{\n            'v': 304,\n            'f': \"304\",\n        },\n\"West Bank and Gaza\",\nNaN,\n\"2020-03-05\",\n\"Full\",\nNaN],\n [{\n            'v': 191,\n            'f': \"191\",\n        },\n\"Palestine\",\nNaN,\n\"2020-03-05\",\n\"Full\",\n\"https://en.wikipedia.org/wiki/2020_coronavirus_pandemic_in_the_State_of_Palestine\"],\n [{\n            'v': 26,\n            'f': \"26\",\n        },\n\"Bhutan\",\nNaN,\n\"2020-03-06\",\n\"Full\",\n\"https://en.wikipedia.org/wiki/2020_coronavirus_pandemic_in_Bhutan\"],\n [{\n            'v': 1,\n            'f': \"1\",\n        },\n\"Albania\",\nNaN,\n\"2020-03-08\",\n\"Full\",\n\"https://en.wikipedia.org/wiki/2020_coronavirus_pandemic_in_Albania\"],\n [{\n            'v': 213,\n            'f': \"213\",\n        },\n\"Slovakia\",\nNaN,\n\"2020-03-09\",\n\"Full\",\n\"https://en.wikipedia.org/wiki/2020_coronavirus_pandemic_in_Slovakia\"],\n [{\n            'v': 206,\n            'f': \"206\",\n        },\n\"San Marino\",\nNaN,\n\"2020-03-09\",\n\"Full\",\n\"https://en.wikipedia.org/wiki/2020_Italy_coronavirus_lockdown\"],\n [{\n            'v': 301,\n            'f': \"301\",\n        },\n\"Vatican City\",\nNaN,\n\"2020-03-10\",\n\"Full\",\n\"https://en.wikipedia.org/wiki/2020_coronavirus_pandemic_in_Vatican_City\"],\n [{\n            'v': 195,\n            'f': \"195\",\n        },\n\"Peru\",\nNaN,\n\"2020-03-10\",\n\"Full\",\n\"https://en.wikipedia.org/wiki/2020_coronavirus_pandemic_in_Peru\"],\n [{\n            'v': 172,\n            'f': \"172\",\n        },\n\"Mongolia\",\nNaN,\n\"2020-03-10\",\n\"Full\",\n\"https://en.wikipedia.org/wiki/2020_coronavirus_pandemic_in_Mongolia\"],\n [{\n            'v': 96,\n            'f': \"96\",\n        },\n\"Denmark\",\nNaN,\n\"2020-03-11\",\n\"Full\",\n\"https://www.businessinsider.com/countries-on-lockdown-coronavirus-italy-2020-3?r=US&IR=T#many-countries-have-also-closed-borders-to-prevent-international-travelers-from-spreading-the-virus-29\"],\n [{\n            'v': 214,\n            'f': \"214\",\n        },\n\"Slovenia\",\nNaN,\n\"2020-03-11\",\n\"Full\",\n\"https://en.wikipedia.org/wiki/2020_coronavirus_pandemic_in_Slovenia\"],\n [{\n            'v': 199,\n            'f': \"199\",\n        },\n\"Qatar\",\nNaN,\n\"2020-03-11\",\n\"Full\",\n\"https://www.theguardian.com/global-development/2020/mar/20/covid-19-lockdown-turns-qatars-largest-migrant-camp-into-virtual-prison\"],\n [{\n            'v': 170,\n            'f': \"170\",\n        },\n\"Moldova\",\nNaN,\n\"2020-03-11\",\n\"Full\",\n\"https://en.wikipedia.org/wiki/2020_coronavirus_pandemic_in_Moldova\"],\n [{\n            'v': 28,\n            'f': \"28\",\n        },\n\"Bosnia and Herzegovina\",\nNaN,\n\"2020-03-11\",\n\"Full\",\n\"https://en.wikipedia.org/wiki/2020_coronavirus_pandemic_in_Bosnia_and_Herzegovina\"],\n [{\n            'v': 164,\n            'f': \"164\",\n        },\n\"Maldives\",\nNaN,\n\"2020-03-11\",\n\"Full\",\n\"https://en.wikipedia.org/wiki/2020_coronavirus_pandemic_in_the_Maldives\"],\n [{\n            'v': 143,\n            'f': \"143\",\n        },\n\"Italy\",\nNaN,\n\"2020-03-11\",\n\"Full\",\n\"https://www.businessinsider.com/countries-on-lockdown-coronavirus-italy-2020-3?r=US&IR=T#the-uk-went-into-full-coronavirus-lockdown-on-monday-evening-7\"],\n [{\n            'v': 103,\n            'f': \"103\",\n        },\n\"El Salvador\",\nNaN,\n\"2020-03-11\",\n\"Full\",\n\"https://en.wikipedia.org/wiki/2020_coronavirus_pandemic_in_El_Salvador\"],\n [{\n            'v': 188,\n            'f': \"188\",\n        },\n\"Norway\",\nNaN,\n\"2020-03-12\",\n\"Full\",\n\"https://www.thelocal.no/20200324/norway-extends-coronavirus-lockdown-until-after-easter\"],\n [{\n            'v': 27,\n            'f': \"27\",\n        },\n\"Bolivia\",\nNaN,\n\"2020-03-12\",\n\"Full\",\n\"https://en.wikipedia.org/wiki/2020_coronavirus_pandemic_in_Bolivia\"],\n [{\n            'v': 166,\n            'f': \"166\",\n        },\n\"Malta\",\nNaN,\n\"2020-03-12\",\n\"Full\",\n\"https://en.wikipedia.org/wiki/2020_coronavirus_pandemic_in_Malta\"],\n [{\n            'v': 197,\n            'f': \"197\",\n        },\n\"Poland\",\nNaN,\n\"2020-03-12\",\n\"Full\",\n\"https://en.wikipedia.org/wiki/2020_coronavirus_pandemic_in_Poland\"],\n [{\n            'v': 144,\n            'f': \"144\",\n        },\n\"Jamaica\",\nNaN,\n\"2020-03-12\",\n\"Full\",\n\"https://en.wikipedia.org/wiki/2020_coronavirus_pandemic_in_Jamaica\"],\n [{\n            'v': 142,\n            'f': \"142\",\n        },\n\"Israel\",\nNaN,\n\"2020-03-12\",\n\"Full\",\n\"https://en.wikipedia.org/wiki/2020_coronavirus_pandemic_in_Israel\"],\n [{\n            'v': 141,\n            'f': \"141\",\n        },\n\"Ireland\",\nNaN,\n\"2020-03-12\",\n\"Full\",\n\"https://en.wikipedia.org/wiki/2020_coronavirus_pandemic_in_the_Republic_of_Ireland\"],\n [{\n            'v': 95,\n            'f': \"95\",\n        },\n\"Denmark\",\n\"Faroe Islands\",\n\"2020-03-12\",\n\"Full\",\n\"https://en.wikipedia.org/wiki/2020_coronavirus_pandemic_in_the_Faroe_Islands\"],\n [{\n            'v': 47,\n            'f': \"47\",\n        },\n\"Canada\",\n\"Quebec\",\n\"2020-03-12\",\n\"Full\",\n\"https://en.wikipedia.org/wiki/2020_coronavirus_pandemic_in_Canada\"],\n [{\n            'v': 229,\n            'f': \"229\",\n        },\n\"Trinidad and Tobago\",\nNaN,\n\"2020-03-13\",\n\"Full\",\n\"https://en.wikipedia.org/wiki/2020_coronavirus_pandemic_in_Trinidad_and_Tobago\"],\n [{\n            'v': 106,\n            'f': \"106\",\n        },\n\"Estonia\",\nNaN,\n\"2020-03-13\",\n\"Full\",\n\"https://en.wikipedia.org/wiki/2020_coronavirus_pandemic_in_Estonia\"],\n [{\n            'v': 155,\n            'f': \"155\",\n        },\n\"Latvia\",\nNaN,\n\"2020-03-13\",\n\"Full\",\n\"https://en.wikipedia.org/wiki/2020_coronavirus_pandemic_in_Latvia\"],\n [{\n            'v': 286,\n            'f': \"286\",\n        },\n\"US\",\n\"Puerto Rico\",\n\"2020-03-13\",\n\"Full\",\n\"https://en.wikipedia.org/wiki/2020_coronavirus_pandemic_in_Puerto_Rico\"],\n [{\n            'v': 32,\n            'f': \"32\",\n        },\n\"Bulgaria\",\nNaN,\n\"2020-03-13\",\n\"Full\",\n\"https://en.wikipedia.org/wiki/2020_coronavirus_pandemic_in_Bulgaria\"],\n [{\n            'v': 177,\n            'f': \"177\",\n        },\n\"Namibia\",\nNaN,\n\"2020-03-14\",\n\"Full\",\n\"https://en.wikipedia.org/wiki/2020_coronavirus_pandemic_in_Namibia\"],\n [{\n            'v': 169,\n            'f': \"169\",\n        },\n\"Mexico\",\nNaN,\n\"2020-03-14\",\n\"Partial\",\n\"https://en.wikipedia.org/wiki/2020_coronavirus_pandemic_in_Mexico\"],\n [{\n            'v': 217,\n            'f': \"217\",\n        },\n\"Spain\",\nNaN,\n\"2020-03-14\",\n\"Full\",\n\"https://www.businessinsider.com/countries-on-lockdown-coronavirus-italy-2020-3?r=US&IR=T#the-uk-went-into-full-coronavirus-lockdown-on-monday-evening-7\"],\n [{\n            'v': 223,\n            'f': \"223\",\n        },\n\"Syria\",\nNaN,\n\"2020-03-14\",\n\"Full\",\n\"https://en.wikipedia.org/wiki/2020_coronavirus_pandemic_in_Syria\"],\n [{\n            'v': 45,\n            'f': \"45\",\n        },\n\"Canada\",\n\"Ontario\",\n\"2020-03-14\",\n\"Full\",\n\"https://en.wikipedia.org/wiki/2020_coronavirus_pandemic_in_Canada\"],\n [{\n            'v': 139,\n            'f': \"139\",\n        },\n\"Iran\",\nNaN,\n\"2020-03-15\",\n\"Full\",\n\"https://www.dailymail.co.uk/news/article-8109981/Iran-imposes-nationwide-lockdown-24-hours-citizen-checked-coronavirus.html\"],\n [{\n            'v': 138,\n            'f': \"138\",\n        },\n\"Indonesia\",\nNaN,\n\"2020-03-15\",\n\"Full\",\n\"https://en.wikipedia.org/wiki/2020_coronavirus_pandemic_in_Indonesia\"],\n [{\n            'v': 207,\n            'f': \"207\",\n        },\n\"Saudi Arabia\",\nNaN,\n\"2020-03-15\",\n\"Full\",\n\"https://en.wikipedia.org/wiki/2020_coronavirus_pandemic_in_Saudi_Arabia\"],\n [{\n            'v': 194,\n            'f': \"194\",\n        },\n\"Paraguay\",\nNaN,\n\"2020-03-15\",\n\"Partial\",\n\"https://en.wikipedia.org/wiki/2020_coronavirus_pandemic_in_Paraguay\"],\n [{\n            'v': 209,\n            'f': \"209\",\n        },\n\"Serbia\",\nNaN,\n\"2020-03-15\",\n\"Full\",\n\"https://en.wikipedia.org/wiki/2020_coronavirus_pandemic_in_Serbia\"],\n [{\n            'v': 148,\n            'f': \"148\",\n        },\n\"Kazakhstan\",\nNaN,\n\"2020-03-15\",\n\"Full\",\n\"https://en.wikipedia.org/wiki/2020_coronavirus_pandemic_in_Kazakhstan\"],\n [{\n            'v': 125,\n            'f': \"125\",\n        },\n\"Ghana\",\nNaN,\n\"2020-03-15\",\n\"Full\",\n\"https://en.wikipedia.org/wiki/2020_coronavirus_pandemic_in_Ghana\"],\n [{\n            'v': 89,\n            'f': \"89\",\n        },\n\"Costa Rica\",\nNaN,\n\"2020-03-15\",\n\"Full\",\n\"https://en.wikipedia.org/wiki/2020_coronavirus_pandemic_in_Costa_Rica\"],\n [{\n            'v': 149,\n            'f': \"149\",\n        },\n\"Kenya\",\nNaN,\n\"2020-03-15\",\n\"Full\",\n\"https://en.wikipedia.org/wiki/2020_coronavirus_pandemic_in_Kenya\"],\n [{\n            'v': 135,\n            'f': \"135\",\n        },\n\"Hungary\",\nNaN,\n\"2020-03-16\",\n\"Full\",\n\"https://en.wikipedia.org/wiki/2020_coronavirus_pandemic_in_Hungary\"],\n [{\n            'v': 156,\n            'f': \"156\",\n        },\n\"Lebanon\",\nNaN,\n\"2020-03-16\",\n\"Full\",\n\"https://www.haaretz.com/middle-east-news/lebanon-goes-on-virus-lockdown-as-iraqis-go-panic-shopping-ahead-of-curfew-1.8679069\"],\n [{\n            'v': 160,\n            'f': \"160\",\n        },\n\"Lithuania\",\nNaN,\n\"2020-03-16\",\n\"Full\",\n\"https://www.euractiv.com/section/coronavirus/short_news/lithuania-update-covid-19/\"],\n [{\n            'v': 161,\n            'f': \"161\",\n        },\n\"Luxembourg\",\nNaN,\n\"2020-03-16\",\n\"Full\",\n\"https://luxtimes.lu/luxembourg/40100-germany-border-checks-add-to-luxembourg-virus-lockdown\"],\n [{\n            'v': 196,\n            'f': \"196\",\n        },\n\"Philippines\",\nNaN,\n\"2020-03-16\",\n\"Partial\",\n\"https://en.wikipedia.org/wiki/2020_coronavirus_pandemic_in_the_Philippines\"],\n [{\n            'v': 245,\n            'f': \"245\",\n        },\n\"Uruguay\",\nNaN,\n\"2020-03-16\",\n\"Full\",\n\"https://en.wikipedia.org/wiki/2020_coronavirus_pandemic_in_Uruguay\"],\n [{\n            'v': 174,\n            'f': \"174\",\n        },\n\"Morocco\",\nNaN,\n\"2020-03-16\",\n\"Full\",\n\"https://en.wikipedia.org/wiki/2020_coronavirus_pandemic_in_Morocco\"],\n [{\n            'v': 16,\n            'f': \"16\",\n        },\n\"Austria\",\nNaN,\n\"2020-03-16\",\n\"Full\",\n\"https://www.reuters.com/article/us-health-coronavirus-austria/austria-close-to-standstill-starts-biggest-repatriation-effort-ever-idUSKBN21427X\"],\n [{\n            'v': 136,\n            'f': \"136\",\n        },\n\"Iceland\",\nNaN,\n\"2020-03-16\",\n\"Full\",\n\"https://en.wikipedia.org/wiki/2020_coronavirus_pandemic_in_Iceland\"],\n [{\n            'v': 152,\n            'f': \"152\",\n        },\n\"Kuwait\",\nNaN,\n\"2020-03-16\",\n\"Partial\",\n\"https://www.cosmopolitanme.com/travel/kuwait-shutdown-due-to-coronavirus\"],\n [{\n            'v': 108,\n            'f': \"108\",\n        },\n\"Ethiopia\",\nNaN,\n\"2020-03-16\",\n\"Full\",\n\"https://en.wikipedia.org/wiki/2020_coronavirus_pandemic_in_Ethiopia\"],\n [{\n            'v': 179,\n            'f': \"179\",\n        },\n\"Netherlands\",\n\"Aruba\",\n\"2020-03-16\",\n\"Full\",\n\"https://en.wikipedia.org/wiki/2020_coronavirus_pandemic_in_Aruba\"],\n [{\n            'v': 202,\n            'f': \"202\",\n        },\n\"Rwanda\",\nNaN,\n\"2020-03-16\",\n\"Full\",\n\"https://en.wikipedia.org/wiki/2020_coronavirus_pandemic_in_Rwanda\"],\n [{\n            'v': 120,\n            'f': \"120\",\n        },\n\"France\",\nNaN,\n\"2020-03-16\",\n\"Full\",\n\"https://www.businessinsider.com/countries-on-lockdown-coronavirus-italy-2020-3?r=US&IR=T#spain-became-the-second-european-country-to-impose-a-nationwide-quarantine-on-march-14-on-thursday-the-lockdown-was-extended-to-at-least-april-12-21\"],\n [{\n            'v': 302,\n            'f': \"302\",\n        },\n\"Venezuela\",\nNaN,\n\"2020-03-16\",\n\"Full\",\n\"https://en.wikipedia.org/wiki/2020_coronavirus_pandemic_in_Venezuela\"],\n [{\n            'v': 94,\n            'f': \"94\",\n        },\n\"Czechia\",\nNaN,\n\"2020-03-16\",\n\"Full\",\n\"https://en.wikipedia.org/wiki/2020_coronavirus_pandemic_in_the_Czech_Republic\"],\n [{\n            'v': 46,\n            'f': \"46\",\n        },\n\"Canada\",\n\"Prince Edward Island\",\n\"2020-03-16\",\n\"Full\",\n\"https://en.wikipedia.org/wiki/2020_coronavirus_pandemic_in_Canada\"],\n [{\n            'v': 3,\n            'f': \"3\",\n        },\n\"Andorra\",\nNaN,\n\"2020-03-16\",\n\"Full\",\n\"https://en.wikipedia.org/wiki/2020_coronavirus_pandemic_in_Andorra\"],\n [{\n            'v': 23,\n            'f': \"23\",\n        },\n\"Belgium\",\nNaN,\n\"2020-03-17\",\n\"Full\",\n\"https://www.businessinsider.com/countries-on-lockdown-coronavirus-italy-2020-3?r=US&IR=T#the-uk-went-into-full-coronavirus-lockdown-on-monday-evening-7\"],\n [{\n            'v': 171,\n            'f': \"171\",\n        },\n\"Monaco\",\nNaN,\n\"2020-03-17\",\n\"Full\",\n\"https://en.wikipedia.org/wiki/2020_coronavirus_pandemic_in_Monaco\"],\n [{\n            'v': 168,\n            'f': \"168\",\n        },\n\"Mauritius\",\nNaN,\n\"2020-03-17\",\n\"Partial\",\n\"https://en.wikipedia.org/wiki/2020_coronavirus_pandemic_in_Mauritius\"],\n [{\n            'v': 162,\n            'f': \"162\",\n        },\n\"Madagascar\",\nNaN,\n\"2020-03-17\",\n\"Partial\",\n\"https://en.wikipedia.org/wiki/2020_coronavirus_pandemic_in_Madagascar\"],\n [{\n            'v': 233,\n            'f': \"233\",\n        },\n\"Ukraine\",\nNaN,\n\"2020-03-17\",\n\"Full\",\n\"https://www.ukrinform.net/rubric-society/2899162-ten-facts-about-coronavirus-lockdown-in-ukraine.html\"],\n [{\n            'v': 100,\n            'f': \"100\",\n        },\n\"Dominican Republic\",\nNaN,\n\"2020-03-17\",\n\"Full\",\n\"https://en.wikipedia.org/wiki/2020_coronavirus_pandemic_in_the_Dominican_Republic\"],\n [{\n            'v': 38,\n            'f': \"38\",\n        },\n\"Canada\",\n\"Alberta\",\n\"2020-03-17\",\n\"Full\",\n\"https://en.wikipedia.org/wiki/2020_coronavirus_pandemic_in_Canada\"],\n [{\n            'v': 146,\n            'f': \"146\",\n        },\n\"Jersey\",\nNaN,\n\"2020-03-18\",\n\"Full\",\n\"https://en.wikipedia.org/wiki/2020_coronavirus_pandemic_in_Jersey\"],\n [{\n            'v': 49,\n            'f': \"49\",\n        },\n\"Canada\",\n\"Yukon\",\n\"2020-03-18\",\n\"Partial\",\n\"https://en.wikipedia.org/wiki/2020_coronavirus_pandemic_in_Canada\"],\n [{\n            'v': 48,\n            'f': \"48\",\n        },\n\"Canada\",\n\"Saskatchewan\",\n\"2020-03-18\",\n\"Full\",\n\"https://en.wikipedia.org/wiki/2020_coronavirus_pandemic_in_Canada\"],\n [{\n            'v': 198,\n            'f': \"198\",\n        },\n\"Portugal\",\nNaN,\n\"2020-03-18\",\n\"Full\",\n\"https://en.wikipedia.org/wiki/2020_coronavirus_pandemic_in_Portugal\"],\n [{\n            'v': 235,\n            'f': \"235\",\n        },\n\"United Kingdom\",\n\"Anguilla\",\n\"2020-03-18\",\n\"Full\",\n\"https://en.wikipedia.org/wiki/2020_coronavirus_pandemic_in_Anguilla\"],\n [{\n            'v': 222,\n            'f': \"222\",\n        },\n\"Switzerland\",\nNaN,\n\"2020-03-18\",\n\"Full\",\n\"https://www.cnnmoney.ch/shows/big-picture/videos/switzerland-desperate-race-stay-ahead-coronavirus\"],\n [{\n            'v': 165,\n            'f': \"165\",\n        },\n\"Mali\",\nNaN,\n\"2020-03-18\",\n\"Full\",\n\"https://en.wikipedia.org/wiki/2020_coronavirus_pandemic_in_Mali\"],\n [{\n            'v': 163,\n            'f': \"163\",\n        },\n\"Malaysia\",\nNaN,\n\"2020-03-18\",\n\"Full\",\n\"https://en.wikipedia.org/wiki/2020_coronavirus_pandemic_in_Malaysia\"],\n [{\n            'v': 42,\n            'f': \"42\",\n        },\n\"Canada\",\n\"Newfoundland and Labrador\",\n\"2020-03-18\",\n\"Full\",\n\"https://en.wikipedia.org/wiki/2020_coronavirus_pandemic_in_Canada\"],\n [{\n            'v': 126,\n            'f': \"126\",\n        },\n\"Greece\",\nNaN,\n\"2020-03-18\",\n\"Full\",\n\"https://www.tornosnews.gr/en/greek-news/society/39369-greece-in-total-lockdown-from-wednesday-due-to-coronavirus-outbreak.html\"],\n [{\n            'v': 232,\n            'f': \"232\",\n        },\n\"Uganda\",\nNaN,\n\"2020-03-18\",\n\"Full\",\n\"https://en.wikipedia.org/wiki/2020_coronavirus_pandemic_in_Uganda\"],\n [{\n            'v': 39,\n            'f': \"39\",\n        },\n\"Canada\",\n\"British Columbia\",\n\"2020-03-18\",\n\"Full\",\n\"https://en.wikipedia.org/wiki/2020_coronavirus_pandemic_in_Canada\"],\n [{\n            'v': 43,\n            'f': \"43\",\n        },\n\"Canada\",\n\"Northwest Territories\",\n\"2020-03-18\",\n\"Partial\",\n\"https://en.wikipedia.org/wiki/2020_coronavirus_pandemic_in_Canada\"],\n [{\n            'v': 187,\n            'f': \"187\",\n        },\n\"North Macedonia\",\nNaN,\n\"2020-03-18\",\n\"Full\",\n\"https://balkaninsight.com/2020/03/19/volunteers-help-north-macedonias-elderly-survive-lockdown/\"],\n [{\n            'v': 41,\n            'f': \"41\",\n        },\n\"Canada\",\n\"New Brunswick\",\n\"2020-03-19\",\n\"Full\",\n\"https://en.wikipedia.org/wiki/2020_coronavirus_pandemic_in_Canada\"],\n [{\n            'v': 303,\n            'f': \"303\",\n        },\n\"Vietnam\",\nNaN,\n\"2020-03-19\",\n\"Full\",\n\"https://en.wikipedia.org/wiki/2020_coronavirus_pandemic_in_Vietnam\"],\n [{\n            'v': 250,\n            'f': \"250\",\n        },\n\"US\",\n\"California\",\n\"2020-03-19\",\n\"Full\",\n\"https://en.wikipedia.org/wiki/2020_coronavirus_pandemic_in_the_United_States\"],\n [{\n            'v': 215,\n            'f': \"215\",\n        },\n\"Somalia\",\nNaN,\n\"2020-03-19\",\n\"Full\",\n\"https://en.wikipedia.org/wiki/2020_coronavirus_pandemic_in_Somalia\"],\n [{\n            'v': 88,\n            'f': \"88\",\n        },\n\"Congo (Kinshasa)\",\nNaN,\n\"2020-03-19\",\n\"Full\",\n\"https://en.wikipedia.org/wiki/2020_coronavirus_pandemic_in_the_Democratic_Republic_of_the_Congo\"],\n [{\n            'v': 20,\n            'f': \"20\",\n        },\n\"Bangladesh\",\nNaN,\n\"2020-03-19\",\n\"Full\",\n\"https://en.wikipedia.org/wiki/2020_coronavirus_pandemic_in_Bangladesh\"],\n [{\n            'v': 18,\n            'f': \"18\",\n        },\n\"Bahamas\",\nNaN,\n\"2020-03-20\",\n\"Full\",\n\"https://en.wikipedia.org/wiki/2020_coronavirus_pandemic_in_the_Bahamas\"],\n [{\n            'v': 300,\n            'f': \"300\",\n        },\n\"Uzbekistan\",\nNaN,\n\"2020-03-20\",\n\"Partial\",\n\"https://en.wikipedia.org/wiki/2020_coronavirus_pandemic_in_Uzbekistan\"],\n [{\n            'v': 204,\n            'f': \"204\",\n        },\n\"Saint Lucia\",\nNaN,\n\"2020-03-20\",\n\"Full\",\n\"https://en.wikipedia.org/wiki/2020_coronavirus_pandemic_in_Saint_Lucia\"],\n [{\n            'v': 230,\n            'f': \"230\",\n        },\n\"Tunisia\",\nNaN,\n\"2020-03-20\",\n\"Full\",\n\"https://www.france24.com/en/20200320-tunisia-orders-general-lockdown-in-bid-to-contain-coronavirus\"],\n [{\n            'v': 228,\n            'f': \"228\",\n        },\n\"Togo\",\nNaN,\n\"2020-03-20\",\n\"Partial\",\n\"https://en.wikipedia.org/wiki/2020_coronavirus_pandemic_in_Togo\"],\n [{\n            'v': 6,\n            'f': \"6\",\n        },\n\"Argentina\",\nNaN,\n\"2020-03-20\",\n\"Full\",\n\"https://www.bloomberg.com/news/articles/2020-03-20/argentina-orders-exceptional-lockdown-in-bid-to-contain-virus\"],\n [{\n            'v': 159,\n            'f': \"159\",\n        },\n\"Liechtenstein\",\nNaN,\n\"2020-03-20\",\n\"Partial\",\n\"https://en.wikipedia.org/wiki/2020_coronavirus_pandemic_in_Liechtenstein\"],\n [{\n            'v': 109,\n            'f': \"109\",\n        },\n\"Fiji\",\nNaN,\n\"2020-03-20\",\n\"Full\",\n\"https://en.wikipedia.org/wiki/2020_coronavirus_pandemic_in_Fiji\"],\n [{\n            'v': 124,\n            'f': \"124\",\n        },\n\"Germany\",\nNaN,\n\"2020-03-20\",\n\"Full\",\n\"https://www.politico.eu/article/german-state-of-bavaria-heads-for-full-coronavirus-lockdown/\"],\n [{\n            'v': 134,\n            'f': \"134\",\n        },\n\"Honduras\",\nNaN,\n\"2020-03-20\",\n\"Partial\",\n\"https://en.wikipedia.org/wiki/2020_coronavirus_pandemic_in_Honduras\"],\n [{\n            'v': 40,\n            'f': \"40\",\n        },\n\"Canada\",\n\"Manitoba\",\n\"2020-03-20\",\n\"Full\",\n\"https://en.wikipedia.org/wiki/2020_coronavirus_pandemic_in_Canada\"],\n [{\n            'v': 114,\n            'f': \"114\",\n        },\n\"France\",\n\"Martinique\",\n\"2020-03-20\",\n\"Partial\",\n\"https://en.wikipedia.org/wiki/2020_coronavirus_pandemic_in_Martinique\"],\n [{\n            'v': 147,\n            'f': \"147\",\n        },\n\"Jordan\",\nNaN,\n\"2020-03-21\",\n\"Full\",\n\"https://www.nytimes.com/aponline/2020/03/21/world/middleeast/ap-ml-virus-outbreak-mideast.html\"],\n [{\n            'v': 260,\n            'f': \"260\",\n        },\n\"US\",\n\"Illinois\",\n\"2020-03-21\",\n\"Full\",\n\"https://en.wikipedia.org/wiki/2020_coronavirus_pandemic_in_the_United_States\"],\n [{\n            'v': 277,\n            'f': \"277\",\n        },\n\"US\",\n\"New Jersey\",\n\"2020-03-21\",\n\"Full\",\n\"https://en.wikipedia.org/wiki/2020_coronavirus_pandemic_in_the_United_States\"],\n [{\n            'v': 218,\n            'f': \"218\",\n        },\n\"Sri Lanka\",\nNaN,\n\"2020-03-21\",\n\"Full\",\n\"https://www.deccanherald.com/international/china-offers-to-build-makeshift-covid-19-hospitals-in-india-818718.html\"],\n [{\n            'v': 33,\n            'f': \"33\",\n        },\n\"Burkina Faso\",\nNaN,\n\"2020-03-21\",\n\"Full\",\n\"https://en.wikipedia.org/wiki/2020_coronavirus_pandemic_in_Burkina_Faso\"],\n [{\n            'v': 44,\n            'f': \"44\",\n        },\n\"Canada\",\n\"Nova Scotia\",\n\"2020-03-22\",\n\"Full\",\n\"https://en.wikipedia.org/wiki/2020_coronavirus_pandemic_in_Canada\"],\n [{\n            'v': 91,\n            'f': \"91\",\n        },\n\"Croatia\",\nNaN,\n\"2020-03-22\",\n\"Partial\",\n\"https://www.wfmz.com/news/croatia-quake-injures-amid-partial-coronavirus-lockdown/image_45bd4c4f-1ed0-5361-b5ca-d9d228fc5e5f.html\"],\n [{\n            'v': 226,\n            'f': \"226\",\n        },\n\"Thailand\",\nNaN,\n\"2020-03-22\",\n\"Full\",\n\"https://en.wikipedia.org/wiki/2020_coronavirus_pandemic_in_Thailand\"],\n [{\n            'v': 140,\n            'f': \"140\",\n        },\n\"Iraq\",\nNaN,\n\"2020-03-22\",\n\"Full\",\n\"https://www.middleeasteye.net/news/coronavirus-iraq-impose-total-lockdown-until-28-march\"],\n [{\n            'v': 279,\n            'f': \"279\",\n        },\n\"US\",\n\"New York\",\n\"2020-03-22\",\n\"Full\",\n\"https://en.wikipedia.org/wiki/2020_coronavirus_pandemic_in_the_United_States\"],\n [{\n            'v': 123,\n            'f': \"123\",\n        },\n\"Georgia\",\nNaN,\n\"2020-03-22\",\n\"Partial\",\n\"https://www.garda.com/crisis24/news-alerts/325581/georgia-government-places-two-cities-on-lockdown-march-22-update-6\"],\n [{\n            'v': 265,\n            'f': \"265\",\n        },\n\"US\",\n\"Louisiana\",\n\"2020-03-23\",\n\"Full\",\n\"https://en.wikipedia.org/wiki/2020_coronavirus_pandemic_in_the_United_States\"],\n [{\n            'v': 241,\n            'f': \"241\",\n        },\n\"United Kingdom\",\n\"Isle of Man\",\n\"2020-03-23\",\n\"Full\",\n\"https://en.wikipedia.org/wiki/2020_coronavirus_pandemic_in_the_Isle_of_Man\"],\n [{\n            'v': 231,\n            'f': \"231\",\n        },\n\"Turkey\",\nNaN,\n\"2020-03-23\",\n\"Full\",\n\"https://en.wikipedia.org/wiki/2020_coronavirus_pandemic_in_Turkey\"],\n [{\n            'v': 284,\n            'f': \"284\",\n        },\n\"US\",\n\"Oregon\",\n\"2020-03-23\",\n\"Full\",\n\"https://en.wikipedia.org/wiki/2020_coronavirus_pandemic_in_the_United_States\"],\n [{\n            'v': 252,\n            'f': \"252\",\n        },\n\"US\",\n\"Connecticut\",\n\"2020-03-23\",\n\"Full\",\n\"https://en.wikipedia.org/wiki/2020_coronavirus_pandemic_in_the_United_States\"],\n [{\n            'v': 65,\n            'f': \"65\",\n        },\n\"China\",\n\"Hong Kong\",\n\"2020-03-23\",\n\"Full\",\n\"https://en.wikipedia.org/wiki/2020_coronavirus_pandemic_in_Hong_Kong\"],\n [{\n            'v': 296,\n            'f': \"296\",\n        },\n\"US\",\n\"Washington\",\n\"2020-03-23\",\n\"Full\",\n\"https://en.wikipedia.org/wiki/2020_coronavirus_pandemic_in_the_United_States\"],\n [{\n            'v': 244,\n            'f': \"244\",\n        },\n\"United Kingdom\",\nNaN,\n\"2020-03-23\",\n\"Full\",\n\"https://www.businessinsider.com/countries-on-lockdown-coronavirus-italy-2020-3?r=US&IR=T#the-uk-went-into-full-coronavirus-lockdown-on-monday-evening-7\"],\n [{\n            'v': 282,\n            'f': \"282\",\n        },\n\"US\",\n\"Ohio\",\n\"2020-03-23\",\n\"Full\",\n\"https://en.wikipedia.org/wiki/2020_coronavirus_pandemic_in_the_United_States\"],\n [{\n            'v': 261,\n            'f': \"261\",\n        },\n\"US\",\n\"Indiana\",\n\"2020-03-24\",\n\"Full\",\n\"https://en.wikipedia.org/wiki/2020_coronavirus_pandemic_in_the_United_States\"],\n [{\n            'v': 253,\n            'f': \"253\",\n        },\n\"US\",\n\"Delaware\",\n\"2020-03-24\",\n\"Full\",\n\"https://en.wikipedia.org/wiki/2020_coronavirus_pandemic_in_the_United_States\"],\n [{\n            'v': 268,\n            'f': \"268\",\n        },\n\"US\",\n\"Massachusetts\",\n\"2020-03-24\",\n\"Full\",\n\"https://en.wikipedia.org/wiki/2020_coronavirus_pandemic_in_the_United_States\"],\n [{\n            'v': 269,\n            'f': \"269\",\n        },\n\"US\",\n\"Michigan\",\n\"2020-03-24\",\n\"Full\",\n\"https://en.wikipedia.org/wiki/2020_coronavirus_pandemic_in_the_United_States\"],\n [{\n            'v': 234,\n            'f': \"234\",\n        },\n\"United Arab Emirates\",\nNaN,\n\"2020-03-24\",\n\"Full\",\n\"https://uk.reuters.com/article/uk-health-coronavirus-saudi/saudi-reports-first-coronavirus-death-uae-gears-up-for-lockdown-idUKKBN21B1YM\"],\n [{\n            'v': 297,\n            'f': \"297\",\n        },\n\"US\",\n\"West Virginia\",\n\"2020-03-24\",\n\"Full\",\n\"https://en.wikipedia.org/wiki/2020_coronavirus_pandemic_in_the_United_States\"],\n [{\n            'v': 278,\n            'f': \"278\",\n        },\n\"US\",\n\"New Mexico\",\n\"2020-03-24\",\n\"Full\",\n\"https://en.wikipedia.org/wiki/2020_coronavirus_pandemic_in_the_United_States\"],\n [{\n            'v': 240,\n            'f': \"240\",\n        },\n\"United Kingdom\",\n\"Gibraltar\",\n\"2020-03-24\",\n\"Full\",\n\"https://www.theolivepress.es/spain-news/2020/03/22/full-lockdown-in-gibraltar-from-tuesday-morning-as-coronavirus-spikes/\"],\n [{\n            'v': 0,\n            'f': \"0\",\n        },\n\"Afghanistan\",\nNaN,\n\"2020-03-24\",\n\"Full\",\n\"https://www.thestatesman.com/world/afghan-govt-imposes-lockdown-coronavirus-cases-increase-15-1502870945.html\"],\n [{\n            'v': 153,\n            'f': \"153\",\n        },\n\"Kyrgyzstan\",\nNaN,\n\"2020-03-24\",\n\"Partial\",\n\"https://en.wikipedia.org/wiki/2020_coronavirus_pandemic_in_Kyrgyzstan\"],\n [{\n            'v': 137,\n            'f': \"137\",\n        },\n\"India\",\nNaN,\n\"2020-03-24\",\n\"Full\",\n\"https://www.businessinsider.com/countries-on-lockdown-coronavirus-italy-2020-3?r=US&IR=T#the-uk-went-into-full-coronavirus-lockdown-on-monday-evening-7\"],\n [{\n            'v': 102,\n            'f': \"102\",\n        },\n\"Egypt\",\nNaN,\n\"2020-03-24\",\n\"Full\",\n\"https://www.thenational.ae/world/mena/curfew-crash-kills-18-as-egypt-enters-lockdown-1.997575\"],\n [{\n            'v': 14,\n            'f': \"14\",\n        },\n\"Australia\",\n\"Victoria\",\n\"2020-03-24\",\n\"Full\",\n\"https://www.theage.com.au/national/victoria/schools-closed-from-tuesday-in-drastic-bid-to-curb-coronavirus-spread-20200322-p54cpw.html\"],\n [{\n            'v': 173,\n            'f': \"173\",\n        },\n\"Montenegro\",\nNaN,\n\"2020-03-24\",\n\"Full\",\n\"https://en.wikipedia.org/wiki/2020_coronavirus_pandemic_in_Montenegro\"],\n [{\n            'v': 178,\n            'f': \"178\",\n        },\n\"Nepal\",\nNaN,\n\"2020-03-24\",\n\"Full\",\n\"https://edition.cnn.com/travel/article/nepal-trekkers-stranded-coronavirus-scli-intl/index.html\"],\n [{\n            'v': 7,\n            'f': \"7\",\n        },\n\"Armenia\",\nNaN,\n\"2020-03-24\",\n\"Full\",\n\"https://www.azatutyun.am/a/30506939.html\"],\n [{\n            'v': 180,\n            'f': \"180\",\n        },\n\"Netherlands\",\nNaN,\n\"2020-03-24\",\n\"Full\",\n\"https://www.ukrant.nl/why-the-netherlands-is-not-on-lockdown-yet/?lang=en\"],\n [{\n            'v': 101,\n            'f': \"101\",\n        },\n\"Ecuador\",\nNaN,\n\"2020-03-24\",\n\"Partial\",\n\"https://en.wikipedia.org/wiki/2020_coronavirus_pandemic_in_Ecuador\"],\n [{\n            'v': 4,\n            'f': \"4\",\n        },\n\"Angola\",\nNaN,\n\"2020-03-24\",\n\"Full\",\n\"https://en.wikipedia.org/wiki/2020_coronavirus_pandemic_in_Angola\"],\n [{\n            'v': 2,\n            'f': \"2\",\n        },\n\"Algeria\",\nNaN,\n\"2020-03-24\",\n\"Full\",\n\"https://www.garda.com/crisis24/news-alerts/325896/algeria-government-implements-lockdown-and-curfew-in-blida-and-algiers-march-23-update-7\"],\n [{\n            'v': 208,\n            'f': \"208\",\n        },\n\"Senegal\",\nNaN,\n\"2020-03-24\",\n\"Partial\",\n\"https://www.deccanherald.com/international/china-offers-to-build-makeshift-covid-19-hospitals-in-india-818718.html\"],\n [{\n            'v': 186,\n            'f': \"186\",\n        },\n\"Nigeria\",\nNaN,\n\"2020-03-25\",\n\"Full\",\n\"https://uk.reuters.com/article/uk-health-coronavirus-nigeria-security/nigerian-army-prepares-for-coronavirus-lockdown-mass-burials-idUKKBN21C2BL\"],\n [{\n            'v': 93,\n            'f': \"93\",\n        },\n\"Cyprus\",\nNaN,\n\"2020-03-25\",\n\"Full\",\n\"https://www.reuters.com/article/us-health-coronavirus-cyprus-lockdown/cyprus-announces-lockdown-on-coronavirus-until-april-13-idUSKBN21A3C8\"],\n [{\n            'v': 86,\n            'f': \"86\",\n        },\n\"Colombia\",\nNaN,\n\"2020-03-25\",\n\"Full\",\n\"https://www.theguardian.com/world/2020/mar/23/colombian-groups-exploiting-coronavirus-lockdown-to-kill-activists\"],\n [{\n            'v': 259,\n            'f': \"259\",\n        },\n\"US\",\n\"Idaho\",\n\"2020-03-25\",\n\"Full\",\n\"https://en.wikipedia.org/wiki/2020_coronavirus_pandemic_in_the_United_States\"],\n [{\n            'v': 258,\n            'f': \"258\",\n        },\n\"US\",\n\"Hawaii\",\n\"2020-03-25\",\n\"Full\",\n\"https://en.wikipedia.org/wiki/2020_coronavirus_pandemic_in_the_United_States\"],\n [{\n            'v': 183,\n            'f': \"183\",\n        },\n\"New Zealand\",\nNaN,\n\"2020-03-25\",\n\"Full\",\n\"https://www.bbc.co.uk/news/av/world-52001578/coronavirus-new-zealand-announces-lockdown\"],\n [{\n            'v': 293,\n            'f': \"293\",\n        },\n\"US\",\n\"Vermont\",\n\"2020-03-25\",\n\"Full\",\n\"https://en.wikipedia.org/wiki/2020_coronavirus_pandemic_in_the_United_States\"],\n [{\n            'v': 294,\n            'f': \"294\",\n        },\n\"US\",\n\"Virgin Islands\",\n\"2020-03-25\",\n\"Full\",\n\"https://en.wikipedia.org/wiki/2020_coronavirus_pandemic_in_the_United_States_Virgin_Islands\"],\n [{\n            'v': 298,\n            'f': \"298\",\n        },\n\"US\",\n\"Wisconsin\",\n\"2020-03-25\",\n\"Full\",\n\"https://en.wikipedia.org/wiki/2020_coronavirus_pandemic_in_the_United_States\"],\n [{\n            'v': 200,\n            'f': \"200\",\n        },\n\"Romania\",\nNaN,\n\"2020-03-25\",\n\"Full\",\n\"https://www.garda.com/crisis24/news-alerts/326626/romania-government-announces-lockdown-measures-on-march-25-update-2\"],\n [{\n            'v': 192,\n            'f': \"192\",\n        },\n\"Panama\",\nNaN,\n\"2020-03-25\",\n\"Full\",\n\"https://news.yahoo.com/panama-orders-lockdown-paraguay-closes-borders-072748034.html\"],\n [{\n            'v': 151,\n            'f': \"151\",\n        },\n\"Kosovo\",\nNaN,\n\"2020-03-25\",\n\"Partial\",\n\"https://en.wikipedia.org/wiki/2020_coronavirus_pandemic_in_Kosovo\"],\n [{\n            'v': 251,\n            'f': \"251\",\n        },\n\"US\",\n\"Colorado\",\n\"2020-03-26\",\n\"Full\",\n\"https://en.wikipedia.org/wiki/2020_coronavirus_pandemic_in_the_United_States\"],\n [{\n            'v': 257,\n            'f': \"257\",\n        },\n\"US\",\n\"Guam\",\n\"2020-03-26\",\n\"Full\",\n\"https://en.wikipedia.org/wiki/2020_coronavirus_pandemic_in_Guam\"],\n [{\n            'v': 52,\n            'f': \"52\",\n        },\n\"Chile\",\nNaN,\n\"2020-03-26\",\n\"Full\",\n\"https://en.wikipedia.org/wiki/2020_coronavirus_pandemic_in_Chile\"],\n [{\n            'v': 190,\n            'f': \"190\",\n        },\n\"Pakistan\",\nNaN,\n\"2020-03-26\",\n\"Full\",\n\"https://sourcingjournal.com/topics/sourcing/pakistan-coronavirus-lockdown-garment-factories-closed-synergies-worldwide-levis-202444/\"],\n [{\n            'v': 264,\n            'f': \"264\",\n        },\n\"US\",\n\"Kentucky\",\n\"2020-03-26\",\n\"Full\",\n\"https://en.wikipedia.org/wiki/2020_coronavirus_pandemic_in_the_United_States\"],\n [{\n            'v': 216,\n            'f': \"216\",\n        },\n\"South Africa\",\nNaN,\n\"2020-03-26\",\n\"Full\",\n\"https://www.deccanherald.com/international/china-offers-to-build-makeshift-covid-19-hospitals-in-india-818718.html\"],\n [{\n            'v': 212,\n            'f': \"212\",\n        },\n\"Singapore\",\nNaN,\n\"2020-03-26\",\n\"Partial\",\n\"https://en.wikipedia.org/wiki/2020_coronavirus_pandemic_in_Singapore\"],\n [{\n            'v': 276,\n            'f': \"276\",\n        },\n\"US\",\n\"New Hampshire\",\n\"2020-03-27\",\n\"Full\",\n\"https://en.wikipedia.org/wiki/2020_coronavirus_pandemic_in_the_United_States\"],\n [{\n            'v': 270,\n            'f': \"270\",\n        },\n\"US\",\n\"Minnesota\",\n\"2020-03-27\",\n\"Full\",\n\"https://en.wikipedia.org/wiki/2020_coronavirus_pandemic_in_the_United_States\"],\n [{\n            'v': 306,\n            'f': \"306\",\n        },\n\"Zimbabwe\",\nNaN,\n\"2020-03-27\",\n\"Full\",\n\"https://en.wikipedia.org/wiki/2020_coronavirus_pandemic_in_Zimbabwe\"],\n [{\n            'v': 201,\n            'f': \"201\",\n        },\n\"Russia\",\nNaN,\n\"2020-03-27\",\n\"Full\",\n\"https://www.independent.co.uk/news/world/europe/coronavirus-russia-lockdown-putin-cases-latest-a9429601.html\"],\n [{\n            'v': 110,\n            'f': \"110\",\n        },\n\"Finland\",\nNaN,\n\"2020-03-27\",\n\"Full\",\n\"http://global.chinadaily.com.cn/a/202003/27/WS5e7ce399a310128217282530.html\"],\n [{\n            'v': 243,\n            'f': \"243\",\n        },\n\"United Kingdom\",\n\"Turks and Caicos Islands\",\n\"2020-03-27\",\n\"Full\",\n\"https://en.wikipedia.org/wiki/2020_coronavirus_pandemic_in_the_Turks_and_Caicos_Islands\"],\n [{\n            'v': 112,\n            'f': \"112\",\n        },\n\"France\",\n\"French Polynesia\",\n\"2020-03-27\",\n\"Partial\",\n\"https://en.wikipedia.org/wiki/2020_coronavirus_pandemic_in_French_Polynesia\"],\n [{\n            'v': 122,\n            'f': \"122\",\n        },\n\"Gambia\",\nNaN,\n\"2020-03-27\",\n\"Full\",\n\"https://en.wikipedia.org/wiki/2020_coronavirus_pandemic_in_the_Gambia\"],\n [{\n            'v': 287,\n            'f': \"287\",\n        },\n\"US\",\n\"Rhode Island\",\n\"2020-03-28\",\n\"Full\",\n\"https://en.wikipedia.org/wiki/2020_coronavirus_pandemic_in_the_United_States\"],\n [{\n            'v': 273,\n            'f': \"273\",\n        },\n\"US\",\n\"Montana\",\n\"2020-03-28\",\n\"Full\",\n\"https://en.wikipedia.org/wiki/2020_coronavirus_pandemic_in_the_United_States\"],\n [{\n            'v': 247,\n            'f': \"247\",\n        },\n\"US\",\n\"Alaska\",\n\"2020-03-28\",\n\"Full\",\n\"https://en.wikipedia.org/wiki/2020_coronavirus_pandemic_in_the_United_States\"],\n [{\n            'v': 36,\n            'f': \"36\",\n        },\n\"Cambodia\",\nNaN,\n\"2020-03-28\",\n\"Partial\",\n\"https://www.bangkokpost.com/world/1888300/cambodia-steps-up-travel-curbs-on-foreigners\"],\n [{\n            'v': 21,\n            'f': \"21\",\n        },\n\"Barbados\",\nNaN,\n\"2020-03-28\",\n\"Full\",\n\"https://en.wikipedia.org/wiki/2020_coronavirus_pandemic_in_Barbados\"],\n [{\n            'v': 189,\n            'f': \"189\",\n        },\n\"Oman\",\nNaN,\n\"2020-03-29\",\n\"Partial\",\n\"https://www.omanobserver.om/oman-to-suspend-all-domestic-and-international-flights-from-sunday612586-2/\"],\n [{\n            'v': 90,\n            'f': \"90\",\n        },\n\"Cote dIvoire\",\nNaN,\n\"2020-03-29\",\n\"Full\",\nNaN],\n [{\n            'v': 24,\n            'f': \"24\",\n        },\n\"Belize\",\nNaN,\n\"2020-03-30\",\n\"Full\",\n\"https://en.wikipedia.org/wiki/2020_coronavirus_pandemic_in_Belize\"],\n [{\n            'v': 295,\n            'f': \"295\",\n        },\n\"US\",\n\"Virginia\",\n\"2020-03-30\",\n\"Full\",\n\"https://en.wikipedia.org/wiki/2020_coronavirus_pandemic_in_the_United_States\"],\n [{\n            'v': 267,\n            'f': \"267\",\n        },\n\"US\",\n\"Maryland\",\n\"2020-03-30\",\n\"Full\",\n\"https://en.wikipedia.org/wiki/2020_coronavirus_pandemic_in_the_United_States\"],\n [{\n            'v': 280,\n            'f': \"280\",\n        },\n\"US\",\n\"North Carolina\",\n\"2020-03-30\",\n\"Full\",\n\"https://en.wikipedia.org/wiki/2020_coronavirus_pandemic_in_the_United_States\"],\n [{\n            'v': 263,\n            'f': \"263\",\n        },\n\"US\",\n\"Kansas\",\n\"2020-03-30\",\n\"Full\",\n\"https://en.wikipedia.org/wiki/2020_coronavirus_pandemic_in_the_United_States\"],\n [{\n            'v': 248,\n            'f': \"248\",\n        },\n\"US\",\n\"Arizona\",\n\"2020-03-31\",\n\"Full\",\n\"https://en.wikipedia.org/wiki/2020_coronavirus_pandemic_in_the_United_States\"],\n [{\n            'v': 290,\n            'f': \"290\",\n        },\n\"US\",\n\"Tennessee\",\n\"2020-03-31\",\n\"Full\",\n\"https://en.wikipedia.org/wiki/2020_coronavirus_pandemic_in_the_United_States\"],\n [{\n            'v': 291,\n            'f': \"291\",\n        },\n\"US\",\n\"Texas\",\n\"2020-04-02\",\n\"Full\",\n\"https://en.wikipedia.org/wiki/2020_coronavirus_pandemic_in_the_United_States\"],\n [{\n            'v': 255,\n            'f': \"255\",\n        },\n\"US\",\n\"Florida\",\n\"2020-04-02\",\n\"Full\",\n\"https://en.wikipedia.org/wiki/2020_coronavirus_pandemic_in_the_United_States\"],\n [{\n            'v': 266,\n            'f': \"266\",\n        },\n\"US\",\n\"Maine\",\n\"2020-04-02\",\n\"Full\",\n\"https://en.wikipedia.org/wiki/2020_coronavirus_pandemic_in_the_United_States\"],\n [{\n            'v': 29,\n            'f': \"29\",\n        },\n\"Botswana\",\nNaN,\n\"2020-04-02\",\n\"Full\",\n\"https://www.voanews.com/science-health/coronavirus-outbreak/botswana-declares-emergency-first-confirmed-covid-cases\"],\n [{\n            'v': 285,\n            'f': \"285\",\n        },\n\"US\",\n\"Pennsylvania\",\n\"2020-04-02\",\n\"Full\",\n\"https://en.wikipedia.org/wiki/2020_coronavirus_pandemic_in_the_United_States\"],\n [{\n            'v': 275,\n            'f': \"275\",\n        },\n\"US\",\n\"Nevada\",\n\"2020-04-02\",\n\"Full\",\n\"https://en.wikipedia.org/wiki/2020_coronavirus_pandemic_in_the_United_States\"],\n [{\n            'v': 271,\n            'f': \"271\",\n        },\n\"US\",\n\"Mississippi\",\n\"2020-04-03\",\n\"Full\",\n\"https://en.wikipedia.org/wiki/2020_coronavirus_pandemic_in_the_United_States\"],\n [{\n            'v': 246,\n            'f': \"246\",\n        },\n\"US\",\n\"Alabama\",\n\"2020-04-04\",\n\"Full\",\n\"https://en.wikipedia.org/wiki/2020_coronavirus_pandemic_in_the_United_States\"],\n [{\n            'v': 272,\n            'f': \"272\",\n        },\n\"US\",\n\"Missouri\",\n\"2020-04-06\",\n\"Full\",\n\"https://en.wikipedia.org/wiki/2020_coronavirus_pandemic_in_the_United_States\"]],\n        columns: [[\"number\", \"index\"], [\"string\", \"country_region\"], [\"string\", \"province\"], [\"string\", \"date\"], [\"string\", \"type\"], [\"string\", \"reference\"]],\n        columnOptions: [{\"width\": \"1px\", \"className\": \"index_column\"}],\n        rowsPerPage: 25,\n        helpUrl: \"https://colab.research.google.com/notebooks/data_table.ipynb\",\n        suppressOutputScrolling: true,\n        minimumWidth: undefined,\n      });\n    ",
            "text/html": [
              "<div>\n",
              "<style scoped>\n",
              "    .dataframe tbody tr th:only-of-type {\n",
              "        vertical-align: middle;\n",
              "    }\n",
              "\n",
              "    .dataframe tbody tr th {\n",
              "        vertical-align: top;\n",
              "    }\n",
              "\n",
              "    .dataframe thead th {\n",
              "        text-align: right;\n",
              "    }\n",
              "</style>\n",
              "<table border=\"1\" class=\"dataframe\">\n",
              "  <thead>\n",
              "    <tr style=\"text-align: right;\">\n",
              "      <th></th>\n",
              "      <th>country_region</th>\n",
              "      <th>province</th>\n",
              "      <th>date</th>\n",
              "      <th>type</th>\n",
              "      <th>reference</th>\n",
              "    </tr>\n",
              "  </thead>\n",
              "  <tbody>\n",
              "    <tr>\n",
              "      <th>81</th>\n",
              "      <td>China</td>\n",
              "      <td>Tianjin</td>\n",
              "      <td>2020-01-23</td>\n",
              "      <td>Full</td>\n",
              "      <td>https://en.wikipedia.org/wiki/2020_Hubei_lockd...</td>\n",
              "    </tr>\n",
              "    <tr>\n",
              "      <th>84</th>\n",
              "      <td>China</td>\n",
              "      <td>Yunnan</td>\n",
              "      <td>2020-01-23</td>\n",
              "      <td>Full</td>\n",
              "      <td>https://en.wikipedia.org/wiki/2020_Hubei_lockd...</td>\n",
              "    </tr>\n",
              "    <tr>\n",
              "      <th>83</th>\n",
              "      <td>China</td>\n",
              "      <td>Xinjiang</td>\n",
              "      <td>2020-01-23</td>\n",
              "      <td>Full</td>\n",
              "      <td>https://en.wikipedia.org/wiki/2020_Hubei_lockd...</td>\n",
              "    </tr>\n",
              "    <tr>\n",
              "      <th>53</th>\n",
              "      <td>China</td>\n",
              "      <td>Anhui</td>\n",
              "      <td>2020-01-23</td>\n",
              "      <td>Full</td>\n",
              "      <td>https://en.wikipedia.org/wiki/2020_Hubei_lockd...</td>\n",
              "    </tr>\n",
              "    <tr>\n",
              "      <th>54</th>\n",
              "      <td>China</td>\n",
              "      <td>Beijing</td>\n",
              "      <td>2020-01-23</td>\n",
              "      <td>Full</td>\n",
              "      <td>https://en.wikipedia.org/wiki/2020_Hubei_lockd...</td>\n",
              "    </tr>\n",
              "    <tr>\n",
              "      <th>...</th>\n",
              "      <td>...</td>\n",
              "      <td>...</td>\n",
              "      <td>...</td>\n",
              "      <td>...</td>\n",
              "      <td>...</td>\n",
              "    </tr>\n",
              "    <tr>\n",
              "      <th>285</th>\n",
              "      <td>US</td>\n",
              "      <td>Pennsylvania</td>\n",
              "      <td>2020-04-02</td>\n",
              "      <td>Full</td>\n",
              "      <td>https://en.wikipedia.org/wiki/2020_coronavirus...</td>\n",
              "    </tr>\n",
              "    <tr>\n",
              "      <th>275</th>\n",
              "      <td>US</td>\n",
              "      <td>Nevada</td>\n",
              "      <td>2020-04-02</td>\n",
              "      <td>Full</td>\n",
              "      <td>https://en.wikipedia.org/wiki/2020_coronavirus...</td>\n",
              "    </tr>\n",
              "    <tr>\n",
              "      <th>271</th>\n",
              "      <td>US</td>\n",
              "      <td>Mississippi</td>\n",
              "      <td>2020-04-03</td>\n",
              "      <td>Full</td>\n",
              "      <td>https://en.wikipedia.org/wiki/2020_coronavirus...</td>\n",
              "    </tr>\n",
              "    <tr>\n",
              "      <th>246</th>\n",
              "      <td>US</td>\n",
              "      <td>Alabama</td>\n",
              "      <td>2020-04-04</td>\n",
              "      <td>Full</td>\n",
              "      <td>https://en.wikipedia.org/wiki/2020_coronavirus...</td>\n",
              "    </tr>\n",
              "    <tr>\n",
              "      <th>272</th>\n",
              "      <td>US</td>\n",
              "      <td>Missouri</td>\n",
              "      <td>2020-04-06</td>\n",
              "      <td>Full</td>\n",
              "      <td>https://en.wikipedia.org/wiki/2020_coronavirus...</td>\n",
              "    </tr>\n",
              "  </tbody>\n",
              "</table>\n",
              "<p>230 rows × 5 columns</p>\n",
              "</div>"
            ],
            "text/plain": [
              "    country_region  ...                                          reference\n",
              "81           China  ...  https://en.wikipedia.org/wiki/2020_Hubei_lockd...\n",
              "84           China  ...  https://en.wikipedia.org/wiki/2020_Hubei_lockd...\n",
              "83           China  ...  https://en.wikipedia.org/wiki/2020_Hubei_lockd...\n",
              "53           China  ...  https://en.wikipedia.org/wiki/2020_Hubei_lockd...\n",
              "54           China  ...  https://en.wikipedia.org/wiki/2020_Hubei_lockd...\n",
              "..             ...  ...                                                ...\n",
              "285             US  ...  https://en.wikipedia.org/wiki/2020_coronavirus...\n",
              "275             US  ...  https://en.wikipedia.org/wiki/2020_coronavirus...\n",
              "271             US  ...  https://en.wikipedia.org/wiki/2020_coronavirus...\n",
              "246             US  ...  https://en.wikipedia.org/wiki/2020_coronavirus...\n",
              "272             US  ...  https://en.wikipedia.org/wiki/2020_coronavirus...\n",
              "\n",
              "[230 rows x 5 columns]"
            ]
          },
          "metadata": {},
          "execution_count": 21
        }
      ]
    },
    {
      "cell_type": "code",
      "metadata": {
        "colab": {
          "base_uri": "https://localhost:8080/",
          "height": 119
        },
        "id": "48JH_Vstj2-e",
        "outputId": "10225423-39fe-4808-fe85-80d8a0a87df0"
      },
      "source": [
        "print(sorted(df.date.unique()))"
      ],
      "execution_count": null,
      "outputs": [
        {
          "output_type": "display_data",
          "data": {
            "text/html": [
              "\n",
              "  <style>\n",
              "    pre {\n",
              "        white-space: pre-wrap;\n",
              "    }\n",
              "  </style>\n",
              "  "
            ],
            "text/plain": [
              "<IPython.core.display.HTML object>"
            ]
          },
          "metadata": {}
        },
        {
          "output_type": "stream",
          "name": "stdout",
          "text": [
            "['2020-01-23', '2020-01-26', '2020-02-02', '2020-02-23', '2020-02-25', '2020-02-27', '2020-03-02', '2020-03-05', '2020-03-06', '2020-03-08', '2020-03-09', '2020-03-10', '2020-03-11', '2020-03-12', '2020-03-13', '2020-03-14', '2020-03-15', '2020-03-16', '2020-03-17', '2020-03-18', '2020-03-19', '2020-03-20', '2020-03-21', '2020-03-22', '2020-03-23', '2020-03-24', '2020-03-25', '2020-03-26', '2020-03-27', '2020-03-28', '2020-03-29', '2020-03-30', '2020-03-31', '2020-04-02', '2020-04-03', '2020-04-04', '2020-04-06']\n"
          ]
        }
      ]
    },
    {
      "cell_type": "code",
      "metadata": {
        "colab": {
          "base_uri": "https://localhost:8080/",
          "height": 34
        },
        "id": "b-CYuQWJjtTt",
        "outputId": "b860b1ce-9007-4325-b8d7-56574526f9a7"
      },
      "source": [
        "# date range\n",
        "df.date.min(), df.date.max()"
      ],
      "execution_count": null,
      "outputs": [
        {
          "output_type": "display_data",
          "data": {
            "text/html": [
              "\n",
              "  <style>\n",
              "    pre {\n",
              "        white-space: pre-wrap;\n",
              "    }\n",
              "  </style>\n",
              "  "
            ],
            "text/plain": [
              "<IPython.core.display.HTML object>"
            ]
          },
          "metadata": {}
        },
        {
          "output_type": "execute_result",
          "data": {
            "text/plain": [
              "('2020-01-23', '2020-04-06')"
            ]
          },
          "metadata": {},
          "execution_count": 23
        }
      ]
    },
    {
      "cell_type": "code",
      "metadata": {
        "colab": {
          "base_uri": "https://localhost:8080/",
          "height": 306
        },
        "id": "D9XdjdeSmsQ0",
        "outputId": "834fcc59-475e-410b-bc9f-ae9ccf26b590"
      },
      "source": [
        "# countries/regions found in the dataset\n",
        "print(sorted(df.country_region.unique()))"
      ],
      "execution_count": null,
      "outputs": [
        {
          "output_type": "display_data",
          "data": {
            "text/html": [
              "\n",
              "  <style>\n",
              "    pre {\n",
              "        white-space: pre-wrap;\n",
              "    }\n",
              "  </style>\n",
              "  "
            ],
            "text/plain": [
              "<IPython.core.display.HTML object>"
            ]
          },
          "metadata": {}
        },
        {
          "output_type": "stream",
          "name": "stdout",
          "text": [
            "['Afghanistan', 'Albania', 'Algeria', 'Andorra', 'Angola', 'Argentina', 'Armenia', 'Australia', 'Austria', 'Azerbaijan', 'Bahamas', 'Bahrain', 'Bangladesh', 'Barbados', 'Belgium', 'Belize', 'Bhutan', 'Bolivia', 'Bosnia and Herzegovina', 'Botswana', 'Bulgaria', 'Burkina Faso', 'Cambodia', 'Canada', 'Chile', 'China', 'Colombia', 'Congo (Kinshasa)', 'Costa Rica', 'Cote dIvoire', 'Croatia', 'Cyprus', 'Czechia', 'Denmark', 'Dominican Republic', 'Ecuador', 'Egypt', 'El Salvador', 'Estonia', 'Ethiopia', 'Fiji', 'Finland', 'France', 'Gambia', 'Georgia', 'Germany', 'Ghana', 'Greece', 'Honduras', 'Hungary', 'Iceland', 'India', 'Indonesia', 'Iran', 'Iraq', 'Ireland', 'Israel', 'Italy', 'Jamaica', 'Japan', 'Jersey', 'Jordan', 'Kazakhstan', 'Kenya', 'Korea, South', 'Kosovo', 'Kuwait', 'Kyrgyzstan', 'Latvia', 'Lebanon', 'Liechtenstein', 'Lithuania', 'Luxembourg', 'Madagascar', 'Malaysia', 'Maldives', 'Mali', 'Malta', 'Mauritius', 'Mexico', 'Moldova', 'Monaco', 'Mongolia', 'Montenegro', 'Morocco', 'Namibia', 'Nepal', 'Netherlands', 'New Zealand', 'Nigeria', 'North Macedonia', 'Norway', 'Oman', 'Pakistan', 'Palestine', 'Panama', 'Paraguay', 'Peru', 'Philippines', 'Poland', 'Portugal', 'Qatar', 'Romania', 'Russia', 'Rwanda', 'Saint Lucia', 'San Marino', 'Saudi Arabia', 'Senegal', 'Serbia', 'Singapore', 'Slovakia', 'Slovenia', 'Somalia', 'South Africa', 'Spain', 'Sri Lanka', 'Switzerland', 'Syria', 'Taiwan*', 'Thailand', 'Togo', 'Trinidad and Tobago', 'Tunisia', 'Turkey', 'US', 'Uganda', 'Ukraine', 'United Arab Emirates', 'United Kingdom', 'Uruguay', 'Uzbekistan', 'Vatican City', 'Venezuela', 'Vietnam', 'West Bank and Gaza', 'Zimbabwe']\n"
          ]
        }
      ]
    },
    {
      "cell_type": "code",
      "metadata": {
        "colab": {
          "base_uri": "https://localhost:8080/",
          "height": 238
        },
        "id": "cjuShI2EnkWP",
        "outputId": "5e0ece41-ce0b-4723-c13c-4d4761308df8"
      },
      "source": [
        "# provinces found in the dataset\n",
        "# dropna() is used to remove null values\n",
        "print(sorted(df.province.dropna().unique()))"
      ],
      "execution_count": null,
      "outputs": [
        {
          "output_type": "display_data",
          "data": {
            "text/html": [
              "\n",
              "  <style>\n",
              "    pre {\n",
              "        white-space: pre-wrap;\n",
              "    }\n",
              "  </style>\n",
              "  "
            ],
            "text/plain": [
              "<IPython.core.display.HTML object>"
            ]
          },
          "metadata": {}
        },
        {
          "output_type": "stream",
          "name": "stdout",
          "text": [
            "['Alabama', 'Alaska', 'Alberta', 'Anguilla', 'Anhui', 'Arizona', 'Aruba', 'Beijing', 'British Columbia', 'California', 'Chongqing', 'Colorado', 'Connecticut', 'Delaware', 'Faroe Islands', 'Florida', 'French Polynesia', 'Fujian', 'Gansu', 'Gibraltar', 'Guam', 'Guangdong', 'Guangxi', 'Guizhou', 'Hainan', 'Hawaii', 'Hebei', 'Heilongjiang', 'Henan', 'Hong Kong', 'Hubei', 'Hunan', 'Idaho', 'Illinois', 'Indiana', 'Inner Mongolia', 'Isle of Man', 'Jiangsu', 'Jiangxi', 'Jilin', 'Kansas', 'Kentucky', 'Liaoning', 'Louisiana', 'Macau', 'Maine', 'Manitoba', 'Martinique', 'Maryland', 'Massachusetts', 'Michigan', 'Minnesota', 'Mississippi', 'Missouri', 'Montana', 'Nevada', 'New Brunswick', 'New Hampshire', 'New Jersey', 'New Mexico', 'New York', 'Newfoundland and Labrador', 'Ningxia', 'North Carolina', 'Northwest Territories', 'Nova Scotia', 'Ohio', 'Ontario', 'Oregon', 'Pennsylvania', 'Prince Edward Island', 'Puerto Rico', 'Qinghai', 'Quebec', 'Rhode Island', 'Saskatchewan', 'Shaanxi', 'Shandong', 'Shanghai', 'Shanxi', 'Sichuan', 'Tennessee', 'Texas', 'Tianjin', 'Tibet', 'Turks and Caicos Islands', 'Vermont', 'Victoria', 'Virgin Islands', 'Virginia', 'Washington', 'West Virginia', 'Wisconsin', 'Xinjiang', 'Yukon', 'Yunnan', 'Zhejiang']\n"
          ]
        }
      ]
    },
    {
      "cell_type": "code",
      "metadata": {
        "colab": {
          "base_uri": "https://localhost:8080/",
          "height": 34
        },
        "id": "sRvG5DMNnxxL",
        "outputId": "f155c245-478d-4b0b-9b10-4745c8e21429"
      },
      "source": [
        "# types of lockdown found in the dataset\n",
        "print(sorted(df.type.unique()))"
      ],
      "execution_count": null,
      "outputs": [
        {
          "output_type": "display_data",
          "data": {
            "text/html": [
              "\n",
              "  <style>\n",
              "    pre {\n",
              "        white-space: pre-wrap;\n",
              "    }\n",
              "  </style>\n",
              "  "
            ],
            "text/plain": [
              "<IPython.core.display.HTML object>"
            ]
          },
          "metadata": {}
        },
        {
          "output_type": "stream",
          "name": "stdout",
          "text": [
            "['Full', 'Partial']\n"
          ]
        }
      ]
    },
    {
      "cell_type": "code",
      "metadata": {
        "colab": {
          "base_uri": "https://localhost:8080/",
          "height": 34
        },
        "id": "MKWIyn8FMHfO",
        "outputId": "40112e6e-288d-4ee2-98d2-59c0a4673629"
      },
      "source": [
        "# number of duplicated rows\n",
        "df.duplicated(keep='first').sum()"
      ],
      "execution_count": null,
      "outputs": [
        {
          "output_type": "display_data",
          "data": {
            "text/html": [
              "\n",
              "  <style>\n",
              "    pre {\n",
              "        white-space: pre-wrap;\n",
              "    }\n",
              "  </style>\n",
              "  "
            ],
            "text/plain": [
              "<IPython.core.display.HTML object>"
            ]
          },
          "metadata": {}
        },
        {
          "output_type": "execute_result",
          "data": {
            "text/plain": [
              "0"
            ]
          },
          "metadata": {},
          "execution_count": 27
        }
      ]
    },
    {
      "cell_type": "code",
      "metadata": {
        "id": "oBqOyOryMHVo",
        "colab": {
          "base_uri": "https://localhost:8080/",
          "height": 17
        },
        "outputId": "a3164347-81c9-4471-86cd-8cebfe7f6d08"
      },
      "source": [
        "# country names are not standard, let's use country codes instead\n",
        "# we'll need them when we want to merge this dataset with other ones\n",
        "\n",
        "# download data\n",
        "COUNTRY_CODE_DATA_URL = 'https://www.dropbox.com/s/h1u9kkc1l30lw8a/country_codes_and_flags.tsv'\n",
        "!wget {COUNTRY_CODE_DATA_URL} &> /dev/null"
      ],
      "execution_count": null,
      "outputs": [
        {
          "output_type": "display_data",
          "data": {
            "text/html": [
              "\n",
              "  <style>\n",
              "    pre {\n",
              "        white-space: pre-wrap;\n",
              "    }\n",
              "  </style>\n",
              "  "
            ],
            "text/plain": [
              "<IPython.core.display.HTML object>"
            ]
          },
          "metadata": {}
        }
      ]
    },
    {
      "cell_type": "code",
      "metadata": {
        "id": "XbE0h3BKMHTP",
        "colab": {
          "base_uri": "https://localhost:8080/",
          "height": 17
        },
        "outputId": "0a75d724-8465-43a1-a3c9-edf18bab4ff1"
      },
      "source": [
        "# move the TSV file to the raw/ folder\n",
        "!mv *.tsv data/lockdowns/raw"
      ],
      "execution_count": null,
      "outputs": [
        {
          "output_type": "display_data",
          "data": {
            "text/html": [
              "\n",
              "  <style>\n",
              "    pre {\n",
              "        white-space: pre-wrap;\n",
              "    }\n",
              "  </style>\n",
              "  "
            ],
            "text/plain": [
              "<IPython.core.display.HTML object>"
            ]
          },
          "metadata": {}
        }
      ]
    },
    {
      "cell_type": "code",
      "metadata": {
        "id": "Bsw6mM4EN0pr",
        "colab": {
          "base_uri": "https://localhost:8080/",
          "height": 187
        },
        "outputId": "1ce08f34-60a1-4227-b891-e345f7a95668"
      },
      "source": [
        "# display the first 10 lines of the data file (with line numbers)\n",
        "TSV_FILE_PATH = LOCKDOWNS_RAW_DATA_FOLDER / 'country_codes_and_flags.tsv'\n",
        "!head {TSV_FILE_PATH} | cat -n"
      ],
      "execution_count": null,
      "outputs": [
        {
          "output_type": "display_data",
          "data": {
            "text/html": [
              "\n",
              "  <style>\n",
              "    pre {\n",
              "        white-space: pre-wrap;\n",
              "    }\n",
              "  </style>\n",
              "  "
            ],
            "text/plain": [
              "<IPython.core.display.HTML object>"
            ]
          },
          "metadata": {}
        },
        {
          "output_type": "stream",
          "name": "stdout",
          "text": [
            "     1\tCountry Name\tAlpha-2 Code\tAlpha-3 Code\tNumeric Code\tFlag\n",
            "     2\tAfghanistan\tAF\tAFG\t4\t🇦🇫\n",
            "     3\tÅland Islands\tAX\tALA\t248\t🇦🇽\n",
            "     4\tAlbania\tAL\tALB\t8\t🇦🇱\n",
            "     5\tAlgeria\tDZ\tDZA\t12\t🇩🇿\n",
            "     6\tAmerican Samoa\tAS\tASM\t16\t🇦🇸\n",
            "     7\tAndorra\tAD\tAND\t20\t🇦🇩\n",
            "     8\tAngola\tAO\tAGO\t24\t🇦🇴\n",
            "     9\tAnguilla\tAI\tAIA\t660\t🇦🇮\n",
            "    10\tAntarctica\tAQ\tATA\t10\t🇦🇶\n"
          ]
        }
      ]
    },
    {
      "cell_type": "code",
      "metadata": {
        "id": "UYzuaJvYN0ij",
        "colab": {
          "base_uri": "https://localhost:8080/",
          "height": 623
        },
        "outputId": "b0040ddb-60d7-4aa0-8773-be1bf1c836e3"
      },
      "source": [
        "df2 = pd.read_csv(TSV_FILE_PATH, sep='\\t')\n",
        "df2"
      ],
      "execution_count": null,
      "outputs": [
        {
          "output_type": "display_data",
          "data": {
            "text/html": [
              "\n",
              "  <style>\n",
              "    pre {\n",
              "        white-space: pre-wrap;\n",
              "    }\n",
              "  </style>\n",
              "  "
            ],
            "text/plain": [
              "<IPython.core.display.HTML object>"
            ]
          },
          "metadata": {}
        },
        {
          "output_type": "execute_result",
          "data": {
            "application/vnd.google.colaboratory.module+javascript": "\n      import \"https://ssl.gstatic.com/colaboratory/data_table/a6224c040fa35dcf/data_table.js\";\n\n      window.createDataTable({\n        data: [[{\n            'v': 0,\n            'f': \"0\",\n        },\n\"Afghanistan\",\n\"AF\",\n\"AFG\",\n{\n            'v': 4,\n            'f': \"4\",\n        },\n\"\\ud83c\\udde6\\ud83c\\uddeb\"],\n [{\n            'v': 1,\n            'f': \"1\",\n        },\n\"\\u00c5land Islands\",\n\"AX\",\n\"ALA\",\n{\n            'v': 248,\n            'f': \"248\",\n        },\n\"\\ud83c\\udde6\\ud83c\\uddfd\"],\n [{\n            'v': 2,\n            'f': \"2\",\n        },\n\"Albania\",\n\"AL\",\n\"ALB\",\n{\n            'v': 8,\n            'f': \"8\",\n        },\n\"\\ud83c\\udde6\\ud83c\\uddf1\"],\n [{\n            'v': 3,\n            'f': \"3\",\n        },\n\"Algeria\",\n\"DZ\",\n\"DZA\",\n{\n            'v': 12,\n            'f': \"12\",\n        },\n\"\\ud83c\\udde9\\ud83c\\uddff\"],\n [{\n            'v': 4,\n            'f': \"4\",\n        },\n\"American Samoa\",\n\"AS\",\n\"ASM\",\n{\n            'v': 16,\n            'f': \"16\",\n        },\n\"\\ud83c\\udde6\\ud83c\\uddf8\"],\n [{\n            'v': 5,\n            'f': \"5\",\n        },\n\"Andorra\",\n\"AD\",\n\"AND\",\n{\n            'v': 20,\n            'f': \"20\",\n        },\n\"\\ud83c\\udde6\\ud83c\\udde9\"],\n [{\n            'v': 6,\n            'f': \"6\",\n        },\n\"Angola\",\n\"AO\",\n\"AGO\",\n{\n            'v': 24,\n            'f': \"24\",\n        },\n\"\\ud83c\\udde6\\ud83c\\uddf4\"],\n [{\n            'v': 7,\n            'f': \"7\",\n        },\n\"Anguilla\",\n\"AI\",\n\"AIA\",\n{\n            'v': 660,\n            'f': \"660\",\n        },\n\"\\ud83c\\udde6\\ud83c\\uddee\"],\n [{\n            'v': 8,\n            'f': \"8\",\n        },\n\"Antarctica\",\n\"AQ\",\n\"ATA\",\n{\n            'v': 10,\n            'f': \"10\",\n        },\n\"\\ud83c\\udde6\\ud83c\\uddf6\"],\n [{\n            'v': 9,\n            'f': \"9\",\n        },\n\"Antigua and Barbuda\",\n\"AG\",\n\"ATG\",\n{\n            'v': 28,\n            'f': \"28\",\n        },\n\"\\ud83c\\udde6\\ud83c\\uddec\"],\n [{\n            'v': 10,\n            'f': \"10\",\n        },\n\"Argentina\",\n\"AR\",\n\"ARG\",\n{\n            'v': 32,\n            'f': \"32\",\n        },\n\"\\ud83c\\udde6\\ud83c\\uddf7\"],\n [{\n            'v': 11,\n            'f': \"11\",\n        },\n\"Armenia\",\n\"AM\",\n\"ARM\",\n{\n            'v': 51,\n            'f': \"51\",\n        },\n\"\\ud83c\\udde6\\ud83c\\uddf2\"],\n [{\n            'v': 12,\n            'f': \"12\",\n        },\n\"Aruba\",\n\"AW\",\n\"ABW\",\n{\n            'v': 533,\n            'f': \"533\",\n        },\n\"\\ud83c\\udde6\\ud83c\\uddfc\"],\n [{\n            'v': 13,\n            'f': \"13\",\n        },\n\"Australia\",\n\"AU\",\n\"AUS\",\n{\n            'v': 36,\n            'f': \"36\",\n        },\n\"\\ud83c\\udde6\\ud83c\\uddfa\"],\n [{\n            'v': 14,\n            'f': \"14\",\n        },\n\"Austria\",\n\"AT\",\n\"AUT\",\n{\n            'v': 40,\n            'f': \"40\",\n        },\n\"\\ud83c\\udde6\\ud83c\\uddf9\"],\n [{\n            'v': 15,\n            'f': \"15\",\n        },\n\"Azerbaijan\",\n\"AZ\",\n\"AZE\",\n{\n            'v': 31,\n            'f': \"31\",\n        },\n\"\\ud83c\\udde6\\ud83c\\uddff\"],\n [{\n            'v': 16,\n            'f': \"16\",\n        },\n\"Bahamas\",\n\"BS\",\n\"BHS\",\n{\n            'v': 44,\n            'f': \"44\",\n        },\n\"\\ud83c\\udde7\\ud83c\\uddf8\"],\n [{\n            'v': 17,\n            'f': \"17\",\n        },\n\"Bahrain\",\n\"BH\",\n\"BHR\",\n{\n            'v': 48,\n            'f': \"48\",\n        },\n\"\\ud83c\\udde7\\ud83c\\udded\"],\n [{\n            'v': 18,\n            'f': \"18\",\n        },\n\"Bangladesh\",\n\"BD\",\n\"BGD\",\n{\n            'v': 50,\n            'f': \"50\",\n        },\n\"\\ud83c\\udde7\\ud83c\\udde9\"],\n [{\n            'v': 19,\n            'f': \"19\",\n        },\n\"Barbados\",\n\"BB\",\n\"BRB\",\n{\n            'v': 52,\n            'f': \"52\",\n        },\n\"\\ud83c\\udde7\\ud83c\\udde7\"],\n [{\n            'v': 20,\n            'f': \"20\",\n        },\n\"Belarus\",\n\"BY\",\n\"BLR\",\n{\n            'v': 112,\n            'f': \"112\",\n        },\n\"\\ud83c\\udde7\\ud83c\\uddfe\"],\n [{\n            'v': 21,\n            'f': \"21\",\n        },\n\"Belgium\",\n\"BE\",\n\"BEL\",\n{\n            'v': 56,\n            'f': \"56\",\n        },\n\"\\ud83c\\udde7\\ud83c\\uddea\"],\n [{\n            'v': 22,\n            'f': \"22\",\n        },\n\"Belize\",\n\"BZ\",\n\"BLZ\",\n{\n            'v': 84,\n            'f': \"84\",\n        },\n\"\\ud83c\\udde7\\ud83c\\uddff\"],\n [{\n            'v': 23,\n            'f': \"23\",\n        },\n\"Benin\",\n\"BJ\",\n\"BEN\",\n{\n            'v': 204,\n            'f': \"204\",\n        },\n\"\\ud83c\\udde7\\ud83c\\uddef\"],\n [{\n            'v': 24,\n            'f': \"24\",\n        },\n\"Bermuda\",\n\"BM\",\n\"BMU\",\n{\n            'v': 60,\n            'f': \"60\",\n        },\n\"\\ud83c\\udde7\\ud83c\\uddf2\"],\n [{\n            'v': 25,\n            'f': \"25\",\n        },\n\"Bhutan\",\n\"BT\",\n\"BTN\",\n{\n            'v': 64,\n            'f': \"64\",\n        },\n\"\\ud83c\\udde7\\ud83c\\uddf9\"],\n [{\n            'v': 26,\n            'f': \"26\",\n        },\n\"Bolivia (Plurinational State of)\",\n\"BO\",\n\"BOL\",\n{\n            'v': 68,\n            'f': \"68\",\n        },\n\"\\ud83c\\udde7\\ud83c\\uddf4\"],\n [{\n            'v': 27,\n            'f': \"27\",\n        },\n\"Bonaire, Sint Eustatius and Saba\",\n\"BQ\",\n\"BES\",\n{\n            'v': 535,\n            'f': \"535\",\n        },\n\"\\ud83c\\udde7\\ud83c\\uddf6\"],\n [{\n            'v': 28,\n            'f': \"28\",\n        },\n\"Bosnia and Herzegovina\",\n\"BA\",\n\"BIH\",\n{\n            'v': 70,\n            'f': \"70\",\n        },\n\"\\ud83c\\udde7\\ud83c\\udde6\"],\n [{\n            'v': 29,\n            'f': \"29\",\n        },\n\"Botswana\",\n\"BW\",\n\"BWA\",\n{\n            'v': 72,\n            'f': \"72\",\n        },\n\"\\ud83c\\udde7\\ud83c\\uddfc\"],\n [{\n            'v': 30,\n            'f': \"30\",\n        },\n\"Bouvet Island\",\n\"BV\",\n\"BVT\",\n{\n            'v': 74,\n            'f': \"74\",\n        },\n\"\\ud83c\\udde7\\ud83c\\uddfb\"],\n [{\n            'v': 31,\n            'f': \"31\",\n        },\n\"Brazil\",\n\"BR\",\n\"BRA\",\n{\n            'v': 76,\n            'f': \"76\",\n        },\n\"\\ud83c\\udde7\\ud83c\\uddf7\"],\n [{\n            'v': 32,\n            'f': \"32\",\n        },\n\"British Indian Ocean Territory\",\n\"IO\",\n\"IOT\",\n{\n            'v': 86,\n            'f': \"86\",\n        },\n\"\\ud83c\\uddee\\ud83c\\uddf4\"],\n [{\n            'v': 33,\n            'f': \"33\",\n        },\n\"Brunei Darussalam\",\n\"BN\",\n\"BRN\",\n{\n            'v': 96,\n            'f': \"96\",\n        },\n\"\\ud83c\\udde7\\ud83c\\uddf3\"],\n [{\n            'v': 34,\n            'f': \"34\",\n        },\n\"Bulgaria\",\n\"BG\",\n\"BGR\",\n{\n            'v': 100,\n            'f': \"100\",\n        },\n\"\\ud83c\\udde7\\ud83c\\uddec\"],\n [{\n            'v': 35,\n            'f': \"35\",\n        },\n\"Burkina Faso\",\n\"BF\",\n\"BFA\",\n{\n            'v': 854,\n            'f': \"854\",\n        },\n\"\\ud83c\\udde7\\ud83c\\uddeb\"],\n [{\n            'v': 36,\n            'f': \"36\",\n        },\n\"Burundi\",\n\"BI\",\n\"BDI\",\n{\n            'v': 108,\n            'f': \"108\",\n        },\n\"\\ud83c\\udde7\\ud83c\\uddee\"],\n [{\n            'v': 37,\n            'f': \"37\",\n        },\n\"Cabo Verde\",\n\"CV\",\n\"CPV\",\n{\n            'v': 132,\n            'f': \"132\",\n        },\n\"\\ud83c\\udde8\\ud83c\\uddfb\"],\n [{\n            'v': 38,\n            'f': \"38\",\n        },\n\"Cambodia\",\n\"KH\",\n\"KHM\",\n{\n            'v': 116,\n            'f': \"116\",\n        },\n\"\\ud83c\\uddf0\\ud83c\\udded\"],\n [{\n            'v': 39,\n            'f': \"39\",\n        },\n\"Cameroon\",\n\"CM\",\n\"CMR\",\n{\n            'v': 120,\n            'f': \"120\",\n        },\n\"\\ud83c\\udde8\\ud83c\\uddf2\"],\n [{\n            'v': 40,\n            'f': \"40\",\n        },\n\"Canada\",\n\"CA\",\n\"CAN\",\n{\n            'v': 124,\n            'f': \"124\",\n        },\n\"\\ud83c\\udde8\\ud83c\\udde6\"],\n [{\n            'v': 41,\n            'f': \"41\",\n        },\n\"Cayman Islands\",\n\"KY\",\n\"CYM\",\n{\n            'v': 136,\n            'f': \"136\",\n        },\n\"\\ud83c\\uddf0\\ud83c\\uddfe\"],\n [{\n            'v': 42,\n            'f': \"42\",\n        },\n\"Central African Republic\",\n\"CF\",\n\"CAF\",\n{\n            'v': 140,\n            'f': \"140\",\n        },\n\"\\ud83c\\udde8\\ud83c\\uddeb\"],\n [{\n            'v': 43,\n            'f': \"43\",\n        },\n\"Chad\",\n\"TD\",\n\"TCD\",\n{\n            'v': 148,\n            'f': \"148\",\n        },\n\"\\ud83c\\uddf9\\ud83c\\udde9\"],\n [{\n            'v': 44,\n            'f': \"44\",\n        },\n\"Chile\",\n\"CL\",\n\"CHL\",\n{\n            'v': 152,\n            'f': \"152\",\n        },\n\"\\ud83c\\udde8\\ud83c\\uddf1\"],\n [{\n            'v': 45,\n            'f': \"45\",\n        },\n\"China\",\n\"CN\",\n\"CHN\",\n{\n            'v': 156,\n            'f': \"156\",\n        },\n\"\\ud83c\\udde8\\ud83c\\uddf3\"],\n [{\n            'v': 46,\n            'f': \"46\",\n        },\n\"Christmas Island\",\n\"CX\",\n\"CXR\",\n{\n            'v': 162,\n            'f': \"162\",\n        },\n\"\\ud83c\\udde8\\ud83c\\uddfd\"],\n [{\n            'v': 47,\n            'f': \"47\",\n        },\n\"Cocos (Keeling) Islands\",\n\"CC\",\n\"CCK\",\n{\n            'v': 166,\n            'f': \"166\",\n        },\n\"\\ud83c\\udde8\\ud83c\\udde8\"],\n [{\n            'v': 48,\n            'f': \"48\",\n        },\n\"Colombia\",\n\"CO\",\n\"COL\",\n{\n            'v': 170,\n            'f': \"170\",\n        },\n\"\\ud83c\\udde8\\ud83c\\uddf4\"],\n [{\n            'v': 49,\n            'f': \"49\",\n        },\n\"Comoros\",\n\"KM\",\n\"COM\",\n{\n            'v': 174,\n            'f': \"174\",\n        },\n\"\\ud83c\\uddf0\\ud83c\\uddf2\"],\n [{\n            'v': 50,\n            'f': \"50\",\n        },\n\"Congo\",\n\"CG\",\n\"COG\",\n{\n            'v': 178,\n            'f': \"178\",\n        },\n\"\\ud83c\\udde8\\ud83c\\uddec\"],\n [{\n            'v': 51,\n            'f': \"51\",\n        },\n\"Congo, Democratic Republic of the\",\n\"CD\",\n\"COD\",\n{\n            'v': 180,\n            'f': \"180\",\n        },\n\"\\ud83c\\udde8\\ud83c\\udde9\"],\n [{\n            'v': 52,\n            'f': \"52\",\n        },\n\"Cook Islands\",\n\"CK\",\n\"COK\",\n{\n            'v': 184,\n            'f': \"184\",\n        },\n\"\\ud83c\\udde8\\ud83c\\uddf0\"],\n [{\n            'v': 53,\n            'f': \"53\",\n        },\n\"Costa Rica\",\n\"CR\",\n\"CRI\",\n{\n            'v': 188,\n            'f': \"188\",\n        },\n\"\\ud83c\\udde8\\ud83c\\uddf7\"],\n [{\n            'v': 54,\n            'f': \"54\",\n        },\n\"C\\u00f4te d'Ivoire\",\n\"CI\",\n\"CIV\",\n{\n            'v': 384,\n            'f': \"384\",\n        },\n\"\\ud83c\\udde8\\ud83c\\uddee\"],\n [{\n            'v': 55,\n            'f': \"55\",\n        },\n\"Croatia\",\n\"HR\",\n\"HRV\",\n{\n            'v': 191,\n            'f': \"191\",\n        },\n\"\\ud83c\\udded\\ud83c\\uddf7\"],\n [{\n            'v': 56,\n            'f': \"56\",\n        },\n\"Cuba\",\n\"CU\",\n\"CUB\",\n{\n            'v': 192,\n            'f': \"192\",\n        },\n\"\\ud83c\\udde8\\ud83c\\uddfa\"],\n [{\n            'v': 57,\n            'f': \"57\",\n        },\n\"Cura\\u00e7ao\",\n\"CW\",\n\"CUW\",\n{\n            'v': 531,\n            'f': \"531\",\n        },\n\"\\ud83c\\udde8\\ud83c\\uddfc\"],\n [{\n            'v': 58,\n            'f': \"58\",\n        },\n\"Cyprus\",\n\"CY\",\n\"CYP\",\n{\n            'v': 196,\n            'f': \"196\",\n        },\n\"\\ud83c\\udde8\\ud83c\\uddfe\"],\n [{\n            'v': 59,\n            'f': \"59\",\n        },\n\"Czechia\",\n\"CZ\",\n\"CZE\",\n{\n            'v': 203,\n            'f': \"203\",\n        },\n\"\\ud83c\\udde8\\ud83c\\uddff\"],\n [{\n            'v': 60,\n            'f': \"60\",\n        },\n\"Denmark\",\n\"DK\",\n\"DNK\",\n{\n            'v': 208,\n            'f': \"208\",\n        },\n\"\\ud83c\\udde9\\ud83c\\uddf0\"],\n [{\n            'v': 61,\n            'f': \"61\",\n        },\n\"Djibouti\",\n\"DJ\",\n\"DJI\",\n{\n            'v': 262,\n            'f': \"262\",\n        },\n\"\\ud83c\\udde9\\ud83c\\uddef\"],\n [{\n            'v': 62,\n            'f': \"62\",\n        },\n\"Dominica\",\n\"DM\",\n\"DMA\",\n{\n            'v': 212,\n            'f': \"212\",\n        },\n\"\\ud83c\\udde9\\ud83c\\uddf2\"],\n [{\n            'v': 63,\n            'f': \"63\",\n        },\n\"Dominican Republic\",\n\"DO\",\n\"DOM\",\n{\n            'v': 214,\n            'f': \"214\",\n        },\n\"\\ud83c\\udde9\\ud83c\\uddf4\"],\n [{\n            'v': 64,\n            'f': \"64\",\n        },\n\"Ecuador\",\n\"EC\",\n\"ECU\",\n{\n            'v': 218,\n            'f': \"218\",\n        },\n\"\\ud83c\\uddea\\ud83c\\udde8\"],\n [{\n            'v': 65,\n            'f': \"65\",\n        },\n\"Egypt\",\n\"EG\",\n\"EGY\",\n{\n            'v': 818,\n            'f': \"818\",\n        },\n\"\\ud83c\\uddea\\ud83c\\uddec\"],\n [{\n            'v': 66,\n            'f': \"66\",\n        },\n\"El Salvador\",\n\"SV\",\n\"SLV\",\n{\n            'v': 222,\n            'f': \"222\",\n        },\n\"\\ud83c\\uddf8\\ud83c\\uddfb\"],\n [{\n            'v': 67,\n            'f': \"67\",\n        },\n\"Equatorial Guinea\",\n\"GQ\",\n\"GNQ\",\n{\n            'v': 226,\n            'f': \"226\",\n        },\n\"\\ud83c\\uddec\\ud83c\\uddf6\"],\n [{\n            'v': 68,\n            'f': \"68\",\n        },\n\"Eritrea\",\n\"ER\",\n\"ERI\",\n{\n            'v': 232,\n            'f': \"232\",\n        },\n\"\\ud83c\\uddea\\ud83c\\uddf7\"],\n [{\n            'v': 69,\n            'f': \"69\",\n        },\n\"Estonia\",\n\"EE\",\n\"EST\",\n{\n            'v': 233,\n            'f': \"233\",\n        },\n\"\\ud83c\\uddea\\ud83c\\uddea\"],\n [{\n            'v': 70,\n            'f': \"70\",\n        },\n\"Eswatini\",\n\"SZ\",\n\"SWZ\",\n{\n            'v': 748,\n            'f': \"748\",\n        },\n\"\\ud83c\\uddf8\\ud83c\\uddff\"],\n [{\n            'v': 71,\n            'f': \"71\",\n        },\n\"Ethiopia\",\n\"ET\",\n\"ETH\",\n{\n            'v': 231,\n            'f': \"231\",\n        },\n\"\\ud83c\\uddea\\ud83c\\uddf9\"],\n [{\n            'v': 72,\n            'f': \"72\",\n        },\n\"Falkland Islands (Malvinas)\",\n\"FK\",\n\"FLK\",\n{\n            'v': 238,\n            'f': \"238\",\n        },\n\"\\ud83c\\uddeb\\ud83c\\uddf0\"],\n [{\n            'v': 73,\n            'f': \"73\",\n        },\n\"Faroe Islands\",\n\"FO\",\n\"FRO\",\n{\n            'v': 234,\n            'f': \"234\",\n        },\n\"\\ud83c\\uddeb\\ud83c\\uddf4\"],\n [{\n            'v': 74,\n            'f': \"74\",\n        },\n\"Fiji\",\n\"FJ\",\n\"FJI\",\n{\n            'v': 242,\n            'f': \"242\",\n        },\n\"\\ud83c\\uddeb\\ud83c\\uddef\"],\n [{\n            'v': 75,\n            'f': \"75\",\n        },\n\"Finland\",\n\"FI\",\n\"FIN\",\n{\n            'v': 246,\n            'f': \"246\",\n        },\n\"\\ud83c\\uddeb\\ud83c\\uddee\"],\n [{\n            'v': 76,\n            'f': \"76\",\n        },\n\"France\",\n\"FR\",\n\"FRA\",\n{\n            'v': 250,\n            'f': \"250\",\n        },\n\"\\ud83c\\uddeb\\ud83c\\uddf7\"],\n [{\n            'v': 77,\n            'f': \"77\",\n        },\n\"French Guiana\",\n\"GF\",\n\"GUF\",\n{\n            'v': 254,\n            'f': \"254\",\n        },\n\"\\ud83c\\uddec\\ud83c\\uddeb\"],\n [{\n            'v': 78,\n            'f': \"78\",\n        },\n\"French Polynesia\",\n\"PF\",\n\"PYF\",\n{\n            'v': 258,\n            'f': \"258\",\n        },\n\"\\ud83c\\uddf5\\ud83c\\uddeb\"],\n [{\n            'v': 79,\n            'f': \"79\",\n        },\n\"French Southern Territories\",\n\"TF\",\n\"ATF\",\n{\n            'v': 260,\n            'f': \"260\",\n        },\n\"\\ud83c\\uddf9\\ud83c\\uddeb\"],\n [{\n            'v': 80,\n            'f': \"80\",\n        },\n\"Gabon\",\n\"GA\",\n\"GAB\",\n{\n            'v': 266,\n            'f': \"266\",\n        },\n\"\\ud83c\\uddec\\ud83c\\udde6\"],\n [{\n            'v': 81,\n            'f': \"81\",\n        },\n\"Gambia\",\n\"GM\",\n\"GMB\",\n{\n            'v': 270,\n            'f': \"270\",\n        },\n\"\\ud83c\\uddec\\ud83c\\uddf2\"],\n [{\n            'v': 82,\n            'f': \"82\",\n        },\n\"Georgia\",\n\"GE\",\n\"GEO\",\n{\n            'v': 268,\n            'f': \"268\",\n        },\n\"\\ud83c\\uddec\\ud83c\\uddea\"],\n [{\n            'v': 83,\n            'f': \"83\",\n        },\n\"Germany\",\n\"DE\",\n\"DEU\",\n{\n            'v': 276,\n            'f': \"276\",\n        },\n\"\\ud83c\\udde9\\ud83c\\uddea\"],\n [{\n            'v': 84,\n            'f': \"84\",\n        },\n\"Ghana\",\n\"GH\",\n\"GHA\",\n{\n            'v': 288,\n            'f': \"288\",\n        },\n\"\\ud83c\\uddec\\ud83c\\udded\"],\n [{\n            'v': 85,\n            'f': \"85\",\n        },\n\"Gibraltar\",\n\"GI\",\n\"GIB\",\n{\n            'v': 292,\n            'f': \"292\",\n        },\n\"\\ud83c\\uddec\\ud83c\\uddee\"],\n [{\n            'v': 86,\n            'f': \"86\",\n        },\n\"Greece\",\n\"GR\",\n\"GRC\",\n{\n            'v': 300,\n            'f': \"300\",\n        },\n\"\\ud83c\\uddec\\ud83c\\uddf7\"],\n [{\n            'v': 87,\n            'f': \"87\",\n        },\n\"Greenland\",\n\"GL\",\n\"GRL\",\n{\n            'v': 304,\n            'f': \"304\",\n        },\n\"\\ud83c\\uddec\\ud83c\\uddf1\"],\n [{\n            'v': 88,\n            'f': \"88\",\n        },\n\"Grenada\",\n\"GD\",\n\"GRD\",\n{\n            'v': 308,\n            'f': \"308\",\n        },\n\"\\ud83c\\uddec\\ud83c\\udde9\"],\n [{\n            'v': 89,\n            'f': \"89\",\n        },\n\"Guadeloupe\",\n\"GP\",\n\"GLP\",\n{\n            'v': 312,\n            'f': \"312\",\n        },\n\"\\ud83c\\uddec\\ud83c\\uddf5\"],\n [{\n            'v': 90,\n            'f': \"90\",\n        },\n\"Guam\",\n\"GU\",\n\"GUM\",\n{\n            'v': 316,\n            'f': \"316\",\n        },\n\"\\ud83c\\uddec\\ud83c\\uddfa\"],\n [{\n            'v': 91,\n            'f': \"91\",\n        },\n\"Guatemala\",\n\"GT\",\n\"GTM\",\n{\n            'v': 320,\n            'f': \"320\",\n        },\n\"\\ud83c\\uddec\\ud83c\\uddf9\"],\n [{\n            'v': 92,\n            'f': \"92\",\n        },\n\"Guernsey\",\n\"GG\",\n\"GGY\",\n{\n            'v': 831,\n            'f': \"831\",\n        },\n\"\\ud83c\\uddec\\ud83c\\uddec\"],\n [{\n            'v': 93,\n            'f': \"93\",\n        },\n\"Guinea\",\n\"GN\",\n\"GIN\",\n{\n            'v': 324,\n            'f': \"324\",\n        },\n\"\\ud83c\\uddec\\ud83c\\uddf3\"],\n [{\n            'v': 94,\n            'f': \"94\",\n        },\n\"Guinea-Bissau\",\n\"GW\",\n\"GNB\",\n{\n            'v': 624,\n            'f': \"624\",\n        },\n\"\\ud83c\\uddec\\ud83c\\uddfc\"],\n [{\n            'v': 95,\n            'f': \"95\",\n        },\n\"Guyana\",\n\"GY\",\n\"GUY\",\n{\n            'v': 328,\n            'f': \"328\",\n        },\n\"\\ud83c\\uddec\\ud83c\\uddfe\"],\n [{\n            'v': 96,\n            'f': \"96\",\n        },\n\"Haiti\",\n\"HT\",\n\"HTI\",\n{\n            'v': 332,\n            'f': \"332\",\n        },\n\"\\ud83c\\udded\\ud83c\\uddf9\"],\n [{\n            'v': 97,\n            'f': \"97\",\n        },\n\"Heard Island and McDonald Islands\",\n\"HM\",\n\"HMD\",\n{\n            'v': 334,\n            'f': \"334\",\n        },\n\"\\ud83c\\udded\\ud83c\\uddf2\"],\n [{\n            'v': 98,\n            'f': \"98\",\n        },\n\"Holy See\",\n\"VA\",\n\"VAT\",\n{\n            'v': 336,\n            'f': \"336\",\n        },\n\"\\ud83c\\uddfb\\ud83c\\udde6\"],\n [{\n            'v': 99,\n            'f': \"99\",\n        },\n\"Honduras\",\n\"HN\",\n\"HND\",\n{\n            'v': 340,\n            'f': \"340\",\n        },\n\"\\ud83c\\udded\\ud83c\\uddf3\"],\n [{\n            'v': 100,\n            'f': \"100\",\n        },\n\"Hong Kong\",\n\"HK\",\n\"HKG\",\n{\n            'v': 344,\n            'f': \"344\",\n        },\n\"\\ud83c\\udded\\ud83c\\uddf0\"],\n [{\n            'v': 101,\n            'f': \"101\",\n        },\n\"Hungary\",\n\"HU\",\n\"HUN\",\n{\n            'v': 348,\n            'f': \"348\",\n        },\n\"\\ud83c\\udded\\ud83c\\uddfa\"],\n [{\n            'v': 102,\n            'f': \"102\",\n        },\n\"Iceland\",\n\"IS\",\n\"ISL\",\n{\n            'v': 352,\n            'f': \"352\",\n        },\n\"\\ud83c\\uddee\\ud83c\\uddf8\"],\n [{\n            'v': 103,\n            'f': \"103\",\n        },\n\"India\",\n\"IN\",\n\"IND\",\n{\n            'v': 356,\n            'f': \"356\",\n        },\n\"\\ud83c\\uddee\\ud83c\\uddf3\"],\n [{\n            'v': 104,\n            'f': \"104\",\n        },\n\"Indonesia\",\n\"ID\",\n\"IDN\",\n{\n            'v': 360,\n            'f': \"360\",\n        },\n\"\\ud83c\\uddee\\ud83c\\udde9\"],\n [{\n            'v': 105,\n            'f': \"105\",\n        },\n\"Iran (Islamic Republic of)\",\n\"IR\",\n\"IRN\",\n{\n            'v': 364,\n            'f': \"364\",\n        },\n\"\\ud83c\\uddee\\ud83c\\uddf7\"],\n [{\n            'v': 106,\n            'f': \"106\",\n        },\n\"Iraq\",\n\"IQ\",\n\"IRQ\",\n{\n            'v': 368,\n            'f': \"368\",\n        },\n\"\\ud83c\\uddee\\ud83c\\uddf6\"],\n [{\n            'v': 107,\n            'f': \"107\",\n        },\n\"Ireland\",\n\"IE\",\n\"IRL\",\n{\n            'v': 372,\n            'f': \"372\",\n        },\n\"\\ud83c\\uddee\\ud83c\\uddea\"],\n [{\n            'v': 108,\n            'f': \"108\",\n        },\n\"Isle of Man\",\n\"IM\",\n\"IMN\",\n{\n            'v': 833,\n            'f': \"833\",\n        },\n\"\\ud83c\\uddee\\ud83c\\uddf2\"],\n [{\n            'v': 109,\n            'f': \"109\",\n        },\n\"Israel\",\n\"IL\",\n\"ISR\",\n{\n            'v': 376,\n            'f': \"376\",\n        },\n\"\\ud83c\\uddee\\ud83c\\uddf1\"],\n [{\n            'v': 110,\n            'f': \"110\",\n        },\n\"Italy\",\n\"IT\",\n\"ITA\",\n{\n            'v': 380,\n            'f': \"380\",\n        },\n\"\\ud83c\\uddee\\ud83c\\uddf9\"],\n [{\n            'v': 111,\n            'f': \"111\",\n        },\n\"Jamaica\",\n\"JM\",\n\"JAM\",\n{\n            'v': 388,\n            'f': \"388\",\n        },\n\"\\ud83c\\uddef\\ud83c\\uddf2\"],\n [{\n            'v': 112,\n            'f': \"112\",\n        },\n\"Japan\",\n\"JP\",\n\"JPN\",\n{\n            'v': 392,\n            'f': \"392\",\n        },\n\"\\ud83c\\uddef\\ud83c\\uddf5\"],\n [{\n            'v': 113,\n            'f': \"113\",\n        },\n\"Jersey\",\n\"JE\",\n\"JEY\",\n{\n            'v': 832,\n            'f': \"832\",\n        },\n\"\\ud83c\\uddef\\ud83c\\uddea\"],\n [{\n            'v': 114,\n            'f': \"114\",\n        },\n\"Jordan\",\n\"JO\",\n\"JOR\",\n{\n            'v': 400,\n            'f': \"400\",\n        },\n\"\\ud83c\\uddef\\ud83c\\uddf4\"],\n [{\n            'v': 115,\n            'f': \"115\",\n        },\n\"Kazakhstan\",\n\"KZ\",\n\"KAZ\",\n{\n            'v': 398,\n            'f': \"398\",\n        },\n\"\\ud83c\\uddf0\\ud83c\\uddff\"],\n [{\n            'v': 116,\n            'f': \"116\",\n        },\n\"Kenya\",\n\"KE\",\n\"KEN\",\n{\n            'v': 404,\n            'f': \"404\",\n        },\n\"\\ud83c\\uddf0\\ud83c\\uddea\"],\n [{\n            'v': 117,\n            'f': \"117\",\n        },\n\"Kiribati\",\n\"KI\",\n\"KIR\",\n{\n            'v': 296,\n            'f': \"296\",\n        },\n\"\\ud83c\\uddf0\\ud83c\\uddee\"],\n [{\n            'v': 118,\n            'f': \"118\",\n        },\n\"Korea (Democratic People's Republic of)\",\n\"KP\",\n\"PRK\",\n{\n            'v': 408,\n            'f': \"408\",\n        },\n\"\\ud83c\\uddf0\\ud83c\\uddf5\"],\n [{\n            'v': 119,\n            'f': \"119\",\n        },\n\"Korea, Republic of\",\n\"KR\",\n\"KOR\",\n{\n            'v': 410,\n            'f': \"410\",\n        },\n\"\\ud83c\\uddf0\\ud83c\\uddf7\"],\n [{\n            'v': 120,\n            'f': \"120\",\n        },\n\"Kuwait\",\n\"KW\",\n\"KWT\",\n{\n            'v': 414,\n            'f': \"414\",\n        },\n\"\\ud83c\\uddf0\\ud83c\\uddfc\"],\n [{\n            'v': 121,\n            'f': \"121\",\n        },\n\"Kyrgyzstan\",\n\"KG\",\n\"KGZ\",\n{\n            'v': 417,\n            'f': \"417\",\n        },\n\"\\ud83c\\uddf0\\ud83c\\uddec\"],\n [{\n            'v': 122,\n            'f': \"122\",\n        },\n\"Lao People's Democratic Republic\",\n\"LA\",\n\"LAO\",\n{\n            'v': 418,\n            'f': \"418\",\n        },\n\"\\ud83c\\uddf1\\ud83c\\udde6\"],\n [{\n            'v': 123,\n            'f': \"123\",\n        },\n\"Latvia\",\n\"LV\",\n\"LVA\",\n{\n            'v': 428,\n            'f': \"428\",\n        },\n\"\\ud83c\\uddf1\\ud83c\\uddfb\"],\n [{\n            'v': 124,\n            'f': \"124\",\n        },\n\"Lebanon\",\n\"LB\",\n\"LBN\",\n{\n            'v': 422,\n            'f': \"422\",\n        },\n\"\\ud83c\\uddf1\\ud83c\\udde7\"],\n [{\n            'v': 125,\n            'f': \"125\",\n        },\n\"Lesotho\",\n\"LS\",\n\"LSO\",\n{\n            'v': 426,\n            'f': \"426\",\n        },\n\"\\ud83c\\uddf1\\ud83c\\uddf8\"],\n [{\n            'v': 126,\n            'f': \"126\",\n        },\n\"Liberia\",\n\"LR\",\n\"LBR\",\n{\n            'v': 430,\n            'f': \"430\",\n        },\n\"\\ud83c\\uddf1\\ud83c\\uddf7\"],\n [{\n            'v': 127,\n            'f': \"127\",\n        },\n\"Libya\",\n\"LY\",\n\"LBY\",\n{\n            'v': 434,\n            'f': \"434\",\n        },\n\"\\ud83c\\uddf1\\ud83c\\uddfe\"],\n [{\n            'v': 128,\n            'f': \"128\",\n        },\n\"Liechtenstein\",\n\"LI\",\n\"LIE\",\n{\n            'v': 438,\n            'f': \"438\",\n        },\n\"\\ud83c\\uddf1\\ud83c\\uddee\"],\n [{\n            'v': 129,\n            'f': \"129\",\n        },\n\"Lithuania\",\n\"LT\",\n\"LTU\",\n{\n            'v': 440,\n            'f': \"440\",\n        },\n\"\\ud83c\\uddf1\\ud83c\\uddf9\"],\n [{\n            'v': 130,\n            'f': \"130\",\n        },\n\"Luxembourg\",\n\"LU\",\n\"LUX\",\n{\n            'v': 442,\n            'f': \"442\",\n        },\n\"\\ud83c\\uddf1\\ud83c\\uddfa\"],\n [{\n            'v': 131,\n            'f': \"131\",\n        },\n\"Macao\",\n\"MO\",\n\"MAC\",\n{\n            'v': 446,\n            'f': \"446\",\n        },\n\"\\ud83c\\uddf2\\ud83c\\uddf4\"],\n [{\n            'v': 132,\n            'f': \"132\",\n        },\n\"Madagascar\",\n\"MG\",\n\"MDG\",\n{\n            'v': 450,\n            'f': \"450\",\n        },\n\"\\ud83c\\uddf2\\ud83c\\uddec\"],\n [{\n            'v': 133,\n            'f': \"133\",\n        },\n\"Malawi\",\n\"MW\",\n\"MWI\",\n{\n            'v': 454,\n            'f': \"454\",\n        },\n\"\\ud83c\\uddf2\\ud83c\\uddfc\"],\n [{\n            'v': 134,\n            'f': \"134\",\n        },\n\"Malaysia\",\n\"MY\",\n\"MYS\",\n{\n            'v': 458,\n            'f': \"458\",\n        },\n\"\\ud83c\\uddf2\\ud83c\\uddfe\"],\n [{\n            'v': 135,\n            'f': \"135\",\n        },\n\"Maldives\",\n\"MV\",\n\"MDV\",\n{\n            'v': 462,\n            'f': \"462\",\n        },\n\"\\ud83c\\uddf2\\ud83c\\uddfb\"],\n [{\n            'v': 136,\n            'f': \"136\",\n        },\n\"Mali\",\n\"ML\",\n\"MLI\",\n{\n            'v': 466,\n            'f': \"466\",\n        },\n\"\\ud83c\\uddf2\\ud83c\\uddf1\"],\n [{\n            'v': 137,\n            'f': \"137\",\n        },\n\"Malta\",\n\"MT\",\n\"MLT\",\n{\n            'v': 470,\n            'f': \"470\",\n        },\n\"\\ud83c\\uddf2\\ud83c\\uddf9\"],\n [{\n            'v': 138,\n            'f': \"138\",\n        },\n\"Marshall Islands\",\n\"MH\",\n\"MHL\",\n{\n            'v': 584,\n            'f': \"584\",\n        },\n\"\\ud83c\\uddf2\\ud83c\\udded\"],\n [{\n            'v': 139,\n            'f': \"139\",\n        },\n\"Martinique\",\n\"MQ\",\n\"MTQ\",\n{\n            'v': 474,\n            'f': \"474\",\n        },\n\"\\ud83c\\uddf2\\ud83c\\uddf6\"],\n [{\n            'v': 140,\n            'f': \"140\",\n        },\n\"Mauritania\",\n\"MR\",\n\"MRT\",\n{\n            'v': 478,\n            'f': \"478\",\n        },\n\"\\ud83c\\uddf2\\ud83c\\uddf7\"],\n [{\n            'v': 141,\n            'f': \"141\",\n        },\n\"Mauritius\",\n\"MU\",\n\"MUS\",\n{\n            'v': 480,\n            'f': \"480\",\n        },\n\"\\ud83c\\uddf2\\ud83c\\uddfa\"],\n [{\n            'v': 142,\n            'f': \"142\",\n        },\n\"Mayotte\",\n\"YT\",\n\"MYT\",\n{\n            'v': 175,\n            'f': \"175\",\n        },\n\"\\ud83c\\uddfe\\ud83c\\uddf9\"],\n [{\n            'v': 143,\n            'f': \"143\",\n        },\n\"Mexico\",\n\"MX\",\n\"MEX\",\n{\n            'v': 484,\n            'f': \"484\",\n        },\n\"\\ud83c\\uddf2\\ud83c\\uddfd\"],\n [{\n            'v': 144,\n            'f': \"144\",\n        },\n\"Micronesia (Federated States of)\",\n\"FM\",\n\"FSM\",\n{\n            'v': 583,\n            'f': \"583\",\n        },\n\"\\ud83c\\uddeb\\ud83c\\uddf2\"],\n [{\n            'v': 145,\n            'f': \"145\",\n        },\n\"Moldova, Republic of\",\n\"MD\",\n\"MDA\",\n{\n            'v': 498,\n            'f': \"498\",\n        },\n\"\\ud83c\\uddf2\\ud83c\\udde9\"],\n [{\n            'v': 146,\n            'f': \"146\",\n        },\n\"Monaco\",\n\"MC\",\n\"MCO\",\n{\n            'v': 492,\n            'f': \"492\",\n        },\n\"\\ud83c\\uddf2\\ud83c\\udde8\"],\n [{\n            'v': 147,\n            'f': \"147\",\n        },\n\"Mongolia\",\n\"MN\",\n\"MNG\",\n{\n            'v': 496,\n            'f': \"496\",\n        },\n\"\\ud83c\\uddf2\\ud83c\\uddf3\"],\n [{\n            'v': 148,\n            'f': \"148\",\n        },\n\"Montenegro\",\n\"ME\",\n\"MNE\",\n{\n            'v': 499,\n            'f': \"499\",\n        },\n\"\\ud83c\\uddf2\\ud83c\\uddea\"],\n [{\n            'v': 149,\n            'f': \"149\",\n        },\n\"Montserrat\",\n\"MS\",\n\"MSR\",\n{\n            'v': 500,\n            'f': \"500\",\n        },\n\"\\ud83c\\uddf2\\ud83c\\uddf8\"],\n [{\n            'v': 150,\n            'f': \"150\",\n        },\n\"Morocco\",\n\"MA\",\n\"MAR\",\n{\n            'v': 504,\n            'f': \"504\",\n        },\n\"\\ud83c\\uddf2\\ud83c\\udde6\"],\n [{\n            'v': 151,\n            'f': \"151\",\n        },\n\"Mozambique\",\n\"MZ\",\n\"MOZ\",\n{\n            'v': 508,\n            'f': \"508\",\n        },\n\"\\ud83c\\uddf2\\ud83c\\uddff\"],\n [{\n            'v': 152,\n            'f': \"152\",\n        },\n\"Myanmar\",\n\"MM\",\n\"MMR\",\n{\n            'v': 104,\n            'f': \"104\",\n        },\n\"\\ud83c\\uddf2\\ud83c\\uddf2\"],\n [{\n            'v': 153,\n            'f': \"153\",\n        },\n\"Namibia\",\nNaN,\n\"NAM\",\n{\n            'v': 516,\n            'f': \"516\",\n        },\n\"\\ud83c\\uddf3\\ud83c\\udde6\"],\n [{\n            'v': 154,\n            'f': \"154\",\n        },\n\"Nauru\",\n\"NR\",\n\"NRU\",\n{\n            'v': 520,\n            'f': \"520\",\n        },\n\"\\ud83c\\uddf3\\ud83c\\uddf7\"],\n [{\n            'v': 155,\n            'f': \"155\",\n        },\n\"Nepal\",\n\"NP\",\n\"NPL\",\n{\n            'v': 524,\n            'f': \"524\",\n        },\n\"\\ud83c\\uddf3\\ud83c\\uddf5\"],\n [{\n            'v': 156,\n            'f': \"156\",\n        },\n\"Netherlands\",\n\"NL\",\n\"NLD\",\n{\n            'v': 528,\n            'f': \"528\",\n        },\n\"\\ud83c\\uddf3\\ud83c\\uddf1\"],\n [{\n            'v': 157,\n            'f': \"157\",\n        },\n\"New Caledonia\",\n\"NC\",\n\"NCL\",\n{\n            'v': 540,\n            'f': \"540\",\n        },\n\"\\ud83c\\uddf3\\ud83c\\udde8\"],\n [{\n            'v': 158,\n            'f': \"158\",\n        },\n\"New Zealand\",\n\"NZ\",\n\"NZL\",\n{\n            'v': 554,\n            'f': \"554\",\n        },\n\"\\ud83c\\uddf3\\ud83c\\uddff\"],\n [{\n            'v': 159,\n            'f': \"159\",\n        },\n\"Nicaragua\",\n\"NI\",\n\"NIC\",\n{\n            'v': 558,\n            'f': \"558\",\n        },\n\"\\ud83c\\uddf3\\ud83c\\uddee\"],\n [{\n            'v': 160,\n            'f': \"160\",\n        },\n\"Niger\",\n\"NE\",\n\"NER\",\n{\n            'v': 562,\n            'f': \"562\",\n        },\n\"\\ud83c\\uddf3\\ud83c\\uddea\"],\n [{\n            'v': 161,\n            'f': \"161\",\n        },\n\"Nigeria\",\n\"NG\",\n\"NGA\",\n{\n            'v': 566,\n            'f': \"566\",\n        },\n\"\\ud83c\\uddf3\\ud83c\\uddec\"],\n [{\n            'v': 162,\n            'f': \"162\",\n        },\n\"Niue\",\n\"NU\",\n\"NIU\",\n{\n            'v': 570,\n            'f': \"570\",\n        },\n\"\\ud83c\\uddf3\\ud83c\\uddfa\"],\n [{\n            'v': 163,\n            'f': \"163\",\n        },\n\"Norfolk Island\",\n\"NF\",\n\"NFK\",\n{\n            'v': 574,\n            'f': \"574\",\n        },\n\"\\ud83c\\uddf3\\ud83c\\uddeb\"],\n [{\n            'v': 164,\n            'f': \"164\",\n        },\n\"North Macedonia\",\n\"MK\",\n\"MKD\",\n{\n            'v': 807,\n            'f': \"807\",\n        },\n\"\\ud83c\\uddf2\\ud83c\\uddf0\"],\n [{\n            'v': 165,\n            'f': \"165\",\n        },\n\"Northern Mariana Islands\",\n\"MP\",\n\"MNP\",\n{\n            'v': 580,\n            'f': \"580\",\n        },\n\"\\ud83c\\uddf2\\ud83c\\uddf5\"],\n [{\n            'v': 166,\n            'f': \"166\",\n        },\n\"Norway\",\n\"NO\",\n\"NOR\",\n{\n            'v': 578,\n            'f': \"578\",\n        },\n\"\\ud83c\\uddf3\\ud83c\\uddf4\"],\n [{\n            'v': 167,\n            'f': \"167\",\n        },\n\"Oman\",\n\"OM\",\n\"OMN\",\n{\n            'v': 512,\n            'f': \"512\",\n        },\n\"\\ud83c\\uddf4\\ud83c\\uddf2\"],\n [{\n            'v': 168,\n            'f': \"168\",\n        },\n\"Pakistan\",\n\"PK\",\n\"PAK\",\n{\n            'v': 586,\n            'f': \"586\",\n        },\n\"\\ud83c\\uddf5\\ud83c\\uddf0\"],\n [{\n            'v': 169,\n            'f': \"169\",\n        },\n\"Palau\",\n\"PW\",\n\"PLW\",\n{\n            'v': 585,\n            'f': \"585\",\n        },\n\"\\ud83c\\uddf5\\ud83c\\uddfc\"],\n [{\n            'v': 170,\n            'f': \"170\",\n        },\n\"Palestine, State of\",\n\"PS\",\n\"PSE\",\n{\n            'v': 275,\n            'f': \"275\",\n        },\n\"\\ud83c\\uddf5\\ud83c\\uddf8\"],\n [{\n            'v': 171,\n            'f': \"171\",\n        },\n\"Panama\",\n\"PA\",\n\"PAN\",\n{\n            'v': 591,\n            'f': \"591\",\n        },\n\"\\ud83c\\uddf5\\ud83c\\udde6\"],\n [{\n            'v': 172,\n            'f': \"172\",\n        },\n\"Papua New Guinea\",\n\"PG\",\n\"PNG\",\n{\n            'v': 598,\n            'f': \"598\",\n        },\n\"\\ud83c\\uddf5\\ud83c\\uddec\"],\n [{\n            'v': 173,\n            'f': \"173\",\n        },\n\"Paraguay\",\n\"PY\",\n\"PRY\",\n{\n            'v': 600,\n            'f': \"600\",\n        },\n\"\\ud83c\\uddf5\\ud83c\\uddfe\"],\n [{\n            'v': 174,\n            'f': \"174\",\n        },\n\"Peru\",\n\"PE\",\n\"PER\",\n{\n            'v': 604,\n            'f': \"604\",\n        },\n\"\\ud83c\\uddf5\\ud83c\\uddea\"],\n [{\n            'v': 175,\n            'f': \"175\",\n        },\n\"Philippines\",\n\"PH\",\n\"PHL\",\n{\n            'v': 608,\n            'f': \"608\",\n        },\n\"\\ud83c\\uddf5\\ud83c\\udded\"],\n [{\n            'v': 176,\n            'f': \"176\",\n        },\n\"Pitcairn\",\n\"PN\",\n\"PCN\",\n{\n            'v': 612,\n            'f': \"612\",\n        },\n\"\\ud83c\\uddf5\\ud83c\\uddf3\"],\n [{\n            'v': 177,\n            'f': \"177\",\n        },\n\"Poland\",\n\"PL\",\n\"POL\",\n{\n            'v': 616,\n            'f': \"616\",\n        },\n\"\\ud83c\\uddf5\\ud83c\\uddf1\"],\n [{\n            'v': 178,\n            'f': \"178\",\n        },\n\"Portugal\",\n\"PT\",\n\"PRT\",\n{\n            'v': 620,\n            'f': \"620\",\n        },\n\"\\ud83c\\uddf5\\ud83c\\uddf9\"],\n [{\n            'v': 179,\n            'f': \"179\",\n        },\n\"Puerto Rico\",\n\"PR\",\n\"PRI\",\n{\n            'v': 630,\n            'f': \"630\",\n        },\n\"\\ud83c\\uddf5\\ud83c\\uddf7\"],\n [{\n            'v': 180,\n            'f': \"180\",\n        },\n\"Qatar\",\n\"QA\",\n\"QAT\",\n{\n            'v': 634,\n            'f': \"634\",\n        },\n\"\\ud83c\\uddf6\\ud83c\\udde6\"],\n [{\n            'v': 181,\n            'f': \"181\",\n        },\n\"R\\u00e9union\",\n\"RE\",\n\"REU\",\n{\n            'v': 638,\n            'f': \"638\",\n        },\n\"\\ud83c\\uddf7\\ud83c\\uddea\"],\n [{\n            'v': 182,\n            'f': \"182\",\n        },\n\"Romania\",\n\"RO\",\n\"ROU\",\n{\n            'v': 642,\n            'f': \"642\",\n        },\n\"\\ud83c\\uddf7\\ud83c\\uddf4\"],\n [{\n            'v': 183,\n            'f': \"183\",\n        },\n\"Russian Federation\",\n\"RU\",\n\"RUS\",\n{\n            'v': 643,\n            'f': \"643\",\n        },\n\"\\ud83c\\uddf7\\ud83c\\uddfa\"],\n [{\n            'v': 184,\n            'f': \"184\",\n        },\n\"Rwanda\",\n\"RW\",\n\"RWA\",\n{\n            'v': 646,\n            'f': \"646\",\n        },\n\"\\ud83c\\uddf7\\ud83c\\uddfc\"],\n [{\n            'v': 185,\n            'f': \"185\",\n        },\n\"Saint Barth\\u00e9lemy\",\n\"BL\",\n\"BLM\",\n{\n            'v': 652,\n            'f': \"652\",\n        },\n\"\\ud83c\\udde7\\ud83c\\uddf1\"],\n [{\n            'v': 186,\n            'f': \"186\",\n        },\n\"Saint Helena, Ascension and Tristan da Cunha\",\n\"SH\",\n\"SHN\",\n{\n            'v': 654,\n            'f': \"654\",\n        },\n\"\\ud83c\\uddf8\\ud83c\\udded\"],\n [{\n            'v': 187,\n            'f': \"187\",\n        },\n\"Saint Kitts and Nevis\",\n\"KN\",\n\"KNA\",\n{\n            'v': 659,\n            'f': \"659\",\n        },\n\"\\ud83c\\uddf0\\ud83c\\uddf3\"],\n [{\n            'v': 188,\n            'f': \"188\",\n        },\n\"Saint Lucia\",\n\"LC\",\n\"LCA\",\n{\n            'v': 662,\n            'f': \"662\",\n        },\n\"\\ud83c\\uddf1\\ud83c\\udde8\"],\n [{\n            'v': 189,\n            'f': \"189\",\n        },\n\"Saint Martin (French part)\",\n\"MF\",\n\"MAF\",\n{\n            'v': 663,\n            'f': \"663\",\n        },\n\"\\ud83c\\uddf2\\ud83c\\uddeb\"],\n [{\n            'v': 190,\n            'f': \"190\",\n        },\n\"Saint Pierre and Miquelon\",\n\"PM\",\n\"SPM\",\n{\n            'v': 666,\n            'f': \"666\",\n        },\n\"\\ud83c\\uddf5\\ud83c\\uddf2\"],\n [{\n            'v': 191,\n            'f': \"191\",\n        },\n\"Saint Vincent and the Grenadines\",\n\"VC\",\n\"VCT\",\n{\n            'v': 670,\n            'f': \"670\",\n        },\n\"\\ud83c\\uddfb\\ud83c\\udde8\"],\n [{\n            'v': 192,\n            'f': \"192\",\n        },\n\"Samoa\",\n\"WS\",\n\"WSM\",\n{\n            'v': 882,\n            'f': \"882\",\n        },\n\"\\ud83c\\uddfc\\ud83c\\uddf8\"],\n [{\n            'v': 193,\n            'f': \"193\",\n        },\n\"San Marino\",\n\"SM\",\n\"SMR\",\n{\n            'v': 674,\n            'f': \"674\",\n        },\n\"\\ud83c\\uddf8\\ud83c\\uddf2\"],\n [{\n            'v': 194,\n            'f': \"194\",\n        },\n\"Sao Tome and Principe\",\n\"ST\",\n\"STP\",\n{\n            'v': 678,\n            'f': \"678\",\n        },\n\"\\ud83c\\uddf8\\ud83c\\uddf9\"],\n [{\n            'v': 195,\n            'f': \"195\",\n        },\n\"Saudi Arabia\",\n\"SA\",\n\"SAU\",\n{\n            'v': 682,\n            'f': \"682\",\n        },\n\"\\ud83c\\uddf8\\ud83c\\udde6\"],\n [{\n            'v': 196,\n            'f': \"196\",\n        },\n\"Senegal\",\n\"SN\",\n\"SEN\",\n{\n            'v': 686,\n            'f': \"686\",\n        },\n\"\\ud83c\\uddf8\\ud83c\\uddf3\"],\n [{\n            'v': 197,\n            'f': \"197\",\n        },\n\"Serbia\",\n\"RS\",\n\"SRB\",\n{\n            'v': 688,\n            'f': \"688\",\n        },\n\"\\ud83c\\uddf7\\ud83c\\uddf8\"],\n [{\n            'v': 198,\n            'f': \"198\",\n        },\n\"Seychelles\",\n\"SC\",\n\"SYC\",\n{\n            'v': 690,\n            'f': \"690\",\n        },\n\"\\ud83c\\uddf8\\ud83c\\udde8\"],\n [{\n            'v': 199,\n            'f': \"199\",\n        },\n\"Sierra Leone\",\n\"SL\",\n\"SLE\",\n{\n            'v': 694,\n            'f': \"694\",\n        },\n\"\\ud83c\\uddf8\\ud83c\\uddf1\"],\n [{\n            'v': 200,\n            'f': \"200\",\n        },\n\"Singapore\",\n\"SG\",\n\"SGP\",\n{\n            'v': 702,\n            'f': \"702\",\n        },\n\"\\ud83c\\uddf8\\ud83c\\uddec\"],\n [{\n            'v': 201,\n            'f': \"201\",\n        },\n\"Sint Maarten (Dutch part)\",\n\"SX\",\n\"SXM\",\n{\n            'v': 534,\n            'f': \"534\",\n        },\n\"\\ud83c\\uddf8\\ud83c\\uddfd\"],\n [{\n            'v': 202,\n            'f': \"202\",\n        },\n\"Slovakia\",\n\"SK\",\n\"SVK\",\n{\n            'v': 703,\n            'f': \"703\",\n        },\n\"\\ud83c\\uddf8\\ud83c\\uddf0\"],\n [{\n            'v': 203,\n            'f': \"203\",\n        },\n\"Slovenia\",\n\"SI\",\n\"SVN\",\n{\n            'v': 705,\n            'f': \"705\",\n        },\n\"\\ud83c\\uddf8\\ud83c\\uddee\"],\n [{\n            'v': 204,\n            'f': \"204\",\n        },\n\"Solomon Islands\",\n\"SB\",\n\"SLB\",\n{\n            'v': 90,\n            'f': \"90\",\n        },\n\"\\ud83c\\uddf8\\ud83c\\udde7\"],\n [{\n            'v': 205,\n            'f': \"205\",\n        },\n\"Somalia\",\n\"SO\",\n\"SOM\",\n{\n            'v': 706,\n            'f': \"706\",\n        },\n\"\\ud83c\\uddf8\\ud83c\\uddf4\"],\n [{\n            'v': 206,\n            'f': \"206\",\n        },\n\"South Africa\",\n\"ZA\",\n\"ZAF\",\n{\n            'v': 710,\n            'f': \"710\",\n        },\n\"\\ud83c\\uddff\\ud83c\\udde6\"],\n [{\n            'v': 207,\n            'f': \"207\",\n        },\n\"South Georgia and the South Sandwich Islands\",\n\"GS\",\n\"SGS\",\n{\n            'v': 239,\n            'f': \"239\",\n        },\n\"\\ud83c\\uddec\\ud83c\\uddf8\"],\n [{\n            'v': 208,\n            'f': \"208\",\n        },\n\"South Sudan\",\n\"SS\",\n\"SSD\",\n{\n            'v': 728,\n            'f': \"728\",\n        },\n\"\\ud83c\\uddf8\\ud83c\\uddf8\"],\n [{\n            'v': 209,\n            'f': \"209\",\n        },\n\"Spain\",\n\"ES\",\n\"ESP\",\n{\n            'v': 724,\n            'f': \"724\",\n        },\n\"\\ud83c\\uddea\\ud83c\\uddf8\"],\n [{\n            'v': 210,\n            'f': \"210\",\n        },\n\"Sri Lanka\",\n\"LK\",\n\"LKA\",\n{\n            'v': 144,\n            'f': \"144\",\n        },\n\"\\ud83c\\uddf1\\ud83c\\uddf0\"],\n [{\n            'v': 211,\n            'f': \"211\",\n        },\n\"Sudan\",\n\"SD\",\n\"SDN\",\n{\n            'v': 729,\n            'f': \"729\",\n        },\n\"\\ud83c\\uddf8\\ud83c\\udde9\"],\n [{\n            'v': 212,\n            'f': \"212\",\n        },\n\"Suriname\",\n\"SR\",\n\"SUR\",\n{\n            'v': 740,\n            'f': \"740\",\n        },\n\"\\ud83c\\uddf8\\ud83c\\uddf7\"],\n [{\n            'v': 213,\n            'f': \"213\",\n        },\n\"Svalbard and Jan Mayen\",\n\"SJ\",\n\"SJM\",\n{\n            'v': 744,\n            'f': \"744\",\n        },\n\"\\ud83c\\uddf8\\ud83c\\uddef\"],\n [{\n            'v': 214,\n            'f': \"214\",\n        },\n\"Sweden\",\n\"SE\",\n\"SWE\",\n{\n            'v': 752,\n            'f': \"752\",\n        },\n\"\\ud83c\\uddf8\\ud83c\\uddea\"],\n [{\n            'v': 215,\n            'f': \"215\",\n        },\n\"Switzerland\",\n\"CH\",\n\"CHE\",\n{\n            'v': 756,\n            'f': \"756\",\n        },\n\"\\ud83c\\udde8\\ud83c\\udded\"],\n [{\n            'v': 216,\n            'f': \"216\",\n        },\n\"Syrian Arab Republic\",\n\"SY\",\n\"SYR\",\n{\n            'v': 760,\n            'f': \"760\",\n        },\n\"\\ud83c\\uddf8\\ud83c\\uddfe\"],\n [{\n            'v': 217,\n            'f': \"217\",\n        },\n\"Taiwan, Province of China\",\n\"TW\",\n\"TWN\",\n{\n            'v': 158,\n            'f': \"158\",\n        },\n\"\\ud83c\\uddf9\\ud83c\\uddfc\"],\n [{\n            'v': 218,\n            'f': \"218\",\n        },\n\"Tajikistan\",\n\"TJ\",\n\"TJK\",\n{\n            'v': 762,\n            'f': \"762\",\n        },\n\"\\ud83c\\uddf9\\ud83c\\uddef\"],\n [{\n            'v': 219,\n            'f': \"219\",\n        },\n\"Tanzania, United Republic of\",\n\"TZ\",\n\"TZA\",\n{\n            'v': 834,\n            'f': \"834\",\n        },\n\"\\ud83c\\uddf9\\ud83c\\uddff\"],\n [{\n            'v': 220,\n            'f': \"220\",\n        },\n\"Thailand\",\n\"TH\",\n\"THA\",\n{\n            'v': 764,\n            'f': \"764\",\n        },\n\"\\ud83c\\uddf9\\ud83c\\udded\"],\n [{\n            'v': 221,\n            'f': \"221\",\n        },\n\"Timor-Leste\",\n\"TL\",\n\"TLS\",\n{\n            'v': 626,\n            'f': \"626\",\n        },\n\"\\ud83c\\uddf9\\ud83c\\uddf1\"],\n [{\n            'v': 222,\n            'f': \"222\",\n        },\n\"Togo\",\n\"TG\",\n\"TGO\",\n{\n            'v': 768,\n            'f': \"768\",\n        },\n\"\\ud83c\\uddf9\\ud83c\\uddec\"],\n [{\n            'v': 223,\n            'f': \"223\",\n        },\n\"Tokelau\",\n\"TK\",\n\"TKL\",\n{\n            'v': 772,\n            'f': \"772\",\n        },\n\"\\ud83c\\uddf9\\ud83c\\uddf0\"],\n [{\n            'v': 224,\n            'f': \"224\",\n        },\n\"Tonga\",\n\"TO\",\n\"TON\",\n{\n            'v': 776,\n            'f': \"776\",\n        },\n\"\\ud83c\\uddf9\\ud83c\\uddf4\"],\n [{\n            'v': 225,\n            'f': \"225\",\n        },\n\"Trinidad and Tobago\",\n\"TT\",\n\"TTO\",\n{\n            'v': 780,\n            'f': \"780\",\n        },\n\"\\ud83c\\uddf9\\ud83c\\uddf9\"],\n [{\n            'v': 226,\n            'f': \"226\",\n        },\n\"Tunisia\",\n\"TN\",\n\"TUN\",\n{\n            'v': 788,\n            'f': \"788\",\n        },\n\"\\ud83c\\uddf9\\ud83c\\uddf3\"],\n [{\n            'v': 227,\n            'f': \"227\",\n        },\n\"Turkey\",\n\"TR\",\n\"TUR\",\n{\n            'v': 792,\n            'f': \"792\",\n        },\n\"\\ud83c\\uddf9\\ud83c\\uddf7\"],\n [{\n            'v': 228,\n            'f': \"228\",\n        },\n\"Turkmenistan\",\n\"TM\",\n\"TKM\",\n{\n            'v': 795,\n            'f': \"795\",\n        },\n\"\\ud83c\\uddf9\\ud83c\\uddf2\"],\n [{\n            'v': 229,\n            'f': \"229\",\n        },\n\"Turks and Caicos Islands\",\n\"TC\",\n\"TCA\",\n{\n            'v': 796,\n            'f': \"796\",\n        },\n\"\\ud83c\\uddf9\\ud83c\\udde8\"],\n [{\n            'v': 230,\n            'f': \"230\",\n        },\n\"Tuvalu\",\n\"TV\",\n\"TUV\",\n{\n            'v': 798,\n            'f': \"798\",\n        },\n\"\\ud83c\\uddf9\\ud83c\\uddfb\"],\n [{\n            'v': 231,\n            'f': \"231\",\n        },\n\"Uganda\",\n\"UG\",\n\"UGA\",\n{\n            'v': 800,\n            'f': \"800\",\n        },\n\"\\ud83c\\uddfa\\ud83c\\uddec\"],\n [{\n            'v': 232,\n            'f': \"232\",\n        },\n\"Ukraine\",\n\"UA\",\n\"UKR\",\n{\n            'v': 804,\n            'f': \"804\",\n        },\n\"\\ud83c\\uddfa\\ud83c\\udde6\"],\n [{\n            'v': 233,\n            'f': \"233\",\n        },\n\"United Arab Emirates\",\n\"AE\",\n\"ARE\",\n{\n            'v': 784,\n            'f': \"784\",\n        },\n\"\\ud83c\\udde6\\ud83c\\uddea\"],\n [{\n            'v': 234,\n            'f': \"234\",\n        },\n\"United Kingdom of Great Britain and Northern Ireland\",\n\"GB\",\n\"GBR\",\n{\n            'v': 826,\n            'f': \"826\",\n        },\n\"\\ud83c\\uddec\\ud83c\\udde7\"],\n [{\n            'v': 235,\n            'f': \"235\",\n        },\n\"United States Minor Outlying Islands\",\n\"UM\",\n\"UMI\",\n{\n            'v': 581,\n            'f': \"581\",\n        },\n\"\\ud83c\\uddfa\\ud83c\\uddf2\"],\n [{\n            'v': 236,\n            'f': \"236\",\n        },\n\"United States of America\",\n\"US\",\n\"USA\",\n{\n            'v': 840,\n            'f': \"840\",\n        },\n\"\\ud83c\\uddfa\\ud83c\\uddf8\"],\n [{\n            'v': 237,\n            'f': \"237\",\n        },\n\"Uruguay\",\n\"UY\",\n\"URY\",\n{\n            'v': 858,\n            'f': \"858\",\n        },\n\"\\ud83c\\uddfa\\ud83c\\uddfe\"],\n [{\n            'v': 238,\n            'f': \"238\",\n        },\n\"Uzbekistan\",\n\"UZ\",\n\"UZB\",\n{\n            'v': 860,\n            'f': \"860\",\n        },\n\"\\ud83c\\uddfa\\ud83c\\uddff\"],\n [{\n            'v': 239,\n            'f': \"239\",\n        },\n\"Vanuatu\",\n\"VU\",\n\"VUT\",\n{\n            'v': 548,\n            'f': \"548\",\n        },\n\"\\ud83c\\uddfb\\ud83c\\uddfa\"],\n [{\n            'v': 240,\n            'f': \"240\",\n        },\n\"Venezuela (Bolivarian Republic of)\",\n\"VE\",\n\"VEN\",\n{\n            'v': 862,\n            'f': \"862\",\n        },\n\"\\ud83c\\uddfb\\ud83c\\uddea\"],\n [{\n            'v': 241,\n            'f': \"241\",\n        },\n\"Viet Nam\",\n\"VN\",\n\"VNM\",\n{\n            'v': 704,\n            'f': \"704\",\n        },\n\"\\ud83c\\uddfb\\ud83c\\uddf3\"],\n [{\n            'v': 242,\n            'f': \"242\",\n        },\n\"Virgin Islands (British)\",\n\"VG\",\n\"VGB\",\n{\n            'v': 92,\n            'f': \"92\",\n        },\n\"\\ud83c\\uddfb\\ud83c\\uddec\"],\n [{\n            'v': 243,\n            'f': \"243\",\n        },\n\"Virgin Islands (U.S.)\",\n\"VI\",\n\"VIR\",\n{\n            'v': 850,\n            'f': \"850\",\n        },\n\"\\ud83c\\uddfb\\ud83c\\uddee\"],\n [{\n            'v': 244,\n            'f': \"244\",\n        },\n\"Wallis and Futuna\",\n\"WF\",\n\"WLF\",\n{\n            'v': 876,\n            'f': \"876\",\n        },\n\"\\ud83c\\uddfc\\ud83c\\uddeb\"],\n [{\n            'v': 245,\n            'f': \"245\",\n        },\n\"Western Sahara\",\n\"EH\",\n\"ESH\",\n{\n            'v': 732,\n            'f': \"732\",\n        },\n\"\\ud83c\\uddea\\ud83c\\udded\"],\n [{\n            'v': 246,\n            'f': \"246\",\n        },\n\"Yemen\",\n\"YE\",\n\"YEM\",\n{\n            'v': 887,\n            'f': \"887\",\n        },\n\"\\ud83c\\uddfe\\ud83c\\uddea\"],\n [{\n            'v': 247,\n            'f': \"247\",\n        },\n\"Zambia\",\n\"ZM\",\n\"ZMB\",\n{\n            'v': 894,\n            'f': \"894\",\n        },\n\"\\ud83c\\uddff\\ud83c\\uddf2\"],\n [{\n            'v': 248,\n            'f': \"248\",\n        },\n\"Zimbabwe\",\n\"ZW\",\n\"ZWE\",\n{\n            'v': 716,\n            'f': \"716\",\n        },\n\"\\ud83c\\uddff\\ud83c\\uddfc\"]],\n        columns: [[\"number\", \"index\"], [\"string\", \"Country Name\"], [\"string\", \"Alpha-2 Code\"], [\"string\", \"Alpha-3 Code\"], [\"number\", \"Numeric Code\"], [\"string\", \"Flag\"]],\n        columnOptions: [{\"width\": \"1px\", \"className\": \"index_column\"}],\n        rowsPerPage: 25,\n        helpUrl: \"https://colab.research.google.com/notebooks/data_table.ipynb\",\n        suppressOutputScrolling: true,\n        minimumWidth: undefined,\n      });\n    ",
            "text/html": [
              "<div>\n",
              "<style scoped>\n",
              "    .dataframe tbody tr th:only-of-type {\n",
              "        vertical-align: middle;\n",
              "    }\n",
              "\n",
              "    .dataframe tbody tr th {\n",
              "        vertical-align: top;\n",
              "    }\n",
              "\n",
              "    .dataframe thead th {\n",
              "        text-align: right;\n",
              "    }\n",
              "</style>\n",
              "<table border=\"1\" class=\"dataframe\">\n",
              "  <thead>\n",
              "    <tr style=\"text-align: right;\">\n",
              "      <th></th>\n",
              "      <th>Country Name</th>\n",
              "      <th>Alpha-2 Code</th>\n",
              "      <th>Alpha-3 Code</th>\n",
              "      <th>Numeric Code</th>\n",
              "      <th>Flag</th>\n",
              "    </tr>\n",
              "  </thead>\n",
              "  <tbody>\n",
              "    <tr>\n",
              "      <th>0</th>\n",
              "      <td>Afghanistan</td>\n",
              "      <td>AF</td>\n",
              "      <td>AFG</td>\n",
              "      <td>4</td>\n",
              "      <td>🇦🇫</td>\n",
              "    </tr>\n",
              "    <tr>\n",
              "      <th>1</th>\n",
              "      <td>Åland Islands</td>\n",
              "      <td>AX</td>\n",
              "      <td>ALA</td>\n",
              "      <td>248</td>\n",
              "      <td>🇦🇽</td>\n",
              "    </tr>\n",
              "    <tr>\n",
              "      <th>2</th>\n",
              "      <td>Albania</td>\n",
              "      <td>AL</td>\n",
              "      <td>ALB</td>\n",
              "      <td>8</td>\n",
              "      <td>🇦🇱</td>\n",
              "    </tr>\n",
              "    <tr>\n",
              "      <th>3</th>\n",
              "      <td>Algeria</td>\n",
              "      <td>DZ</td>\n",
              "      <td>DZA</td>\n",
              "      <td>12</td>\n",
              "      <td>🇩🇿</td>\n",
              "    </tr>\n",
              "    <tr>\n",
              "      <th>4</th>\n",
              "      <td>American Samoa</td>\n",
              "      <td>AS</td>\n",
              "      <td>ASM</td>\n",
              "      <td>16</td>\n",
              "      <td>🇦🇸</td>\n",
              "    </tr>\n",
              "    <tr>\n",
              "      <th>...</th>\n",
              "      <td>...</td>\n",
              "      <td>...</td>\n",
              "      <td>...</td>\n",
              "      <td>...</td>\n",
              "      <td>...</td>\n",
              "    </tr>\n",
              "    <tr>\n",
              "      <th>244</th>\n",
              "      <td>Wallis and Futuna</td>\n",
              "      <td>WF</td>\n",
              "      <td>WLF</td>\n",
              "      <td>876</td>\n",
              "      <td>🇼🇫</td>\n",
              "    </tr>\n",
              "    <tr>\n",
              "      <th>245</th>\n",
              "      <td>Western Sahara</td>\n",
              "      <td>EH</td>\n",
              "      <td>ESH</td>\n",
              "      <td>732</td>\n",
              "      <td>🇪🇭</td>\n",
              "    </tr>\n",
              "    <tr>\n",
              "      <th>246</th>\n",
              "      <td>Yemen</td>\n",
              "      <td>YE</td>\n",
              "      <td>YEM</td>\n",
              "      <td>887</td>\n",
              "      <td>🇾🇪</td>\n",
              "    </tr>\n",
              "    <tr>\n",
              "      <th>247</th>\n",
              "      <td>Zambia</td>\n",
              "      <td>ZM</td>\n",
              "      <td>ZMB</td>\n",
              "      <td>894</td>\n",
              "      <td>🇿🇲</td>\n",
              "    </tr>\n",
              "    <tr>\n",
              "      <th>248</th>\n",
              "      <td>Zimbabwe</td>\n",
              "      <td>ZW</td>\n",
              "      <td>ZWE</td>\n",
              "      <td>716</td>\n",
              "      <td>🇿🇼</td>\n",
              "    </tr>\n",
              "  </tbody>\n",
              "</table>\n",
              "<p>249 rows × 5 columns</p>\n",
              "</div>"
            ],
            "text/plain": [
              "          Country Name Alpha-2 Code Alpha-3 Code  Numeric Code Flag\n",
              "0          Afghanistan           AF          AFG             4   🇦🇫\n",
              "1        Åland Islands           AX          ALA           248   🇦🇽\n",
              "2              Albania           AL          ALB             8   🇦🇱\n",
              "3              Algeria           DZ          DZA            12   🇩🇿\n",
              "4       American Samoa           AS          ASM            16   🇦🇸\n",
              "..                 ...          ...          ...           ...  ...\n",
              "244  Wallis and Futuna           WF          WLF           876   🇼🇫\n",
              "245     Western Sahara           EH          ESH           732   🇪🇭\n",
              "246              Yemen           YE          YEM           887   🇾🇪\n",
              "247             Zambia           ZM          ZMB           894   🇿🇲\n",
              "248           Zimbabwe           ZW          ZWE           716   🇿🇼\n",
              "\n",
              "[249 rows x 5 columns]"
            ]
          },
          "metadata": {},
          "execution_count": 33
        }
      ]
    },
    {
      "cell_type": "code",
      "metadata": {
        "id": "uEYJ03jlN0ay",
        "colab": {
          "base_uri": "https://localhost:8080/",
          "height": 34
        },
        "outputId": "416e2bd8-b755-4ecd-d86c-d96139f0b3f5"
      },
      "source": [
        "# let's lowercase colum names to make using them easier later\n",
        "df2.columns = map(lambda x : x.lower(), df2.columns)\n",
        "# let's also replace spaces ' ' and dashes '-' with underscores '_' for the same reason\n",
        "df2.columns = map(lambda x : x.replace(' ', '_'), df2.columns)\n",
        "df2.columns = map(lambda x : x.replace('-', '_'), df2.columns)\n",
        "list(df2.columns)"
      ],
      "execution_count": null,
      "outputs": [
        {
          "output_type": "display_data",
          "data": {
            "text/html": [
              "\n",
              "  <style>\n",
              "    pre {\n",
              "        white-space: pre-wrap;\n",
              "    }\n",
              "  </style>\n",
              "  "
            ],
            "text/plain": [
              "<IPython.core.display.HTML object>"
            ]
          },
          "metadata": {}
        },
        {
          "output_type": "execute_result",
          "data": {
            "text/plain": [
              "['country_name', 'alpha_2_code', 'alpha_3_code', 'numeric_code', 'flag']"
            ]
          },
          "metadata": {},
          "execution_count": 35
        }
      ]
    },
    {
      "cell_type": "code",
      "metadata": {
        "colab": {
          "base_uri": "https://localhost:8080/",
          "height": 17
        },
        "id": "nkdMdXAT9w-y",
        "outputId": "0ed58238-a298-44bc-a48c-ae72462cd407"
      },
      "source": [
        "# now we have to check if all the countries in our dataset have an entry\n",
        "# in the country_codes table\n",
        "dataset_countries = df.country_region.unique()\n",
        "cc_countries = df2.country_name.unique() # country codes countries"
      ],
      "execution_count": null,
      "outputs": [
        {
          "output_type": "display_data",
          "data": {
            "text/html": [
              "\n",
              "  <style>\n",
              "    pre {\n",
              "        white-space: pre-wrap;\n",
              "    }\n",
              "  </style>\n",
              "  "
            ],
            "text/plain": [
              "<IPython.core.display.HTML object>"
            ]
          },
          "metadata": {}
        }
      ]
    },
    {
      "cell_type": "code",
      "metadata": {
        "colab": {
          "base_uri": "https://localhost:8080/",
          "height": 34
        },
        "id": "avd2JV3t9w8v",
        "outputId": "9198fac7-1e52-4b44-92ca-e2b078ec7bd9"
      },
      "source": [
        "type(dataset_countries), type(cc_countries)"
      ],
      "execution_count": null,
      "outputs": [
        {
          "output_type": "display_data",
          "data": {
            "text/html": [
              "\n",
              "  <style>\n",
              "    pre {\n",
              "        white-space: pre-wrap;\n",
              "    }\n",
              "  </style>\n",
              "  "
            ],
            "text/plain": [
              "<IPython.core.display.HTML object>"
            ]
          },
          "metadata": {}
        },
        {
          "output_type": "execute_result",
          "data": {
            "text/plain": [
              "(numpy.ndarray, numpy.ndarray)"
            ]
          },
          "metadata": {},
          "execution_count": 41
        }
      ]
    },
    {
      "cell_type": "code",
      "metadata": {
        "colab": {
          "base_uri": "https://localhost:8080/",
          "height": 306
        },
        "id": "uXRL4fvE9w6e",
        "outputId": "814fd84f-f9d6-49fe-a729-1c595a313b2c"
      },
      "source": [
        "# these country names are in our dataset but we couldn't find them\n",
        "# in the country codes table, to fix this, we add them manually\n",
        "set(dataset_countries) - set(cc_countries)"
      ],
      "execution_count": null,
      "outputs": [
        {
          "output_type": "display_data",
          "data": {
            "text/html": [
              "\n",
              "  <style>\n",
              "    pre {\n",
              "        white-space: pre-wrap;\n",
              "    }\n",
              "  </style>\n",
              "  "
            ],
            "text/plain": [
              "<IPython.core.display.HTML object>"
            ]
          },
          "metadata": {}
        },
        {
          "output_type": "execute_result",
          "data": {
            "text/plain": [
              "{'Bolivia',\n",
              " 'Congo (Kinshasa)',\n",
              " 'Cote dIvoire',\n",
              " 'Iran',\n",
              " 'Korea, South',\n",
              " 'Kosovo',\n",
              " 'Moldova',\n",
              " 'Palestine',\n",
              " 'Russia',\n",
              " 'Syria',\n",
              " 'Taiwan*',\n",
              " 'US',\n",
              " 'United Kingdom',\n",
              " 'Vatican City',\n",
              " 'Venezuela',\n",
              " 'Vietnam',\n",
              " 'West Bank and Gaza'}"
            ]
          },
          "metadata": {},
          "execution_count": 42
        }
      ]
    },
    {
      "cell_type": "code",
      "metadata": {
        "colab": {
          "base_uri": "https://localhost:8080/",
          "height": 110
        },
        "id": "MJS7xvp7CnFd",
        "outputId": "7d47f5d7-b521-432d-ba6d-2f36ac14ae97"
      },
      "source": [
        "# for 'Bolivia' for example, we can notice that it's called\n",
        "# 'Bolivia (Plurinational State of)' in the country codes table\n",
        "# this is why we should work with country codes instead! because country\n",
        "# names can differ from one dataset to another!\n",
        "# the solution here is to update the country_name column to suit our needs\n",
        "# in this project\n",
        "\n",
        "df2.loc[df2.alpha_2_code == 'BO']"
      ],
      "execution_count": null,
      "outputs": [
        {
          "output_type": "display_data",
          "data": {
            "text/html": [
              "\n",
              "  <style>\n",
              "    pre {\n",
              "        white-space: pre-wrap;\n",
              "    }\n",
              "  </style>\n",
              "  "
            ],
            "text/plain": [
              "<IPython.core.display.HTML object>"
            ]
          },
          "metadata": {}
        },
        {
          "output_type": "execute_result",
          "data": {
            "application/vnd.google.colaboratory.module+javascript": "\n      import \"https://ssl.gstatic.com/colaboratory/data_table/a6224c040fa35dcf/data_table.js\";\n\n      window.createDataTable({\n        data: [[{\n            'v': 26,\n            'f': \"26\",\n        },\n\"Bolivia (Plurinational State of)\",\n\"BO\",\n\"BOL\",\n{\n            'v': 68,\n            'f': \"68\",\n        },\n\"\\ud83c\\udde7\\ud83c\\uddf4\"]],\n        columns: [[\"number\", \"index\"], [\"string\", \"country_name\"], [\"string\", \"alpha_2_code\"], [\"string\", \"alpha_3_code\"], [\"number\", \"numeric_code\"], [\"string\", \"flag\"]],\n        columnOptions: [{\"width\": \"1px\", \"className\": \"index_column\"}],\n        rowsPerPage: 25,\n        helpUrl: \"https://colab.research.google.com/notebooks/data_table.ipynb\",\n        suppressOutputScrolling: true,\n        minimumWidth: undefined,\n      });\n    ",
            "text/html": [
              "<div>\n",
              "<style scoped>\n",
              "    .dataframe tbody tr th:only-of-type {\n",
              "        vertical-align: middle;\n",
              "    }\n",
              "\n",
              "    .dataframe tbody tr th {\n",
              "        vertical-align: top;\n",
              "    }\n",
              "\n",
              "    .dataframe thead th {\n",
              "        text-align: right;\n",
              "    }\n",
              "</style>\n",
              "<table border=\"1\" class=\"dataframe\">\n",
              "  <thead>\n",
              "    <tr style=\"text-align: right;\">\n",
              "      <th></th>\n",
              "      <th>country_name</th>\n",
              "      <th>alpha_2_code</th>\n",
              "      <th>alpha_3_code</th>\n",
              "      <th>numeric_code</th>\n",
              "      <th>flag</th>\n",
              "    </tr>\n",
              "  </thead>\n",
              "  <tbody>\n",
              "    <tr>\n",
              "      <th>26</th>\n",
              "      <td>Bolivia (Plurinational State of)</td>\n",
              "      <td>BO</td>\n",
              "      <td>BOL</td>\n",
              "      <td>68</td>\n",
              "      <td>🇧🇴</td>\n",
              "    </tr>\n",
              "  </tbody>\n",
              "</table>\n",
              "</div>"
            ],
            "text/plain": [
              "                        country_name alpha_2_code  ... numeric_code  flag\n",
              "26  Bolivia (Plurinational State of)           BO  ...           68    🇧🇴\n",
              "\n",
              "[1 rows x 5 columns]"
            ]
          },
          "metadata": {},
          "execution_count": 43
        }
      ]
    },
    {
      "cell_type": "code",
      "metadata": {
        "colab": {
          "base_uri": "https://localhost:8080/",
          "height": 110
        },
        "id": "HfNkXbWcD-2I",
        "outputId": "c4a15d59-740f-4155-f271-9462d717b514"
      },
      "source": [
        "# Congo (Kinshasa) --> Democratic Republic of the Congo (CD)\n",
        "# https://en.wikipedia.org/wiki/Democratic_Republic_of_the_Congo\n",
        "# df2[df2.country_name.str.contains('Congo')]\n",
        "df2[df2.country_name.str.contains('Congo, Democratic')]"
      ],
      "execution_count": null,
      "outputs": [
        {
          "output_type": "display_data",
          "data": {
            "text/html": [
              "\n",
              "  <style>\n",
              "    pre {\n",
              "        white-space: pre-wrap;\n",
              "    }\n",
              "  </style>\n",
              "  "
            ],
            "text/plain": [
              "<IPython.core.display.HTML object>"
            ]
          },
          "metadata": {}
        },
        {
          "output_type": "execute_result",
          "data": {
            "application/vnd.google.colaboratory.module+javascript": "\n      import \"https://ssl.gstatic.com/colaboratory/data_table/a6224c040fa35dcf/data_table.js\";\n\n      window.createDataTable({\n        data: [[{\n            'v': 51,\n            'f': \"51\",\n        },\n\"Congo, Democratic Republic of the\",\n\"CD\",\n\"COD\",\n{\n            'v': 180,\n            'f': \"180\",\n        },\n\"\\ud83c\\udde8\\ud83c\\udde9\"]],\n        columns: [[\"number\", \"index\"], [\"string\", \"country_name\"], [\"string\", \"alpha_2_code\"], [\"string\", \"alpha_3_code\"], [\"number\", \"numeric_code\"], [\"string\", \"flag\"]],\n        columnOptions: [{\"width\": \"1px\", \"className\": \"index_column\"}],\n        rowsPerPage: 25,\n        helpUrl: \"https://colab.research.google.com/notebooks/data_table.ipynb\",\n        suppressOutputScrolling: true,\n        minimumWidth: undefined,\n      });\n    ",
            "text/html": [
              "<div>\n",
              "<style scoped>\n",
              "    .dataframe tbody tr th:only-of-type {\n",
              "        vertical-align: middle;\n",
              "    }\n",
              "\n",
              "    .dataframe tbody tr th {\n",
              "        vertical-align: top;\n",
              "    }\n",
              "\n",
              "    .dataframe thead th {\n",
              "        text-align: right;\n",
              "    }\n",
              "</style>\n",
              "<table border=\"1\" class=\"dataframe\">\n",
              "  <thead>\n",
              "    <tr style=\"text-align: right;\">\n",
              "      <th></th>\n",
              "      <th>country_name</th>\n",
              "      <th>alpha_2_code</th>\n",
              "      <th>alpha_3_code</th>\n",
              "      <th>numeric_code</th>\n",
              "      <th>flag</th>\n",
              "    </tr>\n",
              "  </thead>\n",
              "  <tbody>\n",
              "    <tr>\n",
              "      <th>51</th>\n",
              "      <td>Congo, Democratic Republic of the</td>\n",
              "      <td>CD</td>\n",
              "      <td>COD</td>\n",
              "      <td>180</td>\n",
              "      <td>🇨🇩</td>\n",
              "    </tr>\n",
              "  </tbody>\n",
              "</table>\n",
              "</div>"
            ],
            "text/plain": [
              "                         country_name alpha_2_code  ... numeric_code  flag\n",
              "51  Congo, Democratic Republic of the           CD  ...          180    🇨🇩\n",
              "\n",
              "[1 rows x 5 columns]"
            ]
          },
          "metadata": {},
          "execution_count": 49
        }
      ]
    },
    {
      "cell_type": "code",
      "metadata": {
        "colab": {
          "base_uri": "https://localhost:8080/",
          "height": 110
        },
        "id": "8kme6JHXFT-N",
        "outputId": "912dace0-29a6-4390-d096-3c15ed0344a1"
      },
      "source": [
        "df2[df2.country_name.str.contains('Ivoire')]"
      ],
      "execution_count": null,
      "outputs": [
        {
          "output_type": "display_data",
          "data": {
            "text/html": [
              "\n",
              "  <style>\n",
              "    pre {\n",
              "        white-space: pre-wrap;\n",
              "    }\n",
              "  </style>\n",
              "  "
            ],
            "text/plain": [
              "<IPython.core.display.HTML object>"
            ]
          },
          "metadata": {}
        },
        {
          "output_type": "execute_result",
          "data": {
            "application/vnd.google.colaboratory.module+javascript": "\n      import \"https://ssl.gstatic.com/colaboratory/data_table/a6224c040fa35dcf/data_table.js\";\n\n      window.createDataTable({\n        data: [[{\n            'v': 54,\n            'f': \"54\",\n        },\n\"C\\u00f4te d'Ivoire\",\n\"CI\",\n\"CIV\",\n{\n            'v': 384,\n            'f': \"384\",\n        },\n\"\\ud83c\\udde8\\ud83c\\uddee\"]],\n        columns: [[\"number\", \"index\"], [\"string\", \"country_name\"], [\"string\", \"alpha_2_code\"], [\"string\", \"alpha_3_code\"], [\"number\", \"numeric_code\"], [\"string\", \"flag\"]],\n        columnOptions: [{\"width\": \"1px\", \"className\": \"index_column\"}],\n        rowsPerPage: 25,\n        helpUrl: \"https://colab.research.google.com/notebooks/data_table.ipynb\",\n        suppressOutputScrolling: true,\n        minimumWidth: undefined,\n      });\n    ",
            "text/html": [
              "<div>\n",
              "<style scoped>\n",
              "    .dataframe tbody tr th:only-of-type {\n",
              "        vertical-align: middle;\n",
              "    }\n",
              "\n",
              "    .dataframe tbody tr th {\n",
              "        vertical-align: top;\n",
              "    }\n",
              "\n",
              "    .dataframe thead th {\n",
              "        text-align: right;\n",
              "    }\n",
              "</style>\n",
              "<table border=\"1\" class=\"dataframe\">\n",
              "  <thead>\n",
              "    <tr style=\"text-align: right;\">\n",
              "      <th></th>\n",
              "      <th>country_name</th>\n",
              "      <th>alpha_2_code</th>\n",
              "      <th>alpha_3_code</th>\n",
              "      <th>numeric_code</th>\n",
              "      <th>flag</th>\n",
              "    </tr>\n",
              "  </thead>\n",
              "  <tbody>\n",
              "    <tr>\n",
              "      <th>54</th>\n",
              "      <td>Côte d'Ivoire</td>\n",
              "      <td>CI</td>\n",
              "      <td>CIV</td>\n",
              "      <td>384</td>\n",
              "      <td>🇨🇮</td>\n",
              "    </tr>\n",
              "  </tbody>\n",
              "</table>\n",
              "</div>"
            ],
            "text/plain": [
              "     country_name alpha_2_code alpha_3_code  numeric_code flag\n",
              "54  Côte d'Ivoire           CI          CIV           384   🇨🇮"
            ]
          },
          "metadata": {},
          "execution_count": 47
        }
      ]
    },
    {
      "cell_type": "code",
      "metadata": {
        "colab": {
          "base_uri": "https://localhost:8080/",
          "height": 110
        },
        "id": "Q-ZntaGoFlyl",
        "outputId": "7a097de5-7f7e-482f-f465-6c2f17952be6"
      },
      "source": [
        "df2[df2.country_name.str.contains('Iran')]"
      ],
      "execution_count": null,
      "outputs": [
        {
          "output_type": "display_data",
          "data": {
            "text/html": [
              "\n",
              "  <style>\n",
              "    pre {\n",
              "        white-space: pre-wrap;\n",
              "    }\n",
              "  </style>\n",
              "  "
            ],
            "text/plain": [
              "<IPython.core.display.HTML object>"
            ]
          },
          "metadata": {}
        },
        {
          "output_type": "execute_result",
          "data": {
            "application/vnd.google.colaboratory.module+javascript": "\n      import \"https://ssl.gstatic.com/colaboratory/data_table/a6224c040fa35dcf/data_table.js\";\n\n      window.createDataTable({\n        data: [[{\n            'v': 105,\n            'f': \"105\",\n        },\n\"Iran (Islamic Republic of)\",\n\"IR\",\n\"IRN\",\n{\n            'v': 364,\n            'f': \"364\",\n        },\n\"\\ud83c\\uddee\\ud83c\\uddf7\"]],\n        columns: [[\"number\", \"index\"], [\"string\", \"country_name\"], [\"string\", \"alpha_2_code\"], [\"string\", \"alpha_3_code\"], [\"number\", \"numeric_code\"], [\"string\", \"flag\"]],\n        columnOptions: [{\"width\": \"1px\", \"className\": \"index_column\"}],\n        rowsPerPage: 25,\n        helpUrl: \"https://colab.research.google.com/notebooks/data_table.ipynb\",\n        suppressOutputScrolling: true,\n        minimumWidth: undefined,\n      });\n    ",
            "text/html": [
              "<div>\n",
              "<style scoped>\n",
              "    .dataframe tbody tr th:only-of-type {\n",
              "        vertical-align: middle;\n",
              "    }\n",
              "\n",
              "    .dataframe tbody tr th {\n",
              "        vertical-align: top;\n",
              "    }\n",
              "\n",
              "    .dataframe thead th {\n",
              "        text-align: right;\n",
              "    }\n",
              "</style>\n",
              "<table border=\"1\" class=\"dataframe\">\n",
              "  <thead>\n",
              "    <tr style=\"text-align: right;\">\n",
              "      <th></th>\n",
              "      <th>country_name</th>\n",
              "      <th>alpha_2_code</th>\n",
              "      <th>alpha_3_code</th>\n",
              "      <th>numeric_code</th>\n",
              "      <th>flag</th>\n",
              "    </tr>\n",
              "  </thead>\n",
              "  <tbody>\n",
              "    <tr>\n",
              "      <th>105</th>\n",
              "      <td>Iran (Islamic Republic of)</td>\n",
              "      <td>IR</td>\n",
              "      <td>IRN</td>\n",
              "      <td>364</td>\n",
              "      <td>🇮🇷</td>\n",
              "    </tr>\n",
              "  </tbody>\n",
              "</table>\n",
              "</div>"
            ],
            "text/plain": [
              "                   country_name alpha_2_code alpha_3_code  numeric_code flag\n",
              "105  Iran (Islamic Republic of)           IR          IRN           364   🇮🇷"
            ]
          },
          "metadata": {},
          "execution_count": 50
        }
      ]
    },
    {
      "cell_type": "code",
      "metadata": {
        "colab": {
          "base_uri": "https://localhost:8080/",
          "height": 110
        },
        "id": "_YHsWrR3FwJw",
        "outputId": "0385878d-7fee-4657-a80c-45666dae865b"
      },
      "source": [
        "# South Korea --> Republic Korea\n",
        "# https://en.wikipedia.org/wiki/South_Korea\n",
        "# df2[df2.country_name.str.contains('Korea')]\n",
        "df2[df2.country_name.str.contains('Korea, Republic')]"
      ],
      "execution_count": null,
      "outputs": [
        {
          "output_type": "display_data",
          "data": {
            "text/html": [
              "\n",
              "  <style>\n",
              "    pre {\n",
              "        white-space: pre-wrap;\n",
              "    }\n",
              "  </style>\n",
              "  "
            ],
            "text/plain": [
              "<IPython.core.display.HTML object>"
            ]
          },
          "metadata": {}
        },
        {
          "output_type": "execute_result",
          "data": {
            "application/vnd.google.colaboratory.module+javascript": "\n      import \"https://ssl.gstatic.com/colaboratory/data_table/a6224c040fa35dcf/data_table.js\";\n\n      window.createDataTable({\n        data: [[{\n            'v': 119,\n            'f': \"119\",\n        },\n\"Korea, Republic of\",\n\"KR\",\n\"KOR\",\n{\n            'v': 410,\n            'f': \"410\",\n        },\n\"\\ud83c\\uddf0\\ud83c\\uddf7\"]],\n        columns: [[\"number\", \"index\"], [\"string\", \"country_name\"], [\"string\", \"alpha_2_code\"], [\"string\", \"alpha_3_code\"], [\"number\", \"numeric_code\"], [\"string\", \"flag\"]],\n        columnOptions: [{\"width\": \"1px\", \"className\": \"index_column\"}],\n        rowsPerPage: 25,\n        helpUrl: \"https://colab.research.google.com/notebooks/data_table.ipynb\",\n        suppressOutputScrolling: true,\n        minimumWidth: undefined,\n      });\n    ",
            "text/html": [
              "<div>\n",
              "<style scoped>\n",
              "    .dataframe tbody tr th:only-of-type {\n",
              "        vertical-align: middle;\n",
              "    }\n",
              "\n",
              "    .dataframe tbody tr th {\n",
              "        vertical-align: top;\n",
              "    }\n",
              "\n",
              "    .dataframe thead th {\n",
              "        text-align: right;\n",
              "    }\n",
              "</style>\n",
              "<table border=\"1\" class=\"dataframe\">\n",
              "  <thead>\n",
              "    <tr style=\"text-align: right;\">\n",
              "      <th></th>\n",
              "      <th>country_name</th>\n",
              "      <th>alpha_2_code</th>\n",
              "      <th>alpha_3_code</th>\n",
              "      <th>numeric_code</th>\n",
              "      <th>flag</th>\n",
              "    </tr>\n",
              "  </thead>\n",
              "  <tbody>\n",
              "    <tr>\n",
              "      <th>119</th>\n",
              "      <td>Korea, Republic of</td>\n",
              "      <td>KR</td>\n",
              "      <td>KOR</td>\n",
              "      <td>410</td>\n",
              "      <td>🇰🇷</td>\n",
              "    </tr>\n",
              "  </tbody>\n",
              "</table>\n",
              "</div>"
            ],
            "text/plain": [
              "           country_name alpha_2_code alpha_3_code  numeric_code flag\n",
              "119  Korea, Republic of           KR          KOR           410   🇰🇷"
            ]
          },
          "metadata": {},
          "execution_count": 52
        }
      ]
    },
    {
      "cell_type": "code",
      "metadata": {
        "colab": {
          "base_uri": "https://localhost:8080/",
          "height": 89
        },
        "id": "OEAKOqf5Gao3",
        "outputId": "e7c11cf7-a0c2-4dd5-fa1b-14be2fd66c8e"
      },
      "source": [
        "# Kosovo is not found in our table, so, we have to add this row manually!\n",
        "# https://en.wikipedia.org/wiki/Kosovo\n",
        "# df2[df2.country_name.str.contains('Kosovo')]\n",
        "df2[df2.alpha_2_code == 'XK']"
      ],
      "execution_count": null,
      "outputs": [
        {
          "output_type": "display_data",
          "data": {
            "text/html": [
              "\n",
              "  <style>\n",
              "    pre {\n",
              "        white-space: pre-wrap;\n",
              "    }\n",
              "  </style>\n",
              "  "
            ],
            "text/plain": [
              "<IPython.core.display.HTML object>"
            ]
          },
          "metadata": {}
        },
        {
          "output_type": "execute_result",
          "data": {
            "application/vnd.google.colaboratory.module+javascript": "\n      import \"https://ssl.gstatic.com/colaboratory/data_table/a6224c040fa35dcf/data_table.js\";\n\n      window.createDataTable({\n        data: [],\n        columns: [[\"number\", \"index\"], [\"number\", \"country_name\"], [\"number\", \"alpha_2_code\"], [\"number\", \"alpha_3_code\"], [\"number\", \"numeric_code\"], [\"number\", \"flag\"]],\n        columnOptions: [{\"width\": \"1px\", \"className\": \"index_column\"}],\n        rowsPerPage: 25,\n        helpUrl: \"https://colab.research.google.com/notebooks/data_table.ipynb\",\n        suppressOutputScrolling: true,\n        minimumWidth: undefined,\n      });\n    ",
            "text/html": [
              "<div>\n",
              "<style scoped>\n",
              "    .dataframe tbody tr th:only-of-type {\n",
              "        vertical-align: middle;\n",
              "    }\n",
              "\n",
              "    .dataframe tbody tr th {\n",
              "        vertical-align: top;\n",
              "    }\n",
              "\n",
              "    .dataframe thead th {\n",
              "        text-align: right;\n",
              "    }\n",
              "</style>\n",
              "<table border=\"1\" class=\"dataframe\">\n",
              "  <thead>\n",
              "    <tr style=\"text-align: right;\">\n",
              "      <th></th>\n",
              "      <th>country_name</th>\n",
              "      <th>alpha_2_code</th>\n",
              "      <th>alpha_3_code</th>\n",
              "      <th>numeric_code</th>\n",
              "      <th>flag</th>\n",
              "    </tr>\n",
              "  </thead>\n",
              "  <tbody>\n",
              "  </tbody>\n",
              "</table>\n",
              "</div>"
            ],
            "text/plain": [
              "Empty DataFrame\n",
              "Columns: [country_name, alpha_2_code, alpha_3_code, numeric_code, flag]\n",
              "Index: []"
            ]
          },
          "metadata": {},
          "execution_count": 55
        }
      ]
    },
    {
      "cell_type": "code",
      "metadata": {
        "colab": {
          "base_uri": "https://localhost:8080/",
          "height": 221
        },
        "id": "wyBiz-WbHLro",
        "outputId": "466a3bbb-2f41-4546-c2fc-c87c864d0cdb"
      },
      "source": [
        "df2.info()"
      ],
      "execution_count": null,
      "outputs": [
        {
          "output_type": "display_data",
          "data": {
            "text/html": [
              "\n",
              "  <style>\n",
              "    pre {\n",
              "        white-space: pre-wrap;\n",
              "    }\n",
              "  </style>\n",
              "  "
            ],
            "text/plain": [
              "<IPython.core.display.HTML object>"
            ]
          },
          "metadata": {}
        },
        {
          "output_type": "stream",
          "name": "stdout",
          "text": [
            "<class 'pandas.core.frame.DataFrame'>\n",
            "RangeIndex: 249 entries, 0 to 248\n",
            "Data columns (total 5 columns):\n",
            " #   Column        Non-Null Count  Dtype \n",
            "---  ------        --------------  ----- \n",
            " 0   country_name  249 non-null    object\n",
            " 1   alpha_2_code  248 non-null    object\n",
            " 2   alpha_3_code  249 non-null    object\n",
            " 3   numeric_code  249 non-null    int64 \n",
            " 4   flag          249 non-null    object\n",
            "dtypes: int64(1), object(4)\n",
            "memory usage: 9.9+ KB\n"
          ]
        }
      ]
    },
    {
      "cell_type": "code",
      "metadata": {
        "colab": {
          "base_uri": "https://localhost:8080/",
          "height": 17
        },
        "id": "rNBWmoGmHBFZ",
        "outputId": "e5e4509b-020a-4394-a41a-3562d04110e4"
      },
      "source": [
        "# 'country_name', 'alpha_2_code', 'alpha_3_code', 'numeric_code', 'flag'\n",
        "# string,         string,         string,         int,            string\n",
        "# https://en.wikipedia.org/wiki/Kosovo\n",
        "# https://laendercode.net/en/2-letter-code/xk\n",
        "# https://www.dnb.com/content/dam/english/dnb-solutions/sales-and-marketing/iso_3digit_numeric_country_codes.xls\n",
        "# https://emojipedia.org/flag-kosovo/\n",
        "\n",
        "df2 = df2.append({\n",
        "    'country_name': 'Kosovo',\n",
        "    'alpha_2_code': 'XK',\n",
        "    'alpha_3_code': 'XXK',\n",
        "    'numeric_code': 926,\n",
        "    'flag': '🇽🇰'\n",
        "}, ignore_index=True)"
      ],
      "execution_count": null,
      "outputs": [
        {
          "output_type": "display_data",
          "data": {
            "text/html": [
              "\n",
              "  <style>\n",
              "    pre {\n",
              "        white-space: pre-wrap;\n",
              "    }\n",
              "  </style>\n",
              "  "
            ],
            "text/plain": [
              "<IPython.core.display.HTML object>"
            ]
          },
          "metadata": {}
        }
      ]
    },
    {
      "cell_type": "code",
      "metadata": {
        "colab": {
          "base_uri": "https://localhost:8080/",
          "height": 110
        },
        "id": "kUsh5e5PIjLp",
        "outputId": "8402eb58-e15f-4970-c9f5-15c9e6c49347"
      },
      "source": [
        "# double-checking that 'Kosovo' now exists in the country codes table\n",
        "df2[df2.alpha_2_code == 'XK']"
      ],
      "execution_count": null,
      "outputs": [
        {
          "output_type": "display_data",
          "data": {
            "text/html": [
              "\n",
              "  <style>\n",
              "    pre {\n",
              "        white-space: pre-wrap;\n",
              "    }\n",
              "  </style>\n",
              "  "
            ],
            "text/plain": [
              "<IPython.core.display.HTML object>"
            ]
          },
          "metadata": {}
        },
        {
          "output_type": "execute_result",
          "data": {
            "application/vnd.google.colaboratory.module+javascript": "\n      import \"https://ssl.gstatic.com/colaboratory/data_table/a6224c040fa35dcf/data_table.js\";\n\n      window.createDataTable({\n        data: [[{\n            'v': 249,\n            'f': \"249\",\n        },\n\"Kosovo\",\n\"XK\",\n\"XXK\",\n{\n            'v': 926,\n            'f': \"926\",\n        },\n\"\\ud83c\\uddfd\\ud83c\\uddf0\"]],\n        columns: [[\"number\", \"index\"], [\"string\", \"country_name\"], [\"string\", \"alpha_2_code\"], [\"string\", \"alpha_3_code\"], [\"number\", \"numeric_code\"], [\"string\", \"flag\"]],\n        columnOptions: [{\"width\": \"1px\", \"className\": \"index_column\"}],\n        rowsPerPage: 25,\n        helpUrl: \"https://colab.research.google.com/notebooks/data_table.ipynb\",\n        suppressOutputScrolling: true,\n        minimumWidth: undefined,\n      });\n    ",
            "text/html": [
              "<div>\n",
              "<style scoped>\n",
              "    .dataframe tbody tr th:only-of-type {\n",
              "        vertical-align: middle;\n",
              "    }\n",
              "\n",
              "    .dataframe tbody tr th {\n",
              "        vertical-align: top;\n",
              "    }\n",
              "\n",
              "    .dataframe thead th {\n",
              "        text-align: right;\n",
              "    }\n",
              "</style>\n",
              "<table border=\"1\" class=\"dataframe\">\n",
              "  <thead>\n",
              "    <tr style=\"text-align: right;\">\n",
              "      <th></th>\n",
              "      <th>country_name</th>\n",
              "      <th>alpha_2_code</th>\n",
              "      <th>alpha_3_code</th>\n",
              "      <th>numeric_code</th>\n",
              "      <th>flag</th>\n",
              "    </tr>\n",
              "  </thead>\n",
              "  <tbody>\n",
              "    <tr>\n",
              "      <th>249</th>\n",
              "      <td>Kosovo</td>\n",
              "      <td>XK</td>\n",
              "      <td>XXK</td>\n",
              "      <td>926</td>\n",
              "      <td>🇽🇰</td>\n",
              "    </tr>\n",
              "  </tbody>\n",
              "</table>\n",
              "</div>"
            ],
            "text/plain": [
              "    country_name alpha_2_code alpha_3_code  numeric_code flag\n",
              "249       Kosovo           XK          XXK           926   🇽🇰"
            ]
          },
          "metadata": {},
          "execution_count": 59
        }
      ]
    },
    {
      "cell_type": "code",
      "metadata": {
        "colab": {
          "base_uri": "https://localhost:8080/",
          "height": 110
        },
        "id": "pL1jVenBIp6u",
        "outputId": "9bc5f93f-b5a9-481b-c3e5-4b777eca3e6b"
      },
      "source": [
        "df2[df2.country_name.str.contains('Moldova')]"
      ],
      "execution_count": null,
      "outputs": [
        {
          "output_type": "display_data",
          "data": {
            "text/html": [
              "\n",
              "  <style>\n",
              "    pre {\n",
              "        white-space: pre-wrap;\n",
              "    }\n",
              "  </style>\n",
              "  "
            ],
            "text/plain": [
              "<IPython.core.display.HTML object>"
            ]
          },
          "metadata": {}
        },
        {
          "output_type": "execute_result",
          "data": {
            "application/vnd.google.colaboratory.module+javascript": "\n      import \"https://ssl.gstatic.com/colaboratory/data_table/a6224c040fa35dcf/data_table.js\";\n\n      window.createDataTable({\n        data: [[{\n            'v': 145,\n            'f': \"145\",\n        },\n\"Moldova, Republic of\",\n\"MD\",\n\"MDA\",\n{\n            'v': 498,\n            'f': \"498\",\n        },\n\"\\ud83c\\uddf2\\ud83c\\udde9\"]],\n        columns: [[\"number\", \"index\"], [\"string\", \"country_name\"], [\"string\", \"alpha_2_code\"], [\"string\", \"alpha_3_code\"], [\"number\", \"numeric_code\"], [\"string\", \"flag\"]],\n        columnOptions: [{\"width\": \"1px\", \"className\": \"index_column\"}],\n        rowsPerPage: 25,\n        helpUrl: \"https://colab.research.google.com/notebooks/data_table.ipynb\",\n        suppressOutputScrolling: true,\n        minimumWidth: undefined,\n      });\n    ",
            "text/html": [
              "<div>\n",
              "<style scoped>\n",
              "    .dataframe tbody tr th:only-of-type {\n",
              "        vertical-align: middle;\n",
              "    }\n",
              "\n",
              "    .dataframe tbody tr th {\n",
              "        vertical-align: top;\n",
              "    }\n",
              "\n",
              "    .dataframe thead th {\n",
              "        text-align: right;\n",
              "    }\n",
              "</style>\n",
              "<table border=\"1\" class=\"dataframe\">\n",
              "  <thead>\n",
              "    <tr style=\"text-align: right;\">\n",
              "      <th></th>\n",
              "      <th>country_name</th>\n",
              "      <th>alpha_2_code</th>\n",
              "      <th>alpha_3_code</th>\n",
              "      <th>numeric_code</th>\n",
              "      <th>flag</th>\n",
              "    </tr>\n",
              "  </thead>\n",
              "  <tbody>\n",
              "    <tr>\n",
              "      <th>145</th>\n",
              "      <td>Moldova, Republic of</td>\n",
              "      <td>MD</td>\n",
              "      <td>MDA</td>\n",
              "      <td>498</td>\n",
              "      <td>🇲🇩</td>\n",
              "    </tr>\n",
              "  </tbody>\n",
              "</table>\n",
              "</div>"
            ],
            "text/plain": [
              "             country_name alpha_2_code alpha_3_code  numeric_code flag\n",
              "145  Moldova, Republic of           MD          MDA           498   🇲🇩"
            ]
          },
          "metadata": {},
          "execution_count": 60
        }
      ]
    },
    {
      "cell_type": "code",
      "metadata": {
        "colab": {
          "base_uri": "https://localhost:8080/",
          "height": 110
        },
        "id": "eTlJvL5mQejd",
        "outputId": "a46fe412-3a71-45cd-d3bd-d145b7e17f0a"
      },
      "source": [
        "df2[df2.country_name.str.contains('Palestine')]"
      ],
      "execution_count": null,
      "outputs": [
        {
          "output_type": "display_data",
          "data": {
            "text/html": [
              "\n",
              "  <style>\n",
              "    pre {\n",
              "        white-space: pre-wrap;\n",
              "    }\n",
              "  </style>\n",
              "  "
            ],
            "text/plain": [
              "<IPython.core.display.HTML object>"
            ]
          },
          "metadata": {}
        },
        {
          "output_type": "execute_result",
          "data": {
            "application/vnd.google.colaboratory.module+javascript": "\n      import \"https://ssl.gstatic.com/colaboratory/data_table/a6224c040fa35dcf/data_table.js\";\n\n      window.createDataTable({\n        data: [[{\n            'v': 170,\n            'f': \"170\",\n        },\n\"Palestine, State of\",\n\"PS\",\n\"PSE\",\n{\n            'v': 275,\n            'f': \"275\",\n        },\n\"\\ud83c\\uddf5\\ud83c\\uddf8\"]],\n        columns: [[\"number\", \"index\"], [\"string\", \"country_name\"], [\"string\", \"alpha_2_code\"], [\"string\", \"alpha_3_code\"], [\"number\", \"numeric_code\"], [\"string\", \"flag\"]],\n        columnOptions: [{\"width\": \"1px\", \"className\": \"index_column\"}],\n        rowsPerPage: 25,\n        helpUrl: \"https://colab.research.google.com/notebooks/data_table.ipynb\",\n        suppressOutputScrolling: true,\n        minimumWidth: undefined,\n      });\n    ",
            "text/html": [
              "<div>\n",
              "<style scoped>\n",
              "    .dataframe tbody tr th:only-of-type {\n",
              "        vertical-align: middle;\n",
              "    }\n",
              "\n",
              "    .dataframe tbody tr th {\n",
              "        vertical-align: top;\n",
              "    }\n",
              "\n",
              "    .dataframe thead th {\n",
              "        text-align: right;\n",
              "    }\n",
              "</style>\n",
              "<table border=\"1\" class=\"dataframe\">\n",
              "  <thead>\n",
              "    <tr style=\"text-align: right;\">\n",
              "      <th></th>\n",
              "      <th>country_name</th>\n",
              "      <th>alpha_2_code</th>\n",
              "      <th>alpha_3_code</th>\n",
              "      <th>numeric_code</th>\n",
              "      <th>flag</th>\n",
              "    </tr>\n",
              "  </thead>\n",
              "  <tbody>\n",
              "    <tr>\n",
              "      <th>170</th>\n",
              "      <td>Palestine, State of</td>\n",
              "      <td>PS</td>\n",
              "      <td>PSE</td>\n",
              "      <td>275</td>\n",
              "      <td>🇵🇸</td>\n",
              "    </tr>\n",
              "  </tbody>\n",
              "</table>\n",
              "</div>"
            ],
            "text/plain": [
              "            country_name alpha_2_code alpha_3_code  numeric_code flag\n",
              "170  Palestine, State of           PS          PSE           275   🇵🇸"
            ]
          },
          "metadata": {},
          "execution_count": 62
        }
      ]
    },
    {
      "cell_type": "code",
      "metadata": {
        "colab": {
          "base_uri": "https://localhost:8080/",
          "height": 110
        },
        "id": "dN46h6BvQll6",
        "outputId": "a4f6b2e2-954b-4b54-eba1-1a9c94c7a1f9"
      },
      "source": [
        "df2[df2.country_name.str.contains('Russia')]"
      ],
      "execution_count": null,
      "outputs": [
        {
          "output_type": "display_data",
          "data": {
            "text/html": [
              "\n",
              "  <style>\n",
              "    pre {\n",
              "        white-space: pre-wrap;\n",
              "    }\n",
              "  </style>\n",
              "  "
            ],
            "text/plain": [
              "<IPython.core.display.HTML object>"
            ]
          },
          "metadata": {}
        },
        {
          "output_type": "execute_result",
          "data": {
            "application/vnd.google.colaboratory.module+javascript": "\n      import \"https://ssl.gstatic.com/colaboratory/data_table/a6224c040fa35dcf/data_table.js\";\n\n      window.createDataTable({\n        data: [[{\n            'v': 183,\n            'f': \"183\",\n        },\n\"Russian Federation\",\n\"RU\",\n\"RUS\",\n{\n            'v': 643,\n            'f': \"643\",\n        },\n\"\\ud83c\\uddf7\\ud83c\\uddfa\"]],\n        columns: [[\"number\", \"index\"], [\"string\", \"country_name\"], [\"string\", \"alpha_2_code\"], [\"string\", \"alpha_3_code\"], [\"number\", \"numeric_code\"], [\"string\", \"flag\"]],\n        columnOptions: [{\"width\": \"1px\", \"className\": \"index_column\"}],\n        rowsPerPage: 25,\n        helpUrl: \"https://colab.research.google.com/notebooks/data_table.ipynb\",\n        suppressOutputScrolling: true,\n        minimumWidth: undefined,\n      });\n    ",
            "text/html": [
              "<div>\n",
              "<style scoped>\n",
              "    .dataframe tbody tr th:only-of-type {\n",
              "        vertical-align: middle;\n",
              "    }\n",
              "\n",
              "    .dataframe tbody tr th {\n",
              "        vertical-align: top;\n",
              "    }\n",
              "\n",
              "    .dataframe thead th {\n",
              "        text-align: right;\n",
              "    }\n",
              "</style>\n",
              "<table border=\"1\" class=\"dataframe\">\n",
              "  <thead>\n",
              "    <tr style=\"text-align: right;\">\n",
              "      <th></th>\n",
              "      <th>country_name</th>\n",
              "      <th>alpha_2_code</th>\n",
              "      <th>alpha_3_code</th>\n",
              "      <th>numeric_code</th>\n",
              "      <th>flag</th>\n",
              "    </tr>\n",
              "  </thead>\n",
              "  <tbody>\n",
              "    <tr>\n",
              "      <th>183</th>\n",
              "      <td>Russian Federation</td>\n",
              "      <td>RU</td>\n",
              "      <td>RUS</td>\n",
              "      <td>643</td>\n",
              "      <td>🇷🇺</td>\n",
              "    </tr>\n",
              "  </tbody>\n",
              "</table>\n",
              "</div>"
            ],
            "text/plain": [
              "           country_name alpha_2_code alpha_3_code  numeric_code flag\n",
              "183  Russian Federation           RU          RUS           643   🇷🇺"
            ]
          },
          "metadata": {},
          "execution_count": 63
        }
      ]
    },
    {
      "cell_type": "code",
      "metadata": {
        "colab": {
          "base_uri": "https://localhost:8080/",
          "height": 110
        },
        "id": "IUqK4C1VQqZL",
        "outputId": "2bb1b047-b884-4eff-8d46-5bb054dd1ccf"
      },
      "source": [
        "df2[df2.country_name.str.contains('Syria')]"
      ],
      "execution_count": null,
      "outputs": [
        {
          "output_type": "display_data",
          "data": {
            "text/html": [
              "\n",
              "  <style>\n",
              "    pre {\n",
              "        white-space: pre-wrap;\n",
              "    }\n",
              "  </style>\n",
              "  "
            ],
            "text/plain": [
              "<IPython.core.display.HTML object>"
            ]
          },
          "metadata": {}
        },
        {
          "output_type": "execute_result",
          "data": {
            "application/vnd.google.colaboratory.module+javascript": "\n      import \"https://ssl.gstatic.com/colaboratory/data_table/a6224c040fa35dcf/data_table.js\";\n\n      window.createDataTable({\n        data: [[{\n            'v': 216,\n            'f': \"216\",\n        },\n\"Syrian Arab Republic\",\n\"SY\",\n\"SYR\",\n{\n            'v': 760,\n            'f': \"760\",\n        },\n\"\\ud83c\\uddf8\\ud83c\\uddfe\"]],\n        columns: [[\"number\", \"index\"], [\"string\", \"country_name\"], [\"string\", \"alpha_2_code\"], [\"string\", \"alpha_3_code\"], [\"number\", \"numeric_code\"], [\"string\", \"flag\"]],\n        columnOptions: [{\"width\": \"1px\", \"className\": \"index_column\"}],\n        rowsPerPage: 25,\n        helpUrl: \"https://colab.research.google.com/notebooks/data_table.ipynb\",\n        suppressOutputScrolling: true,\n        minimumWidth: undefined,\n      });\n    ",
            "text/html": [
              "<div>\n",
              "<style scoped>\n",
              "    .dataframe tbody tr th:only-of-type {\n",
              "        vertical-align: middle;\n",
              "    }\n",
              "\n",
              "    .dataframe tbody tr th {\n",
              "        vertical-align: top;\n",
              "    }\n",
              "\n",
              "    .dataframe thead th {\n",
              "        text-align: right;\n",
              "    }\n",
              "</style>\n",
              "<table border=\"1\" class=\"dataframe\">\n",
              "  <thead>\n",
              "    <tr style=\"text-align: right;\">\n",
              "      <th></th>\n",
              "      <th>country_name</th>\n",
              "      <th>alpha_2_code</th>\n",
              "      <th>alpha_3_code</th>\n",
              "      <th>numeric_code</th>\n",
              "      <th>flag</th>\n",
              "    </tr>\n",
              "  </thead>\n",
              "  <tbody>\n",
              "    <tr>\n",
              "      <th>216</th>\n",
              "      <td>Syrian Arab Republic</td>\n",
              "      <td>SY</td>\n",
              "      <td>SYR</td>\n",
              "      <td>760</td>\n",
              "      <td>🇸🇾</td>\n",
              "    </tr>\n",
              "  </tbody>\n",
              "</table>\n",
              "</div>"
            ],
            "text/plain": [
              "             country_name alpha_2_code alpha_3_code  numeric_code flag\n",
              "216  Syrian Arab Republic           SY          SYR           760   🇸🇾"
            ]
          },
          "metadata": {},
          "execution_count": 64
        }
      ]
    },
    {
      "cell_type": "code",
      "metadata": {
        "colab": {
          "base_uri": "https://localhost:8080/",
          "height": 110
        },
        "id": "HLZASAP3Qvvd",
        "outputId": "2f5e91e6-a405-4277-a509-140705d2b00f"
      },
      "source": [
        "df2[df2.country_name.str.contains('Taiwan')]"
      ],
      "execution_count": null,
      "outputs": [
        {
          "output_type": "display_data",
          "data": {
            "text/html": [
              "\n",
              "  <style>\n",
              "    pre {\n",
              "        white-space: pre-wrap;\n",
              "    }\n",
              "  </style>\n",
              "  "
            ],
            "text/plain": [
              "<IPython.core.display.HTML object>"
            ]
          },
          "metadata": {}
        },
        {
          "output_type": "execute_result",
          "data": {
            "application/vnd.google.colaboratory.module+javascript": "\n      import \"https://ssl.gstatic.com/colaboratory/data_table/a6224c040fa35dcf/data_table.js\";\n\n      window.createDataTable({\n        data: [[{\n            'v': 217,\n            'f': \"217\",\n        },\n\"Taiwan, Province of China\",\n\"TW\",\n\"TWN\",\n{\n            'v': 158,\n            'f': \"158\",\n        },\n\"\\ud83c\\uddf9\\ud83c\\uddfc\"]],\n        columns: [[\"number\", \"index\"], [\"string\", \"country_name\"], [\"string\", \"alpha_2_code\"], [\"string\", \"alpha_3_code\"], [\"number\", \"numeric_code\"], [\"string\", \"flag\"]],\n        columnOptions: [{\"width\": \"1px\", \"className\": \"index_column\"}],\n        rowsPerPage: 25,\n        helpUrl: \"https://colab.research.google.com/notebooks/data_table.ipynb\",\n        suppressOutputScrolling: true,\n        minimumWidth: undefined,\n      });\n    ",
            "text/html": [
              "<div>\n",
              "<style scoped>\n",
              "    .dataframe tbody tr th:only-of-type {\n",
              "        vertical-align: middle;\n",
              "    }\n",
              "\n",
              "    .dataframe tbody tr th {\n",
              "        vertical-align: top;\n",
              "    }\n",
              "\n",
              "    .dataframe thead th {\n",
              "        text-align: right;\n",
              "    }\n",
              "</style>\n",
              "<table border=\"1\" class=\"dataframe\">\n",
              "  <thead>\n",
              "    <tr style=\"text-align: right;\">\n",
              "      <th></th>\n",
              "      <th>country_name</th>\n",
              "      <th>alpha_2_code</th>\n",
              "      <th>alpha_3_code</th>\n",
              "      <th>numeric_code</th>\n",
              "      <th>flag</th>\n",
              "    </tr>\n",
              "  </thead>\n",
              "  <tbody>\n",
              "    <tr>\n",
              "      <th>217</th>\n",
              "      <td>Taiwan, Province of China</td>\n",
              "      <td>TW</td>\n",
              "      <td>TWN</td>\n",
              "      <td>158</td>\n",
              "      <td>🇹🇼</td>\n",
              "    </tr>\n",
              "  </tbody>\n",
              "</table>\n",
              "</div>"
            ],
            "text/plain": [
              "                  country_name alpha_2_code alpha_3_code  numeric_code flag\n",
              "217  Taiwan, Province of China           TW          TWN           158   🇹🇼"
            ]
          },
          "metadata": {},
          "execution_count": 65
        }
      ]
    },
    {
      "cell_type": "code",
      "metadata": {
        "colab": {
          "base_uri": "https://localhost:8080/",
          "height": 131
        },
        "id": "73mjgKp8Q0fu",
        "outputId": "48eeed6a-0eca-486d-d643-9f6bdb9994c8"
      },
      "source": [
        "df2[df2.country_name.str.contains('United States')]"
      ],
      "execution_count": null,
      "outputs": [
        {
          "output_type": "display_data",
          "data": {
            "text/html": [
              "\n",
              "  <style>\n",
              "    pre {\n",
              "        white-space: pre-wrap;\n",
              "    }\n",
              "  </style>\n",
              "  "
            ],
            "text/plain": [
              "<IPython.core.display.HTML object>"
            ]
          },
          "metadata": {}
        },
        {
          "output_type": "execute_result",
          "data": {
            "application/vnd.google.colaboratory.module+javascript": "\n      import \"https://ssl.gstatic.com/colaboratory/data_table/a6224c040fa35dcf/data_table.js\";\n\n      window.createDataTable({\n        data: [[{\n            'v': 235,\n            'f': \"235\",\n        },\n\"United States Minor Outlying Islands\",\n\"UM\",\n\"UMI\",\n{\n            'v': 581,\n            'f': \"581\",\n        },\n\"\\ud83c\\uddfa\\ud83c\\uddf2\"],\n [{\n            'v': 236,\n            'f': \"236\",\n        },\n\"United States of America\",\n\"US\",\n\"USA\",\n{\n            'v': 840,\n            'f': \"840\",\n        },\n\"\\ud83c\\uddfa\\ud83c\\uddf8\"]],\n        columns: [[\"number\", \"index\"], [\"string\", \"country_name\"], [\"string\", \"alpha_2_code\"], [\"string\", \"alpha_3_code\"], [\"number\", \"numeric_code\"], [\"string\", \"flag\"]],\n        columnOptions: [{\"width\": \"1px\", \"className\": \"index_column\"}],\n        rowsPerPage: 25,\n        helpUrl: \"https://colab.research.google.com/notebooks/data_table.ipynb\",\n        suppressOutputScrolling: true,\n        minimumWidth: undefined,\n      });\n    ",
            "text/html": [
              "<div>\n",
              "<style scoped>\n",
              "    .dataframe tbody tr th:only-of-type {\n",
              "        vertical-align: middle;\n",
              "    }\n",
              "\n",
              "    .dataframe tbody tr th {\n",
              "        vertical-align: top;\n",
              "    }\n",
              "\n",
              "    .dataframe thead th {\n",
              "        text-align: right;\n",
              "    }\n",
              "</style>\n",
              "<table border=\"1\" class=\"dataframe\">\n",
              "  <thead>\n",
              "    <tr style=\"text-align: right;\">\n",
              "      <th></th>\n",
              "      <th>country_name</th>\n",
              "      <th>alpha_2_code</th>\n",
              "      <th>alpha_3_code</th>\n",
              "      <th>numeric_code</th>\n",
              "      <th>flag</th>\n",
              "    </tr>\n",
              "  </thead>\n",
              "  <tbody>\n",
              "    <tr>\n",
              "      <th>235</th>\n",
              "      <td>United States Minor Outlying Islands</td>\n",
              "      <td>UM</td>\n",
              "      <td>UMI</td>\n",
              "      <td>581</td>\n",
              "      <td>🇺🇲</td>\n",
              "    </tr>\n",
              "    <tr>\n",
              "      <th>236</th>\n",
              "      <td>United States of America</td>\n",
              "      <td>US</td>\n",
              "      <td>USA</td>\n",
              "      <td>840</td>\n",
              "      <td>🇺🇸</td>\n",
              "    </tr>\n",
              "  </tbody>\n",
              "</table>\n",
              "</div>"
            ],
            "text/plain": [
              "                             country_name alpha_2_code  ... numeric_code  flag\n",
              "235  United States Minor Outlying Islands           UM  ...          581    🇺🇲\n",
              "236              United States of America           US  ...          840    🇺🇸\n",
              "\n",
              "[2 rows x 5 columns]"
            ]
          },
          "metadata": {},
          "execution_count": 67
        }
      ]
    },
    {
      "cell_type": "code",
      "metadata": {
        "colab": {
          "base_uri": "https://localhost:8080/",
          "height": 110
        },
        "id": "Qj40RYSWRG95",
        "outputId": "a054c208-628d-4d7b-a1fe-e47b7c23a944"
      },
      "source": [
        "df2[df2.country_name.str.contains('United Kingdom')]"
      ],
      "execution_count": null,
      "outputs": [
        {
          "output_type": "display_data",
          "data": {
            "text/html": [
              "\n",
              "  <style>\n",
              "    pre {\n",
              "        white-space: pre-wrap;\n",
              "    }\n",
              "  </style>\n",
              "  "
            ],
            "text/plain": [
              "<IPython.core.display.HTML object>"
            ]
          },
          "metadata": {}
        },
        {
          "output_type": "execute_result",
          "data": {
            "application/vnd.google.colaboratory.module+javascript": "\n      import \"https://ssl.gstatic.com/colaboratory/data_table/a6224c040fa35dcf/data_table.js\";\n\n      window.createDataTable({\n        data: [[{\n            'v': 234,\n            'f': \"234\",\n        },\n\"United Kingdom of Great Britain and Northern Ireland\",\n\"GB\",\n\"GBR\",\n{\n            'v': 826,\n            'f': \"826\",\n        },\n\"\\ud83c\\uddec\\ud83c\\udde7\"]],\n        columns: [[\"number\", \"index\"], [\"string\", \"country_name\"], [\"string\", \"alpha_2_code\"], [\"string\", \"alpha_3_code\"], [\"number\", \"numeric_code\"], [\"string\", \"flag\"]],\n        columnOptions: [{\"width\": \"1px\", \"className\": \"index_column\"}],\n        rowsPerPage: 25,\n        helpUrl: \"https://colab.research.google.com/notebooks/data_table.ipynb\",\n        suppressOutputScrolling: true,\n        minimumWidth: undefined,\n      });\n    ",
            "text/html": [
              "<div>\n",
              "<style scoped>\n",
              "    .dataframe tbody tr th:only-of-type {\n",
              "        vertical-align: middle;\n",
              "    }\n",
              "\n",
              "    .dataframe tbody tr th {\n",
              "        vertical-align: top;\n",
              "    }\n",
              "\n",
              "    .dataframe thead th {\n",
              "        text-align: right;\n",
              "    }\n",
              "</style>\n",
              "<table border=\"1\" class=\"dataframe\">\n",
              "  <thead>\n",
              "    <tr style=\"text-align: right;\">\n",
              "      <th></th>\n",
              "      <th>country_name</th>\n",
              "      <th>alpha_2_code</th>\n",
              "      <th>alpha_3_code</th>\n",
              "      <th>numeric_code</th>\n",
              "      <th>flag</th>\n",
              "    </tr>\n",
              "  </thead>\n",
              "  <tbody>\n",
              "    <tr>\n",
              "      <th>234</th>\n",
              "      <td>United Kingdom of Great Britain and Northern I...</td>\n",
              "      <td>GB</td>\n",
              "      <td>GBR</td>\n",
              "      <td>826</td>\n",
              "      <td>🇬🇧</td>\n",
              "    </tr>\n",
              "  </tbody>\n",
              "</table>\n",
              "</div>"
            ],
            "text/plain": [
              "                                          country_name  ... flag\n",
              "234  United Kingdom of Great Britain and Northern I...  ...   🇬🇧\n",
              "\n",
              "[1 rows x 5 columns]"
            ]
          },
          "metadata": {},
          "execution_count": 68
        }
      ]
    },
    {
      "cell_type": "code",
      "metadata": {
        "colab": {
          "base_uri": "https://localhost:8080/",
          "height": 89
        },
        "id": "uGljwfjpRNg1",
        "outputId": "e06c6ff3-dda0-4792-bb6c-a387c4020cc6"
      },
      "source": [
        "# Vatican City also is not found in the country codes table, so,\n",
        "# we should add it manually\n",
        "df2[df2.country_name.str.contains('Vatican')]"
      ],
      "execution_count": null,
      "outputs": [
        {
          "output_type": "display_data",
          "data": {
            "text/html": [
              "\n",
              "  <style>\n",
              "    pre {\n",
              "        white-space: pre-wrap;\n",
              "    }\n",
              "  </style>\n",
              "  "
            ],
            "text/plain": [
              "<IPython.core.display.HTML object>"
            ]
          },
          "metadata": {}
        },
        {
          "output_type": "execute_result",
          "data": {
            "application/vnd.google.colaboratory.module+javascript": "\n      import \"https://ssl.gstatic.com/colaboratory/data_table/a6224c040fa35dcf/data_table.js\";\n\n      window.createDataTable({\n        data: [],\n        columns: [[\"number\", \"index\"], [\"number\", \"country_name\"], [\"number\", \"alpha_2_code\"], [\"number\", \"alpha_3_code\"], [\"number\", \"numeric_code\"], [\"number\", \"flag\"]],\n        columnOptions: [{\"width\": \"1px\", \"className\": \"index_column\"}],\n        rowsPerPage: 25,\n        helpUrl: \"https://colab.research.google.com/notebooks/data_table.ipynb\",\n        suppressOutputScrolling: true,\n        minimumWidth: undefined,\n      });\n    ",
            "text/html": [
              "<div>\n",
              "<style scoped>\n",
              "    .dataframe tbody tr th:only-of-type {\n",
              "        vertical-align: middle;\n",
              "    }\n",
              "\n",
              "    .dataframe tbody tr th {\n",
              "        vertical-align: top;\n",
              "    }\n",
              "\n",
              "    .dataframe thead th {\n",
              "        text-align: right;\n",
              "    }\n",
              "</style>\n",
              "<table border=\"1\" class=\"dataframe\">\n",
              "  <thead>\n",
              "    <tr style=\"text-align: right;\">\n",
              "      <th></th>\n",
              "      <th>country_name</th>\n",
              "      <th>alpha_2_code</th>\n",
              "      <th>alpha_3_code</th>\n",
              "      <th>numeric_code</th>\n",
              "      <th>flag</th>\n",
              "    </tr>\n",
              "  </thead>\n",
              "  <tbody>\n",
              "  </tbody>\n",
              "</table>\n",
              "</div>"
            ],
            "text/plain": [
              "Empty DataFrame\n",
              "Columns: [country_name, alpha_2_code, alpha_3_code, numeric_code, flag]\n",
              "Index: []"
            ]
          },
          "metadata": {},
          "execution_count": 69
        }
      ]
    },
    {
      "cell_type": "code",
      "metadata": {
        "colab": {
          "base_uri": "https://localhost:8080/",
          "height": 17
        },
        "id": "u1IyMzT9RrmU",
        "outputId": "1ce1cd52-f76c-4eb7-80e6-339cc9705f62"
      },
      "source": [
        "# https://en.wikipedia.org/wiki/Vatican_City\n",
        "# https://wits.worldbank.org/wits/wits/witshelp/content/codes/country_codes.htm\n",
        "# https://emojipedia.org/flag-vatican-city/\n",
        "\n",
        "df2 = df2.append({\n",
        "    'country_name': 'Vatican City',\n",
        "    'alpha_2_code': 'VA',\n",
        "    'alpha_3_code': 'VAT',\n",
        "    'numeric_code': 336,\n",
        "    'flag': '🇻🇦'\n",
        "}, ignore_index=True)"
      ],
      "execution_count": null,
      "outputs": [
        {
          "output_type": "display_data",
          "data": {
            "text/html": [
              "\n",
              "  <style>\n",
              "    pre {\n",
              "        white-space: pre-wrap;\n",
              "    }\n",
              "  </style>\n",
              "  "
            ],
            "text/plain": [
              "<IPython.core.display.HTML object>"
            ]
          },
          "metadata": {}
        }
      ]
    },
    {
      "cell_type": "code",
      "metadata": {
        "colab": {
          "base_uri": "https://localhost:8080/",
          "height": 131
        },
        "id": "16swLcpwS2Pb",
        "outputId": "1ee61629-98db-4f62-a6ab-3a6d4c69b491"
      },
      "source": [
        "# double-checking that 'Vatican City' now exists in the country codes table\n",
        "# p.s. also, we can notice that the country actually exists with another name\n",
        "# 'Holy See', yet another proof on why country codes are more reliable\n",
        "df2[df2.alpha_2_code == 'VA']"
      ],
      "execution_count": null,
      "outputs": [
        {
          "output_type": "display_data",
          "data": {
            "text/html": [
              "\n",
              "  <style>\n",
              "    pre {\n",
              "        white-space: pre-wrap;\n",
              "    }\n",
              "  </style>\n",
              "  "
            ],
            "text/plain": [
              "<IPython.core.display.HTML object>"
            ]
          },
          "metadata": {}
        },
        {
          "output_type": "execute_result",
          "data": {
            "application/vnd.google.colaboratory.module+javascript": "\n      import \"https://ssl.gstatic.com/colaboratory/data_table/a6224c040fa35dcf/data_table.js\";\n\n      window.createDataTable({\n        data: [[{\n            'v': 98,\n            'f': \"98\",\n        },\n\"Holy See\",\n\"VA\",\n\"VAT\",\n{\n            'v': 336,\n            'f': \"336\",\n        },\n\"\\ud83c\\uddfb\\ud83c\\udde6\"],\n [{\n            'v': 250,\n            'f': \"250\",\n        },\n\"Vatican City\",\n\"VA\",\n\"VAT\",\n{\n            'v': 336,\n            'f': \"336\",\n        },\n\"\\ud83c\\uddfb\\ud83c\\udde6\"]],\n        columns: [[\"number\", \"index\"], [\"string\", \"country_name\"], [\"string\", \"alpha_2_code\"], [\"string\", \"alpha_3_code\"], [\"number\", \"numeric_code\"], [\"string\", \"flag\"]],\n        columnOptions: [{\"width\": \"1px\", \"className\": \"index_column\"}],\n        rowsPerPage: 25,\n        helpUrl: \"https://colab.research.google.com/notebooks/data_table.ipynb\",\n        suppressOutputScrolling: true,\n        minimumWidth: undefined,\n      });\n    ",
            "text/html": [
              "<div>\n",
              "<style scoped>\n",
              "    .dataframe tbody tr th:only-of-type {\n",
              "        vertical-align: middle;\n",
              "    }\n",
              "\n",
              "    .dataframe tbody tr th {\n",
              "        vertical-align: top;\n",
              "    }\n",
              "\n",
              "    .dataframe thead th {\n",
              "        text-align: right;\n",
              "    }\n",
              "</style>\n",
              "<table border=\"1\" class=\"dataframe\">\n",
              "  <thead>\n",
              "    <tr style=\"text-align: right;\">\n",
              "      <th></th>\n",
              "      <th>country_name</th>\n",
              "      <th>alpha_2_code</th>\n",
              "      <th>alpha_3_code</th>\n",
              "      <th>numeric_code</th>\n",
              "      <th>flag</th>\n",
              "    </tr>\n",
              "  </thead>\n",
              "  <tbody>\n",
              "    <tr>\n",
              "      <th>98</th>\n",
              "      <td>Holy See</td>\n",
              "      <td>VA</td>\n",
              "      <td>VAT</td>\n",
              "      <td>336</td>\n",
              "      <td>🇻🇦</td>\n",
              "    </tr>\n",
              "    <tr>\n",
              "      <th>250</th>\n",
              "      <td>Vatican City</td>\n",
              "      <td>VA</td>\n",
              "      <td>VAT</td>\n",
              "      <td>336</td>\n",
              "      <td>🇻🇦</td>\n",
              "    </tr>\n",
              "  </tbody>\n",
              "</table>\n",
              "</div>"
            ],
            "text/plain": [
              "     country_name alpha_2_code alpha_3_code  numeric_code flag\n",
              "98       Holy See           VA          VAT           336   🇻🇦\n",
              "250  Vatican City           VA          VAT           336   🇻🇦"
            ]
          },
          "metadata": {},
          "execution_count": 71
        }
      ]
    },
    {
      "cell_type": "code",
      "metadata": {
        "colab": {
          "base_uri": "https://localhost:8080/",
          "height": 17
        },
        "id": "lpjdSxwKTU8s",
        "outputId": "6d06bdd3-7014-4dae-aad0-60f48448cb71"
      },
      "source": [
        "# let's remove the duplicated row\n",
        "df2 = df2[df2.country_name != 'Holy See']"
      ],
      "execution_count": null,
      "outputs": [
        {
          "output_type": "display_data",
          "data": {
            "text/html": [
              "\n",
              "  <style>\n",
              "    pre {\n",
              "        white-space: pre-wrap;\n",
              "    }\n",
              "  </style>\n",
              "  "
            ],
            "text/plain": [
              "<IPython.core.display.HTML object>"
            ]
          },
          "metadata": {}
        }
      ]
    },
    {
      "cell_type": "code",
      "metadata": {
        "colab": {
          "base_uri": "https://localhost:8080/",
          "height": 89
        },
        "id": "buT4abB6S2Hj",
        "outputId": "beb24602-3ce4-4c9d-e0ea-b01d5f2dd6a3"
      },
      "source": [
        "# double-checking that the duplicated row is gone!\n",
        "df2[df2.country_name == 'Holy See']"
      ],
      "execution_count": null,
      "outputs": [
        {
          "output_type": "display_data",
          "data": {
            "text/html": [
              "\n",
              "  <style>\n",
              "    pre {\n",
              "        white-space: pre-wrap;\n",
              "    }\n",
              "  </style>\n",
              "  "
            ],
            "text/plain": [
              "<IPython.core.display.HTML object>"
            ]
          },
          "metadata": {}
        },
        {
          "output_type": "execute_result",
          "data": {
            "application/vnd.google.colaboratory.module+javascript": "\n      import \"https://ssl.gstatic.com/colaboratory/data_table/a6224c040fa35dcf/data_table.js\";\n\n      window.createDataTable({\n        data: [],\n        columns: [[\"number\", \"index\"], [\"number\", \"country_name\"], [\"number\", \"alpha_2_code\"], [\"number\", \"alpha_3_code\"], [\"number\", \"numeric_code\"], [\"number\", \"flag\"]],\n        columnOptions: [{\"width\": \"1px\", \"className\": \"index_column\"}],\n        rowsPerPage: 25,\n        helpUrl: \"https://colab.research.google.com/notebooks/data_table.ipynb\",\n        suppressOutputScrolling: true,\n        minimumWidth: undefined,\n      });\n    ",
            "text/html": [
              "<div>\n",
              "<style scoped>\n",
              "    .dataframe tbody tr th:only-of-type {\n",
              "        vertical-align: middle;\n",
              "    }\n",
              "\n",
              "    .dataframe tbody tr th {\n",
              "        vertical-align: top;\n",
              "    }\n",
              "\n",
              "    .dataframe thead th {\n",
              "        text-align: right;\n",
              "    }\n",
              "</style>\n",
              "<table border=\"1\" class=\"dataframe\">\n",
              "  <thead>\n",
              "    <tr style=\"text-align: right;\">\n",
              "      <th></th>\n",
              "      <th>country_name</th>\n",
              "      <th>alpha_2_code</th>\n",
              "      <th>alpha_3_code</th>\n",
              "      <th>numeric_code</th>\n",
              "      <th>flag</th>\n",
              "    </tr>\n",
              "  </thead>\n",
              "  <tbody>\n",
              "  </tbody>\n",
              "</table>\n",
              "</div>"
            ],
            "text/plain": [
              "Empty DataFrame\n",
              "Columns: [country_name, alpha_2_code, alpha_3_code, numeric_code, flag]\n",
              "Index: []"
            ]
          },
          "metadata": {},
          "execution_count": 75
        }
      ]
    },
    {
      "cell_type": "code",
      "metadata": {
        "colab": {
          "base_uri": "https://localhost:8080/",
          "height": 110
        },
        "id": "2VLRvqlzTsLp",
        "outputId": "28c1c4c8-dd91-4a6e-c666-a9827ef4206b"
      },
      "source": [
        "df2[df2.country_name.str.contains('Venezuela')]"
      ],
      "execution_count": null,
      "outputs": [
        {
          "output_type": "display_data",
          "data": {
            "text/html": [
              "\n",
              "  <style>\n",
              "    pre {\n",
              "        white-space: pre-wrap;\n",
              "    }\n",
              "  </style>\n",
              "  "
            ],
            "text/plain": [
              "<IPython.core.display.HTML object>"
            ]
          },
          "metadata": {}
        },
        {
          "output_type": "execute_result",
          "data": {
            "application/vnd.google.colaboratory.module+javascript": "\n      import \"https://ssl.gstatic.com/colaboratory/data_table/a6224c040fa35dcf/data_table.js\";\n\n      window.createDataTable({\n        data: [[{\n            'v': 240,\n            'f': \"240\",\n        },\n\"Venezuela (Bolivarian Republic of)\",\n\"VE\",\n\"VEN\",\n{\n            'v': 862,\n            'f': \"862\",\n        },\n\"\\ud83c\\uddfb\\ud83c\\uddea\"]],\n        columns: [[\"number\", \"index\"], [\"string\", \"country_name\"], [\"string\", \"alpha_2_code\"], [\"string\", \"alpha_3_code\"], [\"number\", \"numeric_code\"], [\"string\", \"flag\"]],\n        columnOptions: [{\"width\": \"1px\", \"className\": \"index_column\"}],\n        rowsPerPage: 25,\n        helpUrl: \"https://colab.research.google.com/notebooks/data_table.ipynb\",\n        suppressOutputScrolling: true,\n        minimumWidth: undefined,\n      });\n    ",
            "text/html": [
              "<div>\n",
              "<style scoped>\n",
              "    .dataframe tbody tr th:only-of-type {\n",
              "        vertical-align: middle;\n",
              "    }\n",
              "\n",
              "    .dataframe tbody tr th {\n",
              "        vertical-align: top;\n",
              "    }\n",
              "\n",
              "    .dataframe thead th {\n",
              "        text-align: right;\n",
              "    }\n",
              "</style>\n",
              "<table border=\"1\" class=\"dataframe\">\n",
              "  <thead>\n",
              "    <tr style=\"text-align: right;\">\n",
              "      <th></th>\n",
              "      <th>country_name</th>\n",
              "      <th>alpha_2_code</th>\n",
              "      <th>alpha_3_code</th>\n",
              "      <th>numeric_code</th>\n",
              "      <th>flag</th>\n",
              "    </tr>\n",
              "  </thead>\n",
              "  <tbody>\n",
              "    <tr>\n",
              "      <th>240</th>\n",
              "      <td>Venezuela (Bolivarian Republic of)</td>\n",
              "      <td>VE</td>\n",
              "      <td>VEN</td>\n",
              "      <td>862</td>\n",
              "      <td>🇻🇪</td>\n",
              "    </tr>\n",
              "  </tbody>\n",
              "</table>\n",
              "</div>"
            ],
            "text/plain": [
              "                           country_name alpha_2_code  ... numeric_code  flag\n",
              "240  Venezuela (Bolivarian Republic of)           VE  ...          862    🇻🇪\n",
              "\n",
              "[1 rows x 5 columns]"
            ]
          },
          "metadata": {},
          "execution_count": 76
        }
      ]
    },
    {
      "cell_type": "code",
      "metadata": {
        "colab": {
          "base_uri": "https://localhost:8080/",
          "height": 89
        },
        "id": "uK6uq4ovTsH5",
        "outputId": "abeaa213-404c-4187-825a-4179236378ff"
      },
      "source": [
        "df2[df2.country_name.str.contains('Vietnam')]"
      ],
      "execution_count": null,
      "outputs": [
        {
          "output_type": "display_data",
          "data": {
            "text/html": [
              "\n",
              "  <style>\n",
              "    pre {\n",
              "        white-space: pre-wrap;\n",
              "    }\n",
              "  </style>\n",
              "  "
            ],
            "text/plain": [
              "<IPython.core.display.HTML object>"
            ]
          },
          "metadata": {}
        },
        {
          "output_type": "execute_result",
          "data": {
            "application/vnd.google.colaboratory.module+javascript": "\n      import \"https://ssl.gstatic.com/colaboratory/data_table/a6224c040fa35dcf/data_table.js\";\n\n      window.createDataTable({\n        data: [],\n        columns: [[\"number\", \"index\"], [\"number\", \"country_name\"], [\"number\", \"alpha_2_code\"], [\"number\", \"alpha_3_code\"], [\"number\", \"numeric_code\"], [\"number\", \"flag\"]],\n        columnOptions: [{\"width\": \"1px\", \"className\": \"index_column\"}],\n        rowsPerPage: 25,\n        helpUrl: \"https://colab.research.google.com/notebooks/data_table.ipynb\",\n        suppressOutputScrolling: true,\n        minimumWidth: undefined,\n      });\n    ",
            "text/html": [
              "<div>\n",
              "<style scoped>\n",
              "    .dataframe tbody tr th:only-of-type {\n",
              "        vertical-align: middle;\n",
              "    }\n",
              "\n",
              "    .dataframe tbody tr th {\n",
              "        vertical-align: top;\n",
              "    }\n",
              "\n",
              "    .dataframe thead th {\n",
              "        text-align: right;\n",
              "    }\n",
              "</style>\n",
              "<table border=\"1\" class=\"dataframe\">\n",
              "  <thead>\n",
              "    <tr style=\"text-align: right;\">\n",
              "      <th></th>\n",
              "      <th>country_name</th>\n",
              "      <th>alpha_2_code</th>\n",
              "      <th>alpha_3_code</th>\n",
              "      <th>numeric_code</th>\n",
              "      <th>flag</th>\n",
              "    </tr>\n",
              "  </thead>\n",
              "  <tbody>\n",
              "  </tbody>\n",
              "</table>\n",
              "</div>"
            ],
            "text/plain": [
              "Empty DataFrame\n",
              "Columns: [country_name, alpha_2_code, alpha_3_code, numeric_code, flag]\n",
              "Index: []"
            ]
          },
          "metadata": {},
          "execution_count": 77
        }
      ]
    },
    {
      "cell_type": "code",
      "metadata": {
        "colab": {
          "base_uri": "https://localhost:8080/",
          "height": 110
        },
        "id": "D-go7LAMTsDS",
        "outputId": "bd025277-4cbf-486d-8cea-0a33e8f950ab"
      },
      "source": [
        "# https://en.wikipedia.org/wiki/Vietnam\n",
        "# here, we can notice that 'Vietnam' is spelled 'Viet Nam' in the country\n",
        "# codes table (on two words instead of one)\n",
        "df2[df2.alpha_2_code == 'VN']"
      ],
      "execution_count": null,
      "outputs": [
        {
          "output_type": "display_data",
          "data": {
            "text/html": [
              "\n",
              "  <style>\n",
              "    pre {\n",
              "        white-space: pre-wrap;\n",
              "    }\n",
              "  </style>\n",
              "  "
            ],
            "text/plain": [
              "<IPython.core.display.HTML object>"
            ]
          },
          "metadata": {}
        },
        {
          "output_type": "execute_result",
          "data": {
            "application/vnd.google.colaboratory.module+javascript": "\n      import \"https://ssl.gstatic.com/colaboratory/data_table/a6224c040fa35dcf/data_table.js\";\n\n      window.createDataTable({\n        data: [[{\n            'v': 241,\n            'f': \"241\",\n        },\n\"Viet Nam\",\n\"VN\",\n\"VNM\",\n{\n            'v': 704,\n            'f': \"704\",\n        },\n\"\\ud83c\\uddfb\\ud83c\\uddf3\"]],\n        columns: [[\"number\", \"index\"], [\"string\", \"country_name\"], [\"string\", \"alpha_2_code\"], [\"string\", \"alpha_3_code\"], [\"number\", \"numeric_code\"], [\"string\", \"flag\"]],\n        columnOptions: [{\"width\": \"1px\", \"className\": \"index_column\"}],\n        rowsPerPage: 25,\n        helpUrl: \"https://colab.research.google.com/notebooks/data_table.ipynb\",\n        suppressOutputScrolling: true,\n        minimumWidth: undefined,\n      });\n    ",
            "text/html": [
              "<div>\n",
              "<style scoped>\n",
              "    .dataframe tbody tr th:only-of-type {\n",
              "        vertical-align: middle;\n",
              "    }\n",
              "\n",
              "    .dataframe tbody tr th {\n",
              "        vertical-align: top;\n",
              "    }\n",
              "\n",
              "    .dataframe thead th {\n",
              "        text-align: right;\n",
              "    }\n",
              "</style>\n",
              "<table border=\"1\" class=\"dataframe\">\n",
              "  <thead>\n",
              "    <tr style=\"text-align: right;\">\n",
              "      <th></th>\n",
              "      <th>country_name</th>\n",
              "      <th>alpha_2_code</th>\n",
              "      <th>alpha_3_code</th>\n",
              "      <th>numeric_code</th>\n",
              "      <th>flag</th>\n",
              "    </tr>\n",
              "  </thead>\n",
              "  <tbody>\n",
              "    <tr>\n",
              "      <th>241</th>\n",
              "      <td>Viet Nam</td>\n",
              "      <td>VN</td>\n",
              "      <td>VNM</td>\n",
              "      <td>704</td>\n",
              "      <td>🇻🇳</td>\n",
              "    </tr>\n",
              "  </tbody>\n",
              "</table>\n",
              "</div>"
            ],
            "text/plain": [
              "    country_name alpha_2_code alpha_3_code  numeric_code flag\n",
              "241     Viet Nam           VN          VNM           704   🇻🇳"
            ]
          },
          "metadata": {},
          "execution_count": 78
        }
      ]
    },
    {
      "cell_type": "code",
      "metadata": {
        "colab": {
          "base_uri": "https://localhost:8080/",
          "height": 89
        },
        "id": "KRfbxMk7TsBF",
        "outputId": "9f140fcb-62b7-4493-9b69-86587129ea57"
      },
      "source": [
        "df2[df2.country_name.str.contains('Gaza')]"
      ],
      "execution_count": null,
      "outputs": [
        {
          "output_type": "display_data",
          "data": {
            "text/html": [
              "\n",
              "  <style>\n",
              "    pre {\n",
              "        white-space: pre-wrap;\n",
              "    }\n",
              "  </style>\n",
              "  "
            ],
            "text/plain": [
              "<IPython.core.display.HTML object>"
            ]
          },
          "metadata": {}
        },
        {
          "output_type": "execute_result",
          "data": {
            "application/vnd.google.colaboratory.module+javascript": "\n      import \"https://ssl.gstatic.com/colaboratory/data_table/a6224c040fa35dcf/data_table.js\";\n\n      window.createDataTable({\n        data: [],\n        columns: [[\"number\", \"index\"], [\"number\", \"country_name\"], [\"number\", \"alpha_2_code\"], [\"number\", \"alpha_3_code\"], [\"number\", \"numeric_code\"], [\"number\", \"flag\"]],\n        columnOptions: [{\"width\": \"1px\", \"className\": \"index_column\"}],\n        rowsPerPage: 25,\n        helpUrl: \"https://colab.research.google.com/notebooks/data_table.ipynb\",\n        suppressOutputScrolling: true,\n        minimumWidth: undefined,\n      });\n    ",
            "text/html": [
              "<div>\n",
              "<style scoped>\n",
              "    .dataframe tbody tr th:only-of-type {\n",
              "        vertical-align: middle;\n",
              "    }\n",
              "\n",
              "    .dataframe tbody tr th {\n",
              "        vertical-align: top;\n",
              "    }\n",
              "\n",
              "    .dataframe thead th {\n",
              "        text-align: right;\n",
              "    }\n",
              "</style>\n",
              "<table border=\"1\" class=\"dataframe\">\n",
              "  <thead>\n",
              "    <tr style=\"text-align: right;\">\n",
              "      <th></th>\n",
              "      <th>country_name</th>\n",
              "      <th>alpha_2_code</th>\n",
              "      <th>alpha_3_code</th>\n",
              "      <th>numeric_code</th>\n",
              "      <th>flag</th>\n",
              "    </tr>\n",
              "  </thead>\n",
              "  <tbody>\n",
              "  </tbody>\n",
              "</table>\n",
              "</div>"
            ],
            "text/plain": [
              "Empty DataFrame\n",
              "Columns: [country_name, alpha_2_code, alpha_3_code, numeric_code, flag]\n",
              "Index: []"
            ]
          },
          "metadata": {},
          "execution_count": 79
        }
      ]
    },
    {
      "cell_type": "code",
      "metadata": {
        "colab": {
          "base_uri": "https://localhost:8080/",
          "height": 110
        },
        "id": "dmiupALGVduS",
        "outputId": "13fa577e-94f2-4ae9-c9ab-481c7d340d3b"
      },
      "source": [
        "# https://en.wikipedia.org/wiki/Gaza_Strip\n",
        "# https://en.wikipedia.org/wiki/Palestinian_territories\n",
        "df2[df2.alpha_2_code == 'PS']"
      ],
      "execution_count": null,
      "outputs": [
        {
          "output_type": "display_data",
          "data": {
            "text/html": [
              "\n",
              "  <style>\n",
              "    pre {\n",
              "        white-space: pre-wrap;\n",
              "    }\n",
              "  </style>\n",
              "  "
            ],
            "text/plain": [
              "<IPython.core.display.HTML object>"
            ]
          },
          "metadata": {}
        },
        {
          "output_type": "execute_result",
          "data": {
            "application/vnd.google.colaboratory.module+javascript": "\n      import \"https://ssl.gstatic.com/colaboratory/data_table/a6224c040fa35dcf/data_table.js\";\n\n      window.createDataTable({\n        data: [[{\n            'v': 170,\n            'f': \"170\",\n        },\n\"Palestine, State of\",\n\"PS\",\n\"PSE\",\n{\n            'v': 275,\n            'f': \"275\",\n        },\n\"\\ud83c\\uddf5\\ud83c\\uddf8\"]],\n        columns: [[\"number\", \"index\"], [\"string\", \"country_name\"], [\"string\", \"alpha_2_code\"], [\"string\", \"alpha_3_code\"], [\"number\", \"numeric_code\"], [\"string\", \"flag\"]],\n        columnOptions: [{\"width\": \"1px\", \"className\": \"index_column\"}],\n        rowsPerPage: 25,\n        helpUrl: \"https://colab.research.google.com/notebooks/data_table.ipynb\",\n        suppressOutputScrolling: true,\n        minimumWidth: undefined,\n      });\n    ",
            "text/html": [
              "<div>\n",
              "<style scoped>\n",
              "    .dataframe tbody tr th:only-of-type {\n",
              "        vertical-align: middle;\n",
              "    }\n",
              "\n",
              "    .dataframe tbody tr th {\n",
              "        vertical-align: top;\n",
              "    }\n",
              "\n",
              "    .dataframe thead th {\n",
              "        text-align: right;\n",
              "    }\n",
              "</style>\n",
              "<table border=\"1\" class=\"dataframe\">\n",
              "  <thead>\n",
              "    <tr style=\"text-align: right;\">\n",
              "      <th></th>\n",
              "      <th>country_name</th>\n",
              "      <th>alpha_2_code</th>\n",
              "      <th>alpha_3_code</th>\n",
              "      <th>numeric_code</th>\n",
              "      <th>flag</th>\n",
              "    </tr>\n",
              "  </thead>\n",
              "  <tbody>\n",
              "    <tr>\n",
              "      <th>170</th>\n",
              "      <td>Palestine, State of</td>\n",
              "      <td>PS</td>\n",
              "      <td>PSE</td>\n",
              "      <td>275</td>\n",
              "      <td>🇵🇸</td>\n",
              "    </tr>\n",
              "  </tbody>\n",
              "</table>\n",
              "</div>"
            ],
            "text/plain": [
              "            country_name alpha_2_code alpha_3_code  numeric_code flag\n",
              "170  Palestine, State of           PS          PSE           275   🇵🇸"
            ]
          },
          "metadata": {},
          "execution_count": 80
        }
      ]
    },
    {
      "cell_type": "code",
      "metadata": {
        "colab": {
          "base_uri": "https://localhost:8080/",
          "height": 102
        },
        "id": "3LhQm2yPWKsL",
        "outputId": "a02b3206-1e50-46d6-83f5-42988c583619"
      },
      "source": [
        "# I'm not sure why in this dataset, 'Palestine' and 'West Bank and Gaza'\n",
        "# are not considered the same! anyways, we should duplicate the row\n",
        "# corresponding to the country code 'PS' in the country codes table\n",
        "\n",
        "df2[df2.alpha_2_code == 'PS'].to_dict(orient='records')"
      ],
      "execution_count": null,
      "outputs": [
        {
          "output_type": "display_data",
          "data": {
            "text/html": [
              "\n",
              "  <style>\n",
              "    pre {\n",
              "        white-space: pre-wrap;\n",
              "    }\n",
              "  </style>\n",
              "  "
            ],
            "text/plain": [
              "<IPython.core.display.HTML object>"
            ]
          },
          "metadata": {}
        },
        {
          "output_type": "execute_result",
          "data": {
            "text/plain": [
              "[{'alpha_2_code': 'PS',\n",
              "  'alpha_3_code': 'PSE',\n",
              "  'country_name': 'Palestine, State of',\n",
              "  'flag': '🇵🇸',\n",
              "  'numeric_code': 275}]"
            ]
          },
          "metadata": {},
          "execution_count": 81
        }
      ]
    },
    {
      "cell_type": "code",
      "metadata": {
        "colab": {
          "base_uri": "https://localhost:8080/",
          "height": 17
        },
        "id": "ZVRH8w4CWstO",
        "outputId": "48174ad7-25ce-435f-f9f6-c7addea223d5"
      },
      "source": [
        "df2 = df2.append({\n",
        "    'country_name': 'West Bank and Gaza',\n",
        "    'alpha_2_code': 'PS',\n",
        "    'alpha_3_code': 'PSE',\n",
        "    'numeric_code': 275,\n",
        "    'flag': '🇵🇸'\n",
        "}, ignore_index=True)"
      ],
      "execution_count": null,
      "outputs": [
        {
          "output_type": "display_data",
          "data": {
            "text/html": [
              "\n",
              "  <style>\n",
              "    pre {\n",
              "        white-space: pre-wrap;\n",
              "    }\n",
              "  </style>\n",
              "  "
            ],
            "text/plain": [
              "<IPython.core.display.HTML object>"
            ]
          },
          "metadata": {}
        }
      ]
    },
    {
      "cell_type": "code",
      "metadata": {
        "colab": {
          "base_uri": "https://localhost:8080/",
          "height": 17
        },
        "id": "g7CWcu7UX8Ay",
        "outputId": "5d371f8c-2098-4e80-b48c-1c1d1a9c6d1b"
      },
      "source": [
        "# and let's change 'Palestine' manually as well\n",
        "df2.country_name = df2.country_name.apply(\n",
        "    lambda x : 'Palestine' if x == 'Palestine, State of' else x)"
      ],
      "execution_count": null,
      "outputs": [
        {
          "output_type": "display_data",
          "data": {
            "text/html": [
              "\n",
              "  <style>\n",
              "    pre {\n",
              "        white-space: pre-wrap;\n",
              "    }\n",
              "  </style>\n",
              "  "
            ],
            "text/plain": [
              "<IPython.core.display.HTML object>"
            ]
          },
          "metadata": {}
        }
      ]
    },
    {
      "cell_type": "code",
      "metadata": {
        "colab": {
          "base_uri": "https://localhost:8080/",
          "height": 110
        },
        "id": "RlGLEQFtYrHx",
        "outputId": "4df4cbe2-fcee-401f-f695-c1bffe8a16aa"
      },
      "source": [
        "# making sure that the name was changed successfully\n",
        "df2[df2.country_name == 'Palestine']"
      ],
      "execution_count": null,
      "outputs": [
        {
          "output_type": "display_data",
          "data": {
            "text/html": [
              "\n",
              "  <style>\n",
              "    pre {\n",
              "        white-space: pre-wrap;\n",
              "    }\n",
              "  </style>\n",
              "  "
            ],
            "text/plain": [
              "<IPython.core.display.HTML object>"
            ]
          },
          "metadata": {}
        },
        {
          "output_type": "execute_result",
          "data": {
            "application/vnd.google.colaboratory.module+javascript": "\n      import \"https://ssl.gstatic.com/colaboratory/data_table/a6224c040fa35dcf/data_table.js\";\n\n      window.createDataTable({\n        data: [[{\n            'v': 169,\n            'f': \"169\",\n        },\n\"Palestine\",\n\"PS\",\n\"PSE\",\n{\n            'v': 275,\n            'f': \"275\",\n        },\n\"\\ud83c\\uddf5\\ud83c\\uddf8\"]],\n        columns: [[\"number\", \"index\"], [\"string\", \"country_name\"], [\"string\", \"alpha_2_code\"], [\"string\", \"alpha_3_code\"], [\"number\", \"numeric_code\"], [\"string\", \"flag\"]],\n        columnOptions: [{\"width\": \"1px\", \"className\": \"index_column\"}],\n        rowsPerPage: 25,\n        helpUrl: \"https://colab.research.google.com/notebooks/data_table.ipynb\",\n        suppressOutputScrolling: true,\n        minimumWidth: undefined,\n      });\n    ",
            "text/html": [
              "<div>\n",
              "<style scoped>\n",
              "    .dataframe tbody tr th:only-of-type {\n",
              "        vertical-align: middle;\n",
              "    }\n",
              "\n",
              "    .dataframe tbody tr th {\n",
              "        vertical-align: top;\n",
              "    }\n",
              "\n",
              "    .dataframe thead th {\n",
              "        text-align: right;\n",
              "    }\n",
              "</style>\n",
              "<table border=\"1\" class=\"dataframe\">\n",
              "  <thead>\n",
              "    <tr style=\"text-align: right;\">\n",
              "      <th></th>\n",
              "      <th>country_name</th>\n",
              "      <th>alpha_2_code</th>\n",
              "      <th>alpha_3_code</th>\n",
              "      <th>numeric_code</th>\n",
              "      <th>flag</th>\n",
              "    </tr>\n",
              "  </thead>\n",
              "  <tbody>\n",
              "    <tr>\n",
              "      <th>169</th>\n",
              "      <td>Palestine</td>\n",
              "      <td>PS</td>\n",
              "      <td>PSE</td>\n",
              "      <td>275</td>\n",
              "      <td>🇵🇸</td>\n",
              "    </tr>\n",
              "  </tbody>\n",
              "</table>\n",
              "</div>"
            ],
            "text/plain": [
              "    country_name alpha_2_code alpha_3_code  numeric_code flag\n",
              "169    Palestine           PS          PSE           275   🇵🇸"
            ]
          },
          "metadata": {},
          "execution_count": 91
        }
      ]
    },
    {
      "cell_type": "code",
      "metadata": {
        "colab": {
          "base_uri": "https://localhost:8080/",
          "height": 131
        },
        "id": "IFMgpivwXFm4",
        "outputId": "584efc8c-e3a7-47ab-c21c-678762d680a7"
      },
      "source": [
        "# double-checking that the 'PS' country code have 2 entries\n",
        "# one for 'Palestine' and another for 'West Bank and Gaza'\n",
        "df2[df2.alpha_2_code == 'PS']"
      ],
      "execution_count": null,
      "outputs": [
        {
          "output_type": "display_data",
          "data": {
            "text/html": [
              "\n",
              "  <style>\n",
              "    pre {\n",
              "        white-space: pre-wrap;\n",
              "    }\n",
              "  </style>\n",
              "  "
            ],
            "text/plain": [
              "<IPython.core.display.HTML object>"
            ]
          },
          "metadata": {}
        },
        {
          "output_type": "execute_result",
          "data": {
            "application/vnd.google.colaboratory.module+javascript": "\n      import \"https://ssl.gstatic.com/colaboratory/data_table/a6224c040fa35dcf/data_table.js\";\n\n      window.createDataTable({\n        data: [[{\n            'v': 169,\n            'f': \"169\",\n        },\n\"Palestine\",\n\"PS\",\n\"PSE\",\n{\n            'v': 275,\n            'f': \"275\",\n        },\n\"\\ud83c\\uddf5\\ud83c\\uddf8\"],\n [{\n            'v': 250,\n            'f': \"250\",\n        },\n\"West Bank and Gaza\",\n\"PS\",\n\"PSE\",\n{\n            'v': 275,\n            'f': \"275\",\n        },\n\"\\ud83c\\uddf5\\ud83c\\uddf8\"]],\n        columns: [[\"number\", \"index\"], [\"string\", \"country_name\"], [\"string\", \"alpha_2_code\"], [\"string\", \"alpha_3_code\"], [\"number\", \"numeric_code\"], [\"string\", \"flag\"]],\n        columnOptions: [{\"width\": \"1px\", \"className\": \"index_column\"}],\n        rowsPerPage: 25,\n        helpUrl: \"https://colab.research.google.com/notebooks/data_table.ipynb\",\n        suppressOutputScrolling: true,\n        minimumWidth: undefined,\n      });\n    ",
            "text/html": [
              "<div>\n",
              "<style scoped>\n",
              "    .dataframe tbody tr th:only-of-type {\n",
              "        vertical-align: middle;\n",
              "    }\n",
              "\n",
              "    .dataframe tbody tr th {\n",
              "        vertical-align: top;\n",
              "    }\n",
              "\n",
              "    .dataframe thead th {\n",
              "        text-align: right;\n",
              "    }\n",
              "</style>\n",
              "<table border=\"1\" class=\"dataframe\">\n",
              "  <thead>\n",
              "    <tr style=\"text-align: right;\">\n",
              "      <th></th>\n",
              "      <th>country_name</th>\n",
              "      <th>alpha_2_code</th>\n",
              "      <th>alpha_3_code</th>\n",
              "      <th>numeric_code</th>\n",
              "      <th>flag</th>\n",
              "    </tr>\n",
              "  </thead>\n",
              "  <tbody>\n",
              "    <tr>\n",
              "      <th>169</th>\n",
              "      <td>Palestine</td>\n",
              "      <td>PS</td>\n",
              "      <td>PSE</td>\n",
              "      <td>275</td>\n",
              "      <td>🇵🇸</td>\n",
              "    </tr>\n",
              "    <tr>\n",
              "      <th>250</th>\n",
              "      <td>West Bank and Gaza</td>\n",
              "      <td>PS</td>\n",
              "      <td>PSE</td>\n",
              "      <td>275</td>\n",
              "      <td>🇵🇸</td>\n",
              "    </tr>\n",
              "  </tbody>\n",
              "</table>\n",
              "</div>"
            ],
            "text/plain": [
              "           country_name alpha_2_code alpha_3_code  numeric_code flag\n",
              "169           Palestine           PS          PSE           275   🇵🇸\n",
              "250  West Bank and Gaza           PS          PSE           275   🇵🇸"
            ]
          },
          "metadata": {},
          "execution_count": 92
        }
      ]
    },
    {
      "cell_type": "code",
      "metadata": {
        "colab": {
          "base_uri": "https://localhost:8080/",
          "height": 17
        },
        "id": "VZuDaVSdCSg_",
        "outputId": "ba3416fb-b8b7-46b0-fd4d-588c06d30619"
      },
      "source": [
        "new_countries = {\n",
        "    'Bolivia':            'BO',\n",
        "    'Congo (Kinshasa)':   'CD',\n",
        "    'Cote dIvoire':       'CI',\n",
        "    'Iran':               'IR',\n",
        "    'Korea, South':       'KR',\n",
        "    'Kosovo':             'XK',\n",
        "    'Moldova':            'MD',\n",
        "    # 'Palestine':          'PS', # special case: added manually in the country codes table\n",
        "    'Russia':             'RU',\n",
        "    'Syria':              'SY',\n",
        "    'Taiwan*':            'TW',\n",
        "    'US':                 'US',\n",
        "    'United Kingdom':     'GB',\n",
        "    'Vatican City':       'VA',\n",
        "    'Venezuela':          'VE',\n",
        "    'Vietnam':            'VN',\n",
        "    # 'West Bank and Gaza': 'PS' # special case: added manually in the country codes table\n",
        "}"
      ],
      "execution_count": null,
      "outputs": [
        {
          "output_type": "display_data",
          "data": {
            "text/html": [
              "\n",
              "  <style>\n",
              "    pre {\n",
              "        white-space: pre-wrap;\n",
              "    }\n",
              "  </style>\n",
              "  "
            ],
            "text/plain": [
              "<IPython.core.display.HTML object>"
            ]
          },
          "metadata": {}
        }
      ]
    },
    {
      "cell_type": "code",
      "metadata": {
        "colab": {
          "base_uri": "https://localhost:8080/",
          "height": 34
        },
        "id": "Om5MiZyfXiYs",
        "outputId": "c96c720e-8144-4f60-a2ce-d02c3194bd66"
      },
      "source": [
        "# making sure that each country code have a single entry in the table\n",
        "for country_name, country_alpha2_code in new_countries.items():\n",
        "  match = df2[df2.alpha_2_code == country_alpha2_code].to_dict(orient='records')\n",
        "  n_results = len(match)\n",
        "  # print(type(match)) # <class 'list'>\n",
        "  # pp(match)\n",
        "  # break\n",
        "  assert n_results == 1, f'{country_alpha2_code} have more than an entry!'\n",
        "print('✅ all good!')"
      ],
      "execution_count": null,
      "outputs": [
        {
          "output_type": "display_data",
          "data": {
            "text/html": [
              "\n",
              "  <style>\n",
              "    pre {\n",
              "        white-space: pre-wrap;\n",
              "    }\n",
              "  </style>\n",
              "  "
            ],
            "text/plain": [
              "<IPython.core.display.HTML object>"
            ]
          },
          "metadata": {}
        },
        {
          "output_type": "stream",
          "name": "stdout",
          "text": [
            "✅ all good!\n"
          ]
        }
      ]
    },
    {
      "cell_type": "code",
      "metadata": {
        "colab": {
          "base_uri": "https://localhost:8080/",
          "height": 272
        },
        "id": "FQflbU-mZb6_",
        "outputId": "fb1b24d2-c2ed-4a24-f05a-4fa68ac0b28b"
      },
      "source": [
        "# updating the country names to fit the ones we're using in this dataset\n",
        "for country_name, country_alpha2_code in new_countries.items():\n",
        "  match = df2[df2.alpha_2_code == country_alpha2_code].to_dict(orient='records')[0]\n",
        "  print(f'change {match.get(\"country_name\"):60} to \\t {country_name}')"
      ],
      "execution_count": null,
      "outputs": [
        {
          "output_type": "display_data",
          "data": {
            "text/html": [
              "\n",
              "  <style>\n",
              "    pre {\n",
              "        white-space: pre-wrap;\n",
              "    }\n",
              "  </style>\n",
              "  "
            ],
            "text/plain": [
              "<IPython.core.display.HTML object>"
            ]
          },
          "metadata": {}
        },
        {
          "output_type": "stream",
          "name": "stdout",
          "text": [
            "change Bolivia (Plurinational State of)                             to \t Bolivia\n",
            "change Congo, Democratic Republic of the                            to \t Congo (Kinshasa)\n",
            "change Côte d'Ivoire                                                to \t Cote dIvoire\n",
            "change Iran (Islamic Republic of)                                   to \t Iran\n",
            "change Korea, Republic of                                           to \t Korea, South\n",
            "change Kosovo                                                       to \t Kosovo\n",
            "change Moldova, Republic of                                         to \t Moldova\n",
            "change Russian Federation                                           to \t Russia\n",
            "change Syrian Arab Republic                                         to \t Syria\n",
            "change Taiwan, Province of China                                    to \t Taiwan*\n",
            "change United States of America                                     to \t US\n",
            "change United Kingdom of Great Britain and Northern Ireland         to \t United Kingdom\n",
            "change Vatican City                                                 to \t Vatican City\n",
            "change Venezuela (Bolivarian Republic of)                           to \t Venezuela\n",
            "change Viet Nam                                                     to \t Vietnam\n"
          ]
        }
      ]
    },
    {
      "cell_type": "code",
      "metadata": {
        "colab": {
          "base_uri": "https://localhost:8080/",
          "height": 17
        },
        "id": "cnRdmFWD9w4U",
        "outputId": "f2679db3-ea10-4162-d073-09c8a7657f62"
      },
      "source": [
        "# just to make sure we're doing the right thing, let's copy the dataframe\n",
        "df2_test = df2.copy(deep=True)"
      ],
      "execution_count": null,
      "outputs": [
        {
          "output_type": "display_data",
          "data": {
            "text/html": [
              "\n",
              "  <style>\n",
              "    pre {\n",
              "        white-space: pre-wrap;\n",
              "    }\n",
              "  </style>\n",
              "  "
            ],
            "text/plain": [
              "<IPython.core.display.HTML object>"
            ]
          },
          "metadata": {}
        }
      ]
    },
    {
      "cell_type": "code",
      "metadata": {
        "colab": {
          "base_uri": "https://localhost:8080/",
          "height": 34
        },
        "id": "s33ZPyb5buDv",
        "outputId": "ea1d9f63-4095-4c08-dd4c-cd2b9824e7b0"
      },
      "source": [
        "# getting the index of a row in the dataframe\n",
        "row_index = df2[df2.alpha_2_code == 'BO'].index.tolist()[0]\n",
        "row_index, type(row_index)"
      ],
      "execution_count": null,
      "outputs": [
        {
          "output_type": "display_data",
          "data": {
            "text/html": [
              "\n",
              "  <style>\n",
              "    pre {\n",
              "        white-space: pre-wrap;\n",
              "    }\n",
              "  </style>\n",
              "  "
            ],
            "text/plain": [
              "<IPython.core.display.HTML object>"
            ]
          },
          "metadata": {}
        },
        {
          "output_type": "execute_result",
          "data": {
            "text/plain": [
              "(26, int)"
            ]
          },
          "metadata": {},
          "execution_count": 118
        }
      ]
    },
    {
      "cell_type": "code",
      "metadata": {
        "colab": {
          "base_uri": "https://localhost:8080/",
          "height": 35
        },
        "id": "nXX6T1GLcKa5",
        "outputId": "6b55830e-7c42-4b0a-bebc-7f5f80e2feb8"
      },
      "source": [
        "# update row at given index\n",
        "# dataframe.at[index, 'column-name'] = 'new value'\n",
        "df2.at[26, 'country_name']"
      ],
      "execution_count": null,
      "outputs": [
        {
          "output_type": "display_data",
          "data": {
            "text/html": [
              "\n",
              "  <style>\n",
              "    pre {\n",
              "        white-space: pre-wrap;\n",
              "    }\n",
              "  </style>\n",
              "  "
            ],
            "text/plain": [
              "<IPython.core.display.HTML object>"
            ]
          },
          "metadata": {}
        },
        {
          "output_type": "execute_result",
          "data": {
            "application/vnd.google.colaboratory.intrinsic+json": {
              "type": "string"
            },
            "text/plain": [
              "'Bolivia (Plurinational State of)'"
            ]
          },
          "metadata": {},
          "execution_count": 119
        }
      ]
    },
    {
      "cell_type": "code",
      "metadata": {
        "colab": {
          "base_uri": "https://localhost:8080/",
          "height": 272
        },
        "id": "hyXQSbvmCJfH",
        "outputId": "c2581e27-509a-4567-f842-20554f8d775d"
      },
      "source": [
        "for country_name, country_alpha2_code in new_countries.items():\n",
        "  row = df2_test[df2_test.alpha_2_code == country_alpha2_code]\n",
        "  row_index = row.index.tolist()[0]\n",
        "  old_value = df2_test.at[row_index, 'country_name']\n",
        "  # print('row_index', row_index)\n",
        "  print(f'(# {row_index:3}) change {old_value:60} to \\t {country_name}')"
      ],
      "execution_count": null,
      "outputs": [
        {
          "output_type": "display_data",
          "data": {
            "text/html": [
              "\n",
              "  <style>\n",
              "    pre {\n",
              "        white-space: pre-wrap;\n",
              "    }\n",
              "  </style>\n",
              "  "
            ],
            "text/plain": [
              "<IPython.core.display.HTML object>"
            ]
          },
          "metadata": {}
        },
        {
          "output_type": "stream",
          "name": "stdout",
          "text": [
            "(#  26) change Bolivia (Plurinational State of)                             to \t Bolivia\n",
            "(#  51) change Congo, Democratic Republic of the                            to \t Congo (Kinshasa)\n",
            "(#  54) change Côte d'Ivoire                                                to \t Cote dIvoire\n",
            "(# 104) change Iran (Islamic Republic of)                                   to \t Iran\n",
            "(# 118) change Korea, Republic of                                           to \t Korea, South\n",
            "(# 248) change Kosovo                                                       to \t Kosovo\n",
            "(# 144) change Moldova, Republic of                                         to \t Moldova\n",
            "(# 182) change Russian Federation                                           to \t Russia\n",
            "(# 215) change Syrian Arab Republic                                         to \t Syria\n",
            "(# 216) change Taiwan, Province of China                                    to \t Taiwan*\n",
            "(# 235) change United States of America                                     to \t US\n",
            "(# 233) change United Kingdom of Great Britain and Northern Ireland         to \t United Kingdom\n",
            "(# 249) change Vatican City                                                 to \t Vatican City\n",
            "(# 239) change Venezuela (Bolivarian Republic of)                           to \t Venezuela\n",
            "(# 240) change Viet Nam                                                     to \t Vietnam\n"
          ]
        }
      ]
    },
    {
      "cell_type": "code",
      "metadata": {
        "colab": {
          "base_uri": "https://localhost:8080/",
          "height": 17
        },
        "id": "MPZW9HHPCJcW",
        "outputId": "959af121-c8c4-4d85-fdc8-0d8f9236393a"
      },
      "source": [
        "# updating country names (on the testing copy)\n",
        "for country_name, country_alpha2_code in new_countries.items():\n",
        "  row = df2_test[df2_test.alpha_2_code == country_alpha2_code]\n",
        "  row_index = row.index.tolist()[0]\n",
        "  df2_test.at[row_index, 'country_name'] = country_name"
      ],
      "execution_count": null,
      "outputs": [
        {
          "output_type": "display_data",
          "data": {
            "text/html": [
              "\n",
              "  <style>\n",
              "    pre {\n",
              "        white-space: pre-wrap;\n",
              "    }\n",
              "  </style>\n",
              "  "
            ],
            "text/plain": [
              "<IPython.core.display.HTML object>"
            ]
          },
          "metadata": {}
        }
      ]
    },
    {
      "cell_type": "code",
      "metadata": {
        "colab": {
          "base_uri": "https://localhost:8080/",
          "height": 34
        },
        "id": "u6uF58BXdt2m",
        "outputId": "993d12a2-279f-4e83-9349-d2fdcf15bc84"
      },
      "source": [
        "# let's check again if all the countries in our dataset have an entry\n",
        "# in the country_codes table\n",
        "dataset_countries = df.country_region.unique()\n",
        "cc_countries_ = df2_test.country_name.unique() # country codes countries\n",
        "set(dataset_countries) - set(cc_countries_)"
      ],
      "execution_count": null,
      "outputs": [
        {
          "output_type": "display_data",
          "data": {
            "text/html": [
              "\n",
              "  <style>\n",
              "    pre {\n",
              "        white-space: pre-wrap;\n",
              "    }\n",
              "  </style>\n",
              "  "
            ],
            "text/plain": [
              "<IPython.core.display.HTML object>"
            ]
          },
          "metadata": {}
        },
        {
          "output_type": "execute_result",
          "data": {
            "text/plain": [
              "set()"
            ]
          },
          "metadata": {},
          "execution_count": 125
        }
      ]
    },
    {
      "cell_type": "markdown",
      "metadata": {
        "id": "EDfo2nbheC0D"
      },
      "source": [
        "perfect! empty set returned, this means that all of our country names now can be found in the country codes table.  \n",
        "let's now add the country codes column to our dataset"
      ]
    },
    {
      "cell_type": "code",
      "metadata": {
        "colab": {
          "base_uri": "https://localhost:8080/",
          "height": 17
        },
        "id": "n_54Vdt7CJaf",
        "outputId": "bb1ce513-bcb4-4209-8b0c-6f56f1f4315b"
      },
      "source": [
        "# updating country names (on the original copy)\n",
        "for country_name, country_alpha2_code in new_countries.items():\n",
        "  row = df2[df2.alpha_2_code == country_alpha2_code]\n",
        "  row_index = row.index.tolist()[0]\n",
        "  df2.at[row_index, 'country_name'] = country_name"
      ],
      "execution_count": null,
      "outputs": [
        {
          "output_type": "display_data",
          "data": {
            "text/html": [
              "\n",
              "  <style>\n",
              "    pre {\n",
              "        white-space: pre-wrap;\n",
              "    }\n",
              "  </style>\n",
              "  "
            ],
            "text/plain": [
              "<IPython.core.display.HTML object>"
            ]
          },
          "metadata": {}
        }
      ]
    },
    {
      "cell_type": "code",
      "metadata": {
        "colab": {
          "base_uri": "https://localhost:8080/",
          "height": 34
        },
        "id": "A-A_I-wCCJXz",
        "outputId": "c474741c-2855-4e19-a800-1485247f8a9c"
      },
      "source": [
        "dataset_countries = df.country_region.unique()\n",
        "cc_countries = df2.country_name.unique() # country codes countries\n",
        "set(dataset_countries) - set(cc_countries)"
      ],
      "execution_count": null,
      "outputs": [
        {
          "output_type": "display_data",
          "data": {
            "text/html": [
              "\n",
              "  <style>\n",
              "    pre {\n",
              "        white-space: pre-wrap;\n",
              "    }\n",
              "  </style>\n",
              "  "
            ],
            "text/plain": [
              "<IPython.core.display.HTML object>"
            ]
          },
          "metadata": {}
        },
        {
          "output_type": "execute_result",
          "data": {
            "text/plain": [
              "set()"
            ]
          },
          "metadata": {},
          "execution_count": 127
        }
      ]
    },
    {
      "cell_type": "code",
      "metadata": {
        "colab": {
          "base_uri": "https://localhost:8080/",
          "height": 17
        },
        "id": "TIoYnazoCJVd",
        "outputId": "7c723f64-4ae3-49d5-d676-fdb50fb63316"
      },
      "source": [
        "# deleting the testing copy\n",
        "del df2_test"
      ],
      "execution_count": null,
      "outputs": [
        {
          "output_type": "display_data",
          "data": {
            "text/html": [
              "\n",
              "  <style>\n",
              "    pre {\n",
              "        white-space: pre-wrap;\n",
              "    }\n",
              "  </style>\n",
              "  "
            ],
            "text/plain": [
              "<IPython.core.display.HTML object>"
            ]
          },
          "metadata": {}
        }
      ]
    },
    {
      "cell_type": "code",
      "metadata": {
        "colab": {
          "base_uri": "https://localhost:8080/",
          "height": 51
        },
        "id": "01_mrsdHCJTC",
        "outputId": "e971c73a-8f4d-4adc-8913-b20312714307"
      },
      "source": [
        "# let's merge the dataframes, to do that, let's take a second look\n",
        "# on the column names in each one of them\n",
        "df.columns.tolist(), df2.columns.tolist()"
      ],
      "execution_count": null,
      "outputs": [
        {
          "output_type": "display_data",
          "data": {
            "text/html": [
              "\n",
              "  <style>\n",
              "    pre {\n",
              "        white-space: pre-wrap;\n",
              "    }\n",
              "  </style>\n",
              "  "
            ],
            "text/plain": [
              "<IPython.core.display.HTML object>"
            ]
          },
          "metadata": {}
        },
        {
          "output_type": "execute_result",
          "data": {
            "text/plain": [
              "(['country_region', 'province', 'date', 'type', 'reference'],\n",
              " ['country_name', 'alpha_2_code', 'alpha_3_code', 'numeric_code', 'flag'])"
            ]
          },
          "metadata": {},
          "execution_count": 130
        }
      ]
    },
    {
      "cell_type": "code",
      "metadata": {
        "colab": {
          "base_uri": "https://localhost:8080/",
          "height": 17
        },
        "id": "m8r4_7hjCJPX",
        "outputId": "35e55c43-e259-4790-e085-70efc71a11b6"
      },
      "source": [
        "merged_df = df.merge(df2, how='inner', left_on='country_region', right_on='country_name')\n",
        "columns_to_drop = ['reference', 'country_name', 'alpha_3_code', 'numeric_code', 'flag']\n",
        "merged_df.drop(columns_to_drop, axis=1, inplace=True)"
      ],
      "execution_count": null,
      "outputs": [
        {
          "output_type": "display_data",
          "data": {
            "text/html": [
              "\n",
              "  <style>\n",
              "    pre {\n",
              "        white-space: pre-wrap;\n",
              "    }\n",
              "  </style>\n",
              "  "
            ],
            "text/plain": [
              "<IPython.core.display.HTML object>"
            ]
          },
          "metadata": {}
        }
      ]
    },
    {
      "cell_type": "code",
      "metadata": {
        "colab": {
          "base_uri": "https://localhost:8080/",
          "height": 623
        },
        "id": "sp13Y8PGCJNC",
        "outputId": "e4d7920a-1322-4bd5-fa58-36a181a8735a"
      },
      "source": [
        "merged_df"
      ],
      "execution_count": null,
      "outputs": [
        {
          "output_type": "display_data",
          "data": {
            "text/html": [
              "\n",
              "  <style>\n",
              "    pre {\n",
              "        white-space: pre-wrap;\n",
              "    }\n",
              "  </style>\n",
              "  "
            ],
            "text/plain": [
              "<IPython.core.display.HTML object>"
            ]
          },
          "metadata": {}
        },
        {
          "output_type": "execute_result",
          "data": {
            "application/vnd.google.colaboratory.module+javascript": "\n      import \"https://ssl.gstatic.com/colaboratory/data_table/a6224c040fa35dcf/data_table.js\";\n\n      window.createDataTable({\n        data: [[{\n            'v': 0,\n            'f': \"0\",\n        },\n\"Afghanistan\",\nNaN,\n\"2020-03-24\",\n\"Full\",\n\"AF\"],\n [{\n            'v': 1,\n            'f': \"1\",\n        },\n\"Albania\",\nNaN,\n\"2020-03-08\",\n\"Full\",\n\"AL\"],\n [{\n            'v': 2,\n            'f': \"2\",\n        },\n\"Algeria\",\nNaN,\n\"2020-03-24\",\n\"Full\",\n\"DZ\"],\n [{\n            'v': 3,\n            'f': \"3\",\n        },\n\"Andorra\",\nNaN,\n\"2020-03-16\",\n\"Full\",\n\"AD\"],\n [{\n            'v': 4,\n            'f': \"4\",\n        },\n\"Angola\",\nNaN,\n\"2020-03-24\",\n\"Full\",\n\"AO\"],\n [{\n            'v': 5,\n            'f': \"5\",\n        },\n\"Argentina\",\nNaN,\n\"2020-03-20\",\n\"Full\",\n\"AR\"],\n [{\n            'v': 6,\n            'f': \"6\",\n        },\n\"Armenia\",\nNaN,\n\"2020-03-24\",\n\"Full\",\n\"AM\"],\n [{\n            'v': 7,\n            'f': \"7\",\n        },\n\"Australia\",\n\"Victoria\",\n\"2020-03-24\",\n\"Full\",\n\"AU\"],\n [{\n            'v': 8,\n            'f': \"8\",\n        },\n\"Austria\",\nNaN,\n\"2020-03-16\",\n\"Full\",\n\"AT\"],\n [{\n            'v': 9,\n            'f': \"9\",\n        },\n\"Azerbaijan\",\nNaN,\n\"2020-03-02\",\n\"Full\",\n\"AZ\"],\n [{\n            'v': 10,\n            'f': \"10\",\n        },\n\"Bahamas\",\nNaN,\n\"2020-03-20\",\n\"Full\",\n\"BS\"],\n [{\n            'v': 11,\n            'f': \"11\",\n        },\n\"Bahrain\",\nNaN,\n\"2020-02-25\",\n\"Full\",\n\"BH\"],\n [{\n            'v': 12,\n            'f': \"12\",\n        },\n\"Bangladesh\",\nNaN,\n\"2020-03-19\",\n\"Full\",\n\"BD\"],\n [{\n            'v': 13,\n            'f': \"13\",\n        },\n\"Barbados\",\nNaN,\n\"2020-03-28\",\n\"Full\",\n\"BB\"],\n [{\n            'v': 14,\n            'f': \"14\",\n        },\n\"Belgium\",\nNaN,\n\"2020-03-17\",\n\"Full\",\n\"BE\"],\n [{\n            'v': 15,\n            'f': \"15\",\n        },\n\"Belize\",\nNaN,\n\"2020-03-30\",\n\"Full\",\n\"BZ\"],\n [{\n            'v': 16,\n            'f': \"16\",\n        },\n\"Bhutan\",\nNaN,\n\"2020-03-06\",\n\"Full\",\n\"BT\"],\n [{\n            'v': 17,\n            'f': \"17\",\n        },\n\"Bolivia\",\nNaN,\n\"2020-03-12\",\n\"Full\",\n\"BO\"],\n [{\n            'v': 18,\n            'f': \"18\",\n        },\n\"Bosnia and Herzegovina\",\nNaN,\n\"2020-03-11\",\n\"Full\",\n\"BA\"],\n [{\n            'v': 19,\n            'f': \"19\",\n        },\n\"Botswana\",\nNaN,\n\"2020-04-02\",\n\"Full\",\n\"BW\"],\n [{\n            'v': 20,\n            'f': \"20\",\n        },\n\"Bulgaria\",\nNaN,\n\"2020-03-13\",\n\"Full\",\n\"BG\"],\n [{\n            'v': 21,\n            'f': \"21\",\n        },\n\"Burkina Faso\",\nNaN,\n\"2020-03-21\",\n\"Full\",\n\"BF\"],\n [{\n            'v': 22,\n            'f': \"22\",\n        },\n\"Cambodia\",\nNaN,\n\"2020-03-28\",\n\"Partial\",\n\"KH\"],\n [{\n            'v': 23,\n            'f': \"23\",\n        },\n\"Canada\",\n\"Alberta\",\n\"2020-03-17\",\n\"Full\",\n\"CA\"],\n [{\n            'v': 24,\n            'f': \"24\",\n        },\n\"Canada\",\n\"British Columbia\",\n\"2020-03-18\",\n\"Full\",\n\"CA\"],\n [{\n            'v': 25,\n            'f': \"25\",\n        },\n\"Canada\",\n\"Manitoba\",\n\"2020-03-20\",\n\"Full\",\n\"CA\"],\n [{\n            'v': 26,\n            'f': \"26\",\n        },\n\"Canada\",\n\"New Brunswick\",\n\"2020-03-19\",\n\"Full\",\n\"CA\"],\n [{\n            'v': 27,\n            'f': \"27\",\n        },\n\"Canada\",\n\"Newfoundland and Labrador\",\n\"2020-03-18\",\n\"Full\",\n\"CA\"],\n [{\n            'v': 28,\n            'f': \"28\",\n        },\n\"Canada\",\n\"Northwest Territories\",\n\"2020-03-18\",\n\"Partial\",\n\"CA\"],\n [{\n            'v': 29,\n            'f': \"29\",\n        },\n\"Canada\",\n\"Nova Scotia\",\n\"2020-03-22\",\n\"Full\",\n\"CA\"],\n [{\n            'v': 30,\n            'f': \"30\",\n        },\n\"Canada\",\n\"Ontario\",\n\"2020-03-14\",\n\"Full\",\n\"CA\"],\n [{\n            'v': 31,\n            'f': \"31\",\n        },\n\"Canada\",\n\"Prince Edward Island\",\n\"2020-03-16\",\n\"Full\",\n\"CA\"],\n [{\n            'v': 32,\n            'f': \"32\",\n        },\n\"Canada\",\n\"Quebec\",\n\"2020-03-12\",\n\"Full\",\n\"CA\"],\n [{\n            'v': 33,\n            'f': \"33\",\n        },\n\"Canada\",\n\"Saskatchewan\",\n\"2020-03-18\",\n\"Full\",\n\"CA\"],\n [{\n            'v': 34,\n            'f': \"34\",\n        },\n\"Canada\",\n\"Yukon\",\n\"2020-03-18\",\n\"Partial\",\n\"CA\"],\n [{\n            'v': 35,\n            'f': \"35\",\n        },\n\"Chile\",\nNaN,\n\"2020-03-26\",\n\"Full\",\n\"CL\"],\n [{\n            'v': 36,\n            'f': \"36\",\n        },\n\"China\",\n\"Anhui\",\n\"2020-01-23\",\n\"Full\",\n\"CN\"],\n [{\n            'v': 37,\n            'f': \"37\",\n        },\n\"China\",\n\"Beijing\",\n\"2020-01-23\",\n\"Full\",\n\"CN\"],\n [{\n            'v': 38,\n            'f': \"38\",\n        },\n\"China\",\n\"Chongqing\",\n\"2020-01-23\",\n\"Full\",\n\"CN\"],\n [{\n            'v': 39,\n            'f': \"39\",\n        },\n\"China\",\n\"Fujian\",\n\"2020-01-23\",\n\"Full\",\n\"CN\"],\n [{\n            'v': 40,\n            'f': \"40\",\n        },\n\"China\",\n\"Gansu\",\n\"2020-01-23\",\n\"Full\",\n\"CN\"],\n [{\n            'v': 41,\n            'f': \"41\",\n        },\n\"China\",\n\"Guangdong\",\n\"2020-01-23\",\n\"Full\",\n\"CN\"],\n [{\n            'v': 42,\n            'f': \"42\",\n        },\n\"China\",\n\"Guangxi\",\n\"2020-01-23\",\n\"Full\",\n\"CN\"],\n [{\n            'v': 43,\n            'f': \"43\",\n        },\n\"China\",\n\"Guizhou\",\n\"2020-01-23\",\n\"Full\",\n\"CN\"],\n [{\n            'v': 44,\n            'f': \"44\",\n        },\n\"China\",\n\"Hainan\",\n\"2020-01-23\",\n\"Full\",\n\"CN\"],\n [{\n            'v': 45,\n            'f': \"45\",\n        },\n\"China\",\n\"Hebei\",\n\"2020-01-23\",\n\"Full\",\n\"CN\"],\n [{\n            'v': 46,\n            'f': \"46\",\n        },\n\"China\",\n\"Heilongjiang\",\n\"2020-01-23\",\n\"Full\",\n\"CN\"],\n [{\n            'v': 47,\n            'f': \"47\",\n        },\n\"China\",\n\"Henan\",\n\"2020-01-23\",\n\"Full\",\n\"CN\"],\n [{\n            'v': 48,\n            'f': \"48\",\n        },\n\"China\",\n\"Hong Kong\",\n\"2020-03-23\",\n\"Full\",\n\"CN\"],\n [{\n            'v': 49,\n            'f': \"49\",\n        },\n\"China\",\n\"Hubei\",\n\"2020-01-23\",\n\"Full\",\n\"CN\"],\n [{\n            'v': 50,\n            'f': \"50\",\n        },\n\"China\",\n\"Hunan\",\n\"2020-01-23\",\n\"Full\",\n\"CN\"],\n [{\n            'v': 51,\n            'f': \"51\",\n        },\n\"China\",\n\"Inner Mongolia\",\n\"2020-01-23\",\n\"Full\",\n\"CN\"],\n [{\n            'v': 52,\n            'f': \"52\",\n        },\n\"China\",\n\"Jiangsu\",\n\"2020-01-23\",\n\"Full\",\n\"CN\"],\n [{\n            'v': 53,\n            'f': \"53\",\n        },\n\"China\",\n\"Jiangxi\",\n\"2020-01-23\",\n\"Full\",\n\"CN\"],\n [{\n            'v': 54,\n            'f': \"54\",\n        },\n\"China\",\n\"Jilin\",\n\"2020-01-23\",\n\"Full\",\n\"CN\"],\n [{\n            'v': 55,\n            'f': \"55\",\n        },\n\"China\",\n\"Liaoning\",\n\"2020-01-23\",\n\"Full\",\n\"CN\"],\n [{\n            'v': 56,\n            'f': \"56\",\n        },\n\"China\",\n\"Macau\",\n\"2020-01-26\",\n\"Full\",\n\"CN\"],\n [{\n            'v': 57,\n            'f': \"57\",\n        },\n\"China\",\n\"Ningxia\",\n\"2020-01-23\",\n\"Full\",\n\"CN\"],\n [{\n            'v': 58,\n            'f': \"58\",\n        },\n\"China\",\n\"Qinghai\",\n\"2020-01-23\",\n\"Full\",\n\"CN\"],\n [{\n            'v': 59,\n            'f': \"59\",\n        },\n\"China\",\n\"Shaanxi\",\n\"2020-01-23\",\n\"Full\",\n\"CN\"],\n [{\n            'v': 60,\n            'f': \"60\",\n        },\n\"China\",\n\"Shandong\",\n\"2020-01-23\",\n\"Full\",\n\"CN\"],\n [{\n            'v': 61,\n            'f': \"61\",\n        },\n\"China\",\n\"Shanghai\",\n\"2020-01-23\",\n\"Full\",\n\"CN\"],\n [{\n            'v': 62,\n            'f': \"62\",\n        },\n\"China\",\n\"Shanxi\",\n\"2020-01-23\",\n\"Full\",\n\"CN\"],\n [{\n            'v': 63,\n            'f': \"63\",\n        },\n\"China\",\n\"Sichuan\",\n\"2020-01-23\",\n\"Full\",\n\"CN\"],\n [{\n            'v': 64,\n            'f': \"64\",\n        },\n\"China\",\n\"Tianjin\",\n\"2020-01-23\",\n\"Full\",\n\"CN\"],\n [{\n            'v': 65,\n            'f': \"65\",\n        },\n\"China\",\n\"Tibet\",\n\"2020-01-23\",\n\"Full\",\n\"CN\"],\n [{\n            'v': 66,\n            'f': \"66\",\n        },\n\"China\",\n\"Xinjiang\",\n\"2020-01-23\",\n\"Full\",\n\"CN\"],\n [{\n            'v': 67,\n            'f': \"67\",\n        },\n\"China\",\n\"Yunnan\",\n\"2020-01-23\",\n\"Full\",\n\"CN\"],\n [{\n            'v': 68,\n            'f': \"68\",\n        },\n\"China\",\n\"Zhejiang\",\n\"2020-01-23\",\n\"Full\",\n\"CN\"],\n [{\n            'v': 69,\n            'f': \"69\",\n        },\n\"Colombia\",\nNaN,\n\"2020-03-25\",\n\"Full\",\n\"CO\"],\n [{\n            'v': 70,\n            'f': \"70\",\n        },\n\"Congo (Kinshasa)\",\nNaN,\n\"2020-03-19\",\n\"Full\",\n\"CD\"],\n [{\n            'v': 71,\n            'f': \"71\",\n        },\n\"Costa Rica\",\nNaN,\n\"2020-03-15\",\n\"Full\",\n\"CR\"],\n [{\n            'v': 72,\n            'f': \"72\",\n        },\n\"Cote dIvoire\",\nNaN,\n\"2020-03-29\",\n\"Full\",\n\"CI\"],\n [{\n            'v': 73,\n            'f': \"73\",\n        },\n\"Croatia\",\nNaN,\n\"2020-03-22\",\n\"Partial\",\n\"HR\"],\n [{\n            'v': 74,\n            'f': \"74\",\n        },\n\"Cyprus\",\nNaN,\n\"2020-03-25\",\n\"Full\",\n\"CY\"],\n [{\n            'v': 75,\n            'f': \"75\",\n        },\n\"Czechia\",\nNaN,\n\"2020-03-16\",\n\"Full\",\n\"CZ\"],\n [{\n            'v': 76,\n            'f': \"76\",\n        },\n\"Denmark\",\n\"Faroe Islands\",\n\"2020-03-12\",\n\"Full\",\n\"DK\"],\n [{\n            'v': 77,\n            'f': \"77\",\n        },\n\"Denmark\",\nNaN,\n\"2020-03-11\",\n\"Full\",\n\"DK\"],\n [{\n            'v': 78,\n            'f': \"78\",\n        },\n\"Dominican Republic\",\nNaN,\n\"2020-03-17\",\n\"Full\",\n\"DO\"],\n [{\n            'v': 79,\n            'f': \"79\",\n        },\n\"Ecuador\",\nNaN,\n\"2020-03-24\",\n\"Partial\",\n\"EC\"],\n [{\n            'v': 80,\n            'f': \"80\",\n        },\n\"Egypt\",\nNaN,\n\"2020-03-24\",\n\"Full\",\n\"EG\"],\n [{\n            'v': 81,\n            'f': \"81\",\n        },\n\"El Salvador\",\nNaN,\n\"2020-03-11\",\n\"Full\",\n\"SV\"],\n [{\n            'v': 82,\n            'f': \"82\",\n        },\n\"Estonia\",\nNaN,\n\"2020-03-13\",\n\"Full\",\n\"EE\"],\n [{\n            'v': 83,\n            'f': \"83\",\n        },\n\"Ethiopia\",\nNaN,\n\"2020-03-16\",\n\"Full\",\n\"ET\"],\n [{\n            'v': 84,\n            'f': \"84\",\n        },\n\"Fiji\",\nNaN,\n\"2020-03-20\",\n\"Full\",\n\"FJ\"],\n [{\n            'v': 85,\n            'f': \"85\",\n        },\n\"Finland\",\nNaN,\n\"2020-03-27\",\n\"Full\",\n\"FI\"],\n [{\n            'v': 86,\n            'f': \"86\",\n        },\n\"France\",\n\"French Polynesia\",\n\"2020-03-27\",\n\"Partial\",\n\"FR\"],\n [{\n            'v': 87,\n            'f': \"87\",\n        },\n\"France\",\n\"Martinique\",\n\"2020-03-20\",\n\"Partial\",\n\"FR\"],\n [{\n            'v': 88,\n            'f': \"88\",\n        },\n\"France\",\nNaN,\n\"2020-03-16\",\n\"Full\",\n\"FR\"],\n [{\n            'v': 89,\n            'f': \"89\",\n        },\n\"Gambia\",\nNaN,\n\"2020-03-27\",\n\"Full\",\n\"GM\"],\n [{\n            'v': 90,\n            'f': \"90\",\n        },\n\"Georgia\",\nNaN,\n\"2020-03-22\",\n\"Partial\",\n\"GE\"],\n [{\n            'v': 91,\n            'f': \"91\",\n        },\n\"Germany\",\nNaN,\n\"2020-03-20\",\n\"Full\",\n\"DE\"],\n [{\n            'v': 92,\n            'f': \"92\",\n        },\n\"Ghana\",\nNaN,\n\"2020-03-15\",\n\"Full\",\n\"GH\"],\n [{\n            'v': 93,\n            'f': \"93\",\n        },\n\"Greece\",\nNaN,\n\"2020-03-18\",\n\"Full\",\n\"GR\"],\n [{\n            'v': 94,\n            'f': \"94\",\n        },\n\"Honduras\",\nNaN,\n\"2020-03-20\",\n\"Partial\",\n\"HN\"],\n [{\n            'v': 95,\n            'f': \"95\",\n        },\n\"Hungary\",\nNaN,\n\"2020-03-16\",\n\"Full\",\n\"HU\"],\n [{\n            'v': 96,\n            'f': \"96\",\n        },\n\"Iceland\",\nNaN,\n\"2020-03-16\",\n\"Full\",\n\"IS\"],\n [{\n            'v': 97,\n            'f': \"97\",\n        },\n\"India\",\nNaN,\n\"2020-03-24\",\n\"Full\",\n\"IN\"],\n [{\n            'v': 98,\n            'f': \"98\",\n        },\n\"Indonesia\",\nNaN,\n\"2020-03-15\",\n\"Full\",\n\"ID\"],\n [{\n            'v': 99,\n            'f': \"99\",\n        },\n\"Iran\",\nNaN,\n\"2020-03-15\",\n\"Full\",\n\"IR\"],\n [{\n            'v': 100,\n            'f': \"100\",\n        },\n\"Iraq\",\nNaN,\n\"2020-03-22\",\n\"Full\",\n\"IQ\"],\n [{\n            'v': 101,\n            'f': \"101\",\n        },\n\"Ireland\",\nNaN,\n\"2020-03-12\",\n\"Full\",\n\"IE\"],\n [{\n            'v': 102,\n            'f': \"102\",\n        },\n\"Israel\",\nNaN,\n\"2020-03-12\",\n\"Full\",\n\"IL\"],\n [{\n            'v': 103,\n            'f': \"103\",\n        },\n\"Italy\",\nNaN,\n\"2020-03-11\",\n\"Full\",\n\"IT\"],\n [{\n            'v': 104,\n            'f': \"104\",\n        },\n\"Jamaica\",\nNaN,\n\"2020-03-12\",\n\"Full\",\n\"JM\"],\n [{\n            'v': 105,\n            'f': \"105\",\n        },\n\"Japan\",\nNaN,\n\"2020-02-27\",\n\"Full\",\n\"JP\"],\n [{\n            'v': 106,\n            'f': \"106\",\n        },\n\"Jersey\",\nNaN,\n\"2020-03-18\",\n\"Full\",\n\"JE\"],\n [{\n            'v': 107,\n            'f': \"107\",\n        },\n\"Jordan\",\nNaN,\n\"2020-03-21\",\n\"Full\",\n\"JO\"],\n [{\n            'v': 108,\n            'f': \"108\",\n        },\n\"Kazakhstan\",\nNaN,\n\"2020-03-15\",\n\"Full\",\n\"KZ\"],\n [{\n            'v': 109,\n            'f': \"109\",\n        },\n\"Kenya\",\nNaN,\n\"2020-03-15\",\n\"Full\",\n\"KE\"],\n [{\n            'v': 110,\n            'f': \"110\",\n        },\n\"Korea, South\",\nNaN,\n\"2020-02-23\",\n\"Full\",\n\"KR\"],\n [{\n            'v': 111,\n            'f': \"111\",\n        },\n\"Kosovo\",\nNaN,\n\"2020-03-25\",\n\"Partial\",\n\"XK\"],\n [{\n            'v': 112,\n            'f': \"112\",\n        },\n\"Kuwait\",\nNaN,\n\"2020-03-16\",\n\"Partial\",\n\"KW\"],\n [{\n            'v': 113,\n            'f': \"113\",\n        },\n\"Kyrgyzstan\",\nNaN,\n\"2020-03-24\",\n\"Partial\",\n\"KG\"],\n [{\n            'v': 114,\n            'f': \"114\",\n        },\n\"Latvia\",\nNaN,\n\"2020-03-13\",\n\"Full\",\n\"LV\"],\n [{\n            'v': 115,\n            'f': \"115\",\n        },\n\"Lebanon\",\nNaN,\n\"2020-03-16\",\n\"Full\",\n\"LB\"],\n [{\n            'v': 116,\n            'f': \"116\",\n        },\n\"Liechtenstein\",\nNaN,\n\"2020-03-20\",\n\"Partial\",\n\"LI\"],\n [{\n            'v': 117,\n            'f': \"117\",\n        },\n\"Lithuania\",\nNaN,\n\"2020-03-16\",\n\"Full\",\n\"LT\"],\n [{\n            'v': 118,\n            'f': \"118\",\n        },\n\"Luxembourg\",\nNaN,\n\"2020-03-16\",\n\"Full\",\n\"LU\"],\n [{\n            'v': 119,\n            'f': \"119\",\n        },\n\"Madagascar\",\nNaN,\n\"2020-03-17\",\n\"Partial\",\n\"MG\"],\n [{\n            'v': 120,\n            'f': \"120\",\n        },\n\"Malaysia\",\nNaN,\n\"2020-03-18\",\n\"Full\",\n\"MY\"],\n [{\n            'v': 121,\n            'f': \"121\",\n        },\n\"Maldives\",\nNaN,\n\"2020-03-11\",\n\"Full\",\n\"MV\"],\n [{\n            'v': 122,\n            'f': \"122\",\n        },\n\"Mali\",\nNaN,\n\"2020-03-18\",\n\"Full\",\n\"ML\"],\n [{\n            'v': 123,\n            'f': \"123\",\n        },\n\"Malta\",\nNaN,\n\"2020-03-12\",\n\"Full\",\n\"MT\"],\n [{\n            'v': 124,\n            'f': \"124\",\n        },\n\"Mauritius\",\nNaN,\n\"2020-03-17\",\n\"Partial\",\n\"MU\"],\n [{\n            'v': 125,\n            'f': \"125\",\n        },\n\"Mexico\",\nNaN,\n\"2020-03-14\",\n\"Partial\",\n\"MX\"],\n [{\n            'v': 126,\n            'f': \"126\",\n        },\n\"Moldova\",\nNaN,\n\"2020-03-11\",\n\"Full\",\n\"MD\"],\n [{\n            'v': 127,\n            'f': \"127\",\n        },\n\"Monaco\",\nNaN,\n\"2020-03-17\",\n\"Full\",\n\"MC\"],\n [{\n            'v': 128,\n            'f': \"128\",\n        },\n\"Mongolia\",\nNaN,\n\"2020-03-10\",\n\"Full\",\n\"MN\"],\n [{\n            'v': 129,\n            'f': \"129\",\n        },\n\"Montenegro\",\nNaN,\n\"2020-03-24\",\n\"Full\",\n\"ME\"],\n [{\n            'v': 130,\n            'f': \"130\",\n        },\n\"Morocco\",\nNaN,\n\"2020-03-16\",\n\"Full\",\n\"MA\"],\n [{\n            'v': 131,\n            'f': \"131\",\n        },\n\"Namibia\",\nNaN,\n\"2020-03-14\",\n\"Full\",\nNaN],\n [{\n            'v': 132,\n            'f': \"132\",\n        },\n\"Nepal\",\nNaN,\n\"2020-03-24\",\n\"Full\",\n\"NP\"],\n [{\n            'v': 133,\n            'f': \"133\",\n        },\n\"Netherlands\",\n\"Aruba\",\n\"2020-03-16\",\n\"Full\",\n\"NL\"],\n [{\n            'v': 134,\n            'f': \"134\",\n        },\n\"Netherlands\",\nNaN,\n\"2020-03-24\",\n\"Full\",\n\"NL\"],\n [{\n            'v': 135,\n            'f': \"135\",\n        },\n\"New Zealand\",\nNaN,\n\"2020-03-25\",\n\"Full\",\n\"NZ\"],\n [{\n            'v': 136,\n            'f': \"136\",\n        },\n\"Nigeria\",\nNaN,\n\"2020-03-25\",\n\"Full\",\n\"NG\"],\n [{\n            'v': 137,\n            'f': \"137\",\n        },\n\"North Macedonia\",\nNaN,\n\"2020-03-18\",\n\"Full\",\n\"MK\"],\n [{\n            'v': 138,\n            'f': \"138\",\n        },\n\"Norway\",\nNaN,\n\"2020-03-12\",\n\"Full\",\n\"NO\"],\n [{\n            'v': 139,\n            'f': \"139\",\n        },\n\"Oman\",\nNaN,\n\"2020-03-29\",\n\"Partial\",\n\"OM\"],\n [{\n            'v': 140,\n            'f': \"140\",\n        },\n\"Pakistan\",\nNaN,\n\"2020-03-26\",\n\"Full\",\n\"PK\"],\n [{\n            'v': 141,\n            'f': \"141\",\n        },\n\"Palestine\",\nNaN,\n\"2020-03-05\",\n\"Full\",\n\"PS\"],\n [{\n            'v': 142,\n            'f': \"142\",\n        },\n\"Panama\",\nNaN,\n\"2020-03-25\",\n\"Full\",\n\"PA\"],\n [{\n            'v': 143,\n            'f': \"143\",\n        },\n\"Paraguay\",\nNaN,\n\"2020-03-15\",\n\"Partial\",\n\"PY\"],\n [{\n            'v': 144,\n            'f': \"144\",\n        },\n\"Peru\",\nNaN,\n\"2020-03-10\",\n\"Full\",\n\"PE\"],\n [{\n            'v': 145,\n            'f': \"145\",\n        },\n\"Philippines\",\nNaN,\n\"2020-03-16\",\n\"Partial\",\n\"PH\"],\n [{\n            'v': 146,\n            'f': \"146\",\n        },\n\"Poland\",\nNaN,\n\"2020-03-12\",\n\"Full\",\n\"PL\"],\n [{\n            'v': 147,\n            'f': \"147\",\n        },\n\"Portugal\",\nNaN,\n\"2020-03-18\",\n\"Full\",\n\"PT\"],\n [{\n            'v': 148,\n            'f': \"148\",\n        },\n\"Qatar\",\nNaN,\n\"2020-03-11\",\n\"Full\",\n\"QA\"],\n [{\n            'v': 149,\n            'f': \"149\",\n        },\n\"Romania\",\nNaN,\n\"2020-03-25\",\n\"Full\",\n\"RO\"],\n [{\n            'v': 150,\n            'f': \"150\",\n        },\n\"Russia\",\nNaN,\n\"2020-03-27\",\n\"Full\",\n\"RU\"],\n [{\n            'v': 151,\n            'f': \"151\",\n        },\n\"Rwanda\",\nNaN,\n\"2020-03-16\",\n\"Full\",\n\"RW\"],\n [{\n            'v': 152,\n            'f': \"152\",\n        },\n\"Saint Lucia\",\nNaN,\n\"2020-03-20\",\n\"Full\",\n\"LC\"],\n [{\n            'v': 153,\n            'f': \"153\",\n        },\n\"San Marino\",\nNaN,\n\"2020-03-09\",\n\"Full\",\n\"SM\"],\n [{\n            'v': 154,\n            'f': \"154\",\n        },\n\"Saudi Arabia\",\nNaN,\n\"2020-03-15\",\n\"Full\",\n\"SA\"],\n [{\n            'v': 155,\n            'f': \"155\",\n        },\n\"Senegal\",\nNaN,\n\"2020-03-24\",\n\"Partial\",\n\"SN\"],\n [{\n            'v': 156,\n            'f': \"156\",\n        },\n\"Serbia\",\nNaN,\n\"2020-03-15\",\n\"Full\",\n\"RS\"],\n [{\n            'v': 157,\n            'f': \"157\",\n        },\n\"Singapore\",\nNaN,\n\"2020-03-26\",\n\"Partial\",\n\"SG\"],\n [{\n            'v': 158,\n            'f': \"158\",\n        },\n\"Slovakia\",\nNaN,\n\"2020-03-09\",\n\"Full\",\n\"SK\"],\n [{\n            'v': 159,\n            'f': \"159\",\n        },\n\"Slovenia\",\nNaN,\n\"2020-03-11\",\n\"Full\",\n\"SI\"],\n [{\n            'v': 160,\n            'f': \"160\",\n        },\n\"Somalia\",\nNaN,\n\"2020-03-19\",\n\"Full\",\n\"SO\"],\n [{\n            'v': 161,\n            'f': \"161\",\n        },\n\"South Africa\",\nNaN,\n\"2020-03-26\",\n\"Full\",\n\"ZA\"],\n [{\n            'v': 162,\n            'f': \"162\",\n        },\n\"Spain\",\nNaN,\n\"2020-03-14\",\n\"Full\",\n\"ES\"],\n [{\n            'v': 163,\n            'f': \"163\",\n        },\n\"Sri Lanka\",\nNaN,\n\"2020-03-21\",\n\"Full\",\n\"LK\"],\n [{\n            'v': 164,\n            'f': \"164\",\n        },\n\"Switzerland\",\nNaN,\n\"2020-03-18\",\n\"Full\",\n\"CH\"],\n [{\n            'v': 165,\n            'f': \"165\",\n        },\n\"Syria\",\nNaN,\n\"2020-03-14\",\n\"Full\",\n\"SY\"],\n [{\n            'v': 166,\n            'f': \"166\",\n        },\n\"Taiwan*\",\nNaN,\n\"2020-02-02\",\n\"Full\",\n\"TW\"],\n [{\n            'v': 167,\n            'f': \"167\",\n        },\n\"Thailand\",\nNaN,\n\"2020-03-22\",\n\"Full\",\n\"TH\"],\n [{\n            'v': 168,\n            'f': \"168\",\n        },\n\"Togo\",\nNaN,\n\"2020-03-20\",\n\"Partial\",\n\"TG\"],\n [{\n            'v': 169,\n            'f': \"169\",\n        },\n\"Trinidad and Tobago\",\nNaN,\n\"2020-03-13\",\n\"Full\",\n\"TT\"],\n [{\n            'v': 170,\n            'f': \"170\",\n        },\n\"Tunisia\",\nNaN,\n\"2020-03-20\",\n\"Full\",\n\"TN\"],\n [{\n            'v': 171,\n            'f': \"171\",\n        },\n\"Turkey\",\nNaN,\n\"2020-03-23\",\n\"Full\",\n\"TR\"],\n [{\n            'v': 172,\n            'f': \"172\",\n        },\n\"Uganda\",\nNaN,\n\"2020-03-18\",\n\"Full\",\n\"UG\"],\n [{\n            'v': 173,\n            'f': \"173\",\n        },\n\"Ukraine\",\nNaN,\n\"2020-03-17\",\n\"Full\",\n\"UA\"],\n [{\n            'v': 174,\n            'f': \"174\",\n        },\n\"United Arab Emirates\",\nNaN,\n\"2020-03-24\",\n\"Full\",\n\"AE\"],\n [{\n            'v': 175,\n            'f': \"175\",\n        },\n\"United Kingdom\",\n\"Anguilla\",\n\"2020-03-18\",\n\"Full\",\n\"GB\"],\n [{\n            'v': 176,\n            'f': \"176\",\n        },\n\"United Kingdom\",\n\"Gibraltar\",\n\"2020-03-24\",\n\"Full\",\n\"GB\"],\n [{\n            'v': 177,\n            'f': \"177\",\n        },\n\"United Kingdom\",\n\"Isle of Man\",\n\"2020-03-23\",\n\"Full\",\n\"GB\"],\n [{\n            'v': 178,\n            'f': \"178\",\n        },\n\"United Kingdom\",\n\"Turks and Caicos Islands\",\n\"2020-03-27\",\n\"Full\",\n\"GB\"],\n [{\n            'v': 179,\n            'f': \"179\",\n        },\n\"United Kingdom\",\nNaN,\n\"2020-03-23\",\n\"Full\",\n\"GB\"],\n [{\n            'v': 180,\n            'f': \"180\",\n        },\n\"Uruguay\",\nNaN,\n\"2020-03-16\",\n\"Full\",\n\"UY\"],\n [{\n            'v': 181,\n            'f': \"181\",\n        },\n\"US\",\n\"Alabama\",\n\"2020-04-04\",\n\"Full\",\n\"US\"],\n [{\n            'v': 182,\n            'f': \"182\",\n        },\n\"US\",\n\"Alaska\",\n\"2020-03-28\",\n\"Full\",\n\"US\"],\n [{\n            'v': 183,\n            'f': \"183\",\n        },\n\"US\",\n\"Arizona\",\n\"2020-03-31\",\n\"Full\",\n\"US\"],\n [{\n            'v': 184,\n            'f': \"184\",\n        },\n\"US\",\n\"California\",\n\"2020-03-19\",\n\"Full\",\n\"US\"],\n [{\n            'v': 185,\n            'f': \"185\",\n        },\n\"US\",\n\"Colorado\",\n\"2020-03-26\",\n\"Full\",\n\"US\"],\n [{\n            'v': 186,\n            'f': \"186\",\n        },\n\"US\",\n\"Connecticut\",\n\"2020-03-23\",\n\"Full\",\n\"US\"],\n [{\n            'v': 187,\n            'f': \"187\",\n        },\n\"US\",\n\"Delaware\",\n\"2020-03-24\",\n\"Full\",\n\"US\"],\n [{\n            'v': 188,\n            'f': \"188\",\n        },\n\"US\",\n\"Florida\",\n\"2020-04-02\",\n\"Full\",\n\"US\"],\n [{\n            'v': 189,\n            'f': \"189\",\n        },\n\"US\",\n\"Guam\",\n\"2020-03-26\",\n\"Full\",\n\"US\"],\n [{\n            'v': 190,\n            'f': \"190\",\n        },\n\"US\",\n\"Hawaii\",\n\"2020-03-25\",\n\"Full\",\n\"US\"],\n [{\n            'v': 191,\n            'f': \"191\",\n        },\n\"US\",\n\"Idaho\",\n\"2020-03-25\",\n\"Full\",\n\"US\"],\n [{\n            'v': 192,\n            'f': \"192\",\n        },\n\"US\",\n\"Illinois\",\n\"2020-03-21\",\n\"Full\",\n\"US\"],\n [{\n            'v': 193,\n            'f': \"193\",\n        },\n\"US\",\n\"Indiana\",\n\"2020-03-24\",\n\"Full\",\n\"US\"],\n [{\n            'v': 194,\n            'f': \"194\",\n        },\n\"US\",\n\"Kansas\",\n\"2020-03-30\",\n\"Full\",\n\"US\"],\n [{\n            'v': 195,\n            'f': \"195\",\n        },\n\"US\",\n\"Kentucky\",\n\"2020-03-26\",\n\"Full\",\n\"US\"],\n [{\n            'v': 196,\n            'f': \"196\",\n        },\n\"US\",\n\"Louisiana\",\n\"2020-03-23\",\n\"Full\",\n\"US\"],\n [{\n            'v': 197,\n            'f': \"197\",\n        },\n\"US\",\n\"Maine\",\n\"2020-04-02\",\n\"Full\",\n\"US\"],\n [{\n            'v': 198,\n            'f': \"198\",\n        },\n\"US\",\n\"Maryland\",\n\"2020-03-30\",\n\"Full\",\n\"US\"],\n [{\n            'v': 199,\n            'f': \"199\",\n        },\n\"US\",\n\"Massachusetts\",\n\"2020-03-24\",\n\"Full\",\n\"US\"],\n [{\n            'v': 200,\n            'f': \"200\",\n        },\n\"US\",\n\"Michigan\",\n\"2020-03-24\",\n\"Full\",\n\"US\"],\n [{\n            'v': 201,\n            'f': \"201\",\n        },\n\"US\",\n\"Minnesota\",\n\"2020-03-27\",\n\"Full\",\n\"US\"],\n [{\n            'v': 202,\n            'f': \"202\",\n        },\n\"US\",\n\"Mississippi\",\n\"2020-04-03\",\n\"Full\",\n\"US\"],\n [{\n            'v': 203,\n            'f': \"203\",\n        },\n\"US\",\n\"Missouri\",\n\"2020-04-06\",\n\"Full\",\n\"US\"],\n [{\n            'v': 204,\n            'f': \"204\",\n        },\n\"US\",\n\"Montana\",\n\"2020-03-28\",\n\"Full\",\n\"US\"],\n [{\n            'v': 205,\n            'f': \"205\",\n        },\n\"US\",\n\"Nevada\",\n\"2020-04-02\",\n\"Full\",\n\"US\"],\n [{\n            'v': 206,\n            'f': \"206\",\n        },\n\"US\",\n\"New Hampshire\",\n\"2020-03-27\",\n\"Full\",\n\"US\"],\n [{\n            'v': 207,\n            'f': \"207\",\n        },\n\"US\",\n\"New Jersey\",\n\"2020-03-21\",\n\"Full\",\n\"US\"],\n [{\n            'v': 208,\n            'f': \"208\",\n        },\n\"US\",\n\"New Mexico\",\n\"2020-03-24\",\n\"Full\",\n\"US\"],\n [{\n            'v': 209,\n            'f': \"209\",\n        },\n\"US\",\n\"New York\",\n\"2020-03-22\",\n\"Full\",\n\"US\"],\n [{\n            'v': 210,\n            'f': \"210\",\n        },\n\"US\",\n\"North Carolina\",\n\"2020-03-30\",\n\"Full\",\n\"US\"],\n [{\n            'v': 211,\n            'f': \"211\",\n        },\n\"US\",\n\"Ohio\",\n\"2020-03-23\",\n\"Full\",\n\"US\"],\n [{\n            'v': 212,\n            'f': \"212\",\n        },\n\"US\",\n\"Oregon\",\n\"2020-03-23\",\n\"Full\",\n\"US\"],\n [{\n            'v': 213,\n            'f': \"213\",\n        },\n\"US\",\n\"Pennsylvania\",\n\"2020-04-02\",\n\"Full\",\n\"US\"],\n [{\n            'v': 214,\n            'f': \"214\",\n        },\n\"US\",\n\"Puerto Rico\",\n\"2020-03-13\",\n\"Full\",\n\"US\"],\n [{\n            'v': 215,\n            'f': \"215\",\n        },\n\"US\",\n\"Rhode Island\",\n\"2020-03-28\",\n\"Full\",\n\"US\"],\n [{\n            'v': 216,\n            'f': \"216\",\n        },\n\"US\",\n\"Tennessee\",\n\"2020-03-31\",\n\"Full\",\n\"US\"],\n [{\n            'v': 217,\n            'f': \"217\",\n        },\n\"US\",\n\"Texas\",\n\"2020-04-02\",\n\"Full\",\n\"US\"],\n [{\n            'v': 218,\n            'f': \"218\",\n        },\n\"US\",\n\"Vermont\",\n\"2020-03-25\",\n\"Full\",\n\"US\"],\n [{\n            'v': 219,\n            'f': \"219\",\n        },\n\"US\",\n\"Virgin Islands\",\n\"2020-03-25\",\n\"Full\",\n\"US\"],\n [{\n            'v': 220,\n            'f': \"220\",\n        },\n\"US\",\n\"Virginia\",\n\"2020-03-30\",\n\"Full\",\n\"US\"],\n [{\n            'v': 221,\n            'f': \"221\",\n        },\n\"US\",\n\"Washington\",\n\"2020-03-23\",\n\"Full\",\n\"US\"],\n [{\n            'v': 222,\n            'f': \"222\",\n        },\n\"US\",\n\"West Virginia\",\n\"2020-03-24\",\n\"Full\",\n\"US\"],\n [{\n            'v': 223,\n            'f': \"223\",\n        },\n\"US\",\n\"Wisconsin\",\n\"2020-03-25\",\n\"Full\",\n\"US\"],\n [{\n            'v': 224,\n            'f': \"224\",\n        },\n\"Uzbekistan\",\nNaN,\n\"2020-03-20\",\n\"Partial\",\n\"UZ\"],\n [{\n            'v': 225,\n            'f': \"225\",\n        },\n\"Vatican City\",\nNaN,\n\"2020-03-10\",\n\"Full\",\n\"VA\"],\n [{\n            'v': 226,\n            'f': \"226\",\n        },\n\"Venezuela\",\nNaN,\n\"2020-03-16\",\n\"Full\",\n\"VE\"],\n [{\n            'v': 227,\n            'f': \"227\",\n        },\n\"Vietnam\",\nNaN,\n\"2020-03-19\",\n\"Full\",\n\"VN\"],\n [{\n            'v': 228,\n            'f': \"228\",\n        },\n\"West Bank and Gaza\",\nNaN,\n\"2020-03-05\",\n\"Full\",\n\"PS\"],\n [{\n            'v': 229,\n            'f': \"229\",\n        },\n\"Zimbabwe\",\nNaN,\n\"2020-03-27\",\n\"Full\",\n\"ZW\"]],\n        columns: [[\"number\", \"index\"], [\"string\", \"country_region\"], [\"string\", \"province\"], [\"string\", \"date\"], [\"string\", \"type\"], [\"string\", \"alpha_2_code\"]],\n        columnOptions: [{\"width\": \"1px\", \"className\": \"index_column\"}],\n        rowsPerPage: 25,\n        helpUrl: \"https://colab.research.google.com/notebooks/data_table.ipynb\",\n        suppressOutputScrolling: true,\n        minimumWidth: undefined,\n      });\n    ",
            "text/html": [
              "<div>\n",
              "<style scoped>\n",
              "    .dataframe tbody tr th:only-of-type {\n",
              "        vertical-align: middle;\n",
              "    }\n",
              "\n",
              "    .dataframe tbody tr th {\n",
              "        vertical-align: top;\n",
              "    }\n",
              "\n",
              "    .dataframe thead th {\n",
              "        text-align: right;\n",
              "    }\n",
              "</style>\n",
              "<table border=\"1\" class=\"dataframe\">\n",
              "  <thead>\n",
              "    <tr style=\"text-align: right;\">\n",
              "      <th></th>\n",
              "      <th>country_region</th>\n",
              "      <th>province</th>\n",
              "      <th>date</th>\n",
              "      <th>type</th>\n",
              "      <th>alpha_2_code</th>\n",
              "    </tr>\n",
              "  </thead>\n",
              "  <tbody>\n",
              "    <tr>\n",
              "      <th>0</th>\n",
              "      <td>Afghanistan</td>\n",
              "      <td>NaN</td>\n",
              "      <td>2020-03-24</td>\n",
              "      <td>Full</td>\n",
              "      <td>AF</td>\n",
              "    </tr>\n",
              "    <tr>\n",
              "      <th>1</th>\n",
              "      <td>Albania</td>\n",
              "      <td>NaN</td>\n",
              "      <td>2020-03-08</td>\n",
              "      <td>Full</td>\n",
              "      <td>AL</td>\n",
              "    </tr>\n",
              "    <tr>\n",
              "      <th>2</th>\n",
              "      <td>Algeria</td>\n",
              "      <td>NaN</td>\n",
              "      <td>2020-03-24</td>\n",
              "      <td>Full</td>\n",
              "      <td>DZ</td>\n",
              "    </tr>\n",
              "    <tr>\n",
              "      <th>3</th>\n",
              "      <td>Andorra</td>\n",
              "      <td>NaN</td>\n",
              "      <td>2020-03-16</td>\n",
              "      <td>Full</td>\n",
              "      <td>AD</td>\n",
              "    </tr>\n",
              "    <tr>\n",
              "      <th>4</th>\n",
              "      <td>Angola</td>\n",
              "      <td>NaN</td>\n",
              "      <td>2020-03-24</td>\n",
              "      <td>Full</td>\n",
              "      <td>AO</td>\n",
              "    </tr>\n",
              "    <tr>\n",
              "      <th>...</th>\n",
              "      <td>...</td>\n",
              "      <td>...</td>\n",
              "      <td>...</td>\n",
              "      <td>...</td>\n",
              "      <td>...</td>\n",
              "    </tr>\n",
              "    <tr>\n",
              "      <th>225</th>\n",
              "      <td>Vatican City</td>\n",
              "      <td>NaN</td>\n",
              "      <td>2020-03-10</td>\n",
              "      <td>Full</td>\n",
              "      <td>VA</td>\n",
              "    </tr>\n",
              "    <tr>\n",
              "      <th>226</th>\n",
              "      <td>Venezuela</td>\n",
              "      <td>NaN</td>\n",
              "      <td>2020-03-16</td>\n",
              "      <td>Full</td>\n",
              "      <td>VE</td>\n",
              "    </tr>\n",
              "    <tr>\n",
              "      <th>227</th>\n",
              "      <td>Vietnam</td>\n",
              "      <td>NaN</td>\n",
              "      <td>2020-03-19</td>\n",
              "      <td>Full</td>\n",
              "      <td>VN</td>\n",
              "    </tr>\n",
              "    <tr>\n",
              "      <th>228</th>\n",
              "      <td>West Bank and Gaza</td>\n",
              "      <td>NaN</td>\n",
              "      <td>2020-03-05</td>\n",
              "      <td>Full</td>\n",
              "      <td>PS</td>\n",
              "    </tr>\n",
              "    <tr>\n",
              "      <th>229</th>\n",
              "      <td>Zimbabwe</td>\n",
              "      <td>NaN</td>\n",
              "      <td>2020-03-27</td>\n",
              "      <td>Full</td>\n",
              "      <td>ZW</td>\n",
              "    </tr>\n",
              "  </tbody>\n",
              "</table>\n",
              "<p>230 rows × 5 columns</p>\n",
              "</div>"
            ],
            "text/plain": [
              "         country_region province        date  type alpha_2_code\n",
              "0           Afghanistan      NaN  2020-03-24  Full           AF\n",
              "1               Albania      NaN  2020-03-08  Full           AL\n",
              "2               Algeria      NaN  2020-03-24  Full           DZ\n",
              "3               Andorra      NaN  2020-03-16  Full           AD\n",
              "4                Angola      NaN  2020-03-24  Full           AO\n",
              "..                  ...      ...         ...   ...          ...\n",
              "225        Vatican City      NaN  2020-03-10  Full           VA\n",
              "226           Venezuela      NaN  2020-03-16  Full           VE\n",
              "227             Vietnam      NaN  2020-03-19  Full           VN\n",
              "228  West Bank and Gaza      NaN  2020-03-05  Full           PS\n",
              "229            Zimbabwe      NaN  2020-03-27  Full           ZW\n",
              "\n",
              "[230 rows x 5 columns]"
            ]
          },
          "metadata": {},
          "execution_count": 135
        }
      ]
    },
    {
      "cell_type": "code",
      "metadata": {
        "colab": {
          "base_uri": "https://localhost:8080/",
          "height": 34
        },
        "id": "eowUobPVCJKh",
        "outputId": "3884df26-f8af-481c-cbae-567713bd771e"
      },
      "source": [
        "# making sure that the dataset have the same number of rows before\n",
        "# and after merging it with the country codes table\n",
        "n_rows_before = len(df.index)\n",
        "n_rows_after = len(merged_df.index)\n",
        "n_rows_before == n_rows_after"
      ],
      "execution_count": null,
      "outputs": [
        {
          "output_type": "display_data",
          "data": {
            "text/html": [
              "\n",
              "  <style>\n",
              "    pre {\n",
              "        white-space: pre-wrap;\n",
              "    }\n",
              "  </style>\n",
              "  "
            ],
            "text/plain": [
              "<IPython.core.display.HTML object>"
            ]
          },
          "metadata": {}
        },
        {
          "output_type": "execute_result",
          "data": {
            "text/plain": [
              "True"
            ]
          },
          "metadata": {},
          "execution_count": 136
        }
      ]
    },
    {
      "cell_type": "code",
      "metadata": {
        "colab": {
          "base_uri": "https://localhost:8080/",
          "height": 17
        },
        "id": "AcronPxlmE4J",
        "outputId": "e09f1a98-5d1b-463a-d8ba-62ac518f4875"
      },
      "source": [
        "# update column names (alpha_2_code -> country_code)\n",
        "merged_df.columns = ['country_region', 'province', 'date', 'type', 'country_code']"
      ],
      "execution_count": null,
      "outputs": [
        {
          "output_type": "display_data",
          "data": {
            "text/html": [
              "\n",
              "  <style>\n",
              "    pre {\n",
              "        white-space: pre-wrap;\n",
              "    }\n",
              "  </style>\n",
              "  "
            ],
            "text/plain": [
              "<IPython.core.display.HTML object>"
            ]
          },
          "metadata": {}
        }
      ]
    },
    {
      "cell_type": "code",
      "metadata": {
        "colab": {
          "base_uri": "https://localhost:8080/",
          "height": 17
        },
        "id": "6ZY-Aq9Smchh",
        "outputId": "76ae14a0-172c-4921-cefa-b61069db721c"
      },
      "source": [
        "# reorder the columns: let's put country_code right after the country/region name\n",
        "# date here refers to starting date\n",
        "new_columns_order = ['country_region', 'country_code', 'province', 'date', 'type']\n",
        "merged_df = merged_df[new_columns_order]"
      ],
      "execution_count": null,
      "outputs": [
        {
          "output_type": "display_data",
          "data": {
            "text/html": [
              "\n",
              "  <style>\n",
              "    pre {\n",
              "        white-space: pre-wrap;\n",
              "    }\n",
              "  </style>\n",
              "  "
            ],
            "text/plain": [
              "<IPython.core.display.HTML object>"
            ]
          },
          "metadata": {}
        }
      ]
    },
    {
      "cell_type": "code",
      "metadata": {
        "colab": {
          "base_uri": "https://localhost:8080/",
          "height": 17
        },
        "id": "TdplIlVtlY2S",
        "outputId": "e99dd874-4bd8-48fa-99fe-6fda4d1a6d90"
      },
      "source": [
        "# save the processed version of the data\n",
        "TEST_LOCKDOWNS_DATA_FILE_DST = LOCKDOWNS_CLEAN_DATA_FOLDER / 'country_lockdown_dates.csv'\n",
        "merged_df.to_csv(TEST_LOCKDOWNS_DATA_FILE_DST, index=False, header=True)"
      ],
      "execution_count": null,
      "outputs": [
        {
          "output_type": "display_data",
          "data": {
            "text/html": [
              "\n",
              "  <style>\n",
              "    pre {\n",
              "        white-space: pre-wrap;\n",
              "    }\n",
              "  </style>\n",
              "  "
            ],
            "text/plain": [
              "<IPython.core.display.HTML object>"
            ]
          },
          "metadata": {}
        }
      ]
    },
    {
      "cell_type": "markdown",
      "metadata": {
        "id": "XPDwc_sqP-v4"
      },
      "source": [
        "# References\n",
        "* [python - How to convert a date string to different format - Stack Overflow](https://stackoverflow.com/questions/14524322/how-to-convert-a-date-string-to-different-format)\n",
        "* [python - Filter pandas DataFrame by substring critera - Stack Overflow](https://stackoverflow.com/questions/11350770/filter-pandas-dataframe-by-substring-critera)\n"
      ]
    },
    {
      "cell_type": "markdown",
      "metadata": {
        "id": "zHzMgnyIP8GS"
      },
      "source": [
        "---"
      ]
    }
  ]
}