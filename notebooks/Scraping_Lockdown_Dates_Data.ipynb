{
  "nbformat": 4,
  "nbformat_minor": 0,
  "metadata": {
    "colab": {
      "name": "DSAA Capstone Project (Scraping Lockdown Dates Data).ipynb",
      "provenance": [],
      "collapsed_sections": []
    },
    "kernelspec": {
      "name": "python3",
      "display_name": "Python 3"
    },
    "language_info": {
      "name": "python"
    }
  },
  "cells": [
    {
      "cell_type": "markdown",
      "metadata": {
        "id": "kTHZt5wzd9k3"
      },
      "source": [
        "# DSAA-Kulimi Rwanda Data Camp Capstone Project <br> Lockdowns Impact on Air Quality 🌍\n",
        "\n",
        "GitHub repo: https://github.com/stoufa/Lockdowns-Impact-on-Air-Quality"
      ]
    },
    {
      "cell_type": "code",
      "metadata": {
        "id": "oMVrtxddk_n5"
      },
      "source": [
        "# Enabling Line Wrapping\n",
        "from IPython.display import HTML, display\n",
        "def set_css():\n",
        "  display(HTML('''\n",
        "  <style>\n",
        "    pre {\n",
        "        white-space: pre-wrap;\n",
        "    }\n",
        "  </style>\n",
        "  '''))\n",
        "get_ipython().events.register('pre_run_cell', set_css)"
      ],
      "execution_count": 1,
      "outputs": []
    },
    {
      "cell_type": "code",
      "metadata": {
        "id": "c8k73cFCGr6I",
        "colab": {
          "base_uri": "https://localhost:8080/",
          "height": 17
        },
        "outputId": "5f3adcd2-365f-42e9-a663-6a74e0867f78"
      },
      "source": [
        "# better way to display pandas dataframes\n",
        "%load_ext google.colab.data_table"
      ],
      "execution_count": 2,
      "outputs": [
        {
          "output_type": "display_data",
          "data": {
            "text/html": [
              "\n",
              "  <style>\n",
              "    pre {\n",
              "        white-space: pre-wrap;\n",
              "    }\n",
              "  </style>\n",
              "  "
            ],
            "text/plain": [
              "<IPython.core.display.HTML object>"
            ]
          },
          "metadata": {}
        }
      ]
    },
    {
      "cell_type": "markdown",
      "metadata": {
        "id": "DK0lC27fNUc8"
      },
      "source": [
        "# Getting Data\n",
        "\n",
        "our task will be to get the table of pandemic lockdowns from this Wikipedia article: [COVID-19 lockdowns - Wikipedia](https://en.wikipedia.org/wiki/COVID-19_lockdowns)"
      ]
    },
    {
      "cell_type": "code",
      "metadata": {
        "id": "fvbLpDNXGTZx",
        "colab": {
          "base_uri": "https://localhost:8080/",
          "height": 17
        },
        "outputId": "a89b2060-9359-48b2-c539-9d4090d491a7"
      },
      "source": [
        "import pandas as pd"
      ],
      "execution_count": 3,
      "outputs": [
        {
          "output_type": "display_data",
          "data": {
            "text/html": [
              "\n",
              "  <style>\n",
              "    pre {\n",
              "        white-space: pre-wrap;\n",
              "    }\n",
              "  </style>\n",
              "  "
            ],
            "text/plain": [
              "<IPython.core.display.HTML object>"
            ]
          },
          "metadata": {}
        }
      ]
    },
    {
      "cell_type": "code",
      "metadata": {
        "id": "OexcDnEzGVe9",
        "colab": {
          "base_uri": "https://localhost:8080/",
          "height": 17
        },
        "outputId": "b8afb230-b801-419d-bd22-fe4b6b7f6913"
      },
      "source": [
        "WIKIPEDIA_ARTICLE_URL = 'https://en.wikipedia.org/wiki/COVID-19_lockdowns'"
      ],
      "execution_count": 4,
      "outputs": [
        {
          "output_type": "display_data",
          "data": {
            "text/html": [
              "\n",
              "  <style>\n",
              "    pre {\n",
              "        white-space: pre-wrap;\n",
              "    }\n",
              "  </style>\n",
              "  "
            ],
            "text/plain": [
              "<IPython.core.display.HTML object>"
            ]
          },
          "metadata": {}
        }
      ]
    },
    {
      "cell_type": "code",
      "metadata": {
        "colab": {
          "base_uri": "https://localhost:8080/",
          "height": 17
        },
        "id": "tEWR8dfFGavx",
        "outputId": "b7b1ab5b-426a-4dc0-dc98-21b006755f4f"
      },
      "source": [
        "df = pd.read_html(WIKIPEDIA_ARTICLE_URL)"
      ],
      "execution_count": 5,
      "outputs": [
        {
          "output_type": "display_data",
          "data": {
            "text/html": [
              "\n",
              "  <style>\n",
              "    pre {\n",
              "        white-space: pre-wrap;\n",
              "    }\n",
              "  </style>\n",
              "  "
            ],
            "text/plain": [
              "<IPython.core.display.HTML object>"
            ]
          },
          "metadata": {}
        }
      ]
    },
    {
      "cell_type": "code",
      "metadata": {
        "colab": {
          "base_uri": "https://localhost:8080/",
          "height": 977
        },
        "id": "AjTP6alaGeea",
        "outputId": "d8cf00f0-f3dc-4994-c8be-e7fdc53c0b6f"
      },
      "source": [
        "x = df[4][:-1] # ignore the last row\n",
        "# x.drop(x.columns[-1], axis=1, inplace=True) # drop the last column (unamed and contains NaN values only)\n",
        "x = x[x.columns[:-1]] # a better way to remove the last column (to avoid the SettingWithCopyWarning)\n",
        "x"
      ],
      "execution_count": 6,
      "outputs": [
        {
          "output_type": "display_data",
          "data": {
            "text/html": [
              "\n",
              "  <style>\n",
              "    pre {\n",
              "        white-space: pre-wrap;\n",
              "    }\n",
              "  </style>\n",
              "  "
            ],
            "text/plain": [
              "<IPython.core.display.HTML object>"
            ]
          },
          "metadata": {}
        },
        {
          "output_type": "execute_result",
          "data": {
            "text/html": [
              "<div>\n",
              "<style scoped>\n",
              "    .dataframe tbody tr th:only-of-type {\n",
              "        vertical-align: middle;\n",
              "    }\n",
              "\n",
              "    .dataframe tbody tr th {\n",
              "        vertical-align: top;\n",
              "    }\n",
              "\n",
              "    .dataframe thead tr th {\n",
              "        text-align: left;\n",
              "    }\n",
              "</style>\n",
              "<table border=\"1\" class=\"dataframe\">\n",
              "  <thead>\n",
              "    <tr>\n",
              "      <th></th>\n",
              "      <th colspan=\"28\" halign=\"left\">vteCOVID-19 pandemic lockdowns</th>\n",
              "    </tr>\n",
              "    <tr>\n",
              "      <th></th>\n",
              "      <th>Country / territory</th>\n",
              "      <th>Place</th>\n",
              "      <th colspan=\"3\" halign=\"left\">First lockdown</th>\n",
              "      <th colspan=\"3\" halign=\"left\">Second lockdown</th>\n",
              "      <th colspan=\"3\" halign=\"left\">Third lockdown</th>\n",
              "      <th colspan=\"3\" halign=\"left\">Fourth lockdown</th>\n",
              "      <th colspan=\"3\" halign=\"left\">Fifth lockdown</th>\n",
              "      <th colspan=\"3\" halign=\"left\">Sixth lockdown</th>\n",
              "      <th colspan=\"3\" halign=\"left\">Seventh lockdown</th>\n",
              "      <th colspan=\"3\" halign=\"left\">Eighth lockdown</th>\n",
              "      <th>Total length (days)</th>\n",
              "      <th>Level</th>\n",
              "    </tr>\n",
              "    <tr>\n",
              "      <th></th>\n",
              "      <th>Country / territory</th>\n",
              "      <th>Place</th>\n",
              "      <th>Start date</th>\n",
              "      <th>End date</th>\n",
              "      <th>Length (days)</th>\n",
              "      <th>Start date</th>\n",
              "      <th>End date</th>\n",
              "      <th>Length (days)</th>\n",
              "      <th>Start date</th>\n",
              "      <th>End date</th>\n",
              "      <th>Length (days)</th>\n",
              "      <th>Start date</th>\n",
              "      <th>End date</th>\n",
              "      <th>Length (days)</th>\n",
              "      <th>Start date</th>\n",
              "      <th>End date</th>\n",
              "      <th>Length (days)</th>\n",
              "      <th>Start date</th>\n",
              "      <th>End date</th>\n",
              "      <th>Length (days)</th>\n",
              "      <th>Start date</th>\n",
              "      <th>End date</th>\n",
              "      <th>Length (days)</th>\n",
              "      <th>Start date</th>\n",
              "      <th>End date</th>\n",
              "      <th>Length (days)</th>\n",
              "      <th>Total length (days)</th>\n",
              "      <th>Level</th>\n",
              "    </tr>\n",
              "  </thead>\n",
              "  <tbody>\n",
              "    <tr>\n",
              "      <th>0</th>\n",
              "      <td>Albania</td>\n",
              "      <td>Albania</td>\n",
              "      <td>2020-03-13[78]</td>\n",
              "      <td>2020-06-01[79]</td>\n",
              "      <td>80</td>\n",
              "      <td>NaN</td>\n",
              "      <td>NaN</td>\n",
              "      <td>NaN</td>\n",
              "      <td>NaN</td>\n",
              "      <td>NaN</td>\n",
              "      <td>NaN</td>\n",
              "      <td>NaN</td>\n",
              "      <td>NaN</td>\n",
              "      <td>NaN</td>\n",
              "      <td>NaN</td>\n",
              "      <td>NaN</td>\n",
              "      <td>NaN</td>\n",
              "      <td>NaN</td>\n",
              "      <td>NaN</td>\n",
              "      <td>NaN</td>\n",
              "      <td>NaN</td>\n",
              "      <td>NaN</td>\n",
              "      <td>NaN</td>\n",
              "      <td>NaN</td>\n",
              "      <td>NaN</td>\n",
              "      <td>NaN</td>\n",
              "      <td>80</td>\n",
              "      <td>National</td>\n",
              "    </tr>\n",
              "    <tr>\n",
              "      <th>1</th>\n",
              "      <td>Algeria</td>\n",
              "      <td>Algiers</td>\n",
              "      <td>2020-03-23[80]</td>\n",
              "      <td>2020-05-14[81]</td>\n",
              "      <td>52</td>\n",
              "      <td>NaN</td>\n",
              "      <td>NaN</td>\n",
              "      <td>NaN</td>\n",
              "      <td>NaN</td>\n",
              "      <td>NaN</td>\n",
              "      <td>NaN</td>\n",
              "      <td>NaN</td>\n",
              "      <td>NaN</td>\n",
              "      <td>NaN</td>\n",
              "      <td>NaN</td>\n",
              "      <td>NaN</td>\n",
              "      <td>NaN</td>\n",
              "      <td>NaN</td>\n",
              "      <td>NaN</td>\n",
              "      <td>NaN</td>\n",
              "      <td>NaN</td>\n",
              "      <td>NaN</td>\n",
              "      <td>NaN</td>\n",
              "      <td>NaN</td>\n",
              "      <td>NaN</td>\n",
              "      <td>NaN</td>\n",
              "      <td>52</td>\n",
              "      <td>City</td>\n",
              "    </tr>\n",
              "    <tr>\n",
              "      <th>2</th>\n",
              "      <td>Algeria</td>\n",
              "      <td>Blida</td>\n",
              "      <td>2020-03-23[80]</td>\n",
              "      <td>2020-05-14[81]</td>\n",
              "      <td>52</td>\n",
              "      <td>NaN</td>\n",
              "      <td>NaN</td>\n",
              "      <td>NaN</td>\n",
              "      <td>NaN</td>\n",
              "      <td>NaN</td>\n",
              "      <td>NaN</td>\n",
              "      <td>NaN</td>\n",
              "      <td>NaN</td>\n",
              "      <td>NaN</td>\n",
              "      <td>NaN</td>\n",
              "      <td>NaN</td>\n",
              "      <td>NaN</td>\n",
              "      <td>NaN</td>\n",
              "      <td>NaN</td>\n",
              "      <td>NaN</td>\n",
              "      <td>NaN</td>\n",
              "      <td>NaN</td>\n",
              "      <td>NaN</td>\n",
              "      <td>NaN</td>\n",
              "      <td>NaN</td>\n",
              "      <td>NaN</td>\n",
              "      <td>52</td>\n",
              "      <td>City</td>\n",
              "    </tr>\n",
              "    <tr>\n",
              "      <th>3</th>\n",
              "      <td>Argentina</td>\n",
              "      <td>Greater Buenos Aires</td>\n",
              "      <td>2020-03-19[82]</td>\n",
              "      <td>2020-11-08[83]</td>\n",
              "      <td>234</td>\n",
              "      <td>2021-05-22[84]</td>\n",
              "      <td>2021-05-30</td>\n",
              "      <td>9</td>\n",
              "      <td>2021-06-05[85]</td>\n",
              "      <td>2021-06-06</td>\n",
              "      <td>2</td>\n",
              "      <td>NaN</td>\n",
              "      <td>NaN</td>\n",
              "      <td>NaN</td>\n",
              "      <td>NaN</td>\n",
              "      <td>NaN</td>\n",
              "      <td>NaN</td>\n",
              "      <td>NaN</td>\n",
              "      <td>NaN</td>\n",
              "      <td>NaN</td>\n",
              "      <td>NaN</td>\n",
              "      <td>NaN</td>\n",
              "      <td>NaN</td>\n",
              "      <td>NaN</td>\n",
              "      <td>NaN</td>\n",
              "      <td>NaN</td>\n",
              "      <td>245</td>\n",
              "      <td>Metropolitan area</td>\n",
              "    </tr>\n",
              "    <tr>\n",
              "      <th>4</th>\n",
              "      <td>Argentina</td>\n",
              "      <td>Rest of the country</td>\n",
              "      <td>2020-03-19[82]</td>\n",
              "      <td>2020-05-10[86]</td>\n",
              "      <td>52</td>\n",
              "      <td>2021-05-22[84]</td>\n",
              "      <td>2021-05-30</td>\n",
              "      <td>9</td>\n",
              "      <td>2021-06-05[85]</td>\n",
              "      <td>2021-06-06</td>\n",
              "      <td>2</td>\n",
              "      <td>NaN</td>\n",
              "      <td>NaN</td>\n",
              "      <td>NaN</td>\n",
              "      <td>NaN</td>\n",
              "      <td>NaN</td>\n",
              "      <td>NaN</td>\n",
              "      <td>NaN</td>\n",
              "      <td>NaN</td>\n",
              "      <td>NaN</td>\n",
              "      <td>NaN</td>\n",
              "      <td>NaN</td>\n",
              "      <td>NaN</td>\n",
              "      <td>NaN</td>\n",
              "      <td>NaN</td>\n",
              "      <td>NaN</td>\n",
              "      <td>63</td>\n",
              "      <td>National</td>\n",
              "    </tr>\n",
              "    <tr>\n",
              "      <th>...</th>\n",
              "      <td>...</td>\n",
              "      <td>...</td>\n",
              "      <td>...</td>\n",
              "      <td>...</td>\n",
              "      <td>...</td>\n",
              "      <td>...</td>\n",
              "      <td>...</td>\n",
              "      <td>...</td>\n",
              "      <td>...</td>\n",
              "      <td>...</td>\n",
              "      <td>...</td>\n",
              "      <td>...</td>\n",
              "      <td>...</td>\n",
              "      <td>...</td>\n",
              "      <td>...</td>\n",
              "      <td>...</td>\n",
              "      <td>...</td>\n",
              "      <td>...</td>\n",
              "      <td>...</td>\n",
              "      <td>...</td>\n",
              "      <td>...</td>\n",
              "      <td>...</td>\n",
              "      <td>...</td>\n",
              "      <td>...</td>\n",
              "      <td>...</td>\n",
              "      <td>...</td>\n",
              "      <td>...</td>\n",
              "      <td>...</td>\n",
              "    </tr>\n",
              "    <tr>\n",
              "      <th>234</th>\n",
              "      <td>Vietnam</td>\n",
              "      <td>Da Nang</td>\n",
              "      <td>NaN</td>\n",
              "      <td>NaN</td>\n",
              "      <td>21</td>\n",
              "      <td>2020-07-28[493]</td>\n",
              "      <td>2020-09-05[494]</td>\n",
              "      <td>39</td>\n",
              "      <td>NaN</td>\n",
              "      <td>NaN</td>\n",
              "      <td>NaN</td>\n",
              "      <td>NaN</td>\n",
              "      <td>NaN</td>\n",
              "      <td>NaN</td>\n",
              "      <td>NaN</td>\n",
              "      <td>NaN</td>\n",
              "      <td>NaN</td>\n",
              "      <td>NaN</td>\n",
              "      <td>NaN</td>\n",
              "      <td>NaN</td>\n",
              "      <td>NaN</td>\n",
              "      <td>NaN</td>\n",
              "      <td>NaN</td>\n",
              "      <td>NaN</td>\n",
              "      <td>NaN</td>\n",
              "      <td>NaN</td>\n",
              "      <td>60</td>\n",
              "      <td>City</td>\n",
              "    </tr>\n",
              "    <tr>\n",
              "      <th>235</th>\n",
              "      <td>Vietnam</td>\n",
              "      <td>Hai Duong</td>\n",
              "      <td>NaN</td>\n",
              "      <td>NaN</td>\n",
              "      <td>21</td>\n",
              "      <td>2021-02-16[495]</td>\n",
              "      <td>2021-03-02</td>\n",
              "      <td>14</td>\n",
              "      <td>NaN</td>\n",
              "      <td>NaN</td>\n",
              "      <td>NaN</td>\n",
              "      <td>NaN</td>\n",
              "      <td>NaN</td>\n",
              "      <td>NaN</td>\n",
              "      <td>NaN</td>\n",
              "      <td>NaN</td>\n",
              "      <td>NaN</td>\n",
              "      <td>NaN</td>\n",
              "      <td>NaN</td>\n",
              "      <td>NaN</td>\n",
              "      <td>NaN</td>\n",
              "      <td>NaN</td>\n",
              "      <td>NaN</td>\n",
              "      <td>NaN</td>\n",
              "      <td>NaN</td>\n",
              "      <td>NaN</td>\n",
              "      <td>35</td>\n",
              "      <td>Province, Chi Linh city lockdown began from 28...</td>\n",
              "    </tr>\n",
              "    <tr>\n",
              "      <th>236</th>\n",
              "      <td>Vietnam</td>\n",
              "      <td>Bac Ninh</td>\n",
              "      <td>NaN</td>\n",
              "      <td>NaN</td>\n",
              "      <td>21</td>\n",
              "      <td>2021-05-18[496][497]</td>\n",
              "      <td>NaN</td>\n",
              "      <td>23</td>\n",
              "      <td>NaN</td>\n",
              "      <td>NaN</td>\n",
              "      <td>NaN</td>\n",
              "      <td>NaN</td>\n",
              "      <td>NaN</td>\n",
              "      <td>NaN</td>\n",
              "      <td>NaN</td>\n",
              "      <td>NaN</td>\n",
              "      <td>NaN</td>\n",
              "      <td>NaN</td>\n",
              "      <td>NaN</td>\n",
              "      <td>NaN</td>\n",
              "      <td>NaN</td>\n",
              "      <td>NaN</td>\n",
              "      <td>NaN</td>\n",
              "      <td>NaN</td>\n",
              "      <td>NaN</td>\n",
              "      <td>NaN</td>\n",
              "      <td>23</td>\n",
              "      <td>4 districts and 1 city</td>\n",
              "    </tr>\n",
              "    <tr>\n",
              "      <th>237</th>\n",
              "      <td>Vietnam</td>\n",
              "      <td>Bac Giang</td>\n",
              "      <td>NaN</td>\n",
              "      <td>NaN</td>\n",
              "      <td>21</td>\n",
              "      <td>2021-05-18[498][499]</td>\n",
              "      <td>NaN</td>\n",
              "      <td>23</td>\n",
              "      <td>NaN</td>\n",
              "      <td>NaN</td>\n",
              "      <td>NaN</td>\n",
              "      <td>NaN</td>\n",
              "      <td>NaN</td>\n",
              "      <td>NaN</td>\n",
              "      <td>NaN</td>\n",
              "      <td>NaN</td>\n",
              "      <td>NaN</td>\n",
              "      <td>NaN</td>\n",
              "      <td>NaN</td>\n",
              "      <td>NaN</td>\n",
              "      <td>NaN</td>\n",
              "      <td>NaN</td>\n",
              "      <td>NaN</td>\n",
              "      <td>NaN</td>\n",
              "      <td>NaN</td>\n",
              "      <td>NaN</td>\n",
              "      <td>23</td>\n",
              "      <td>6 districts</td>\n",
              "    </tr>\n",
              "    <tr>\n",
              "      <th>238</th>\n",
              "      <td>Zimbabwe</td>\n",
              "      <td>Zimbabwe</td>\n",
              "      <td>2020-03-30[500]</td>\n",
              "      <td>2020-05-02[501]</td>\n",
              "      <td>33</td>\n",
              "      <td>NaN</td>\n",
              "      <td>NaN</td>\n",
              "      <td>NaN</td>\n",
              "      <td>NaN</td>\n",
              "      <td>NaN</td>\n",
              "      <td>NaN</td>\n",
              "      <td>NaN</td>\n",
              "      <td>NaN</td>\n",
              "      <td>NaN</td>\n",
              "      <td>NaN</td>\n",
              "      <td>NaN</td>\n",
              "      <td>NaN</td>\n",
              "      <td>NaN</td>\n",
              "      <td>NaN</td>\n",
              "      <td>NaN</td>\n",
              "      <td>NaN</td>\n",
              "      <td>NaN</td>\n",
              "      <td>NaN</td>\n",
              "      <td>NaN</td>\n",
              "      <td>NaN</td>\n",
              "      <td>NaN</td>\n",
              "      <td>33</td>\n",
              "      <td>National</td>\n",
              "    </tr>\n",
              "  </tbody>\n",
              "</table>\n",
              "<p>239 rows × 28 columns</p>\n",
              "</div>"
            ],
            "text/plain": [
              "    vteCOVID-19 pandemic lockdowns  ...                                                   \n",
              "               Country / territory  ...                                              Level\n",
              "               Country / territory  ...                                              Level\n",
              "0                          Albania  ...                                           National\n",
              "1                          Algeria  ...                                               City\n",
              "2                          Algeria  ...                                               City\n",
              "3                        Argentina  ...                                  Metropolitan area\n",
              "4                        Argentina  ...                                           National\n",
              "..                             ...  ...                                                ...\n",
              "234                        Vietnam  ...                                               City\n",
              "235                        Vietnam  ...  Province, Chi Linh city lockdown began from 28...\n",
              "236                        Vietnam  ...                             4 districts and 1 city\n",
              "237                        Vietnam  ...                                        6 districts\n",
              "238                       Zimbabwe  ...                                           National\n",
              "\n",
              "[239 rows x 28 columns]"
            ]
          },
          "metadata": {},
          "execution_count": 6
        }
      ]
    },
    {
      "cell_type": "code",
      "metadata": {
        "colab": {
          "base_uri": "https://localhost:8080/",
          "height": 34
        },
        "id": "1Hhq6c5PJww0",
        "outputId": "7901a850-c84e-4105-f7a3-a203a2cae998"
      },
      "source": [
        "type(x.columns[0])"
      ],
      "execution_count": 7,
      "outputs": [
        {
          "output_type": "display_data",
          "data": {
            "text/html": [
              "\n",
              "  <style>\n",
              "    pre {\n",
              "        white-space: pre-wrap;\n",
              "    }\n",
              "  </style>\n",
              "  "
            ],
            "text/plain": [
              "<IPython.core.display.HTML object>"
            ]
          },
          "metadata": {}
        },
        {
          "output_type": "execute_result",
          "data": {
            "text/plain": [
              "tuple"
            ]
          },
          "metadata": {},
          "execution_count": 7
        }
      ]
    },
    {
      "cell_type": "code",
      "metadata": {
        "colab": {
          "base_uri": "https://localhost:8080/",
          "height": 68
        },
        "id": "QrlCfowYJ8Xe",
        "outputId": "2f28c049-0b71-4daa-e509-900ca0d15ba1"
      },
      "source": [
        "x.columns[0]"
      ],
      "execution_count": 8,
      "outputs": [
        {
          "output_type": "display_data",
          "data": {
            "text/html": [
              "\n",
              "  <style>\n",
              "    pre {\n",
              "        white-space: pre-wrap;\n",
              "    }\n",
              "  </style>\n",
              "  "
            ],
            "text/plain": [
              "<IPython.core.display.HTML object>"
            ]
          },
          "metadata": {}
        },
        {
          "output_type": "execute_result",
          "data": {
            "text/plain": [
              "('vteCOVID-19 pandemic lockdowns',\n",
              " 'Country / territory',\n",
              " 'Country / territory')"
            ]
          },
          "metadata": {},
          "execution_count": 8
        }
      ]
    },
    {
      "cell_type": "code",
      "metadata": {
        "colab": {
          "base_uri": "https://localhost:8080/",
          "height": 612
        },
        "id": "w5t1j1XoIUNE",
        "outputId": "87816778-8490-4d96-b0fc-fb686b39039e"
      },
      "source": [
        "x.info()"
      ],
      "execution_count": 9,
      "outputs": [
        {
          "output_type": "display_data",
          "data": {
            "text/html": [
              "\n",
              "  <style>\n",
              "    pre {\n",
              "        white-space: pre-wrap;\n",
              "    }\n",
              "  </style>\n",
              "  "
            ],
            "text/plain": [
              "<IPython.core.display.HTML object>"
            ]
          },
          "metadata": {}
        },
        {
          "output_type": "stream",
          "name": "stdout",
          "text": [
            "<class 'pandas.core.frame.DataFrame'>\n",
            "RangeIndex: 239 entries, 0 to 238\n",
            "Data columns (total 28 columns):\n",
            " #   Column                                                                      Non-Null Count  Dtype \n",
            "---  ------                                                                      --------------  ----- \n",
            " 0   (vteCOVID-19 pandemic lockdowns, Country / territory, Country / territory)  239 non-null    object\n",
            " 1   (vteCOVID-19 pandemic lockdowns, Place, Place)                              238 non-null    object\n",
            " 2   (vteCOVID-19 pandemic lockdowns, First lockdown, Start date)                152 non-null    object\n",
            " 3   (vteCOVID-19 pandemic lockdowns, First lockdown, End date)                  152 non-null    object\n",
            " 4   (vteCOVID-19 pandemic lockdowns, First lockdown, Length (days))             175 non-null    object\n",
            " 5   (vteCOVID-19 pandemic lockdowns, Second lockdown, Start date)               132 non-null    object\n",
            " 6   (vteCOVID-19 pandemic lockdowns, Second lockdown, End date)                 124 non-null    object\n",
            " 7   (vteCOVID-19 pandemic lockdowns, Second lockdown, Length (days))            128 non-null    object\n",
            " 8   (vteCOVID-19 pandemic lockdowns, Third lockdown, Start date)                57 non-null     object\n",
            " 9   (vteCOVID-19 pandemic lockdowns, Third lockdown, End date)                  57 non-null     object\n",
            " 10  (vteCOVID-19 pandemic lockdowns, Third lockdown, Length (days))             58 non-null     object\n",
            " 11  (vteCOVID-19 pandemic lockdowns, Fourth lockdown, Start date)               16 non-null     object\n",
            " 12  (vteCOVID-19 pandemic lockdowns, Fourth lockdown, End date)                 16 non-null     object\n",
            " 13  (vteCOVID-19 pandemic lockdowns, Fourth lockdown, Length (days))            16 non-null     object\n",
            " 14  (vteCOVID-19 pandemic lockdowns, Fifth lockdown, Start date)                11 non-null     object\n",
            " 15  (vteCOVID-19 pandemic lockdowns, Fifth lockdown, End date)                  11 non-null     object\n",
            " 16  (vteCOVID-19 pandemic lockdowns, Fifth lockdown, Length (days))             11 non-null     object\n",
            " 17  (vteCOVID-19 pandemic lockdowns, Sixth lockdown, Start date)                9 non-null      object\n",
            " 18  (vteCOVID-19 pandemic lockdowns, Sixth lockdown, End date)                  9 non-null      object\n",
            " 19  (vteCOVID-19 pandemic lockdowns, Sixth lockdown, Length (days))             9 non-null      object\n",
            " 20  (vteCOVID-19 pandemic lockdowns, Seventh lockdown, Start date)              8 non-null      object\n",
            " 21  (vteCOVID-19 pandemic lockdowns, Seventh lockdown, End date)                8 non-null      object\n",
            " 22  (vteCOVID-19 pandemic lockdowns, Seventh lockdown, Length (days))           8 non-null      object\n",
            " 23  (vteCOVID-19 pandemic lockdowns, Eighth lockdown, Start date)               7 non-null      object\n",
            " 24  (vteCOVID-19 pandemic lockdowns, Eighth lockdown, End date)                 7 non-null      object\n",
            " 25  (vteCOVID-19 pandemic lockdowns, Eighth lockdown, Length (days))            7 non-null      object\n",
            " 26  (vteCOVID-19 pandemic lockdowns, Total length (days), Total length (days))  239 non-null    object\n",
            " 27  (vteCOVID-19 pandemic lockdowns, Level, Level)                              239 non-null    object\n",
            "dtypes: object(28)\n",
            "memory usage: 52.4+ KB\n"
          ]
        }
      ]
    },
    {
      "cell_type": "code",
      "metadata": {
        "colab": {
          "base_uri": "https://localhost:8080/",
          "height": 17
        },
        "id": "1cHTFPuIDWjy",
        "outputId": "9cb73303-0063-44c7-9d74-67395c34f415"
      },
      "source": [
        "pd.set_option('display.max_rows', 500)\n",
        "pd.set_option('display.max_columns', 500)\n",
        "pd.set_option('display.width', 1000)"
      ],
      "execution_count": 25,
      "outputs": [
        {
          "output_type": "display_data",
          "data": {
            "text/html": [
              "\n",
              "  <style>\n",
              "    pre {\n",
              "        white-space: pre-wrap;\n",
              "    }\n",
              "  </style>\n",
              "  "
            ],
            "text/plain": [
              "<IPython.core.display.HTML object>"
            ]
          },
          "metadata": {}
        }
      ]
    },
    {
      "cell_type": "code",
      "metadata": {
        "colab": {
          "base_uri": "https://localhost:8080/",
          "height": 309
        },
        "id": "pDSH0CM-CURZ",
        "outputId": "e0e439b7-108a-4c71-cc3c-9d4339b02993"
      },
      "source": [
        "x.head()"
      ],
      "execution_count": 27,
      "outputs": [
        {
          "output_type": "display_data",
          "data": {
            "text/html": [
              "\n",
              "  <style>\n",
              "    pre {\n",
              "        white-space: pre-wrap;\n",
              "    }\n",
              "  </style>\n",
              "  "
            ],
            "text/plain": [
              "<IPython.core.display.HTML object>"
            ]
          },
          "metadata": {}
        },
        {
          "output_type": "stream",
          "name": "stdout",
          "text": [
            "Warning: Total number of columns (28) exceeds max_columns (20). Falling back to pandas display.\n"
          ]
        },
        {
          "output_type": "execute_result",
          "data": {
            "text/html": [
              "<div>\n",
              "<style scoped>\n",
              "    .dataframe tbody tr th:only-of-type {\n",
              "        vertical-align: middle;\n",
              "    }\n",
              "\n",
              "    .dataframe tbody tr th {\n",
              "        vertical-align: top;\n",
              "    }\n",
              "\n",
              "    .dataframe thead th {\n",
              "        text-align: right;\n",
              "    }\n",
              "</style>\n",
              "<table border=\"1\" class=\"dataframe\">\n",
              "  <thead>\n",
              "    <tr style=\"text-align: right;\">\n",
              "      <th></th>\n",
              "      <th>country_territory</th>\n",
              "      <th>place</th>\n",
              "      <th>first_lockdown_start_date</th>\n",
              "      <th>first_lockdown_end_date</th>\n",
              "      <th>first_lockdown_length</th>\n",
              "      <th>second_lockdown_start_date</th>\n",
              "      <th>second_lockdown_end_date</th>\n",
              "      <th>second_lockdown_length</th>\n",
              "      <th>third_lockdown_start_date</th>\n",
              "      <th>third_lockdown_end_date</th>\n",
              "      <th>third_lockdown_length</th>\n",
              "      <th>fourth_lockdown_start_date</th>\n",
              "      <th>fourth_lockdown_end_date</th>\n",
              "      <th>fourth_lockdown_length</th>\n",
              "      <th>fifth_lockdown_start_date</th>\n",
              "      <th>fifth_lockdown_end_date</th>\n",
              "      <th>fifth_lockdown_length</th>\n",
              "      <th>sixth_lockdown_start_date</th>\n",
              "      <th>sixth_lockdown_end_date</th>\n",
              "      <th>sixth_lockdown_length</th>\n",
              "      <th>seventh_lockdown_start_date</th>\n",
              "      <th>seventh_lockdown_end_date</th>\n",
              "      <th>seventh_lockdown_length</th>\n",
              "      <th>eighth_lockdown_start_date</th>\n",
              "      <th>eighth_lockdown_end_date</th>\n",
              "      <th>eighth_lockdown_length</th>\n",
              "      <th>total_length</th>\n",
              "      <th>level</th>\n",
              "    </tr>\n",
              "  </thead>\n",
              "  <tbody>\n",
              "    <tr>\n",
              "      <th>0</th>\n",
              "      <td>Albania</td>\n",
              "      <td>Albania</td>\n",
              "      <td>2020-03-13[78]</td>\n",
              "      <td>2020-06-01[79]</td>\n",
              "      <td>80</td>\n",
              "      <td>NaN</td>\n",
              "      <td>NaN</td>\n",
              "      <td>NaN</td>\n",
              "      <td>NaN</td>\n",
              "      <td>NaN</td>\n",
              "      <td>NaN</td>\n",
              "      <td>NaN</td>\n",
              "      <td>NaN</td>\n",
              "      <td>NaN</td>\n",
              "      <td>NaN</td>\n",
              "      <td>NaN</td>\n",
              "      <td>NaN</td>\n",
              "      <td>NaN</td>\n",
              "      <td>NaN</td>\n",
              "      <td>NaN</td>\n",
              "      <td>NaN</td>\n",
              "      <td>NaN</td>\n",
              "      <td>NaN</td>\n",
              "      <td>NaN</td>\n",
              "      <td>NaN</td>\n",
              "      <td>NaN</td>\n",
              "      <td>80</td>\n",
              "      <td>National</td>\n",
              "    </tr>\n",
              "    <tr>\n",
              "      <th>1</th>\n",
              "      <td>Algeria</td>\n",
              "      <td>Algiers</td>\n",
              "      <td>2020-03-23[80]</td>\n",
              "      <td>2020-05-14[81]</td>\n",
              "      <td>52</td>\n",
              "      <td>NaN</td>\n",
              "      <td>NaN</td>\n",
              "      <td>NaN</td>\n",
              "      <td>NaN</td>\n",
              "      <td>NaN</td>\n",
              "      <td>NaN</td>\n",
              "      <td>NaN</td>\n",
              "      <td>NaN</td>\n",
              "      <td>NaN</td>\n",
              "      <td>NaN</td>\n",
              "      <td>NaN</td>\n",
              "      <td>NaN</td>\n",
              "      <td>NaN</td>\n",
              "      <td>NaN</td>\n",
              "      <td>NaN</td>\n",
              "      <td>NaN</td>\n",
              "      <td>NaN</td>\n",
              "      <td>NaN</td>\n",
              "      <td>NaN</td>\n",
              "      <td>NaN</td>\n",
              "      <td>NaN</td>\n",
              "      <td>52</td>\n",
              "      <td>City</td>\n",
              "    </tr>\n",
              "    <tr>\n",
              "      <th>2</th>\n",
              "      <td>Algeria</td>\n",
              "      <td>Blida</td>\n",
              "      <td>2020-03-23[80]</td>\n",
              "      <td>2020-05-14[81]</td>\n",
              "      <td>52</td>\n",
              "      <td>NaN</td>\n",
              "      <td>NaN</td>\n",
              "      <td>NaN</td>\n",
              "      <td>NaN</td>\n",
              "      <td>NaN</td>\n",
              "      <td>NaN</td>\n",
              "      <td>NaN</td>\n",
              "      <td>NaN</td>\n",
              "      <td>NaN</td>\n",
              "      <td>NaN</td>\n",
              "      <td>NaN</td>\n",
              "      <td>NaN</td>\n",
              "      <td>NaN</td>\n",
              "      <td>NaN</td>\n",
              "      <td>NaN</td>\n",
              "      <td>NaN</td>\n",
              "      <td>NaN</td>\n",
              "      <td>NaN</td>\n",
              "      <td>NaN</td>\n",
              "      <td>NaN</td>\n",
              "      <td>NaN</td>\n",
              "      <td>52</td>\n",
              "      <td>City</td>\n",
              "    </tr>\n",
              "    <tr>\n",
              "      <th>3</th>\n",
              "      <td>Argentina</td>\n",
              "      <td>Greater Buenos Aires</td>\n",
              "      <td>2020-03-19[82]</td>\n",
              "      <td>2020-11-08[83]</td>\n",
              "      <td>234</td>\n",
              "      <td>2021-05-22[84]</td>\n",
              "      <td>2021-05-30</td>\n",
              "      <td>9</td>\n",
              "      <td>2021-06-05[85]</td>\n",
              "      <td>2021-06-06</td>\n",
              "      <td>2</td>\n",
              "      <td>NaN</td>\n",
              "      <td>NaN</td>\n",
              "      <td>NaN</td>\n",
              "      <td>NaN</td>\n",
              "      <td>NaN</td>\n",
              "      <td>NaN</td>\n",
              "      <td>NaN</td>\n",
              "      <td>NaN</td>\n",
              "      <td>NaN</td>\n",
              "      <td>NaN</td>\n",
              "      <td>NaN</td>\n",
              "      <td>NaN</td>\n",
              "      <td>NaN</td>\n",
              "      <td>NaN</td>\n",
              "      <td>NaN</td>\n",
              "      <td>245</td>\n",
              "      <td>Metropolitan area</td>\n",
              "    </tr>\n",
              "    <tr>\n",
              "      <th>4</th>\n",
              "      <td>Argentina</td>\n",
              "      <td>Rest of the country</td>\n",
              "      <td>2020-03-19[82]</td>\n",
              "      <td>2020-05-10[86]</td>\n",
              "      <td>52</td>\n",
              "      <td>2021-05-22[84]</td>\n",
              "      <td>2021-05-30</td>\n",
              "      <td>9</td>\n",
              "      <td>2021-06-05[85]</td>\n",
              "      <td>2021-06-06</td>\n",
              "      <td>2</td>\n",
              "      <td>NaN</td>\n",
              "      <td>NaN</td>\n",
              "      <td>NaN</td>\n",
              "      <td>NaN</td>\n",
              "      <td>NaN</td>\n",
              "      <td>NaN</td>\n",
              "      <td>NaN</td>\n",
              "      <td>NaN</td>\n",
              "      <td>NaN</td>\n",
              "      <td>NaN</td>\n",
              "      <td>NaN</td>\n",
              "      <td>NaN</td>\n",
              "      <td>NaN</td>\n",
              "      <td>NaN</td>\n",
              "      <td>NaN</td>\n",
              "      <td>63</td>\n",
              "      <td>National</td>\n",
              "    </tr>\n",
              "  </tbody>\n",
              "</table>\n",
              "</div>"
            ],
            "text/plain": [
              "  country_territory                 place first_lockdown_start_date first_lockdown_end_date first_lockdown_length second_lockdown_start_date second_lockdown_end_date second_lockdown_length third_lockdown_start_date third_lockdown_end_date third_lockdown_length fourth_lockdown_start_date fourth_lockdown_end_date fourth_lockdown_length fifth_lockdown_start_date fifth_lockdown_end_date fifth_lockdown_length sixth_lockdown_start_date sixth_lockdown_end_date sixth_lockdown_length seventh_lockdown_start_date seventh_lockdown_end_date seventh_lockdown_length eighth_lockdown_start_date eighth_lockdown_end_date eighth_lockdown_length total_length              level\n",
              "0           Albania               Albania            2020-03-13[78]          2020-06-01[79]                    80                        NaN                      NaN                    NaN                       NaN                     NaN                   NaN                        NaN                      NaN                    NaN                       NaN                     NaN                   NaN                       NaN                     NaN                   NaN                         NaN                       NaN                     NaN                        NaN                      NaN                    NaN           80           National\n",
              "1           Algeria               Algiers            2020-03-23[80]          2020-05-14[81]                    52                        NaN                      NaN                    NaN                       NaN                     NaN                   NaN                        NaN                      NaN                    NaN                       NaN                     NaN                   NaN                       NaN                     NaN                   NaN                         NaN                       NaN                     NaN                        NaN                      NaN                    NaN           52               City\n",
              "2           Algeria                 Blida            2020-03-23[80]          2020-05-14[81]                    52                        NaN                      NaN                    NaN                       NaN                     NaN                   NaN                        NaN                      NaN                    NaN                       NaN                     NaN                   NaN                       NaN                     NaN                   NaN                         NaN                       NaN                     NaN                        NaN                      NaN                    NaN           52               City\n",
              "3         Argentina  Greater Buenos Aires            2020-03-19[82]          2020-11-08[83]                   234             2021-05-22[84]               2021-05-30                      9            2021-06-05[85]              2021-06-06                     2                        NaN                      NaN                    NaN                       NaN                     NaN                   NaN                       NaN                     NaN                   NaN                         NaN                       NaN                     NaN                        NaN                      NaN                    NaN          245  Metropolitan area\n",
              "4         Argentina   Rest of the country            2020-03-19[82]          2020-05-10[86]                    52             2021-05-22[84]               2021-05-30                      9            2021-06-05[85]              2021-06-06                     2                        NaN                      NaN                    NaN                       NaN                     NaN                   NaN                       NaN                     NaN                   NaN                         NaN                       NaN                     NaN                        NaN                      NaN                    NaN           63           National"
            ]
          },
          "metadata": {},
          "execution_count": 27
        }
      ]
    },
    {
      "cell_type": "code",
      "metadata": {
        "colab": {
          "base_uri": "https://localhost:8080/",
          "height": 17
        },
        "id": "mZch2nBbIUK2",
        "outputId": "0cd8b808-1453-4864-d707-98bd93c9ce4c"
      },
      "source": [
        "import re"
      ],
      "execution_count": 22,
      "outputs": [
        {
          "output_type": "display_data",
          "data": {
            "text/html": [
              "\n",
              "  <style>\n",
              "    pre {\n",
              "        white-space: pre-wrap;\n",
              "    }\n",
              "  </style>\n",
              "  "
            ],
            "text/plain": [
              "<IPython.core.display.HTML object>"
            ]
          },
          "metadata": {}
        }
      ]
    },
    {
      "cell_type": "code",
      "metadata": {
        "colab": {
          "base_uri": "https://localhost:8080/",
          "height": 102
        },
        "id": "XD4tVtb0IUJK",
        "outputId": "d412c25b-8524-462c-fc90-6792a78748e6"
      },
      "source": [
        "# remove references from the dates columns\n",
        "test_cases = [\n",
        "  '2020-03-13[78]',\n",
        "  '2021-05-18[496][497]',\n",
        "  '2021-06-06',\n",
        "  '2020-05-02 [501]',\n",
        "  '2020-03-27[af][353]'\n",
        "]\n",
        "\n",
        "for old in test_cases:\n",
        "  # new = re.sub('\\[\\d+\\]', '', old).strip()\n",
        "  new = re.sub('\\[\\w+\\]', '', old).strip()\n",
        "  print(f'{old:20}\\t{new}')"
      ],
      "execution_count": 32,
      "outputs": [
        {
          "output_type": "display_data",
          "data": {
            "text/html": [
              "\n",
              "  <style>\n",
              "    pre {\n",
              "        white-space: pre-wrap;\n",
              "    }\n",
              "  </style>\n",
              "  "
            ],
            "text/plain": [
              "<IPython.core.display.HTML object>"
            ]
          },
          "metadata": {}
        },
        {
          "output_type": "stream",
          "name": "stdout",
          "text": [
            "2020-03-13[78]      \t2020-03-13\n",
            "2021-05-18[496][497]\t2021-05-18\n",
            "2021-06-06          \t2021-06-06\n",
            "2020-05-02 [501]    \t2020-05-02\n",
            "2020-03-27[af][353] \t2020-03-27\n"
          ]
        }
      ]
    },
    {
      "cell_type": "code",
      "metadata": {
        "colab": {
          "base_uri": "https://localhost:8080/",
          "height": 340
        },
        "id": "Y75PFdjxIUD-",
        "outputId": "a3046db0-6206-40d2-b2d7-9ce159a1c163"
      },
      "source": [
        "# countries found in the dataset\n",
        "x[x.columns[0]].unique()"
      ],
      "execution_count": 24,
      "outputs": [
        {
          "output_type": "display_data",
          "data": {
            "text/html": [
              "\n",
              "  <style>\n",
              "    pre {\n",
              "        white-space: pre-wrap;\n",
              "    }\n",
              "  </style>\n",
              "  "
            ],
            "text/plain": [
              "<IPython.core.display.HTML object>"
            ]
          },
          "metadata": {}
        },
        {
          "output_type": "execute_result",
          "data": {
            "text/plain": [
              "array(['Albania', 'Algeria', 'Argentina', 'Armenia', 'Australia',\n",
              "       'Austria', 'Azerbaijan', 'Bangladesh', 'Barbados', 'Belgium',\n",
              "       'Bermuda', 'Bhutan', 'Bolivia', 'Botswana', 'Brazil', 'Bulgaria',\n",
              "       'Cambodia', 'Canada', 'Colombia', 'Congo', 'Costa Rica', 'Croatia',\n",
              "       'Cyprus', 'Czech Republic', 'Denmark', 'Ecuador', 'El Salvador',\n",
              "       'Eritrea', 'Estonia', 'Fiji', 'France', 'Finland', 'Georgia',\n",
              "       'Germany', 'Ghana', 'Greece', 'Guernsey', 'Honduras', 'Hungary',\n",
              "       'India', 'Iran', 'Iraq', 'Ireland', 'Israel', 'Italy', 'Jamaica',\n",
              "       'Jordan', 'Kosovo', 'Kuwait', 'Lebanon', 'Libya', 'Lithuania',\n",
              "       'Madagascar', 'Malaysia', 'Mexico', 'Mongolia', 'Montenegro',\n",
              "       'Morocco', 'Namibia', 'Nepal', 'Netherlands', 'New Zealand',\n",
              "       'Nigeria', 'Northern Cyprus', 'North Korea', 'Oman', 'Pakistan',\n",
              "       'Panama', 'Papua New Guinea', 'Paraguay', 'Peru', 'Philippines',\n",
              "       'Poland', 'Portugal', 'Qatar', 'Romania', 'Russia', 'Rwanda',\n",
              "       'Samoa', 'San Marino', 'Saudi Arabia', 'Serbia', 'Singapore',\n",
              "       'South Africa', 'Spain', 'Sri Lanka', 'Switzerland', 'Thailand',\n",
              "       'Trinidad and Tobago', 'Tunisia', 'Turkey', 'Ukraine',\n",
              "       'United Arab Emirates', 'United Kingdom', 'United States',\n",
              "       'Venezuela', 'Vietnam', 'Zimbabwe'], dtype=object)"
            ]
          },
          "metadata": {},
          "execution_count": 24
        }
      ]
    },
    {
      "cell_type": "code",
      "metadata": {
        "id": "97DvXKbLIUBx"
      },
      "source": [
        "first_row = x.loc[0]\n",
        "type(dict(first_row)[('vteCOVID-19 pandemic lockdowns', 'Eighth lockdown', 'End date')])"
      ],
      "execution_count": null,
      "outputs": []
    },
    {
      "cell_type": "code",
      "metadata": {
        "id": "JCwwFVv2O2iS"
      },
      "source": [
        "y = dict(first_row)[('vteCOVID-19 pandemic lockdowns', 'Eighth lockdown', 'End date')]\n",
        "y, type(y), repr(y)"
      ],
      "execution_count": null,
      "outputs": []
    },
    {
      "cell_type": "code",
      "metadata": {
        "id": "aVw0TCK1OvAq"
      },
      "source": [
        "import numpy as np"
      ],
      "execution_count": null,
      "outputs": []
    },
    {
      "cell_type": "code",
      "metadata": {
        "id": "wELIQKdcO_DL"
      },
      "source": [
        "np.nan, type(np.nan), repr(np.nan)"
      ],
      "execution_count": null,
      "outputs": []
    },
    {
      "cell_type": "code",
      "metadata": {
        "id": "annPVHRGIT7v"
      },
      "source": [
        "dict(first_row)[('vteCOVID-19 pandemic lockdowns', 'Eighth lockdown', 'End date')] is np.nan"
      ],
      "execution_count": null,
      "outputs": []
    },
    {
      "cell_type": "code",
      "metadata": {
        "id": "MwiaWrkPPQlA"
      },
      "source": [
        "dict(first_row)"
      ],
      "execution_count": null,
      "outputs": []
    },
    {
      "cell_type": "code",
      "metadata": {
        "id": "4UiNo6gSPKCf"
      },
      "source": [
        "dict(first_row)[('vteCOVID-19 pandemic lockdowns', 'First lockdown', 'Length (days)')] is np.nan"
      ],
      "execution_count": null,
      "outputs": []
    },
    {
      "cell_type": "code",
      "metadata": {
        "colab": {
          "base_uri": "https://localhost:8080/",
          "height": 17
        },
        "id": "UTCBmjaqPfzo",
        "outputId": "9ae66963-5e1d-4da1-8aa9-918a31e6d141"
      },
      "source": [
        "import math"
      ],
      "execution_count": 33,
      "outputs": [
        {
          "output_type": "display_data",
          "data": {
            "text/html": [
              "\n",
              "  <style>\n",
              "    pre {\n",
              "        white-space: pre-wrap;\n",
              "    }\n",
              "  </style>\n",
              "  "
            ],
            "text/plain": [
              "<IPython.core.display.HTML object>"
            ]
          },
          "metadata": {}
        }
      ]
    },
    {
      "cell_type": "code",
      "metadata": {
        "colab": {
          "base_uri": "https://localhost:8080/",
          "height": 34
        },
        "id": "qLDgjKvzPfw6",
        "outputId": "a4314b6e-98a6-4688-c62f-baeb681ebc0f"
      },
      "source": [
        "math.isnan(\n",
        "    dict(first_row)[('vteCOVID-19 pandemic lockdowns', 'Eighth lockdown', 'End date')]\n",
        ")"
      ],
      "execution_count": 21,
      "outputs": [
        {
          "output_type": "display_data",
          "data": {
            "text/html": [
              "\n",
              "  <style>\n",
              "    pre {\n",
              "        white-space: pre-wrap;\n",
              "    }\n",
              "  </style>\n",
              "  "
            ],
            "text/plain": [
              "<IPython.core.display.HTML object>"
            ]
          },
          "metadata": {}
        },
        {
          "output_type": "execute_result",
          "data": {
            "text/plain": [
              "True"
            ]
          },
          "metadata": {},
          "execution_count": 21
        }
      ]
    },
    {
      "cell_type": "code",
      "metadata": {
        "colab": {
          "base_uri": "https://localhost:8080/",
          "height": 34
        },
        "id": "y3qYLwTyPfsz",
        "outputId": "6b25063f-f1e3-4ada-8ac6-cda4f561582d"
      },
      "source": [
        "# p.s. convert numeric columns (length (days)) to float to avoid\n",
        "# converting when testing for NaN values!\n",
        "math.isnan(float(\n",
        "    dict(first_row)[('vteCOVID-19 pandemic lockdowns', 'First lockdown', 'Length (days)')]\n",
        "))"
      ],
      "execution_count": 22,
      "outputs": [
        {
          "output_type": "display_data",
          "data": {
            "text/html": [
              "\n",
              "  <style>\n",
              "    pre {\n",
              "        white-space: pre-wrap;\n",
              "    }\n",
              "  </style>\n",
              "  "
            ],
            "text/plain": [
              "<IPython.core.display.HTML object>"
            ]
          },
          "metadata": {}
        },
        {
          "output_type": "execute_result",
          "data": {
            "text/plain": [
              "False"
            ]
          },
          "metadata": {},
          "execution_count": 22
        }
      ]
    },
    {
      "cell_type": "code",
      "metadata": {
        "colab": {
          "base_uri": "https://localhost:8080/",
          "height": 170
        },
        "id": "6XpkAwrv_bkQ",
        "outputId": "e6bf8879-39bb-48ad-f3be-7e7278161970"
      },
      "source": [
        "new_columns_names = []\n",
        "for a, b, c in x.columns:\n",
        "  if b == c:\n",
        "    # if the second and third strings are the same,\n",
        "    # then, we can print only one of them\n",
        "    output = b\n",
        "  else:\n",
        "    output = f'{b}_{c}'\n",
        "  output = output.lower()         \\\n",
        "          .replace('(days)', '')  \\\n",
        "          .strip()                \\\n",
        "          .replace(' / ', '_')    \\\n",
        "          .replace(' ', '_')\n",
        "  # print(output)\n",
        "  new_columns_names.append(output)\n",
        "print(new_columns_names)"
      ],
      "execution_count": 19,
      "outputs": [
        {
          "output_type": "display_data",
          "data": {
            "text/html": [
              "\n",
              "  <style>\n",
              "    pre {\n",
              "        white-space: pre-wrap;\n",
              "    }\n",
              "  </style>\n",
              "  "
            ],
            "text/plain": [
              "<IPython.core.display.HTML object>"
            ]
          },
          "metadata": {}
        },
        {
          "output_type": "stream",
          "name": "stdout",
          "text": [
            "['country_territory', 'place', 'first_lockdown_start_date', 'first_lockdown_end_date', 'first_lockdown_length', 'second_lockdown_start_date', 'second_lockdown_end_date', 'second_lockdown_length', 'third_lockdown_start_date', 'third_lockdown_end_date', 'third_lockdown_length', 'fourth_lockdown_start_date', 'fourth_lockdown_end_date', 'fourth_lockdown_length', 'fifth_lockdown_start_date', 'fifth_lockdown_end_date', 'fifth_lockdown_length', 'sixth_lockdown_start_date', 'sixth_lockdown_end_date', 'sixth_lockdown_length', 'seventh_lockdown_start_date', 'seventh_lockdown_end_date', 'seventh_lockdown_length', 'eighth_lockdown_start_date', 'eighth_lockdown_end_date', 'eighth_lockdown_length', 'total_length', 'level']\n"
          ]
        }
      ]
    },
    {
      "cell_type": "code",
      "metadata": {
        "id": "AiGCMfgZL5d6",
        "colab": {
          "base_uri": "https://localhost:8080/",
          "height": 17
        },
        "outputId": "5a012a80-593d-4daf-b5f9-8b5c03ea88d5"
      },
      "source": [
        "# renaming columns\n",
        "# table title: COVID-19 pandemic lockdowns\n",
        "# the table title is included in all old columns, so, we can factor it out\n",
        "# the new titles will have the following form <section>_<sub-section>\n",
        "x.columns = ['country_territory', 'place', 'first_lockdown_start_date',\n",
        "             'first_lockdown_end_date', 'first_lockdown_length',\n",
        "             'second_lockdown_start_date', 'second_lockdown_end_date',\n",
        "             'second_lockdown_length', 'third_lockdown_start_date',\n",
        "             'third_lockdown_end_date', 'third_lockdown_length',\n",
        "             'fourth_lockdown_start_date', 'fourth_lockdown_end_date',\n",
        "             'fourth_lockdown_length', 'fifth_lockdown_start_date',\n",
        "             'fifth_lockdown_end_date', 'fifth_lockdown_length',\n",
        "             'sixth_lockdown_start_date', 'sixth_lockdown_end_date',\n",
        "             'sixth_lockdown_length', 'seventh_lockdown_start_date',\n",
        "             'seventh_lockdown_end_date', 'seventh_lockdown_length',\n",
        "             'eighth_lockdown_start_date', 'eighth_lockdown_end_date',\n",
        "             'eighth_lockdown_length', 'total_length', 'level']"
      ],
      "execution_count": 20,
      "outputs": [
        {
          "output_type": "display_data",
          "data": {
            "text/html": [
              "\n",
              "  <style>\n",
              "    pre {\n",
              "        white-space: pre-wrap;\n",
              "    }\n",
              "  </style>\n",
              "  "
            ],
            "text/plain": [
              "<IPython.core.display.HTML object>"
            ]
          },
          "metadata": {}
        }
      ]
    },
    {
      "cell_type": "code",
      "metadata": {
        "id": "bWsOGQltPfmb",
        "colab": {
          "base_uri": "https://localhost:8080/",
          "height": 1000
        },
        "outputId": "f078de6e-c134-4b67-c4c6-2739546ff656"
      },
      "source": [
        "for idx, value in x.first_lockdown_start_date.items():\n",
        "  print(idx, value)"
      ],
      "execution_count": 35,
      "outputs": [
        {
          "output_type": "display_data",
          "data": {
            "text/html": [
              "\n",
              "  <style>\n",
              "    pre {\n",
              "        white-space: pre-wrap;\n",
              "    }\n",
              "  </style>\n",
              "  "
            ],
            "text/plain": [
              "<IPython.core.display.HTML object>"
            ]
          },
          "metadata": {}
        },
        {
          "output_type": "stream",
          "name": "stdout",
          "text": [
            "0 2020-03-13[78]\n",
            "1 2020-03-23[80]\n",
            "2 2020-03-23[80]\n",
            "3 2020-03-19[82]\n",
            "4 2020-03-19[82]\n",
            "5 2020-03-24[87]\n",
            "6 2020-03-31[89]\n",
            "7 2020-03-31\n",
            "8 2020-03-31\n",
            "9 2020-03-31\n",
            "10 2020-03-31\n",
            "11 2020-03-31\n",
            "12 2020-03-31\n",
            "13 2020-03-31\n",
            "14 2020-03-31\n",
            "15 nan\n",
            "16 nan\n",
            "17 nan\n",
            "18 nan\n",
            "19 nan\n",
            "20 nan\n",
            "21 nan\n",
            "22 nan\n",
            "23 nan\n",
            "24 nan\n",
            "25 nan\n",
            "26 nan\n",
            "27 nan\n",
            "28 nan\n",
            "29 nan\n",
            "30 nan\n",
            "31 nan\n",
            "32 nan\n",
            "33 nan\n",
            "34 nan\n",
            "35 nan\n",
            "36 nan\n",
            "37 nan\n",
            "38 nan\n",
            "39 nan\n",
            "40 nan\n",
            "41 nan\n",
            "42 nan\n",
            "43 nan\n",
            "44 nan\n",
            "45 nan\n",
            "46 nan\n",
            "47 nan\n",
            "48 nan\n",
            "49 nan\n",
            "50 nan\n",
            "51 nan\n",
            "52 nan\n",
            "53 nan\n",
            "54 nan\n",
            "55 nan\n",
            "56 nan\n",
            "57 2020-03-23[170]\n",
            "58 2020-03-16[172]\n",
            "59 2020-03-31[178]\n",
            "60 2020-03-26[179]\n",
            "61 2020-03-28[185]\n",
            "62 2020-03-18[186]\n",
            "63 2020-04-04[185]\n",
            "64 2020-08-11[192]\n",
            "65 2020-03-22[194]\n",
            "66 2020-04-02[196]\n",
            "67 2020-03-17[197]\n",
            "68 2020-03-24[198]\n",
            "69 2020-03-13[v][203][204]\n",
            "70 2021-04-15[213]\n",
            "71 2021-04-15[213]\n",
            "72 2020-03-18[215]\n",
            "73 2020-03-17[218][219]\n",
            "74 nan\n",
            "75 nan\n",
            "76 nan\n",
            "77 2020-03-25[224]\n",
            "78 2020-03-31[226]\n",
            "79 2020-03-23[227]\n",
            "80 2020-03-18[229]\n",
            "81 2020-03-24[232]\n",
            "82 2020-03-16[172]\n",
            "83 2020-03-12[237]\n",
            "84 2020-03-16[241]\n",
            "85 2020-03-12[242]\n",
            "86 2020-04-02[243]\n",
            "87 2021-03-11[244]\n",
            "88 2020-03-20[245]\n",
            "89 2020-04-03[247]\n",
            "90 2020-03-17[249]\n",
            "91 nan\n",
            "92 2021-03-08[255]\n",
            "93 2020-03-31[256]\n",
            "94 2020-03-16[aa][258]\n",
            "95 nan\n",
            "96 2020-03-30[267]\n",
            "97 2020-03-30[267]\n",
            "98 2020-03-23[269]\n",
            "99 nan\n",
            "100 nan\n",
            "101 2020-03-25[274]\n",
            "102 2020-03-20[278]\n",
            "103 2020-03-28[280]\n",
            "104 2020-03-25[281]\n",
            "105 nan\n",
            "106 nan\n",
            "107 nan\n",
            "108 nan\n",
            "109 nan\n",
            "110 nan\n",
            "111 nan\n",
            "112 2020-03-14[294]\n",
            "113 2020-03-22[297]\n",
            "114 2020-03-12[ab][299][300]\n",
            "115 2020-08-07[306][307]\n",
            "116 2020-08-07[306][307]\n",
            "117 2020-08-07[306][307]\n",
            "118 2020-04-02[310]\n",
            "119 nan\n",
            "120 2020-03-09[ad][316]\n",
            "121 nan\n",
            "122 nan\n",
            "123 nan\n",
            "124 nan\n",
            "125 nan\n",
            "126 nan\n",
            "127 2020-04-15[323]\n",
            "128 2020-03-18[324]\n",
            "129 2020-03-14[327]\n",
            "130 2020-05-10[329]\n",
            "131 2020-03-15[330]\n",
            "132 2020-03-22[332]\n",
            "133 2020-03-16[334]\n",
            "134 2020-03-23[337]\n",
            "135 2020-03-23[337]\n",
            "136 2020-03-18[339]\n",
            "137 2020-03-23[343]\n",
            "138 nan\n",
            "139 nan\n",
            "140 nan\n",
            "141 nan\n",
            "142 nan\n",
            "143 nan\n",
            "144 nan\n",
            "145 2020-03-10[347]\n",
            "146 2020-03-24[349]\n",
            "147 2020-03-19[351]\n",
            "148 2020-03-27[af][353]\n",
            "149 2020-03-24[355]\n",
            "150 nan\n",
            "151 2020-03-15[358]\n",
            "152 2020-03-23[362][363]\n",
            "153 nan\n",
            "154 2020-03-30[368]\n",
            "155 2020-03-30[368]\n",
            "156 2020-03-30[368]\n",
            "157 2020-03-30[369]\n",
            "158 2020-07-25[371]\n",
            "159 2020-04-10[373]\n",
            "160 2020-04-16[375]\n",
            "161 2020-03-24[377]\n",
            "162 2020-03-25[380]\n",
            "163 2020-03-24[382]\n",
            "164 2020-03-20[383]\n",
            "165 2020-03-16[385]\n",
            "166 2020-03-27[387]\n",
            "167 2020-03-19[390]\n",
            "168 2020-03-15[ai][391]\n",
            "169 2020-03-23[390]\n",
            "170 2020-03-13[396]\n",
            "171 2020-03-19[401]\n",
            "172 2020-03-11[404]\n",
            "173 2020-03-25[406]\n",
            "174 2020-03-30[408]\n",
            "175 2020-03-28[412]\n",
            "176 2020-03-21[413]\n",
            "177 2020-03-26[415]\n",
            "178 2020-03-14[417]\n",
            "179 2020-03-29[419]\n",
            "180 2020-03-26[419]\n",
            "181 2020-03-26[419]\n",
            "182 2020-03-09[421]\n",
            "183 2020-03-26[419]\n",
            "184 2020-03-15[397]\n",
            "185 2020-04-07[424]\n",
            "186 2020-03-26[427]\n",
            "187 2020-03-14[429]\n",
            "188 2020-03-18[431]\n",
            "189 2020-03-17[435]\n",
            "190 2020-03-25[439]\n",
            "191 2020-03-17[441]\n",
            "192 2020-03-22[442]\n",
            "193 2020-04-23[444]\n",
            "194 2021-04-29[445]\n",
            "195 2020-03-17[397]\n",
            "196 2020-03-26[446]\n",
            "197 2020-03-23[448]\n",
            "198 2020-03-23[448]\n",
            "199 2020-03-23[448]\n",
            "200 2020-03-23[448]\n",
            "201 2020-12-31[465]\n",
            "202 2020-12-31[465]\n",
            "203 2020-12-31[465]\n",
            "204 2020-12-31[465]\n",
            "205 2020-12-26[466]\n",
            "206 2020-12-26[467]\n",
            "207 2020-12-26[468]\n",
            "208 2020-12-26[469]\n",
            "209 2020-12-20[470]\n",
            "210 2020-12-20[470]\n",
            "211 2020-06-30[471]\n",
            "212 nan\n",
            "213 nan\n",
            "214 nan\n",
            "215 nan\n",
            "216 nan\n",
            "217 nan\n",
            "218 nan\n",
            "219 nan\n",
            "220 nan\n",
            "221 nan\n",
            "222 nan\n",
            "223 2020-03-19[474]\n",
            "224 2020-03-23[476]\n",
            "225 2020-03-21[478]\n",
            "226 2020-03-24[480]\n",
            "227 2020-03-24[482]\n",
            "228 2020-03-24[483]\n",
            "229 2020-03-22[484]\n",
            "230 2020-03-24[486]\n",
            "231 2020-03-24[488]\n",
            "232 2020-03-17[490]\n",
            "233 2020-04-01[491]\n",
            "234 nan\n",
            "235 nan\n",
            "236 nan\n",
            "237 nan\n",
            "238 2020-03-30[500]\n"
          ]
        }
      ]
    },
    {
      "cell_type": "code",
      "metadata": {
        "id": "CMe4vcQ1PfqG",
        "colab": {
          "base_uri": "https://localhost:8080/",
          "height": 17
        },
        "outputId": "2d93f076-c516-48d9-e368-57e39b5d1d6e"
      },
      "source": [
        "# first version of this function\n",
        "def clean_date_column_v0(old):\n",
        "  try:\n",
        "    if math.isnan(old): return old\n",
        "    new = re.sub('\\[\\w+\\]', '', old).strip()\n",
        "    return new\n",
        "  except Exception as e:\n",
        "    print(f'Error: {repr(old)} --> type: {type(old)}')\n",
        "    print(e)\n",
        "    print()"
      ],
      "execution_count": 44,
      "outputs": [
        {
          "output_type": "display_data",
          "data": {
            "text/html": [
              "\n",
              "  <style>\n",
              "    pre {\n",
              "        white-space: pre-wrap;\n",
              "    }\n",
              "  </style>\n",
              "  "
            ],
            "text/plain": [
              "<IPython.core.display.HTML object>"
            ]
          },
          "metadata": {}
        }
      ]
    },
    {
      "cell_type": "code",
      "metadata": {
        "id": "zphdS2OSPfjE",
        "colab": {
          "base_uri": "https://localhost:8080/",
          "height": 34
        },
        "outputId": "7435e7e5-0e8e-4848-96cf-64b59745c34d"
      },
      "source": [
        "# x.first_lockdown_start_date.apply(clean_date_column)\n",
        "x.first_lockdown_start_date.apply(type).unique()"
      ],
      "execution_count": 42,
      "outputs": [
        {
          "output_type": "display_data",
          "data": {
            "text/html": [
              "\n",
              "  <style>\n",
              "    pre {\n",
              "        white-space: pre-wrap;\n",
              "    }\n",
              "  </style>\n",
              "  "
            ],
            "text/plain": [
              "<IPython.core.display.HTML object>"
            ]
          },
          "metadata": {}
        },
        {
          "output_type": "execute_result",
          "data": {
            "text/plain": [
              "array([<class 'str'>, <class 'float'>], dtype=object)"
            ]
          },
          "metadata": {},
          "execution_count": 42
        }
      ]
    },
    {
      "cell_type": "code",
      "metadata": {
        "colab": {
          "base_uri": "https://localhost:8080/",
          "height": 1000
        },
        "id": "Q2ngTNHiIxo6",
        "outputId": "76581d1e-fe30-42c6-fdf8-bf90192a2038"
      },
      "source": [
        "for idx, value in x.first_lockdown_start_date.items():\n",
        "  print(idx, value, type(value))"
      ],
      "execution_count": 43,
      "outputs": [
        {
          "output_type": "display_data",
          "data": {
            "text/html": [
              "\n",
              "  <style>\n",
              "    pre {\n",
              "        white-space: pre-wrap;\n",
              "    }\n",
              "  </style>\n",
              "  "
            ],
            "text/plain": [
              "<IPython.core.display.HTML object>"
            ]
          },
          "metadata": {}
        },
        {
          "output_type": "stream",
          "name": "stdout",
          "text": [
            "0 2020-03-13[78] <class 'str'>\n",
            "1 2020-03-23[80] <class 'str'>\n",
            "2 2020-03-23[80] <class 'str'>\n",
            "3 2020-03-19[82] <class 'str'>\n",
            "4 2020-03-19[82] <class 'str'>\n",
            "5 2020-03-24[87] <class 'str'>\n",
            "6 2020-03-31[89] <class 'str'>\n",
            "7 2020-03-31 <class 'str'>\n",
            "8 2020-03-31 <class 'str'>\n",
            "9 2020-03-31 <class 'str'>\n",
            "10 2020-03-31 <class 'str'>\n",
            "11 2020-03-31 <class 'str'>\n",
            "12 2020-03-31 <class 'str'>\n",
            "13 2020-03-31 <class 'str'>\n",
            "14 2020-03-31 <class 'str'>\n",
            "15 nan <class 'float'>\n",
            "16 nan <class 'float'>\n",
            "17 nan <class 'float'>\n",
            "18 nan <class 'float'>\n",
            "19 nan <class 'float'>\n",
            "20 nan <class 'float'>\n",
            "21 nan <class 'float'>\n",
            "22 nan <class 'float'>\n",
            "23 nan <class 'float'>\n",
            "24 nan <class 'float'>\n",
            "25 nan <class 'float'>\n",
            "26 nan <class 'float'>\n",
            "27 nan <class 'float'>\n",
            "28 nan <class 'float'>\n",
            "29 nan <class 'float'>\n",
            "30 nan <class 'float'>\n",
            "31 nan <class 'float'>\n",
            "32 nan <class 'float'>\n",
            "33 nan <class 'float'>\n",
            "34 nan <class 'float'>\n",
            "35 nan <class 'float'>\n",
            "36 nan <class 'float'>\n",
            "37 nan <class 'float'>\n",
            "38 nan <class 'float'>\n",
            "39 nan <class 'float'>\n",
            "40 nan <class 'float'>\n",
            "41 nan <class 'float'>\n",
            "42 nan <class 'float'>\n",
            "43 nan <class 'float'>\n",
            "44 nan <class 'float'>\n",
            "45 nan <class 'float'>\n",
            "46 nan <class 'float'>\n",
            "47 nan <class 'float'>\n",
            "48 nan <class 'float'>\n",
            "49 nan <class 'float'>\n",
            "50 nan <class 'float'>\n",
            "51 nan <class 'float'>\n",
            "52 nan <class 'float'>\n",
            "53 nan <class 'float'>\n",
            "54 nan <class 'float'>\n",
            "55 nan <class 'float'>\n",
            "56 nan <class 'float'>\n",
            "57 2020-03-23[170] <class 'str'>\n",
            "58 2020-03-16[172] <class 'str'>\n",
            "59 2020-03-31[178] <class 'str'>\n",
            "60 2020-03-26[179] <class 'str'>\n",
            "61 2020-03-28[185] <class 'str'>\n",
            "62 2020-03-18[186] <class 'str'>\n",
            "63 2020-04-04[185] <class 'str'>\n",
            "64 2020-08-11[192] <class 'str'>\n",
            "65 2020-03-22[194] <class 'str'>\n",
            "66 2020-04-02[196] <class 'str'>\n",
            "67 2020-03-17[197] <class 'str'>\n",
            "68 2020-03-24[198] <class 'str'>\n",
            "69 2020-03-13[v][203][204] <class 'str'>\n",
            "70 2021-04-15[213] <class 'str'>\n",
            "71 2021-04-15[213] <class 'str'>\n",
            "72 2020-03-18[215] <class 'str'>\n",
            "73 2020-03-17[218][219] <class 'str'>\n",
            "74 nan <class 'float'>\n",
            "75 nan <class 'float'>\n",
            "76 nan <class 'float'>\n",
            "77 2020-03-25[224] <class 'str'>\n",
            "78 2020-03-31[226] <class 'str'>\n",
            "79 2020-03-23[227] <class 'str'>\n",
            "80 2020-03-18[229] <class 'str'>\n",
            "81 2020-03-24[232] <class 'str'>\n",
            "82 2020-03-16[172] <class 'str'>\n",
            "83 2020-03-12[237] <class 'str'>\n",
            "84 2020-03-16[241] <class 'str'>\n",
            "85 2020-03-12[242] <class 'str'>\n",
            "86 2020-04-02[243] <class 'str'>\n",
            "87 2021-03-11[244] <class 'str'>\n",
            "88 2020-03-20[245] <class 'str'>\n",
            "89 2020-04-03[247] <class 'str'>\n",
            "90 2020-03-17[249] <class 'str'>\n",
            "91 nan <class 'float'>\n",
            "92 2021-03-08[255] <class 'str'>\n",
            "93 2020-03-31[256] <class 'str'>\n",
            "94 2020-03-16[aa][258] <class 'str'>\n",
            "95 nan <class 'float'>\n",
            "96 2020-03-30[267] <class 'str'>\n",
            "97 2020-03-30[267] <class 'str'>\n",
            "98 2020-03-23[269] <class 'str'>\n",
            "99 nan <class 'float'>\n",
            "100 nan <class 'float'>\n",
            "101 2020-03-25[274] <class 'str'>\n",
            "102 2020-03-20[278] <class 'str'>\n",
            "103 2020-03-28[280] <class 'str'>\n",
            "104 2020-03-25[281] <class 'str'>\n",
            "105 nan <class 'float'>\n",
            "106 nan <class 'float'>\n",
            "107 nan <class 'float'>\n",
            "108 nan <class 'float'>\n",
            "109 nan <class 'float'>\n",
            "110 nan <class 'float'>\n",
            "111 nan <class 'float'>\n",
            "112 2020-03-14[294] <class 'str'>\n",
            "113 2020-03-22[297] <class 'str'>\n",
            "114 2020-03-12[ab][299][300] <class 'str'>\n",
            "115 2020-08-07[306][307] <class 'str'>\n",
            "116 2020-08-07[306][307] <class 'str'>\n",
            "117 2020-08-07[306][307] <class 'str'>\n",
            "118 2020-04-02[310] <class 'str'>\n",
            "119 nan <class 'float'>\n",
            "120 2020-03-09[ad][316] <class 'str'>\n",
            "121 nan <class 'float'>\n",
            "122 nan <class 'float'>\n",
            "123 nan <class 'float'>\n",
            "124 nan <class 'float'>\n",
            "125 nan <class 'float'>\n",
            "126 nan <class 'float'>\n",
            "127 2020-04-15[323] <class 'str'>\n",
            "128 2020-03-18[324] <class 'str'>\n",
            "129 2020-03-14[327] <class 'str'>\n",
            "130 2020-05-10[329] <class 'str'>\n",
            "131 2020-03-15[330] <class 'str'>\n",
            "132 2020-03-22[332] <class 'str'>\n",
            "133 2020-03-16[334] <class 'str'>\n",
            "134 2020-03-23[337] <class 'str'>\n",
            "135 2020-03-23[337] <class 'str'>\n",
            "136 2020-03-18[339] <class 'str'>\n",
            "137 2020-03-23[343] <class 'str'>\n",
            "138 nan <class 'float'>\n",
            "139 nan <class 'float'>\n",
            "140 nan <class 'float'>\n",
            "141 nan <class 'float'>\n",
            "142 nan <class 'float'>\n",
            "143 nan <class 'float'>\n",
            "144 nan <class 'float'>\n",
            "145 2020-03-10[347] <class 'str'>\n",
            "146 2020-03-24[349] <class 'str'>\n",
            "147 2020-03-19[351] <class 'str'>\n",
            "148 2020-03-27[af][353] <class 'str'>\n",
            "149 2020-03-24[355] <class 'str'>\n",
            "150 nan <class 'float'>\n",
            "151 2020-03-15[358] <class 'str'>\n",
            "152 2020-03-23[362][363] <class 'str'>\n",
            "153 nan <class 'float'>\n",
            "154 2020-03-30[368] <class 'str'>\n",
            "155 2020-03-30[368] <class 'str'>\n",
            "156 2020-03-30[368] <class 'str'>\n",
            "157 2020-03-30[369] <class 'str'>\n",
            "158 2020-07-25[371] <class 'str'>\n",
            "159 2020-04-10[373] <class 'str'>\n",
            "160 2020-04-16[375] <class 'str'>\n",
            "161 2020-03-24[377] <class 'str'>\n",
            "162 2020-03-25[380] <class 'str'>\n",
            "163 2020-03-24[382] <class 'str'>\n",
            "164 2020-03-20[383] <class 'str'>\n",
            "165 2020-03-16[385] <class 'str'>\n",
            "166 2020-03-27[387] <class 'str'>\n",
            "167 2020-03-19[390] <class 'str'>\n",
            "168 2020-03-15[ai][391] <class 'str'>\n",
            "169 2020-03-23[390] <class 'str'>\n",
            "170 2020-03-13[396] <class 'str'>\n",
            "171 2020-03-19[401] <class 'str'>\n",
            "172 2020-03-11[404] <class 'str'>\n",
            "173 2020-03-25[406] <class 'str'>\n",
            "174 2020-03-30[408] <class 'str'>\n",
            "175 2020-03-28[412] <class 'str'>\n",
            "176 2020-03-21[413] <class 'str'>\n",
            "177 2020-03-26[415] <class 'str'>\n",
            "178 2020-03-14[417] <class 'str'>\n",
            "179 2020-03-29[419] <class 'str'>\n",
            "180 2020-03-26[419] <class 'str'>\n",
            "181 2020-03-26[419] <class 'str'>\n",
            "182 2020-03-09[421] <class 'str'>\n",
            "183 2020-03-26[419] <class 'str'>\n",
            "184 2020-03-15[397] <class 'str'>\n",
            "185 2020-04-07[424] <class 'str'>\n",
            "186 2020-03-26[427] <class 'str'>\n",
            "187 2020-03-14[429] <class 'str'>\n",
            "188 2020-03-18[431] <class 'str'>\n",
            "189 2020-03-17[435] <class 'str'>\n",
            "190 2020-03-25[439] <class 'str'>\n",
            "191 2020-03-17[441] <class 'str'>\n",
            "192 2020-03-22[442] <class 'str'>\n",
            "193 2020-04-23[444] <class 'str'>\n",
            "194 2021-04-29[445] <class 'str'>\n",
            "195 2020-03-17[397] <class 'str'>\n",
            "196 2020-03-26[446] <class 'str'>\n",
            "197 2020-03-23[448] <class 'str'>\n",
            "198 2020-03-23[448] <class 'str'>\n",
            "199 2020-03-23[448] <class 'str'>\n",
            "200 2020-03-23[448] <class 'str'>\n",
            "201 2020-12-31[465] <class 'str'>\n",
            "202 2020-12-31[465] <class 'str'>\n",
            "203 2020-12-31[465] <class 'str'>\n",
            "204 2020-12-31[465] <class 'str'>\n",
            "205 2020-12-26[466] <class 'str'>\n",
            "206 2020-12-26[467] <class 'str'>\n",
            "207 2020-12-26[468] <class 'str'>\n",
            "208 2020-12-26[469] <class 'str'>\n",
            "209 2020-12-20[470] <class 'str'>\n",
            "210 2020-12-20[470] <class 'str'>\n",
            "211 2020-06-30[471] <class 'str'>\n",
            "212 nan <class 'float'>\n",
            "213 nan <class 'float'>\n",
            "214 nan <class 'float'>\n",
            "215 nan <class 'float'>\n",
            "216 nan <class 'float'>\n",
            "217 nan <class 'float'>\n",
            "218 nan <class 'float'>\n",
            "219 nan <class 'float'>\n",
            "220 nan <class 'float'>\n",
            "221 nan <class 'float'>\n",
            "222 nan <class 'float'>\n",
            "223 2020-03-19[474] <class 'str'>\n",
            "224 2020-03-23[476] <class 'str'>\n",
            "225 2020-03-21[478] <class 'str'>\n",
            "226 2020-03-24[480] <class 'str'>\n",
            "227 2020-03-24[482] <class 'str'>\n",
            "228 2020-03-24[483] <class 'str'>\n",
            "229 2020-03-22[484] <class 'str'>\n",
            "230 2020-03-24[486] <class 'str'>\n",
            "231 2020-03-24[488] <class 'str'>\n",
            "232 2020-03-17[490] <class 'str'>\n",
            "233 2020-04-01[491] <class 'str'>\n",
            "234 nan <class 'float'>\n",
            "235 nan <class 'float'>\n",
            "236 nan <class 'float'>\n",
            "237 nan <class 'float'>\n",
            "238 2020-03-30[500] <class 'str'>\n"
          ]
        }
      ]
    },
    {
      "cell_type": "code",
      "metadata": {
        "id": "BCEMVmh_Pffi",
        "colab": {
          "base_uri": "https://localhost:8080/",
          "height": 17
        },
        "outputId": "6cdddbe7-4ac9-486a-a590-a9a029019a99"
      },
      "source": [
        "def clean_date_column(old):\n",
        "  # old can be either a string or a float (nan)\n",
        "  if isinstance(old, float):\n",
        "    # if it's a float (nan value), return it as is\n",
        "    return old\n",
        "  # otherwise, we have a string, so,\n",
        "  # we need to process it and return the new version\n",
        "  new = re.sub('\\[\\w+\\]', '', old).strip()\n",
        "  return new"
      ],
      "execution_count": 46,
      "outputs": [
        {
          "output_type": "display_data",
          "data": {
            "text/html": [
              "\n",
              "  <style>\n",
              "    pre {\n",
              "        white-space: pre-wrap;\n",
              "    }\n",
              "  </style>\n",
              "  "
            ],
            "text/plain": [
              "<IPython.core.display.HTML object>"
            ]
          },
          "metadata": {}
        }
      ]
    },
    {
      "cell_type": "code",
      "metadata": {
        "id": "NZYZmTZ8PfdP",
        "colab": {
          "base_uri": "https://localhost:8080/",
          "height": 1000
        },
        "outputId": "f12272d4-30c8-43d3-9cfc-aee811c4f530"
      },
      "source": [
        "x.first_lockdown_start_date.apply(clean_date_column)"
      ],
      "execution_count": 47,
      "outputs": [
        {
          "output_type": "display_data",
          "data": {
            "text/html": [
              "\n",
              "  <style>\n",
              "    pre {\n",
              "        white-space: pre-wrap;\n",
              "    }\n",
              "  </style>\n",
              "  "
            ],
            "text/plain": [
              "<IPython.core.display.HTML object>"
            ]
          },
          "metadata": {}
        },
        {
          "output_type": "execute_result",
          "data": {
            "text/plain": [
              "0      2020-03-13\n",
              "1      2020-03-23\n",
              "2      2020-03-23\n",
              "3      2020-03-19\n",
              "4      2020-03-19\n",
              "5      2020-03-24\n",
              "6      2020-03-31\n",
              "7      2020-03-31\n",
              "8      2020-03-31\n",
              "9      2020-03-31\n",
              "10     2020-03-31\n",
              "11     2020-03-31\n",
              "12     2020-03-31\n",
              "13     2020-03-31\n",
              "14     2020-03-31\n",
              "15            NaN\n",
              "16            NaN\n",
              "17            NaN\n",
              "18            NaN\n",
              "19            NaN\n",
              "20            NaN\n",
              "21            NaN\n",
              "22            NaN\n",
              "23            NaN\n",
              "24            NaN\n",
              "25            NaN\n",
              "26            NaN\n",
              "27            NaN\n",
              "28            NaN\n",
              "29            NaN\n",
              "30            NaN\n",
              "31            NaN\n",
              "32            NaN\n",
              "33            NaN\n",
              "34            NaN\n",
              "35            NaN\n",
              "36            NaN\n",
              "37            NaN\n",
              "38            NaN\n",
              "39            NaN\n",
              "40            NaN\n",
              "41            NaN\n",
              "42            NaN\n",
              "43            NaN\n",
              "44            NaN\n",
              "45            NaN\n",
              "46            NaN\n",
              "47            NaN\n",
              "48            NaN\n",
              "49            NaN\n",
              "50            NaN\n",
              "51            NaN\n",
              "52            NaN\n",
              "53            NaN\n",
              "54            NaN\n",
              "55            NaN\n",
              "56            NaN\n",
              "57     2020-03-23\n",
              "58     2020-03-16\n",
              "59     2020-03-31\n",
              "60     2020-03-26\n",
              "61     2020-03-28\n",
              "62     2020-03-18\n",
              "63     2020-04-04\n",
              "64     2020-08-11\n",
              "65     2020-03-22\n",
              "66     2020-04-02\n",
              "67     2020-03-17\n",
              "68     2020-03-24\n",
              "69     2020-03-13\n",
              "70     2021-04-15\n",
              "71     2021-04-15\n",
              "72     2020-03-18\n",
              "73     2020-03-17\n",
              "74            NaN\n",
              "75            NaN\n",
              "76            NaN\n",
              "77     2020-03-25\n",
              "78     2020-03-31\n",
              "79     2020-03-23\n",
              "80     2020-03-18\n",
              "81     2020-03-24\n",
              "82     2020-03-16\n",
              "83     2020-03-12\n",
              "84     2020-03-16\n",
              "85     2020-03-12\n",
              "86     2020-04-02\n",
              "87     2021-03-11\n",
              "88     2020-03-20\n",
              "89     2020-04-03\n",
              "90     2020-03-17\n",
              "91            NaN\n",
              "92     2021-03-08\n",
              "93     2020-03-31\n",
              "94     2020-03-16\n",
              "95            NaN\n",
              "96     2020-03-30\n",
              "97     2020-03-30\n",
              "98     2020-03-23\n",
              "99            NaN\n",
              "100           NaN\n",
              "101    2020-03-25\n",
              "102    2020-03-20\n",
              "103    2020-03-28\n",
              "104    2020-03-25\n",
              "105           NaN\n",
              "106           NaN\n",
              "107           NaN\n",
              "108           NaN\n",
              "109           NaN\n",
              "110           NaN\n",
              "111           NaN\n",
              "112    2020-03-14\n",
              "113    2020-03-22\n",
              "114    2020-03-12\n",
              "115    2020-08-07\n",
              "116    2020-08-07\n",
              "117    2020-08-07\n",
              "118    2020-04-02\n",
              "119           NaN\n",
              "120    2020-03-09\n",
              "121           NaN\n",
              "122           NaN\n",
              "123           NaN\n",
              "124           NaN\n",
              "125           NaN\n",
              "126           NaN\n",
              "127    2020-04-15\n",
              "128    2020-03-18\n",
              "129    2020-03-14\n",
              "130    2020-05-10\n",
              "131    2020-03-15\n",
              "132    2020-03-22\n",
              "133    2020-03-16\n",
              "134    2020-03-23\n",
              "135    2020-03-23\n",
              "136    2020-03-18\n",
              "137    2020-03-23\n",
              "138           NaN\n",
              "139           NaN\n",
              "140           NaN\n",
              "141           NaN\n",
              "142           NaN\n",
              "143           NaN\n",
              "144           NaN\n",
              "145    2020-03-10\n",
              "146    2020-03-24\n",
              "147    2020-03-19\n",
              "148    2020-03-27\n",
              "149    2020-03-24\n",
              "150           NaN\n",
              "151    2020-03-15\n",
              "152    2020-03-23\n",
              "153           NaN\n",
              "154    2020-03-30\n",
              "155    2020-03-30\n",
              "156    2020-03-30\n",
              "157    2020-03-30\n",
              "158    2020-07-25\n",
              "159    2020-04-10\n",
              "160    2020-04-16\n",
              "161    2020-03-24\n",
              "162    2020-03-25\n",
              "163    2020-03-24\n",
              "164    2020-03-20\n",
              "165    2020-03-16\n",
              "166    2020-03-27\n",
              "167    2020-03-19\n",
              "168    2020-03-15\n",
              "169    2020-03-23\n",
              "170    2020-03-13\n",
              "171    2020-03-19\n",
              "172    2020-03-11\n",
              "173    2020-03-25\n",
              "174    2020-03-30\n",
              "175    2020-03-28\n",
              "176    2020-03-21\n",
              "177    2020-03-26\n",
              "178    2020-03-14\n",
              "179    2020-03-29\n",
              "180    2020-03-26\n",
              "181    2020-03-26\n",
              "182    2020-03-09\n",
              "183    2020-03-26\n",
              "184    2020-03-15\n",
              "185    2020-04-07\n",
              "186    2020-03-26\n",
              "187    2020-03-14\n",
              "188    2020-03-18\n",
              "189    2020-03-17\n",
              "190    2020-03-25\n",
              "191    2020-03-17\n",
              "192    2020-03-22\n",
              "193    2020-04-23\n",
              "194    2021-04-29\n",
              "195    2020-03-17\n",
              "196    2020-03-26\n",
              "197    2020-03-23\n",
              "198    2020-03-23\n",
              "199    2020-03-23\n",
              "200    2020-03-23\n",
              "201    2020-12-31\n",
              "202    2020-12-31\n",
              "203    2020-12-31\n",
              "204    2020-12-31\n",
              "205    2020-12-26\n",
              "206    2020-12-26\n",
              "207    2020-12-26\n",
              "208    2020-12-26\n",
              "209    2020-12-20\n",
              "210    2020-12-20\n",
              "211    2020-06-30\n",
              "212           NaN\n",
              "213           NaN\n",
              "214           NaN\n",
              "215           NaN\n",
              "216           NaN\n",
              "217           NaN\n",
              "218           NaN\n",
              "219           NaN\n",
              "220           NaN\n",
              "221           NaN\n",
              "222           NaN\n",
              "223    2020-03-19\n",
              "224    2020-03-23\n",
              "225    2020-03-21\n",
              "226    2020-03-24\n",
              "227    2020-03-24\n",
              "228    2020-03-24\n",
              "229    2020-03-22\n",
              "230    2020-03-24\n",
              "231    2020-03-24\n",
              "232    2020-03-17\n",
              "233    2020-04-01\n",
              "234           NaN\n",
              "235           NaN\n",
              "236           NaN\n",
              "237           NaN\n",
              "238    2020-03-30\n",
              "Name: first_lockdown_start_date, dtype: object"
            ]
          },
          "metadata": {},
          "execution_count": 47
        }
      ]
    },
    {
      "cell_type": "code",
      "metadata": {
        "id": "4f8mjm2XPfbN",
        "colab": {
          "base_uri": "https://localhost:8080/",
          "height": 17
        },
        "outputId": "fe22c8d7-22f6-40fd-84bf-cf7614a5d659"
      },
      "source": [
        "date_columns = ['first_lockdown_start_date',    'first_lockdown_end_date',\n",
        "                'second_lockdown_start_date',   'second_lockdown_end_date',\n",
        "                'third_lockdown_start_date',    'third_lockdown_end_date',\n",
        "                'fourth_lockdown_start_date',   'fourth_lockdown_end_date',\n",
        "                'fifth_lockdown_start_date',    'fifth_lockdown_end_date',\n",
        "                'sixth_lockdown_start_date',    'sixth_lockdown_end_date',\n",
        "                'seventh_lockdown_start_date',  'seventh_lockdown_end_date',\n",
        "                'eighth_lockdown_start_date',   'eighth_lockdown_end_date']"
      ],
      "execution_count": 48,
      "outputs": [
        {
          "output_type": "display_data",
          "data": {
            "text/html": [
              "\n",
              "  <style>\n",
              "    pre {\n",
              "        white-space: pre-wrap;\n",
              "    }\n",
              "  </style>\n",
              "  "
            ],
            "text/plain": [
              "<IPython.core.display.HTML object>"
            ]
          },
          "metadata": {}
        }
      ]
    },
    {
      "cell_type": "code",
      "metadata": {
        "id": "YPPCoUrTPfZb",
        "colab": {
          "base_uri": "https://localhost:8080/",
          "height": 17
        },
        "outputId": "fa5e5f62-94d1-4ffa-f12c-4f826b008a04"
      },
      "source": [
        "for dc in date_columns:\n",
        "  # print(x[dc].apply(clean_date_column))\n",
        "  x[dc] = x[dc].apply(clean_date_column)"
      ],
      "execution_count": 50,
      "outputs": [
        {
          "output_type": "display_data",
          "data": {
            "text/html": [
              "\n",
              "  <style>\n",
              "    pre {\n",
              "        white-space: pre-wrap;\n",
              "    }\n",
              "  </style>\n",
              "  "
            ],
            "text/plain": [
              "<IPython.core.display.HTML object>"
            ]
          },
          "metadata": {}
        }
      ]
    },
    {
      "cell_type": "code",
      "metadata": {
        "id": "4_EK4l4mPfSS",
        "colab": {
          "base_uri": "https://localhost:8080/",
          "height": 309
        },
        "outputId": "6e41eae7-837c-43ea-ccc6-543ecc4775a3"
      },
      "source": [
        "x.head()"
      ],
      "execution_count": 55,
      "outputs": [
        {
          "output_type": "display_data",
          "data": {
            "text/html": [
              "\n",
              "  <style>\n",
              "    pre {\n",
              "        white-space: pre-wrap;\n",
              "    }\n",
              "  </style>\n",
              "  "
            ],
            "text/plain": [
              "<IPython.core.display.HTML object>"
            ]
          },
          "metadata": {}
        },
        {
          "output_type": "stream",
          "name": "stdout",
          "text": [
            "Warning: Total number of columns (28) exceeds max_columns (20). Falling back to pandas display.\n"
          ]
        },
        {
          "output_type": "execute_result",
          "data": {
            "text/html": [
              "<div>\n",
              "<style scoped>\n",
              "    .dataframe tbody tr th:only-of-type {\n",
              "        vertical-align: middle;\n",
              "    }\n",
              "\n",
              "    .dataframe tbody tr th {\n",
              "        vertical-align: top;\n",
              "    }\n",
              "\n",
              "    .dataframe thead th {\n",
              "        text-align: right;\n",
              "    }\n",
              "</style>\n",
              "<table border=\"1\" class=\"dataframe\">\n",
              "  <thead>\n",
              "    <tr style=\"text-align: right;\">\n",
              "      <th></th>\n",
              "      <th>country_territory</th>\n",
              "      <th>place</th>\n",
              "      <th>first_lockdown_start_date</th>\n",
              "      <th>first_lockdown_end_date</th>\n",
              "      <th>first_lockdown_length</th>\n",
              "      <th>second_lockdown_start_date</th>\n",
              "      <th>second_lockdown_end_date</th>\n",
              "      <th>second_lockdown_length</th>\n",
              "      <th>third_lockdown_start_date</th>\n",
              "      <th>third_lockdown_end_date</th>\n",
              "      <th>third_lockdown_length</th>\n",
              "      <th>fourth_lockdown_start_date</th>\n",
              "      <th>fourth_lockdown_end_date</th>\n",
              "      <th>fourth_lockdown_length</th>\n",
              "      <th>fifth_lockdown_start_date</th>\n",
              "      <th>fifth_lockdown_end_date</th>\n",
              "      <th>fifth_lockdown_length</th>\n",
              "      <th>sixth_lockdown_start_date</th>\n",
              "      <th>sixth_lockdown_end_date</th>\n",
              "      <th>sixth_lockdown_length</th>\n",
              "      <th>seventh_lockdown_start_date</th>\n",
              "      <th>seventh_lockdown_end_date</th>\n",
              "      <th>seventh_lockdown_length</th>\n",
              "      <th>eighth_lockdown_start_date</th>\n",
              "      <th>eighth_lockdown_end_date</th>\n",
              "      <th>eighth_lockdown_length</th>\n",
              "      <th>total_length</th>\n",
              "      <th>level</th>\n",
              "    </tr>\n",
              "  </thead>\n",
              "  <tbody>\n",
              "    <tr>\n",
              "      <th>0</th>\n",
              "      <td>Albania</td>\n",
              "      <td>Albania</td>\n",
              "      <td>2020-03-13</td>\n",
              "      <td>2020-06-01</td>\n",
              "      <td>80</td>\n",
              "      <td>NaN</td>\n",
              "      <td>NaN</td>\n",
              "      <td>NaN</td>\n",
              "      <td>NaN</td>\n",
              "      <td>NaN</td>\n",
              "      <td>NaN</td>\n",
              "      <td>NaN</td>\n",
              "      <td>NaN</td>\n",
              "      <td>NaN</td>\n",
              "      <td>NaN</td>\n",
              "      <td>NaN</td>\n",
              "      <td>NaN</td>\n",
              "      <td>NaN</td>\n",
              "      <td>NaN</td>\n",
              "      <td>NaN</td>\n",
              "      <td>NaN</td>\n",
              "      <td>NaN</td>\n",
              "      <td>NaN</td>\n",
              "      <td>NaN</td>\n",
              "      <td>NaN</td>\n",
              "      <td>NaN</td>\n",
              "      <td>80</td>\n",
              "      <td>National</td>\n",
              "    </tr>\n",
              "    <tr>\n",
              "      <th>1</th>\n",
              "      <td>Algeria</td>\n",
              "      <td>Algiers</td>\n",
              "      <td>2020-03-23</td>\n",
              "      <td>2020-05-14</td>\n",
              "      <td>52</td>\n",
              "      <td>NaN</td>\n",
              "      <td>NaN</td>\n",
              "      <td>NaN</td>\n",
              "      <td>NaN</td>\n",
              "      <td>NaN</td>\n",
              "      <td>NaN</td>\n",
              "      <td>NaN</td>\n",
              "      <td>NaN</td>\n",
              "      <td>NaN</td>\n",
              "      <td>NaN</td>\n",
              "      <td>NaN</td>\n",
              "      <td>NaN</td>\n",
              "      <td>NaN</td>\n",
              "      <td>NaN</td>\n",
              "      <td>NaN</td>\n",
              "      <td>NaN</td>\n",
              "      <td>NaN</td>\n",
              "      <td>NaN</td>\n",
              "      <td>NaN</td>\n",
              "      <td>NaN</td>\n",
              "      <td>NaN</td>\n",
              "      <td>52</td>\n",
              "      <td>City</td>\n",
              "    </tr>\n",
              "    <tr>\n",
              "      <th>2</th>\n",
              "      <td>Algeria</td>\n",
              "      <td>Blida</td>\n",
              "      <td>2020-03-23</td>\n",
              "      <td>2020-05-14</td>\n",
              "      <td>52</td>\n",
              "      <td>NaN</td>\n",
              "      <td>NaN</td>\n",
              "      <td>NaN</td>\n",
              "      <td>NaN</td>\n",
              "      <td>NaN</td>\n",
              "      <td>NaN</td>\n",
              "      <td>NaN</td>\n",
              "      <td>NaN</td>\n",
              "      <td>NaN</td>\n",
              "      <td>NaN</td>\n",
              "      <td>NaN</td>\n",
              "      <td>NaN</td>\n",
              "      <td>NaN</td>\n",
              "      <td>NaN</td>\n",
              "      <td>NaN</td>\n",
              "      <td>NaN</td>\n",
              "      <td>NaN</td>\n",
              "      <td>NaN</td>\n",
              "      <td>NaN</td>\n",
              "      <td>NaN</td>\n",
              "      <td>NaN</td>\n",
              "      <td>52</td>\n",
              "      <td>City</td>\n",
              "    </tr>\n",
              "    <tr>\n",
              "      <th>3</th>\n",
              "      <td>Argentina</td>\n",
              "      <td>Greater Buenos Aires</td>\n",
              "      <td>2020-03-19</td>\n",
              "      <td>2020-11-08</td>\n",
              "      <td>234</td>\n",
              "      <td>2021-05-22</td>\n",
              "      <td>2021-05-30</td>\n",
              "      <td>9</td>\n",
              "      <td>2021-06-05</td>\n",
              "      <td>2021-06-06</td>\n",
              "      <td>2</td>\n",
              "      <td>NaN</td>\n",
              "      <td>NaN</td>\n",
              "      <td>NaN</td>\n",
              "      <td>NaN</td>\n",
              "      <td>NaN</td>\n",
              "      <td>NaN</td>\n",
              "      <td>NaN</td>\n",
              "      <td>NaN</td>\n",
              "      <td>NaN</td>\n",
              "      <td>NaN</td>\n",
              "      <td>NaN</td>\n",
              "      <td>NaN</td>\n",
              "      <td>NaN</td>\n",
              "      <td>NaN</td>\n",
              "      <td>NaN</td>\n",
              "      <td>245</td>\n",
              "      <td>Metropolitan area</td>\n",
              "    </tr>\n",
              "    <tr>\n",
              "      <th>4</th>\n",
              "      <td>Argentina</td>\n",
              "      <td>Rest of the country</td>\n",
              "      <td>2020-03-19</td>\n",
              "      <td>2020-05-10</td>\n",
              "      <td>52</td>\n",
              "      <td>2021-05-22</td>\n",
              "      <td>2021-05-30</td>\n",
              "      <td>9</td>\n",
              "      <td>2021-06-05</td>\n",
              "      <td>2021-06-06</td>\n",
              "      <td>2</td>\n",
              "      <td>NaN</td>\n",
              "      <td>NaN</td>\n",
              "      <td>NaN</td>\n",
              "      <td>NaN</td>\n",
              "      <td>NaN</td>\n",
              "      <td>NaN</td>\n",
              "      <td>NaN</td>\n",
              "      <td>NaN</td>\n",
              "      <td>NaN</td>\n",
              "      <td>NaN</td>\n",
              "      <td>NaN</td>\n",
              "      <td>NaN</td>\n",
              "      <td>NaN</td>\n",
              "      <td>NaN</td>\n",
              "      <td>NaN</td>\n",
              "      <td>63</td>\n",
              "      <td>National</td>\n",
              "    </tr>\n",
              "  </tbody>\n",
              "</table>\n",
              "</div>"
            ],
            "text/plain": [
              "  country_territory                 place first_lockdown_start_date first_lockdown_end_date first_lockdown_length second_lockdown_start_date second_lockdown_end_date second_lockdown_length third_lockdown_start_date third_lockdown_end_date third_lockdown_length fourth_lockdown_start_date fourth_lockdown_end_date fourth_lockdown_length fifth_lockdown_start_date fifth_lockdown_end_date fifth_lockdown_length sixth_lockdown_start_date sixth_lockdown_end_date sixth_lockdown_length seventh_lockdown_start_date seventh_lockdown_end_date seventh_lockdown_length eighth_lockdown_start_date eighth_lockdown_end_date eighth_lockdown_length total_length              level\n",
              "0           Albania               Albania                2020-03-13              2020-06-01                    80                        NaN                      NaN                    NaN                       NaN                     NaN                   NaN                        NaN                      NaN                    NaN                       NaN                     NaN                   NaN                       NaN                     NaN                   NaN                         NaN                       NaN                     NaN                        NaN                      NaN                    NaN           80           National\n",
              "1           Algeria               Algiers                2020-03-23              2020-05-14                    52                        NaN                      NaN                    NaN                       NaN                     NaN                   NaN                        NaN                      NaN                    NaN                       NaN                     NaN                   NaN                       NaN                     NaN                   NaN                         NaN                       NaN                     NaN                        NaN                      NaN                    NaN           52               City\n",
              "2           Algeria                 Blida                2020-03-23              2020-05-14                    52                        NaN                      NaN                    NaN                       NaN                     NaN                   NaN                        NaN                      NaN                    NaN                       NaN                     NaN                   NaN                       NaN                     NaN                   NaN                         NaN                       NaN                     NaN                        NaN                      NaN                    NaN           52               City\n",
              "3         Argentina  Greater Buenos Aires                2020-03-19              2020-11-08                   234                 2021-05-22               2021-05-30                      9                2021-06-05              2021-06-06                     2                        NaN                      NaN                    NaN                       NaN                     NaN                   NaN                       NaN                     NaN                   NaN                         NaN                       NaN                     NaN                        NaN                      NaN                    NaN          245  Metropolitan area\n",
              "4         Argentina   Rest of the country                2020-03-19              2020-05-10                    52                 2021-05-22               2021-05-30                      9                2021-06-05              2021-06-06                     2                        NaN                      NaN                    NaN                       NaN                     NaN                   NaN                       NaN                     NaN                   NaN                         NaN                       NaN                     NaN                        NaN                      NaN                    NaN           63           National"
            ]
          },
          "metadata": {},
          "execution_count": 55
        }
      ]
    },
    {
      "cell_type": "code",
      "metadata": {
        "id": "HyoLQb6aPfPL"
      },
      "source": [
        "# if length is NaN, set to 0\n",
        "# and if it's a string, convert it to int"
      ],
      "execution_count": null,
      "outputs": []
    },
    {
      "cell_type": "code",
      "metadata": {
        "colab": {
          "base_uri": "https://localhost:8080/",
          "height": 17
        },
        "id": "sM3IaEgIMZqI",
        "outputId": "60ff9f53-5d9e-49e8-af80-1f4018faca96"
      },
      "source": [
        "numeric_columns = ['first_lockdown_length',   'second_lockdown_length',\n",
        "                   'third_lockdown_length',   'fourth_lockdown_length',\n",
        "                   'fifth_lockdown_length',   'sixth_lockdown_length',\n",
        "                   'seventh_lockdown_length', 'eighth_lockdown_length',\n",
        "                   'total_length']"
      ],
      "execution_count": 56,
      "outputs": [
        {
          "output_type": "display_data",
          "data": {
            "text/html": [
              "\n",
              "  <style>\n",
              "    pre {\n",
              "        white-space: pre-wrap;\n",
              "    }\n",
              "  </style>\n",
              "  "
            ],
            "text/plain": [
              "<IPython.core.display.HTML object>"
            ]
          },
          "metadata": {}
        }
      ]
    },
    {
      "cell_type": "code",
      "metadata": {
        "colab": {
          "base_uri": "https://localhost:8080/",
          "height": 1000
        },
        "id": "M61KHYgPMZnw",
        "outputId": "5ffe8484-f8ff-44ba-c462-acb7ce72425d"
      },
      "source": [
        "x.first_lockdown_length"
      ],
      "execution_count": 57,
      "outputs": [
        {
          "output_type": "display_data",
          "data": {
            "text/html": [
              "\n",
              "  <style>\n",
              "    pre {\n",
              "        white-space: pre-wrap;\n",
              "    }\n",
              "  </style>\n",
              "  "
            ],
            "text/plain": [
              "<IPython.core.display.HTML object>"
            ]
          },
          "metadata": {}
        },
        {
          "output_type": "execute_result",
          "data": {
            "text/plain": [
              "0                  80\n",
              "1                  52\n",
              "2                  52\n",
              "3                 234\n",
              "4                  52\n",
              "5                  41\n",
              "6                  43\n",
              "7                  43\n",
              "8                  43\n",
              "9                  43\n",
              "10                 43\n",
              "11                 43\n",
              "12                 43\n",
              "13                 43\n",
              "14                 43\n",
              "15                NaN\n",
              "16                NaN\n",
              "17                NaN\n",
              "18                NaN\n",
              "19                NaN\n",
              "20                NaN\n",
              "21                NaN\n",
              "22                NaN\n",
              "23                NaN\n",
              "24                NaN\n",
              "25                NaN\n",
              "26                NaN\n",
              "27                NaN\n",
              "28                NaN\n",
              "29                NaN\n",
              "30                NaN\n",
              "31                NaN\n",
              "32                NaN\n",
              "33                NaN\n",
              "34                NaN\n",
              "35                NaN\n",
              "36                NaN\n",
              "37                NaN\n",
              "38                NaN\n",
              "39                NaN\n",
              "40                NaN\n",
              "41                NaN\n",
              "42                NaN\n",
              "43                NaN\n",
              "44                NaN\n",
              "45                NaN\n",
              "46                NaN\n",
              "47                NaN\n",
              "48                NaN\n",
              "49                NaN\n",
              "50                NaN\n",
              "51                NaN\n",
              "52                NaN\n",
              "53                NaN\n",
              "54                NaN\n",
              "55                NaN\n",
              "56                NaN\n",
              "57                 52\n",
              "58                 28\n",
              "59                152\n",
              "60                 51\n",
              "61                 36\n",
              "62                 47\n",
              "63                 28\n",
              "64                 21\n",
              "65                131\n",
              "66                 28\n",
              "67                 21\n",
              "68                 47\n",
              "69                 94\n",
              "70                 21\n",
              "71                 21\n",
              "72                 61\n",
              "73                 58\n",
              "74                NaN\n",
              "75                NaN\n",
              "76                NaN\n",
              "77                 97\n",
              "78                 20\n",
              "79                 39\n",
              "80                 32\n",
              "81                 20\n",
              "82                 27\n",
              "83                 33\n",
              "84                 15\n",
              "85                 21\n",
              "86                 21\n",
              "87                 31\n",
              "88                 18\n",
              "89                 14\n",
              "90                 55\n",
              "91                 55\n",
              "92                 20\n",
              "93                 21\n",
              "94                 76\n",
              "95                 76\n",
              "96                 13\n",
              "97                 13\n",
              "98                 42\n",
              "99                 42\n",
              "100                42\n",
              "101                87\n",
              "102                58\n",
              "103                13\n",
              "104                74\n",
              "105               NaN\n",
              "106               NaN\n",
              "107               NaN\n",
              "108               NaN\n",
              "109               NaN\n",
              "110               NaN\n",
              "111               NaN\n",
              "112                37\n",
              "113                20\n",
              "114                67\n",
              "115                24\n",
              "116                14\n",
              "117                14\n",
              "118                14\n",
              "119               NaN\n",
              "120                70\n",
              "121                70\n",
              "122                70\n",
              "123                70\n",
              "124                70\n",
              "125                70\n",
              "126                70\n",
              "127                 7\n",
              "128                43\n",
              "129                51\n",
              "130                21\n",
              "131                13\n",
              "132                97\n",
              "133                94\n",
              "134                28\n",
              "135                28\n",
              "136                83\n",
              "137                70\n",
              "138                70\n",
              "139                70\n",
              "140                70\n",
              "141                70\n",
              "142                70\n",
              "143                70\n",
              "144                70\n",
              "145                 6\n",
              "146                42\n",
              "147                83\n",
              "148                38\n",
              "149               120\n",
              "150               120\n",
              "151                22\n",
              "152                52\n",
              "153                52\n",
              "154                13\n",
              "155                13\n",
              "156                13\n",
              "157                35\n",
              "158                20\n",
              "159                49\n",
              "160                43\n",
              "161                46\n",
              "162                67\n",
              "163                14\n",
              "164                44\n",
              "165               106\n",
              "166          49 to 65\n",
              "167                57\n",
              "168    46 to 61 to 77\n",
              "169                53\n",
              "170                29\n",
              "171                14\n",
              "172                96\n",
              "173                48\n",
              "174                43\n",
              "175                33\n",
              "176                29\n",
              "177                13\n",
              "178                52\n",
              "179                84\n",
              "180                87\n",
              "181                87\n",
              "182               104\n",
              "183                87\n",
              "184          37 to 50\n",
              "185                55\n",
              "186                35\n",
              "187                56\n",
              "188                95\n",
              "189                41\n",
              "190                67\n",
              "191                14\n",
              "192                28\n",
              "193                 4\n",
              "194                18\n",
              "195                38\n",
              "196                22\n",
              "197               103\n",
              "198                98\n",
              "199               102\n",
              "200               112\n",
              "201                88\n",
              "202                88\n",
              "203                88\n",
              "204                88\n",
              "205                93\n",
              "206                93\n",
              "207                93\n",
              "208                93\n",
              "209                99\n",
              "210                99\n",
              "211                24\n",
              "212               NaN\n",
              "213               NaN\n",
              "214               NaN\n",
              "215               NaN\n",
              "216               NaN\n",
              "217               NaN\n",
              "218               NaN\n",
              "219               NaN\n",
              "220               NaN\n",
              "221               NaN\n",
              "222               NaN\n",
              "223               453\n",
              "224                30\n",
              "225                70\n",
              "226                26\n",
              "227                41\n",
              "228                20\n",
              "229                83\n",
              "230                53\n",
              "231                50\n",
              "232                57\n",
              "233                21\n",
              "234                21\n",
              "235                21\n",
              "236                21\n",
              "237                21\n",
              "238                33\n",
              "Name: first_lockdown_length, dtype: object"
            ]
          },
          "metadata": {},
          "execution_count": 57
        }
      ]
    },
    {
      "cell_type": "code",
      "metadata": {
        "colab": {
          "base_uri": "https://localhost:8080/",
          "height": 309
        },
        "id": "8nqCbnNWMZks",
        "outputId": "9849d6da-fae7-4d81-c49b-ce6731c17226"
      },
      "source": [
        "x.head()"
      ],
      "execution_count": 58,
      "outputs": [
        {
          "output_type": "display_data",
          "data": {
            "text/html": [
              "\n",
              "  <style>\n",
              "    pre {\n",
              "        white-space: pre-wrap;\n",
              "    }\n",
              "  </style>\n",
              "  "
            ],
            "text/plain": [
              "<IPython.core.display.HTML object>"
            ]
          },
          "metadata": {}
        },
        {
          "output_type": "stream",
          "name": "stdout",
          "text": [
            "Warning: Total number of columns (28) exceeds max_columns (20). Falling back to pandas display.\n"
          ]
        },
        {
          "output_type": "execute_result",
          "data": {
            "text/html": [
              "<div>\n",
              "<style scoped>\n",
              "    .dataframe tbody tr th:only-of-type {\n",
              "        vertical-align: middle;\n",
              "    }\n",
              "\n",
              "    .dataframe tbody tr th {\n",
              "        vertical-align: top;\n",
              "    }\n",
              "\n",
              "    .dataframe thead th {\n",
              "        text-align: right;\n",
              "    }\n",
              "</style>\n",
              "<table border=\"1\" class=\"dataframe\">\n",
              "  <thead>\n",
              "    <tr style=\"text-align: right;\">\n",
              "      <th></th>\n",
              "      <th>country_territory</th>\n",
              "      <th>place</th>\n",
              "      <th>first_lockdown_start_date</th>\n",
              "      <th>first_lockdown_end_date</th>\n",
              "      <th>first_lockdown_length</th>\n",
              "      <th>second_lockdown_start_date</th>\n",
              "      <th>second_lockdown_end_date</th>\n",
              "      <th>second_lockdown_length</th>\n",
              "      <th>third_lockdown_start_date</th>\n",
              "      <th>third_lockdown_end_date</th>\n",
              "      <th>third_lockdown_length</th>\n",
              "      <th>fourth_lockdown_start_date</th>\n",
              "      <th>fourth_lockdown_end_date</th>\n",
              "      <th>fourth_lockdown_length</th>\n",
              "      <th>fifth_lockdown_start_date</th>\n",
              "      <th>fifth_lockdown_end_date</th>\n",
              "      <th>fifth_lockdown_length</th>\n",
              "      <th>sixth_lockdown_start_date</th>\n",
              "      <th>sixth_lockdown_end_date</th>\n",
              "      <th>sixth_lockdown_length</th>\n",
              "      <th>seventh_lockdown_start_date</th>\n",
              "      <th>seventh_lockdown_end_date</th>\n",
              "      <th>seventh_lockdown_length</th>\n",
              "      <th>eighth_lockdown_start_date</th>\n",
              "      <th>eighth_lockdown_end_date</th>\n",
              "      <th>eighth_lockdown_length</th>\n",
              "      <th>total_length</th>\n",
              "      <th>level</th>\n",
              "    </tr>\n",
              "  </thead>\n",
              "  <tbody>\n",
              "    <tr>\n",
              "      <th>0</th>\n",
              "      <td>Albania</td>\n",
              "      <td>Albania</td>\n",
              "      <td>2020-03-13</td>\n",
              "      <td>2020-06-01</td>\n",
              "      <td>80</td>\n",
              "      <td>NaN</td>\n",
              "      <td>NaN</td>\n",
              "      <td>NaN</td>\n",
              "      <td>NaN</td>\n",
              "      <td>NaN</td>\n",
              "      <td>NaN</td>\n",
              "      <td>NaN</td>\n",
              "      <td>NaN</td>\n",
              "      <td>NaN</td>\n",
              "      <td>NaN</td>\n",
              "      <td>NaN</td>\n",
              "      <td>NaN</td>\n",
              "      <td>NaN</td>\n",
              "      <td>NaN</td>\n",
              "      <td>NaN</td>\n",
              "      <td>NaN</td>\n",
              "      <td>NaN</td>\n",
              "      <td>NaN</td>\n",
              "      <td>NaN</td>\n",
              "      <td>NaN</td>\n",
              "      <td>NaN</td>\n",
              "      <td>80</td>\n",
              "      <td>National</td>\n",
              "    </tr>\n",
              "    <tr>\n",
              "      <th>1</th>\n",
              "      <td>Algeria</td>\n",
              "      <td>Algiers</td>\n",
              "      <td>2020-03-23</td>\n",
              "      <td>2020-05-14</td>\n",
              "      <td>52</td>\n",
              "      <td>NaN</td>\n",
              "      <td>NaN</td>\n",
              "      <td>NaN</td>\n",
              "      <td>NaN</td>\n",
              "      <td>NaN</td>\n",
              "      <td>NaN</td>\n",
              "      <td>NaN</td>\n",
              "      <td>NaN</td>\n",
              "      <td>NaN</td>\n",
              "      <td>NaN</td>\n",
              "      <td>NaN</td>\n",
              "      <td>NaN</td>\n",
              "      <td>NaN</td>\n",
              "      <td>NaN</td>\n",
              "      <td>NaN</td>\n",
              "      <td>NaN</td>\n",
              "      <td>NaN</td>\n",
              "      <td>NaN</td>\n",
              "      <td>NaN</td>\n",
              "      <td>NaN</td>\n",
              "      <td>NaN</td>\n",
              "      <td>52</td>\n",
              "      <td>City</td>\n",
              "    </tr>\n",
              "    <tr>\n",
              "      <th>2</th>\n",
              "      <td>Algeria</td>\n",
              "      <td>Blida</td>\n",
              "      <td>2020-03-23</td>\n",
              "      <td>2020-05-14</td>\n",
              "      <td>52</td>\n",
              "      <td>NaN</td>\n",
              "      <td>NaN</td>\n",
              "      <td>NaN</td>\n",
              "      <td>NaN</td>\n",
              "      <td>NaN</td>\n",
              "      <td>NaN</td>\n",
              "      <td>NaN</td>\n",
              "      <td>NaN</td>\n",
              "      <td>NaN</td>\n",
              "      <td>NaN</td>\n",
              "      <td>NaN</td>\n",
              "      <td>NaN</td>\n",
              "      <td>NaN</td>\n",
              "      <td>NaN</td>\n",
              "      <td>NaN</td>\n",
              "      <td>NaN</td>\n",
              "      <td>NaN</td>\n",
              "      <td>NaN</td>\n",
              "      <td>NaN</td>\n",
              "      <td>NaN</td>\n",
              "      <td>NaN</td>\n",
              "      <td>52</td>\n",
              "      <td>City</td>\n",
              "    </tr>\n",
              "    <tr>\n",
              "      <th>3</th>\n",
              "      <td>Argentina</td>\n",
              "      <td>Greater Buenos Aires</td>\n",
              "      <td>2020-03-19</td>\n",
              "      <td>2020-11-08</td>\n",
              "      <td>234</td>\n",
              "      <td>2021-05-22</td>\n",
              "      <td>2021-05-30</td>\n",
              "      <td>9</td>\n",
              "      <td>2021-06-05</td>\n",
              "      <td>2021-06-06</td>\n",
              "      <td>2</td>\n",
              "      <td>NaN</td>\n",
              "      <td>NaN</td>\n",
              "      <td>NaN</td>\n",
              "      <td>NaN</td>\n",
              "      <td>NaN</td>\n",
              "      <td>NaN</td>\n",
              "      <td>NaN</td>\n",
              "      <td>NaN</td>\n",
              "      <td>NaN</td>\n",
              "      <td>NaN</td>\n",
              "      <td>NaN</td>\n",
              "      <td>NaN</td>\n",
              "      <td>NaN</td>\n",
              "      <td>NaN</td>\n",
              "      <td>NaN</td>\n",
              "      <td>245</td>\n",
              "      <td>Metropolitan area</td>\n",
              "    </tr>\n",
              "    <tr>\n",
              "      <th>4</th>\n",
              "      <td>Argentina</td>\n",
              "      <td>Rest of the country</td>\n",
              "      <td>2020-03-19</td>\n",
              "      <td>2020-05-10</td>\n",
              "      <td>52</td>\n",
              "      <td>2021-05-22</td>\n",
              "      <td>2021-05-30</td>\n",
              "      <td>9</td>\n",
              "      <td>2021-06-05</td>\n",
              "      <td>2021-06-06</td>\n",
              "      <td>2</td>\n",
              "      <td>NaN</td>\n",
              "      <td>NaN</td>\n",
              "      <td>NaN</td>\n",
              "      <td>NaN</td>\n",
              "      <td>NaN</td>\n",
              "      <td>NaN</td>\n",
              "      <td>NaN</td>\n",
              "      <td>NaN</td>\n",
              "      <td>NaN</td>\n",
              "      <td>NaN</td>\n",
              "      <td>NaN</td>\n",
              "      <td>NaN</td>\n",
              "      <td>NaN</td>\n",
              "      <td>NaN</td>\n",
              "      <td>NaN</td>\n",
              "      <td>63</td>\n",
              "      <td>National</td>\n",
              "    </tr>\n",
              "  </tbody>\n",
              "</table>\n",
              "</div>"
            ],
            "text/plain": [
              "  country_territory                 place first_lockdown_start_date first_lockdown_end_date first_lockdown_length second_lockdown_start_date second_lockdown_end_date second_lockdown_length third_lockdown_start_date third_lockdown_end_date third_lockdown_length fourth_lockdown_start_date fourth_lockdown_end_date fourth_lockdown_length fifth_lockdown_start_date fifth_lockdown_end_date fifth_lockdown_length sixth_lockdown_start_date sixth_lockdown_end_date sixth_lockdown_length seventh_lockdown_start_date seventh_lockdown_end_date seventh_lockdown_length eighth_lockdown_start_date eighth_lockdown_end_date eighth_lockdown_length total_length              level\n",
              "0           Albania               Albania                2020-03-13              2020-06-01                    80                        NaN                      NaN                    NaN                       NaN                     NaN                   NaN                        NaN                      NaN                    NaN                       NaN                     NaN                   NaN                       NaN                     NaN                   NaN                         NaN                       NaN                     NaN                        NaN                      NaN                    NaN           80           National\n",
              "1           Algeria               Algiers                2020-03-23              2020-05-14                    52                        NaN                      NaN                    NaN                       NaN                     NaN                   NaN                        NaN                      NaN                    NaN                       NaN                     NaN                   NaN                       NaN                     NaN                   NaN                         NaN                       NaN                     NaN                        NaN                      NaN                    NaN           52               City\n",
              "2           Algeria                 Blida                2020-03-23              2020-05-14                    52                        NaN                      NaN                    NaN                       NaN                     NaN                   NaN                        NaN                      NaN                    NaN                       NaN                     NaN                   NaN                       NaN                     NaN                   NaN                         NaN                       NaN                     NaN                        NaN                      NaN                    NaN           52               City\n",
              "3         Argentina  Greater Buenos Aires                2020-03-19              2020-11-08                   234                 2021-05-22               2021-05-30                      9                2021-06-05              2021-06-06                     2                        NaN                      NaN                    NaN                       NaN                     NaN                   NaN                       NaN                     NaN                   NaN                         NaN                       NaN                     NaN                        NaN                      NaN                    NaN          245  Metropolitan area\n",
              "4         Argentina   Rest of the country                2020-03-19              2020-05-10                    52                 2021-05-22               2021-05-30                      9                2021-06-05              2021-06-06                     2                        NaN                      NaN                    NaN                       NaN                     NaN                   NaN                       NaN                     NaN                   NaN                         NaN                       NaN                     NaN                        NaN                      NaN                    NaN           63           National"
            ]
          },
          "metadata": {},
          "execution_count": 58
        }
      ]
    },
    {
      "cell_type": "code",
      "metadata": {
        "colab": {
          "base_uri": "https://localhost:8080/",
          "height": 17
        },
        "id": "7s7L8ubcMZiR",
        "outputId": "3662c757-3f99-4416-9e44-55f5f2d9c81d"
      },
      "source": [
        "# save the processed version of the data\n",
        "x.to_csv('lockdown_dates_wikipedia.csv', index=False, header=True)"
      ],
      "execution_count": 59,
      "outputs": [
        {
          "output_type": "display_data",
          "data": {
            "text/html": [
              "\n",
              "  <style>\n",
              "    pre {\n",
              "        white-space: pre-wrap;\n",
              "    }\n",
              "  </style>\n",
              "  "
            ],
            "text/plain": [
              "<IPython.core.display.HTML object>"
            ]
          },
          "metadata": {}
        }
      ]
    },
    {
      "cell_type": "code",
      "metadata": {
        "id": "hSwX4IKvOuPN"
      },
      "source": [
        "# add fine-grained fixed to the date columns\n",
        "# '2020-05-30to 2020-05-11' --> '2020-05-30 to 2020-05-11'\n",
        "# '2020-05-31(downgraded to a night and weekend curfew)' --> '2020-05-31 (downgraded to a night and weekend curfew)'\n",
        "# '2021-11-29(TBC)' --> '2021-11-29 (TBC)'"
      ],
      "execution_count": null,
      "outputs": []
    },
    {
      "cell_type": "code",
      "metadata": {
        "id": "7H-BiJsJPi5M"
      },
      "source": [
        "# TODO: add 2-letter country code column\n",
        "# TODO: encode lockdown level based on severity (0: no lockdown, ... m: full lockdown)\n",
        "# check row 195, Turkey; why the place/city column is empty (check original data source)\n",
        "  # that cell is empty in the table we scraped data from, so, this should be\n",
        "  # fixed manually in cased someone wanted to focus his studies on Turkey"
      ],
      "execution_count": null,
      "outputs": []
    },
    {
      "cell_type": "code",
      "metadata": {
        "colab": {
          "base_uri": "https://localhost:8080/",
          "height": 153
        },
        "id": "4WUO6b_qWbdb",
        "outputId": "3a78aa88-7d4a-4a6d-bee6-378b45b445a0"
      },
      "source": [
        "for dc in date_columns:\n",
        "  # print(dc)\n",
        "  for idx, value in x[dc].items():\n",
        "    if (isinstance(value, str)) and ('(' in value or 'to' in value):\n",
        "      print(f'{dc:30}\\t{idx}\\t{value}')\n",
        "  # print()\n",
        "\n",
        "# these defects are not that many, we can fix them manually after\n",
        "# exporting the final version of the dataset"
      ],
      "execution_count": 135,
      "outputs": [
        {
          "output_type": "display_data",
          "data": {
            "text/html": [
              "\n",
              "  <style>\n",
              "    pre {\n",
              "        white-space: pre-wrap;\n",
              "    }\n",
              "  </style>\n",
              "  "
            ],
            "text/plain": [
              "<IPython.core.display.HTML object>"
            ]
          },
          "metadata": {}
        },
        {
          "output_type": "stream",
          "name": "stdout",
          "text": [
            "first_lockdown_end_date       \t94\t2020-05-30to 2020-05-11\n",
            "first_lockdown_end_date       \t162\t2020-05-31(downgraded to a night and weekend curfew)\n",
            "first_lockdown_end_date       \t166\t2020-05-15to 2020-05-31\n",
            "first_lockdown_end_date       \t168\t2020-04-30to 2020-05-15to 2020-05-31\n",
            "first_lockdown_end_date       \t184\t2020-04-21to 2020-05-04\n",
            "second_lockdown_start_date    \t69\t2020-11-28 (de facto)\n",
            "second_lockdown_end_date      \t94\t2021-03-01 to 2021-06-11\n",
            "fifth_lockdown_end_date       \t153\t2021-11-29(TBC)\n"
          ]
        }
      ]
    },
    {
      "cell_type": "code",
      "metadata": {
        "colab": {
          "base_uri": "https://localhost:8080/",
          "height": 340
        },
        "id": "dHQdVcdiZ7kh",
        "outputId": "12a84dcf-99c4-41dc-f348-9e2f16bd6f15"
      },
      "source": [
        "# let's add a country codes column to our dataset\n",
        "# this is to make it merge easily with other datasets\n",
        "x.country_territory.unique()"
      ],
      "execution_count": 76,
      "outputs": [
        {
          "output_type": "display_data",
          "data": {
            "text/html": [
              "\n",
              "  <style>\n",
              "    pre {\n",
              "        white-space: pre-wrap;\n",
              "    }\n",
              "  </style>\n",
              "  "
            ],
            "text/plain": [
              "<IPython.core.display.HTML object>"
            ]
          },
          "metadata": {}
        },
        {
          "output_type": "execute_result",
          "data": {
            "text/plain": [
              "array(['Albania', 'Algeria', 'Argentina', 'Armenia', 'Australia',\n",
              "       'Austria', 'Azerbaijan', 'Bangladesh', 'Barbados', 'Belgium',\n",
              "       'Bermuda', 'Bhutan', 'Bolivia', 'Botswana', 'Brazil', 'Bulgaria',\n",
              "       'Cambodia', 'Canada', 'Colombia', 'Congo', 'Costa Rica', 'Croatia',\n",
              "       'Cyprus', 'Czech Republic', 'Denmark', 'Ecuador', 'El Salvador',\n",
              "       'Eritrea', 'Estonia', 'Fiji', 'France', 'Finland', 'Georgia',\n",
              "       'Germany', 'Ghana', 'Greece', 'Guernsey', 'Honduras', 'Hungary',\n",
              "       'India', 'Iran', 'Iraq', 'Ireland', 'Israel', 'Italy', 'Jamaica',\n",
              "       'Jordan', 'Kosovo', 'Kuwait', 'Lebanon', 'Libya', 'Lithuania',\n",
              "       'Madagascar', 'Malaysia', 'Mexico', 'Mongolia', 'Montenegro',\n",
              "       'Morocco', 'Namibia', 'Nepal', 'Netherlands', 'New Zealand',\n",
              "       'Nigeria', 'Northern Cyprus', 'North Korea', 'Oman', 'Pakistan',\n",
              "       'Panama', 'Papua New Guinea', 'Paraguay', 'Peru', 'Philippines',\n",
              "       'Poland', 'Portugal', 'Qatar', 'Romania', 'Russia', 'Rwanda',\n",
              "       'Samoa', 'San Marino', 'Saudi Arabia', 'Serbia', 'Singapore',\n",
              "       'South Africa', 'Spain', 'Sri Lanka', 'Switzerland', 'Thailand',\n",
              "       'Trinidad and Tobago', 'Tunisia', 'Turkey', 'Ukraine',\n",
              "       'United Arab Emirates', 'United Kingdom', 'United States',\n",
              "       'Venezuela', 'Vietnam', 'Zimbabwe'], dtype=object)"
            ]
          },
          "metadata": {},
          "execution_count": 76
        }
      ]
    },
    {
      "cell_type": "code",
      "metadata": {
        "colab": {
          "base_uri": "https://localhost:8080/",
          "height": 17
        },
        "id": "cvUu_Ar7eGsb",
        "outputId": "e0d83b41-f040-4219-99c9-8d7dda78f829"
      },
      "source": [
        "COUNTRY_CODES_FILE = 'https://www.dropbox.com/s/h1u9kkc1l30lw8a/country_codes_and_flags.tsv'\n",
        "!wget {COUNTRY_CODES_FILE} &> /dev/null"
      ],
      "execution_count": 78,
      "outputs": [
        {
          "output_type": "display_data",
          "data": {
            "text/html": [
              "\n",
              "  <style>\n",
              "    pre {\n",
              "        white-space: pre-wrap;\n",
              "    }\n",
              "  </style>\n",
              "  "
            ],
            "text/plain": [
              "<IPython.core.display.HTML object>"
            ]
          },
          "metadata": {}
        }
      ]
    },
    {
      "cell_type": "code",
      "metadata": {
        "colab": {
          "base_uri": "https://localhost:8080/",
          "height": 187
        },
        "id": "Q5RekYbqe2D0",
        "outputId": "f4629442-d99b-46de-926b-c9bbc47217b0"
      },
      "source": [
        "!head 'country_codes_and_flags.tsv' | cat -n"
      ],
      "execution_count": 82,
      "outputs": [
        {
          "output_type": "display_data",
          "data": {
            "text/html": [
              "\n",
              "  <style>\n",
              "    pre {\n",
              "        white-space: pre-wrap;\n",
              "    }\n",
              "  </style>\n",
              "  "
            ],
            "text/plain": [
              "<IPython.core.display.HTML object>"
            ]
          },
          "metadata": {}
        },
        {
          "output_type": "stream",
          "name": "stdout",
          "text": [
            "     1\tCountry Name\tAlpha-2 Code\tAlpha-3 Code\tNumeric Code\tFlag\n",
            "     2\tAfghanistan\tAF\tAFG\t4\t🇦🇫\n",
            "     3\tÅland Islands\tAX\tALA\t248\t🇦🇽\n",
            "     4\tAlbania\tAL\tALB\t8\t🇦🇱\n",
            "     5\tAlgeria\tDZ\tDZA\t12\t🇩🇿\n",
            "     6\tAmerican Samoa\tAS\tASM\t16\t🇦🇸\n",
            "     7\tAndorra\tAD\tAND\t20\t🇦🇩\n",
            "     8\tAngola\tAO\tAGO\t24\t🇦🇴\n",
            "     9\tAnguilla\tAI\tAIA\t660\t🇦🇮\n",
            "    10\tAntarctica\tAQ\tATA\t10\t🇦🇶\n"
          ]
        }
      ]
    },
    {
      "cell_type": "code",
      "metadata": {
        "colab": {
          "base_uri": "https://localhost:8080/",
          "height": 17
        },
        "id": "hfZy7lWoeojH",
        "outputId": "561f99f5-82c1-480f-ffd7-8f36e19151b5"
      },
      "source": [
        "cc_df = pd.read_csv('country_codes_and_flags.tsv', sep='\\t')"
      ],
      "execution_count": 83,
      "outputs": [
        {
          "output_type": "display_data",
          "data": {
            "text/html": [
              "\n",
              "  <style>\n",
              "    pre {\n",
              "        white-space: pre-wrap;\n",
              "    }\n",
              "  </style>\n",
              "  "
            ],
            "text/plain": [
              "<IPython.core.display.HTML object>"
            ]
          },
          "metadata": {}
        }
      ]
    },
    {
      "cell_type": "code",
      "metadata": {
        "colab": {
          "base_uri": "https://localhost:8080/",
          "height": 194
        },
        "id": "dBYjUJsfevLt",
        "outputId": "87ba3b8d-3043-400b-fb28-42af1bc7b056"
      },
      "source": [
        "cc_df.head()"
      ],
      "execution_count": 85,
      "outputs": [
        {
          "output_type": "display_data",
          "data": {
            "text/html": [
              "\n",
              "  <style>\n",
              "    pre {\n",
              "        white-space: pre-wrap;\n",
              "    }\n",
              "  </style>\n",
              "  "
            ],
            "text/plain": [
              "<IPython.core.display.HTML object>"
            ]
          },
          "metadata": {}
        },
        {
          "output_type": "execute_result",
          "data": {
            "application/vnd.google.colaboratory.module+javascript": "\n      import \"https://ssl.gstatic.com/colaboratory/data_table/a6224c040fa35dcf/data_table.js\";\n\n      window.createDataTable({\n        data: [[{\n            'v': 0,\n            'f': \"0\",\n        },\n\"Afghanistan\",\n\"AF\",\n\"AFG\",\n{\n            'v': 4,\n            'f': \"4\",\n        },\n\"\\ud83c\\udde6\\ud83c\\uddeb\"],\n [{\n            'v': 1,\n            'f': \"1\",\n        },\n\"\\u00c5land Islands\",\n\"AX\",\n\"ALA\",\n{\n            'v': 248,\n            'f': \"248\",\n        },\n\"\\ud83c\\udde6\\ud83c\\uddfd\"],\n [{\n            'v': 2,\n            'f': \"2\",\n        },\n\"Albania\",\n\"AL\",\n\"ALB\",\n{\n            'v': 8,\n            'f': \"8\",\n        },\n\"\\ud83c\\udde6\\ud83c\\uddf1\"],\n [{\n            'v': 3,\n            'f': \"3\",\n        },\n\"Algeria\",\n\"DZ\",\n\"DZA\",\n{\n            'v': 12,\n            'f': \"12\",\n        },\n\"\\ud83c\\udde9\\ud83c\\uddff\"],\n [{\n            'v': 4,\n            'f': \"4\",\n        },\n\"American Samoa\",\n\"AS\",\n\"ASM\",\n{\n            'v': 16,\n            'f': \"16\",\n        },\n\"\\ud83c\\udde6\\ud83c\\uddf8\"]],\n        columns: [[\"number\", \"index\"], [\"string\", \"Country Name\"], [\"string\", \"Alpha-2 Code\"], [\"string\", \"Alpha-3 Code\"], [\"number\", \"Numeric Code\"], [\"string\", \"Flag\"]],\n        columnOptions: [{\"width\": \"1px\", \"className\": \"index_column\"}],\n        rowsPerPage: 25,\n        helpUrl: \"https://colab.research.google.com/notebooks/data_table.ipynb\",\n        suppressOutputScrolling: true,\n        minimumWidth: undefined,\n      });\n    ",
            "text/html": [
              "<div>\n",
              "<style scoped>\n",
              "    .dataframe tbody tr th:only-of-type {\n",
              "        vertical-align: middle;\n",
              "    }\n",
              "\n",
              "    .dataframe tbody tr th {\n",
              "        vertical-align: top;\n",
              "    }\n",
              "\n",
              "    .dataframe thead th {\n",
              "        text-align: right;\n",
              "    }\n",
              "</style>\n",
              "<table border=\"1\" class=\"dataframe\">\n",
              "  <thead>\n",
              "    <tr style=\"text-align: right;\">\n",
              "      <th></th>\n",
              "      <th>Country Name</th>\n",
              "      <th>Alpha-2 Code</th>\n",
              "      <th>Alpha-3 Code</th>\n",
              "      <th>Numeric Code</th>\n",
              "      <th>Flag</th>\n",
              "    </tr>\n",
              "  </thead>\n",
              "  <tbody>\n",
              "    <tr>\n",
              "      <th>0</th>\n",
              "      <td>Afghanistan</td>\n",
              "      <td>AF</td>\n",
              "      <td>AFG</td>\n",
              "      <td>4</td>\n",
              "      <td>🇦🇫</td>\n",
              "    </tr>\n",
              "    <tr>\n",
              "      <th>1</th>\n",
              "      <td>Åland Islands</td>\n",
              "      <td>AX</td>\n",
              "      <td>ALA</td>\n",
              "      <td>248</td>\n",
              "      <td>🇦🇽</td>\n",
              "    </tr>\n",
              "    <tr>\n",
              "      <th>2</th>\n",
              "      <td>Albania</td>\n",
              "      <td>AL</td>\n",
              "      <td>ALB</td>\n",
              "      <td>8</td>\n",
              "      <td>🇦🇱</td>\n",
              "    </tr>\n",
              "    <tr>\n",
              "      <th>3</th>\n",
              "      <td>Algeria</td>\n",
              "      <td>DZ</td>\n",
              "      <td>DZA</td>\n",
              "      <td>12</td>\n",
              "      <td>🇩🇿</td>\n",
              "    </tr>\n",
              "    <tr>\n",
              "      <th>4</th>\n",
              "      <td>American Samoa</td>\n",
              "      <td>AS</td>\n",
              "      <td>ASM</td>\n",
              "      <td>16</td>\n",
              "      <td>🇦🇸</td>\n",
              "    </tr>\n",
              "  </tbody>\n",
              "</table>\n",
              "</div>"
            ],
            "text/plain": [
              "     Country Name Alpha-2 Code Alpha-3 Code  Numeric Code Flag\n",
              "0     Afghanistan           AF          AFG             4   🇦🇫\n",
              "1   Åland Islands           AX          ALA           248   🇦🇽\n",
              "2         Albania           AL          ALB             8   🇦🇱\n",
              "3         Algeria           DZ          DZA            12   🇩🇿\n",
              "4  American Samoa           AS          ASM            16   🇦🇸"
            ]
          },
          "metadata": {},
          "execution_count": 85
        }
      ]
    },
    {
      "cell_type": "code",
      "metadata": {
        "colab": {
          "base_uri": "https://localhost:8080/",
          "height": 34
        },
        "id": "a94GeQEafOPH",
        "outputId": "4d06bc3c-b240-4050-9ff8-509dc3803804"
      },
      "source": [
        "# let's lowercase colum names to make using them easier later\n",
        "cc_df.columns = map(lambda x : x.lower(), cc_df.columns)\n",
        "# let's also replace spaces ' ' and dashes '-' with underscores '_' for the same reason\n",
        "cc_df.columns = map(lambda x : x.replace(' ', '_'), cc_df.columns)\n",
        "cc_df.columns = map(lambda x : x.replace('-', '_'), cc_df.columns)\n",
        "list(cc_df.columns)"
      ],
      "execution_count": 86,
      "outputs": [
        {
          "output_type": "display_data",
          "data": {
            "text/html": [
              "\n",
              "  <style>\n",
              "    pre {\n",
              "        white-space: pre-wrap;\n",
              "    }\n",
              "  </style>\n",
              "  "
            ],
            "text/plain": [
              "<IPython.core.display.HTML object>"
            ]
          },
          "metadata": {}
        },
        {
          "output_type": "execute_result",
          "data": {
            "text/plain": [
              "['country_name', 'alpha_2_code', 'alpha_3_code', 'numeric_code', 'flag']"
            ]
          },
          "metadata": {},
          "execution_count": 86
        }
      ]
    },
    {
      "cell_type": "code",
      "metadata": {
        "colab": {
          "base_uri": "https://localhost:8080/",
          "height": 194
        },
        "id": "VNtEWN3tfZw2",
        "outputId": "b4c3bee9-9a96-4448-9f7a-52bc9cb71839"
      },
      "source": [
        "cc_df.head()"
      ],
      "execution_count": 88,
      "outputs": [
        {
          "output_type": "display_data",
          "data": {
            "text/html": [
              "\n",
              "  <style>\n",
              "    pre {\n",
              "        white-space: pre-wrap;\n",
              "    }\n",
              "  </style>\n",
              "  "
            ],
            "text/plain": [
              "<IPython.core.display.HTML object>"
            ]
          },
          "metadata": {}
        },
        {
          "output_type": "execute_result",
          "data": {
            "application/vnd.google.colaboratory.module+javascript": "\n      import \"https://ssl.gstatic.com/colaboratory/data_table/a6224c040fa35dcf/data_table.js\";\n\n      window.createDataTable({\n        data: [[{\n            'v': 0,\n            'f': \"0\",\n        },\n\"Afghanistan\",\n\"AF\",\n\"AFG\",\n{\n            'v': 4,\n            'f': \"4\",\n        },\n\"\\ud83c\\udde6\\ud83c\\uddeb\"],\n [{\n            'v': 1,\n            'f': \"1\",\n        },\n\"\\u00c5land Islands\",\n\"AX\",\n\"ALA\",\n{\n            'v': 248,\n            'f': \"248\",\n        },\n\"\\ud83c\\udde6\\ud83c\\uddfd\"],\n [{\n            'v': 2,\n            'f': \"2\",\n        },\n\"Albania\",\n\"AL\",\n\"ALB\",\n{\n            'v': 8,\n            'f': \"8\",\n        },\n\"\\ud83c\\udde6\\ud83c\\uddf1\"],\n [{\n            'v': 3,\n            'f': \"3\",\n        },\n\"Algeria\",\n\"DZ\",\n\"DZA\",\n{\n            'v': 12,\n            'f': \"12\",\n        },\n\"\\ud83c\\udde9\\ud83c\\uddff\"],\n [{\n            'v': 4,\n            'f': \"4\",\n        },\n\"American Samoa\",\n\"AS\",\n\"ASM\",\n{\n            'v': 16,\n            'f': \"16\",\n        },\n\"\\ud83c\\udde6\\ud83c\\uddf8\"]],\n        columns: [[\"number\", \"index\"], [\"string\", \"country_name\"], [\"string\", \"alpha_2_code\"], [\"string\", \"alpha_3_code\"], [\"number\", \"numeric_code\"], [\"string\", \"flag\"]],\n        columnOptions: [{\"width\": \"1px\", \"className\": \"index_column\"}],\n        rowsPerPage: 25,\n        helpUrl: \"https://colab.research.google.com/notebooks/data_table.ipynb\",\n        suppressOutputScrolling: true,\n        minimumWidth: undefined,\n      });\n    ",
            "text/html": [
              "<div>\n",
              "<style scoped>\n",
              "    .dataframe tbody tr th:only-of-type {\n",
              "        vertical-align: middle;\n",
              "    }\n",
              "\n",
              "    .dataframe tbody tr th {\n",
              "        vertical-align: top;\n",
              "    }\n",
              "\n",
              "    .dataframe thead th {\n",
              "        text-align: right;\n",
              "    }\n",
              "</style>\n",
              "<table border=\"1\" class=\"dataframe\">\n",
              "  <thead>\n",
              "    <tr style=\"text-align: right;\">\n",
              "      <th></th>\n",
              "      <th>country_name</th>\n",
              "      <th>alpha_2_code</th>\n",
              "      <th>alpha_3_code</th>\n",
              "      <th>numeric_code</th>\n",
              "      <th>flag</th>\n",
              "    </tr>\n",
              "  </thead>\n",
              "  <tbody>\n",
              "    <tr>\n",
              "      <th>0</th>\n",
              "      <td>Afghanistan</td>\n",
              "      <td>AF</td>\n",
              "      <td>AFG</td>\n",
              "      <td>4</td>\n",
              "      <td>🇦🇫</td>\n",
              "    </tr>\n",
              "    <tr>\n",
              "      <th>1</th>\n",
              "      <td>Åland Islands</td>\n",
              "      <td>AX</td>\n",
              "      <td>ALA</td>\n",
              "      <td>248</td>\n",
              "      <td>🇦🇽</td>\n",
              "    </tr>\n",
              "    <tr>\n",
              "      <th>2</th>\n",
              "      <td>Albania</td>\n",
              "      <td>AL</td>\n",
              "      <td>ALB</td>\n",
              "      <td>8</td>\n",
              "      <td>🇦🇱</td>\n",
              "    </tr>\n",
              "    <tr>\n",
              "      <th>3</th>\n",
              "      <td>Algeria</td>\n",
              "      <td>DZ</td>\n",
              "      <td>DZA</td>\n",
              "      <td>12</td>\n",
              "      <td>🇩🇿</td>\n",
              "    </tr>\n",
              "    <tr>\n",
              "      <th>4</th>\n",
              "      <td>American Samoa</td>\n",
              "      <td>AS</td>\n",
              "      <td>ASM</td>\n",
              "      <td>16</td>\n",
              "      <td>🇦🇸</td>\n",
              "    </tr>\n",
              "  </tbody>\n",
              "</table>\n",
              "</div>"
            ],
            "text/plain": [
              "     country_name alpha_2_code alpha_3_code  numeric_code flag\n",
              "0     Afghanistan           AF          AFG             4   🇦🇫\n",
              "1   Åland Islands           AX          ALA           248   🇦🇽\n",
              "2         Albania           AL          ALB             8   🇦🇱\n",
              "3         Algeria           DZ          DZA            12   🇩🇿\n",
              "4  American Samoa           AS          ASM            16   🇦🇸"
            ]
          },
          "metadata": {},
          "execution_count": 88
        }
      ]
    },
    {
      "cell_type": "code",
      "metadata": {
        "colab": {
          "base_uri": "https://localhost:8080/",
          "height": 360
        },
        "id": "wwkF3yl5fk74",
        "outputId": "8831d65a-2428-4401-9ec9-2e151db88346"
      },
      "source": [
        "!head 'lockdown_dates_wikipedia.csv' | cat -n"
      ],
      "execution_count": 89,
      "outputs": [
        {
          "output_type": "display_data",
          "data": {
            "text/html": [
              "\n",
              "  <style>\n",
              "    pre {\n",
              "        white-space: pre-wrap;\n",
              "    }\n",
              "  </style>\n",
              "  "
            ],
            "text/plain": [
              "<IPython.core.display.HTML object>"
            ]
          },
          "metadata": {}
        },
        {
          "output_type": "stream",
          "name": "stdout",
          "text": [
            "     1\tcountry_territory,place,first_lockdown_start_date,first_lockdown_end_date,first_lockdown_length,second_lockdown_start_date,second_lockdown_end_date,second_lockdown_length,third_lockdown_start_date,third_lockdown_end_date,third_lockdown_length,fourth_lockdown_start_date,fourth_lockdown_end_date,fourth_lockdown_length,fifth_lockdown_start_date,fifth_lockdown_end_date,fifth_lockdown_length,sixth_lockdown_start_date,sixth_lockdown_end_date,sixth_lockdown_length,seventh_lockdown_start_date,seventh_lockdown_end_date,seventh_lockdown_length,eighth_lockdown_start_date,eighth_lockdown_end_date,eighth_lockdown_length,total_length,level\n",
            "     2\tAlbania,Albania,2020-03-13,2020-06-01,80,,,,,,,,,,,,,,,,,,,,,,80,National\n",
            "     3\tAlgeria,Algiers,2020-03-23,2020-05-14,52,,,,,,,,,,,,,,,,,,,,,,52,City\n",
            "     4\tAlgeria,Blida,2020-03-23,2020-05-14,52,,,,,,,,,,,,,,,,,,,,,,52,City\n",
            "     5\tArgentina,Greater Buenos Aires,2020-03-19,2020-11-08,234,2021-05-22,2021-05-30,9,2021-06-05,2021-06-06,2,,,,,,,,,,,,,,,,245,Metropolitan area\n",
            "     6\tArgentina,Rest of the country,2020-03-19,2020-05-10,52,2021-05-22,2021-05-30,9,2021-06-05,2021-06-06,2,,,,,,,,,,,,,,,,63,National\n",
            "     7\tArmenia,Armenia,2020-03-24,2020-05-04,41,,,,,,,,,,,,,,,,,,,,,,41,National\n",
            "     8\tAustralia,Melbourne,2020-03-31,2020-05-12,43,2020-07-09,2020-10-27,111,2021-02-13,2021-02-17,5,2021-05-28,2021-06-10,14,2021-07-16,2021-07-27,12,2021-08-05,2021-10-21,78,,,,,,,263,Metropolitan area\n",
            "     9\tAustralia,Greater Shepparton,2020-03-31,2020-05-12,43,2020-08-06,2020-09-16,41,2021-02-13,2021-02-17,5,2021-05-28,2021-06-03,7,2021-07-16,2021-07-27,12,2021-08-05,2021-08-09,5,2021-08-21,2021-09-15,25,2021-10-02,2021-10-09,7,145,Local government area\n",
            "    10\tAustralia,Ballarat,2020-03-31,2020-05-12,43,2020-08-06,2020-09-16,41,2021-02-13,2021-02-17,5,2021-05-28,2021-06-03,7,2021-07-16,2021-07-27,12,2021-08-05,2021-08-09,5,2021-08-21,2021-09-09,20,2021-09-16,2021-09-22,7,140,Local government area\n"
          ]
        }
      ]
    },
    {
      "cell_type": "code",
      "metadata": {
        "colab": {
          "base_uri": "https://localhost:8080/",
          "height": 17
        },
        "id": "EDGswp1VfdRt",
        "outputId": "b6a400c3-2c09-47f1-abf3-9fb6e4b95d7c"
      },
      "source": [
        "# now we have to check if all the countries in our dataset have an entry\n",
        "# in the country_codes table\n",
        "dataset_countries = x.country_territory.unique()\n",
        "cc_countries = cc_df.country_name.unique() # country codes countries"
      ],
      "execution_count": 91,
      "outputs": [
        {
          "output_type": "display_data",
          "data": {
            "text/html": [
              "\n",
              "  <style>\n",
              "    pre {\n",
              "        white-space: pre-wrap;\n",
              "    }\n",
              "  </style>\n",
              "  "
            ],
            "text/plain": [
              "<IPython.core.display.HTML object>"
            ]
          },
          "metadata": {}
        }
      ]
    },
    {
      "cell_type": "code",
      "metadata": {
        "colab": {
          "base_uri": "https://localhost:8080/",
          "height": 204
        },
        "id": "0hWixUWffyZV",
        "outputId": "a6ec278e-6947-4112-bf8e-99c9ef9f6a9a"
      },
      "source": [
        "# these country names are in our dataset but we couldn't find them\n",
        "# in the country codes table, to fix this, we add them manually\n",
        "set(dataset_countries) - set(cc_countries)"
      ],
      "execution_count": 92,
      "outputs": [
        {
          "output_type": "display_data",
          "data": {
            "text/html": [
              "\n",
              "  <style>\n",
              "    pre {\n",
              "        white-space: pre-wrap;\n",
              "    }\n",
              "  </style>\n",
              "  "
            ],
            "text/plain": [
              "<IPython.core.display.HTML object>"
            ]
          },
          "metadata": {}
        },
        {
          "output_type": "execute_result",
          "data": {
            "text/plain": [
              "{'Bolivia',\n",
              " 'Czech Republic',\n",
              " 'Iran',\n",
              " 'Kosovo',\n",
              " 'North Korea',\n",
              " 'Northern Cyprus',\n",
              " 'Russia',\n",
              " 'United Kingdom',\n",
              " 'United States',\n",
              " 'Venezuela',\n",
              " 'Vietnam'}"
            ]
          },
          "metadata": {},
          "execution_count": 92
        }
      ]
    },
    {
      "cell_type": "code",
      "metadata": {
        "colab": {
          "base_uri": "https://localhost:8080/",
          "height": 110
        },
        "id": "gH9CX8t1gcTi",
        "outputId": "19337f2c-8afd-4213-8419-a0ae85147bcb"
      },
      "source": [
        "# 'Czech Republic' if called 'Czechia' in the country codes table\n",
        "# https://en.wikipedia.org/wiki/Czech_Republic\n",
        "cc_df[cc_df.alpha_2_code == 'CZ']"
      ],
      "execution_count": 94,
      "outputs": [
        {
          "output_type": "display_data",
          "data": {
            "text/html": [
              "\n",
              "  <style>\n",
              "    pre {\n",
              "        white-space: pre-wrap;\n",
              "    }\n",
              "  </style>\n",
              "  "
            ],
            "text/plain": [
              "<IPython.core.display.HTML object>"
            ]
          },
          "metadata": {}
        },
        {
          "output_type": "execute_result",
          "data": {
            "application/vnd.google.colaboratory.module+javascript": "\n      import \"https://ssl.gstatic.com/colaboratory/data_table/a6224c040fa35dcf/data_table.js\";\n\n      window.createDataTable({\n        data: [[{\n            'v': 59,\n            'f': \"59\",\n        },\n\"Czechia\",\n\"CZ\",\n\"CZE\",\n{\n            'v': 203,\n            'f': \"203\",\n        },\n\"\\ud83c\\udde8\\ud83c\\uddff\"]],\n        columns: [[\"number\", \"index\"], [\"string\", \"country_name\"], [\"string\", \"alpha_2_code\"], [\"string\", \"alpha_3_code\"], [\"number\", \"numeric_code\"], [\"string\", \"flag\"]],\n        columnOptions: [{\"width\": \"1px\", \"className\": \"index_column\"}],\n        rowsPerPage: 25,\n        helpUrl: \"https://colab.research.google.com/notebooks/data_table.ipynb\",\n        suppressOutputScrolling: true,\n        minimumWidth: undefined,\n      });\n    ",
            "text/html": [
              "<div>\n",
              "<style scoped>\n",
              "    .dataframe tbody tr th:only-of-type {\n",
              "        vertical-align: middle;\n",
              "    }\n",
              "\n",
              "    .dataframe tbody tr th {\n",
              "        vertical-align: top;\n",
              "    }\n",
              "\n",
              "    .dataframe thead th {\n",
              "        text-align: right;\n",
              "    }\n",
              "</style>\n",
              "<table border=\"1\" class=\"dataframe\">\n",
              "  <thead>\n",
              "    <tr style=\"text-align: right;\">\n",
              "      <th></th>\n",
              "      <th>country_name</th>\n",
              "      <th>alpha_2_code</th>\n",
              "      <th>alpha_3_code</th>\n",
              "      <th>numeric_code</th>\n",
              "      <th>flag</th>\n",
              "    </tr>\n",
              "  </thead>\n",
              "  <tbody>\n",
              "    <tr>\n",
              "      <th>59</th>\n",
              "      <td>Czechia</td>\n",
              "      <td>CZ</td>\n",
              "      <td>CZE</td>\n",
              "      <td>203</td>\n",
              "      <td>🇨🇿</td>\n",
              "    </tr>\n",
              "  </tbody>\n",
              "</table>\n",
              "</div>"
            ],
            "text/plain": [
              "   country_name alpha_2_code alpha_3_code  numeric_code flag\n",
              "59      Czechia           CZ          CZE           203   🇨🇿"
            ]
          },
          "metadata": {},
          "execution_count": 94
        }
      ]
    },
    {
      "cell_type": "code",
      "metadata": {
        "colab": {
          "base_uri": "https://localhost:8080/",
          "height": 110
        },
        "id": "rSnXJN-WhHvg",
        "outputId": "b5560b38-d083-4c8e-e7cb-1a1c6a094b12"
      },
      "source": [
        "# 'North Korea' = 'Korea (Democratic People's Republic of)'\n",
        "# https://en.wikipedia.org/wiki/North_Korea\n",
        "cc_df[cc_df.alpha_2_code == 'KP']"
      ],
      "execution_count": 95,
      "outputs": [
        {
          "output_type": "display_data",
          "data": {
            "text/html": [
              "\n",
              "  <style>\n",
              "    pre {\n",
              "        white-space: pre-wrap;\n",
              "    }\n",
              "  </style>\n",
              "  "
            ],
            "text/plain": [
              "<IPython.core.display.HTML object>"
            ]
          },
          "metadata": {}
        },
        {
          "output_type": "execute_result",
          "data": {
            "application/vnd.google.colaboratory.module+javascript": "\n      import \"https://ssl.gstatic.com/colaboratory/data_table/a6224c040fa35dcf/data_table.js\";\n\n      window.createDataTable({\n        data: [[{\n            'v': 118,\n            'f': \"118\",\n        },\n\"Korea (Democratic People's Republic of)\",\n\"KP\",\n\"PRK\",\n{\n            'v': 408,\n            'f': \"408\",\n        },\n\"\\ud83c\\uddf0\\ud83c\\uddf5\"]],\n        columns: [[\"number\", \"index\"], [\"string\", \"country_name\"], [\"string\", \"alpha_2_code\"], [\"string\", \"alpha_3_code\"], [\"number\", \"numeric_code\"], [\"string\", \"flag\"]],\n        columnOptions: [{\"width\": \"1px\", \"className\": \"index_column\"}],\n        rowsPerPage: 25,\n        helpUrl: \"https://colab.research.google.com/notebooks/data_table.ipynb\",\n        suppressOutputScrolling: true,\n        minimumWidth: undefined,\n      });\n    ",
            "text/html": [
              "<div>\n",
              "<style scoped>\n",
              "    .dataframe tbody tr th:only-of-type {\n",
              "        vertical-align: middle;\n",
              "    }\n",
              "\n",
              "    .dataframe tbody tr th {\n",
              "        vertical-align: top;\n",
              "    }\n",
              "\n",
              "    .dataframe thead th {\n",
              "        text-align: right;\n",
              "    }\n",
              "</style>\n",
              "<table border=\"1\" class=\"dataframe\">\n",
              "  <thead>\n",
              "    <tr style=\"text-align: right;\">\n",
              "      <th></th>\n",
              "      <th>country_name</th>\n",
              "      <th>alpha_2_code</th>\n",
              "      <th>alpha_3_code</th>\n",
              "      <th>numeric_code</th>\n",
              "      <th>flag</th>\n",
              "    </tr>\n",
              "  </thead>\n",
              "  <tbody>\n",
              "    <tr>\n",
              "      <th>118</th>\n",
              "      <td>Korea (Democratic People's Republic of)</td>\n",
              "      <td>KP</td>\n",
              "      <td>PRK</td>\n",
              "      <td>408</td>\n",
              "      <td>🇰🇵</td>\n",
              "    </tr>\n",
              "  </tbody>\n",
              "</table>\n",
              "</div>"
            ],
            "text/plain": [
              "                                country_name alpha_2_code alpha_3_code  numeric_code flag\n",
              "118  Korea (Democratic People's Republic of)           KP          PRK           408   🇰🇵"
            ]
          },
          "metadata": {},
          "execution_count": 95
        }
      ]
    },
    {
      "cell_type": "code",
      "metadata": {
        "colab": {
          "base_uri": "https://localhost:8080/",
          "height": 110
        },
        "id": "ppkks9MtiBvi",
        "outputId": "4697e12a-f7b7-436b-bf5c-df5134113dfb"
      },
      "source": [
        "# 'Northern Cyprus' = 'Cyprus'\n",
        "# https://en.wikipedia.org/wiki/Northern_Cyprus#Religion\n",
        "# https://www.prokerala.com/what-is/country-code/for-northern-cyprus.html\n",
        "cc_df[cc_df.alpha_2_code == 'CY']"
      ],
      "execution_count": 96,
      "outputs": [
        {
          "output_type": "display_data",
          "data": {
            "text/html": [
              "\n",
              "  <style>\n",
              "    pre {\n",
              "        white-space: pre-wrap;\n",
              "    }\n",
              "  </style>\n",
              "  "
            ],
            "text/plain": [
              "<IPython.core.display.HTML object>"
            ]
          },
          "metadata": {}
        },
        {
          "output_type": "execute_result",
          "data": {
            "application/vnd.google.colaboratory.module+javascript": "\n      import \"https://ssl.gstatic.com/colaboratory/data_table/a6224c040fa35dcf/data_table.js\";\n\n      window.createDataTable({\n        data: [[{\n            'v': 58,\n            'f': \"58\",\n        },\n\"Cyprus\",\n\"CY\",\n\"CYP\",\n{\n            'v': 196,\n            'f': \"196\",\n        },\n\"\\ud83c\\udde8\\ud83c\\uddfe\"]],\n        columns: [[\"number\", \"index\"], [\"string\", \"country_name\"], [\"string\", \"alpha_2_code\"], [\"string\", \"alpha_3_code\"], [\"number\", \"numeric_code\"], [\"string\", \"flag\"]],\n        columnOptions: [{\"width\": \"1px\", \"className\": \"index_column\"}],\n        rowsPerPage: 25,\n        helpUrl: \"https://colab.research.google.com/notebooks/data_table.ipynb\",\n        suppressOutputScrolling: true,\n        minimumWidth: undefined,\n      });\n    ",
            "text/html": [
              "<div>\n",
              "<style scoped>\n",
              "    .dataframe tbody tr th:only-of-type {\n",
              "        vertical-align: middle;\n",
              "    }\n",
              "\n",
              "    .dataframe tbody tr th {\n",
              "        vertical-align: top;\n",
              "    }\n",
              "\n",
              "    .dataframe thead th {\n",
              "        text-align: right;\n",
              "    }\n",
              "</style>\n",
              "<table border=\"1\" class=\"dataframe\">\n",
              "  <thead>\n",
              "    <tr style=\"text-align: right;\">\n",
              "      <th></th>\n",
              "      <th>country_name</th>\n",
              "      <th>alpha_2_code</th>\n",
              "      <th>alpha_3_code</th>\n",
              "      <th>numeric_code</th>\n",
              "      <th>flag</th>\n",
              "    </tr>\n",
              "  </thead>\n",
              "  <tbody>\n",
              "    <tr>\n",
              "      <th>58</th>\n",
              "      <td>Cyprus</td>\n",
              "      <td>CY</td>\n",
              "      <td>CYP</td>\n",
              "      <td>196</td>\n",
              "      <td>🇨🇾</td>\n",
              "    </tr>\n",
              "  </tbody>\n",
              "</table>\n",
              "</div>"
            ],
            "text/plain": [
              "   country_name alpha_2_code alpha_3_code  numeric_code flag\n",
              "58       Cyprus           CY          CYP           196   🇨🇾"
            ]
          },
          "metadata": {},
          "execution_count": 96
        }
      ]
    },
    {
      "cell_type": "code",
      "metadata": {
        "colab": {
          "base_uri": "https://localhost:8080/",
          "height": 17
        },
        "id": "cBla_1Ywf-tP",
        "outputId": "9bc45dfa-ac02-4a88-dd5b-492feebbdf0a"
      },
      "source": [
        "new_countries = {\n",
        "    'Bolivia':            'BO',\n",
        "    'Czech Republic':     'CZ',\n",
        "    'Iran':               'IR',\n",
        "    'Kosovo':             'XK',\n",
        "    'North Korea':        'KP',\n",
        "    'Northern Cyprus':    'CY',\n",
        "    'Russia':             'RU',\n",
        "    'United Kingdom':     'GB',\n",
        "    'United States':      'US',\n",
        "    'Venezuela':          'VE',\n",
        "    'Vietnam':            'VN',\n",
        "}"
      ],
      "execution_count": 98,
      "outputs": [
        {
          "output_type": "display_data",
          "data": {
            "text/html": [
              "\n",
              "  <style>\n",
              "    pre {\n",
              "        white-space: pre-wrap;\n",
              "    }\n",
              "  </style>\n",
              "  "
            ],
            "text/plain": [
              "<IPython.core.display.HTML object>"
            ]
          },
          "metadata": {}
        }
      ]
    },
    {
      "cell_type": "code",
      "metadata": {
        "colab": {
          "base_uri": "https://localhost:8080/",
          "height": 17
        },
        "id": "5i4SgzIijBTw",
        "outputId": "ed7695e1-b3ac-4bda-9f3d-b10e6e3238ab"
      },
      "source": [
        "# 'country_name', 'alpha_2_code', 'alpha_3_code', 'numeric_code', 'flag'\n",
        "# string,         string,         string,         int,            string\n",
        "# https://en.wikipedia.org/wiki/Kosovo\n",
        "# https://laendercode.net/en/2-letter-code/xk\n",
        "# https://www.dnb.com/content/dam/english/dnb-solutions/sales-and-marketing/iso_3digit_numeric_country_codes.xls\n",
        "# https://emojipedia.org/flag-kosovo/\n",
        "\n",
        "cc_df = cc_df.append({\n",
        "    'country_name': 'Kosovo',\n",
        "    'alpha_2_code': 'XK',\n",
        "    'alpha_3_code': 'XXK',\n",
        "    'numeric_code': 926,\n",
        "    'flag': '🇽🇰'\n",
        "}, ignore_index=True)"
      ],
      "execution_count": 102,
      "outputs": [
        {
          "output_type": "display_data",
          "data": {
            "text/html": [
              "\n",
              "  <style>\n",
              "    pre {\n",
              "        white-space: pre-wrap;\n",
              "    }\n",
              "  </style>\n",
              "  "
            ],
            "text/plain": [
              "<IPython.core.display.HTML object>"
            ]
          },
          "metadata": {}
        }
      ]
    },
    {
      "cell_type": "code",
      "metadata": {
        "colab": {
          "base_uri": "https://localhost:8080/",
          "height": 110
        },
        "id": "idSqMN3ziwrR",
        "outputId": "d4f7d9c1-f117-4e62-86e9-8bca29305a34"
      },
      "source": [
        "cc_df[cc_df.alpha_2_code == 'XK']"
      ],
      "execution_count": 103,
      "outputs": [
        {
          "output_type": "display_data",
          "data": {
            "text/html": [
              "\n",
              "  <style>\n",
              "    pre {\n",
              "        white-space: pre-wrap;\n",
              "    }\n",
              "  </style>\n",
              "  "
            ],
            "text/plain": [
              "<IPython.core.display.HTML object>"
            ]
          },
          "metadata": {}
        },
        {
          "output_type": "execute_result",
          "data": {
            "application/vnd.google.colaboratory.module+javascript": "\n      import \"https://ssl.gstatic.com/colaboratory/data_table/a6224c040fa35dcf/data_table.js\";\n\n      window.createDataTable({\n        data: [[{\n            'v': 249,\n            'f': \"249\",\n        },\n\"Kosovo\",\n\"XK\",\n\"XXK\",\n{\n            'v': 926,\n            'f': \"926\",\n        },\n\"\\ud83c\\uddfd\\ud83c\\uddf0\"]],\n        columns: [[\"number\", \"index\"], [\"string\", \"country_name\"], [\"string\", \"alpha_2_code\"], [\"string\", \"alpha_3_code\"], [\"number\", \"numeric_code\"], [\"string\", \"flag\"]],\n        columnOptions: [{\"width\": \"1px\", \"className\": \"index_column\"}],\n        rowsPerPage: 25,\n        helpUrl: \"https://colab.research.google.com/notebooks/data_table.ipynb\",\n        suppressOutputScrolling: true,\n        minimumWidth: undefined,\n      });\n    ",
            "text/html": [
              "<div>\n",
              "<style scoped>\n",
              "    .dataframe tbody tr th:only-of-type {\n",
              "        vertical-align: middle;\n",
              "    }\n",
              "\n",
              "    .dataframe tbody tr th {\n",
              "        vertical-align: top;\n",
              "    }\n",
              "\n",
              "    .dataframe thead th {\n",
              "        text-align: right;\n",
              "    }\n",
              "</style>\n",
              "<table border=\"1\" class=\"dataframe\">\n",
              "  <thead>\n",
              "    <tr style=\"text-align: right;\">\n",
              "      <th></th>\n",
              "      <th>country_name</th>\n",
              "      <th>alpha_2_code</th>\n",
              "      <th>alpha_3_code</th>\n",
              "      <th>numeric_code</th>\n",
              "      <th>flag</th>\n",
              "    </tr>\n",
              "  </thead>\n",
              "  <tbody>\n",
              "    <tr>\n",
              "      <th>249</th>\n",
              "      <td>Kosovo</td>\n",
              "      <td>XK</td>\n",
              "      <td>XXK</td>\n",
              "      <td>926</td>\n",
              "      <td>🇽🇰</td>\n",
              "    </tr>\n",
              "  </tbody>\n",
              "</table>\n",
              "</div>"
            ],
            "text/plain": [
              "    country_name alpha_2_code alpha_3_code  numeric_code flag\n",
              "249       Kosovo           XK          XXK           926   🇽🇰"
            ]
          },
          "metadata": {},
          "execution_count": 103
        }
      ]
    },
    {
      "cell_type": "code",
      "metadata": {
        "colab": {
          "base_uri": "https://localhost:8080/",
          "height": 34
        },
        "id": "GFYnx7mnijD9",
        "outputId": "d23d5a60-6b91-407e-acfb-bd1c31477dcc"
      },
      "source": [
        "# making sure that each country code have a single entry in the table\n",
        "for country_name, country_alpha2_code in new_countries.items():\n",
        "  match = cc_df[cc_df.alpha_2_code == country_alpha2_code].to_dict(orient='records')\n",
        "  n_results = len(match)\n",
        "  # print(type(match)) # <class 'list'>\n",
        "  # pp(match)\n",
        "  # break\n",
        "  assert n_results == 1, f'{country_alpha2_code} have more than an entry (or none)!'\n",
        "print('✅ all good!')"
      ],
      "execution_count": 104,
      "outputs": [
        {
          "output_type": "display_data",
          "data": {
            "text/html": [
              "\n",
              "  <style>\n",
              "    pre {\n",
              "        white-space: pre-wrap;\n",
              "    }\n",
              "  </style>\n",
              "  "
            ],
            "text/plain": [
              "<IPython.core.display.HTML object>"
            ]
          },
          "metadata": {}
        },
        {
          "output_type": "stream",
          "name": "stdout",
          "text": [
            "✅ all good!\n"
          ]
        }
      ]
    },
    {
      "cell_type": "code",
      "metadata": {
        "colab": {
          "base_uri": "https://localhost:8080/",
          "height": 204
        },
        "id": "a0xiIJ_sjQ-a",
        "outputId": "ccc84aac-5092-4061-de77-8d04168f9a08"
      },
      "source": [
        "for country_name, country_alpha2_code in new_countries.items():\n",
        "  row = cc_df[cc_df.alpha_2_code == country_alpha2_code]\n",
        "  row_index = row.index.tolist()[0]\n",
        "  old_value = cc_df.at[row_index, 'country_name']\n",
        "  # print('row_index', row_index)\n",
        "  print(f'(# {row_index:3}) change {old_value:60} to \\t {country_name}')"
      ],
      "execution_count": 105,
      "outputs": [
        {
          "output_type": "display_data",
          "data": {
            "text/html": [
              "\n",
              "  <style>\n",
              "    pre {\n",
              "        white-space: pre-wrap;\n",
              "    }\n",
              "  </style>\n",
              "  "
            ],
            "text/plain": [
              "<IPython.core.display.HTML object>"
            ]
          },
          "metadata": {}
        },
        {
          "output_type": "stream",
          "name": "stdout",
          "text": [
            "(#  26) change Bolivia (Plurinational State of)                             to \t Bolivia\n",
            "(#  59) change Czechia                                                      to \t Czech Republic\n",
            "(# 105) change Iran (Islamic Republic of)                                   to \t Iran\n",
            "(# 249) change Kosovo                                                       to \t Kosovo\n",
            "(# 118) change Korea (Democratic People's Republic of)                      to \t North Korea\n",
            "(#  58) change Cyprus                                                       to \t Northern Cyprus\n",
            "(# 183) change Russian Federation                                           to \t Russia\n",
            "(# 234) change United Kingdom of Great Britain and Northern Ireland         to \t United Kingdom\n",
            "(# 236) change United States of America                                     to \t United States\n",
            "(# 240) change Venezuela (Bolivarian Republic of)                           to \t Venezuela\n",
            "(# 241) change Viet Nam                                                     to \t Vietnam\n"
          ]
        }
      ]
    },
    {
      "cell_type": "code",
      "metadata": {
        "colab": {
          "base_uri": "https://localhost:8080/",
          "height": 17
        },
        "id": "uGw3itzCjbxF",
        "outputId": "9993d38e-eace-44fd-a913-b21937ff2629"
      },
      "source": [
        "# updating country names\n",
        "for country_name, country_alpha2_code in new_countries.items():\n",
        "  row = cc_df[cc_df.alpha_2_code == country_alpha2_code]\n",
        "  row_index = row.index.tolist()[0]\n",
        "  cc_df.at[row_index, 'country_name'] = country_name"
      ],
      "execution_count": 106,
      "outputs": [
        {
          "output_type": "display_data",
          "data": {
            "text/html": [
              "\n",
              "  <style>\n",
              "    pre {\n",
              "        white-space: pre-wrap;\n",
              "    }\n",
              "  </style>\n",
              "  "
            ],
            "text/plain": [
              "<IPython.core.display.HTML object>"
            ]
          },
          "metadata": {}
        }
      ]
    },
    {
      "cell_type": "code",
      "metadata": {
        "colab": {
          "base_uri": "https://localhost:8080/",
          "height": 34
        },
        "id": "RZQOsjj_jgIG",
        "outputId": "0f2c38c3-c17c-4048-881a-267e4860297b"
      },
      "source": [
        "# let's check again if all the countries in our dataset have an entry\n",
        "# in the country_codes table\n",
        "dataset_countries = x.country_territory.unique()\n",
        "cc_countries = cc_df.country_name.unique() # country codes countries\n",
        "set(dataset_countries) - set(cc_countries)"
      ],
      "execution_count": 113,
      "outputs": [
        {
          "output_type": "display_data",
          "data": {
            "text/html": [
              "\n",
              "  <style>\n",
              "    pre {\n",
              "        white-space: pre-wrap;\n",
              "    }\n",
              "  </style>\n",
              "  "
            ],
            "text/plain": [
              "<IPython.core.display.HTML object>"
            ]
          },
          "metadata": {}
        },
        {
          "output_type": "execute_result",
          "data": {
            "text/plain": [
              "{'Cyprus'}"
            ]
          },
          "metadata": {},
          "execution_count": 113
        }
      ]
    },
    {
      "cell_type": "code",
      "metadata": {
        "colab": {
          "base_uri": "https://localhost:8080/",
          "height": 34
        },
        "id": "uJhw0g32v5rL",
        "outputId": "0dfe5341-cbf6-42c0-ba32-e57cb71bd7bf"
      },
      "source": [
        "# we didn't treat the row of the country 'Cyprus'\n",
        "# let's debug the problem\n",
        "'Cyprus' in x.country_territory.unique(), 'Cyprus' in cc_df.country_name.unique()"
      ],
      "execution_count": 116,
      "outputs": [
        {
          "output_type": "display_data",
          "data": {
            "text/html": [
              "\n",
              "  <style>\n",
              "    pre {\n",
              "        white-space: pre-wrap;\n",
              "    }\n",
              "  </style>\n",
              "  "
            ],
            "text/plain": [
              "<IPython.core.display.HTML object>"
            ]
          },
          "metadata": {}
        },
        {
          "output_type": "execute_result",
          "data": {
            "text/plain": [
              "(True, False)"
            ]
          },
          "metadata": {},
          "execution_count": 116
        }
      ]
    },
    {
      "cell_type": "code",
      "metadata": {
        "colab": {
          "base_uri": "https://localhost:8080/",
          "height": 110
        },
        "id": "FPm9UgmcuuJ7",
        "outputId": "5d5d3357-9544-431f-ed7e-b2392ea04472"
      },
      "source": [
        "row = cc_df[cc_df.alpha_2_code == 'CY']\n",
        "row_index = row.index.tolist()[0]\n",
        "cc_df.at[row_index, 'country_name'] = 'Cyprus'\n",
        "cc_df[cc_df.alpha_2_code == 'CY']"
      ],
      "execution_count": 117,
      "outputs": [
        {
          "output_type": "display_data",
          "data": {
            "text/html": [
              "\n",
              "  <style>\n",
              "    pre {\n",
              "        white-space: pre-wrap;\n",
              "    }\n",
              "  </style>\n",
              "  "
            ],
            "text/plain": [
              "<IPython.core.display.HTML object>"
            ]
          },
          "metadata": {}
        },
        {
          "output_type": "execute_result",
          "data": {
            "application/vnd.google.colaboratory.module+javascript": "\n      import \"https://ssl.gstatic.com/colaboratory/data_table/a6224c040fa35dcf/data_table.js\";\n\n      window.createDataTable({\n        data: [[{\n            'v': 58,\n            'f': \"58\",\n        },\n\"Cyprus\",\n\"CY\",\n\"CYP\",\n{\n            'v': 196,\n            'f': \"196\",\n        },\n\"\\ud83c\\udde8\\ud83c\\uddfe\"]],\n        columns: [[\"number\", \"index\"], [\"string\", \"country_name\"], [\"string\", \"alpha_2_code\"], [\"string\", \"alpha_3_code\"], [\"number\", \"numeric_code\"], [\"string\", \"flag\"]],\n        columnOptions: [{\"width\": \"1px\", \"className\": \"index_column\"}],\n        rowsPerPage: 25,\n        helpUrl: \"https://colab.research.google.com/notebooks/data_table.ipynb\",\n        suppressOutputScrolling: true,\n        minimumWidth: undefined,\n      });\n    ",
            "text/html": [
              "<div>\n",
              "<style scoped>\n",
              "    .dataframe tbody tr th:only-of-type {\n",
              "        vertical-align: middle;\n",
              "    }\n",
              "\n",
              "    .dataframe tbody tr th {\n",
              "        vertical-align: top;\n",
              "    }\n",
              "\n",
              "    .dataframe thead th {\n",
              "        text-align: right;\n",
              "    }\n",
              "</style>\n",
              "<table border=\"1\" class=\"dataframe\">\n",
              "  <thead>\n",
              "    <tr style=\"text-align: right;\">\n",
              "      <th></th>\n",
              "      <th>country_name</th>\n",
              "      <th>alpha_2_code</th>\n",
              "      <th>alpha_3_code</th>\n",
              "      <th>numeric_code</th>\n",
              "      <th>flag</th>\n",
              "    </tr>\n",
              "  </thead>\n",
              "  <tbody>\n",
              "    <tr>\n",
              "      <th>58</th>\n",
              "      <td>Cyprus</td>\n",
              "      <td>CY</td>\n",
              "      <td>CYP</td>\n",
              "      <td>196</td>\n",
              "      <td>🇨🇾</td>\n",
              "    </tr>\n",
              "  </tbody>\n",
              "</table>\n",
              "</div>"
            ],
            "text/plain": [
              "   country_name alpha_2_code alpha_3_code  numeric_code flag\n",
              "58       Cyprus           CY          CYP           196   🇨🇾"
            ]
          },
          "metadata": {},
          "execution_count": 117
        }
      ]
    },
    {
      "cell_type": "code",
      "metadata": {
        "colab": {
          "base_uri": "https://localhost:8080/",
          "height": 34
        },
        "id": "fiq4Hke1w5qy",
        "outputId": "d8743dc7-512c-4434-fa88-1a32df6159c2"
      },
      "source": [
        "# let's hope that everything is fine now\n",
        "dataset_countries = x.country_territory.unique()\n",
        "cc_countries = cc_df.country_name.unique() # country codes countries\n",
        "set(dataset_countries) - set(cc_countries)"
      ],
      "execution_count": 118,
      "outputs": [
        {
          "output_type": "display_data",
          "data": {
            "text/html": [
              "\n",
              "  <style>\n",
              "    pre {\n",
              "        white-space: pre-wrap;\n",
              "    }\n",
              "  </style>\n",
              "  "
            ],
            "text/plain": [
              "<IPython.core.display.HTML object>"
            ]
          },
          "metadata": {}
        },
        {
          "output_type": "execute_result",
          "data": {
            "text/plain": [
              "{'Northern Cyprus'}"
            ]
          },
          "metadata": {},
          "execution_count": 118
        }
      ]
    },
    {
      "cell_type": "code",
      "metadata": {
        "colab": {
          "base_uri": "https://localhost:8080/",
          "height": 34
        },
        "id": "QzWWqxjTxM3p",
        "outputId": "8878fea9-9648-47cb-8573-0deaba8cf95d"
      },
      "source": [
        "'Northern Cyprus' in x.country_territory.unique(), 'Northern Cyprus' in cc_df.country_name.unique()"
      ],
      "execution_count": 119,
      "outputs": [
        {
          "output_type": "display_data",
          "data": {
            "text/html": [
              "\n",
              "  <style>\n",
              "    pre {\n",
              "        white-space: pre-wrap;\n",
              "    }\n",
              "  </style>\n",
              "  "
            ],
            "text/plain": [
              "<IPython.core.display.HTML object>"
            ]
          },
          "metadata": {}
        },
        {
          "output_type": "execute_result",
          "data": {
            "text/plain": [
              "(True, False)"
            ]
          },
          "metadata": {},
          "execution_count": 119
        }
      ]
    },
    {
      "cell_type": "code",
      "metadata": {
        "colab": {
          "base_uri": "https://localhost:8080/",
          "height": 165
        },
        "id": "7epDR5sKxRMz",
        "outputId": "3058a281-577e-49da-c7ad-663fe3e918bf"
      },
      "source": [
        "# I guess we have both 'Cyprus' and 'Northern Cyprus'\n",
        "# in the dataset, let's check that\n",
        "x[x.country_territory.str.contains('Cyprus')]"
      ],
      "execution_count": 120,
      "outputs": [
        {
          "output_type": "display_data",
          "data": {
            "text/html": [
              "\n",
              "  <style>\n",
              "    pre {\n",
              "        white-space: pre-wrap;\n",
              "    }\n",
              "  </style>\n",
              "  "
            ],
            "text/plain": [
              "<IPython.core.display.HTML object>"
            ]
          },
          "metadata": {}
        },
        {
          "output_type": "stream",
          "name": "stdout",
          "text": [
            "Warning: Total number of columns (28) exceeds max_columns (20). Falling back to pandas display.\n"
          ]
        },
        {
          "output_type": "execute_result",
          "data": {
            "text/html": [
              "<div>\n",
              "<style scoped>\n",
              "    .dataframe tbody tr th:only-of-type {\n",
              "        vertical-align: middle;\n",
              "    }\n",
              "\n",
              "    .dataframe tbody tr th {\n",
              "        vertical-align: top;\n",
              "    }\n",
              "\n",
              "    .dataframe thead th {\n",
              "        text-align: right;\n",
              "    }\n",
              "</style>\n",
              "<table border=\"1\" class=\"dataframe\">\n",
              "  <thead>\n",
              "    <tr style=\"text-align: right;\">\n",
              "      <th></th>\n",
              "      <th>country_territory</th>\n",
              "      <th>place</th>\n",
              "      <th>first_lockdown_start_date</th>\n",
              "      <th>first_lockdown_end_date</th>\n",
              "      <th>first_lockdown_length</th>\n",
              "      <th>second_lockdown_start_date</th>\n",
              "      <th>second_lockdown_end_date</th>\n",
              "      <th>second_lockdown_length</th>\n",
              "      <th>third_lockdown_start_date</th>\n",
              "      <th>third_lockdown_end_date</th>\n",
              "      <th>third_lockdown_length</th>\n",
              "      <th>fourth_lockdown_start_date</th>\n",
              "      <th>fourth_lockdown_end_date</th>\n",
              "      <th>fourth_lockdown_length</th>\n",
              "      <th>fifth_lockdown_start_date</th>\n",
              "      <th>fifth_lockdown_end_date</th>\n",
              "      <th>fifth_lockdown_length</th>\n",
              "      <th>sixth_lockdown_start_date</th>\n",
              "      <th>sixth_lockdown_end_date</th>\n",
              "      <th>sixth_lockdown_length</th>\n",
              "      <th>seventh_lockdown_start_date</th>\n",
              "      <th>seventh_lockdown_end_date</th>\n",
              "      <th>seventh_lockdown_length</th>\n",
              "      <th>eighth_lockdown_start_date</th>\n",
              "      <th>eighth_lockdown_end_date</th>\n",
              "      <th>eighth_lockdown_length</th>\n",
              "      <th>total_length</th>\n",
              "      <th>level</th>\n",
              "    </tr>\n",
              "  </thead>\n",
              "  <tbody>\n",
              "    <tr>\n",
              "      <th>81</th>\n",
              "      <td>Cyprus</td>\n",
              "      <td>Cyprus</td>\n",
              "      <td>2020-03-24</td>\n",
              "      <td>2020-04-13</td>\n",
              "      <td>20</td>\n",
              "      <td>2021-01-10</td>\n",
              "      <td>2021-01-31</td>\n",
              "      <td>21</td>\n",
              "      <td>2021-04-26</td>\n",
              "      <td>2021-05-09</td>\n",
              "      <td>13</td>\n",
              "      <td>NaN</td>\n",
              "      <td>NaN</td>\n",
              "      <td>NaN</td>\n",
              "      <td>NaN</td>\n",
              "      <td>NaN</td>\n",
              "      <td>NaN</td>\n",
              "      <td>NaN</td>\n",
              "      <td>NaN</td>\n",
              "      <td>NaN</td>\n",
              "      <td>NaN</td>\n",
              "      <td>NaN</td>\n",
              "      <td>NaN</td>\n",
              "      <td>NaN</td>\n",
              "      <td>NaN</td>\n",
              "      <td>NaN</td>\n",
              "      <td>54</td>\n",
              "      <td>National</td>\n",
              "    </tr>\n",
              "    <tr>\n",
              "      <th>157</th>\n",
              "      <td>Northern Cyprus</td>\n",
              "      <td>Northern Cyprus</td>\n",
              "      <td>2020-03-30</td>\n",
              "      <td>2020-05-04</td>\n",
              "      <td>35</td>\n",
              "      <td>NaN</td>\n",
              "      <td>NaN</td>\n",
              "      <td>NaN</td>\n",
              "      <td>NaN</td>\n",
              "      <td>NaN</td>\n",
              "      <td>NaN</td>\n",
              "      <td>NaN</td>\n",
              "      <td>NaN</td>\n",
              "      <td>NaN</td>\n",
              "      <td>NaN</td>\n",
              "      <td>NaN</td>\n",
              "      <td>NaN</td>\n",
              "      <td>NaN</td>\n",
              "      <td>NaN</td>\n",
              "      <td>NaN</td>\n",
              "      <td>NaN</td>\n",
              "      <td>NaN</td>\n",
              "      <td>NaN</td>\n",
              "      <td>NaN</td>\n",
              "      <td>NaN</td>\n",
              "      <td>NaN</td>\n",
              "      <td>35</td>\n",
              "      <td>National</td>\n",
              "    </tr>\n",
              "  </tbody>\n",
              "</table>\n",
              "</div>"
            ],
            "text/plain": [
              "    country_territory            place first_lockdown_start_date first_lockdown_end_date first_lockdown_length second_lockdown_start_date second_lockdown_end_date second_lockdown_length third_lockdown_start_date third_lockdown_end_date third_lockdown_length fourth_lockdown_start_date fourth_lockdown_end_date fourth_lockdown_length fifth_lockdown_start_date fifth_lockdown_end_date fifth_lockdown_length sixth_lockdown_start_date sixth_lockdown_end_date sixth_lockdown_length seventh_lockdown_start_date seventh_lockdown_end_date seventh_lockdown_length eighth_lockdown_start_date eighth_lockdown_end_date eighth_lockdown_length total_length     level\n",
              "81             Cyprus           Cyprus                2020-03-24              2020-04-13                    20                 2021-01-10               2021-01-31                     21                2021-04-26              2021-05-09                    13                        NaN                      NaN                    NaN                       NaN                     NaN                   NaN                       NaN                     NaN                   NaN                         NaN                       NaN                     NaN                        NaN                      NaN                    NaN           54  National\n",
              "157   Northern Cyprus  Northern Cyprus                2020-03-30              2020-05-04                    35                        NaN                      NaN                    NaN                       NaN                     NaN                   NaN                        NaN                      NaN                    NaN                       NaN                     NaN                   NaN                       NaN                     NaN                   NaN                         NaN                       NaN                     NaN                        NaN                      NaN                    NaN           35  National"
            ]
          },
          "metadata": {},
          "execution_count": 120
        }
      ]
    },
    {
      "cell_type": "code",
      "metadata": {
        "colab": {
          "base_uri": "https://localhost:8080/",
          "height": 102
        },
        "id": "UG3RUjzFy6E-",
        "outputId": "a1bf2e03-3319-4cdb-b0ac-248cc1f4e147"
      },
      "source": [
        "cc_df[cc_df.alpha_2_code == 'CY'].to_dict(orient='records')"
      ],
      "execution_count": 123,
      "outputs": [
        {
          "output_type": "display_data",
          "data": {
            "text/html": [
              "\n",
              "  <style>\n",
              "    pre {\n",
              "        white-space: pre-wrap;\n",
              "    }\n",
              "  </style>\n",
              "  "
            ],
            "text/plain": [
              "<IPython.core.display.HTML object>"
            ]
          },
          "metadata": {}
        },
        {
          "output_type": "execute_result",
          "data": {
            "text/plain": [
              "[{'alpha_2_code': 'CY',\n",
              "  'alpha_3_code': 'CYP',\n",
              "  'country_name': 'Cyprus',\n",
              "  'flag': '🇨🇾',\n",
              "  'numeric_code': 196}]"
            ]
          },
          "metadata": {},
          "execution_count": 123
        }
      ]
    },
    {
      "cell_type": "code",
      "metadata": {
        "colab": {
          "base_uri": "https://localhost:8080/",
          "height": 17
        },
        "id": "9nAuZhNpyx9W",
        "outputId": "50fa8581-2316-4941-ff51-0187fe842763"
      },
      "source": [
        "# yes! so, we have to have 2 rows in cc_df to fix this problem!\n",
        "cc_df = cc_df.append({\n",
        "    'country_name': 'Northern Cyprus',\n",
        "    'alpha_2_code': 'CY',\n",
        "    'alpha_3_code': 'CYP',\n",
        "    'numeric_code': 196,\n",
        "    'flag': '🇨🇾'\n",
        "}, ignore_index=True)"
      ],
      "execution_count": 124,
      "outputs": [
        {
          "output_type": "display_data",
          "data": {
            "text/html": [
              "\n",
              "  <style>\n",
              "    pre {\n",
              "        white-space: pre-wrap;\n",
              "    }\n",
              "  </style>\n",
              "  "
            ],
            "text/plain": [
              "<IPython.core.display.HTML object>"
            ]
          },
          "metadata": {}
        }
      ]
    },
    {
      "cell_type": "code",
      "metadata": {
        "colab": {
          "base_uri": "https://localhost:8080/",
          "height": 34
        },
        "id": "MJSVPjLXzh-i",
        "outputId": "8c8a14c6-f2fc-4a12-cba7-e093ce7f6148"
      },
      "source": [
        "# now, everything should be fine!\n",
        "dataset_countries = x.country_territory.unique()\n",
        "cc_countries = cc_df.country_name.unique() # country codes countries\n",
        "set(dataset_countries) - set(cc_countries)"
      ],
      "execution_count": 125,
      "outputs": [
        {
          "output_type": "display_data",
          "data": {
            "text/html": [
              "\n",
              "  <style>\n",
              "    pre {\n",
              "        white-space: pre-wrap;\n",
              "    }\n",
              "  </style>\n",
              "  "
            ],
            "text/plain": [
              "<IPython.core.display.HTML object>"
            ]
          },
          "metadata": {}
        },
        {
          "output_type": "execute_result",
          "data": {
            "text/plain": [
              "set()"
            ]
          },
          "metadata": {},
          "execution_count": 125
        }
      ]
    },
    {
      "cell_type": "code",
      "metadata": {
        "colab": {
          "base_uri": "https://localhost:8080/",
          "height": 17
        },
        "id": "4WyNUDh9zonh",
        "outputId": "ca90db90-813f-4390-849f-b62c48c5eb32"
      },
      "source": [
        "merged_df = x.merge(cc_df, how='inner', left_on='country_territory', right_on='country_name')\n",
        "columns_to_drop = ['country_name', 'alpha_3_code', 'numeric_code', 'flag']\n",
        "merged_df.drop(columns_to_drop, axis=1, inplace=True)"
      ],
      "execution_count": 128,
      "outputs": [
        {
          "output_type": "display_data",
          "data": {
            "text/html": [
              "\n",
              "  <style>\n",
              "    pre {\n",
              "        white-space: pre-wrap;\n",
              "    }\n",
              "  </style>\n",
              "  "
            ],
            "text/plain": [
              "<IPython.core.display.HTML object>"
            ]
          },
          "metadata": {}
        }
      ]
    },
    {
      "cell_type": "code",
      "metadata": {
        "colab": {
          "base_uri": "https://localhost:8080/",
          "height": 309
        },
        "id": "azCdBmwm0Jmz",
        "outputId": "6102760e-3e44-4a4d-d042-5600e564389a"
      },
      "source": [
        "merged_df.head()"
      ],
      "execution_count": 129,
      "outputs": [
        {
          "output_type": "display_data",
          "data": {
            "text/html": [
              "\n",
              "  <style>\n",
              "    pre {\n",
              "        white-space: pre-wrap;\n",
              "    }\n",
              "  </style>\n",
              "  "
            ],
            "text/plain": [
              "<IPython.core.display.HTML object>"
            ]
          },
          "metadata": {}
        },
        {
          "output_type": "stream",
          "name": "stdout",
          "text": [
            "Warning: Total number of columns (29) exceeds max_columns (20). Falling back to pandas display.\n"
          ]
        },
        {
          "output_type": "execute_result",
          "data": {
            "text/html": [
              "<div>\n",
              "<style scoped>\n",
              "    .dataframe tbody tr th:only-of-type {\n",
              "        vertical-align: middle;\n",
              "    }\n",
              "\n",
              "    .dataframe tbody tr th {\n",
              "        vertical-align: top;\n",
              "    }\n",
              "\n",
              "    .dataframe thead th {\n",
              "        text-align: right;\n",
              "    }\n",
              "</style>\n",
              "<table border=\"1\" class=\"dataframe\">\n",
              "  <thead>\n",
              "    <tr style=\"text-align: right;\">\n",
              "      <th></th>\n",
              "      <th>country_territory</th>\n",
              "      <th>place</th>\n",
              "      <th>first_lockdown_start_date</th>\n",
              "      <th>first_lockdown_end_date</th>\n",
              "      <th>first_lockdown_length</th>\n",
              "      <th>second_lockdown_start_date</th>\n",
              "      <th>second_lockdown_end_date</th>\n",
              "      <th>second_lockdown_length</th>\n",
              "      <th>third_lockdown_start_date</th>\n",
              "      <th>third_lockdown_end_date</th>\n",
              "      <th>third_lockdown_length</th>\n",
              "      <th>fourth_lockdown_start_date</th>\n",
              "      <th>fourth_lockdown_end_date</th>\n",
              "      <th>fourth_lockdown_length</th>\n",
              "      <th>fifth_lockdown_start_date</th>\n",
              "      <th>fifth_lockdown_end_date</th>\n",
              "      <th>fifth_lockdown_length</th>\n",
              "      <th>sixth_lockdown_start_date</th>\n",
              "      <th>sixth_lockdown_end_date</th>\n",
              "      <th>sixth_lockdown_length</th>\n",
              "      <th>seventh_lockdown_start_date</th>\n",
              "      <th>seventh_lockdown_end_date</th>\n",
              "      <th>seventh_lockdown_length</th>\n",
              "      <th>eighth_lockdown_start_date</th>\n",
              "      <th>eighth_lockdown_end_date</th>\n",
              "      <th>eighth_lockdown_length</th>\n",
              "      <th>total_length</th>\n",
              "      <th>level</th>\n",
              "      <th>alpha_2_code</th>\n",
              "    </tr>\n",
              "  </thead>\n",
              "  <tbody>\n",
              "    <tr>\n",
              "      <th>0</th>\n",
              "      <td>Albania</td>\n",
              "      <td>Albania</td>\n",
              "      <td>2020-03-13</td>\n",
              "      <td>2020-06-01</td>\n",
              "      <td>80</td>\n",
              "      <td>NaN</td>\n",
              "      <td>NaN</td>\n",
              "      <td>NaN</td>\n",
              "      <td>NaN</td>\n",
              "      <td>NaN</td>\n",
              "      <td>NaN</td>\n",
              "      <td>NaN</td>\n",
              "      <td>NaN</td>\n",
              "      <td>NaN</td>\n",
              "      <td>NaN</td>\n",
              "      <td>NaN</td>\n",
              "      <td>NaN</td>\n",
              "      <td>NaN</td>\n",
              "      <td>NaN</td>\n",
              "      <td>NaN</td>\n",
              "      <td>NaN</td>\n",
              "      <td>NaN</td>\n",
              "      <td>NaN</td>\n",
              "      <td>NaN</td>\n",
              "      <td>NaN</td>\n",
              "      <td>NaN</td>\n",
              "      <td>80</td>\n",
              "      <td>National</td>\n",
              "      <td>AL</td>\n",
              "    </tr>\n",
              "    <tr>\n",
              "      <th>1</th>\n",
              "      <td>Algeria</td>\n",
              "      <td>Algiers</td>\n",
              "      <td>2020-03-23</td>\n",
              "      <td>2020-05-14</td>\n",
              "      <td>52</td>\n",
              "      <td>NaN</td>\n",
              "      <td>NaN</td>\n",
              "      <td>NaN</td>\n",
              "      <td>NaN</td>\n",
              "      <td>NaN</td>\n",
              "      <td>NaN</td>\n",
              "      <td>NaN</td>\n",
              "      <td>NaN</td>\n",
              "      <td>NaN</td>\n",
              "      <td>NaN</td>\n",
              "      <td>NaN</td>\n",
              "      <td>NaN</td>\n",
              "      <td>NaN</td>\n",
              "      <td>NaN</td>\n",
              "      <td>NaN</td>\n",
              "      <td>NaN</td>\n",
              "      <td>NaN</td>\n",
              "      <td>NaN</td>\n",
              "      <td>NaN</td>\n",
              "      <td>NaN</td>\n",
              "      <td>NaN</td>\n",
              "      <td>52</td>\n",
              "      <td>City</td>\n",
              "      <td>DZ</td>\n",
              "    </tr>\n",
              "    <tr>\n",
              "      <th>2</th>\n",
              "      <td>Algeria</td>\n",
              "      <td>Blida</td>\n",
              "      <td>2020-03-23</td>\n",
              "      <td>2020-05-14</td>\n",
              "      <td>52</td>\n",
              "      <td>NaN</td>\n",
              "      <td>NaN</td>\n",
              "      <td>NaN</td>\n",
              "      <td>NaN</td>\n",
              "      <td>NaN</td>\n",
              "      <td>NaN</td>\n",
              "      <td>NaN</td>\n",
              "      <td>NaN</td>\n",
              "      <td>NaN</td>\n",
              "      <td>NaN</td>\n",
              "      <td>NaN</td>\n",
              "      <td>NaN</td>\n",
              "      <td>NaN</td>\n",
              "      <td>NaN</td>\n",
              "      <td>NaN</td>\n",
              "      <td>NaN</td>\n",
              "      <td>NaN</td>\n",
              "      <td>NaN</td>\n",
              "      <td>NaN</td>\n",
              "      <td>NaN</td>\n",
              "      <td>NaN</td>\n",
              "      <td>52</td>\n",
              "      <td>City</td>\n",
              "      <td>DZ</td>\n",
              "    </tr>\n",
              "    <tr>\n",
              "      <th>3</th>\n",
              "      <td>Argentina</td>\n",
              "      <td>Greater Buenos Aires</td>\n",
              "      <td>2020-03-19</td>\n",
              "      <td>2020-11-08</td>\n",
              "      <td>234</td>\n",
              "      <td>2021-05-22</td>\n",
              "      <td>2021-05-30</td>\n",
              "      <td>9</td>\n",
              "      <td>2021-06-05</td>\n",
              "      <td>2021-06-06</td>\n",
              "      <td>2</td>\n",
              "      <td>NaN</td>\n",
              "      <td>NaN</td>\n",
              "      <td>NaN</td>\n",
              "      <td>NaN</td>\n",
              "      <td>NaN</td>\n",
              "      <td>NaN</td>\n",
              "      <td>NaN</td>\n",
              "      <td>NaN</td>\n",
              "      <td>NaN</td>\n",
              "      <td>NaN</td>\n",
              "      <td>NaN</td>\n",
              "      <td>NaN</td>\n",
              "      <td>NaN</td>\n",
              "      <td>NaN</td>\n",
              "      <td>NaN</td>\n",
              "      <td>245</td>\n",
              "      <td>Metropolitan area</td>\n",
              "      <td>AR</td>\n",
              "    </tr>\n",
              "    <tr>\n",
              "      <th>4</th>\n",
              "      <td>Argentina</td>\n",
              "      <td>Rest of the country</td>\n",
              "      <td>2020-03-19</td>\n",
              "      <td>2020-05-10</td>\n",
              "      <td>52</td>\n",
              "      <td>2021-05-22</td>\n",
              "      <td>2021-05-30</td>\n",
              "      <td>9</td>\n",
              "      <td>2021-06-05</td>\n",
              "      <td>2021-06-06</td>\n",
              "      <td>2</td>\n",
              "      <td>NaN</td>\n",
              "      <td>NaN</td>\n",
              "      <td>NaN</td>\n",
              "      <td>NaN</td>\n",
              "      <td>NaN</td>\n",
              "      <td>NaN</td>\n",
              "      <td>NaN</td>\n",
              "      <td>NaN</td>\n",
              "      <td>NaN</td>\n",
              "      <td>NaN</td>\n",
              "      <td>NaN</td>\n",
              "      <td>NaN</td>\n",
              "      <td>NaN</td>\n",
              "      <td>NaN</td>\n",
              "      <td>NaN</td>\n",
              "      <td>63</td>\n",
              "      <td>National</td>\n",
              "      <td>AR</td>\n",
              "    </tr>\n",
              "  </tbody>\n",
              "</table>\n",
              "</div>"
            ],
            "text/plain": [
              "  country_territory                 place first_lockdown_start_date first_lockdown_end_date first_lockdown_length second_lockdown_start_date second_lockdown_end_date second_lockdown_length third_lockdown_start_date third_lockdown_end_date third_lockdown_length fourth_lockdown_start_date fourth_lockdown_end_date fourth_lockdown_length fifth_lockdown_start_date fifth_lockdown_end_date fifth_lockdown_length sixth_lockdown_start_date sixth_lockdown_end_date sixth_lockdown_length seventh_lockdown_start_date seventh_lockdown_end_date seventh_lockdown_length eighth_lockdown_start_date eighth_lockdown_end_date eighth_lockdown_length total_length              level alpha_2_code\n",
              "0           Albania               Albania                2020-03-13              2020-06-01                    80                        NaN                      NaN                    NaN                       NaN                     NaN                   NaN                        NaN                      NaN                    NaN                       NaN                     NaN                   NaN                       NaN                     NaN                   NaN                         NaN                       NaN                     NaN                        NaN                      NaN                    NaN           80           National           AL\n",
              "1           Algeria               Algiers                2020-03-23              2020-05-14                    52                        NaN                      NaN                    NaN                       NaN                     NaN                   NaN                        NaN                      NaN                    NaN                       NaN                     NaN                   NaN                       NaN                     NaN                   NaN                         NaN                       NaN                     NaN                        NaN                      NaN                    NaN           52               City           DZ\n",
              "2           Algeria                 Blida                2020-03-23              2020-05-14                    52                        NaN                      NaN                    NaN                       NaN                     NaN                   NaN                        NaN                      NaN                    NaN                       NaN                     NaN                   NaN                       NaN                     NaN                   NaN                         NaN                       NaN                     NaN                        NaN                      NaN                    NaN           52               City           DZ\n",
              "3         Argentina  Greater Buenos Aires                2020-03-19              2020-11-08                   234                 2021-05-22               2021-05-30                      9                2021-06-05              2021-06-06                     2                        NaN                      NaN                    NaN                       NaN                     NaN                   NaN                       NaN                     NaN                   NaN                         NaN                       NaN                     NaN                        NaN                      NaN                    NaN          245  Metropolitan area           AR\n",
              "4         Argentina   Rest of the country                2020-03-19              2020-05-10                    52                 2021-05-22               2021-05-30                      9                2021-06-05              2021-06-06                     2                        NaN                      NaN                    NaN                       NaN                     NaN                   NaN                       NaN                     NaN                   NaN                         NaN                       NaN                     NaN                        NaN                      NaN                    NaN           63           National           AR"
            ]
          },
          "metadata": {},
          "execution_count": 129
        }
      ]
    },
    {
      "cell_type": "code",
      "metadata": {
        "colab": {
          "base_uri": "https://localhost:8080/",
          "height": 34
        },
        "id": "IyF5oUoS0RHn",
        "outputId": "bd14c54c-979c-4253-805f-379e7044f389"
      },
      "source": [
        "# making sure that the dataset have the same number of rows before\n",
        "# and after merging it with the country codes table\n",
        "n_rows_before = len(x.index)\n",
        "n_rows_after = len(merged_df.index)\n",
        "n_rows_before == n_rows_after"
      ],
      "execution_count": 130,
      "outputs": [
        {
          "output_type": "display_data",
          "data": {
            "text/html": [
              "\n",
              "  <style>\n",
              "    pre {\n",
              "        white-space: pre-wrap;\n",
              "    }\n",
              "  </style>\n",
              "  "
            ],
            "text/plain": [
              "<IPython.core.display.HTML object>"
            ]
          },
          "metadata": {}
        },
        {
          "output_type": "execute_result",
          "data": {
            "text/plain": [
              "True"
            ]
          },
          "metadata": {},
          "execution_count": 130
        }
      ]
    },
    {
      "cell_type": "code",
      "metadata": {
        "colab": {
          "base_uri": "https://localhost:8080/",
          "height": 170
        },
        "id": "Bv9HLA2V0Zuo",
        "outputId": "ca157fa5-fb13-4a5f-b45f-1d60e5bf72ad"
      },
      "source": [
        "merged_df.columns"
      ],
      "execution_count": 131,
      "outputs": [
        {
          "output_type": "display_data",
          "data": {
            "text/html": [
              "\n",
              "  <style>\n",
              "    pre {\n",
              "        white-space: pre-wrap;\n",
              "    }\n",
              "  </style>\n",
              "  "
            ],
            "text/plain": [
              "<IPython.core.display.HTML object>"
            ]
          },
          "metadata": {}
        },
        {
          "output_type": "execute_result",
          "data": {
            "text/plain": [
              "Index(['country_territory', 'place', 'first_lockdown_start_date', 'first_lockdown_end_date', 'first_lockdown_length', 'second_lockdown_start_date', 'second_lockdown_end_date', 'second_lockdown_length', 'third_lockdown_start_date', 'third_lockdown_end_date', 'third_lockdown_length', 'fourth_lockdown_start_date', 'fourth_lockdown_end_date', 'fourth_lockdown_length', 'fifth_lockdown_start_date', 'fifth_lockdown_end_date', 'fifth_lockdown_length', 'sixth_lockdown_start_date', 'sixth_lockdown_end_date', 'sixth_lockdown_length', 'seventh_lockdown_start_date', 'seventh_lockdown_end_date', 'seventh_lockdown_length', 'eighth_lockdown_start_date', 'eighth_lockdown_end_date', 'eighth_lockdown_length', 'total_length', 'level', 'alpha_2_code'], dtype='object')"
            ]
          },
          "metadata": {},
          "execution_count": 131
        }
      ]
    },
    {
      "cell_type": "code",
      "metadata": {
        "colab": {
          "base_uri": "https://localhost:8080/",
          "height": 17
        },
        "id": "mGJeqxnS0U43",
        "outputId": "330c42e2-7b2f-433b-de8a-48c8b657299a"
      },
      "source": [
        "# update column names (alpha_2_code -> country_code)\n",
        "merged_df.columns = ['country_territory', 'place', 'first_lockdown_start_date',\n",
        "                     'first_lockdown_end_date', 'first_lockdown_length', \n",
        "                     'second_lockdown_start_date', 'second_lockdown_end_date', \n",
        "                     'second_lockdown_length', 'third_lockdown_start_date', \n",
        "                     'third_lockdown_end_date', 'third_lockdown_length', \n",
        "                     'fourth_lockdown_start_date', 'fourth_lockdown_end_date', \n",
        "                     'fourth_lockdown_length', 'fifth_lockdown_start_date', \n",
        "                     'fifth_lockdown_end_date', 'fifth_lockdown_length', \n",
        "                     'sixth_lockdown_start_date', 'sixth_lockdown_end_date', \n",
        "                     'sixth_lockdown_length', 'seventh_lockdown_start_date', \n",
        "                     'seventh_lockdown_end_date', 'seventh_lockdown_length', \n",
        "                     'eighth_lockdown_start_date', 'eighth_lockdown_end_date', \n",
        "                     'eighth_lockdown_length', 'total_length', 'level', \n",
        "                     'country_code']"
      ],
      "execution_count": 132,
      "outputs": [
        {
          "output_type": "display_data",
          "data": {
            "text/html": [
              "\n",
              "  <style>\n",
              "    pre {\n",
              "        white-space: pre-wrap;\n",
              "    }\n",
              "  </style>\n",
              "  "
            ],
            "text/plain": [
              "<IPython.core.display.HTML object>"
            ]
          },
          "metadata": {}
        }
      ]
    },
    {
      "cell_type": "code",
      "metadata": {
        "colab": {
          "base_uri": "https://localhost:8080/",
          "height": 17
        },
        "id": "SV0G6XLc00FU",
        "outputId": "a7f4f35b-eef9-4f19-b809-bdaef3495c3a"
      },
      "source": [
        "# reorder the columns: let's put country_code right after the country_territory name\n",
        "new_columns_order = ['country_territory', 'country_code', 'place',\n",
        "                     'first_lockdown_start_date', 'first_lockdown_end_date',\n",
        "                     'first_lockdown_length',  'second_lockdown_start_date',\n",
        "                     'second_lockdown_end_date', 'second_lockdown_length',\n",
        "                     'third_lockdown_start_date', 'third_lockdown_end_date',\n",
        "                     'third_lockdown_length', 'fourth_lockdown_start_date',\n",
        "                     'fourth_lockdown_end_date', 'fourth_lockdown_length',\n",
        "                     'fifth_lockdown_start_date', 'fifth_lockdown_end_date',\n",
        "                     'fifth_lockdown_length', 'sixth_lockdown_start_date',\n",
        "                     'sixth_lockdown_end_date', 'sixth_lockdown_length',\n",
        "                     'seventh_lockdown_start_date', 'seventh_lockdown_end_date',\n",
        "                     'seventh_lockdown_length', 'eighth_lockdown_start_date',\n",
        "                     'eighth_lockdown_end_date', 'eighth_lockdown_length',\n",
        "                     'total_length', 'level']\n",
        "merged_df = merged_df[new_columns_order]"
      ],
      "execution_count": 133,
      "outputs": [
        {
          "output_type": "display_data",
          "data": {
            "text/html": [
              "\n",
              "  <style>\n",
              "    pre {\n",
              "        white-space: pre-wrap;\n",
              "    }\n",
              "  </style>\n",
              "  "
            ],
            "text/plain": [
              "<IPython.core.display.HTML object>"
            ]
          },
          "metadata": {}
        }
      ]
    },
    {
      "cell_type": "code",
      "metadata": {
        "colab": {
          "base_uri": "https://localhost:8080/",
          "height": 17
        },
        "id": "HMMUlTNj1RD1",
        "outputId": "834ba51f-8d82-48f5-9a4a-b913536ab6a6"
      },
      "source": [
        "# save the processed version of the data\n",
        "merged_df.to_csv('lockdown_dates_wikipedia.csv', index=False, header=True)"
      ],
      "execution_count": 134,
      "outputs": [
        {
          "output_type": "display_data",
          "data": {
            "text/html": [
              "\n",
              "  <style>\n",
              "    pre {\n",
              "        white-space: pre-wrap;\n",
              "    }\n",
              "  </style>\n",
              "  "
            ],
            "text/plain": [
              "<IPython.core.display.HTML object>"
            ]
          },
          "metadata": {}
        }
      ]
    },
    {
      "cell_type": "markdown",
      "metadata": {
        "id": "XPDwc_sqP-v4"
      },
      "source": [
        "# References\n",
        "* [Read HTML Page using Pandas | read_html() | Web-scrapping Tutorial - YouTube](https://www.youtube.com/watch?v=WGWTGH4j2u0)\n",
        "* [python - How can I check for NaN values? - Stack Overflow](https://stackoverflow.com/questions/944700/how-can-i-check-for-nan-values?rq=1)\n",
        "* [regex - Regular Expression for alphanumeric and underscores - Stack Overflow](https://stackoverflow.com/questions/336210/regular-expression-for-alphanumeric-and-underscores)\n",
        "\n",
        "\n"
      ]
    },
    {
      "cell_type": "markdown",
      "metadata": {
        "id": "zHzMgnyIP8GS"
      },
      "source": [
        "---"
      ]
    }
  ]
}