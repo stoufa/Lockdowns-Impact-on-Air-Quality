{
  "nbformat": 4,
  "nbformat_minor": 0,
  "metadata": {
    "colab": {
      "name": "DSAA Capstone Project (Air Quality Data).ipynb",
      "provenance": [],
      "collapsed_sections": []
    },
    "kernelspec": {
      "name": "python3",
      "display_name": "Python 3"
    },
    "language_info": {
      "name": "python"
    }
  },
  "cells": [
    {
      "cell_type": "markdown",
      "metadata": {
        "id": "kTHZt5wzd9k3"
      },
      "source": [
        "# DSAA-Kulimi Rwanda Data Camp Capstone Project <br> Lockdowns Impact on Air Quality 🌍\n",
        "\n",
        "GitHub repo: https://github.com/stoufa/Lockdowns-Impact-on-Air-Quality"
      ]
    },
    {
      "cell_type": "code",
      "metadata": {
        "id": "oMVrtxddk_n5"
      },
      "source": [
        "# Enabling Line Wrapping\n",
        "from IPython.display import HTML, display\n",
        "def set_css():\n",
        "  display(HTML('''\n",
        "  <style>\n",
        "    pre {\n",
        "        white-space: pre-wrap;\n",
        "    }\n",
        "  </style>\n",
        "  '''))\n",
        "get_ipython().events.register('pre_run_cell', set_css)"
      ],
      "execution_count": 1,
      "outputs": []
    },
    {
      "cell_type": "markdown",
      "metadata": {
        "id": "DK0lC27fNUc8"
      },
      "source": [
        "# Getting Data"
      ]
    },
    {
      "cell_type": "markdown",
      "metadata": {
        "id": "z5DngmyzNY8t"
      },
      "source": [
        "## Air Quality Data\n",
        "\n",
        "We'll be getting this data from the [Worldwide COVID-19 dataset](https://aqicn.org/data-platform/covid19/verify/44b4316d-6a53-46ee-8238-4e23f8cce63a) provided by the *Air Quality Open Data Platform* and since the COVID19 pandemic started from 31st of December 2019 (according to [the WHO website](https://www.who.int/emergencies/diseases/novel-coronavirus-2019/interactive-timeline?gclid=CjwKCAiAp8iMBhAqEiwAJb94z_u3Y189qK5wdEkJ7dxauGgErxchzHCOD4Ul4xme5SwCLbFT5KQPFxoCAG4QAvD_BwE#event-0)), We'll be focussing on the following periods:\n",
        "\n",
        "<pre align=center>\n",
        "2019Q4, 2020Q1, 2020Q2, 2020Q3, 2020Q4\n",
        "</pre>"
      ]
    },
    {
      "cell_type": "code",
      "metadata": {
        "id": "HIKgyzFUQcv-",
        "colab": {
          "base_uri": "https://localhost:8080/",
          "height": 17
        },
        "outputId": "b23822d3-0aa5-4d6e-cd82-58b172fbab7c"
      },
      "source": [
        "# creates the project's folder structure if it doesn't already exist\n",
        "!mkdir -p data/{air_quality,lockdowns}\n",
        "!mkdir -p data/air_quality/{raw,clean}\n",
        "!mkdir -p data/lockdowns/{raw,clean}"
      ],
      "execution_count": 2,
      "outputs": [
        {
          "output_type": "display_data",
          "data": {
            "text/html": [
              "\n",
              "  <style>\n",
              "    pre {\n",
              "        white-space: pre-wrap;\n",
              "    }\n",
              "  </style>\n",
              "  "
            ],
            "text/plain": [
              "<IPython.core.display.HTML object>"
            ]
          },
          "metadata": {}
        }
      ]
    },
    {
      "cell_type": "code",
      "metadata": {
        "id": "Z_PxkXz2PYTH",
        "colab": {
          "base_uri": "https://localhost:8080/",
          "height": 17
        },
        "outputId": "28b94fac-299c-474c-b006-53954417c77b"
      },
      "source": [
        "from pathlib import Path\n",
        "import pandas as pd\n",
        "from pprint import pprint as pp"
      ],
      "execution_count": 3,
      "outputs": [
        {
          "output_type": "display_data",
          "data": {
            "text/html": [
              "\n",
              "  <style>\n",
              "    pre {\n",
              "        white-space: pre-wrap;\n",
              "    }\n",
              "  </style>\n",
              "  "
            ],
            "text/plain": [
              "<IPython.core.display.HTML object>"
            ]
          },
          "metadata": {}
        }
      ]
    },
    {
      "cell_type": "code",
      "metadata": {
        "colab": {
          "base_uri": "https://localhost:8080/",
          "height": 17
        },
        "id": "WUw9NrbK3Dib",
        "outputId": "3308560a-4d59-4133-9da1-fc404402f5c7"
      },
      "source": [
        "# better way to display pandas dataframes\n",
        "%load_ext google.colab.data_table"
      ],
      "execution_count": 4,
      "outputs": [
        {
          "output_type": "display_data",
          "data": {
            "text/html": [
              "\n",
              "  <style>\n",
              "    pre {\n",
              "        white-space: pre-wrap;\n",
              "    }\n",
              "  </style>\n",
              "  "
            ],
            "text/plain": [
              "<IPython.core.display.HTML object>"
            ]
          },
          "metadata": {}
        }
      ]
    },
    {
      "cell_type": "code",
      "metadata": {
        "id": "ZW77Bt6JQwTf",
        "colab": {
          "base_uri": "https://localhost:8080/",
          "height": 17
        },
        "outputId": "595f5566-f606-47ad-a268-bb6211e860ea"
      },
      "source": [
        "DATA_FOLDER = Path('data')\n",
        "\n",
        "AIR_QUALITY_DATA_FOLDER = DATA_FOLDER / 'air_quality'\n",
        "AIR_QUALITY_RAW_DATA_FOLDER = AIR_QUALITY_DATA_FOLDER / 'raw'\n",
        "AIR_QUALITY_CLEAN_DATA_FOLDER = AIR_QUALITY_DATA_FOLDER / 'clean'\n",
        "\n",
        "LOCKDOWNS_DATA_FOLDER = DATA_FOLDER / 'lockdowns'\n",
        "LOCKDOWNS_RAW_DATA_FOLDER = LOCKDOWNS_DATA_FOLDER / 'raw'\n",
        "LOCKDOWNS_CLEAN_DATA_FOLDER = LOCKDOWNS_DATA_FOLDER / 'clean'"
      ],
      "execution_count": 5,
      "outputs": [
        {
          "output_type": "display_data",
          "data": {
            "text/html": [
              "\n",
              "  <style>\n",
              "    pre {\n",
              "        white-space: pre-wrap;\n",
              "    }\n",
              "  </style>\n",
              "  "
            ],
            "text/plain": [
              "<IPython.core.display.HTML object>"
            ]
          },
          "metadata": {}
        }
      ]
    },
    {
      "cell_type": "code",
      "metadata": {
        "colab": {
          "base_uri": "https://localhost:8080/",
          "height": 34
        },
        "id": "csI3ZmMhsGXw",
        "outputId": "1e1e5e47-a167-44a4-be8a-a6497a1558a0"
      },
      "source": [
        "periods = '2019Q4, 2020Q1, 2020Q2, 2020Q3, 2020Q4'.split(', ')\n",
        "periods"
      ],
      "execution_count": 6,
      "outputs": [
        {
          "output_type": "display_data",
          "data": {
            "text/html": [
              "\n",
              "  <style>\n",
              "    pre {\n",
              "        white-space: pre-wrap;\n",
              "    }\n",
              "  </style>\n",
              "  "
            ],
            "text/plain": [
              "<IPython.core.display.HTML object>"
            ]
          },
          "metadata": {}
        },
        {
          "output_type": "execute_result",
          "data": {
            "text/plain": [
              "['2019Q4', '2020Q1', '2020Q2', '2020Q3', '2020Q4']"
            ]
          },
          "metadata": {},
          "execution_count": 6
        }
      ]
    },
    {
      "cell_type": "code",
      "metadata": {
        "colab": {
          "base_uri": "https://localhost:8080/",
          "height": 153
        },
        "id": "RVWtn71eyH-1",
        "outputId": "81f7defe-9c7d-487f-8824-10d9bdba2bce"
      },
      "source": [
        "# we decided to include the remaining quarters of 2019 as well\n",
        "periods = '2020Q1, 2020Q2, 2020Q3, 2020Q4, 2019Q1, 2019Q2, 2019Q3, 2019Q4'.split(', ')\n",
        "periods"
      ],
      "execution_count": 7,
      "outputs": [
        {
          "output_type": "display_data",
          "data": {
            "text/html": [
              "\n",
              "  <style>\n",
              "    pre {\n",
              "        white-space: pre-wrap;\n",
              "    }\n",
              "  </style>\n",
              "  "
            ],
            "text/plain": [
              "<IPython.core.display.HTML object>"
            ]
          },
          "metadata": {}
        },
        {
          "output_type": "execute_result",
          "data": {
            "text/plain": [
              "['2020Q1',\n",
              " '2020Q2',\n",
              " '2020Q3',\n",
              " '2020Q4',\n",
              " '2019Q1',\n",
              " '2019Q2',\n",
              " '2019Q3',\n",
              " '2019Q4']"
            ]
          },
          "metadata": {},
          "execution_count": 7
        }
      ]
    },
    {
      "cell_type": "code",
      "metadata": {
        "colab": {
          "base_uri": "https://localhost:8080/",
          "height": 17
        },
        "id": "sJZNwKoU1VFL",
        "outputId": "bc6504e0-fbb0-449e-e34f-94e7e3413edd"
      },
      "source": [
        "# move the data to its appropriate location\n",
        "# !mv data/air_quality/*.csv data/air_quality/raw/"
      ],
      "execution_count": null,
      "outputs": [
        {
          "output_type": "display_data",
          "data": {
            "text/html": [
              "\n",
              "  <style>\n",
              "    pre {\n",
              "        white-space: pre-wrap;\n",
              "    }\n",
              "  </style>\n",
              "  "
            ],
            "text/plain": [
              "<IPython.core.display.HTML object>"
            ]
          },
          "metadata": {}
        }
      ]
    },
    {
      "cell_type": "code",
      "metadata": {
        "id": "MylVGHBxSeka",
        "colab": {
          "base_uri": "https://localhost:8080/",
          "height": 17
        },
        "outputId": "41b73aaf-755f-4643-a387-c0dc80bd4aad"
      },
      "source": [
        "# remove all CSV files in data/\n",
        "# !rm data/*.csv"
      ],
      "execution_count": null,
      "outputs": [
        {
          "output_type": "display_data",
          "data": {
            "text/html": [
              "\n",
              "  <style>\n",
              "    pre {\n",
              "        white-space: pre-wrap;\n",
              "    }\n",
              "  </style>\n",
              "  "
            ],
            "text/plain": [
              "<IPython.core.display.HTML object>"
            ]
          },
          "metadata": {}
        }
      ]
    },
    {
      "cell_type": "code",
      "metadata": {
        "colab": {
          "base_uri": "https://localhost:8080/",
          "height": 153
        },
        "id": "e1O0aqGqPau1",
        "outputId": "b6825d1a-bd42-40bd-d6d4-e1efeb922452"
      },
      "source": [
        "for period in periods:\n",
        "  # !echo {period}\n",
        "  CSV_FILE_URL = f'https://aqicn.org/data-platform/covid19/report/13220-61539cf0/{period}'\n",
        "  FILE_PATH = AIR_QUALITY_RAW_DATA_FOLDER / f'{period}.csv'\n",
        "  if not FILE_PATH.exists():\n",
        "    # if the file doesn't exist, download it\n",
        "    print(f'downloading {period}.csv ...')\n",
        "    !curl --compressed -o {FILE_PATH} {CSV_FILE_URL} &>/dev/null\n",
        "  else:\n",
        "    print(f'{period}.csv already downloaded!')"
      ],
      "execution_count": 8,
      "outputs": [
        {
          "output_type": "display_data",
          "data": {
            "text/html": [
              "\n",
              "  <style>\n",
              "    pre {\n",
              "        white-space: pre-wrap;\n",
              "    }\n",
              "  </style>\n",
              "  "
            ],
            "text/plain": [
              "<IPython.core.display.HTML object>"
            ]
          },
          "metadata": {}
        },
        {
          "output_type": "stream",
          "name": "stdout",
          "text": [
            "downloading 2020Q1.csv ...\n",
            "downloading 2020Q2.csv ...\n",
            "downloading 2020Q3.csv ...\n",
            "downloading 2020Q4.csv ...\n",
            "downloading 2019Q1.csv ...\n",
            "downloading 2019Q2.csv ...\n",
            "downloading 2019Q3.csv ...\n",
            "downloading 2019Q4.csv ...\n"
          ]
        }
      ]
    },
    {
      "cell_type": "code",
      "metadata": {
        "colab": {
          "base_uri": "https://localhost:8080/",
          "height": 153
        },
        "id": "g2FXzlhM5bnn",
        "outputId": "dc848f57-600c-4956-8cde-cd336417d554"
      },
      "source": [
        "# put all raw data in one zip file (to make downloading easier)\n",
        "!zip raw_data.zip data/air_quality/raw/*.csv"
      ],
      "execution_count": 9,
      "outputs": [
        {
          "output_type": "display_data",
          "data": {
            "text/html": [
              "\n",
              "  <style>\n",
              "    pre {\n",
              "        white-space: pre-wrap;\n",
              "    }\n",
              "  </style>\n",
              "  "
            ],
            "text/plain": [
              "<IPython.core.display.HTML object>"
            ]
          },
          "metadata": {}
        },
        {
          "output_type": "stream",
          "name": "stdout",
          "text": [
            "  adding: data/air_quality/raw/2019Q1.csv (deflated 78%)\n",
            "  adding: data/air_quality/raw/2019Q2.csv (deflated 78%)\n",
            "  adding: data/air_quality/raw/2019Q3.csv (deflated 78%)\n",
            "  adding: data/air_quality/raw/2019Q4.csv (deflated 77%)\n",
            "  adding: data/air_quality/raw/2020Q1.csv (deflated 77%)\n",
            "  adding: data/air_quality/raw/2020Q2.csv (deflated 78%)\n",
            "  adding: data/air_quality/raw/2020Q3.csv (deflated 78%)\n",
            "  adding: data/air_quality/raw/2020Q4.csv (deflated 78%)\n"
          ]
        }
      ]
    },
    {
      "cell_type": "markdown",
      "metadata": {
        "id": "A7OB2UxMTx7z"
      },
      "source": [
        "let's now take a look at the data"
      ]
    },
    {
      "cell_type": "code",
      "metadata": {
        "colab": {
          "base_uri": "https://localhost:8080/",
          "height": 34
        },
        "id": "SEFPDuQT6nzo",
        "outputId": "9e11f7bb-d893-4776-b07a-36b59b24da67"
      },
      "source": [
        "!ls -alh *.zip"
      ],
      "execution_count": 10,
      "outputs": [
        {
          "output_type": "display_data",
          "data": {
            "text/html": [
              "\n",
              "  <style>\n",
              "    pre {\n",
              "        white-space: pre-wrap;\n",
              "    }\n",
              "  </style>\n",
              "  "
            ],
            "text/plain": [
              "<IPython.core.display.HTML object>"
            ]
          },
          "metadata": {}
        },
        {
          "output_type": "stream",
          "name": "stdout",
          "text": [
            "-rw-r--r-- 1 root root 52M Nov 19 15:22 raw_data.zip\n"
          ]
        }
      ]
    },
    {
      "cell_type": "code",
      "metadata": {
        "id": "3AVqfp7rVNx8",
        "colab": {
          "base_uri": "https://localhost:8080/",
          "height": 17
        },
        "outputId": "8ddadb4f-f7bd-4689-968b-eca0f45651d9"
      },
      "source": [
        "TEST_AQ_DATA_FILE = AIR_QUALITY_RAW_DATA_FOLDER / '2019Q4.csv'"
      ],
      "execution_count": null,
      "outputs": [
        {
          "output_type": "display_data",
          "data": {
            "text/html": [
              "\n",
              "  <style>\n",
              "    pre {\n",
              "        white-space: pre-wrap;\n",
              "    }\n",
              "  </style>\n",
              "  "
            ],
            "text/plain": [
              "<IPython.core.display.HTML object>"
            ]
          },
          "metadata": {}
        }
      ]
    },
    {
      "cell_type": "code",
      "metadata": {
        "colab": {
          "base_uri": "https://localhost:8080/",
          "height": 204
        },
        "id": "n_fkyWqBVSc9",
        "outputId": "de0e2a2d-a1d6-4066-8009-44238ba8185a"
      },
      "source": [
        "# display the first 10 lines of the data file (with line numbers)\n",
        "!head {TEST_AQ_DATA_FILE} | cat -n"
      ],
      "execution_count": null,
      "outputs": [
        {
          "output_type": "display_data",
          "data": {
            "text/html": [
              "\n",
              "  <style>\n",
              "    pre {\n",
              "        white-space: pre-wrap;\n",
              "    }\n",
              "  </style>\n",
              "  "
            ],
            "text/plain": [
              "<IPython.core.display.HTML object>"
            ]
          },
          "metadata": {}
        },
        {
          "output_type": "stream",
          "name": "stdout",
          "text": [
            "     1\t# Daily air quality and meteorological measurementa for majors world-wide cities in 2020\n",
            "     2\t# By using this data you agree with the terms of service: https://aqicn.org/data-platform/tos/\n",
            "     3\t# For more information check: https://aqicn.org/data-platform/covid19/\n",
            "     4\t# Data-Set Generated on 2020-04-13T01:05:30+01:00\n",
            "     5\tDate,Country,City,Specie,count,min,max,median,variance\n",
            "     6\t2019-11-02,HU,Debrecen,o3,72,1.9,12.2,7.0,59.60\n",
            "     7\t2019-11-11,HU,Debrecen,o3,66,0.6,15.2,7.1,151.12\n",
            "     8\t2019-11-12,HU,Debrecen,o3,65,2.3,18.9,12.0,193.29\n",
            "     9\t2019-12-22,HU,Debrecen,o3,45,11.3,24.1,18.6,110.54\n",
            "    10\t2020-01-05,HU,Debrecen,o3,34,1.6,26.4,16.7,586.81\n"
          ]
        }
      ]
    },
    {
      "cell_type": "markdown",
      "metadata": {
        "id": "HXv68koYVjMY"
      },
      "source": [
        "We can see that we have a comma-separated dataset with a few comments on top starting with `#`\n"
      ]
    },
    {
      "cell_type": "code",
      "metadata": {
        "id": "WfFcSRKwT1_g",
        "colab": {
          "base_uri": "https://localhost:8080/",
          "height": 17
        },
        "outputId": "92e1d1dd-486f-48e7-da40-e3cde674df76"
      },
      "source": [
        "df = pd.read_csv(AIR_QUALITY_RAW_DATA_FOLDER / '2019Q4.csv', comment='#')"
      ],
      "execution_count": null,
      "outputs": [
        {
          "output_type": "display_data",
          "data": {
            "text/html": [
              "\n",
              "  <style>\n",
              "    pre {\n",
              "        white-space: pre-wrap;\n",
              "    }\n",
              "  </style>\n",
              "  "
            ],
            "text/plain": [
              "<IPython.core.display.HTML object>"
            ]
          },
          "metadata": {}
        }
      ]
    },
    {
      "cell_type": "code",
      "metadata": {
        "colab": {
          "base_uri": "https://localhost:8080/",
          "height": 68
        },
        "id": "C8PuFFjYjTS1",
        "outputId": "b5701962-8a64-4844-96fb-97a8ca70a20b"
      },
      "source": [
        "# let's lowercase colum names to make using them easier later\n",
        "df.columns = map(lambda x : x.lower(), df.columns)\n",
        "df.columns"
      ],
      "execution_count": null,
      "outputs": [
        {
          "output_type": "display_data",
          "data": {
            "text/html": [
              "\n",
              "  <style>\n",
              "    pre {\n",
              "        white-space: pre-wrap;\n",
              "    }\n",
              "  </style>\n",
              "  "
            ],
            "text/plain": [
              "<IPython.core.display.HTML object>"
            ]
          },
          "metadata": {}
        },
        {
          "output_type": "execute_result",
          "data": {
            "text/plain": [
              "Index(['date', 'country', 'city', 'specie', 'count', 'min', 'max', 'median',\n",
              "       'variance'],\n",
              "      dtype='object')"
            ]
          },
          "metadata": {},
          "execution_count": 11
        }
      ]
    },
    {
      "cell_type": "code",
      "metadata": {
        "colab": {
          "base_uri": "https://localhost:8080/",
          "height": 194
        },
        "id": "OXLm3vaXVJmV",
        "outputId": "eb958ccc-5758-4957-b82a-dd4eb8da3398"
      },
      "source": [
        "# displays the first 5 rows of the data\n",
        "df.head()"
      ],
      "execution_count": null,
      "outputs": [
        {
          "output_type": "display_data",
          "data": {
            "text/html": [
              "\n",
              "  <style>\n",
              "    pre {\n",
              "        white-space: pre-wrap;\n",
              "    }\n",
              "  </style>\n",
              "  "
            ],
            "text/plain": [
              "<IPython.core.display.HTML object>"
            ]
          },
          "metadata": {}
        },
        {
          "output_type": "execute_result",
          "data": {
            "application/vnd.google.colaboratory.module+javascript": "\n      import \"https://ssl.gstatic.com/colaboratory/data_table/a6224c040fa35dcf/data_table.js\";\n\n      window.createDataTable({\n        data: [[{\n            'v': 0,\n            'f': \"0\",\n        },\n\"2019-11-02\",\n\"HU\",\n\"Debrecen\",\n\"o3\",\n{\n            'v': 72,\n            'f': \"72\",\n        },\n{\n            'v': 1.9,\n            'f': \"1.9\",\n        },\n{\n            'v': 12.2,\n            'f': \"12.2\",\n        },\n{\n            'v': 7.0,\n            'f': \"7.0\",\n        },\n{\n            'v': 59.6,\n            'f': \"59.6\",\n        }],\n [{\n            'v': 1,\n            'f': \"1\",\n        },\n\"2019-11-11\",\n\"HU\",\n\"Debrecen\",\n\"o3\",\n{\n            'v': 66,\n            'f': \"66\",\n        },\n{\n            'v': 0.6,\n            'f': \"0.6\",\n        },\n{\n            'v': 15.2,\n            'f': \"15.2\",\n        },\n{\n            'v': 7.1,\n            'f': \"7.1\",\n        },\n{\n            'v': 151.12,\n            'f': \"151.12\",\n        }],\n [{\n            'v': 2,\n            'f': \"2\",\n        },\n\"2019-11-12\",\n\"HU\",\n\"Debrecen\",\n\"o3\",\n{\n            'v': 65,\n            'f': \"65\",\n        },\n{\n            'v': 2.3,\n            'f': \"2.3\",\n        },\n{\n            'v': 18.9,\n            'f': \"18.9\",\n        },\n{\n            'v': 12.0,\n            'f': \"12.0\",\n        },\n{\n            'v': 193.29,\n            'f': \"193.29\",\n        }],\n [{\n            'v': 3,\n            'f': \"3\",\n        },\n\"2019-12-22\",\n\"HU\",\n\"Debrecen\",\n\"o3\",\n{\n            'v': 45,\n            'f': \"45\",\n        },\n{\n            'v': 11.3,\n            'f': \"11.3\",\n        },\n{\n            'v': 24.1,\n            'f': \"24.1\",\n        },\n{\n            'v': 18.6,\n            'f': \"18.6\",\n        },\n{\n            'v': 110.54,\n            'f': \"110.54\",\n        }],\n [{\n            'v': 4,\n            'f': \"4\",\n        },\n\"2020-01-05\",\n\"HU\",\n\"Debrecen\",\n\"o3\",\n{\n            'v': 34,\n            'f': \"34\",\n        },\n{\n            'v': 1.6,\n            'f': \"1.6\",\n        },\n{\n            'v': 26.4,\n            'f': \"26.4\",\n        },\n{\n            'v': 16.7,\n            'f': \"16.7\",\n        },\n{\n            'v': 586.81,\n            'f': \"586.81\",\n        }]],\n        columns: [[\"number\", \"index\"], [\"string\", \"date\"], [\"string\", \"country\"], [\"string\", \"city\"], [\"string\", \"specie\"], [\"number\", \"count\"], [\"number\", \"min\"], [\"number\", \"max\"], [\"number\", \"median\"], [\"number\", \"variance\"]],\n        columnOptions: [{\"width\": \"1px\", \"className\": \"index_column\"}],\n        rowsPerPage: 25,\n        helpUrl: \"https://colab.research.google.com/notebooks/data_table.ipynb\",\n        suppressOutputScrolling: true,\n        minimumWidth: undefined,\n      });\n    ",
            "text/html": [
              "<div>\n",
              "<style scoped>\n",
              "    .dataframe tbody tr th:only-of-type {\n",
              "        vertical-align: middle;\n",
              "    }\n",
              "\n",
              "    .dataframe tbody tr th {\n",
              "        vertical-align: top;\n",
              "    }\n",
              "\n",
              "    .dataframe thead th {\n",
              "        text-align: right;\n",
              "    }\n",
              "</style>\n",
              "<table border=\"1\" class=\"dataframe\">\n",
              "  <thead>\n",
              "    <tr style=\"text-align: right;\">\n",
              "      <th></th>\n",
              "      <th>date</th>\n",
              "      <th>country</th>\n",
              "      <th>city</th>\n",
              "      <th>specie</th>\n",
              "      <th>count</th>\n",
              "      <th>min</th>\n",
              "      <th>max</th>\n",
              "      <th>median</th>\n",
              "      <th>variance</th>\n",
              "    </tr>\n",
              "  </thead>\n",
              "  <tbody>\n",
              "    <tr>\n",
              "      <th>0</th>\n",
              "      <td>2019-11-02</td>\n",
              "      <td>HU</td>\n",
              "      <td>Debrecen</td>\n",
              "      <td>o3</td>\n",
              "      <td>72</td>\n",
              "      <td>1.9</td>\n",
              "      <td>12.2</td>\n",
              "      <td>7.0</td>\n",
              "      <td>59.60</td>\n",
              "    </tr>\n",
              "    <tr>\n",
              "      <th>1</th>\n",
              "      <td>2019-11-11</td>\n",
              "      <td>HU</td>\n",
              "      <td>Debrecen</td>\n",
              "      <td>o3</td>\n",
              "      <td>66</td>\n",
              "      <td>0.6</td>\n",
              "      <td>15.2</td>\n",
              "      <td>7.1</td>\n",
              "      <td>151.12</td>\n",
              "    </tr>\n",
              "    <tr>\n",
              "      <th>2</th>\n",
              "      <td>2019-11-12</td>\n",
              "      <td>HU</td>\n",
              "      <td>Debrecen</td>\n",
              "      <td>o3</td>\n",
              "      <td>65</td>\n",
              "      <td>2.3</td>\n",
              "      <td>18.9</td>\n",
              "      <td>12.0</td>\n",
              "      <td>193.29</td>\n",
              "    </tr>\n",
              "    <tr>\n",
              "      <th>3</th>\n",
              "      <td>2019-12-22</td>\n",
              "      <td>HU</td>\n",
              "      <td>Debrecen</td>\n",
              "      <td>o3</td>\n",
              "      <td>45</td>\n",
              "      <td>11.3</td>\n",
              "      <td>24.1</td>\n",
              "      <td>18.6</td>\n",
              "      <td>110.54</td>\n",
              "    </tr>\n",
              "    <tr>\n",
              "      <th>4</th>\n",
              "      <td>2020-01-05</td>\n",
              "      <td>HU</td>\n",
              "      <td>Debrecen</td>\n",
              "      <td>o3</td>\n",
              "      <td>34</td>\n",
              "      <td>1.6</td>\n",
              "      <td>26.4</td>\n",
              "      <td>16.7</td>\n",
              "      <td>586.81</td>\n",
              "    </tr>\n",
              "  </tbody>\n",
              "</table>\n",
              "</div>"
            ],
            "text/plain": [
              "         date country      city specie  count   min   max  median  variance\n",
              "0  2019-11-02      HU  Debrecen     o3     72   1.9  12.2     7.0     59.60\n",
              "1  2019-11-11      HU  Debrecen     o3     66   0.6  15.2     7.1    151.12\n",
              "2  2019-11-12      HU  Debrecen     o3     65   2.3  18.9    12.0    193.29\n",
              "3  2019-12-22      HU  Debrecen     o3     45  11.3  24.1    18.6    110.54\n",
              "4  2020-01-05      HU  Debrecen     o3     34   1.6  26.4    16.7    586.81"
            ]
          },
          "metadata": {},
          "execution_count": 12
        }
      ]
    },
    {
      "cell_type": "code",
      "metadata": {
        "colab": {
          "base_uri": "https://localhost:8080/",
          "height": 289
        },
        "id": "RWA0Zf8fWDp4",
        "outputId": "b9225837-50dd-4f2f-ed37-7b84e9f08b31"
      },
      "source": [
        "# getting more details about the column names and data types\n",
        "df.info()"
      ],
      "execution_count": null,
      "outputs": [
        {
          "output_type": "display_data",
          "data": {
            "text/html": [
              "\n",
              "  <style>\n",
              "    pre {\n",
              "        white-space: pre-wrap;\n",
              "    }\n",
              "  </style>\n",
              "  "
            ],
            "text/plain": [
              "<IPython.core.display.HTML object>"
            ]
          },
          "metadata": {}
        },
        {
          "output_type": "stream",
          "name": "stdout",
          "text": [
            "<class 'pandas.core.frame.DataFrame'>\n",
            "RangeIndex: 578226 entries, 0 to 578225\n",
            "Data columns (total 9 columns):\n",
            " #   Column    Non-Null Count   Dtype  \n",
            "---  ------    --------------   -----  \n",
            " 0   date      578226 non-null  object \n",
            " 1   country   578226 non-null  object \n",
            " 2   city      578226 non-null  object \n",
            " 3   specie    578226 non-null  object \n",
            " 4   count     578226 non-null  int64  \n",
            " 5   min       578226 non-null  float64\n",
            " 6   max       578226 non-null  float64\n",
            " 7   median    578226 non-null  float64\n",
            " 8   variance  578226 non-null  float64\n",
            "dtypes: float64(4), int64(1), object(4)\n",
            "memory usage: 39.7+ MB\n"
          ]
        }
      ]
    },
    {
      "cell_type": "code",
      "metadata": {
        "colab": {
          "base_uri": "https://localhost:8080/",
          "height": 257
        },
        "id": "2-b-yGOLW7jI",
        "outputId": "4541a052-c6ce-43f8-c3af-e849f7759595"
      },
      "source": [
        "# getting a summary of the main descriptive statistics of this data file\n",
        "df.describe()"
      ],
      "execution_count": null,
      "outputs": [
        {
          "output_type": "display_data",
          "data": {
            "text/html": [
              "\n",
              "  <style>\n",
              "    pre {\n",
              "        white-space: pre-wrap;\n",
              "    }\n",
              "  </style>\n",
              "  "
            ],
            "text/plain": [
              "<IPython.core.display.HTML object>"
            ]
          },
          "metadata": {}
        },
        {
          "output_type": "execute_result",
          "data": {
            "application/vnd.google.colaboratory.module+javascript": "\n      import \"https://ssl.gstatic.com/colaboratory/data_table/a6224c040fa35dcf/data_table.js\";\n\n      window.createDataTable({\n        data: [[\"count\",\n{\n            'v': 578226.0,\n            'f': \"578226.0\",\n        },\n{\n            'v': 578226.0,\n            'f': \"578226.0\",\n        },\n{\n            'v': 578226.0,\n            'f': \"578226.0\",\n        },\n{\n            'v': 578226.0,\n            'f': \"578226.0\",\n        },\n{\n            'v': 578226.0,\n            'f': \"578226.0\",\n        }],\n [\"mean\",\n{\n            'v': 130.89165654951523,\n            'f': \"130.89165654951523\",\n        },\n{\n            'v': 101.5490967200523,\n            'f': \"101.5490967200523\",\n        },\n{\n            'v': 134.9291088605771,\n            'f': \"134.9291088605771\",\n        },\n{\n            'v': 115.86143705060996,\n            'f': \"115.86143705060996\",\n        },\n{\n            'v': 10128.53090141215,\n            'f': \"10128.53090141215\",\n        }],\n [\"std\",\n{\n            'v': 185.69089686897993,\n            'f': \"185.69089686897993\",\n        },\n{\n            'v': 295.1042496031194,\n            'f': \"295.1042496031194\",\n        },\n{\n            'v': 296.3949257539494,\n            'f': \"296.3949257539494\",\n        },\n{\n            'v': 291.4292740917221,\n            'f': \"291.4292740917221\",\n        },\n{\n            'v': 292257.5854788233,\n            'f': \"292257.5854788233\",\n        }],\n [\"min\",\n{\n            'v': 2.0,\n            'f': \"2.0\",\n        },\n{\n            'v': -3276.6,\n            'f': \"-3276.6\",\n        },\n{\n            'v': -3065.6,\n            'f': \"-3065.6\",\n        },\n{\n            'v': -3065.6,\n            'f': \"-3065.6\",\n        },\n{\n            'v': 0.0,\n            'f': \"0.0\",\n        }],\n [\"25%\",\n{\n            'v': 45.0,\n            'f': \"45.0\",\n        },\n{\n            'v': 0.9,\n            'f': \"0.9\",\n        },\n{\n            'v': 9.7,\n            'f': \"9.7\",\n        },\n{\n            'v': 4.0,\n            'f': \"4.0\",\n        },\n{\n            'v': 21.61,\n            'f': \"21.61\",\n        }],\n [\"50%\",\n{\n            'v': 72.0,\n            'f': \"72.0\",\n        },\n{\n            'v': 4.2,\n            'f': \"4.2\",\n        },\n{\n            'v': 25.2,\n            'f': \"25.2\",\n        },\n{\n            'v': 12.5,\n            'f': \"12.5\",\n        },\n{\n            'v': 116.88,\n            'f': \"116.88\",\n        }],\n [\"75%\",\n{\n            'v': 154.0,\n            'f': \"154.0\",\n        },\n{\n            'v': 22.5,\n            'f': \"22.5\",\n        },\n{\n            'v': 85.0,\n            'f': \"85.0\",\n        },\n{\n            'v': 50.0,\n            'f': \"50.0\",\n        },\n{\n            'v': 721.9325,\n            'f': \"721.9325\",\n        }],\n [\"max\",\n{\n            'v': 2736.0,\n            'f': \"2736.0\",\n        },\n{\n            'v': 1170.6,\n            'f': \"1170.6\",\n        },\n{\n            'v': 3272.6,\n            'f': \"3272.6\",\n        },\n{\n            'v': 1330.8,\n            'f': \"1330.8\",\n        },\n{\n            'v': 41277300.0,\n            'f': \"41277300.0\",\n        }]],\n        columns: [[\"string\", \"index\"], [\"number\", \"count\"], [\"number\", \"min\"], [\"number\", \"max\"], [\"number\", \"median\"], [\"number\", \"variance\"]],\n        columnOptions: [{\"width\": \"1px\", \"className\": \"index_column\"}],\n        rowsPerPage: 25,\n        helpUrl: \"https://colab.research.google.com/notebooks/data_table.ipynb\",\n        suppressOutputScrolling: true,\n        minimumWidth: undefined,\n      });\n    ",
            "text/html": [
              "<div>\n",
              "<style scoped>\n",
              "    .dataframe tbody tr th:only-of-type {\n",
              "        vertical-align: middle;\n",
              "    }\n",
              "\n",
              "    .dataframe tbody tr th {\n",
              "        vertical-align: top;\n",
              "    }\n",
              "\n",
              "    .dataframe thead th {\n",
              "        text-align: right;\n",
              "    }\n",
              "</style>\n",
              "<table border=\"1\" class=\"dataframe\">\n",
              "  <thead>\n",
              "    <tr style=\"text-align: right;\">\n",
              "      <th></th>\n",
              "      <th>count</th>\n",
              "      <th>min</th>\n",
              "      <th>max</th>\n",
              "      <th>median</th>\n",
              "      <th>variance</th>\n",
              "    </tr>\n",
              "  </thead>\n",
              "  <tbody>\n",
              "    <tr>\n",
              "      <th>count</th>\n",
              "      <td>578226.000000</td>\n",
              "      <td>578226.000000</td>\n",
              "      <td>578226.000000</td>\n",
              "      <td>578226.000000</td>\n",
              "      <td>5.782260e+05</td>\n",
              "    </tr>\n",
              "    <tr>\n",
              "      <th>mean</th>\n",
              "      <td>130.891657</td>\n",
              "      <td>101.549097</td>\n",
              "      <td>134.929109</td>\n",
              "      <td>115.861437</td>\n",
              "      <td>1.012853e+04</td>\n",
              "    </tr>\n",
              "    <tr>\n",
              "      <th>std</th>\n",
              "      <td>185.690897</td>\n",
              "      <td>295.104250</td>\n",
              "      <td>296.394926</td>\n",
              "      <td>291.429274</td>\n",
              "      <td>2.922576e+05</td>\n",
              "    </tr>\n",
              "    <tr>\n",
              "      <th>min</th>\n",
              "      <td>2.000000</td>\n",
              "      <td>-3276.600000</td>\n",
              "      <td>-3065.600000</td>\n",
              "      <td>-3065.600000</td>\n",
              "      <td>0.000000e+00</td>\n",
              "    </tr>\n",
              "    <tr>\n",
              "      <th>25%</th>\n",
              "      <td>45.000000</td>\n",
              "      <td>0.900000</td>\n",
              "      <td>9.700000</td>\n",
              "      <td>4.000000</td>\n",
              "      <td>2.161000e+01</td>\n",
              "    </tr>\n",
              "    <tr>\n",
              "      <th>50%</th>\n",
              "      <td>72.000000</td>\n",
              "      <td>4.200000</td>\n",
              "      <td>25.200000</td>\n",
              "      <td>12.500000</td>\n",
              "      <td>1.168800e+02</td>\n",
              "    </tr>\n",
              "    <tr>\n",
              "      <th>75%</th>\n",
              "      <td>154.000000</td>\n",
              "      <td>22.500000</td>\n",
              "      <td>85.000000</td>\n",
              "      <td>50.000000</td>\n",
              "      <td>7.219325e+02</td>\n",
              "    </tr>\n",
              "    <tr>\n",
              "      <th>max</th>\n",
              "      <td>2736.000000</td>\n",
              "      <td>1170.600000</td>\n",
              "      <td>3272.600000</td>\n",
              "      <td>1330.800000</td>\n",
              "      <td>4.127730e+07</td>\n",
              "    </tr>\n",
              "  </tbody>\n",
              "</table>\n",
              "</div>"
            ],
            "text/plain": [
              "               count            min            max         median      variance\n",
              "count  578226.000000  578226.000000  578226.000000  578226.000000  5.782260e+05\n",
              "mean      130.891657     101.549097     134.929109     115.861437  1.012853e+04\n",
              "std       185.690897     295.104250     296.394926     291.429274  2.922576e+05\n",
              "min         2.000000   -3276.600000   -3065.600000   -3065.600000  0.000000e+00\n",
              "25%        45.000000       0.900000       9.700000       4.000000  2.161000e+01\n",
              "50%        72.000000       4.200000      25.200000      12.500000  1.168800e+02\n",
              "75%       154.000000      22.500000      85.000000      50.000000  7.219325e+02\n",
              "max      2736.000000    1170.600000    3272.600000    1330.800000  4.127730e+07"
            ]
          },
          "metadata": {},
          "execution_count": 14
        }
      ]
    },
    {
      "cell_type": "code",
      "metadata": {
        "colab": {
          "base_uri": "https://localhost:8080/",
          "height": 255
        },
        "id": "48JH_Vstj2-e",
        "outputId": "7377c627-323d-4eda-f6d4-8d688a5deac4"
      },
      "source": [
        "print(sorted(df.date.unique()))"
      ],
      "execution_count": null,
      "outputs": [
        {
          "output_type": "display_data",
          "data": {
            "text/html": [
              "\n",
              "  <style>\n",
              "    pre {\n",
              "        white-space: pre-wrap;\n",
              "    }\n",
              "  </style>\n",
              "  "
            ],
            "text/plain": [
              "<IPython.core.display.HTML object>"
            ]
          },
          "metadata": {}
        },
        {
          "output_type": "stream",
          "name": "stdout",
          "text": [
            "['2019-09-30', '2019-10-01', '2019-10-02', '2019-10-03', '2019-10-04', '2019-10-05', '2019-10-06', '2019-10-07', '2019-10-08', '2019-10-09', '2019-10-10', '2019-10-11', '2019-10-12', '2019-10-13', '2019-10-14', '2019-10-15', '2019-10-16', '2019-10-17', '2019-10-18', '2019-10-19', '2019-10-20', '2019-10-21', '2019-10-22', '2019-10-23', '2019-10-24', '2019-10-25', '2019-10-26', '2019-10-27', '2019-10-28', '2019-10-29', '2019-10-30', '2019-10-31', '2019-11-01', '2019-11-02', '2019-11-03', '2019-11-04', '2019-11-05', '2019-11-06', '2019-11-07', '2019-11-08', '2019-11-09', '2019-11-10', '2019-11-11', '2019-11-12', '2019-11-13', '2019-11-14', '2019-11-15', '2019-11-16', '2019-11-17', '2019-11-18', '2019-11-19', '2019-11-20', '2019-11-21', '2019-11-22', '2019-11-23', '2019-11-24', '2019-11-25', '2019-11-26', '2019-11-27', '2019-11-28', '2019-11-29', '2019-11-30', '2019-12-01', '2019-12-02', '2019-12-03', '2019-12-04', '2019-12-05', '2019-12-06', '2019-12-07', '2019-12-08', '2019-12-09', '2019-12-10', '2019-12-11', '2019-12-12', '2019-12-13', '2019-12-14', '2019-12-15', '2019-12-16', '2019-12-17', '2019-12-18', '2019-12-19', '2019-12-20', '2019-12-21', '2019-12-22', '2019-12-23', '2019-12-24', '2019-12-25', '2019-12-26', '2019-12-27', '2019-12-28', '2019-12-29', '2019-12-30', '2019-12-31', '2020-01-01', '2020-01-02', '2020-01-03', '2020-01-04', '2020-01-05']\n"
          ]
        }
      ]
    },
    {
      "cell_type": "code",
      "metadata": {
        "colab": {
          "base_uri": "https://localhost:8080/",
          "height": 34
        },
        "id": "b-CYuQWJjtTt",
        "outputId": "50c584f4-9093-4a34-867f-c8ad07e8e20e"
      },
      "source": [
        "# date range\n",
        "df.date.min(), df.date.max()"
      ],
      "execution_count": null,
      "outputs": [
        {
          "output_type": "display_data",
          "data": {
            "text/html": [
              "\n",
              "  <style>\n",
              "    pre {\n",
              "        white-space: pre-wrap;\n",
              "    }\n",
              "  </style>\n",
              "  "
            ],
            "text/plain": [
              "<IPython.core.display.HTML object>"
            ]
          },
          "metadata": {}
        },
        {
          "output_type": "execute_result",
          "data": {
            "text/plain": [
              "('2019-09-30', '2020-01-05')"
            ]
          },
          "metadata": {},
          "execution_count": 16
        }
      ]
    },
    {
      "cell_type": "code",
      "metadata": {
        "colab": {
          "base_uri": "https://localhost:8080/",
          "height": 119
        },
        "id": "D9XdjdeSmsQ0",
        "outputId": "f9936c05-faf5-4172-a860-c7b0c26255ca"
      },
      "source": [
        "# countries found in the dataset\n",
        "print(sorted(df.country.unique()))"
      ],
      "execution_count": null,
      "outputs": [
        {
          "output_type": "display_data",
          "data": {
            "text/html": [
              "\n",
              "  <style>\n",
              "    pre {\n",
              "        white-space: pre-wrap;\n",
              "    }\n",
              "  </style>\n",
              "  "
            ],
            "text/plain": [
              "<IPython.core.display.HTML object>"
            ]
          },
          "metadata": {}
        },
        {
          "output_type": "stream",
          "name": "stdout",
          "text": [
            "['AE', 'AF', 'AR', 'AT', 'AU', 'BA', 'BD', 'BE', 'BG', 'BH', 'BO', 'BR', 'CA', 'CH', 'CL', 'CN', 'CO', 'CR', 'CY', 'CZ', 'DE', 'DK', 'DZ', 'EC', 'EE', 'ES', 'ET', 'FI', 'FR', 'GB', 'GE', 'GR', 'GT', 'HK', 'HR', 'HU', 'ID', 'IE', 'IL', 'IN', 'IQ', 'IR', 'IS', 'IT', 'JO', 'JP', 'KG', 'KR', 'KW', 'KZ', 'LA', 'LK', 'LT', 'MK', 'ML', 'MM', 'MN', 'MO', 'MX', 'MY', 'NL', 'NO', 'NP', 'NZ', 'PE', 'PH', 'PK', 'PL', 'PR', 'PT', 'RE', 'RO', 'RS', 'RU', 'SA', 'SE', 'SG', 'SK', 'SV', 'TH', 'TJ', 'TM', 'TR', 'TW', 'UA', 'UG', 'US', 'UZ', 'VN', 'XK', 'ZA']\n"
          ]
        }
      ]
    },
    {
      "cell_type": "code",
      "metadata": {
        "colab": {
          "base_uri": "https://localhost:8080/",
          "height": 1000
        },
        "id": "cjuShI2EnkWP",
        "outputId": "e4736149-93b4-484a-bf46-22aaccc2e88f"
      },
      "source": [
        "# cities found in the dataset\n",
        "print(sorted(df.city.unique()))"
      ],
      "execution_count": null,
      "outputs": [
        {
          "output_type": "display_data",
          "data": {
            "text/html": [
              "\n",
              "  <style>\n",
              "    pre {\n",
              "        white-space: pre-wrap;\n",
              "    }\n",
              "  </style>\n",
              "  "
            ],
            "text/plain": [
              "<IPython.core.display.HTML object>"
            ]
          },
          "metadata": {}
        },
        {
          "output_type": "stream",
          "name": "stdout",
          "text": [
            "['Abha', 'Abu Dhabi', 'Adana', 'Adapazarı', 'Addis Ababa', 'Adelaide', 'Aguascalientes', 'Akita', 'Albuquerque', 'Algiers', 'Alor Setar', 'Amiens', 'Amman', 'Amsterdam', 'Andong', 'Ankara', 'Antakya', 'Antwerpen', 'Anyang', 'Arad', 'Arāk', 'Ashdod', 'Ashgabat', 'Ashkelon', 'Athens', 'Atlanta', 'Auckland', 'Augsburg', 'Austin', 'Bacău', 'Baghdad', 'Baguio', 'Baia Mare', 'Baltimore', 'Balıkesir', 'Bamako', 'Bandar Abbas', 'Bangkok', 'Barcelona', 'Beijing', 'Belfast', 'Belgrade', 'Bengaluru', 'Bergen', 'Berlin', 'Besançon', 'Bhopal', 'Bilbao', 'Biratnagar', 'Birmingham', 'Bishkek', 'Bloemfontein', 'Bogotá', 'Boise', 'Bologna', 'Bordeaux', 'Boston', 'Bratislava', 'Braşov', 'Breda', 'Brescia', 'Brisbane', 'Bristol', 'Brno', 'Brooklyn', 'Brussels', 'Brăila', 'Bucharest', 'Budapest', 'Buenos Aires', 'Buraydah', 'Burgas', 'Burgos', 'Bursa', 'Busan', 'Butuan', 'Bydgoszcz', 'Caen', 'Calama', 'Calgary', 'Canberra', 'Cape Town', 'Cardiff', 'Castelló de la Plana', 'Chandigarh', 'Changchun', 'Changsha', 'Changwon', 'Changzhou', 'Charleroi', 'Charlotte', 'Chelyabinsk', 'Chengdu', 'Chennai', 'Cheongju-si', 'Chiang Mai', 'Chiba', 'Chicago', 'Chillán', 'Chon Buri', 'Chongqing', 'Christchurch', 'Chuncheon', 'Clermont-Ferrand', 'Cluj-Napoca', 'Cochabamba', 'Colombo', 'Columbia', 'Columbus', 'Concepción', 'Constanţa', 'Copenhagen', 'Coventry', 'Craiova', 'Cuernavaca', 'Córdoba', 'Daegu', 'Daejeon', 'Dallas', 'Dammam', 'Darmstadt', 'Darwin', 'Debrecen', 'Delhi', 'Denizli', 'Denver', 'Detroit', 'Dhaka', 'Dijon', 'Dnipro', 'Dongguan', 'Donostia / San Sebastián', 'Dordrecht', 'Douliu', 'Dresden', 'Dubai', 'Dublin', 'Dunedin', 'Durban', 'Dushanbe', 'Düsseldorf', 'East London', 'Ecatepec de Morelos', 'Edinburgh', 'Edmonton', 'Eindhoven', 'El Paso', 'Erzurum', 'Eskişehir', 'Florence', 'Fort Worth', 'Foshan', 'Freiburg', 'Fresno', 'Fukuoka', 'Funchal', 'Fushun', 'Fuzhou', 'Galaţi', 'Gandhinagar', 'Gasteiz / Vitoria', 'Gdańsk', 'Gent', 'George Town', 'Ghāziābād', 'Gifu-shi', 'Glasgow', 'Granada', 'Graz', 'Grenoble', 'Groningen', 'Guadalajara', 'Guangzhou', 'Guatemala City', 'Guiyang', 'Gwangju', 'Győr', 'Göteborg', \"Ha'il\", 'Haarlem', 'Haifa', 'Haikou', 'Haiphong', 'Halifax', 'Hamburg', 'Hamilton', 'Hangzhou', 'Hannover', 'Hanoi', 'Harbin', 'Hartford', 'Hefei', 'Hegang', 'Helsinki', 'Hiroshima', 'Ho Chi Minh City', 'Hobart', 'Hohhot', 'Hong Kong', 'Honolulu', 'Houston', 'Hsinchu', 'Huelva', 'Huế', 'Hyderabad', 'Hāpur', 'Hạ Long', 'Iaşi', 'Incheon', 'Indianapolis', 'Innsbruck', 'Ipoh', 'Irbid', 'Isfahan', 'Islamabad', 'Istanbul', 'Ivano-Frankivsk', 'Jackson', 'Jacksonville', 'Jaipur', 'Jakarta', 'Jeddah', 'Jeju City', 'Jeonju', 'Jerusalem', 'Jieyang', 'Jinan', 'Johannesburg', 'Johor Bahru', 'Kabul', 'Kagoshima', 'Kamianske', 'Kampala', 'Kanazawa', 'Kaohsiung', 'Karachi', 'Karaj', 'Karlsruhe', 'Kassel', 'Kathmandu', 'Katowice', 'Kaunas', 'Kayseri', 'Kecskemét', 'Keelung', 'Kerman', 'Kermanshah', 'Khorramabad', 'Khorramshahr', 'Kielce', 'Kitchener', 'Klang', 'Klerksdorp', 'Kobe', 'Kochi', 'Kolkata', 'Konya', 'Kota Bharu', 'Košice', 'Kraków', 'Krasnoyarsk', 'Kryvyi Rih', 'Kuala Lumpur', 'Kuantan', 'Kuching', 'Kumamoto', 'Kunming', 'Kyiv', 'Kyoto', 'Köln', 'Kütahya', 'Lahore', 'Lampang', 'Lanzhou', 'Las Palmas de Gran Canaria', 'Las Vegas', 'Launceston', 'Leeds', 'Leicester', 'Lhasa', 'Lille', 'Lima', 'Limassol', 'Limoges', 'Linz', 'Lisbon', 'Little Rock', 'Liverpool', 'Livorno', 'Liège', 'London', 'Los Angeles', 'Los Ángeles', 'Lucknow', 'Lviv', 'Lyon', 'Maastricht', 'Macau', 'Madison', 'Madrid', 'Mainz', 'Malacca', 'Malmö', 'Manama', 'Manchester', 'Manhattan', 'Manila', 'Marseille', 'Mashhad', 'Matsuyama', 'Mecca', 'Medellín', 'Melbourne', 'Memphis', 'Metz', 'Mexico City', 'Miami', 'Middelburg', 'Milan', 'Milwaukee', 'Miri', 'Miskolc', 'Mississauga', 'Miyazaki', 'Modena', 'Mokpo', 'Monterrey', 'Montpellier', 'Montréal', 'Morelia', 'Moscow', 'Mumbai', 'Munich', 'Murcia', 'Muzaffarnagar', 'Mysore', 'Málaga', 'Mérida', 'Münster', 'Nagano', 'Nagasaki', 'Nagoya', 'Nagpur', 'Naha', 'Nakhon Pathom', 'Namur', 'Nanchang', 'Nancy', 'Nanjing', 'Nanning', 'Nantes', 'Naples', 'Nara-shi', 'Nashik', 'Nashville', 'Netanya', 'New Delhi', 'Newcastle', 'Newport', 'Nice', 'Nicosia', 'Niigata', 'Nijmegen', 'Ningbo', 'Nizhniy Novgorod', 'Niš', 'Norwich', 'Novi Sad', 'Novosibirsk', 'Nur-Sultan', 'Nîmes', 'Oakland', 'Oaxaca', 'Odessa', 'Okayama', 'Oklahoma City', 'Olomouc', 'Omaha', 'Oradea', 'Orléans', 'Orūmīyeh', 'Osaka', 'Oslo', 'Osorno', 'Ostrava', 'Ottawa', 'Oulu', 'Oviedo', 'Pachuca de Soto', 'Palma', 'Pamplona', 'Paris', 'Parma', 'Patna', 'Perpignan', 'Perth', 'Peshawar', 'Petaẖ Tiqwa', 'Philadelphia', 'Phoenix', 'Pilsen', 'Piteşti', 'Ploieşti', 'Plovdiv', 'Plymouth', 'Pohang', 'Pokhara', 'Port Elizabeth', 'Portland', 'Potsdam', 'Poznań', 'Prague', 'Prato', 'Preston', 'Pretoria', 'Pristina', 'Providence', 'Puebla', 'Puerto Montt', 'Pécs', 'Płock', 'Qingdao', 'Qinhuangdao', 'Qiqihar', 'Qom', 'Queens', 'Quilpué', 'Quito', 'Québec', 'Raleigh', 'Rancagua', 'Rayong', 'Reading', 'Rennes', 'Reykjavík', 'Richards Bay', 'Richmond', 'Rijeka', 'Riyadh', 'Rome', 'Rotterdam', 'Rouen', 'Rybnik', 'Râmnicu Vâlcea', 'Sacramento', 'Saint Paul', 'Saint-Denis', 'Saint-Étienne', 'Saitama', 'Salamanca', 'Salem', 'Salt Lake City', 'Salzburg', 'Samsun', 'Samut Prakan', 'San Antonio', 'San Diego', 'San Francisco', 'San Jose', 'San José', 'San Juan', 'San Luis Potosí', 'San Salvador', 'Sanandaj', 'Santa Cruz de Tenerife', 'Santander', 'Santiago', 'Sapporo', 'Sarajevo', 'Seattle', 'Sejong', 'Sendai', 'Seongnam-si', 'Seoul', 'Seremban', 'Sevilla', 'Shanghai', 'Shantou', 'Sheffield', 'Shenyang', 'Shenzhen', 'Shijiazhuang', 'Shillong', 'Shiraz', 'Shiyan', 'Shizuoka', 'Sibiu', 'Singapore', 'Sivas', 'Skopje', 'Sofia', 'Southend-on-Sea', 'Split', 'Springfield', 'Staten Island', 'Stavanger', 'Stockholm', 'Strasbourg', 'Stuttgart', 'Suncheon', 'Surrey', 'Suwon', 'Suzhou', 'Swansea', 'Sydney', 'Szczecin', 'Szeged', 'São José dos Campos', 'São Paulo', 'Tabriz', 'Taichung', 'Tainan', 'Taipei', 'Taiping', 'Taitung City', 'Taiyuan', 'Takamatsu', 'Talca', 'Tallahassee', 'Tallinn', 'Tampere', 'Taoyuan City', 'Tarnów', 'Tashkent', 'Tbilisi', 'Tehran', 'Tel Aviv', 'Temuco', 'Tepic', 'Ternopil', 'The Bronx', 'The Hague', 'Thessaloníki', 'Thiruvananthapuram', 'Thrissur', 'Tianjin', 'Timişoara', 'Tokyo', 'Toluca', 'Tomsk', 'Toronto', 'Toulon', 'Toulouse', 'Tours', 'Toyama', 'Trabzon', 'Trieste', 'Trondheim', 'Tucson', 'Turin', 'Turku', 'Tuzla', 'Ulan Bator', 'Ulsan', 'Uppsala', 'Utrecht', 'Utsunomiya', 'Valencia', 'Valladolid', 'Valparaíso', 'Vancouver', 'Vantaa', 'Vereeniging', 'Victoria', 'Vienna', 'Vientiane', 'Visakhapatnam', 'Vitória', 'Wakayama', 'Warsaw', 'Washington D.C.', 'Wellington', 'Wiesbaden', 'Winnipeg', 'Wollongong', 'Worcester', 'Wrocław', 'Wuhan', 'Wuxi', 'Xiamen', 'Xining', 'Xinxiang', 'Xi’an', 'Xuchang', 'Yangon', 'Yazd', 'Yeosu', 'Yinchuan', 'Yokohama', 'Yunfu', 'Zabrze', 'Zagreb', 'Zanjān', 'Zaporizhia', 'Zaragoza', 'Zarqa', 'Zenica', 'Zhengzhou', 'Zhuzhou', 'Zürich', 'Ürümqi', 'Īlām', 'İzmir', 'İzmit', 'Łódź', 'Ōita', 'Ḩawallī']\n"
          ]
        }
      ]
    },
    {
      "cell_type": "code",
      "metadata": {
        "colab": {
          "base_uri": "https://localhost:8080/",
          "height": 68
        },
        "id": "sRvG5DMNnxxL",
        "outputId": "5753e165-de17-4d8c-ee24-34bcf6aabe27"
      },
      "source": [
        "# species found in the dataset\n",
        "print(sorted(df.specie.unique()))"
      ],
      "execution_count": null,
      "outputs": [
        {
          "output_type": "display_data",
          "data": {
            "text/html": [
              "\n",
              "  <style>\n",
              "    pre {\n",
              "        white-space: pre-wrap;\n",
              "    }\n",
              "  </style>\n",
              "  "
            ],
            "text/plain": [
              "<IPython.core.display.HTML object>"
            ]
          },
          "metadata": {}
        },
        {
          "output_type": "stream",
          "name": "stdout",
          "text": [
            "['aqi', 'co', 'dew', 'humidity', 'mepaqi', 'neph', 'no2', 'o3', 'pm1', 'pm10', 'pm25', 'pol', 'precipitation', 'pressure', 'so2', 'temperature', 'uvi', 'wd', 'wind gust', 'wind speed', 'wind-gust', 'wind-speed']\n"
          ]
        }
      ]
    },
    {
      "cell_type": "code",
      "metadata": {
        "colab": {
          "base_uri": "https://localhost:8080/",
          "height": 623
        },
        "id": "-qdvi9VxoDkb",
        "outputId": "3d9e637f-a101-4e2e-ec43-907ff15fa7ee"
      },
      "source": [
        "# we might have duplicated columns ('wind gust' and 'wind-gust', 'wind speed'\n",
        "# and 'wind-speed'), so, let's check that\n",
        "df1 = df[(df.country == 'TR') & (df.specie == 'wind gust')]\n",
        "df1"
      ],
      "execution_count": null,
      "outputs": [
        {
          "output_type": "display_data",
          "data": {
            "text/html": [
              "\n",
              "  <style>\n",
              "    pre {\n",
              "        white-space: pre-wrap;\n",
              "    }\n",
              "  </style>\n",
              "  "
            ],
            "text/plain": [
              "<IPython.core.display.HTML object>"
            ]
          },
          "metadata": {}
        },
        {
          "output_type": "execute_result",
          "data": {
            "application/vnd.google.colaboratory.module+javascript": "\n      import \"https://ssl.gstatic.com/colaboratory/data_table/a6224c040fa35dcf/data_table.js\";\n\n      window.createDataTable({\n        data: [[{\n            'v': 549446,\n            'f': \"549446\",\n        },\n\"2019-12-25\",\n\"TR\",\n\"\\u0130zmit\",\n\"wind gust\",\n{\n            'v': 144,\n            'f': \"144\",\n        },\n{\n            'v': 7.0,\n            'f': \"7.0\",\n        },\n{\n            'v': 12.6,\n            'f': \"12.6\",\n        },\n{\n            'v': 9.1,\n            'f': \"9.1\",\n        },\n{\n            'v': 15.06,\n            'f': \"15.06\",\n        }],\n [{\n            'v': 549447,\n            'f': \"549447\",\n        },\n\"2019-12-26\",\n\"TR\",\n\"\\u0130zmit\",\n\"wind gust\",\n{\n            'v': 144,\n            'f': \"144\",\n        },\n{\n            'v': 9.6,\n            'f': \"9.6\",\n        },\n{\n            'v': 16.8,\n            'f': \"16.8\",\n        },\n{\n            'v': 14.0,\n            'f': \"14.0\",\n        },\n{\n            'v': 34.93,\n            'f': \"34.93\",\n        }],\n [{\n            'v': 549448,\n            'f': \"549448\",\n        },\n\"2019-12-27\",\n\"TR\",\n\"\\u0130zmit\",\n\"wind gust\",\n{\n            'v': 144,\n            'f': \"144\",\n        },\n{\n            'v': 1.0,\n            'f': \"1.0\",\n        },\n{\n            'v': 14.2,\n            'f': \"14.2\",\n        },\n{\n            'v': 4.6,\n            'f': \"4.6\",\n        },\n{\n            'v': 148.74,\n            'f': \"148.74\",\n        }],\n [{\n            'v': 549449,\n            'f': \"549449\",\n        },\n\"2019-12-28\",\n\"TR\",\n\"\\u0130zmit\",\n\"wind gust\",\n{\n            'v': 138,\n            'f': \"138\",\n        },\n{\n            'v': 0.8,\n            'f': \"0.8\",\n        },\n{\n            'v': 15.2,\n            'f': \"15.2\",\n        },\n{\n            'v': 4.0,\n            'f': \"4.0\",\n        },\n{\n            'v': 170.54,\n            'f': \"170.54\",\n        }],\n [{\n            'v': 549450,\n            'f': \"549450\",\n        },\n\"2020-01-03\",\n\"TR\",\n\"\\u0130zmit\",\n\"wind gust\",\n{\n            'v': 36,\n            'f': \"36\",\n        },\n{\n            'v': 0.3,\n            'f': \"0.3\",\n        },\n{\n            'v': 3.0,\n            'f': \"3.0\",\n        },\n{\n            'v': 1.3,\n            'f': \"1.3\",\n        },\n{\n            'v': 8.21,\n            'f': \"8.21\",\n        }],\n [{\n            'v': 549451,\n            'f': \"549451\",\n        },\n\"2020-01-04\",\n\"TR\",\n\"\\u0130zmit\",\n\"wind gust\",\n{\n            'v': 144,\n            'f': \"144\",\n        },\n{\n            'v': 0.5,\n            'f': \"0.5\",\n        },\n{\n            'v': 7.8,\n            'f': \"7.8\",\n        },\n{\n            'v': 3.6,\n            'f': \"3.6\",\n        },\n{\n            'v': 43.67,\n            'f': \"43.67\",\n        }],\n [{\n            'v': 549452,\n            'f': \"549452\",\n        },\n\"2020-01-05\",\n\"TR\",\n\"\\u0130zmit\",\n\"wind gust\",\n{\n            'v': 144,\n            'f': \"144\",\n        },\n{\n            'v': 0.3,\n            'f': \"0.3\",\n        },\n{\n            'v': 7.0,\n            'f': \"7.0\",\n        },\n{\n            'v': 2.5,\n            'f': \"2.5\",\n        },\n{\n            'v': 28.76,\n            'f': \"28.76\",\n        }],\n [{\n            'v': 550748,\n            'f': \"550748\",\n        },\n\"2019-12-27\",\n\"TR\",\n\"Ankara\",\n\"wind gust\",\n{\n            'v': 120,\n            'f': \"120\",\n        },\n{\n            'v': 0.6,\n            'f': \"0.6\",\n        },\n{\n            'v': 11.6,\n            'f': \"11.6\",\n        },\n{\n            'v': 6.6,\n            'f': \"6.6\",\n        },\n{\n            'v': 84.48,\n            'f': \"84.48\",\n        }],\n [{\n            'v': 550749,\n            'f': \"550749\",\n        },\n\"2019-12-28\",\n\"TR\",\n\"Ankara\",\n\"wind gust\",\n{\n            'v': 100,\n            'f': \"100\",\n        },\n{\n            'v': 0.1,\n            'f': \"0.1\",\n        },\n{\n            'v': 2.5,\n            'f': \"2.5\",\n        },\n{\n            'v': 0.4,\n            'f': \"0.4\",\n        },\n{\n            'v': 3.08,\n            'f': \"3.08\",\n        }],\n [{\n            'v': 550750,\n            'f': \"550750\",\n        },\n\"2020-01-03\",\n\"TR\",\n\"Ankara\",\n\"wind gust\",\n{\n            'v': 78,\n            'f': \"78\",\n        },\n{\n            'v': 0.4,\n            'f': \"0.4\",\n        },\n{\n            'v': 12.6,\n            'f': \"12.6\",\n        },\n{\n            'v': 5.2,\n            'f': \"5.2\",\n        },\n{\n            'v': 124.04,\n            'f': \"124.04\",\n        }],\n [{\n            'v': 550751,\n            'f': \"550751\",\n        },\n\"2020-01-04\",\n\"TR\",\n\"Ankara\",\n\"wind gust\",\n{\n            'v': 120,\n            'f': \"120\",\n        },\n{\n            'v': 0.1,\n            'f': \"0.1\",\n        },\n{\n            'v': 4.9,\n            'f': \"4.9\",\n        },\n{\n            'v': 1.1,\n            'f': \"1.1\",\n        },\n{\n            'v': 23.54,\n            'f': \"23.54\",\n        }],\n [{\n            'v': 550752,\n            'f': \"550752\",\n        },\n\"2020-01-05\",\n\"TR\",\n\"Ankara\",\n\"wind gust\",\n{\n            'v': 96,\n            'f': \"96\",\n        },\n{\n            'v': 0.2,\n            'f': \"0.2\",\n        },\n{\n            'v': 2.7,\n            'f': \"2.7\",\n        },\n{\n            'v': 0.8,\n            'f': \"0.8\",\n        },\n{\n            'v': 4.81,\n            'f': \"4.81\",\n        }],\n [{\n            'v': 550753,\n            'f': \"550753\",\n        },\n\"2019-12-25\",\n\"TR\",\n\"Ankara\",\n\"wind gust\",\n{\n            'v': 126,\n            'f': \"126\",\n        },\n{\n            'v': 0.2,\n            'f': \"0.2\",\n        },\n{\n            'v': 2.3,\n            'f': \"2.3\",\n        },\n{\n            'v': 1.6,\n            'f': \"1.6\",\n        },\n{\n            'v': 4.04,\n            'f': \"4.04\",\n        }],\n [{\n            'v': 550754,\n            'f': \"550754\",\n        },\n\"2019-12-26\",\n\"TR\",\n\"Ankara\",\n\"wind gust\",\n{\n            'v': 100,\n            'f': \"100\",\n        },\n{\n            'v': 0.2,\n            'f': \"0.2\",\n        },\n{\n            'v': 5.6,\n            'f': \"5.6\",\n        },\n{\n            'v': 2.1,\n            'f': \"2.1\",\n        },\n{\n            'v': 28.52,\n            'f': \"28.52\",\n        }],\n [{\n            'v': 552001,\n            'f': \"552001\",\n        },\n\"2020-01-04\",\n\"TR\",\n\"Adana\",\n\"wind gust\",\n{\n            'v': 80,\n            'f': \"80\",\n        },\n{\n            'v': 0.2,\n            'f': \"0.2\",\n        },\n{\n            'v': 11.8,\n            'f': \"11.8\",\n        },\n{\n            'v': 6.1,\n            'f': \"6.1\",\n        },\n{\n            'v': 114.43,\n            'f': \"114.43\",\n        }],\n [{\n            'v': 552002,\n            'f': \"552002\",\n        },\n\"2020-01-05\",\n\"TR\",\n\"Adana\",\n\"wind gust\",\n{\n            'v': 72,\n            'f': \"72\",\n        },\n{\n            'v': 0.2,\n            'f': \"0.2\",\n        },\n{\n            'v': 17.3,\n            'f': \"17.3\",\n        },\n{\n            'v': 6.6,\n            'f': \"6.6\",\n        },\n{\n            'v': 231.13,\n            'f': \"231.13\",\n        }],\n [{\n            'v': 552003,\n            'f': \"552003\",\n        },\n\"2019-12-25\",\n\"TR\",\n\"Adana\",\n\"wind gust\",\n{\n            'v': 96,\n            'f': \"96\",\n        },\n{\n            'v': 4.1,\n            'f': \"4.1\",\n        },\n{\n            'v': 38.3,\n            'f': \"38.3\",\n        },\n{\n            'v': 11.3,\n            'f': \"11.3\",\n        },\n{\n            'v': 677.02,\n            'f': \"677.02\",\n        }],\n [{\n            'v': 552004,\n            'f': \"552004\",\n        },\n\"2019-12-26\",\n\"TR\",\n\"Adana\",\n\"wind gust\",\n{\n            'v': 96,\n            'f': \"96\",\n        },\n{\n            'v': 5.1,\n            'f': \"5.1\",\n        },\n{\n            'v': 18.0,\n            'f': \"18.0\",\n        },\n{\n            'v': 9.6,\n            'f': \"9.6\",\n        },\n{\n            'v': 132.63,\n            'f': \"132.63\",\n        }],\n [{\n            'v': 552005,\n            'f': \"552005\",\n        },\n\"2019-12-27\",\n\"TR\",\n\"Adana\",\n\"wind gust\",\n{\n            'v': 80,\n            'f': \"80\",\n        },\n{\n            'v': 0.2,\n            'f': \"0.2\",\n        },\n{\n            'v': 14.5,\n            'f': \"14.5\",\n        },\n{\n            'v': 7.6,\n            'f': \"7.6\",\n        },\n{\n            'v': 222.21,\n            'f': \"222.21\",\n        }],\n [{\n            'v': 552006,\n            'f': \"552006\",\n        },\n\"2019-12-28\",\n\"TR\",\n\"Adana\",\n\"wind gust\",\n{\n            'v': 92,\n            'f': \"92\",\n        },\n{\n            'v': 0.8,\n            'f': \"0.8\",\n        },\n{\n            'v': 15.8,\n            'f': \"15.8\",\n        },\n{\n            'v': 9.4,\n            'f': \"9.4\",\n        },\n{\n            'v': 228.47,\n            'f': \"228.47\",\n        }],\n [{\n            'v': 552007,\n            'f': \"552007\",\n        },\n\"2020-01-03\",\n\"TR\",\n\"Adana\",\n\"wind gust\",\n{\n            'v': 4,\n            'f': \"4\",\n        },\n{\n            'v': 5.6,\n            'f': \"5.6\",\n        },\n{\n            'v': 5.6,\n            'f': \"5.6\",\n        },\n{\n            'v': 5.6,\n            'f': \"5.6\",\n        },\n{\n            'v': 0.0,\n            'f': \"0.0\",\n        }],\n [{\n            'v': 553582,\n            'f': \"553582\",\n        },\n\"2019-12-25\",\n\"TR\",\n\"Kayseri\",\n\"wind gust\",\n{\n            'v': 9,\n            'f': \"9\",\n        },\n{\n            'v': 11.8,\n            'f': \"11.8\",\n        },\n{\n            'v': 13.8,\n            'f': \"13.8\",\n        },\n{\n            'v': 13.8,\n            'f': \"13.8\",\n        },\n{\n            'v': 10.0,\n            'f': \"10.0\",\n        }],\n [{\n            'v': 555514,\n            'f': \"555514\",\n        },\n\"2020-01-05\",\n\"TR\",\n\"Bal\\u0131kesir\",\n\"wind gust\",\n{\n            'v': 12,\n            'f': \"12\",\n        },\n{\n            'v': 14.9,\n            'f': \"14.9\",\n        },\n{\n            'v': 16.9,\n            'f': \"16.9\",\n        },\n{\n            'v': 15.9,\n            'f': \"15.9\",\n        },\n{\n            'v': 4.92,\n            'f': \"4.92\",\n        }],\n [{\n            'v': 556453,\n            'f': \"556453\",\n        },\n\"2020-01-04\",\n\"TR\",\n\"Adapazar\\u0131\",\n\"wind gust\",\n{\n            'v': 72,\n            'f': \"72\",\n        },\n{\n            'v': 0.5,\n            'f': \"0.5\",\n        },\n{\n            'v': 7.8,\n            'f': \"7.8\",\n        },\n{\n            'v': 3.6,\n            'f': \"3.6\",\n        },\n{\n            'v': 43.98,\n            'f': \"43.98\",\n        }],\n [{\n            'v': 556454,\n            'f': \"556454\",\n        },\n\"2020-01-05\",\n\"TR\",\n\"Adapazar\\u0131\",\n\"wind gust\",\n{\n            'v': 72,\n            'f': \"72\",\n        },\n{\n            'v': 0.3,\n            'f': \"0.3\",\n        },\n{\n            'v': 7.0,\n            'f': \"7.0\",\n        },\n{\n            'v': 2.5,\n            'f': \"2.5\",\n        },\n{\n            'v': 28.97,\n            'f': \"28.97\",\n        }],\n [{\n            'v': 556455,\n            'f': \"556455\",\n        },\n\"2019-12-25\",\n\"TR\",\n\"Adapazar\\u0131\",\n\"wind gust\",\n{\n            'v': 72,\n            'f': \"72\",\n        },\n{\n            'v': 7.0,\n            'f': \"7.0\",\n        },\n{\n            'v': 12.6,\n            'f': \"12.6\",\n        },\n{\n            'v': 9.1,\n            'f': \"9.1\",\n        },\n{\n            'v': 15.17,\n            'f': \"15.17\",\n        }],\n [{\n            'v': 556456,\n            'f': \"556456\",\n        },\n\"2019-12-26\",\n\"TR\",\n\"Adapazar\\u0131\",\n\"wind gust\",\n{\n            'v': 72,\n            'f': \"72\",\n        },\n{\n            'v': 9.6,\n            'f': \"9.6\",\n        },\n{\n            'v': 16.8,\n            'f': \"16.8\",\n        },\n{\n            'v': 14.0,\n            'f': \"14.0\",\n        },\n{\n            'v': 35.18,\n            'f': \"35.18\",\n        }],\n [{\n            'v': 556457,\n            'f': \"556457\",\n        },\n\"2019-12-27\",\n\"TR\",\n\"Adapazar\\u0131\",\n\"wind gust\",\n{\n            'v': 72,\n            'f': \"72\",\n        },\n{\n            'v': 1.0,\n            'f': \"1.0\",\n        },\n{\n            'v': 14.2,\n            'f': \"14.2\",\n        },\n{\n            'v': 4.6,\n            'f': \"4.6\",\n        },\n{\n            'v': 149.79,\n            'f': \"149.79\",\n        }],\n [{\n            'v': 556458,\n            'f': \"556458\",\n        },\n\"2019-12-28\",\n\"TR\",\n\"Adapazar\\u0131\",\n\"wind gust\",\n{\n            'v': 70,\n            'f': \"70\",\n        },\n{\n            'v': 0.8,\n            'f': \"0.8\",\n        },\n{\n            'v': 15.2,\n            'f': \"15.2\",\n        },\n{\n            'v': 4.0,\n            'f': \"4.0\",\n        },\n{\n            'v': 171.1,\n            'f': \"171.1\",\n        }],\n [{\n            'v': 556459,\n            'f': \"556459\",\n        },\n\"2020-01-03\",\n\"TR\",\n\"Adapazar\\u0131\",\n\"wind gust\",\n{\n            'v': 18,\n            'f': \"18\",\n        },\n{\n            'v': 0.3,\n            'f': \"0.3\",\n        },\n{\n            'v': 3.0,\n            'f': \"3.0\",\n        },\n{\n            'v': 1.3,\n            'f': \"1.3\",\n        },\n{\n            'v': 8.45,\n            'f': \"8.45\",\n        }],\n [{\n            'v': 557395,\n            'f': \"557395\",\n        },\n\"2019-12-25\",\n\"TR\",\n\"Trabzon\",\n\"wind gust\",\n{\n            'v': 20,\n            'f': \"20\",\n        },\n{\n            'v': 9.2,\n            'f': \"9.2\",\n        },\n{\n            'v': 11.8,\n            'f': \"11.8\",\n        },\n{\n            'v': 9.7,\n            'f': \"9.7\",\n        },\n{\n            'v': 12.26,\n            'f': \"12.26\",\n        }],\n [{\n            'v': 557396,\n            'f': \"557396\",\n        },\n\"2020-01-03\",\n\"TR\",\n\"Trabzon\",\n\"wind gust\",\n{\n            'v': 5,\n            'f': \"5\",\n        },\n{\n            'v': 6.6,\n            'f': \"6.6\",\n        },\n{\n            'v': 6.6,\n            'f': \"6.6\",\n        },\n{\n            'v': 6.6,\n            'f': \"6.6\",\n        },\n{\n            'v': 0.0,\n            'f': \"0.0\",\n        }],\n [{\n            'v': 557397,\n            'f': \"557397\",\n        },\n\"2020-01-04\",\n\"TR\",\n\"Trabzon\",\n\"wind gust\",\n{\n            'v': 5,\n            'f': \"5\",\n        },\n{\n            'v': 8.2,\n            'f': \"8.2\",\n        },\n{\n            'v': 8.2,\n            'f': \"8.2\",\n        },\n{\n            'v': 8.2,\n            'f': \"8.2\",\n        },\n{\n            'v': 0.0,\n            'f': \"0.0\",\n        }],\n [{\n            'v': 557398,\n            'f': \"557398\",\n        },\n\"2020-01-05\",\n\"TR\",\n\"Trabzon\",\n\"wind gust\",\n{\n            'v': 5,\n            'f': \"5\",\n        },\n{\n            'v': 7.7,\n            'f': \"7.7\",\n        },\n{\n            'v': 7.7,\n            'f': \"7.7\",\n        },\n{\n            'v': 7.7,\n            'f': \"7.7\",\n        },\n{\n            'v': 0.0,\n            'f': \"0.0\",\n        }],\n [{\n            'v': 558484,\n            'f': \"558484\",\n        },\n\"2019-12-26\",\n\"TR\",\n\"Antakya\",\n\"wind gust\",\n{\n            'v': 24,\n            'f': \"24\",\n        },\n{\n            'v': 5.1,\n            'f': \"5.1\",\n        },\n{\n            'v': 18.0,\n            'f': \"18.0\",\n        },\n{\n            'v': 9.6,\n            'f': \"9.6\",\n        },\n{\n            'v': 136.95,\n            'f': \"136.95\",\n        }],\n [{\n            'v': 558485,\n            'f': \"558485\",\n        },\n\"2019-12-27\",\n\"TR\",\n\"Antakya\",\n\"wind gust\",\n{\n            'v': 20,\n            'f': \"20\",\n        },\n{\n            'v': 0.2,\n            'f': \"0.2\",\n        },\n{\n            'v': 14.5,\n            'f': \"14.5\",\n        },\n{\n            'v': 7.6,\n            'f': \"7.6\",\n        },\n{\n            'v': 230.98,\n            'f': \"230.98\",\n        }],\n [{\n            'v': 558486,\n            'f': \"558486\",\n        },\n\"2019-12-28\",\n\"TR\",\n\"Antakya\",\n\"wind gust\",\n{\n            'v': 23,\n            'f': \"23\",\n        },\n{\n            'v': 0.8,\n            'f': \"0.8\",\n        },\n{\n            'v': 15.8,\n            'f': \"15.8\",\n        },\n{\n            'v': 9.4,\n            'f': \"9.4\",\n        },\n{\n            'v': 236.27,\n            'f': \"236.27\",\n        }],\n [{\n            'v': 558487,\n            'f': \"558487\",\n        },\n\"2020-01-03\",\n\"TR\",\n\"Antakya\",\n\"wind gust\",\n{\n            'v': 15,\n            'f': \"15\",\n        },\n{\n            'v': 1.8,\n            'f': \"1.8\",\n        },\n{\n            'v': 15.0,\n            'f': \"15.0\",\n        },\n{\n            'v': 8.4,\n            'f': \"8.4\",\n        },\n{\n            'v': 223.24,\n            'f': \"223.24\",\n        }],\n [{\n            'v': 558488,\n            'f': \"558488\",\n        },\n\"2020-01-04\",\n\"TR\",\n\"Antakya\",\n\"wind gust\",\n{\n            'v': 20,\n            'f': \"20\",\n        },\n{\n            'v': 0.2,\n            'f': \"0.2\",\n        },\n{\n            'v': 11.8,\n            'f': \"11.8\",\n        },\n{\n            'v': 6.1,\n            'f': \"6.1\",\n        },\n{\n            'v': 118.95,\n            'f': \"118.95\",\n        }],\n [{\n            'v': 558489,\n            'f': \"558489\",\n        },\n\"2020-01-05\",\n\"TR\",\n\"Antakya\",\n\"wind gust\",\n{\n            'v': 18,\n            'f': \"18\",\n        },\n{\n            'v': 0.2,\n            'f': \"0.2\",\n        },\n{\n            'v': 17.3,\n            'f': \"17.3\",\n        },\n{\n            'v': 6.6,\n            'f': \"6.6\",\n        },\n{\n            'v': 241.33,\n            'f': \"241.33\",\n        }],\n [{\n            'v': 558490,\n            'f': \"558490\",\n        },\n\"2019-12-25\",\n\"TR\",\n\"Antakya\",\n\"wind gust\",\n{\n            'v': 24,\n            'f': \"24\",\n        },\n{\n            'v': 4.1,\n            'f': \"4.1\",\n        },\n{\n            'v': 38.3,\n            'f': \"38.3\",\n        },\n{\n            'v': 11.3,\n            'f': \"11.3\",\n        },\n{\n            'v': 699.09,\n            'f': \"699.09\",\n        }],\n [{\n            'v': 563015,\n            'f': \"563015\",\n        },\n\"2020-01-05\",\n\"TR\",\n\"Istanbul\",\n\"wind gust\",\n{\n            'v': 504,\n            'f': \"504\",\n        },\n{\n            'v': 0.8,\n            'f': \"0.8\",\n        },\n{\n            'v': 10.8,\n            'f': \"10.8\",\n        },\n{\n            'v': 2.7,\n            'f': \"2.7\",\n        },\n{\n            'v': 89.0,\n            'f': \"89.0\",\n        }],\n [{\n            'v': 563016,\n            'f': \"563016\",\n        },\n\"2019-12-25\",\n\"TR\",\n\"Istanbul\",\n\"wind gust\",\n{\n            'v': 600,\n            'f': \"600\",\n        },\n{\n            'v': 7.0,\n            'f': \"7.0\",\n        },\n{\n            'v': 15.2,\n            'f': \"15.2\",\n        },\n{\n            'v': 9.2,\n            'f': \"9.2\",\n        },\n{\n            'v': 17.9,\n            'f': \"17.9\",\n        }],\n [{\n            'v': 563017,\n            'f': \"563017\",\n        },\n\"2019-12-26\",\n\"TR\",\n\"Istanbul\",\n\"wind gust\",\n{\n            'v': 598,\n            'f': \"598\",\n        },\n{\n            'v': 9.6,\n            'f': \"9.6\",\n        },\n{\n            'v': 16.8,\n            'f': \"16.8\",\n        },\n{\n            'v': 14.0,\n            'f': \"14.0\",\n        },\n{\n            'v': 34.79,\n            'f': \"34.79\",\n        }],\n [{\n            'v': 563018,\n            'f': \"563018\",\n        },\n\"2019-12-27\",\n\"TR\",\n\"Istanbul\",\n\"wind gust\",\n{\n            'v': 600,\n            'f': \"600\",\n        },\n{\n            'v': 1.0,\n            'f': \"1.0\",\n        },\n{\n            'v': 14.2,\n            'f': \"14.2\",\n        },\n{\n            'v': 5.6,\n            'f': \"5.6\",\n        },\n{\n            'v': 142.54,\n            'f': \"142.54\",\n        }],\n [{\n            'v': 563019,\n            'f': \"563019\",\n        },\n\"2019-12-28\",\n\"TR\",\n\"Istanbul\",\n\"wind gust\",\n{\n            'v': 576,\n            'f': \"576\",\n        },\n{\n            'v': 0.8,\n            'f': \"0.8\",\n        },\n{\n            'v': 26.5,\n            'f': \"26.5\",\n        },\n{\n            'v': 4.6,\n            'f': \"4.6\",\n        },\n{\n            'v': 239.94,\n            'f': \"239.94\",\n        }],\n [{\n            'v': 563020,\n            'f': \"563020\",\n        },\n\"2020-01-03\",\n\"TR\",\n\"Istanbul\",\n\"wind gust\",\n{\n            'v': 21,\n            'f': \"21\",\n        },\n{\n            'v': 1.2,\n            'f': \"1.2\",\n        },\n{\n            'v': 1.2,\n            'f': \"1.2\",\n        },\n{\n            'v': 1.2,\n            'f': \"1.2\",\n        },\n{\n            'v': 0.0,\n            'f': \"0.0\",\n        }],\n [{\n            'v': 563021,\n            'f': \"563021\",\n        },\n\"2020-01-04\",\n\"TR\",\n\"Istanbul\",\n\"wind gust\",\n{\n            'v': 504,\n            'f': \"504\",\n        },\n{\n            'v': 0.5,\n            'f': \"0.5\",\n        },\n{\n            'v': 7.8,\n            'f': \"7.8\",\n        },\n{\n            'v': 3.6,\n            'f': \"3.6\",\n        },\n{\n            'v': 38.84,\n            'f': \"38.84\",\n        }],\n [{\n            'v': 564571,\n            'f': \"564571\",\n        },\n\"2019-12-25\",\n\"TR\",\n\"Erzurum\",\n\"wind gust\",\n{\n            'v': 8,\n            'f': \"8\",\n        },\n{\n            'v': 11.3,\n            'f': \"11.3\",\n        },\n{\n            'v': 13.8,\n            'f': \"13.8\",\n        },\n{\n            'v': 11.3,\n            'f': \"11.3\",\n        },\n{\n            'v': 17.86,\n            'f': \"17.86\",\n        }]],\n        columns: [[\"number\", \"index\"], [\"string\", \"date\"], [\"string\", \"country\"], [\"string\", \"city\"], [\"string\", \"specie\"], [\"number\", \"count\"], [\"number\", \"min\"], [\"number\", \"max\"], [\"number\", \"median\"], [\"number\", \"variance\"]],\n        columnOptions: [{\"width\": \"1px\", \"className\": \"index_column\"}],\n        rowsPerPage: 25,\n        helpUrl: \"https://colab.research.google.com/notebooks/data_table.ipynb\",\n        suppressOutputScrolling: true,\n        minimumWidth: undefined,\n      });\n    ",
            "text/html": [
              "<div>\n",
              "<style scoped>\n",
              "    .dataframe tbody tr th:only-of-type {\n",
              "        vertical-align: middle;\n",
              "    }\n",
              "\n",
              "    .dataframe tbody tr th {\n",
              "        vertical-align: top;\n",
              "    }\n",
              "\n",
              "    .dataframe thead th {\n",
              "        text-align: right;\n",
              "    }\n",
              "</style>\n",
              "<table border=\"1\" class=\"dataframe\">\n",
              "  <thead>\n",
              "    <tr style=\"text-align: right;\">\n",
              "      <th></th>\n",
              "      <th>date</th>\n",
              "      <th>country</th>\n",
              "      <th>city</th>\n",
              "      <th>specie</th>\n",
              "      <th>count</th>\n",
              "      <th>min</th>\n",
              "      <th>max</th>\n",
              "      <th>median</th>\n",
              "      <th>variance</th>\n",
              "    </tr>\n",
              "  </thead>\n",
              "  <tbody>\n",
              "    <tr>\n",
              "      <th>549446</th>\n",
              "      <td>2019-12-25</td>\n",
              "      <td>TR</td>\n",
              "      <td>İzmit</td>\n",
              "      <td>wind gust</td>\n",
              "      <td>144</td>\n",
              "      <td>7.0</td>\n",
              "      <td>12.6</td>\n",
              "      <td>9.1</td>\n",
              "      <td>15.06</td>\n",
              "    </tr>\n",
              "    <tr>\n",
              "      <th>549447</th>\n",
              "      <td>2019-12-26</td>\n",
              "      <td>TR</td>\n",
              "      <td>İzmit</td>\n",
              "      <td>wind gust</td>\n",
              "      <td>144</td>\n",
              "      <td>9.6</td>\n",
              "      <td>16.8</td>\n",
              "      <td>14.0</td>\n",
              "      <td>34.93</td>\n",
              "    </tr>\n",
              "    <tr>\n",
              "      <th>549448</th>\n",
              "      <td>2019-12-27</td>\n",
              "      <td>TR</td>\n",
              "      <td>İzmit</td>\n",
              "      <td>wind gust</td>\n",
              "      <td>144</td>\n",
              "      <td>1.0</td>\n",
              "      <td>14.2</td>\n",
              "      <td>4.6</td>\n",
              "      <td>148.74</td>\n",
              "    </tr>\n",
              "    <tr>\n",
              "      <th>549449</th>\n",
              "      <td>2019-12-28</td>\n",
              "      <td>TR</td>\n",
              "      <td>İzmit</td>\n",
              "      <td>wind gust</td>\n",
              "      <td>138</td>\n",
              "      <td>0.8</td>\n",
              "      <td>15.2</td>\n",
              "      <td>4.0</td>\n",
              "      <td>170.54</td>\n",
              "    </tr>\n",
              "    <tr>\n",
              "      <th>549450</th>\n",
              "      <td>2020-01-03</td>\n",
              "      <td>TR</td>\n",
              "      <td>İzmit</td>\n",
              "      <td>wind gust</td>\n",
              "      <td>36</td>\n",
              "      <td>0.3</td>\n",
              "      <td>3.0</td>\n",
              "      <td>1.3</td>\n",
              "      <td>8.21</td>\n",
              "    </tr>\n",
              "    <tr>\n",
              "      <th>549451</th>\n",
              "      <td>2020-01-04</td>\n",
              "      <td>TR</td>\n",
              "      <td>İzmit</td>\n",
              "      <td>wind gust</td>\n",
              "      <td>144</td>\n",
              "      <td>0.5</td>\n",
              "      <td>7.8</td>\n",
              "      <td>3.6</td>\n",
              "      <td>43.67</td>\n",
              "    </tr>\n",
              "    <tr>\n",
              "      <th>549452</th>\n",
              "      <td>2020-01-05</td>\n",
              "      <td>TR</td>\n",
              "      <td>İzmit</td>\n",
              "      <td>wind gust</td>\n",
              "      <td>144</td>\n",
              "      <td>0.3</td>\n",
              "      <td>7.0</td>\n",
              "      <td>2.5</td>\n",
              "      <td>28.76</td>\n",
              "    </tr>\n",
              "    <tr>\n",
              "      <th>550748</th>\n",
              "      <td>2019-12-27</td>\n",
              "      <td>TR</td>\n",
              "      <td>Ankara</td>\n",
              "      <td>wind gust</td>\n",
              "      <td>120</td>\n",
              "      <td>0.6</td>\n",
              "      <td>11.6</td>\n",
              "      <td>6.6</td>\n",
              "      <td>84.48</td>\n",
              "    </tr>\n",
              "    <tr>\n",
              "      <th>550749</th>\n",
              "      <td>2019-12-28</td>\n",
              "      <td>TR</td>\n",
              "      <td>Ankara</td>\n",
              "      <td>wind gust</td>\n",
              "      <td>100</td>\n",
              "      <td>0.1</td>\n",
              "      <td>2.5</td>\n",
              "      <td>0.4</td>\n",
              "      <td>3.08</td>\n",
              "    </tr>\n",
              "    <tr>\n",
              "      <th>550750</th>\n",
              "      <td>2020-01-03</td>\n",
              "      <td>TR</td>\n",
              "      <td>Ankara</td>\n",
              "      <td>wind gust</td>\n",
              "      <td>78</td>\n",
              "      <td>0.4</td>\n",
              "      <td>12.6</td>\n",
              "      <td>5.2</td>\n",
              "      <td>124.04</td>\n",
              "    </tr>\n",
              "    <tr>\n",
              "      <th>550751</th>\n",
              "      <td>2020-01-04</td>\n",
              "      <td>TR</td>\n",
              "      <td>Ankara</td>\n",
              "      <td>wind gust</td>\n",
              "      <td>120</td>\n",
              "      <td>0.1</td>\n",
              "      <td>4.9</td>\n",
              "      <td>1.1</td>\n",
              "      <td>23.54</td>\n",
              "    </tr>\n",
              "    <tr>\n",
              "      <th>550752</th>\n",
              "      <td>2020-01-05</td>\n",
              "      <td>TR</td>\n",
              "      <td>Ankara</td>\n",
              "      <td>wind gust</td>\n",
              "      <td>96</td>\n",
              "      <td>0.2</td>\n",
              "      <td>2.7</td>\n",
              "      <td>0.8</td>\n",
              "      <td>4.81</td>\n",
              "    </tr>\n",
              "    <tr>\n",
              "      <th>550753</th>\n",
              "      <td>2019-12-25</td>\n",
              "      <td>TR</td>\n",
              "      <td>Ankara</td>\n",
              "      <td>wind gust</td>\n",
              "      <td>126</td>\n",
              "      <td>0.2</td>\n",
              "      <td>2.3</td>\n",
              "      <td>1.6</td>\n",
              "      <td>4.04</td>\n",
              "    </tr>\n",
              "    <tr>\n",
              "      <th>550754</th>\n",
              "      <td>2019-12-26</td>\n",
              "      <td>TR</td>\n",
              "      <td>Ankara</td>\n",
              "      <td>wind gust</td>\n",
              "      <td>100</td>\n",
              "      <td>0.2</td>\n",
              "      <td>5.6</td>\n",
              "      <td>2.1</td>\n",
              "      <td>28.52</td>\n",
              "    </tr>\n",
              "    <tr>\n",
              "      <th>552001</th>\n",
              "      <td>2020-01-04</td>\n",
              "      <td>TR</td>\n",
              "      <td>Adana</td>\n",
              "      <td>wind gust</td>\n",
              "      <td>80</td>\n",
              "      <td>0.2</td>\n",
              "      <td>11.8</td>\n",
              "      <td>6.1</td>\n",
              "      <td>114.43</td>\n",
              "    </tr>\n",
              "    <tr>\n",
              "      <th>552002</th>\n",
              "      <td>2020-01-05</td>\n",
              "      <td>TR</td>\n",
              "      <td>Adana</td>\n",
              "      <td>wind gust</td>\n",
              "      <td>72</td>\n",
              "      <td>0.2</td>\n",
              "      <td>17.3</td>\n",
              "      <td>6.6</td>\n",
              "      <td>231.13</td>\n",
              "    </tr>\n",
              "    <tr>\n",
              "      <th>552003</th>\n",
              "      <td>2019-12-25</td>\n",
              "      <td>TR</td>\n",
              "      <td>Adana</td>\n",
              "      <td>wind gust</td>\n",
              "      <td>96</td>\n",
              "      <td>4.1</td>\n",
              "      <td>38.3</td>\n",
              "      <td>11.3</td>\n",
              "      <td>677.02</td>\n",
              "    </tr>\n",
              "    <tr>\n",
              "      <th>552004</th>\n",
              "      <td>2019-12-26</td>\n",
              "      <td>TR</td>\n",
              "      <td>Adana</td>\n",
              "      <td>wind gust</td>\n",
              "      <td>96</td>\n",
              "      <td>5.1</td>\n",
              "      <td>18.0</td>\n",
              "      <td>9.6</td>\n",
              "      <td>132.63</td>\n",
              "    </tr>\n",
              "    <tr>\n",
              "      <th>552005</th>\n",
              "      <td>2019-12-27</td>\n",
              "      <td>TR</td>\n",
              "      <td>Adana</td>\n",
              "      <td>wind gust</td>\n",
              "      <td>80</td>\n",
              "      <td>0.2</td>\n",
              "      <td>14.5</td>\n",
              "      <td>7.6</td>\n",
              "      <td>222.21</td>\n",
              "    </tr>\n",
              "    <tr>\n",
              "      <th>552006</th>\n",
              "      <td>2019-12-28</td>\n",
              "      <td>TR</td>\n",
              "      <td>Adana</td>\n",
              "      <td>wind gust</td>\n",
              "      <td>92</td>\n",
              "      <td>0.8</td>\n",
              "      <td>15.8</td>\n",
              "      <td>9.4</td>\n",
              "      <td>228.47</td>\n",
              "    </tr>\n",
              "    <tr>\n",
              "      <th>552007</th>\n",
              "      <td>2020-01-03</td>\n",
              "      <td>TR</td>\n",
              "      <td>Adana</td>\n",
              "      <td>wind gust</td>\n",
              "      <td>4</td>\n",
              "      <td>5.6</td>\n",
              "      <td>5.6</td>\n",
              "      <td>5.6</td>\n",
              "      <td>0.00</td>\n",
              "    </tr>\n",
              "    <tr>\n",
              "      <th>553582</th>\n",
              "      <td>2019-12-25</td>\n",
              "      <td>TR</td>\n",
              "      <td>Kayseri</td>\n",
              "      <td>wind gust</td>\n",
              "      <td>9</td>\n",
              "      <td>11.8</td>\n",
              "      <td>13.8</td>\n",
              "      <td>13.8</td>\n",
              "      <td>10.00</td>\n",
              "    </tr>\n",
              "    <tr>\n",
              "      <th>555514</th>\n",
              "      <td>2020-01-05</td>\n",
              "      <td>TR</td>\n",
              "      <td>Balıkesir</td>\n",
              "      <td>wind gust</td>\n",
              "      <td>12</td>\n",
              "      <td>14.9</td>\n",
              "      <td>16.9</td>\n",
              "      <td>15.9</td>\n",
              "      <td>4.92</td>\n",
              "    </tr>\n",
              "    <tr>\n",
              "      <th>556453</th>\n",
              "      <td>2020-01-04</td>\n",
              "      <td>TR</td>\n",
              "      <td>Adapazarı</td>\n",
              "      <td>wind gust</td>\n",
              "      <td>72</td>\n",
              "      <td>0.5</td>\n",
              "      <td>7.8</td>\n",
              "      <td>3.6</td>\n",
              "      <td>43.98</td>\n",
              "    </tr>\n",
              "    <tr>\n",
              "      <th>556454</th>\n",
              "      <td>2020-01-05</td>\n",
              "      <td>TR</td>\n",
              "      <td>Adapazarı</td>\n",
              "      <td>wind gust</td>\n",
              "      <td>72</td>\n",
              "      <td>0.3</td>\n",
              "      <td>7.0</td>\n",
              "      <td>2.5</td>\n",
              "      <td>28.97</td>\n",
              "    </tr>\n",
              "    <tr>\n",
              "      <th>556455</th>\n",
              "      <td>2019-12-25</td>\n",
              "      <td>TR</td>\n",
              "      <td>Adapazarı</td>\n",
              "      <td>wind gust</td>\n",
              "      <td>72</td>\n",
              "      <td>7.0</td>\n",
              "      <td>12.6</td>\n",
              "      <td>9.1</td>\n",
              "      <td>15.17</td>\n",
              "    </tr>\n",
              "    <tr>\n",
              "      <th>556456</th>\n",
              "      <td>2019-12-26</td>\n",
              "      <td>TR</td>\n",
              "      <td>Adapazarı</td>\n",
              "      <td>wind gust</td>\n",
              "      <td>72</td>\n",
              "      <td>9.6</td>\n",
              "      <td>16.8</td>\n",
              "      <td>14.0</td>\n",
              "      <td>35.18</td>\n",
              "    </tr>\n",
              "    <tr>\n",
              "      <th>556457</th>\n",
              "      <td>2019-12-27</td>\n",
              "      <td>TR</td>\n",
              "      <td>Adapazarı</td>\n",
              "      <td>wind gust</td>\n",
              "      <td>72</td>\n",
              "      <td>1.0</td>\n",
              "      <td>14.2</td>\n",
              "      <td>4.6</td>\n",
              "      <td>149.79</td>\n",
              "    </tr>\n",
              "    <tr>\n",
              "      <th>556458</th>\n",
              "      <td>2019-12-28</td>\n",
              "      <td>TR</td>\n",
              "      <td>Adapazarı</td>\n",
              "      <td>wind gust</td>\n",
              "      <td>70</td>\n",
              "      <td>0.8</td>\n",
              "      <td>15.2</td>\n",
              "      <td>4.0</td>\n",
              "      <td>171.10</td>\n",
              "    </tr>\n",
              "    <tr>\n",
              "      <th>556459</th>\n",
              "      <td>2020-01-03</td>\n",
              "      <td>TR</td>\n",
              "      <td>Adapazarı</td>\n",
              "      <td>wind gust</td>\n",
              "      <td>18</td>\n",
              "      <td>0.3</td>\n",
              "      <td>3.0</td>\n",
              "      <td>1.3</td>\n",
              "      <td>8.45</td>\n",
              "    </tr>\n",
              "    <tr>\n",
              "      <th>557395</th>\n",
              "      <td>2019-12-25</td>\n",
              "      <td>TR</td>\n",
              "      <td>Trabzon</td>\n",
              "      <td>wind gust</td>\n",
              "      <td>20</td>\n",
              "      <td>9.2</td>\n",
              "      <td>11.8</td>\n",
              "      <td>9.7</td>\n",
              "      <td>12.26</td>\n",
              "    </tr>\n",
              "    <tr>\n",
              "      <th>557396</th>\n",
              "      <td>2020-01-03</td>\n",
              "      <td>TR</td>\n",
              "      <td>Trabzon</td>\n",
              "      <td>wind gust</td>\n",
              "      <td>5</td>\n",
              "      <td>6.6</td>\n",
              "      <td>6.6</td>\n",
              "      <td>6.6</td>\n",
              "      <td>0.00</td>\n",
              "    </tr>\n",
              "    <tr>\n",
              "      <th>557397</th>\n",
              "      <td>2020-01-04</td>\n",
              "      <td>TR</td>\n",
              "      <td>Trabzon</td>\n",
              "      <td>wind gust</td>\n",
              "      <td>5</td>\n",
              "      <td>8.2</td>\n",
              "      <td>8.2</td>\n",
              "      <td>8.2</td>\n",
              "      <td>0.00</td>\n",
              "    </tr>\n",
              "    <tr>\n",
              "      <th>557398</th>\n",
              "      <td>2020-01-05</td>\n",
              "      <td>TR</td>\n",
              "      <td>Trabzon</td>\n",
              "      <td>wind gust</td>\n",
              "      <td>5</td>\n",
              "      <td>7.7</td>\n",
              "      <td>7.7</td>\n",
              "      <td>7.7</td>\n",
              "      <td>0.00</td>\n",
              "    </tr>\n",
              "    <tr>\n",
              "      <th>558484</th>\n",
              "      <td>2019-12-26</td>\n",
              "      <td>TR</td>\n",
              "      <td>Antakya</td>\n",
              "      <td>wind gust</td>\n",
              "      <td>24</td>\n",
              "      <td>5.1</td>\n",
              "      <td>18.0</td>\n",
              "      <td>9.6</td>\n",
              "      <td>136.95</td>\n",
              "    </tr>\n",
              "    <tr>\n",
              "      <th>558485</th>\n",
              "      <td>2019-12-27</td>\n",
              "      <td>TR</td>\n",
              "      <td>Antakya</td>\n",
              "      <td>wind gust</td>\n",
              "      <td>20</td>\n",
              "      <td>0.2</td>\n",
              "      <td>14.5</td>\n",
              "      <td>7.6</td>\n",
              "      <td>230.98</td>\n",
              "    </tr>\n",
              "    <tr>\n",
              "      <th>558486</th>\n",
              "      <td>2019-12-28</td>\n",
              "      <td>TR</td>\n",
              "      <td>Antakya</td>\n",
              "      <td>wind gust</td>\n",
              "      <td>23</td>\n",
              "      <td>0.8</td>\n",
              "      <td>15.8</td>\n",
              "      <td>9.4</td>\n",
              "      <td>236.27</td>\n",
              "    </tr>\n",
              "    <tr>\n",
              "      <th>558487</th>\n",
              "      <td>2020-01-03</td>\n",
              "      <td>TR</td>\n",
              "      <td>Antakya</td>\n",
              "      <td>wind gust</td>\n",
              "      <td>15</td>\n",
              "      <td>1.8</td>\n",
              "      <td>15.0</td>\n",
              "      <td>8.4</td>\n",
              "      <td>223.24</td>\n",
              "    </tr>\n",
              "    <tr>\n",
              "      <th>558488</th>\n",
              "      <td>2020-01-04</td>\n",
              "      <td>TR</td>\n",
              "      <td>Antakya</td>\n",
              "      <td>wind gust</td>\n",
              "      <td>20</td>\n",
              "      <td>0.2</td>\n",
              "      <td>11.8</td>\n",
              "      <td>6.1</td>\n",
              "      <td>118.95</td>\n",
              "    </tr>\n",
              "    <tr>\n",
              "      <th>558489</th>\n",
              "      <td>2020-01-05</td>\n",
              "      <td>TR</td>\n",
              "      <td>Antakya</td>\n",
              "      <td>wind gust</td>\n",
              "      <td>18</td>\n",
              "      <td>0.2</td>\n",
              "      <td>17.3</td>\n",
              "      <td>6.6</td>\n",
              "      <td>241.33</td>\n",
              "    </tr>\n",
              "    <tr>\n",
              "      <th>558490</th>\n",
              "      <td>2019-12-25</td>\n",
              "      <td>TR</td>\n",
              "      <td>Antakya</td>\n",
              "      <td>wind gust</td>\n",
              "      <td>24</td>\n",
              "      <td>4.1</td>\n",
              "      <td>38.3</td>\n",
              "      <td>11.3</td>\n",
              "      <td>699.09</td>\n",
              "    </tr>\n",
              "    <tr>\n",
              "      <th>563015</th>\n",
              "      <td>2020-01-05</td>\n",
              "      <td>TR</td>\n",
              "      <td>Istanbul</td>\n",
              "      <td>wind gust</td>\n",
              "      <td>504</td>\n",
              "      <td>0.8</td>\n",
              "      <td>10.8</td>\n",
              "      <td>2.7</td>\n",
              "      <td>89.00</td>\n",
              "    </tr>\n",
              "    <tr>\n",
              "      <th>563016</th>\n",
              "      <td>2019-12-25</td>\n",
              "      <td>TR</td>\n",
              "      <td>Istanbul</td>\n",
              "      <td>wind gust</td>\n",
              "      <td>600</td>\n",
              "      <td>7.0</td>\n",
              "      <td>15.2</td>\n",
              "      <td>9.2</td>\n",
              "      <td>17.90</td>\n",
              "    </tr>\n",
              "    <tr>\n",
              "      <th>563017</th>\n",
              "      <td>2019-12-26</td>\n",
              "      <td>TR</td>\n",
              "      <td>Istanbul</td>\n",
              "      <td>wind gust</td>\n",
              "      <td>598</td>\n",
              "      <td>9.6</td>\n",
              "      <td>16.8</td>\n",
              "      <td>14.0</td>\n",
              "      <td>34.79</td>\n",
              "    </tr>\n",
              "    <tr>\n",
              "      <th>563018</th>\n",
              "      <td>2019-12-27</td>\n",
              "      <td>TR</td>\n",
              "      <td>Istanbul</td>\n",
              "      <td>wind gust</td>\n",
              "      <td>600</td>\n",
              "      <td>1.0</td>\n",
              "      <td>14.2</td>\n",
              "      <td>5.6</td>\n",
              "      <td>142.54</td>\n",
              "    </tr>\n",
              "    <tr>\n",
              "      <th>563019</th>\n",
              "      <td>2019-12-28</td>\n",
              "      <td>TR</td>\n",
              "      <td>Istanbul</td>\n",
              "      <td>wind gust</td>\n",
              "      <td>576</td>\n",
              "      <td>0.8</td>\n",
              "      <td>26.5</td>\n",
              "      <td>4.6</td>\n",
              "      <td>239.94</td>\n",
              "    </tr>\n",
              "    <tr>\n",
              "      <th>563020</th>\n",
              "      <td>2020-01-03</td>\n",
              "      <td>TR</td>\n",
              "      <td>Istanbul</td>\n",
              "      <td>wind gust</td>\n",
              "      <td>21</td>\n",
              "      <td>1.2</td>\n",
              "      <td>1.2</td>\n",
              "      <td>1.2</td>\n",
              "      <td>0.00</td>\n",
              "    </tr>\n",
              "    <tr>\n",
              "      <th>563021</th>\n",
              "      <td>2020-01-04</td>\n",
              "      <td>TR</td>\n",
              "      <td>Istanbul</td>\n",
              "      <td>wind gust</td>\n",
              "      <td>504</td>\n",
              "      <td>0.5</td>\n",
              "      <td>7.8</td>\n",
              "      <td>3.6</td>\n",
              "      <td>38.84</td>\n",
              "    </tr>\n",
              "    <tr>\n",
              "      <th>564571</th>\n",
              "      <td>2019-12-25</td>\n",
              "      <td>TR</td>\n",
              "      <td>Erzurum</td>\n",
              "      <td>wind gust</td>\n",
              "      <td>8</td>\n",
              "      <td>11.3</td>\n",
              "      <td>13.8</td>\n",
              "      <td>11.3</td>\n",
              "      <td>17.86</td>\n",
              "    </tr>\n",
              "  </tbody>\n",
              "</table>\n",
              "</div>"
            ],
            "text/plain": [
              "              date country       city     specie  ...   min   max  median  variance\n",
              "549446  2019-12-25      TR      İzmit  wind gust  ...   7.0  12.6     9.1     15.06\n",
              "549447  2019-12-26      TR      İzmit  wind gust  ...   9.6  16.8    14.0     34.93\n",
              "549448  2019-12-27      TR      İzmit  wind gust  ...   1.0  14.2     4.6    148.74\n",
              "549449  2019-12-28      TR      İzmit  wind gust  ...   0.8  15.2     4.0    170.54\n",
              "549450  2020-01-03      TR      İzmit  wind gust  ...   0.3   3.0     1.3      8.21\n",
              "549451  2020-01-04      TR      İzmit  wind gust  ...   0.5   7.8     3.6     43.67\n",
              "549452  2020-01-05      TR      İzmit  wind gust  ...   0.3   7.0     2.5     28.76\n",
              "550748  2019-12-27      TR     Ankara  wind gust  ...   0.6  11.6     6.6     84.48\n",
              "550749  2019-12-28      TR     Ankara  wind gust  ...   0.1   2.5     0.4      3.08\n",
              "550750  2020-01-03      TR     Ankara  wind gust  ...   0.4  12.6     5.2    124.04\n",
              "550751  2020-01-04      TR     Ankara  wind gust  ...   0.1   4.9     1.1     23.54\n",
              "550752  2020-01-05      TR     Ankara  wind gust  ...   0.2   2.7     0.8      4.81\n",
              "550753  2019-12-25      TR     Ankara  wind gust  ...   0.2   2.3     1.6      4.04\n",
              "550754  2019-12-26      TR     Ankara  wind gust  ...   0.2   5.6     2.1     28.52\n",
              "552001  2020-01-04      TR      Adana  wind gust  ...   0.2  11.8     6.1    114.43\n",
              "552002  2020-01-05      TR      Adana  wind gust  ...   0.2  17.3     6.6    231.13\n",
              "552003  2019-12-25      TR      Adana  wind gust  ...   4.1  38.3    11.3    677.02\n",
              "552004  2019-12-26      TR      Adana  wind gust  ...   5.1  18.0     9.6    132.63\n",
              "552005  2019-12-27      TR      Adana  wind gust  ...   0.2  14.5     7.6    222.21\n",
              "552006  2019-12-28      TR      Adana  wind gust  ...   0.8  15.8     9.4    228.47\n",
              "552007  2020-01-03      TR      Adana  wind gust  ...   5.6   5.6     5.6      0.00\n",
              "553582  2019-12-25      TR    Kayseri  wind gust  ...  11.8  13.8    13.8     10.00\n",
              "555514  2020-01-05      TR  Balıkesir  wind gust  ...  14.9  16.9    15.9      4.92\n",
              "556453  2020-01-04      TR  Adapazarı  wind gust  ...   0.5   7.8     3.6     43.98\n",
              "556454  2020-01-05      TR  Adapazarı  wind gust  ...   0.3   7.0     2.5     28.97\n",
              "556455  2019-12-25      TR  Adapazarı  wind gust  ...   7.0  12.6     9.1     15.17\n",
              "556456  2019-12-26      TR  Adapazarı  wind gust  ...   9.6  16.8    14.0     35.18\n",
              "556457  2019-12-27      TR  Adapazarı  wind gust  ...   1.0  14.2     4.6    149.79\n",
              "556458  2019-12-28      TR  Adapazarı  wind gust  ...   0.8  15.2     4.0    171.10\n",
              "556459  2020-01-03      TR  Adapazarı  wind gust  ...   0.3   3.0     1.3      8.45\n",
              "557395  2019-12-25      TR    Trabzon  wind gust  ...   9.2  11.8     9.7     12.26\n",
              "557396  2020-01-03      TR    Trabzon  wind gust  ...   6.6   6.6     6.6      0.00\n",
              "557397  2020-01-04      TR    Trabzon  wind gust  ...   8.2   8.2     8.2      0.00\n",
              "557398  2020-01-05      TR    Trabzon  wind gust  ...   7.7   7.7     7.7      0.00\n",
              "558484  2019-12-26      TR    Antakya  wind gust  ...   5.1  18.0     9.6    136.95\n",
              "558485  2019-12-27      TR    Antakya  wind gust  ...   0.2  14.5     7.6    230.98\n",
              "558486  2019-12-28      TR    Antakya  wind gust  ...   0.8  15.8     9.4    236.27\n",
              "558487  2020-01-03      TR    Antakya  wind gust  ...   1.8  15.0     8.4    223.24\n",
              "558488  2020-01-04      TR    Antakya  wind gust  ...   0.2  11.8     6.1    118.95\n",
              "558489  2020-01-05      TR    Antakya  wind gust  ...   0.2  17.3     6.6    241.33\n",
              "558490  2019-12-25      TR    Antakya  wind gust  ...   4.1  38.3    11.3    699.09\n",
              "563015  2020-01-05      TR   Istanbul  wind gust  ...   0.8  10.8     2.7     89.00\n",
              "563016  2019-12-25      TR   Istanbul  wind gust  ...   7.0  15.2     9.2     17.90\n",
              "563017  2019-12-26      TR   Istanbul  wind gust  ...   9.6  16.8    14.0     34.79\n",
              "563018  2019-12-27      TR   Istanbul  wind gust  ...   1.0  14.2     5.6    142.54\n",
              "563019  2019-12-28      TR   Istanbul  wind gust  ...   0.8  26.5     4.6    239.94\n",
              "563020  2020-01-03      TR   Istanbul  wind gust  ...   1.2   1.2     1.2      0.00\n",
              "563021  2020-01-04      TR   Istanbul  wind gust  ...   0.5   7.8     3.6     38.84\n",
              "564571  2019-12-25      TR    Erzurum  wind gust  ...  11.3  13.8    11.3     17.86\n",
              "\n",
              "[49 rows x 9 columns]"
            ]
          },
          "metadata": {},
          "execution_count": 20
        }
      ]
    },
    {
      "cell_type": "code",
      "metadata": {
        "colab": {
          "base_uri": "https://localhost:8080/",
          "height": 623
        },
        "id": "HdIcjYrXpHpE",
        "outputId": "28d6f101-932d-488f-ad8b-4eeedd9d84ed"
      },
      "source": [
        "df2 = df[(df.country == 'TR') & (df.specie == 'wind-gust')]\n",
        "df2"
      ],
      "execution_count": null,
      "outputs": [
        {
          "output_type": "display_data",
          "data": {
            "text/html": [
              "\n",
              "  <style>\n",
              "    pre {\n",
              "        white-space: pre-wrap;\n",
              "    }\n",
              "  </style>\n",
              "  "
            ],
            "text/plain": [
              "<IPython.core.display.HTML object>"
            ]
          },
          "metadata": {}
        },
        {
          "output_type": "execute_result",
          "data": {
            "application/vnd.google.colaboratory.module+javascript": "\n      import \"https://ssl.gstatic.com/colaboratory/data_table/a6224c040fa35dcf/data_table.js\";\n\n      window.createDataTable({\n        data: [[{\n            'v': 548141,\n            'f': \"548141\",\n        },\n\"2019-12-23\",\n\"TR\",\n\"Eski\\u015fehir\",\n\"wind-gust\",\n{\n            'v': 2,\n            'f': \"2\",\n        },\n{\n            'v': 9.2,\n            'f': \"9.2\",\n        },\n{\n            'v': 9.7,\n            'f': \"9.7\",\n        },\n{\n            'v': 9.2,\n            'f': \"9.2\",\n        },\n{\n            'v': 1.25,\n            'f': \"1.25\",\n        }],\n [{\n            'v': 548974,\n            'f': \"548974\",\n        },\n\"2019-11-02\",\n\"TR\",\n\"\\u0130zmit\",\n\"wind-gust\",\n{\n            'v': 144,\n            'f': \"144\",\n        },\n{\n            'v': 0.7,\n            'f': \"0.7\",\n        },\n{\n            'v': 11.8,\n            'f': \"11.8\",\n        },\n{\n            'v': 2.8,\n            'f': \"2.8\",\n        },\n{\n            'v': 90.98,\n            'f': \"90.98\",\n        }],\n [{\n            'v': 548975,\n            'f': \"548975\",\n        },\n\"2019-11-12\",\n\"TR\",\n\"\\u0130zmit\",\n\"wind-gust\",\n{\n            'v': 144,\n            'f': \"144\",\n        },\n{\n            'v': 0.3,\n            'f': \"0.3\",\n        },\n{\n            'v': 3.2,\n            'f': \"3.2\",\n        },\n{\n            'v': 1.1,\n            'f': \"1.1\",\n        },\n{\n            'v': 5.99,\n            'f': \"5.99\",\n        }],\n [{\n            'v': 548976,\n            'f': \"548976\",\n        },\n\"2019-11-15\",\n\"TR\",\n\"\\u0130zmit\",\n\"wind-gust\",\n{\n            'v': 144,\n            'f': \"144\",\n        },\n{\n            'v': 0.5,\n            'f': \"0.5\",\n        },\n{\n            'v': 3.0,\n            'f': \"3.0\",\n        },\n{\n            'v': 1.2,\n            'f': \"1.2\",\n        },\n{\n            'v': 5.92,\n            'f': \"5.92\",\n        }],\n [{\n            'v': 548977,\n            'f': \"548977\",\n        },\n\"2019-12-11\",\n\"TR\",\n\"\\u0130zmit\",\n\"wind-gust\",\n{\n            'v': 138,\n            'f': \"138\",\n        },\n{\n            'v': 0.7,\n            'f': \"0.7\",\n        },\n{\n            'v': 9.0,\n            'f': \"9.0\",\n        },\n{\n            'v': 2.1,\n            'f': \"2.1\",\n        },\n{\n            'v': 63.33,\n            'f': \"63.33\",\n        }],\n [{\n            'v': 548978,\n            'f': \"548978\",\n        },\n\"2019-12-20\",\n\"TR\",\n\"\\u0130zmit\",\n\"wind-gust\",\n{\n            'v': 132,\n            'f': \"132\",\n        },\n{\n            'v': 0.1,\n            'f': \"0.1\",\n        },\n{\n            'v': 7.6,\n            'f': \"7.6\",\n        },\n{\n            'v': 2.3,\n            'f': \"2.3\",\n        },\n{\n            'v': 36.96,\n            'f': \"36.96\",\n        }],\n [{\n            'v': 548979,\n            'f': \"548979\",\n        },\n\"2019-11-14\",\n\"TR\",\n\"\\u0130zmit\",\n\"wind-gust\",\n{\n            'v': 138,\n            'f': \"138\",\n        },\n{\n            'v': 0.3,\n            'f': \"0.3\",\n        },\n{\n            'v': 12.2,\n            'f': \"12.2\",\n        },\n{\n            'v': 2.0,\n            'f': \"2.0\",\n        },\n{\n            'v': 97.63,\n            'f': \"97.63\",\n        }],\n [{\n            'v': 548980,\n            'f': \"548980\",\n        },\n\"2019-11-26\",\n\"TR\",\n\"\\u0130zmit\",\n\"wind-gust\",\n{\n            'v': 144,\n            'f': \"144\",\n        },\n{\n            'v': 0.1,\n            'f': \"0.1\",\n        },\n{\n            'v': 7.5,\n            'f': \"7.5\",\n        },\n{\n            'v': 0.8,\n            'f': \"0.8\",\n        },\n{\n            'v': 23.34,\n            'f': \"23.34\",\n        }],\n [{\n            'v': 548981,\n            'f': \"548981\",\n        },\n\"2019-12-12\",\n\"TR\",\n\"\\u0130zmit\",\n\"wind-gust\",\n{\n            'v': 126,\n            'f': \"126\",\n        },\n{\n            'v': 0.2,\n            'f': \"0.2\",\n        },\n{\n            'v': 4.5,\n            'f': \"4.5\",\n        },\n{\n            'v': 1.4,\n            'f': \"1.4\",\n        },\n{\n            'v': 13.17,\n            'f': \"13.17\",\n        }],\n [{\n            'v': 548982,\n            'f': \"548982\",\n        },\n\"2019-12-15\",\n\"TR\",\n\"\\u0130zmit\",\n\"wind-gust\",\n{\n            'v': 144,\n            'f': \"144\",\n        },\n{\n            'v': 0.3,\n            'f': \"0.3\",\n        },\n{\n            'v': 8.2,\n            'f': \"8.2\",\n        },\n{\n            'v': 2.0,\n            'f': \"2.0\",\n        },\n{\n            'v': 41.75,\n            'f': \"41.75\",\n        }],\n [{\n            'v': 548983,\n            'f': \"548983\",\n        },\n\"2019-12-16\",\n\"TR\",\n\"\\u0130zmit\",\n\"wind-gust\",\n{\n            'v': 138,\n            'f': \"138\",\n        },\n{\n            'v': 0.2,\n            'f': \"0.2\",\n        },\n{\n            'v': 7.1,\n            'f': \"7.1\",\n        },\n{\n            'v': 2.6,\n            'f': \"2.6\",\n        },\n{\n            'v': 21.19,\n            'f': \"21.19\",\n        }],\n [{\n            'v': 548984,\n            'f': \"548984\",\n        },\n\"2019-12-19\",\n\"TR\",\n\"\\u0130zmit\",\n\"wind-gust\",\n{\n            'v': 138,\n            'f': \"138\",\n        },\n{\n            'v': 0.2,\n            'f': \"0.2\",\n        },\n{\n            'v': 7.8,\n            'f': \"7.8\",\n        },\n{\n            'v': 1.4,\n            'f': \"1.4\",\n        },\n{\n            'v': 61.92,\n            'f': \"61.92\",\n        }],\n [{\n            'v': 548985,\n            'f': \"548985\",\n        },\n\"2019-12-25\",\n\"TR\",\n\"\\u0130zmit\",\n\"wind-gust\",\n{\n            'v': 144,\n            'f': \"144\",\n        },\n{\n            'v': 7.0,\n            'f': \"7.0\",\n        },\n{\n            'v': 12.6,\n            'f': \"12.6\",\n        },\n{\n            'v': 9.1,\n            'f': \"9.1\",\n        },\n{\n            'v': 15.06,\n            'f': \"15.06\",\n        }],\n [{\n            'v': 548986,\n            'f': \"548986\",\n        },\n\"2019-10-03\",\n\"TR\",\n\"\\u0130zmit\",\n\"wind-gust\",\n{\n            'v': 126,\n            'f': \"126\",\n        },\n{\n            'v': 0.1,\n            'f': \"0.1\",\n        },\n{\n            'v': 18.7,\n            'f': \"18.7\",\n        },\n{\n            'v': 4.2,\n            'f': \"4.2\",\n        },\n{\n            'v': 334.56,\n            'f': \"334.56\",\n        }],\n [{\n            'v': 548987,\n            'f': \"548987\",\n        },\n\"2019-10-05\",\n\"TR\",\n\"\\u0130zmit\",\n\"wind-gust\",\n{\n            'v': 144,\n            'f': \"144\",\n        },\n{\n            'v': 0.4,\n            'f': \"0.4\",\n        },\n{\n            'v': 19.8,\n            'f': \"19.8\",\n        },\n{\n            'v': 4.2,\n            'f': \"4.2\",\n        },\n{\n            'v': 150.22,\n            'f': \"150.22\",\n        }],\n [{\n            'v': 548988,\n            'f': \"548988\",\n        },\n\"2019-10-25\",\n\"TR\",\n\"\\u0130zmit\",\n\"wind-gust\",\n{\n            'v': 132,\n            'f': \"132\",\n        },\n{\n            'v': 0.7,\n            'f': \"0.7\",\n        },\n{\n            'v': 11.2,\n            'f': \"11.2\",\n        },\n{\n            'v': 2.6,\n            'f': \"2.6\",\n        },\n{\n            'v': 120.08,\n            'f': \"120.08\",\n        }],\n [{\n            'v': 548989,\n            'f': \"548989\",\n        },\n\"2019-12-07\",\n\"TR\",\n\"\\u0130zmit\",\n\"wind-gust\",\n{\n            'v': 144,\n            'f': \"144\",\n        },\n{\n            'v': 0.2,\n            'f': \"0.2\",\n        },\n{\n            'v': 10.0,\n            'f': \"10.0\",\n        },\n{\n            'v': 2.5,\n            'f': \"2.5\",\n        },\n{\n            'v': 70.27,\n            'f': \"70.27\",\n        }],\n [{\n            'v': 548990,\n            'f': \"548990\",\n        },\n\"2019-12-06\",\n\"TR\",\n\"\\u0130zmit\",\n\"wind-gust\",\n{\n            'v': 78,\n            'f': \"78\",\n        },\n{\n            'v': 0.3,\n            'f': \"0.3\",\n        },\n{\n            'v': 10.0,\n            'f': \"10.0\",\n        },\n{\n            'v': 2.5,\n            'f': \"2.5\",\n        },\n{\n            'v': 120.13,\n            'f': \"120.13\",\n        }],\n [{\n            'v': 548991,\n            'f': \"548991\",\n        },\n\"2019-10-02\",\n\"TR\",\n\"\\u0130zmit\",\n\"wind-gust\",\n{\n            'v': 114,\n            'f': \"114\",\n        },\n{\n            'v': 0.5,\n            'f': \"0.5\",\n        },\n{\n            'v': 11.7,\n            'f': \"11.7\",\n        },\n{\n            'v': 9.2,\n            'f': \"9.2\",\n        },\n{\n            'v': 120.97,\n            'f': \"120.97\",\n        }],\n [{\n            'v': 548992,\n            'f': \"548992\",\n        },\n\"2019-10-07\",\n\"TR\",\n\"\\u0130zmit\",\n\"wind-gust\",\n{\n            'v': 144,\n            'f': \"144\",\n        },\n{\n            'v': 1.5,\n            'f': \"1.5\",\n        },\n{\n            'v': 16.2,\n            'f': \"16.2\",\n        },\n{\n            'v': 5.5,\n            'f': \"5.5\",\n        },\n{\n            'v': 246.7,\n            'f': \"246.7\",\n        }],\n [{\n            'v': 548993,\n            'f': \"548993\",\n        },\n\"2019-10-13\",\n\"TR\",\n\"\\u0130zmit\",\n\"wind-gust\",\n{\n            'v': 144,\n            'f': \"144\",\n        },\n{\n            'v': 0.7,\n            'f': \"0.7\",\n        },\n{\n            'v': 6.5,\n            'f': \"6.5\",\n        },\n{\n            'v': 2.4,\n            'f': \"2.4\",\n        },\n{\n            'v': 32.65,\n            'f': \"32.65\",\n        }],\n [{\n            'v': 548994,\n            'f': \"548994\",\n        },\n\"2019-10-15\",\n\"TR\",\n\"\\u0130zmit\",\n\"wind-gust\",\n{\n            'v': 144,\n            'f': \"144\",\n        },\n{\n            'v': 0.2,\n            'f': \"0.2\",\n        },\n{\n            'v': 4.6,\n            'f': \"4.6\",\n        },\n{\n            'v': 1.6,\n            'f': \"1.6\",\n        },\n{\n            'v': 24.39,\n            'f': \"24.39\",\n        }],\n [{\n            'v': 548995,\n            'f': \"548995\",\n        },\n\"2019-11-01\",\n\"TR\",\n\"\\u0130zmit\",\n\"wind-gust\",\n{\n            'v': 144,\n            'f': \"144\",\n        },\n{\n            'v': 2.3,\n            'f': \"2.3\",\n        },\n{\n            'v': 23.8,\n            'f': \"23.8\",\n        },\n{\n            'v': 15.6,\n            'f': \"15.6\",\n        },\n{\n            'v': 202.86,\n            'f': \"202.86\",\n        }],\n [{\n            'v': 548996,\n            'f': \"548996\",\n        },\n\"2019-11-08\",\n\"TR\",\n\"\\u0130zmit\",\n\"wind-gust\",\n{\n            'v': 24,\n            'f': \"24\",\n        },\n{\n            'v': 0.6,\n            'f': \"0.6\",\n        },\n{\n            'v': 10.2,\n            'f': \"10.2\",\n        },\n{\n            'v': 2.0,\n            'f': \"2.0\",\n        },\n{\n            'v': 104.26,\n            'f': \"104.26\",\n        }],\n [{\n            'v': 548997,\n            'f': \"548997\",\n        },\n\"2019-11-23\",\n\"TR\",\n\"\\u0130zmit\",\n\"wind-gust\",\n{\n            'v': 138,\n            'f': \"138\",\n        },\n{\n            'v': 0.1,\n            'f': \"0.1\",\n        },\n{\n            'v': 9.2,\n            'f': \"9.2\",\n        },\n{\n            'v': 1.6,\n            'f': \"1.6\",\n        },\n{\n            'v': 76.86,\n            'f': \"76.86\",\n        }],\n [{\n            'v': 548998,\n            'f': \"548998\",\n        },\n\"2019-12-28\",\n\"TR\",\n\"\\u0130zmit\",\n\"wind-gust\",\n{\n            'v': 138,\n            'f': \"138\",\n        },\n{\n            'v': 0.8,\n            'f': \"0.8\",\n        },\n{\n            'v': 15.2,\n            'f': \"15.2\",\n        },\n{\n            'v': 4.0,\n            'f': \"4.0\",\n        },\n{\n            'v': 170.54,\n            'f': \"170.54\",\n        }],\n [{\n            'v': 548999,\n            'f': \"548999\",\n        },\n\"2019-10-04\",\n\"TR\",\n\"\\u0130zmit\",\n\"wind-gust\",\n{\n            'v': 144,\n            'f': \"144\",\n        },\n{\n            'v': 0.2,\n            'f': \"0.2\",\n        },\n{\n            'v': 15.9,\n            'f': \"15.9\",\n        },\n{\n            'v': 3.0,\n            'f': \"3.0\",\n        },\n{\n            'v': 152.08,\n            'f': \"152.08\",\n        }],\n [{\n            'v': 549000,\n            'f': \"549000\",\n        },\n\"2019-11-20\",\n\"TR\",\n\"\\u0130zmit\",\n\"wind-gust\",\n{\n            'v': 138,\n            'f': \"138\",\n        },\n{\n            'v': 0.2,\n            'f': \"0.2\",\n        },\n{\n            'v': 8.7,\n            'f': \"8.7\",\n        },\n{\n            'v': 1.0,\n            'f': \"1.0\",\n        },\n{\n            'v': 29.19,\n            'f': \"29.19\",\n        }],\n [{\n            'v': 549001,\n            'f': \"549001\",\n        },\n\"2019-11-22\",\n\"TR\",\n\"\\u0130zmit\",\n\"wind-gust\",\n{\n            'v': 144,\n            'f': \"144\",\n        },\n{\n            'v': 0.2,\n            'f': \"0.2\",\n        },\n{\n            'v': 15.7,\n            'f': \"15.7\",\n        },\n{\n            'v': 8.5,\n            'f': \"8.5\",\n        },\n{\n            'v': 190.61,\n            'f': \"190.61\",\n        }],\n [{\n            'v': 549002,\n            'f': \"549002\",\n        },\n\"2019-10-06\",\n\"TR\",\n\"\\u0130zmit\",\n\"wind-gust\",\n{\n            'v': 144,\n            'f': \"144\",\n        },\n{\n            'v': 0.6,\n            'f': \"0.6\",\n        },\n{\n            'v': 14.9,\n            'f': \"14.9\",\n        },\n{\n            'v': 2.2,\n            'f': \"2.2\",\n        },\n{\n            'v': 124.13,\n            'f': \"124.13\",\n        }],\n [{\n            'v': 549003,\n            'f': \"549003\",\n        },\n\"2019-10-17\",\n\"TR\",\n\"\\u0130zmit\",\n\"wind-gust\",\n{\n            'v': 96,\n            'f': \"96\",\n        },\n{\n            'v': 0.1,\n            'f': \"0.1\",\n        },\n{\n            'v': 8.5,\n            'f': \"8.5\",\n        },\n{\n            'v': 3.6,\n            'f': \"3.6\",\n        },\n{\n            'v': 77.08,\n            'f': \"77.08\",\n        }],\n [{\n            'v': 549004,\n            'f': \"549004\",\n        },\n\"2019-10-24\",\n\"TR\",\n\"\\u0130zmit\",\n\"wind-gust\",\n{\n            'v': 124,\n            'f': \"124\",\n        },\n{\n            'v': 0.2,\n            'f': \"0.2\",\n        },\n{\n            'v': 12.5,\n            'f': \"12.5\",\n        },\n{\n            'v': 4.2,\n            'f': \"4.2\",\n        },\n{\n            'v': 199.89,\n            'f': \"199.89\",\n        }],\n [{\n            'v': 549005,\n            'f': \"549005\",\n        },\n\"2019-10-30\",\n\"TR\",\n\"\\u0130zmit\",\n\"wind-gust\",\n{\n            'v': 144,\n            'f': \"144\",\n        },\n{\n            'v': 0.6,\n            'f': \"0.6\",\n        },\n{\n            'v': 3.6,\n            'f': \"3.6\",\n        },\n{\n            'v': 1.6,\n            'f': \"1.6\",\n        },\n{\n            'v': 7.59,\n            'f': \"7.59\",\n        }],\n [{\n            'v': 549006,\n            'f': \"549006\",\n        },\n\"2019-11-16\",\n\"TR\",\n\"\\u0130zmit\",\n\"wind-gust\",\n{\n            'v': 144,\n            'f': \"144\",\n        },\n{\n            'v': 1.5,\n            'f': \"1.5\",\n        },\n{\n            'v': 13.5,\n            'f': \"13.5\",\n        },\n{\n            'v': 5.5,\n            'f': \"5.5\",\n        },\n{\n            'v': 145.68,\n            'f': \"145.68\",\n        }],\n [{\n            'v': 549007,\n            'f': \"549007\",\n        },\n\"2019-11-29\",\n\"TR\",\n\"\\u0130zmit\",\n\"wind-gust\",\n{\n            'v': 144,\n            'f': \"144\",\n        },\n{\n            'v': 1.4,\n            'f': \"1.4\",\n        },\n{\n            'v': 17.8,\n            'f': \"17.8\",\n        },\n{\n            'v': 8.3,\n            'f': \"8.3\",\n        },\n{\n            'v': 203.1,\n            'f': \"203.1\",\n        }],\n [{\n            'v': 549008,\n            'f': \"549008\",\n        },\n\"2019-12-22\",\n\"TR\",\n\"\\u0130zmit\",\n\"wind-gust\",\n{\n            'v': 144,\n            'f': \"144\",\n        },\n{\n            'v': 0.8,\n            'f': \"0.8\",\n        },\n{\n            'v': 20.0,\n            'f': \"20.0\",\n        },\n{\n            'v': 6.4,\n            'f': \"6.4\",\n        },\n{\n            'v': 310.97,\n            'f': \"310.97\",\n        }],\n [{\n            'v': 549009,\n            'f': \"549009\",\n        },\n\"2020-01-05\",\n\"TR\",\n\"\\u0130zmit\",\n\"wind-gust\",\n{\n            'v': 144,\n            'f': \"144\",\n        },\n{\n            'v': 0.3,\n            'f': \"0.3\",\n        },\n{\n            'v': 7.0,\n            'f': \"7.0\",\n        },\n{\n            'v': 2.5,\n            'f': \"2.5\",\n        },\n{\n            'v': 28.76,\n            'f': \"28.76\",\n        }],\n [{\n            'v': 549010,\n            'f': \"549010\",\n        },\n\"2019-10-20\",\n\"TR\",\n\"\\u0130zmit\",\n\"wind-gust\",\n{\n            'v': 138,\n            'f': \"138\",\n        },\n{\n            'v': 0.2,\n            'f': \"0.2\",\n        },\n{\n            'v': 5.5,\n            'f': \"5.5\",\n        },\n{\n            'v': 1.5,\n            'f': \"1.5\",\n        },\n{\n            'v': 29.89,\n            'f': \"29.89\",\n        }],\n [{\n            'v': 549011,\n            'f': \"549011\",\n        },\n\"2019-11-05\",\n\"TR\",\n\"\\u0130zmit\",\n\"wind-gust\",\n{\n            'v': 115,\n            'f': \"115\",\n        },\n{\n            'v': 0.5,\n            'f': \"0.5\",\n        },\n{\n            'v': 14.6,\n            'f': \"14.6\",\n        },\n{\n            'v': 6.5,\n            'f': \"6.5\",\n        },\n{\n            'v': 203.83,\n            'f': \"203.83\",\n        }],\n [{\n            'v': 549012,\n            'f': \"549012\",\n        },\n\"2019-11-11\",\n\"TR\",\n\"\\u0130zmit\",\n\"wind-gust\",\n{\n            'v': 144,\n            'f': \"144\",\n        },\n{\n            'v': 1.0,\n            'f': \"1.0\",\n        },\n{\n            'v': 8.0,\n            'f': \"8.0\",\n        },\n{\n            'v': 2.8,\n            'f': \"2.8\",\n        },\n{\n            'v': 22.56,\n            'f': \"22.56\",\n        }],\n [{\n            'v': 549013,\n            'f': \"549013\",\n        },\n\"2019-12-02\",\n\"TR\",\n\"\\u0130zmit\",\n\"wind-gust\",\n{\n            'v': 72,\n            'f': \"72\",\n        },\n{\n            'v': 0.2,\n            'f': \"0.2\",\n        },\n{\n            'v': 8.0,\n            'f': \"8.0\",\n        },\n{\n            'v': 4.5,\n            'f': \"4.5\",\n        },\n{\n            'v': 92.08,\n            'f': \"92.08\",\n        }],\n [{\n            'v': 549014,\n            'f': \"549014\",\n        },\n\"2019-12-03\",\n\"TR\",\n\"\\u0130zmit\",\n\"wind-gust\",\n{\n            'v': 66,\n            'f': \"66\",\n        },\n{\n            'v': 0.2,\n            'f': \"0.2\",\n        },\n{\n            'v': 12.0,\n            'f': \"12.0\",\n        },\n{\n            'v': 5.2,\n            'f': \"5.2\",\n        },\n{\n            'v': 120.46,\n            'f': \"120.46\",\n        }],\n [{\n            'v': 549015,\n            'f': \"549015\",\n        },\n\"2019-09-30\",\n\"TR\",\n\"\\u0130zmit\",\n\"wind-gust\",\n{\n            'v': 144,\n            'f': \"144\",\n        },\n{\n            'v': 0.2,\n            'f': \"0.2\",\n        },\n{\n            'v': 7.2,\n            'f': \"7.2\",\n        },\n{\n            'v': 2.2,\n            'f': \"2.2\",\n        },\n{\n            'v': 33.7,\n            'f': \"33.7\",\n        }],\n [{\n            'v': 549016,\n            'f': \"549016\",\n        },\n\"2019-10-01\",\n\"TR\",\n\"\\u0130zmit\",\n\"wind-gust\",\n{\n            'v': 132,\n            'f': \"132\",\n        },\n{\n            'v': 1.0,\n            'f': \"1.0\",\n        },\n{\n            'v': 8.1,\n            'f': \"8.1\",\n        },\n{\n            'v': 3.3,\n            'f': \"3.3\",\n        },\n{\n            'v': 38.39,\n            'f': \"38.39\",\n        }],\n [{\n            'v': 549017,\n            'f': \"549017\",\n        },\n\"2019-10-14\",\n\"TR\",\n\"\\u0130zmit\",\n\"wind-gust\",\n{\n            'v': 138,\n            'f': \"138\",\n        },\n{\n            'v': 0.3,\n            'f': \"0.3\",\n        },\n{\n            'v': 6.0,\n            'f': \"6.0\",\n        },\n{\n            'v': 2.0,\n            'f': \"2.0\",\n        },\n{\n            'v': 29.37,\n            'f': \"29.37\",\n        }],\n [{\n            'v': 549018,\n            'f': \"549018\",\n        },\n\"2019-10-19\",\n\"TR\",\n\"\\u0130zmit\",\n\"wind-gust\",\n{\n            'v': 126,\n            'f': \"126\",\n        },\n{\n            'v': 0.1,\n            'f': \"0.1\",\n        },\n{\n            'v': 7.1,\n            'f': \"7.1\",\n        },\n{\n            'v': 2.0,\n            'f': \"2.0\",\n        },\n{\n            'v': 66.27,\n            'f': \"66.27\",\n        }],\n [{\n            'v': 549019,\n            'f': \"549019\",\n        },\n\"2019-11-06\",\n\"TR\",\n\"\\u0130zmit\",\n\"wind-gust\",\n{\n            'v': 90,\n            'f': \"90\",\n        },\n{\n            'v': 0.3,\n            'f': \"0.3\",\n        },\n{\n            'v': 18.7,\n            'f': \"18.7\",\n        },\n{\n            'v': 3.5,\n            'f': \"3.5\",\n        },\n{\n            'v': 315.73,\n            'f': \"315.73\",\n        }],\n [{\n            'v': 549020,\n            'f': \"549020\",\n        },\n\"2019-11-17\",\n\"TR\",\n\"\\u0130zmit\",\n\"wind-gust\",\n{\n            'v': 138,\n            'f': \"138\",\n        },\n{\n            'v': 0.1,\n            'f': \"0.1\",\n        },\n{\n            'v': 8.0,\n            'f': \"8.0\",\n        },\n{\n            'v': 1.7,\n            'f': \"1.7\",\n        },\n{\n            'v': 77.43,\n            'f': \"77.43\",\n        }],\n [{\n            'v': 549021,\n            'f': \"549021\",\n        },\n\"2019-11-21\",\n\"TR\",\n\"\\u0130zmit\",\n\"wind-gust\",\n{\n            'v': 144,\n            'f': \"144\",\n        },\n{\n            'v': 0.5,\n            'f': \"0.5\",\n        },\n{\n            'v': 12.2,\n            'f': \"12.2\",\n        },\n{\n            'v': 2.5,\n            'f': \"2.5\",\n        },\n{\n            'v': 103.76,\n            'f': \"103.76\",\n        }],\n [{\n            'v': 549022,\n            'f': \"549022\",\n        },\n\"2019-12-21\",\n\"TR\",\n\"\\u0130zmit\",\n\"wind-gust\",\n{\n            'v': 144,\n            'f': \"144\",\n        },\n{\n            'v': 1.1,\n            'f': \"1.1\",\n        },\n{\n            'v': 13.0,\n            'f': \"13.0\",\n        },\n{\n            'v': 5.0,\n            'f': \"5.0\",\n        },\n{\n            'v': 152.33,\n            'f': \"152.33\",\n        }],\n [{\n            'v': 549023,\n            'f': \"549023\",\n        },\n\"2019-12-26\",\n\"TR\",\n\"\\u0130zmit\",\n\"wind-gust\",\n{\n            'v': 144,\n            'f': \"144\",\n        },\n{\n            'v': 9.6,\n            'f': \"9.6\",\n        },\n{\n            'v': 16.8,\n            'f': \"16.8\",\n        },\n{\n            'v': 14.0,\n            'f': \"14.0\",\n        },\n{\n            'v': 34.93,\n            'f': \"34.93\",\n        }],\n [{\n            'v': 549024,\n            'f': \"549024\",\n        },\n\"2019-10-18\",\n\"TR\",\n\"\\u0130zmit\",\n\"wind-gust\",\n{\n            'v': 102,\n            'f': \"102\",\n        },\n{\n            'v': 0.2,\n            'f': \"0.2\",\n        },\n{\n            'v': 5.5,\n            'f': \"5.5\",\n        },\n{\n            'v': 2.0,\n            'f': \"2.0\",\n        },\n{\n            'v': 35.57,\n            'f': \"35.57\",\n        }],\n [{\n            'v': 549025,\n            'f': \"549025\",\n        },\n\"2019-11-13\",\n\"TR\",\n\"\\u0130zmit\",\n\"wind-gust\",\n{\n            'v': 144,\n            'f': \"144\",\n        },\n{\n            'v': 0.2,\n            'f': \"0.2\",\n        },\n{\n            'v': 3.2,\n            'f': \"3.2\",\n        },\n{\n            'v': 1.4,\n            'f': \"1.4\",\n        },\n{\n            'v': 6.01,\n            'f': \"6.01\",\n        }],\n [{\n            'v': 549026,\n            'f': \"549026\",\n        },\n\"2019-12-10\",\n\"TR\",\n\"\\u0130zmit\",\n\"wind-gust\",\n{\n            'v': 138,\n            'f': \"138\",\n        },\n{\n            'v': 0.2,\n            'f': \"0.2\",\n        },\n{\n            'v': 4.5,\n            'f': \"4.5\",\n        },\n{\n            'v': 2.0,\n            'f': \"2.0\",\n        },\n{\n            'v': 14.82,\n            'f': \"14.82\",\n        }],\n [{\n            'v': 549027,\n            'f': \"549027\",\n        },\n\"2019-11-04\",\n\"TR\",\n\"\\u0130zmit\",\n\"wind-gust\",\n{\n            'v': 80,\n            'f': \"80\",\n        },\n{\n            'v': 0.2,\n            'f': \"0.2\",\n        },\n{\n            'v': 13.6,\n            'f': \"13.6\",\n        },\n{\n            'v': 4.0,\n            'f': \"4.0\",\n        },\n{\n            'v': 59.71,\n            'f': \"59.71\",\n        }],\n [{\n            'v': 549028,\n            'f': \"549028\",\n        },\n\"2019-12-17\",\n\"TR\",\n\"\\u0130zmit\",\n\"wind-gust\",\n{\n            'v': 144,\n            'f': \"144\",\n        },\n{\n            'v': 0.1,\n            'f': \"0.1\",\n        },\n{\n            'v': 8.8,\n            'f': \"8.8\",\n        },\n{\n            'v': 2.0,\n            'f': \"2.0\",\n        },\n{\n            'v': 59.01,\n            'f': \"59.01\",\n        }],\n [{\n            'v': 549029,\n            'f': \"549029\",\n        },\n\"2019-12-23\",\n\"TR\",\n\"\\u0130zmit\",\n\"wind-gust\",\n{\n            'v': 144,\n            'f': \"144\",\n        },\n{\n            'v': 0.2,\n            'f': \"0.2\",\n        },\n{\n            'v': 13.1,\n            'f': \"13.1\",\n        },\n{\n            'v': 5.0,\n            'f': \"5.0\",\n        },\n{\n            'v': 140.3,\n            'f': \"140.3\",\n        }],\n [{\n            'v': 549030,\n            'f': \"549030\",\n        },\n\"2019-12-24\",\n\"TR\",\n\"\\u0130zmit\",\n\"wind-gust\",\n{\n            'v': 132,\n            'f': \"132\",\n        },\n{\n            'v': 0.3,\n            'f': \"0.3\",\n        },\n{\n            'v': 14.6,\n            'f': \"14.6\",\n        },\n{\n            'v': 9.6,\n            'f': \"9.6\",\n        },\n{\n            'v': 255.56,\n            'f': \"255.56\",\n        }],\n [{\n            'v': 549031,\n            'f': \"549031\",\n        },\n\"2019-10-11\",\n\"TR\",\n\"\\u0130zmit\",\n\"wind-gust\",\n{\n            'v': 144,\n            'f': \"144\",\n        },\n{\n            'v': 0.6,\n            'f': \"0.6\",\n        },\n{\n            'v': 11.2,\n            'f': \"11.2\",\n        },\n{\n            'v': 5.5,\n            'f': \"5.5\",\n        },\n{\n            'v': 81.87,\n            'f': \"81.87\",\n        }],\n [{\n            'v': 549032,\n            'f': \"549032\",\n        },\n\"2019-10-26\",\n\"TR\",\n\"\\u0130zmit\",\n\"wind-gust\",\n{\n            'v': 141,\n            'f': \"141\",\n        },\n{\n            'v': 0.5,\n            'f': \"0.5\",\n        },\n{\n            'v': 8.4,\n            'f': \"8.4\",\n        },\n{\n            'v': 5.7,\n            'f': \"5.7\",\n        },\n{\n            'v': 45.79,\n            'f': \"45.79\",\n        }],\n [{\n            'v': 549033,\n            'f': \"549033\",\n        },\n\"2019-11-19\",\n\"TR\",\n\"\\u0130zmit\",\n\"wind-gust\",\n{\n            'v': 132,\n            'f': \"132\",\n        },\n{\n            'v': 0.1,\n            'f': \"0.1\",\n        },\n{\n            'v': 6.5,\n            'f': \"6.5\",\n        },\n{\n            'v': 1.8,\n            'f': \"1.8\",\n        },\n{\n            'v': 22.05,\n            'f': \"22.05\",\n        }],\n [{\n            'v': 549034,\n            'f': \"549034\",\n        },\n\"2019-11-28\",\n\"TR\",\n\"\\u0130zmit\",\n\"wind-gust\",\n{\n            'v': 132,\n            'f': \"132\",\n        },\n{\n            'v': 0.5,\n            'f': \"0.5\",\n        },\n{\n            'v': 14.4,\n            'f': \"14.4\",\n        },\n{\n            'v': 5.8,\n            'f': \"5.8\",\n        },\n{\n            'v': 168.36,\n            'f': \"168.36\",\n        }],\n [{\n            'v': 549035,\n            'f': \"549035\",\n        },\n\"2019-12-01\",\n\"TR\",\n\"\\u0130zmit\",\n\"wind-gust\",\n{\n            'v': 144,\n            'f': \"144\",\n        },\n{\n            'v': 5.0,\n            'f': \"5.0\",\n        },\n{\n            'v': 20.6,\n            'f': \"20.6\",\n        },\n{\n            'v': 14.0,\n            'f': \"14.0\",\n        },\n{\n            'v': 163.68,\n            'f': \"163.68\",\n        }],\n [{\n            'v': 549036,\n            'f': \"549036\",\n        },\n\"2020-01-04\",\n\"TR\",\n\"\\u0130zmit\",\n\"wind-gust\",\n{\n            'v': 144,\n            'f': \"144\",\n        },\n{\n            'v': 0.5,\n            'f': \"0.5\",\n        },\n{\n            'v': 7.8,\n            'f': \"7.8\",\n        },\n{\n            'v': 3.6,\n            'f': \"3.6\",\n        },\n{\n            'v': 43.67,\n            'f': \"43.67\",\n        }],\n [{\n            'v': 549037,\n            'f': \"549037\",\n        },\n\"2019-10-09\",\n\"TR\",\n\"\\u0130zmit\",\n\"wind-gust\",\n{\n            'v': 138,\n            'f': \"138\",\n        },\n{\n            'v': 0.5,\n            'f': \"0.5\",\n        },\n{\n            'v': 9.4,\n            'f': \"9.4\",\n        },\n{\n            'v': 3.0,\n            'f': \"3.0\",\n        },\n{\n            'v': 99.37,\n            'f': \"99.37\",\n        }],\n [{\n            'v': 549038,\n            'f': \"549038\",\n        },\n\"2019-10-28\",\n\"TR\",\n\"\\u0130zmit\",\n\"wind-gust\",\n{\n            'v': 144,\n            'f': \"144\",\n        },\n{\n            'v': 0.2,\n            'f': \"0.2\",\n        },\n{\n            'v': 7.1,\n            'f': \"7.1\",\n        },\n{\n            'v': 1.8,\n            'f': \"1.8\",\n        },\n{\n            'v': 46.24,\n            'f': \"46.24\",\n        }],\n [{\n            'v': 549039,\n            'f': \"549039\",\n        },\n\"2019-11-10\",\n\"TR\",\n\"\\u0130zmit\",\n\"wind-gust\",\n{\n            'v': 74,\n            'f': \"74\",\n        },\n{\n            'v': 0.5,\n            'f': \"0.5\",\n        },\n{\n            'v': 11.2,\n            'f': \"11.2\",\n        },\n{\n            'v': 2.1,\n            'f': \"2.1\",\n        },\n{\n            'v': 132.53,\n            'f': \"132.53\",\n        }],\n [{\n            'v': 549040,\n            'f': \"549040\",\n        },\n\"2019-12-14\",\n\"TR\",\n\"\\u0130zmit\",\n\"wind-gust\",\n{\n            'v': 126,\n            'f': \"126\",\n        },\n{\n            'v': 0.1,\n            'f': \"0.1\",\n        },\n{\n            'v': 5.6,\n            'f': \"5.6\",\n        },\n{\n            'v': 1.3,\n            'f': \"1.3\",\n        },\n{\n            'v': 35.45,\n            'f': \"35.45\",\n        }],\n [{\n            'v': 549041,\n            'f': \"549041\",\n        },\n\"2020-01-03\",\n\"TR\",\n\"\\u0130zmit\",\n\"wind-gust\",\n{\n            'v': 36,\n            'f': \"36\",\n        },\n{\n            'v': 0.3,\n            'f': \"0.3\",\n        },\n{\n            'v': 3.0,\n            'f': \"3.0\",\n        },\n{\n            'v': 1.3,\n            'f': \"1.3\",\n        },\n{\n            'v': 8.21,\n            'f': \"8.21\",\n        }],\n [{\n            'v': 549042,\n            'f': \"549042\",\n        },\n\"2019-10-08\",\n\"TR\",\n\"\\u0130zmit\",\n\"wind-gust\",\n{\n            'v': 144,\n            'f': \"144\",\n        },\n{\n            'v': 4.0,\n            'f': \"4.0\",\n        },\n{\n            'v': 22.5,\n            'f': \"22.5\",\n        },\n{\n            'v': 11.0,\n            'f': \"11.0\",\n        },\n{\n            'v': 217.42,\n            'f': \"217.42\",\n        }],\n [{\n            'v': 549043,\n            'f': \"549043\",\n        },\n\"2019-10-10\",\n\"TR\",\n\"\\u0130zmit\",\n\"wind-gust\",\n{\n            'v': 144,\n            'f': \"144\",\n        },\n{\n            'v': 2.0,\n            'f': \"2.0\",\n        },\n{\n            'v': 11.6,\n            'f': \"11.6\",\n        },\n{\n            'v': 3.6,\n            'f': \"3.6\",\n        },\n{\n            'v': 110.34,\n            'f': \"110.34\",\n        }],\n [{\n            'v': 549044,\n            'f': \"549044\",\n        },\n\"2019-10-16\",\n\"TR\",\n\"\\u0130zmit\",\n\"wind-gust\",\n{\n            'v': 126,\n            'f': \"126\",\n        },\n{\n            'v': 0.1,\n            'f': \"0.1\",\n        },\n{\n            'v': 6.5,\n            'f': \"6.5\",\n        },\n{\n            'v': 3.5,\n            'f': \"3.5\",\n        },\n{\n            'v': 59.7,\n            'f': \"59.7\",\n        }],\n [{\n            'v': 549045,\n            'f': \"549045\",\n        },\n\"2019-10-21\",\n\"TR\",\n\"\\u0130zmit\",\n\"wind-gust\",\n{\n            'v': 142,\n            'f': \"142\",\n        },\n{\n            'v': 0.2,\n            'f': \"0.2\",\n        },\n{\n            'v': 10.7,\n            'f': \"10.7\",\n        },\n{\n            'v': 3.6,\n            'f': \"3.6\",\n        },\n{\n            'v': 121.52,\n            'f': \"121.52\",\n        }],\n [{\n            'v': 549046,\n            'f': \"549046\",\n        },\n\"2019-10-27\",\n\"TR\",\n\"\\u0130zmit\",\n\"wind-gust\",\n{\n            'v': 144,\n            'f': \"144\",\n        },\n{\n            'v': 0.6,\n            'f': \"0.6\",\n        },\n{\n            'v': 9.8,\n            'f': \"9.8\",\n        },\n{\n            'v': 6.3,\n            'f': \"6.3\",\n        },\n{\n            'v': 57.9,\n            'f': \"57.9\",\n        }],\n [{\n            'v': 549047,\n            'f': \"549047\",\n        },\n\"2019-11-18\",\n\"TR\",\n\"\\u0130zmit\",\n\"wind-gust\",\n{\n            'v': 144,\n            'f': \"144\",\n        },\n{\n            'v': 0.2,\n            'f': \"0.2\",\n        },\n{\n            'v': 3.8,\n            'f': \"3.8\",\n        },\n{\n            'v': 1.4,\n            'f': \"1.4\",\n        },\n{\n            'v': 8.7,\n            'f': \"8.7\",\n        }],\n [{\n            'v': 549048,\n            'f': \"549048\",\n        },\n\"2019-11-24\",\n\"TR\",\n\"\\u0130zmit\",\n\"wind-gust\",\n{\n            'v': 138,\n            'f': \"138\",\n        },\n{\n            'v': 0.2,\n            'f': \"0.2\",\n        },\n{\n            'v': 4.7,\n            'f': \"4.7\",\n        },\n{\n            'v': 1.1,\n            'f': \"1.1\",\n        },\n{\n            'v': 10.94,\n            'f': \"10.94\",\n        }],\n [{\n            'v': 549049,\n            'f': \"549049\",\n        },\n\"2019-11-27\",\n\"TR\",\n\"\\u0130zmit\",\n\"wind-gust\",\n{\n            'v': 132,\n            'f': \"132\",\n        },\n{\n            'v': 0.1,\n            'f': \"0.1\",\n        },\n{\n            'v': 12.6,\n            'f': \"12.6\",\n        },\n{\n            'v': 7.6,\n            'f': \"7.6\",\n        },\n{\n            'v': 173.95,\n            'f': \"173.95\",\n        }],\n [{\n            'v': 549050,\n            'f': \"549050\",\n        },\n\"2019-11-30\",\n\"TR\",\n\"\\u0130zmit\",\n\"wind-gust\",\n{\n            'v': 144,\n            'f': \"144\",\n        },\n{\n            'v': 1.0,\n            'f': \"1.0\",\n        },\n{\n            'v': 14.8,\n            'f': \"14.8\",\n        },\n{\n            'v': 5.2,\n            'f': \"5.2\",\n        },\n{\n            'v': 136.55,\n            'f': \"136.55\",\n        }],\n [{\n            'v': 549051,\n            'f': \"549051\",\n        },\n\"2019-12-08\",\n\"TR\",\n\"\\u0130zmit\",\n\"wind-gust\",\n{\n            'v': 144,\n            'f': \"144\",\n        },\n{\n            'v': 0.8,\n            'f': \"0.8\",\n        },\n{\n            'v': 13.7,\n            'f': \"13.7\",\n        },\n{\n            'v': 3.6,\n            'f': \"3.6\",\n        },\n{\n            'v': 92.72,\n            'f': \"92.72\",\n        }],\n [{\n            'v': 549052,\n            'f': \"549052\",\n        },\n\"2019-12-09\",\n\"TR\",\n\"\\u0130zmit\",\n\"wind-gust\",\n{\n            'v': 144,\n            'f': \"144\",\n        },\n{\n            'v': 0.3,\n            'f': \"0.3\",\n        },\n{\n            'v': 7.8,\n            'f': \"7.8\",\n        },\n{\n            'v': 1.8,\n            'f': \"1.8\",\n        },\n{\n            'v': 36.58,\n            'f': \"36.58\",\n        }],\n [{\n            'v': 549053,\n            'f': \"549053\",\n        },\n\"2019-12-13\",\n\"TR\",\n\"\\u0130zmit\",\n\"wind-gust\",\n{\n            'v': 132,\n            'f': \"132\",\n        },\n{\n            'v': 0.3,\n            'f': \"0.3\",\n        },\n{\n            'v': 6.4,\n            'f': \"6.4\",\n        },\n{\n            'v': 2.3,\n            'f': \"2.3\",\n        },\n{\n            'v': 37.48,\n            'f': \"37.48\",\n        }],\n [{\n            'v': 549054,\n            'f': \"549054\",\n        },\n\"2019-10-12\",\n\"TR\",\n\"\\u0130zmit\",\n\"wind-gust\",\n{\n            'v': 144,\n            'f': \"144\",\n        },\n{\n            'v': 1.1,\n            'f': \"1.1\",\n        },\n{\n            'v': 10.6,\n            'f': \"10.6\",\n        },\n{\n            'v': 7.8,\n            'f': \"7.8\",\n        },\n{\n            'v': 74.13,\n            'f': \"74.13\",\n        }],\n [{\n            'v': 549055,\n            'f': \"549055\",\n        },\n\"2019-10-22\",\n\"TR\",\n\"\\u0130zmit\",\n\"wind-gust\",\n{\n            'v': 135,\n            'f': \"135\",\n        },\n{\n            'v': 1.7,\n            'f': \"1.7\",\n        },\n{\n            'v': 11.5,\n            'f': \"11.5\",\n        },\n{\n            'v': 7.2,\n            'f': \"7.2\",\n        },\n{\n            'v': 64.82,\n            'f': \"64.82\",\n        }],\n [{\n            'v': 549056,\n            'f': \"549056\",\n        },\n\"2019-10-31\",\n\"TR\",\n\"\\u0130zmit\",\n\"wind-gust\",\n{\n            'v': 144,\n            'f': \"144\",\n        },\n{\n            'v': 0.6,\n            'f': \"0.6\",\n        },\n{\n            'v': 11.7,\n            'f': \"11.7\",\n        },\n{\n            'v': 2.1,\n            'f': \"2.1\",\n        },\n{\n            'v': 98.67,\n            'f': \"98.67\",\n        }],\n [{\n            'v': 549057,\n            'f': \"549057\",\n        },\n\"2019-11-03\",\n\"TR\",\n\"\\u0130zmit\",\n\"wind-gust\",\n{\n            'v': 138,\n            'f': \"138\",\n        },\n{\n            'v': 0.2,\n            'f': \"0.2\",\n        },\n{\n            'v': 10.4,\n            'f': \"10.4\",\n        },\n{\n            'v': 2.4,\n            'f': \"2.4\",\n        },\n{\n            'v': 84.21,\n            'f': \"84.21\",\n        }],\n [{\n            'v': 549058,\n            'f': \"549058\",\n        },\n\"2019-11-07\",\n\"TR\",\n\"\\u0130zmit\",\n\"wind-gust\",\n{\n            'v': 112,\n            'f': \"112\",\n        },\n{\n            'v': 0.3,\n            'f': \"0.3\",\n        },\n{\n            'v': 19.0,\n            'f': \"19.0\",\n        },\n{\n            'v': 1.6,\n            'f': \"1.6\",\n        },\n{\n            'v': 171.15,\n            'f': \"171.15\",\n        }],\n [{\n            'v': 549059,\n            'f': \"549059\",\n        },\n\"2019-11-09\",\n\"TR\",\n\"\\u0130zmit\",\n\"wind-gust\",\n{\n            'v': 24,\n            'f': \"24\",\n        },\n{\n            'v': 0.2,\n            'f': \"0.2\",\n        },\n{\n            'v': 7.0,\n            'f': \"7.0\",\n        },\n{\n            'v': 2.3,\n            'f': \"2.3\",\n        },\n{\n            'v': 47.45,\n            'f': \"47.45\",\n        }],\n [{\n            'v': 549060,\n            'f': \"549060\",\n        },\n\"2019-11-25\",\n\"TR\",\n\"\\u0130zmit\",\n\"wind-gust\",\n{\n            'v': 138,\n            'f': \"138\",\n        },\n{\n            'v': 0.1,\n            'f': \"0.1\",\n        },\n{\n            'v': 6.4,\n            'f': \"6.4\",\n        },\n{\n            'v': 1.3,\n            'f': \"1.3\",\n        },\n{\n            'v': 38.41,\n            'f': \"38.41\",\n        }],\n [{\n            'v': 549061,\n            'f': \"549061\",\n        },\n\"2019-12-18\",\n\"TR\",\n\"\\u0130zmit\",\n\"wind-gust\",\n{\n            'v': 144,\n            'f': \"144\",\n        },\n{\n            'v': 0.1,\n            'f': \"0.1\",\n        },\n{\n            'v': 12.3,\n            'f': \"12.3\",\n        },\n{\n            'v': 1.4,\n            'f': \"1.4\",\n        },\n{\n            'v': 134.69,\n            'f': \"134.69\",\n        }],\n [{\n            'v': 549062,\n            'f': \"549062\",\n        },\n\"2019-12-27\",\n\"TR\",\n\"\\u0130zmit\",\n\"wind-gust\",\n{\n            'v': 144,\n            'f': \"144\",\n        },\n{\n            'v': 1.0,\n            'f': \"1.0\",\n        },\n{\n            'v': 14.2,\n            'f': \"14.2\",\n        },\n{\n            'v': 4.6,\n            'f': \"4.6\",\n        },\n{\n            'v': 148.74,\n            'f': \"148.74\",\n        }],\n [{\n            'v': 549063,\n            'f': \"549063\",\n        },\n\"2019-10-23\",\n\"TR\",\n\"\\u0130zmit\",\n\"wind-gust\",\n{\n            'v': 139,\n            'f': \"139\",\n        },\n{\n            'v': 0.2,\n            'f': \"0.2\",\n        },\n{\n            'v': 12.0,\n            'f': \"12.0\",\n        },\n{\n            'v': 3.0,\n            'f': \"3.0\",\n        },\n{\n            'v': 177.01,\n            'f': \"177.01\",\n        }],\n [{\n            'v': 549064,\n            'f': \"549064\",\n        },\n\"2019-10-29\",\n\"TR\",\n\"\\u0130zmit\",\n\"wind-gust\",\n{\n            'v': 132,\n            'f': \"132\",\n        },\n{\n            'v': 0.2,\n            'f': \"0.2\",\n        },\n{\n            'v': 8.1,\n            'f': \"8.1\",\n        },\n{\n            'v': 1.0,\n            'f': \"1.0\",\n        },\n{\n            'v': 58.08,\n            'f': \"58.08\",\n        }],\n [{\n            'v': 549546,\n            'f': \"549546\",\n        },\n\"2019-10-06\",\n\"TR\",\n\"Bursa\",\n\"wind-gust\",\n{\n            'v': 5,\n            'f': \"5\",\n        },\n{\n            'v': 12.8,\n            'f': \"12.8\",\n        },\n{\n            'v': 12.8,\n            'f': \"12.8\",\n        },\n{\n            'v': 12.8,\n            'f': \"12.8\",\n        },\n{\n            'v': 0.0,\n            'f': \"0.0\",\n        }],\n [{\n            'v': 549547,\n            'f': \"549547\",\n        },\n\"2019-11-29\",\n\"TR\",\n\"Bursa\",\n\"wind-gust\",\n{\n            'v': 5,\n            'f': \"5\",\n        },\n{\n            'v': 8.7,\n            'f': \"8.7\",\n        },\n{\n            'v': 8.7,\n            'f': \"8.7\",\n        },\n{\n            'v': 8.7,\n            'f': \"8.7\",\n        },\n{\n            'v': 0.0,\n            'f': \"0.0\",\n        }],\n [{\n            'v': 549548,\n            'f': \"549548\",\n        },\n\"2019-12-22\",\n\"TR\",\n\"Bursa\",\n\"wind-gust\",\n{\n            'v': 50,\n            'f': \"50\",\n        },\n{\n            'v': 10.2,\n            'f': \"10.2\",\n        },\n{\n            'v': 16.9,\n            'f': \"16.9\",\n        },\n{\n            'v': 12.8,\n            'f': \"12.8\",\n        },\n{\n            'v': 42.61,\n            'f': \"42.61\",\n        }],\n [{\n            'v': 549549,\n            'f': \"549549\",\n        },\n\"2019-12-23\",\n\"TR\",\n\"Bursa\",\n\"wind-gust\",\n{\n            'v': 30,\n            'f': \"30\",\n        },\n{\n            'v': 11.3,\n            'f': \"11.3\",\n        },\n{\n            'v': 21.0,\n            'f': \"21.0\",\n        },\n{\n            'v': 13.3,\n            'f': \"13.3\",\n        },\n{\n            'v': 113.15,\n            'f': \"113.15\",\n        }],\n [{\n            'v': 549550,\n            'f': \"549550\",\n        },\n\"2019-09-30\",\n\"TR\",\n\"Bursa\",\n\"wind-gust\",\n{\n            'v': 5,\n            'f': \"5\",\n        },\n{\n            'v': 6.6,\n            'f': \"6.6\",\n        },\n{\n            'v': 6.6,\n            'f': \"6.6\",\n        },\n{\n            'v': 6.6,\n            'f': \"6.6\",\n        },\n{\n            'v': 0.0,\n            'f': \"0.0\",\n        }],\n [{\n            'v': 551039,\n            'f': \"551039\",\n        },\n\"2019-12-28\",\n\"TR\",\n\"Ankara\",\n\"wind-gust\",\n{\n            'v': 100,\n            'f': \"100\",\n        },\n{\n            'v': 0.1,\n            'f': \"0.1\",\n        },\n{\n            'v': 2.5,\n            'f': \"2.5\",\n        },\n{\n            'v': 0.4,\n            'f': \"0.4\",\n        },\n{\n            'v': 3.08,\n            'f': \"3.08\",\n        }],\n [{\n            'v': 551040,\n            'f': \"551040\",\n        },\n\"2019-10-09\",\n\"TR\",\n\"Ankara\",\n\"wind-gust\",\n{\n            'v': 55,\n            'f': \"55\",\n        },\n{\n            'v': 0.3,\n            'f': \"0.3\",\n        },\n{\n            'v': 5.1,\n            'f': \"5.1\",\n        },\n{\n            'v': 3.5,\n            'f': \"3.5\",\n        },\n{\n            'v': 22.95,\n            'f': \"22.95\",\n        }],\n [{\n            'v': 551041,\n            'f': \"551041\",\n        },\n\"2019-11-10\",\n\"TR\",\n\"Ankara\",\n\"wind-gust\",\n{\n            'v': 120,\n            'f': \"120\",\n        },\n{\n            'v': 0.2,\n            'f': \"0.2\",\n        },\n{\n            'v': 6.7,\n            'f': \"6.7\",\n        },\n{\n            'v': 2.6,\n            'f': \"2.6\",\n        },\n{\n            'v': 21.29,\n            'f': \"21.29\",\n        }],\n [{\n            'v': 551042,\n            'f': \"551042\",\n        },\n\"2019-11-12\",\n\"TR\",\n\"Ankara\",\n\"wind-gust\",\n{\n            'v': 138,\n            'f': \"138\",\n        },\n{\n            'v': 0.2,\n            'f': \"0.2\",\n        },\n{\n            'v': 4.1,\n            'f': \"4.1\",\n        },\n{\n            'v': 1.2,\n            'f': \"1.2\",\n        },\n{\n            'v': 7.48,\n            'f': \"7.48\",\n        }],\n [{\n            'v': 551043,\n            'f': \"551043\",\n        },\n\"2019-11-23\",\n\"TR\",\n\"Ankara\",\n\"wind-gust\",\n{\n            'v': 60,\n            'f': \"60\",\n        },\n{\n            'v': 0.3,\n            'f': \"0.3\",\n        },\n{\n            'v': 3.4,\n            'f': \"3.4\",\n        },\n{\n            'v': 1.3,\n            'f': \"1.3\",\n        },\n{\n            'v': 6.63,\n            'f': \"6.63\",\n        }],\n [{\n            'v': 551044,\n            'f': \"551044\",\n        },\n\"2019-11-26\",\n\"TR\",\n\"Ankara\",\n\"wind-gust\",\n{\n            'v': 72,\n            'f': \"72\",\n        },\n{\n            'v': 0.2,\n            'f': \"0.2\",\n        },\n{\n            'v': 15.7,\n            'f': \"15.7\",\n        },\n{\n            'v': 1.5,\n            'f': \"1.5\",\n        },\n{\n            'v': 225.42,\n            'f': \"225.42\",\n        }],\n [{\n            'v': 551045,\n            'f': \"551045\",\n        },\n\"2019-10-30\",\n\"TR\",\n\"Ankara\",\n\"wind-gust\",\n{\n            'v': 48,\n            'f': \"48\",\n        },\n{\n            'v': 0.1,\n            'f': \"0.1\",\n        },\n{\n            'v': 5.6,\n            'f': \"5.6\",\n        },\n{\n            'v': 1.2,\n            'f': \"1.2\",\n        },\n{\n            'v': 27.21,\n            'f': \"27.21\",\n        }],\n [{\n            'v': 551046,\n            'f': \"551046\",\n        },\n\"2019-11-18\",\n\"TR\",\n\"Ankara\",\n\"wind-gust\",\n{\n            'v': 42,\n            'f': \"42\",\n        },\n{\n            'v': 0.1,\n            'f': \"0.1\",\n        },\n{\n            'v': 3.2,\n            'f': \"3.2\",\n        },\n{\n            'v': 0.8,\n            'f': \"0.8\",\n        },\n{\n            'v': 7.91,\n            'f': \"7.91\",\n        }],\n [{\n            'v': 551047,\n            'f': \"551047\",\n        },\n\"2019-11-28\",\n\"TR\",\n\"Ankara\",\n\"wind-gust\",\n{\n            'v': 58,\n            'f': \"58\",\n        },\n{\n            'v': 0.2,\n            'f': \"0.2\",\n        },\n{\n            'v': 5.7,\n            'f': \"5.7\",\n        },\n{\n            'v': 2.5,\n            'f': \"2.5\",\n        },\n{\n            'v': 27.28,\n            'f': \"27.28\",\n        }],\n [{\n            'v': 551048,\n            'f': \"551048\",\n        },\n\"2019-10-02\",\n\"TR\",\n\"Ankara\",\n\"wind-gust\",\n{\n            'v': 10,\n            'f': \"10\",\n        },\n{\n            'v': 1.6,\n            'f': \"1.6\",\n        },\n{\n            'v': 4.6,\n            'f': \"4.6\",\n        },\n{\n            'v': 1.6,\n            'f': \"1.6\",\n        },\n{\n            'v': 25.0,\n            'f': \"25.0\",\n        }],\n [{\n            'v': 551049,\n            'f': \"551049\",\n        },\n\"2019-10-12\",\n\"TR\",\n\"Ankara\",\n\"wind-gust\",\n{\n            'v': 115,\n            'f': \"115\",\n        },\n{\n            'v': 0.2,\n            'f': \"0.2\",\n        },\n{\n            'v': 6.5,\n            'f': \"6.5\",\n        },\n{\n            'v': 2.1,\n            'f': \"2.1\",\n        },\n{\n            'v': 32.0,\n            'f': \"32.0\",\n        }],\n [{\n            'v': 551050,\n            'f': \"551050\",\n        },\n\"2019-10-14\",\n\"TR\",\n\"Ankara\",\n\"wind-gust\",\n{\n            'v': 110,\n            'f': \"110\",\n        },\n{\n            'v': 0.5,\n            'f': \"0.5\",\n        },\n{\n            'v': 2.7,\n            'f': \"2.7\",\n        },\n{\n            'v': 1.3,\n            'f': \"1.3\",\n        },\n{\n            'v': 4.05,\n            'f': \"4.05\",\n        }],\n [{\n            'v': 551051,\n            'f': \"551051\",\n        },\n\"2019-10-19\",\n\"TR\",\n\"Ankara\",\n\"wind-gust\",\n{\n            'v': 39,\n            'f': \"39\",\n        },\n{\n            'v': 0.6,\n            'f': \"0.6\",\n        },\n{\n            'v': 5.5,\n            'f': \"5.5\",\n        },\n{\n            'v': 2.7,\n            'f': \"2.7\",\n        },\n{\n            'v': 35.66,\n            'f': \"35.66\",\n        }],\n [{\n            'v': 551052,\n            'f': \"551052\",\n        },\n\"2019-10-29\",\n\"TR\",\n\"Ankara\",\n\"wind-gust\",\n{\n            'v': 48,\n            'f': \"48\",\n        },\n{\n            'v': 0.1,\n            'f': \"0.1\",\n        },\n{\n            'v': 6.3,\n            'f': \"6.3\",\n        },\n{\n            'v': 1.9,\n            'f': \"1.9\",\n        },\n{\n            'v': 33.72,\n            'f': \"33.72\",\n        }],\n [{\n            'v': 551053,\n            'f': \"551053\",\n        },\n\"2019-12-16\",\n\"TR\",\n\"Ankara\",\n\"wind-gust\",\n{\n            'v': 96,\n            'f': \"96\",\n        },\n{\n            'v': 0.1,\n            'f': \"0.1\",\n        },\n{\n            'v': 3.7,\n            'f': \"3.7\",\n        },\n{\n            'v': 0.5,\n            'f': \"0.5\",\n        },\n{\n            'v': 11.89,\n            'f': \"11.89\",\n        }],\n [{\n            'v': 551054,\n            'f': \"551054\",\n        },\n\"2019-09-30\",\n\"TR\",\n\"Ankara\",\n\"wind-gust\",\n{\n            'v': 80,\n            'f': \"80\",\n        },\n{\n            'v': 0.1,\n            'f': \"0.1\",\n        },\n{\n            'v': 4.5,\n            'f': \"4.5\",\n        },\n{\n            'v': 1.4,\n            'f': \"1.4\",\n        },\n{\n            'v': 26.88,\n            'f': \"26.88\",\n        }],\n [{\n            'v': 551055,\n            'f': \"551055\",\n        },\n\"2019-10-15\",\n\"TR\",\n\"Ankara\",\n\"wind-gust\",\n{\n            'v': 115,\n            'f': \"115\",\n        },\n{\n            'v': 0.1,\n            'f': \"0.1\",\n        },\n{\n            'v': 3.0,\n            'f': \"3.0\",\n        },\n{\n            'v': 1.3,\n            'f': \"1.3\",\n        },\n{\n            'v': 6.64,\n            'f': \"6.64\",\n        }],\n [{\n            'v': 551056,\n            'f': \"551056\",\n        },\n\"2019-10-24\",\n\"TR\",\n\"Ankara\",\n\"wind-gust\",\n{\n            'v': 72,\n            'f': \"72\",\n        },\n{\n            'v': 0.2,\n            'f': \"0.2\",\n        },\n{\n            'v': 6.7,\n            'f': \"6.7\",\n        },\n{\n            'v': 2.0,\n            'f': \"2.0\",\n        },\n{\n            'v': 26.91,\n            'f': \"26.91\",\n        }],\n [{\n            'v': 551057,\n            'f': \"551057\",\n        },\n\"2019-10-31\",\n\"TR\",\n\"Ankara\",\n\"wind-gust\",\n{\n            'v': 42,\n            'f': \"42\",\n        },\n{\n            'v': 0.1,\n            'f': \"0.1\",\n        },\n{\n            'v': 5.1,\n            'f': \"5.1\",\n        },\n{\n            'v': 1.0,\n            'f': \"1.0\",\n        },\n{\n            'v': 23.38,\n            'f': \"23.38\",\n        }],\n [{\n            'v': 551058,\n            'f': \"551058\",\n        },\n\"2019-11-04\",\n\"TR\",\n\"Ankara\",\n\"wind-gust\",\n{\n            'v': 72,\n            'f': \"72\",\n        },\n{\n            'v': 0.3,\n            'f': \"0.3\",\n        },\n{\n            'v': 6.9,\n            'f': \"6.9\",\n        },\n{\n            'v': 3.9,\n            'f': \"3.9\",\n        },\n{\n            'v': 23.7,\n            'f': \"23.7\",\n        }],\n [{\n            'v': 551059,\n            'f': \"551059\",\n        },\n\"2019-12-13\",\n\"TR\",\n\"Ankara\",\n\"wind-gust\",\n{\n            'v': 108,\n            'f': \"108\",\n        },\n{\n            'v': 0.3,\n            'f': \"0.3\",\n        },\n{\n            'v': 6.6,\n            'f': \"6.6\",\n        },\n{\n            'v': 4.1,\n            'f': \"4.1\",\n        },\n{\n            'v': 27.76,\n            'f': \"27.76\",\n        }],\n [{\n            'v': 551060,\n            'f': \"551060\",\n        },\n\"2019-10-28\",\n\"TR\",\n\"Ankara\",\n\"wind-gust\",\n{\n            'v': 48,\n            'f': \"48\",\n        },\n{\n            'v': 0.2,\n            'f': \"0.2\",\n        },\n{\n            'v': 2.3,\n            'f': \"2.3\",\n        },\n{\n            'v': 0.9,\n            'f': \"0.9\",\n        },\n{\n            'v': 5.06,\n            'f': \"5.06\",\n        }],\n [{\n            'v': 551061,\n            'f': \"551061\",\n        },\n\"2019-11-20\",\n\"TR\",\n\"Ankara\",\n\"wind-gust\",\n{\n            'v': 27,\n            'f': \"27\",\n        },\n{\n            'v': 0.3,\n            'f': \"0.3\",\n        },\n{\n            'v': 3.1,\n            'f': \"3.1\",\n        },\n{\n            'v': 1.0,\n            'f': \"1.0\",\n        },\n{\n            'v': 10.25,\n            'f': \"10.25\",\n        }],\n [{\n            'v': 551062,\n            'f': \"551062\",\n        },\n\"2019-11-25\",\n\"TR\",\n\"Ankara\",\n\"wind-gust\",\n{\n            'v': 72,\n            'f': \"72\",\n        },\n{\n            'v': 0.6,\n            'f': \"0.6\",\n        },\n{\n            'v': 5.9,\n            'f': \"5.9\",\n        },\n{\n            'v': 2.0,\n            'f': \"2.0\",\n        },\n{\n            'v': 16.1,\n            'f': \"16.1\",\n        }],\n [{\n            'v': 551063,\n            'f': \"551063\",\n        },\n\"2019-11-27\",\n\"TR\",\n\"Ankara\",\n\"wind-gust\",\n{\n            'v': 60,\n            'f': \"60\",\n        },\n{\n            'v': 0.1,\n            'f': \"0.1\",\n        },\n{\n            'v': 7.4,\n            'f': \"7.4\",\n        },\n{\n            'v': 1.9,\n            'f': \"1.9\",\n        },\n{\n            'v': 43.57,\n            'f': \"43.57\",\n        }],\n [{\n            'v': 551064,\n            'f': \"551064\",\n        },\n\"2019-12-05\",\n\"TR\",\n\"Ankara\",\n\"wind-gust\",\n{\n            'v': 87,\n            'f': \"87\",\n        },\n{\n            'v': 0.7,\n            'f': \"0.7\",\n        },\n{\n            'v': 9.0,\n            'f': \"9.0\",\n        },\n{\n            'v': 3.0,\n            'f': \"3.0\",\n        },\n{\n            'v': 69.7,\n            'f': \"69.7\",\n        }],\n [{\n            'v': 551065,\n            'f': \"551065\",\n        },\n\"2019-12-11\",\n\"TR\",\n\"Ankara\",\n\"wind-gust\",\n{\n            'v': 55,\n            'f': \"55\",\n        },\n{\n            'v': 0.1,\n            'f': \"0.1\",\n        },\n{\n            'v': 1.8,\n            'f': \"1.8\",\n        },\n{\n            'v': 0.7,\n            'f': \"0.7\",\n        },\n{\n            'v': 3.12,\n            'f': \"3.12\",\n        }],\n [{\n            'v': 551066,\n            'f': \"551066\",\n        },\n\"2019-12-23\",\n\"TR\",\n\"Ankara\",\n\"wind-gust\",\n{\n            'v': 144,\n            'f': \"144\",\n        },\n{\n            'v': 6.0,\n            'f': \"6.0\",\n        },\n{\n            'v': 22.4,\n            'f': \"22.4\",\n        },\n{\n            'v': 14.8,\n            'f': \"14.8\",\n        },\n{\n            'v': 189.44,\n            'f': \"189.44\",\n        }],\n [{\n            'v': 551067,\n            'f': \"551067\",\n        },\n\"2019-12-24\",\n\"TR\",\n\"Ankara\",\n\"wind-gust\",\n{\n            'v': 138,\n            'f': \"138\",\n        },\n{\n            'v': 0.5,\n            'f': \"0.5\",\n        },\n{\n            'v': 16.1,\n            'f': \"16.1\",\n        },\n{\n            'v': 9.8,\n            'f': \"9.8\",\n        },\n{\n            'v': 233.4,\n            'f': \"233.4\",\n        }],\n [{\n            'v': 551068,\n            'f': \"551068\",\n        },\n\"2019-10-22\",\n\"TR\",\n\"Ankara\",\n\"wind-gust\",\n{\n            'v': 72,\n            'f': \"72\",\n        },\n{\n            'v': 0.5,\n            'f': \"0.5\",\n        },\n{\n            'v': 13.0,\n            'f': \"13.0\",\n        },\n{\n            'v': 5.5,\n            'f': \"5.5\",\n        },\n{\n            'v': 148.94,\n            'f': \"148.94\",\n        }],\n [{\n            'v': 551069,\n            'f': \"551069\",\n        },\n\"2019-10-26\",\n\"TR\",\n\"Ankara\",\n\"wind-gust\",\n{\n            'v': 63,\n            'f': \"63\",\n        },\n{\n            'v': 0.1,\n            'f': \"0.1\",\n        },\n{\n            'v': 4.7,\n            'f': \"4.7\",\n        },\n{\n            'v': 1.8,\n            'f': \"1.8\",\n        },\n{\n            'v': 24.23,\n            'f': \"24.23\",\n        }],\n [{\n            'v': 551070,\n            'f': \"551070\",\n        },\n\"2019-11-21\",\n\"TR\",\n\"Ankara\",\n\"wind-gust\",\n{\n            'v': 45,\n            'f': \"45\",\n        },\n{\n            'v': 0.1,\n            'f': \"0.1\",\n        },\n{\n            'v': 3.2,\n            'f': \"3.2\",\n        },\n{\n            'v': 1.2,\n            'f': \"1.2\",\n        },\n{\n            'v': 6.05,\n            'f': \"6.05\",\n        }],\n [{\n            'v': 551071,\n            'f': \"551071\",\n        },\n\"2019-11-29\",\n\"TR\",\n\"Ankara\",\n\"wind-gust\",\n{\n            'v': 48,\n            'f': \"48\",\n        },\n{\n            'v': 0.9,\n            'f': \"0.9\",\n        },\n{\n            'v': 13.8,\n            'f': \"13.8\",\n        },\n{\n            'v': 6.1,\n            'f': \"6.1\",\n        },\n{\n            'v': 121.82,\n            'f': \"121.82\",\n        }],\n [{\n            'v': 551072,\n            'f': \"551072\",\n        },\n\"2019-12-01\",\n\"TR\",\n\"Ankara\",\n\"wind-gust\",\n{\n            'v': 48,\n            'f': \"48\",\n        },\n{\n            'v': 0.5,\n            'f': \"0.5\",\n        },\n{\n            'v': 8.2,\n            'f': \"8.2\",\n        },\n{\n            'v': 3.5,\n            'f': \"3.5\",\n        },\n{\n            'v': 35.11,\n            'f': \"35.11\",\n        }],\n [{\n            'v': 551073,\n            'f': \"551073\",\n        },\n\"2019-12-21\",\n\"TR\",\n\"Ankara\",\n\"wind-gust\",\n{\n            'v': 144,\n            'f': \"144\",\n        },\n{\n            'v': 0.5,\n            'f': \"0.5\",\n        },\n{\n            'v': 5.7,\n            'f': \"5.7\",\n        },\n{\n            'v': 2.9,\n            'f': \"2.9\",\n        },\n{\n            'v': 18.31,\n            'f': \"18.31\",\n        }],\n [{\n            'v': 551074,\n            'f': \"551074\",\n        },\n\"2019-10-13\",\n\"TR\",\n\"Ankara\",\n\"wind-gust\",\n{\n            'v': 90,\n            'f': \"90\",\n        },\n{\n            'v': 0.2,\n            'f': \"0.2\",\n        },\n{\n            'v': 4.2,\n            'f': \"4.2\",\n        },\n{\n            'v': 1.2,\n            'f': \"1.2\",\n        },\n{\n            'v': 16.46,\n            'f': \"16.46\",\n        }],\n [{\n            'v': 551075,\n            'f': \"551075\",\n        },\n\"2019-11-03\",\n\"TR\",\n\"Ankara\",\n\"wind-gust\",\n{\n            'v': 69,\n            'f': \"69\",\n        },\n{\n            'v': 0.1,\n            'f': \"0.1\",\n        },\n{\n            'v': 4.6,\n            'f': \"4.6\",\n        },\n{\n            'v': 1.3,\n            'f': \"1.3\",\n        },\n{\n            'v': 15.34,\n            'f': \"15.34\",\n        }],\n [{\n            'v': 551076,\n            'f': \"551076\",\n        },\n\"2019-11-07\",\n\"TR\",\n\"Ankara\",\n\"wind-gust\",\n{\n            'v': 72,\n            'f': \"72\",\n        },\n{\n            'v': 0.1,\n            'f': \"0.1\",\n        },\n{\n            'v': 7.5,\n            'f': \"7.5\",\n        },\n{\n            'v': 1.9,\n            'f': \"1.9\",\n        },\n{\n            'v': 23.56,\n            'f': \"23.56\",\n        }],\n [{\n            'v': 551077,\n            'f': \"551077\",\n        },\n\"2019-11-24\",\n\"TR\",\n\"Ankara\",\n\"wind-gust\",\n{\n            'v': 60,\n            'f': \"60\",\n        },\n{\n            'v': 0.3,\n            'f': \"0.3\",\n        },\n{\n            'v': 2.4,\n            'f': \"2.4\",\n        },\n{\n            'v': 0.7,\n            'f': \"0.7\",\n        },\n{\n            'v': 4.09,\n            'f': \"4.09\",\n        }],\n [{\n            'v': 551078,\n            'f': \"551078\",\n        },\n\"2019-12-14\",\n\"TR\",\n\"Ankara\",\n\"wind-gust\",\n{\n            'v': 138,\n            'f': \"138\",\n        },\n{\n            'v': 0.2,\n            'f': \"0.2\",\n        },\n{\n            'v': 10.0,\n            'f': \"10.0\",\n        },\n{\n            'v': 5.7,\n            'f': \"5.7\",\n        },\n{\n            'v': 67.33,\n            'f': \"67.33\",\n        }],\n [{\n            'v': 551079,\n            'f': \"551079\",\n        },\n\"2019-12-12\",\n\"TR\",\n\"Ankara\",\n\"wind-gust\",\n{\n            'v': 95,\n            'f': \"95\",\n        },\n{\n            'v': 0.1,\n            'f': \"0.1\",\n        },\n{\n            'v': 6.4,\n            'f': \"6.4\",\n        },\n{\n            'v': 2.0,\n            'f': \"2.0\",\n        },\n{\n            'v': 31.23,\n            'f': \"31.23\",\n        }],\n [{\n            'v': 551080,\n            'f': \"551080\",\n        },\n\"2019-12-17\",\n\"TR\",\n\"Ankara\",\n\"wind-gust\",\n{\n            'v': 60,\n            'f': \"60\",\n        },\n{\n            'v': 0.1,\n            'f': \"0.1\",\n        },\n{\n            'v': 2.5,\n            'f': \"2.5\",\n        },\n{\n            'v': 0.5,\n            'f': \"0.5\",\n        },\n{\n            'v': 4.56,\n            'f': \"4.56\",\n        }],\n [{\n            'v': 551081,\n            'f': \"551081\",\n        },\n\"2019-12-25\",\n\"TR\",\n\"Ankara\",\n\"wind-gust\",\n{\n            'v': 126,\n            'f': \"126\",\n        },\n{\n            'v': 0.2,\n            'f': \"0.2\",\n        },\n{\n            'v': 2.3,\n            'f': \"2.3\",\n        },\n{\n            'v': 1.6,\n            'f': \"1.6\",\n        },\n{\n            'v': 4.04,\n            'f': \"4.04\",\n        }],\n [{\n            'v': 551082,\n            'f': \"551082\",\n        },\n\"2019-10-17\",\n\"TR\",\n\"Ankara\",\n\"wind-gust\",\n{\n            'v': 96,\n            'f': \"96\",\n        },\n{\n            'v': 0.2,\n            'f': \"0.2\",\n        },\n{\n            'v': 8.3,\n            'f': \"8.3\",\n        },\n{\n            'v': 0.8,\n            'f': \"0.8\",\n        },\n{\n            'v': 60.95,\n            'f': \"60.95\",\n        }],\n [{\n            'v': 551083,\n            'f': \"551083\",\n        },\n\"2019-10-18\",\n\"TR\",\n\"Ankara\",\n\"wind-gust\",\n{\n            'v': 51,\n            'f': \"51\",\n        },\n{\n            'v': 0.1,\n            'f': \"0.1\",\n        },\n{\n            'v': 4.0,\n            'f': \"4.0\",\n        },\n{\n            'v': 1.6,\n            'f': \"1.6\",\n        },\n{\n            'v': 14.95,\n            'f': \"14.95\",\n        }],\n [{\n            'v': 551084,\n            'f': \"551084\",\n        },\n\"2019-11-02\",\n\"TR\",\n\"Ankara\",\n\"wind-gust\",\n{\n            'v': 66,\n            'f': \"66\",\n        },\n{\n            'v': 0.1,\n            'f': \"0.1\",\n        },\n{\n            'v': 9.5,\n            'f': \"9.5\",\n        },\n{\n            'v': 1.8,\n            'f': \"1.8\",\n        },\n{\n            'v': 84.4,\n            'f': \"84.4\",\n        }],\n [{\n            'v': 551085,\n            'f': \"551085\",\n        },\n\"2019-11-15\",\n\"TR\",\n\"Ankara\",\n\"wind-gust\",\n{\n            'v': 75,\n            'f': \"75\",\n        },\n{\n            'v': 0.1,\n            'f': \"0.1\",\n        },\n{\n            'v': 3.0,\n            'f': \"3.0\",\n        },\n{\n            'v': 1.0,\n            'f': \"1.0\",\n        },\n{\n            'v': 6.29,\n            'f': \"6.29\",\n        }],\n [{\n            'v': 551086,\n            'f': \"551086\",\n        },\n\"2019-12-02\",\n\"TR\",\n\"Ankara\",\n\"wind-gust\",\n{\n            'v': 42,\n            'f': \"42\",\n        },\n{\n            'v': 0.3,\n            'f': \"0.3\",\n        },\n{\n            'v': 3.6,\n            'f': \"3.6\",\n        },\n{\n            'v': 1.7,\n            'f': \"1.7\",\n        },\n{\n            'v': 8.79,\n            'f': \"8.79\",\n        }],\n [{\n            'v': 551087,\n            'f': \"551087\",\n        },\n\"2019-12-07\",\n\"TR\",\n\"Ankara\",\n\"wind-gust\",\n{\n            'v': 120,\n            'f': \"120\",\n        },\n{\n            'v': 0.1,\n            'f': \"0.1\",\n        },\n{\n            'v': 2.8,\n            'f': \"2.8\",\n        },\n{\n            'v': 1.1,\n            'f': \"1.1\",\n        },\n{\n            'v': 5.53,\n            'f': \"5.53\",\n        }],\n [{\n            'v': 551088,\n            'f': \"551088\",\n        },\n\"2019-12-18\",\n\"TR\",\n\"Ankara\",\n\"wind-gust\",\n{\n            'v': 42,\n            'f': \"42\",\n        },\n{\n            'v': 0.1,\n            'f': \"0.1\",\n        },\n{\n            'v': 1.1,\n            'f': \"1.1\",\n        },\n{\n            'v': 0.8,\n            'f': \"0.8\",\n        },\n{\n            'v': 1.29,\n            'f': \"1.29\",\n        }],\n [{\n            'v': 551089,\n            'f': \"551089\",\n        },\n\"2019-10-04\",\n\"TR\",\n\"Ankara\",\n\"wind-gust\",\n{\n            'v': 115,\n            'f': \"115\",\n        },\n{\n            'v': 0.4,\n            'f': \"0.4\",\n        },\n{\n            'v': 5.0,\n            'f': \"5.0\",\n        },\n{\n            'v': 1.6,\n            'f': \"1.6\",\n        },\n{\n            'v': 20.23,\n            'f': \"20.23\",\n        }],\n [{\n            'v': 551090,\n            'f': \"551090\",\n        },\n\"2019-10-23\",\n\"TR\",\n\"Ankara\",\n\"wind-gust\",\n{\n            'v': 72,\n            'f': \"72\",\n        },\n{\n            'v': 0.1,\n            'f': \"0.1\",\n        },\n{\n            'v': 10.1,\n            'f': \"10.1\",\n        },\n{\n            'v': 2.0,\n            'f': \"2.0\",\n        },\n{\n            'v': 94.94,\n            'f': \"94.94\",\n        }],\n [{\n            'v': 551091,\n            'f': \"551091\",\n        },\n\"2019-11-08\",\n\"TR\",\n\"Ankara\",\n\"wind-gust\",\n{\n            'v': 72,\n            'f': \"72\",\n        },\n{\n            'v': 0.1,\n            'f': \"0.1\",\n        },\n{\n            'v': 4.0,\n            'f': \"4.0\",\n        },\n{\n            'v': 1.8,\n            'f': \"1.8\",\n        },\n{\n            'v': 12.17,\n            'f': \"12.17\",\n        }],\n [{\n            'v': 551092,\n            'f': \"551092\",\n        },\n\"2019-11-17\",\n\"TR\",\n\"Ankara\",\n\"wind-gust\",\n{\n            'v': 57,\n            'f': \"57\",\n        },\n{\n            'v': 0.2,\n            'f': \"0.2\",\n        },\n{\n            'v': 3.9,\n            'f': \"3.9\",\n        },\n{\n            'v': 1.1,\n            'f': \"1.1\",\n        },\n{\n            'v': 13.26,\n            'f': \"13.26\",\n        }],\n [{\n            'v': 551093,\n            'f': \"551093\",\n        },\n\"2019-11-30\",\n\"TR\",\n\"Ankara\",\n\"wind-gust\",\n{\n            'v': 46,\n            'f': \"46\",\n        },\n{\n            'v': 0.3,\n            'f': \"0.3\",\n        },\n{\n            'v': 10.8,\n            'f': \"10.8\",\n        },\n{\n            'v': 4.2,\n            'f': \"4.2\",\n        },\n{\n            'v': 58.24,\n            'f': \"58.24\",\n        }],\n [{\n            'v': 551094,\n            'f': \"551094\",\n        },\n\"2019-10-06\",\n\"TR\",\n\"Ankara\",\n\"wind-gust\",\n{\n            'v': 115,\n            'f': \"115\",\n        },\n{\n            'v': 0.1,\n            'f': \"0.1\",\n        },\n{\n            'v': 18.8,\n            'f': \"18.8\",\n        },\n{\n            'v': 4.7,\n            'f': \"4.7\",\n        },\n{\n            'v': 271.85,\n            'f': \"271.85\",\n        }],\n [{\n            'v': 551095,\n            'f': \"551095\",\n        },\n\"2019-10-16\",\n\"TR\",\n\"Ankara\",\n\"wind-gust\",\n{\n            'v': 115,\n            'f': \"115\",\n        },\n{\n            'v': 0.2,\n            'f': \"0.2\",\n        },\n{\n            'v': 7.5,\n            'f': \"7.5\",\n        },\n{\n            'v': 1.7,\n            'f': \"1.7\",\n        },\n{\n            'v': 36.6,\n            'f': \"36.6\",\n        }],\n [{\n            'v': 551096,\n            'f': \"551096\",\n        },\n\"2019-12-22\",\n\"TR\",\n\"Ankara\",\n\"wind-gust\",\n{\n            'v': 144,\n            'f': \"144\",\n        },\n{\n            'v': 0.7,\n            'f': \"0.7\",\n        },\n{\n            'v': 9.9,\n            'f': \"9.9\",\n        },\n{\n            'v': 4.3,\n            'f': \"4.3\",\n        },\n{\n            'v': 106.01,\n            'f': \"106.01\",\n        }],\n [{\n            'v': 551097,\n            'f': \"551097\",\n        },\n\"2020-01-04\",\n\"TR\",\n\"Ankara\",\n\"wind-gust\",\n{\n            'v': 120,\n            'f': \"120\",\n        },\n{\n            'v': 0.1,\n            'f': \"0.1\",\n        },\n{\n            'v': 4.9,\n            'f': \"4.9\",\n        },\n{\n            'v': 1.1,\n            'f': \"1.1\",\n        },\n{\n            'v': 23.54,\n            'f': \"23.54\",\n        }],\n [{\n            'v': 551098,\n            'f': \"551098\",\n        },\n\"2020-01-05\",\n\"TR\",\n\"Ankara\",\n\"wind-gust\",\n{\n            'v': 96,\n            'f': \"96\",\n        },\n{\n            'v': 0.2,\n            'f': \"0.2\",\n        },\n{\n            'v': 2.7,\n            'f': \"2.7\",\n        },\n{\n            'v': 0.8,\n            'f': \"0.8\",\n        },\n{\n            'v': 4.81,\n            'f': \"4.81\",\n        }],\n [{\n            'v': 551099,\n            'f': \"551099\",\n        },\n\"2019-10-11\",\n\"TR\",\n\"Ankara\",\n\"wind-gust\",\n{\n            'v': 100,\n            'f': \"100\",\n        },\n{\n            'v': 0.1,\n            'f': \"0.1\",\n        },\n{\n            'v': 5.2,\n            'f': \"5.2\",\n        },\n{\n            'v': 2.0,\n            'f': \"2.0\",\n        },\n{\n            'v': 26.45,\n            'f': \"26.45\",\n        }],\n [{\n            'v': 551100,\n            'f': \"551100\",\n        },\n\"2019-11-06\",\n\"TR\",\n\"Ankara\",\n\"wind-gust\",\n{\n            'v': 69,\n            'f': \"69\",\n        },\n{\n            'v': 0.5,\n            'f': \"0.5\",\n        },\n{\n            'v': 5.4,\n            'f': \"5.4\",\n        },\n{\n            'v': 1.3,\n            'f': \"1.3\",\n        },\n{\n            'v': 17.95,\n            'f': \"17.95\",\n        }],\n [{\n            'v': 551101,\n            'f': \"551101\",\n        },\n\"2019-11-16\",\n\"TR\",\n\"Ankara\",\n\"wind-gust\",\n{\n            'v': 45,\n            'f': \"45\",\n        },\n{\n            'v': 0.1,\n            'f': \"0.1\",\n        },\n{\n            'v': 7.3,\n            'f': \"7.3\",\n        },\n{\n            'v': 1.5,\n            'f': \"1.5\",\n        },\n{\n            'v': 66.28,\n            'f': \"66.28\",\n        }],\n [{\n            'v': 551102,\n            'f': \"551102\",\n        },\n\"2019-12-03\",\n\"TR\",\n\"Ankara\",\n\"wind-gust\",\n{\n            'v': 30,\n            'f': \"30\",\n        },\n{\n            'v': 0.1,\n            'f': \"0.1\",\n        },\n{\n            'v': 3.3,\n            'f': \"3.3\",\n        },\n{\n            'v': 1.5,\n            'f': \"1.5\",\n        },\n{\n            'v': 8.54,\n            'f': \"8.54\",\n        }],\n [{\n            'v': 551103,\n            'f': \"551103\",\n        },\n\"2019-12-15\",\n\"TR\",\n\"Ankara\",\n\"wind-gust\",\n{\n            'v': 132,\n            'f': \"132\",\n        },\n{\n            'v': 0.1,\n            'f': \"0.1\",\n        },\n{\n            'v': 4.2,\n            'f': \"4.2\",\n        },\n{\n            'v': 0.9,\n            'f': \"0.9\",\n        },\n{\n            'v': 12.88,\n            'f': \"12.88\",\n        }],\n [{\n            'v': 551104,\n            'f': \"551104\",\n        },\n\"2019-10-03\",\n\"TR\",\n\"Ankara\",\n\"wind-gust\",\n{\n            'v': 105,\n            'f': \"105\",\n        },\n{\n            'v': 0.1,\n            'f': \"0.1\",\n        },\n{\n            'v': 10.1,\n            'f': \"10.1\",\n        },\n{\n            'v': 2.6,\n            'f': \"2.6\",\n        },\n{\n            'v': 72.3,\n            'f': \"72.3\",\n        }],\n [{\n            'v': 551105,\n            'f': \"551105\",\n        },\n\"2019-12-27\",\n\"TR\",\n\"Ankara\",\n\"wind-gust\",\n{\n            'v': 120,\n            'f': \"120\",\n        },\n{\n            'v': 0.6,\n            'f': \"0.6\",\n        },\n{\n            'v': 11.6,\n            'f': \"11.6\",\n        },\n{\n            'v': 6.6,\n            'f': \"6.6\",\n        },\n{\n            'v': 84.48,\n            'f': \"84.48\",\n        }],\n [{\n            'v': 551106,\n            'f': \"551106\",\n        },\n\"2019-11-09\",\n\"TR\",\n\"Ankara\",\n\"wind-gust\",\n{\n            'v': 66,\n            'f': \"66\",\n        },\n{\n            'v': 0.1,\n            'f': \"0.1\",\n        },\n{\n            'v': 3.4,\n            'f': \"3.4\",\n        },\n{\n            'v': 0.9,\n            'f': \"0.9\",\n        },\n{\n            'v': 7.74,\n            'f': \"7.74\",\n        }],\n [{\n            'v': 551107,\n            'f': \"551107\",\n        },\n\"2019-11-22\",\n\"TR\",\n\"Ankara\",\n\"wind-gust\",\n{\n            'v': 63,\n            'f': \"63\",\n        },\n{\n            'v': 0.1,\n            'f': \"0.1\",\n        },\n{\n            'v': 4.2,\n            'f': \"4.2\",\n        },\n{\n            'v': 1.2,\n            'f': \"1.2\",\n        },\n{\n            'v': 10.31,\n            'f': \"10.31\",\n        }],\n [{\n            'v': 551108,\n            'f': \"551108\",\n        },\n\"2019-12-06\",\n\"TR\",\n\"Ankara\",\n\"wind-gust\",\n{\n            'v': 95,\n            'f': \"95\",\n        },\n{\n            'v': 0.4,\n            'f': \"0.4\",\n        },\n{\n            'v': 2.8,\n            'f': \"2.8\",\n        },\n{\n            'v': 1.1,\n            'f': \"1.1\",\n        },\n{\n            'v': 6.34,\n            'f': \"6.34\",\n        }],\n [{\n            'v': 551109,\n            'f': \"551109\",\n        },\n\"2019-12-26\",\n\"TR\",\n\"Ankara\",\n\"wind-gust\",\n{\n            'v': 100,\n            'f': \"100\",\n        },\n{\n            'v': 0.2,\n            'f': \"0.2\",\n        },\n{\n            'v': 5.6,\n            'f': \"5.6\",\n        },\n{\n            'v': 2.1,\n            'f': \"2.1\",\n        },\n{\n            'v': 28.52,\n            'f': \"28.52\",\n        }],\n [{\n            'v': 551110,\n            'f': \"551110\",\n        },\n\"2019-11-14\",\n\"TR\",\n\"Ankara\",\n\"wind-gust\",\n{\n            'v': 144,\n            'f': \"144\",\n        },\n{\n            'v': 0.5,\n            'f': \"0.5\",\n        },\n{\n            'v': 7.1,\n            'f': \"7.1\",\n        },\n{\n            'v': 1.9,\n            'f': \"1.9\",\n        },\n{\n            'v': 36.73,\n            'f': \"36.73\",\n        }],\n [{\n            'v': 551111,\n            'f': \"551111\",\n        },\n\"2019-11-19\",\n\"TR\",\n\"Ankara\",\n\"wind-gust\",\n{\n            'v': 36,\n            'f': \"36\",\n        },\n{\n            'v': 0.3,\n            'f': \"0.3\",\n        },\n{\n            'v': 4.4,\n            'f': \"4.4\",\n        },\n{\n            'v': 1.9,\n            'f': \"1.9\",\n        },\n{\n            'v': 15.26,\n            'f': \"15.26\",\n        }],\n [{\n            'v': 551112,\n            'f': \"551112\",\n        },\n\"2019-12-09\",\n\"TR\",\n\"Ankara\",\n\"wind-gust\",\n{\n            'v': 90,\n            'f': \"90\",\n        },\n{\n            'v': 0.1,\n            'f': \"0.1\",\n        },\n{\n            'v': 7.8,\n            'f': \"7.8\",\n        },\n{\n            'v': 3.1,\n            'f': \"3.1\",\n        },\n{\n            'v': 65.83,\n            'f': \"65.83\",\n        }],\n [{\n            'v': 551113,\n            'f': \"551113\",\n        },\n\"2019-10-10\",\n\"TR\",\n\"Ankara\",\n\"wind-gust\",\n{\n            'v': 95,\n            'f': \"95\",\n        },\n{\n            'v': 0.1,\n            'f': \"0.1\",\n        },\n{\n            'v': 8.2,\n            'f': \"8.2\",\n        },\n{\n            'v': 2.3,\n            'f': \"2.3\",\n        },\n{\n            'v': 57.23,\n            'f': \"57.23\",\n        }],\n [{\n            'v': 551114,\n            'f': \"551114\",\n        },\n\"2019-10-20\",\n\"TR\",\n\"Ankara\",\n\"wind-gust\",\n{\n            'v': 42,\n            'f': \"42\",\n        },\n{\n            'v': 0.1,\n            'f': \"0.1\",\n        },\n{\n            'v': 8.7,\n            'f': \"8.7\",\n        },\n{\n            'v': 1.0,\n            'f': \"1.0\",\n        },\n{\n            'v': 76.65,\n            'f': \"76.65\",\n        }],\n [{\n            'v': 551115,\n            'f': \"551115\",\n        },\n\"2019-10-25\",\n\"TR\",\n\"Ankara\",\n\"wind-gust\",\n{\n            'v': 72,\n            'f': \"72\",\n        },\n{\n            'v': 0.1,\n            'f': \"0.1\",\n        },\n{\n            'v': 2.9,\n            'f': \"2.9\",\n        },\n{\n            'v': 0.9,\n            'f': \"0.9\",\n        },\n{\n            'v': 5.98,\n            'f': \"5.98\",\n        }],\n [{\n            'v': 551116,\n            'f': \"551116\",\n        },\n\"2019-10-27\",\n\"TR\",\n\"Ankara\",\n\"wind-gust\",\n{\n            'v': 72,\n            'f': \"72\",\n        },\n{\n            'v': 0.1,\n            'f': \"0.1\",\n        },\n{\n            'v': 10.8,\n            'f': \"10.8\",\n        },\n{\n            'v': 2.1,\n            'f': \"2.1\",\n        },\n{\n            'v': 86.46,\n            'f': \"86.46\",\n        }],\n [{\n            'v': 551117,\n            'f': \"551117\",\n        },\n\"2019-11-05\",\n\"TR\",\n\"Ankara\",\n\"wind-gust\",\n{\n            'v': 72,\n            'f': \"72\",\n        },\n{\n            'v': 0.1,\n            'f': \"0.1\",\n        },\n{\n            'v': 5.0,\n            'f': \"5.0\",\n        },\n{\n            'v': 1.6,\n            'f': \"1.6\",\n        },\n{\n            'v': 18.38,\n            'f': \"18.38\",\n        }],\n [{\n            'v': 551118,\n            'f': \"551118\",\n        },\n\"2019-10-08\",\n\"TR\",\n\"Ankara\",\n\"wind-gust\",\n{\n            'v': 105,\n            'f': \"105\",\n        },\n{\n            'v': 0.3,\n            'f': \"0.3\",\n        },\n{\n            'v': 7.8,\n            'f': \"7.8\",\n        },\n{\n            'v': 3.1,\n            'f': \"3.1\",\n        },\n{\n            'v': 53.87,\n            'f': \"53.87\",\n        }],\n [{\n            'v': 551119,\n            'f': \"551119\",\n        },\n\"2019-11-11\",\n\"TR\",\n\"Ankara\",\n\"wind-gust\",\n{\n            'v': 138,\n            'f': \"138\",\n        },\n{\n            'v': 0.1,\n            'f': \"0.1\",\n        },\n{\n            'v': 2.9,\n            'f': \"2.9\",\n        },\n{\n            'v': 1.1,\n            'f': \"1.1\",\n        },\n{\n            'v': 5.65,\n            'f': \"5.65\",\n        }],\n [{\n            'v': 551120,\n            'f': \"551120\",\n        },\n\"2019-12-04\",\n\"TR\",\n\"Ankara\",\n\"wind-gust\",\n{\n            'v': 34,\n            'f': \"34\",\n        },\n{\n            'v': 0.2,\n            'f': \"0.2\",\n        },\n{\n            'v': 4.1,\n            'f': \"4.1\",\n        },\n{\n            'v': 1.8,\n            'f': \"1.8\",\n        },\n{\n            'v': 15.12,\n            'f': \"15.12\",\n        }],\n [{\n            'v': 551121,\n            'f': \"551121\",\n        },\n\"2019-12-20\",\n\"TR\",\n\"Ankara\",\n\"wind-gust\",\n{\n            'v': 144,\n            'f': \"144\",\n        },\n{\n            'v': 0.1,\n            'f': \"0.1\",\n        },\n{\n            'v': 4.7,\n            'f': \"4.7\",\n        },\n{\n            'v': 1.5,\n            'f': \"1.5\",\n        },\n{\n            'v': 11.96,\n            'f': \"11.96\",\n        }],\n [{\n            'v': 551122,\n            'f': \"551122\",\n        },\n\"2019-10-01\",\n\"TR\",\n\"Ankara\",\n\"wind-gust\",\n{\n            'v': 10,\n            'f': \"10\",\n        },\n{\n            'v': 3.6,\n            'f': \"3.6\",\n        },\n{\n            'v': 4.3,\n            'f': \"4.3\",\n        },\n{\n            'v': 3.6,\n            'f': \"3.6\",\n        },\n{\n            'v': 1.36,\n            'f': \"1.36\",\n        }],\n [{\n            'v': 551123,\n            'f': \"551123\",\n        },\n\"2019-10-07\",\n\"TR\",\n\"Ankara\",\n\"wind-gust\",\n{\n            'v': 105,\n            'f': \"105\",\n        },\n{\n            'v': 0.2,\n            'f': \"0.2\",\n        },\n{\n            'v': 4.1,\n            'f': \"4.1\",\n        },\n{\n            'v': 1.5,\n            'f': \"1.5\",\n        },\n{\n            'v': 16.27,\n            'f': \"16.27\",\n        }],\n [{\n            'v': 551124,\n            'f': \"551124\",\n        },\n\"2019-11-01\",\n\"TR\",\n\"Ankara\",\n\"wind-gust\",\n{\n            'v': 66,\n            'f': \"66\",\n        },\n{\n            'v': 0.2,\n            'f': \"0.2\",\n        },\n{\n            'v': 8.0,\n            'f': \"8.0\",\n        },\n{\n            'v': 2.8,\n            'f': \"2.8\",\n        },\n{\n            'v': 38.38,\n            'f': \"38.38\",\n        }],\n [{\n            'v': 551125,\n            'f': \"551125\",\n        },\n\"2019-12-08\",\n\"TR\",\n\"Ankara\",\n\"wind-gust\",\n{\n            'v': 115,\n            'f': \"115\",\n        },\n{\n            'v': 0.2,\n            'f': \"0.2\",\n        },\n{\n            'v': 2.9,\n            'f': \"2.9\",\n        },\n{\n            'v': 1.1,\n            'f': \"1.1\",\n        },\n{\n            'v': 5.6,\n            'f': \"5.6\",\n        }],\n [{\n            'v': 551126,\n            'f': \"551126\",\n        },\n\"2019-12-10\",\n\"TR\",\n\"Ankara\",\n\"wind-gust\",\n{\n            'v': 105,\n            'f': \"105\",\n        },\n{\n            'v': 0.1,\n            'f': \"0.1\",\n        },\n{\n            'v': 4.3,\n            'f': \"4.3\",\n        },\n{\n            'v': 1.5,\n            'f': \"1.5\",\n        },\n{\n            'v': 13.61,\n            'f': \"13.61\",\n        }],\n [{\n            'v': 551127,\n            'f': \"551127\",\n        },\n\"2019-10-05\",\n\"TR\",\n\"Ankara\",\n\"wind-gust\",\n{\n            'v': 120,\n            'f': \"120\",\n        },\n{\n            'v': 0.4,\n            'f': \"0.4\",\n        },\n{\n            'v': 12.2,\n            'f': \"12.2\",\n        },\n{\n            'v': 2.5,\n            'f': \"2.5\",\n        },\n{\n            'v': 127.34,\n            'f': \"127.34\",\n        }],\n [{\n            'v': 551128,\n            'f': \"551128\",\n        },\n\"2019-10-21\",\n\"TR\",\n\"Ankara\",\n\"wind-gust\",\n{\n            'v': 60,\n            'f': \"60\",\n        },\n{\n            'v': 0.1,\n            'f': \"0.1\",\n        },\n{\n            'v': 7.0,\n            'f': \"7.0\",\n        },\n{\n            'v': 2.2,\n            'f': \"2.2\",\n        },\n{\n            'v': 41.48,\n            'f': \"41.48\",\n        }],\n [{\n            'v': 551129,\n            'f': \"551129\",\n        },\n\"2019-11-13\",\n\"TR\",\n\"Ankara\",\n\"wind-gust\",\n{\n            'v': 144,\n            'f': \"144\",\n        },\n{\n            'v': 0.1,\n            'f': \"0.1\",\n        },\n{\n            'v': 2.5,\n            'f': \"2.5\",\n        },\n{\n            'v': 1.0,\n            'f': \"1.0\",\n        },\n{\n            'v': 4.91,\n            'f': \"4.91\",\n        }],\n [{\n            'v': 551130,\n            'f': \"551130\",\n        },\n\"2019-12-19\",\n\"TR\",\n\"Ankara\",\n\"wind-gust\",\n{\n            'v': 54,\n            'f': \"54\",\n        },\n{\n            'v': 0.1,\n            'f': \"0.1\",\n        },\n{\n            'v': 1.3,\n            'f': \"1.3\",\n        },\n{\n            'v': 0.4,\n            'f': \"0.4\",\n        },\n{\n            'v': 1.99,\n            'f': \"1.99\",\n        }],\n [{\n            'v': 551131,\n            'f': \"551131\",\n        },\n\"2020-01-03\",\n\"TR\",\n\"Ankara\",\n\"wind-gust\",\n{\n            'v': 78,\n            'f': \"78\",\n        },\n{\n            'v': 0.4,\n            'f': \"0.4\",\n        },\n{\n            'v': 12.6,\n            'f': \"12.6\",\n        },\n{\n            'v': 5.2,\n            'f': \"5.2\",\n        },\n{\n            'v': 124.04,\n            'f': \"124.04\",\n        }],\n [{\n            'v': 552577,\n            'f': \"552577\",\n        },\n\"2019-10-06\",\n\"TR\",\n\"Adana\",\n\"wind-gust\",\n{\n            'v': 96,\n            'f': \"96\",\n        },\n{\n            'v': 0.6,\n            'f': \"0.6\",\n        },\n{\n            'v': 28.8,\n            'f': \"28.8\",\n        },\n{\n            'v': 10.3,\n            'f': \"10.3\",\n        },\n{\n            'v': 931.37,\n            'f': \"931.37\",\n        }],\n [{\n            'v': 552578,\n            'f': \"552578\",\n        },\n\"2019-10-23\",\n\"TR\",\n\"Adana\",\n\"wind-gust\",\n{\n            'v': 76,\n            'f': \"76\",\n        },\n{\n            'v': 4.6,\n            'f': \"4.6\",\n        },\n{\n            'v': 20.4,\n            'f': \"20.4\",\n        },\n{\n            'v': 17.8,\n            'f': \"17.8\",\n        },\n{\n            'v': 324.24,\n            'f': \"324.24\",\n        }],\n [{\n            'v': 552579,\n            'f': \"552579\",\n        },\n\"2019-10-24\",\n\"TR\",\n\"Adana\",\n\"wind-gust\",\n{\n            'v': 96,\n            'f': \"96\",\n        },\n{\n            'v': 0.8,\n            'f': \"0.8\",\n        },\n{\n            'v': 17.9,\n            'f': \"17.9\",\n        },\n{\n            'v': 12.6,\n            'f': \"12.6\",\n        },\n{\n            'v': 209.9,\n            'f': \"209.9\",\n        }],\n [{\n            'v': 552580,\n            'f': \"552580\",\n        },\n\"2019-11-03\",\n\"TR\",\n\"Adana\",\n\"wind-gust\",\n{\n            'v': 68,\n            'f': \"68\",\n        },\n{\n            'v': 0.6,\n            'f': \"0.6\",\n        },\n{\n            'v': 20.3,\n            'f': \"20.3\",\n        },\n{\n            'v': 17.0,\n            'f': \"17.0\",\n        },\n{\n            'v': 515.5,\n            'f': \"515.5\",\n        }],\n [{\n            'v': 552581,\n            'f': \"552581\",\n        },\n\"2019-11-23\",\n\"TR\",\n\"Adana\",\n\"wind-gust\",\n{\n            'v': 76,\n            'f': \"76\",\n        },\n{\n            'v': 0.2,\n            'f': \"0.2\",\n        },\n{\n            'v': 19.4,\n            'f': \"19.4\",\n        },\n{\n            'v': 15.7,\n            'f': \"15.7\",\n        },\n{\n            'v': 460.68,\n            'f': \"460.68\",\n        }],\n [{\n            'v': 552582,\n            'f': \"552582\",\n        },\n\"2019-12-05\",\n\"TR\",\n\"Adana\",\n\"wind-gust\",\n{\n            'v': 96,\n            'f': \"96\",\n        },\n{\n            'v': 1.7,\n            'f': \"1.7\",\n        },\n{\n            'v': 21.0,\n            'f': \"21.0\",\n        },\n{\n            'v': 15.8,\n            'f': \"15.8\",\n        },\n{\n            'v': 304.6,\n            'f': \"304.6\",\n        }],\n [{\n            'v': 552583,\n            'f': \"552583\",\n        },\n\"2019-12-08\",\n\"TR\",\n\"Adana\",\n\"wind-gust\",\n{\n            'v': 88,\n            'f': \"88\",\n        },\n{\n            'v': 0.2,\n            'f': \"0.2\",\n        },\n{\n            'v': 16.3,\n            'f': \"16.3\",\n        },\n{\n            'v': 10.5,\n            'f': \"10.5\",\n        },\n{\n            'v': 358.82,\n            'f': \"358.82\",\n        }],\n [{\n            'v': 552584,\n            'f': \"552584\",\n        },\n\"2019-10-30\",\n\"TR\",\n\"Adana\",\n\"wind-gust\",\n{\n            'v': 80,\n            'f': \"80\",\n        },\n{\n            'v': 0.1,\n            'f': \"0.1\",\n        },\n{\n            'v': 16.9,\n            'f': \"16.9\",\n        },\n{\n            'v': 6.7,\n            'f': \"6.7\",\n        },\n{\n            'v': 400.11,\n            'f': \"400.11\",\n        }],\n [{\n            'v': 552585,\n            'f': \"552585\",\n        },\n\"2019-12-04\",\n\"TR\",\n\"Adana\",\n\"wind-gust\",\n{\n            'v': 92,\n            'f': \"92\",\n        },\n{\n            'v': 0.2,\n            'f': \"0.2\",\n        },\n{\n            'v': 17.3,\n            'f': \"17.3\",\n        },\n{\n            'v': 13.0,\n            'f': \"13.0\",\n        },\n{\n            'v': 432.96,\n            'f': \"432.96\",\n        }],\n [{\n            'v': 552586,\n            'f': \"552586\",\n        },\n\"2019-12-12\",\n\"TR\",\n\"Adana\",\n\"wind-gust\",\n{\n            'v': 96,\n            'f': \"96\",\n        },\n{\n            'v': 3.5,\n            'f': \"3.5\",\n        },\n{\n            'v': 18.1,\n            'f': \"18.1\",\n        },\n{\n            'v': 12.2,\n            'f': \"12.2\",\n        },\n{\n            'v': 147.1,\n            'f': \"147.1\",\n        }],\n [{\n            'v': 552587,\n            'f': \"552587\",\n        },\n\"2019-12-16\",\n\"TR\",\n\"Adana\",\n\"wind-gust\",\n{\n            'v': 63,\n            'f': \"63\",\n        },\n{\n            'v': 0.2,\n            'f': \"0.2\",\n        },\n{\n            'v': 14.7,\n            'f': \"14.7\",\n        },\n{\n            'v': 10.1,\n            'f': \"10.1\",\n        },\n{\n            'v': 211.77,\n            'f': \"211.77\",\n        }],\n [{\n            'v': 552588,\n            'f': \"552588\",\n        },\n\"2019-12-19\",\n\"TR\",\n\"Adana\",\n\"wind-gust\",\n{\n            'v': 68,\n            'f': \"68\",\n        },\n{\n            'v': 0.1,\n            'f': \"0.1\",\n        },\n{\n            'v': 14.8,\n            'f': \"14.8\",\n        },\n{\n            'v': 10.1,\n            'f': \"10.1\",\n        },\n{\n            'v': 296.52,\n            'f': \"296.52\",\n        }],\n [{\n            'v': 552589,\n            'f': \"552589\",\n        },\n\"2019-12-26\",\n\"TR\",\n\"Adana\",\n\"wind-gust\",\n{\n            'v': 96,\n            'f': \"96\",\n        },\n{\n            'v': 5.1,\n            'f': \"5.1\",\n        },\n{\n            'v': 18.0,\n            'f': \"18.0\",\n        },\n{\n            'v': 9.6,\n            'f': \"9.6\",\n        },\n{\n            'v': 132.63,\n            'f': \"132.63\",\n        }],\n [{\n            'v': 552590,\n            'f': \"552590\",\n        },\n\"2019-10-01\",\n\"TR\",\n\"Adana\",\n\"wind-gust\",\n{\n            'v': 92,\n            'f': \"92\",\n        },\n{\n            'v': 2.4,\n            'f': \"2.4\",\n        },\n{\n            'v': 14.5,\n            'f': \"14.5\",\n        },\n{\n            'v': 9.4,\n            'f': \"9.4\",\n        },\n{\n            'v': 136.44,\n            'f': \"136.44\",\n        }],\n [{\n            'v': 552591,\n            'f': \"552591\",\n        },\n\"2019-10-02\",\n\"TR\",\n\"Adana\",\n\"wind-gust\",\n{\n            'v': 84,\n            'f': \"84\",\n        },\n{\n            'v': 1.9,\n            'f': \"1.9\",\n        },\n{\n            'v': 24.0,\n            'f': \"24.0\",\n        },\n{\n            'v': 9.0,\n            'f': \"9.0\",\n        },\n{\n            'v': 385.31,\n            'f': \"385.31\",\n        }],\n [{\n            'v': 552592,\n            'f': \"552592\",\n        },\n\"2019-11-15\",\n\"TR\",\n\"Adana\",\n\"wind-gust\",\n{\n            'v': 92,\n            'f': \"92\",\n        },\n{\n            'v': 1.4,\n            'f': \"1.4\",\n        },\n{\n            'v': 16.8,\n            'f': \"16.8\",\n        },\n{\n            'v': 14.7,\n            'f': \"14.7\",\n        },\n{\n            'v': 175.1,\n            'f': \"175.1\",\n        }],\n [{\n            'v': 552593,\n            'f': \"552593\",\n        },\n\"2019-11-25\",\n\"TR\",\n\"Adana\",\n\"wind-gust\",\n{\n            'v': 72,\n            'f': \"72\",\n        },\n{\n            'v': 0.8,\n            'f': \"0.8\",\n        },\n{\n            'v': 19.7,\n            'f': \"19.7\",\n        },\n{\n            'v': 17.0,\n            'f': \"17.0\",\n        },\n{\n            'v': 420.51,\n            'f': \"420.51\",\n        }],\n [{\n            'v': 552594,\n            'f': \"552594\",\n        },\n\"2019-11-29\",\n\"TR\",\n\"Adana\",\n\"wind-gust\",\n{\n            'v': 96,\n            'f': \"96\",\n        },\n{\n            'v': 2.0,\n            'f': \"2.0\",\n        },\n{\n            'v': 14.2,\n            'f': \"14.2\",\n        },\n{\n            'v': 10.9,\n            'f': \"10.9\",\n        },\n{\n            'v': 120.02,\n            'f': \"120.02\",\n        }],\n [{\n            'v': 552595,\n            'f': \"552595\",\n        },\n\"2019-12-01\",\n\"TR\",\n\"Adana\",\n\"wind-gust\",\n{\n            'v': 68,\n            'f': \"68\",\n        },\n{\n            'v': 0.3,\n            'f': \"0.3\",\n        },\n{\n            'v': 19.4,\n            'f': \"19.4\",\n        },\n{\n            'v': 6.2,\n            'f': \"6.2\",\n        },\n{\n            'v': 247.73,\n            'f': \"247.73\",\n        }],\n [{\n            'v': 552596,\n            'f': \"552596\",\n        },\n\"2019-11-04\",\n\"TR\",\n\"Adana\",\n\"wind-gust\",\n{\n            'v': 68,\n            'f': \"68\",\n        },\n{\n            'v': 1.0,\n            'f': \"1.0\",\n        },\n{\n            'v': 20.5,\n            'f': \"20.5\",\n        },\n{\n            'v': 18.2,\n            'f': \"18.2\",\n        },\n{\n            'v': 423.97,\n            'f': \"423.97\",\n        }],\n [{\n            'v': 552597,\n            'f': \"552597\",\n        },\n\"2019-11-16\",\n\"TR\",\n\"Adana\",\n\"wind-gust\",\n{\n            'v': 64,\n            'f': \"64\",\n        },\n{\n            'v': 0.1,\n            'f': \"0.1\",\n        },\n{\n            'v': 18.2,\n            'f': \"18.2\",\n        },\n{\n            'v': 6.2,\n            'f': \"6.2\",\n        },\n{\n            'v': 510.68,\n            'f': \"510.68\",\n        }],\n [{\n            'v': 552598,\n            'f': \"552598\",\n        },\n\"2019-11-21\",\n\"TR\",\n\"Adana\",\n\"wind-gust\",\n{\n            'v': 76,\n            'f': \"76\",\n        },\n{\n            'v': 0.1,\n            'f': \"0.1\",\n        },\n{\n            'v': 18.1,\n            'f': \"18.1\",\n        },\n{\n            'v': 9.4,\n            'f': \"9.4\",\n        },\n{\n            'v': 353.59,\n            'f': \"353.59\",\n        }],\n [{\n            'v': 552599,\n            'f': \"552599\",\n        },\n\"2019-11-22\",\n\"TR\",\n\"Adana\",\n\"wind-gust\",\n{\n            'v': 64,\n            'f': \"64\",\n        },\n{\n            'v': 5.1,\n            'f': \"5.1\",\n        },\n{\n            'v': 19.3,\n            'f': \"19.3\",\n        },\n{\n            'v': 15.8,\n            'f': \"15.8\",\n        },\n{\n            'v': 151.75,\n            'f': \"151.75\",\n        }],\n [{\n            'v': 552600,\n            'f': \"552600\",\n        },\n\"2019-12-07\",\n\"TR\",\n\"Adana\",\n\"wind-gust\",\n{\n            'v': 84,\n            'f': \"84\",\n        },\n{\n            'v': 0.2,\n            'f': \"0.2\",\n        },\n{\n            'v': 14.5,\n            'f': \"14.5\",\n        },\n{\n            'v': 11.3,\n            'f': \"11.3\",\n        },\n{\n            'v': 312.39,\n            'f': \"312.39\",\n        }],\n [{\n            'v': 552601,\n            'f': \"552601\",\n        },\n\"2019-12-09\",\n\"TR\",\n\"Adana\",\n\"wind-gust\",\n{\n            'v': 96,\n            'f': \"96\",\n        },\n{\n            'v': 1.3,\n            'f': \"1.3\",\n        },\n{\n            'v': 19.3,\n            'f': \"19.3\",\n        },\n{\n            'v': 13.7,\n            'f': \"13.7\",\n        },\n{\n            'v': 256.58,\n            'f': \"256.58\",\n        }],\n [{\n            'v': 552602,\n            'f': \"552602\",\n        },\n\"2019-12-14\",\n\"TR\",\n\"Adana\",\n\"wind-gust\",\n{\n            'v': 92,\n            'f': \"92\",\n        },\n{\n            'v': 2.7,\n            'f': \"2.7\",\n        },\n{\n            'v': 33.8,\n            'f': \"33.8\",\n        },\n{\n            'v': 11.7,\n            'f': \"11.7\",\n        },\n{\n            'v': 421.95,\n            'f': \"421.95\",\n        }],\n [{\n            'v': 552603,\n            'f': \"552603\",\n        },\n\"2019-10-07\",\n\"TR\",\n\"Adana\",\n\"wind-gust\",\n{\n            'v': 96,\n            'f': \"96\",\n        },\n{\n            'v': 5.2,\n            'f': \"5.2\",\n        },\n{\n            'v': 30.5,\n            'f': \"30.5\",\n        },\n{\n            'v': 13.0,\n            'f': \"13.0\",\n        },\n{\n            'v': 634.92,\n            'f': \"634.92\",\n        }],\n [{\n            'v': 552604,\n            'f': \"552604\",\n        },\n\"2019-10-13\",\n\"TR\",\n\"Adana\",\n\"wind-gust\",\n{\n            'v': 96,\n            'f': \"96\",\n        },\n{\n            'v': 0.1,\n            'f': \"0.1\",\n        },\n{\n            'v': 20.1,\n            'f': \"20.1\",\n        },\n{\n            'v': 12.8,\n            'f': \"12.8\",\n        },\n{\n            'v': 431.9,\n            'f': \"431.9\",\n        }],\n [{\n            'v': 552605,\n            'f': \"552605\",\n        },\n\"2019-10-21\",\n\"TR\",\n\"Adana\",\n\"wind-gust\",\n{\n            'v': 92,\n            'f': \"92\",\n        },\n{\n            'v': 2.0,\n            'f': \"2.0\",\n        },\n{\n            'v': 22.2,\n            'f': \"22.2\",\n        },\n{\n            'v': 9.3,\n            'f': \"9.3\",\n        },\n{\n            'v': 251.36,\n            'f': \"251.36\",\n        }],\n [{\n            'v': 552606,\n            'f': \"552606\",\n        },\n\"2019-11-01\",\n\"TR\",\n\"Adana\",\n\"wind-gust\",\n{\n            'v': 64,\n            'f': \"64\",\n        },\n{\n            'v': 0.1,\n            'f': \"0.1\",\n        },\n{\n            'v': 20.7,\n            'f': \"20.7\",\n        },\n{\n            'v': 11.2,\n            'f': \"11.2\",\n        },\n{\n            'v': 283.28,\n            'f': \"283.28\",\n        }],\n [{\n            'v': 552607,\n            'f': \"552607\",\n        },\n\"2019-11-17\",\n\"TR\",\n\"Adana\",\n\"wind-gust\",\n{\n            'v': 96,\n            'f': \"96\",\n        },\n{\n            'v': 0.7,\n            'f': \"0.7\",\n        },\n{\n            'v': 25.9,\n            'f': \"25.9\",\n        },\n{\n            'v': 13.8,\n            'f': \"13.8\",\n        },\n{\n            'v': 405.56,\n            'f': \"405.56\",\n        }],\n [{\n            'v': 552608,\n            'f': \"552608\",\n        },\n\"2019-10-03\",\n\"TR\",\n\"Adana\",\n\"wind-gust\",\n{\n            'v': 96,\n            'f': \"96\",\n        },\n{\n            'v': 5.2,\n            'f': \"5.2\",\n        },\n{\n            'v': 26.6,\n            'f': \"26.6\",\n        },\n{\n            'v': 11.3,\n            'f': \"11.3\",\n        },\n{\n            'v': 418.66,\n            'f': \"418.66\",\n        }],\n [{\n            'v': 552609,\n            'f': \"552609\",\n        },\n\"2019-10-17\",\n\"TR\",\n\"Adana\",\n\"wind-gust\",\n{\n            'v': 88,\n            'f': \"88\",\n        },\n{\n            'v': 3.3,\n            'f': \"3.3\",\n        },\n{\n            'v': 21.3,\n            'f': \"21.3\",\n        },\n{\n            'v': 15.9,\n            'f': \"15.9\",\n        },\n{\n            'v': 237.72,\n            'f': \"237.72\",\n        }],\n [{\n            'v': 552610,\n            'f': \"552610\",\n        },\n\"2019-10-31\",\n\"TR\",\n\"Adana\",\n\"wind-gust\",\n{\n            'v': 92,\n            'f': \"92\",\n        },\n{\n            'v': 0.3,\n            'f': \"0.3\",\n        },\n{\n            'v': 16.9,\n            'f': \"16.9\",\n        },\n{\n            'v': 11.2,\n            'f': \"11.2\",\n        },\n{\n            'v': 321.77,\n            'f': \"321.77\",\n        }],\n [{\n            'v': 552611,\n            'f': \"552611\",\n        },\n\"2019-11-05\",\n\"TR\",\n\"Adana\",\n\"wind-gust\",\n{\n            'v': 68,\n            'f': \"68\",\n        },\n{\n            'v': 0.9,\n            'f': \"0.9\",\n        },\n{\n            'v': 21.9,\n            'f': \"21.9\",\n        },\n{\n            'v': 18.3,\n            'f': \"18.3\",\n        },\n{\n            'v': 470.88,\n            'f': \"470.88\",\n        }],\n [{\n            'v': 552612,\n            'f': \"552612\",\n        },\n\"2019-11-26\",\n\"TR\",\n\"Adana\",\n\"wind-gust\",\n{\n            'v': 84,\n            'f': \"84\",\n        },\n{\n            'v': 0.2,\n            'f': \"0.2\",\n        },\n{\n            'v': 16.0,\n            'f': \"16.0\",\n        },\n{\n            'v': 11.0,\n            'f': \"11.0\",\n        },\n{\n            'v': 264.56,\n            'f': \"264.56\",\n        }],\n [{\n            'v': 552613,\n            'f': \"552613\",\n        },\n\"2019-12-06\",\n\"TR\",\n\"Adana\",\n\"wind-gust\",\n{\n            'v': 84,\n            'f': \"84\",\n        },\n{\n            'v': 0.9,\n            'f': \"0.9\",\n        },\n{\n            'v': 20.1,\n            'f': \"20.1\",\n        },\n{\n            'v': 13.3,\n            'f': \"13.3\",\n        },\n{\n            'v': 203.84,\n            'f': \"203.84\",\n        }],\n [{\n            'v': 552614,\n            'f': \"552614\",\n        },\n\"2019-12-21\",\n\"TR\",\n\"Adana\",\n\"wind-gust\",\n{\n            'v': 48,\n            'f': \"48\",\n        },\n{\n            'v': 0.5,\n            'f': \"0.5\",\n        },\n{\n            'v': 11.6,\n            'f': \"11.6\",\n        },\n{\n            'v': 9.0,\n            'f': \"9.0\",\n        },\n{\n            'v': 181.44,\n            'f': \"181.44\",\n        }],\n [{\n            'v': 552615,\n            'f': \"552615\",\n        },\n\"2019-10-05\",\n\"TR\",\n\"Adana\",\n\"wind-gust\",\n{\n            'v': 96,\n            'f': \"96\",\n        },\n{\n            'v': 5.1,\n            'f': \"5.1\",\n        },\n{\n            'v': 16.5,\n            'f': \"16.5\",\n        },\n{\n            'v': 8.1,\n            'f': \"8.1\",\n        },\n{\n            'v': 121.93,\n            'f': \"121.93\",\n        }],\n [{\n            'v': 552616,\n            'f': \"552616\",\n        },\n\"2019-10-18\",\n\"TR\",\n\"Adana\",\n\"wind-gust\",\n{\n            'v': 96,\n            'f': \"96\",\n        },\n{\n            'v': 3.1,\n            'f': \"3.1\",\n        },\n{\n            'v': 15.2,\n            'f': \"15.2\",\n        },\n{\n            'v': 9.6,\n            'f': \"9.6\",\n        },\n{\n            'v': 134.3,\n            'f': \"134.3\",\n        }],\n [{\n            'v': 552617,\n            'f': \"552617\",\n        },\n\"2019-10-19\",\n\"TR\",\n\"Adana\",\n\"wind-gust\",\n{\n            'v': 96,\n            'f': \"96\",\n        },\n{\n            'v': 5.0,\n            'f': \"5.0\",\n        },\n{\n            'v': 17.1,\n            'f': \"17.1\",\n        },\n{\n            'v': 10.4,\n            'f': \"10.4\",\n        },\n{\n            'v': 113.31,\n            'f': \"113.31\",\n        }],\n [{\n            'v': 552618,\n            'f': \"552618\",\n        },\n\"2019-11-24\",\n\"TR\",\n\"Adana\",\n\"wind-gust\",\n{\n            'v': 76,\n            'f': \"76\",\n        },\n{\n            'v': 0.1,\n            'f': \"0.1\",\n        },\n{\n            'v': 18.2,\n            'f': \"18.2\",\n        },\n{\n            'v': 15.5,\n            'f': \"15.5\",\n        },\n{\n            'v': 384.6,\n            'f': \"384.6\",\n        }],\n [{\n            'v': 552619,\n            'f': \"552619\",\n        },\n\"2019-12-03\",\n\"TR\",\n\"Adana\",\n\"wind-gust\",\n{\n            'v': 72,\n            'f': \"72\",\n        },\n{\n            'v': 0.4,\n            'f': \"0.4\",\n        },\n{\n            'v': 17.8,\n            'f': \"17.8\",\n        },\n{\n            'v': 14.3,\n            'f': \"14.3\",\n        },\n{\n            'v': 294.11,\n            'f': \"294.11\",\n        }],\n [{\n            'v': 552620,\n            'f': \"552620\",\n        },\n\"2019-09-30\",\n\"TR\",\n\"Adana\",\n\"wind-gust\",\n{\n            'v': 96,\n            'f': \"96\",\n        },\n{\n            'v': 4.9,\n            'f': \"4.9\",\n        },\n{\n            'v': 16.7,\n            'f': \"16.7\",\n        },\n{\n            'v': 11.0,\n            'f': \"11.0\",\n        },\n{\n            'v': 143.53,\n            'f': \"143.53\",\n        }],\n [{\n            'v': 552621,\n            'f': \"552621\",\n        },\n\"2019-10-16\",\n\"TR\",\n\"Adana\",\n\"wind-gust\",\n{\n            'v': 96,\n            'f': \"96\",\n        },\n{\n            'v': 1.0,\n            'f': \"1.0\",\n        },\n{\n            'v': 27.5,\n            'f': \"27.5\",\n        },\n{\n            'v': 9.5,\n            'f': \"9.5\",\n        },\n{\n            'v': 467.59,\n            'f': \"467.59\",\n        }],\n [{\n            'v': 552622,\n            'f': \"552622\",\n        },\n\"2019-11-07\",\n\"TR\",\n\"Adana\",\n\"wind-gust\",\n{\n            'v': 72,\n            'f': \"72\",\n        },\n{\n            'v': 0.2,\n            'f': \"0.2\",\n        },\n{\n            'v': 20.0,\n            'f': \"20.0\",\n        },\n{\n            'v': 17.0,\n            'f': \"17.0\",\n        },\n{\n            'v': 447.45,\n            'f': \"447.45\",\n        }],\n [{\n            'v': 552623,\n            'f': \"552623\",\n        },\n\"2019-12-24\",\n\"TR\",\n\"Adana\",\n\"wind-gust\",\n{\n            'v': 96,\n            'f': \"96\",\n        },\n{\n            'v': 28.5,\n            'f': \"28.5\",\n        },\n{\n            'v': 51.4,\n            'f': \"51.4\",\n        },\n{\n            'v': 42.9,\n            'f': \"42.9\",\n        },\n{\n            'v': 307.59,\n            'f': \"307.59\",\n        }],\n [{\n            'v': 552624,\n            'f': \"552624\",\n        },\n\"2019-10-08\",\n\"TR\",\n\"Adana\",\n\"wind-gust\",\n{\n            'v': 96,\n            'f': \"96\",\n        },\n{\n            'v': 1.8,\n            'f': \"1.8\",\n        },\n{\n            'v': 16.7,\n            'f': \"16.7\",\n        },\n{\n            'v': 10.6,\n            'f': \"10.6\",\n        },\n{\n            'v': 178.54,\n            'f': \"178.54\",\n        }],\n [{\n            'v': 552625,\n            'f': \"552625\",\n        },\n\"2019-10-15\",\n\"TR\",\n\"Adana\",\n\"wind-gust\",\n{\n            'v': 92,\n            'f': \"92\",\n        },\n{\n            'v': 0.5,\n            'f': \"0.5\",\n        },\n{\n            'v': 21.7,\n            'f': \"21.7\",\n        },\n{\n            'v': 16.3,\n            'f': \"16.3\",\n        },\n{\n            'v': 404.78,\n            'f': \"404.78\",\n        }],\n [{\n            'v': 552626,\n            'f': \"552626\",\n        },\n\"2019-10-22\",\n\"TR\",\n\"Adana\",\n\"wind-gust\",\n{\n            'v': 96,\n            'f': \"96\",\n        },\n{\n            'v': 0.5,\n            'f': \"0.5\",\n        },\n{\n            'v': 18.2,\n            'f': \"18.2\",\n        },\n{\n            'v': 12.3,\n            'f': \"12.3\",\n        },\n{\n            'v': 187.23,\n            'f': \"187.23\",\n        }],\n [{\n            'v': 552627,\n            'f': \"552627\",\n        },\n\"2019-12-18\",\n\"TR\",\n\"Adana\",\n\"wind-gust\",\n{\n            'v': 64,\n            'f': \"64\",\n        },\n{\n            'v': 0.1,\n            'f': \"0.1\",\n        },\n{\n            'v': 15.9,\n            'f': \"15.9\",\n        },\n{\n            'v': 10.3,\n            'f': \"10.3\",\n        },\n{\n            'v': 254.13,\n            'f': \"254.13\",\n        }],\n [{\n            'v': 552628,\n            'f': \"552628\",\n        },\n\"2019-12-20\",\n\"TR\",\n\"Adana\",\n\"wind-gust\",\n{\n            'v': 64,\n            'f': \"64\",\n        },\n{\n            'v': 0.1,\n            'f': \"0.1\",\n        },\n{\n            'v': 13.4,\n            'f': \"13.4\",\n        },\n{\n            'v': 5.5,\n            'f': \"5.5\",\n        },\n{\n            'v': 215.61,\n            'f': \"215.61\",\n        }],\n [{\n            'v': 552629,\n            'f': \"552629\",\n        },\n\"2019-10-10\",\n\"TR\",\n\"Adana\",\n\"wind-gust\",\n{\n            'v': 92,\n            'f': \"92\",\n        },\n{\n            'v': 4.3,\n            'f': \"4.3\",\n        },\n{\n            'v': 15.0,\n            'f': \"15.0\",\n        },\n{\n            'v': 7.6,\n            'f': \"7.6\",\n        },\n{\n            'v': 103.18,\n            'f': \"103.18\",\n        }],\n [{\n            'v': 552630,\n            'f': \"552630\",\n        },\n\"2019-10-29\",\n\"TR\",\n\"Adana\",\n\"wind-gust\",\n{\n            'v': 72,\n            'f': \"72\",\n        },\n{\n            'v': 0.1,\n            'f': \"0.1\",\n        },\n{\n            'v': 16.9,\n            'f': \"16.9\",\n        },\n{\n            'v': 10.9,\n            'f': \"10.9\",\n        },\n{\n            'v': 240.07,\n            'f': \"240.07\",\n        }],\n [{\n            'v': 552631,\n            'f': \"552631\",\n        },\n\"2019-11-02\",\n\"TR\",\n\"Adana\",\n\"wind-gust\",\n{\n            'v': 76,\n            'f': \"76\",\n        },\n{\n            'v': 4.5,\n            'f': \"4.5\",\n        },\n{\n            'v': 26.6,\n            'f': \"26.6\",\n        },\n{\n            'v': 16.2,\n            'f': \"16.2\",\n        },\n{\n            'v': 259.21,\n            'f': \"259.21\",\n        }],\n [{\n            'v': 552632,\n            'f': \"552632\",\n        },\n\"2019-11-18\",\n\"TR\",\n\"Adana\",\n\"wind-gust\",\n{\n            'v': 71,\n            'f': \"71\",\n        },\n{\n            'v': 0.1,\n            'f': \"0.1\",\n        },\n{\n            'v': 16.1,\n            'f': \"16.1\",\n        },\n{\n            'v': 10.0,\n            'f': \"10.0\",\n        },\n{\n            'v': 371.52,\n            'f': \"371.52\",\n        }],\n [{\n            'v': 552633,\n            'f': \"552633\",\n        },\n\"2019-12-11\",\n\"TR\",\n\"Adana\",\n\"wind-gust\",\n{\n            'v': 84,\n            'f': \"84\",\n        },\n{\n            'v': 0.7,\n            'f': \"0.7\",\n        },\n{\n            'v': 16.0,\n            'f': \"16.0\",\n        },\n{\n            'v': 11.6,\n            'f': \"11.6\",\n        },\n{\n            'v': 220.73,\n            'f': \"220.73\",\n        }],\n [{\n            'v': 552634,\n            'f': \"552634\",\n        },\n\"2019-12-13\",\n\"TR\",\n\"Adana\",\n\"wind-gust\",\n{\n            'v': 92,\n            'f': \"92\",\n        },\n{\n            'v': 1.0,\n            'f': \"1.0\",\n        },\n{\n            'v': 16.4,\n            'f': \"16.4\",\n        },\n{\n            'v': 11.9,\n            'f': \"11.9\",\n        },\n{\n            'v': 111.35,\n            'f': \"111.35\",\n        }],\n [{\n            'v': 552635,\n            'f': \"552635\",\n        },\n\"2019-12-25\",\n\"TR\",\n\"Adana\",\n\"wind-gust\",\n{\n            'v': 96,\n            'f': \"96\",\n        },\n{\n            'v': 4.1,\n            'f': \"4.1\",\n        },\n{\n            'v': 38.3,\n            'f': \"38.3\",\n        },\n{\n            'v': 11.3,\n            'f': \"11.3\",\n        },\n{\n            'v': 677.02,\n            'f': \"677.02\",\n        }],\n [{\n            'v': 552636,\n            'f': \"552636\",\n        },\n\"2019-12-27\",\n\"TR\",\n\"Adana\",\n\"wind-gust\",\n{\n            'v': 80,\n            'f': \"80\",\n        },\n{\n            'v': 0.2,\n            'f': \"0.2\",\n        },\n{\n            'v': 14.5,\n            'f': \"14.5\",\n        },\n{\n            'v': 7.6,\n            'f': \"7.6\",\n        },\n{\n            'v': 222.21,\n            'f': \"222.21\",\n        }],\n [{\n            'v': 552637,\n            'f': \"552637\",\n        },\n\"2019-10-20\",\n\"TR\",\n\"Adana\",\n\"wind-gust\",\n{\n            'v': 96,\n            'f': \"96\",\n        },\n{\n            'v': 5.0,\n            'f': \"5.0\",\n        },\n{\n            'v': 22.0,\n            'f': \"22.0\",\n        },\n{\n            'v': 9.8,\n            'f': \"9.8\",\n        },\n{\n            'v': 227.31,\n            'f': \"227.31\",\n        }],\n [{\n            'v': 552638,\n            'f': \"552638\",\n        },\n\"2019-11-06\",\n\"TR\",\n\"Adana\",\n\"wind-gust\",\n{\n            'v': 60,\n            'f': \"60\",\n        },\n{\n            'v': 3.8,\n            'f': \"3.8\",\n        },\n{\n            'v': 21.0,\n            'f': \"21.0\",\n        },\n{\n            'v': 17.6,\n            'f': \"17.6\",\n        },\n{\n            'v': 290.42,\n            'f': \"290.42\",\n        }],\n [{\n            'v': 552639,\n            'f': \"552639\",\n        },\n\"2019-11-08\",\n\"TR\",\n\"Adana\",\n\"wind-gust\",\n{\n            'v': 88,\n            'f': \"88\",\n        },\n{\n            'v': 0.2,\n            'f': \"0.2\",\n        },\n{\n            'v': 20.3,\n            'f': \"20.3\",\n        },\n{\n            'v': 14.6,\n            'f': \"14.6\",\n        },\n{\n            'v': 584.13,\n            'f': \"584.13\",\n        }],\n [{\n            'v': 552640,\n            'f': \"552640\",\n        },\n\"2019-11-12\",\n\"TR\",\n\"Adana\",\n\"wind-gust\",\n{\n            'v': 68,\n            'f': \"68\",\n        },\n{\n            'v': 0.2,\n            'f': \"0.2\",\n        },\n{\n            'v': 19.1,\n            'f': \"19.1\",\n        },\n{\n            'v': 15.5,\n            'f': \"15.5\",\n        },\n{\n            'v': 393.59,\n            'f': \"393.59\",\n        }],\n [{\n            'v': 552641,\n            'f': \"552641\",\n        },\n\"2019-12-28\",\n\"TR\",\n\"Adana\",\n\"wind-gust\",\n{\n            'v': 92,\n            'f': \"92\",\n        },\n{\n            'v': 0.8,\n            'f': \"0.8\",\n        },\n{\n            'v': 15.8,\n            'f': \"15.8\",\n        },\n{\n            'v': 9.4,\n            'f': \"9.4\",\n        },\n{\n            'v': 228.47,\n            'f': \"228.47\",\n        }],\n [{\n            'v': 552642,\n            'f': \"552642\",\n        },\n\"2020-01-05\",\n\"TR\",\n\"Adana\",\n\"wind-gust\",\n{\n            'v': 72,\n            'f': \"72\",\n        },\n{\n            'v': 0.2,\n            'f': \"0.2\",\n        },\n{\n            'v': 17.3,\n            'f': \"17.3\",\n        },\n{\n            'v': 6.6,\n            'f': \"6.6\",\n        },\n{\n            'v': 231.13,\n            'f': \"231.13\",\n        }],\n [{\n            'v': 552643,\n            'f': \"552643\",\n        },\n\"2019-10-09\",\n\"TR\",\n\"Adana\",\n\"wind-gust\",\n{\n            'v': 96,\n            'f': \"96\",\n        },\n{\n            'v': 5.5,\n            'f': \"5.5\",\n        },\n{\n            'v': 16.6,\n            'f': \"16.6\",\n        },\n{\n            'v': 10.9,\n            'f': \"10.9\",\n        },\n{\n            'v': 68.26,\n            'f': \"68.26\",\n        }],\n [{\n            'v': 552644,\n            'f': \"552644\",\n        },\n\"2019-10-11\",\n\"TR\",\n\"Adana\",\n\"wind-gust\",\n{\n            'v': 96,\n            'f': \"96\",\n        },\n{\n            'v': 1.1,\n            'f': \"1.1\",\n        },\n{\n            'v': 14.7,\n            'f': \"14.7\",\n        },\n{\n            'v': 9.0,\n            'f': \"9.0\",\n        },\n{\n            'v': 130.13,\n            'f': \"130.13\",\n        }],\n [{\n            'v': 552645,\n            'f': \"552645\",\n        },\n\"2019-10-14\",\n\"TR\",\n\"Adana\",\n\"wind-gust\",\n{\n            'v': 88,\n            'f': \"88\",\n        },\n{\n            'v': 0.5,\n            'f': \"0.5\",\n        },\n{\n            'v': 21.5,\n            'f': \"21.5\",\n        },\n{\n            'v': 16.7,\n            'f': \"16.7\",\n        },\n{\n            'v': 571.78,\n            'f': \"571.78\",\n        }],\n [{\n            'v': 552646,\n            'f': \"552646\",\n        },\n\"2019-11-11\",\n\"TR\",\n\"Adana\",\n\"wind-gust\",\n{\n            'v': 64,\n            'f': \"64\",\n        },\n{\n            'v': 0.1,\n            'f': \"0.1\",\n        },\n{\n            'v': 18.4,\n            'f': \"18.4\",\n        },\n{\n            'v': 16.8,\n            'f': \"16.8\",\n        },\n{\n            'v': 437.41,\n            'f': \"437.41\",\n        }],\n [{\n            'v': 552647,\n            'f': \"552647\",\n        },\n\"2019-11-13\",\n\"TR\",\n\"Adana\",\n\"wind-gust\",\n{\n            'v': 68,\n            'f': \"68\",\n        },\n{\n            'v': 1.6,\n            'f': \"1.6\",\n        },\n{\n            'v': 21.6,\n            'f': \"21.6\",\n        },\n{\n            'v': 17.5,\n            'f': \"17.5\",\n        },\n{\n            'v': 358.98,\n            'f': \"358.98\",\n        }],\n [{\n            'v': 552648,\n            'f': \"552648\",\n        },\n\"2019-11-19\",\n\"TR\",\n\"Adana\",\n\"wind-gust\",\n{\n            'v': 79,\n            'f': \"79\",\n        },\n{\n            'v': 0.1,\n            'f': \"0.1\",\n        },\n{\n            'v': 18.7,\n            'f': \"18.7\",\n        },\n{\n            'v': 9.0,\n            'f': \"9.0\",\n        },\n{\n            'v': 469.69,\n            'f': \"469.69\",\n        }],\n [{\n            'v': 552649,\n            'f': \"552649\",\n        },\n\"2019-11-28\",\n\"TR\",\n\"Adana\",\n\"wind-gust\",\n{\n            'v': 68,\n            'f': \"68\",\n        },\n{\n            'v': 0.1,\n            'f': \"0.1\",\n        },\n{\n            'v': 16.0,\n            'f': \"16.0\",\n        },\n{\n            'v': 12.6,\n            'f': \"12.6\",\n        },\n{\n            'v': 351.11,\n            'f': \"351.11\",\n        }],\n [{\n            'v': 552650,\n            'f': \"552650\",\n        },\n\"2019-12-15\",\n\"TR\",\n\"Adana\",\n\"wind-gust\",\n{\n            'v': 88,\n            'f': \"88\",\n        },\n{\n            'v': 0.2,\n            'f': \"0.2\",\n        },\n{\n            'v': 13.7,\n            'f': \"13.7\",\n        },\n{\n            'v': 7.3,\n            'f': \"7.3\",\n        },\n{\n            'v': 161.64,\n            'f': \"161.64\",\n        }],\n [{\n            'v': 552651,\n            'f': \"552651\",\n        },\n\"2019-10-12\",\n\"TR\",\n\"Adana\",\n\"wind-gust\",\n{\n            'v': 96,\n            'f': \"96\",\n        },\n{\n            'v': 3.6,\n            'f': \"3.6\",\n        },\n{\n            'v': 14.1,\n            'f': \"14.1\",\n        },\n{\n            'v': 9.0,\n            'f': \"9.0\",\n        },\n{\n            'v': 79.45,\n            'f': \"79.45\",\n        }],\n [{\n            'v': 552652,\n            'f': \"552652\",\n        },\n\"2019-10-27\",\n\"TR\",\n\"Adana\",\n\"wind-gust\",\n{\n            'v': 88,\n            'f': \"88\",\n        },\n{\n            'v': 0.2,\n            'f': \"0.2\",\n        },\n{\n            'v': 30.4,\n            'f': \"30.4\",\n        },\n{\n            'v': 13.7,\n            'f': \"13.7\",\n        },\n{\n            'v': 410.94,\n            'f': \"410.94\",\n        }],\n [{\n            'v': 552653,\n            'f': \"552653\",\n        },\n\"2019-11-09\",\n\"TR\",\n\"Adana\",\n\"wind-gust\",\n{\n            'v': 80,\n            'f': \"80\",\n        },\n{\n            'v': 0.1,\n            'f': \"0.1\",\n        },\n{\n            'v': 21.0,\n            'f': \"21.0\",\n        },\n{\n            'v': 16.4,\n            'f': \"16.4\",\n        },\n{\n            'v': 622.0,\n            'f': \"622.0\",\n        }],\n [{\n            'v': 552654,\n            'f': \"552654\",\n        },\n\"2019-12-02\",\n\"TR\",\n\"Adana\",\n\"wind-gust\",\n{\n            'v': 96,\n            'f': \"96\",\n        },\n{\n            'v': 7.3,\n            'f': \"7.3\",\n        },\n{\n            'v': 20.7,\n            'f': \"20.7\",\n        },\n{\n            'v': 12.8,\n            'f': \"12.8\",\n        },\n{\n            'v': 133.24,\n            'f': \"133.24\",\n        }],\n [{\n            'v': 552655,\n            'f': \"552655\",\n        },\n\"2020-01-04\",\n\"TR\",\n\"Adana\",\n\"wind-gust\",\n{\n            'v': 80,\n            'f': \"80\",\n        },\n{\n            'v': 0.2,\n            'f': \"0.2\",\n        },\n{\n            'v': 11.8,\n            'f': \"11.8\",\n        },\n{\n            'v': 6.1,\n            'f': \"6.1\",\n        },\n{\n            'v': 114.43,\n            'f': \"114.43\",\n        }],\n [{\n            'v': 552656,\n            'f': \"552656\",\n        },\n\"2019-10-25\",\n\"TR\",\n\"Adana\",\n\"wind-gust\",\n{\n            'v': 96,\n            'f': \"96\",\n        },\n{\n            'v': 1.2,\n            'f': \"1.2\",\n        },\n{\n            'v': 20.8,\n            'f': \"20.8\",\n        },\n{\n            'v': 10.2,\n            'f': \"10.2\",\n        },\n{\n            'v': 308.15,\n            'f': \"308.15\",\n        }],\n [{\n            'v': 552657,\n            'f': \"552657\",\n        },\n\"2019-10-26\",\n\"TR\",\n\"Adana\",\n\"wind-gust\",\n{\n            'v': 92,\n            'f': \"92\",\n        },\n{\n            'v': 0.1,\n            'f': \"0.1\",\n        },\n{\n            'v': 15.1,\n            'f': \"15.1\",\n        },\n{\n            'v': 7.5,\n            'f': \"7.5\",\n        },\n{\n            'v': 239.6,\n            'f': \"239.6\",\n        }],\n [{\n            'v': 552658,\n            'f': \"552658\",\n        },\n\"2019-11-14\",\n\"TR\",\n\"Adana\",\n\"wind-gust\",\n{\n            'v': 72,\n            'f': \"72\",\n        },\n{\n            'v': 0.1,\n            'f': \"0.1\",\n        },\n{\n            'v': 20.5,\n            'f': \"20.5\",\n        },\n{\n            'v': 18.0,\n            'f': \"18.0\",\n        },\n{\n            'v': 523.08,\n            'f': \"523.08\",\n        }],\n [{\n            'v': 552659,\n            'f': \"552659\",\n        },\n\"2019-11-27\",\n\"TR\",\n\"Adana\",\n\"wind-gust\",\n{\n            'v': 96,\n            'f': \"96\",\n        },\n{\n            'v': 3.5,\n            'f': \"3.5\",\n        },\n{\n            'v': 22.2,\n            'f': \"22.2\",\n        },\n{\n            'v': 14.4,\n            'f': \"14.4\",\n        },\n{\n            'v': 141.8,\n            'f': \"141.8\",\n        }],\n [{\n            'v': 552660,\n            'f': \"552660\",\n        },\n\"2019-12-10\",\n\"TR\",\n\"Adana\",\n\"wind-gust\",\n{\n            'v': 72,\n            'f': \"72\",\n        },\n{\n            'v': 0.1,\n            'f': \"0.1\",\n        },\n{\n            'v': 15.0,\n            'f': \"15.0\",\n        },\n{\n            'v': 10.3,\n            'f': \"10.3\",\n        },\n{\n            'v': 355.6,\n            'f': \"355.6\",\n        }],\n [{\n            'v': 552661,\n            'f': \"552661\",\n        },\n\"2019-12-17\",\n\"TR\",\n\"Adana\",\n\"wind-gust\",\n{\n            'v': 64,\n            'f': \"64\",\n        },\n{\n            'v': 0.2,\n            'f': \"0.2\",\n        },\n{\n            'v': 12.5,\n            'f': \"12.5\",\n        },\n{\n            'v': 8.0,\n            'f': \"8.0\",\n        },\n{\n            'v': 169.94,\n            'f': \"169.94\",\n        }],\n [{\n            'v': 552662,\n            'f': \"552662\",\n        },\n\"2019-12-22\",\n\"TR\",\n\"Adana\",\n\"wind-gust\",\n{\n            'v': 84,\n            'f': \"84\",\n        },\n{\n            'v': 0.2,\n            'f': \"0.2\",\n        },\n{\n            'v': 14.1,\n            'f': \"14.1\",\n        },\n{\n            'v': 5.5,\n            'f': \"5.5\",\n        },\n{\n            'v': 210.9,\n            'f': \"210.9\",\n        }],\n [{\n            'v': 552663,\n            'f': \"552663\",\n        },\n\"2019-10-28\",\n\"TR\",\n\"Adana\",\n\"wind-gust\",\n{\n            'v': 96,\n            'f': \"96\",\n        },\n{\n            'v': 2.8,\n            'f': \"2.8\",\n        },\n{\n            'v': 28.4,\n            'f': \"28.4\",\n        },\n{\n            'v': 15.3,\n            'f': \"15.3\",\n        },\n{\n            'v': 338.47,\n            'f': \"338.47\",\n        }],\n [{\n            'v': 552664,\n            'f': \"552664\",\n        },\n\"2019-11-20\",\n\"TR\",\n\"Adana\",\n\"wind-gust\",\n{\n            'v': 68,\n            'f': \"68\",\n        },\n{\n            'v': 0.1,\n            'f': \"0.1\",\n        },\n{\n            'v': 18.3,\n            'f': \"18.3\",\n        },\n{\n            'v': 11.2,\n            'f': \"11.2\",\n        },\n{\n            'v': 369.54,\n            'f': \"369.54\",\n        }],\n [{\n            'v': 552665,\n            'f': \"552665\",\n        },\n\"2020-01-03\",\n\"TR\",\n\"Adana\",\n\"wind-gust\",\n{\n            'v': 4,\n            'f': \"4\",\n        },\n{\n            'v': 5.6,\n            'f': \"5.6\",\n        },\n{\n            'v': 5.6,\n            'f': \"5.6\",\n        },\n{\n            'v': 5.6,\n            'f': \"5.6\",\n        },\n{\n            'v': 0.0,\n            'f': \"0.0\",\n        }],\n [{\n            'v': 552666,\n            'f': \"552666\",\n        },\n\"2019-10-04\",\n\"TR\",\n\"Adana\",\n\"wind-gust\",\n{\n            'v': 96,\n            'f': \"96\",\n        },\n{\n            'v': 5.2,\n            'f': \"5.2\",\n        },\n{\n            'v': 17.2,\n            'f': \"17.2\",\n        },\n{\n            'v': 9.8,\n            'f': \"9.8\",\n        },\n{\n            'v': 119.08,\n            'f': \"119.08\",\n        }],\n [{\n            'v': 552667,\n            'f': \"552667\",\n        },\n\"2019-11-10\",\n\"TR\",\n\"Adana\",\n\"wind-gust\",\n{\n            'v': 60,\n            'f': \"60\",\n        },\n{\n            'v': 5.8,\n            'f': \"5.8\",\n        },\n{\n            'v': 21.6,\n            'f': \"21.6\",\n        },\n{\n            'v': 19.6,\n            'f': \"19.6\",\n        },\n{\n            'v': 152.97,\n            'f': \"152.97\",\n        }],\n [{\n            'v': 552668,\n            'f': \"552668\",\n        },\n\"2019-11-30\",\n\"TR\",\n\"Adana\",\n\"wind-gust\",\n{\n            'v': 92,\n            'f': \"92\",\n        },\n{\n            'v': 0.2,\n            'f': \"0.2\",\n        },\n{\n            'v': 13.3,\n            'f': \"13.3\",\n        },\n{\n            'v': 7.8,\n            'f': \"7.8\",\n        },\n{\n            'v': 149.18,\n            'f': \"149.18\",\n        }],\n [{\n            'v': 552669,\n            'f': \"552669\",\n        },\n\"2019-12-23\",\n\"TR\",\n\"Adana\",\n\"wind-gust\",\n{\n            'v': 84,\n            'f': \"84\",\n        },\n{\n            'v': 0.1,\n            'f': \"0.1\",\n        },\n{\n            'v': 36.7,\n            'f': \"36.7\",\n        },\n{\n            'v': 14.2,\n            'f': \"14.2\",\n        },\n{\n            'v': 1388.23,\n            'f': \"1388.23\",\n        }],\n [{\n            'v': 552775,\n            'f': \"552775\",\n        },\n\"2019-10-22\",\n\"TR\",\n\"Kayseri\",\n\"wind-gust\",\n{\n            'v': 12,\n            'f': \"12\",\n        },\n{\n            'v': 9.7,\n            'f': \"9.7\",\n        },\n{\n            'v': 10.8,\n            'f': \"10.8\",\n        },\n{\n            'v': 9.7,\n            'f': \"9.7\",\n        },\n{\n            'v': 3.3,\n            'f': \"3.3\",\n        }],\n [{\n            'v': 552776,\n            'f': \"552776\",\n        },\n\"2019-10-24\",\n\"TR\",\n\"Kayseri\",\n\"wind-gust\",\n{\n            'v': 6,\n            'f': \"6\",\n        },\n{\n            'v': 6.6,\n            'f': \"6.6\",\n        },\n{\n            'v': 6.6,\n            'f': \"6.6\",\n        },\n{\n            'v': 6.6,\n            'f': \"6.6\",\n        },\n{\n            'v': 0.0,\n            'f': \"0.0\",\n        }],\n [{\n            'v': 552777,\n            'f': \"552777\",\n        },\n\"2019-11-27\",\n\"TR\",\n\"Kayseri\",\n\"wind-gust\",\n{\n            'v': 4,\n            'f': \"4\",\n        },\n{\n            'v': 11.8,\n            'f': \"11.8\",\n        },\n{\n            'v': 13.6,\n            'f': \"13.6\",\n        },\n{\n            'v': 11.8,\n            'f': \"11.8\",\n        },\n{\n            'v': 10.8,\n            'f': \"10.8\",\n        }],\n [{\n            'v': 552778,\n            'f': \"552778\",\n        },\n\"2019-11-29\",\n\"TR\",\n\"Kayseri\",\n\"wind-gust\",\n{\n            'v': 2,\n            'f': \"2\",\n        },\n{\n            'v': 10.2,\n            'f': \"10.2\",\n        },\n{\n            'v': 10.2,\n            'f': \"10.2\",\n        },\n{\n            'v': 10.2,\n            'f': \"10.2\",\n        },\n{\n            'v': 0.0,\n            'f': \"0.0\",\n        }],\n [{\n            'v': 552779,\n            'f': \"552779\",\n        },\n\"2019-12-23\",\n\"TR\",\n\"Kayseri\",\n\"wind-gust\",\n{\n            'v': 45,\n            'f': \"45\",\n        },\n{\n            'v': 11.8,\n            'f': \"11.8\",\n        },\n{\n            'v': 21.8,\n            'f': \"21.8\",\n        },\n{\n            'v': 17.4,\n            'f': \"17.4\",\n        },\n{\n            'v': 73.21,\n            'f': \"73.21\",\n        }],\n [{\n            'v': 552780,\n            'f': \"552780\",\n        },\n\"2019-12-24\",\n\"TR\",\n\"Kayseri\",\n\"wind-gust\",\n{\n            'v': 42,\n            'f': \"42\",\n        },\n{\n            'v': 10.8,\n            'f': \"10.8\",\n        },\n{\n            'v': 18.5,\n            'f': \"18.5\",\n        },\n{\n            'v': 13.3,\n            'f': \"13.3\",\n        },\n{\n            'v': 32.27,\n            'f': \"32.27\",\n        }],\n [{\n            'v': 552781,\n            'f': \"552781\",\n        },\n\"2019-10-06\",\n\"TR\",\n\"Kayseri\",\n\"wind-gust\",\n{\n            'v': 6,\n            'f': \"6\",\n        },\n{\n            'v': 9.2,\n            'f': \"9.2\",\n        },\n{\n            'v': 16.9,\n            'f': \"16.9\",\n        },\n{\n            'v': 9.2,\n            'f': \"9.2\",\n        },\n{\n            'v': 177.87,\n            'f': \"177.87\",\n        }],\n [{\n            'v': 552782,\n            'f': \"552782\",\n        },\n\"2019-10-10\",\n\"TR\",\n\"Kayseri\",\n\"wind-gust\",\n{\n            'v': 3,\n            'f': \"3\",\n        },\n{\n            'v': 7.2,\n            'f': \"7.2\",\n        },\n{\n            'v': 7.2,\n            'f': \"7.2\",\n        },\n{\n            'v': 7.2,\n            'f': \"7.2\",\n        },\n{\n            'v': 0.0,\n            'f': \"0.0\",\n        }],\n [{\n            'v': 552783,\n            'f': \"552783\",\n        },\n\"2019-12-25\",\n\"TR\",\n\"Kayseri\",\n\"wind-gust\",\n{\n            'v': 9,\n            'f': \"9\",\n        },\n{\n            'v': 11.8,\n            'f': \"11.8\",\n        },\n{\n            'v': 13.8,\n            'f': \"13.8\",\n        },\n{\n            'v': 13.8,\n            'f': \"13.8\",\n        },\n{\n            'v': 10.0,\n            'f': \"10.0\",\n        }],\n [{\n            'v': 552784,\n            'f': \"552784\",\n        },\n\"2019-12-01\",\n\"TR\",\n\"Kayseri\",\n\"wind-gust\",\n{\n            'v': 2,\n            'f': \"2\",\n        },\n{\n            'v': 15.4,\n            'f': \"15.4\",\n        },\n{\n            'v': 15.4,\n            'f': \"15.4\",\n        },\n{\n            'v': 15.4,\n            'f': \"15.4\",\n        },\n{\n            'v': 0.0,\n            'f': \"0.0\",\n        }],\n [{\n            'v': 552785,\n            'f': \"552785\",\n        },\n\"2019-10-05\",\n\"TR\",\n\"Kayseri\",\n\"wind-gust\",\n{\n            'v': 9,\n            'f': \"9\",\n        },\n{\n            'v': 9.7,\n            'f': \"9.7\",\n        },\n{\n            'v': 14.9,\n            'f': \"14.9\",\n        },\n{\n            'v': 13.8,\n            'f': \"13.8\",\n        },\n{\n            'v': 56.33,\n            'f': \"56.33\",\n        }],\n [{\n            'v': 552786,\n            'f': \"552786\",\n        },\n\"2019-11-26\",\n\"TR\",\n\"Kayseri\",\n\"wind-gust\",\n{\n            'v': 18,\n            'f': \"18\",\n        },\n{\n            'v': 12.3,\n            'f': \"12.3\",\n        },\n{\n            'v': 17.4,\n            'f': \"17.4\",\n        },\n{\n            'v': 13.6,\n            'f': \"13.6\",\n        },\n{\n            'v': 23.26,\n            'f': \"23.26\",\n        }],\n [{\n            'v': 554130,\n            'f': \"554130\",\n        },\n\"2019-12-22\",\n\"TR\",\n\"K\\u00fctahya\",\n\"wind-gust\",\n{\n            'v': 10,\n            'f': \"10\",\n        },\n{\n            'v': 10.2,\n            'f': \"10.2\",\n        },\n{\n            'v': 16.9,\n            'f': \"16.9\",\n        },\n{\n            'v': 12.8,\n            'f': \"12.8\",\n        },\n{\n            'v': 46.4,\n            'f': \"46.4\",\n        }],\n [{\n            'v': 554131,\n            'f': \"554131\",\n        },\n\"2019-12-23\",\n\"TR\",\n\"K\\u00fctahya\",\n\"wind-gust\",\n{\n            'v': 6,\n            'f': \"6\",\n        },\n{\n            'v': 11.3,\n            'f': \"11.3\",\n        },\n{\n            'v': 21.0,\n            'f': \"21.0\",\n        },\n{\n            'v': 13.3,\n            'f': \"13.3\",\n        },\n{\n            'v': 131.26,\n            'f': \"131.26\",\n        }],\n [{\n            'v': 554967,\n            'f': \"554967\",\n        },\n\"2019-12-22\",\n\"TR\",\n\"Bal\\u0131kesir\",\n\"wind-gust\",\n{\n            'v': 19,\n            'f': \"19\",\n        },\n{\n            'v': 10.2,\n            'f': \"10.2\",\n        },\n{\n            'v': 17.4,\n            'f': \"17.4\",\n        },\n{\n            'v': 14.4,\n            'f': \"14.4\",\n        },\n{\n            'v': 25.88,\n            'f': \"25.88\",\n        }],\n [{\n            'v': 554968,\n            'f': \"554968\",\n        },\n\"2019-12-23\",\n\"TR\",\n\"Bal\\u0131kesir\",\n\"wind-gust\",\n{\n            'v': 8,\n            'f': \"8\",\n        },\n{\n            'v': 12.3,\n            'f': \"12.3\",\n        },\n{\n            'v': 14.9,\n            'f': \"14.9\",\n        },\n{\n            'v': 13.3,\n            'f': \"13.3\",\n        },\n{\n            'v': 10.81,\n            'f': \"10.81\",\n        }],\n [{\n            'v': 554969,\n            'f': \"554969\",\n        },\n\"2020-01-05\",\n\"TR\",\n\"Bal\\u0131kesir\",\n\"wind-gust\",\n{\n            'v': 12,\n            'f': \"12\",\n        },\n{\n            'v': 14.9,\n            'f': \"14.9\",\n        },\n{\n            'v': 16.9,\n            'f': \"16.9\",\n        },\n{\n            'v': 15.9,\n            'f': \"15.9\",\n        },\n{\n            'v': 4.92,\n            'f': \"4.92\",\n        }],\n [{\n            'v': 554970,\n            'f': \"554970\",\n        },\n\"2019-11-01\",\n\"TR\",\n\"Bal\\u0131kesir\",\n\"wind-gust\",\n{\n            'v': 2,\n            'f': \"2\",\n        },\n{\n            'v': 10.2,\n            'f': \"10.2\",\n        },\n{\n            'v': 10.2,\n            'f': \"10.2\",\n        },\n{\n            'v': 10.2,\n            'f': \"10.2\",\n        },\n{\n            'v': 0.0,\n            'f': \"0.0\",\n        }],\n [{\n            'v': 554971,\n            'f': \"554971\",\n        },\n\"2019-11-30\",\n\"TR\",\n\"Bal\\u0131kesir\",\n\"wind-gust\",\n{\n            'v': 2,\n            'f': \"2\",\n        },\n{\n            'v': 10.2,\n            'f': \"10.2\",\n        },\n{\n            'v': 10.2,\n            'f': \"10.2\",\n        },\n{\n            'v': 10.2,\n            'f': \"10.2\",\n        },\n{\n            'v': 0.0,\n            'f': \"0.0\",\n        }],\n [{\n            'v': 554972,\n            'f': \"554972\",\n        },\n\"2019-12-04\",\n\"TR\",\n\"Bal\\u0131kesir\",\n\"wind-gust\",\n{\n            'v': 4,\n            'f': \"4\",\n        },\n{\n            'v': 14.4,\n            'f': \"14.4\",\n        },\n{\n            'v': 14.9,\n            'f': \"14.9\",\n        },\n{\n            'v': 14.4,\n            'f': \"14.4\",\n        },\n{\n            'v': 0.83,\n            'f': \"0.83\",\n        }],\n [{\n            'v': 554973,\n            'f': \"554973\",\n        },\n\"2019-12-21\",\n\"TR\",\n\"Bal\\u0131kesir\",\n\"wind-gust\",\n{\n            'v': 3,\n            'f': \"3\",\n        },\n{\n            'v': 9.7,\n            'f': \"9.7\",\n        },\n{\n            'v': 12.3,\n            'f': \"12.3\",\n        },\n{\n            'v': 9.7,\n            'f': \"9.7\",\n        },\n{\n            'v': 22.53,\n            'f': \"22.53\",\n        }],\n [{\n            'v': 554974,\n            'f': \"554974\",\n        },\n\"2019-10-08\",\n\"TR\",\n\"Bal\\u0131kesir\",\n\"wind-gust\",\n{\n            'v': 3,\n            'f': \"3\",\n        },\n{\n            'v': 15.4,\n            'f': \"15.4\",\n        },\n{\n            'v': 16.9,\n            'f': \"16.9\",\n        },\n{\n            'v': 15.4,\n            'f': \"15.4\",\n        },\n{\n            'v': 7.5,\n            'f': \"7.5\",\n        }],\n [{\n            'v': 554975,\n            'f': \"554975\",\n        },\n\"2019-11-04\",\n\"TR\",\n\"Bal\\u0131kesir\",\n\"wind-gust\",\n{\n            'v': 2,\n            'f': \"2\",\n        },\n{\n            'v': 10.2,\n            'f': \"10.2\",\n        },\n{\n            'v': 10.2,\n            'f': \"10.2\",\n        },\n{\n            'v': 10.2,\n            'f': \"10.2\",\n        },\n{\n            'v': 0.0,\n            'f': \"0.0\",\n        }],\n [{\n            'v': 555980,\n            'f': \"555980\",\n        },\n\"2020-01-04\",\n\"TR\",\n\"Adapazar\\u0131\",\n\"wind-gust\",\n{\n            'v': 72,\n            'f': \"72\",\n        },\n{\n            'v': 0.5,\n            'f': \"0.5\",\n        },\n{\n            'v': 7.8,\n            'f': \"7.8\",\n        },\n{\n            'v': 3.6,\n            'f': \"3.6\",\n        },\n{\n            'v': 43.98,\n            'f': \"43.98\",\n        }],\n [{\n            'v': 555981,\n            'f': \"555981\",\n        },\n\"2020-01-05\",\n\"TR\",\n\"Adapazar\\u0131\",\n\"wind-gust\",\n{\n            'v': 72,\n            'f': \"72\",\n        },\n{\n            'v': 0.3,\n            'f': \"0.3\",\n        },\n{\n            'v': 7.0,\n            'f': \"7.0\",\n        },\n{\n            'v': 2.5,\n            'f': \"2.5\",\n        },\n{\n            'v': 28.97,\n            'f': \"28.97\",\n        }],\n [{\n            'v': 555982,\n            'f': \"555982\",\n        },\n\"2019-12-10\",\n\"TR\",\n\"Adapazar\\u0131\",\n\"wind-gust\",\n{\n            'v': 69,\n            'f': \"69\",\n        },\n{\n            'v': 0.2,\n            'f': \"0.2\",\n        },\n{\n            'v': 4.5,\n            'f': \"4.5\",\n        },\n{\n            'v': 2.0,\n            'f': \"2.0\",\n        },\n{\n            'v': 14.93,\n            'f': \"14.93\",\n        }],\n [{\n            'v': 555983,\n            'f': \"555983\",\n        },\n\"2019-11-07\",\n\"TR\",\n\"Adapazar\\u0131\",\n\"wind-gust\",\n{\n            'v': 60,\n            'f': \"60\",\n        },\n{\n            'v': 0.3,\n            'f': \"0.3\",\n        },\n{\n            'v': 19.0,\n            'f': \"19.0\",\n        },\n{\n            'v': 1.6,\n            'f': \"1.6\",\n        },\n{\n            'v': 183.9,\n            'f': \"183.9\",\n        }],\n [{\n            'v': 555984,\n            'f': \"555984\",\n        },\n\"2019-10-08\",\n\"TR\",\n\"Adapazar\\u0131\",\n\"wind-gust\",\n{\n            'v': 72,\n            'f': \"72\",\n        },\n{\n            'v': 4.0,\n            'f': \"4.0\",\n        },\n{\n            'v': 22.5,\n            'f': \"22.5\",\n        },\n{\n            'v': 11.0,\n            'f': \"11.0\",\n        },\n{\n            'v': 218.95,\n            'f': \"218.95\",\n        }],\n [{\n            'v': 555985,\n            'f': \"555985\",\n        },\n\"2019-10-20\",\n\"TR\",\n\"Adapazar\\u0131\",\n\"wind-gust\",\n{\n            'v': 69,\n            'f': \"69\",\n        },\n{\n            'v': 0.2,\n            'f': \"0.2\",\n        },\n{\n            'v': 5.5,\n            'f': \"5.5\",\n        },\n{\n            'v': 1.5,\n            'f': \"1.5\",\n        },\n{\n            'v': 30.11,\n            'f': \"30.11\",\n        }],\n [{\n            'v': 555986,\n            'f': \"555986\",\n        },\n\"2019-12-11\",\n\"TR\",\n\"Adapazar\\u0131\",\n\"wind-gust\",\n{\n            'v': 69,\n            'f': \"69\",\n        },\n{\n            'v': 0.7,\n            'f': \"0.7\",\n        },\n{\n            'v': 9.0,\n            'f': \"9.0\",\n        },\n{\n            'v': 2.1,\n            'f': \"2.1\",\n        },\n{\n            'v': 63.8,\n            'f': \"63.8\",\n        }],\n [{\n            'v': 555987,\n            'f': \"555987\",\n        },\n\"2019-12-12\",\n\"TR\",\n\"Adapazar\\u0131\",\n\"wind-gust\",\n{\n            'v': 63,\n            'f': \"63\",\n        },\n{\n            'v': 0.2,\n            'f': \"0.2\",\n        },\n{\n            'v': 4.5,\n            'f': \"4.5\",\n        },\n{\n            'v': 1.4,\n            'f': \"1.4\",\n        },\n{\n            'v': 13.28,\n            'f': \"13.28\",\n        }],\n [{\n            'v': 555988,\n            'f': \"555988\",\n        },\n\"2019-12-20\",\n\"TR\",\n\"Adapazar\\u0131\",\n\"wind-gust\",\n{\n            'v': 66,\n            'f': \"66\",\n        },\n{\n            'v': 0.1,\n            'f': \"0.1\",\n        },\n{\n            'v': 7.6,\n            'f': \"7.6\",\n        },\n{\n            'v': 2.3,\n            'f': \"2.3\",\n        },\n{\n            'v': 37.24,\n            'f': \"37.24\",\n        }],\n [{\n            'v': 555989,\n            'f': \"555989\",\n        },\n\"2019-12-26\",\n\"TR\",\n\"Adapazar\\u0131\",\n\"wind-gust\",\n{\n            'v': 72,\n            'f': \"72\",\n        },\n{\n            'v': 9.6,\n            'f': \"9.6\",\n        },\n{\n            'v': 16.8,\n            'f': \"16.8\",\n        },\n{\n            'v': 14.0,\n            'f': \"14.0\",\n        },\n{\n            'v': 35.18,\n            'f': \"35.18\",\n        }],\n [{\n            'v': 555990,\n            'f': \"555990\",\n        },\n\"2019-10-13\",\n\"TR\",\n\"Adapazar\\u0131\",\n\"wind-gust\",\n{\n            'v': 72,\n            'f': \"72\",\n        },\n{\n            'v': 0.7,\n            'f': \"0.7\",\n        },\n{\n            'v': 6.5,\n            'f': \"6.5\",\n        },\n{\n            'v': 2.4,\n            'f': \"2.4\",\n        },\n{\n            'v': 32.88,\n            'f': \"32.88\",\n        }],\n [{\n            'v': 555991,\n            'f': \"555991\",\n        },\n\"2019-11-15\",\n\"TR\",\n\"Adapazar\\u0131\",\n\"wind-gust\",\n{\n            'v': 72,\n            'f': \"72\",\n        },\n{\n            'v': 0.5,\n            'f': \"0.5\",\n        },\n{\n            'v': 3.0,\n            'f': \"3.0\",\n        },\n{\n            'v': 1.2,\n            'f': \"1.2\",\n        },\n{\n            'v': 5.96,\n            'f': \"5.96\",\n        }],\n [{\n            'v': 555992,\n            'f': \"555992\",\n        },\n\"2019-12-07\",\n\"TR\",\n\"Adapazar\\u0131\",\n\"wind-gust\",\n{\n            'v': 72,\n            'f': \"72\",\n        },\n{\n            'v': 0.2,\n            'f': \"0.2\",\n        },\n{\n            'v': 10.0,\n            'f': \"10.0\",\n        },\n{\n            'v': 2.5,\n            'f': \"2.5\",\n        },\n{\n            'v': 73.34,\n            'f': \"73.34\",\n        }],\n [{\n            'v': 555993,\n            'f': \"555993\",\n        },\n\"2019-12-08\",\n\"TR\",\n\"Adapazar\\u0131\",\n\"wind-gust\",\n{\n            'v': 72,\n            'f': \"72\",\n        },\n{\n            'v': 0.8,\n            'f': \"0.8\",\n        },\n{\n            'v': 13.7,\n            'f': \"13.7\",\n        },\n{\n            'v': 3.5,\n            'f': \"3.5\",\n        },\n{\n            'v': 102.8,\n            'f': \"102.8\",\n        }],\n [{\n            'v': 555994,\n            'f': \"555994\",\n        },\n\"2019-12-16\",\n\"TR\",\n\"Adapazar\\u0131\",\n\"wind-gust\",\n{\n            'v': 69,\n            'f': \"69\",\n        },\n{\n            'v': 0.2,\n            'f': \"0.2\",\n        },\n{\n            'v': 7.1,\n            'f': \"7.1\",\n        },\n{\n            'v': 2.6,\n            'f': \"2.6\",\n        },\n{\n            'v': 21.34,\n            'f': \"21.34\",\n        }],\n [{\n            'v': 555995,\n            'f': \"555995\",\n        },\n\"2019-10-31\",\n\"TR\",\n\"Adapazar\\u0131\",\n\"wind-gust\",\n{\n            'v': 72,\n            'f': \"72\",\n        },\n{\n            'v': 0.6,\n            'f': \"0.6\",\n        },\n{\n            'v': 9.4,\n            'f': \"9.4\",\n        },\n{\n            'v': 2.1,\n            'f': \"2.1\",\n        },\n{\n            'v': 84.54,\n            'f': \"84.54\",\n        }],\n [{\n            'v': 555996,\n            'f': \"555996\",\n        },\n\"2019-10-26\",\n\"TR\",\n\"Adapazar\\u0131\",\n\"wind-gust\",\n{\n            'v': 72,\n            'f': \"72\",\n        },\n{\n            'v': 0.5,\n            'f': \"0.5\",\n        },\n{\n            'v': 8.4,\n            'f': \"8.4\",\n        },\n{\n            'v': 5.7,\n            'f': \"5.7\",\n        },\n{\n            'v': 43.57,\n            'f': \"43.57\",\n        }],\n [{\n            'v': 555997,\n            'f': \"555997\",\n        },\n\"2019-12-01\",\n\"TR\",\n\"Adapazar\\u0131\",\n\"wind-gust\",\n{\n            'v': 72,\n            'f': \"72\",\n        },\n{\n            'v': 5.0,\n            'f': \"5.0\",\n        },\n{\n            'v': 20.6,\n            'f': \"20.6\",\n        },\n{\n            'v': 14.0,\n            'f': \"14.0\",\n        },\n{\n            'v': 164.83,\n            'f': \"164.83\",\n        }],\n [{\n            'v': 555998,\n            'f': \"555998\",\n        },\n\"2019-12-09\",\n\"TR\",\n\"Adapazar\\u0131\",\n\"wind-gust\",\n{\n            'v': 72,\n            'f': \"72\",\n        },\n{\n            'v': 0.3,\n            'f': \"0.3\",\n        },\n{\n            'v': 7.8,\n            'f': \"7.8\",\n        },\n{\n            'v': 1.8,\n            'f': \"1.8\",\n        },\n{\n            'v': 36.84,\n            'f': \"36.84\",\n        }],\n [{\n            'v': 555999,\n            'f': \"555999\",\n        },\n\"2019-12-13\",\n\"TR\",\n\"Adapazar\\u0131\",\n\"wind-gust\",\n{\n            'v': 66,\n            'f': \"66\",\n        },\n{\n            'v': 0.3,\n            'f': \"0.3\",\n        },\n{\n            'v': 6.4,\n            'f': \"6.4\",\n        },\n{\n            'v': 2.3,\n            'f': \"2.3\",\n        },\n{\n            'v': 37.77,\n            'f': \"37.77\",\n        }],\n [{\n            'v': 556000,\n            'f': \"556000\",\n        },\n\"2019-10-19\",\n\"TR\",\n\"Adapazar\\u0131\",\n\"wind-gust\",\n{\n            'v': 63,\n            'f': \"63\",\n        },\n{\n            'v': 0.1,\n            'f': \"0.1\",\n        },\n{\n            'v': 7.1,\n            'f': \"7.1\",\n        },\n{\n            'v': 2.0,\n            'f': \"2.0\",\n        },\n{\n            'v': 66.8,\n            'f': \"66.8\",\n        }],\n [{\n            'v': 556001,\n            'f': \"556001\",\n        },\n\"2019-10-05\",\n\"TR\",\n\"Adapazar\\u0131\",\n\"wind-gust\",\n{\n            'v': 72,\n            'f': \"72\",\n        },\n{\n            'v': 0.4,\n            'f': \"0.4\",\n        },\n{\n            'v': 12.2,\n            'f': \"12.2\",\n        },\n{\n            'v': 3.4,\n            'f': \"3.4\",\n        },\n{\n            'v': 112.15,\n            'f': \"112.15\",\n        }],\n [{\n            'v': 556002,\n            'f': \"556002\",\n        },\n\"2019-10-23\",\n\"TR\",\n\"Adapazar\\u0131\",\n\"wind-gust\",\n{\n            'v': 67,\n            'f': \"67\",\n        },\n{\n            'v': 0.2,\n            'f': \"0.2\",\n        },\n{\n            'v': 12.0,\n            'f': \"12.0\",\n        },\n{\n            'v': 3.0,\n            'f': \"3.0\",\n        },\n{\n            'v': 181.81,\n            'f': \"181.81\",\n        }],\n [{\n            'v': 556003,\n            'f': \"556003\",\n        },\n\"2019-10-27\",\n\"TR\",\n\"Adapazar\\u0131\",\n\"wind-gust\",\n{\n            'v': 72,\n            'f': \"72\",\n        },\n{\n            'v': 0.6,\n            'f': \"0.6\",\n        },\n{\n            'v': 9.8,\n            'f': \"9.8\",\n        },\n{\n            'v': 6.3,\n            'f': \"6.3\",\n        },\n{\n            'v': 58.31,\n            'f': \"58.31\",\n        }],\n [{\n            'v': 556004,\n            'f': \"556004\",\n        },\n\"2019-11-16\",\n\"TR\",\n\"Adapazar\\u0131\",\n\"wind-gust\",\n{\n            'v': 72,\n            'f': \"72\",\n        },\n{\n            'v': 1.5,\n            'f': \"1.5\",\n        },\n{\n            'v': 13.5,\n            'f': \"13.5\",\n        },\n{\n            'v': 5.5,\n            'f': \"5.5\",\n        },\n{\n            'v': 149.24,\n            'f': \"149.24\",\n        }],\n [{\n            'v': 556005,\n            'f': \"556005\",\n        },\n\"2019-12-21\",\n\"TR\",\n\"Adapazar\\u0131\",\n\"wind-gust\",\n{\n            'v': 72,\n            'f': \"72\",\n        },\n{\n            'v': 1.1,\n            'f': \"1.1\",\n        },\n{\n            'v': 13.0,\n            'f': \"13.0\",\n        },\n{\n            'v': 5.0,\n            'f': \"5.0\",\n        },\n{\n            'v': 153.4,\n            'f': \"153.4\",\n        }],\n [{\n            'v': 556006,\n            'f': \"556006\",\n        },\n\"2019-12-25\",\n\"TR\",\n\"Adapazar\\u0131\",\n\"wind-gust\",\n{\n            'v': 72,\n            'f': \"72\",\n        },\n{\n            'v': 7.0,\n            'f': \"7.0\",\n        },\n{\n            'v': 12.6,\n            'f': \"12.6\",\n        },\n{\n            'v': 9.1,\n            'f': \"9.1\",\n        },\n{\n            'v': 15.17,\n            'f': \"15.17\",\n        }],\n [{\n            'v': 556007,\n            'f': \"556007\",\n        },\n\"2019-10-04\",\n\"TR\",\n\"Adapazar\\u0131\",\n\"wind-gust\",\n{\n            'v': 72,\n            'f': \"72\",\n        },\n{\n            'v': 0.2,\n            'f': \"0.2\",\n        },\n{\n            'v': 15.0,\n            'f': \"15.0\",\n        },\n{\n            'v': 2.8,\n            'f': \"2.8\",\n        },\n{\n            'v': 134.93,\n            'f': \"134.93\",\n        }],\n [{\n            'v': 556008,\n            'f': \"556008\",\n        },\n\"2019-10-18\",\n\"TR\",\n\"Adapazar\\u0131\",\n\"wind-gust\",\n{\n            'v': 51,\n            'f': \"51\",\n        },\n{\n            'v': 0.2,\n            'f': \"0.2\",\n        },\n{\n            'v': 5.5,\n            'f': \"5.5\",\n        },\n{\n            'v': 2.0,\n            'f': \"2.0\",\n        },\n{\n            'v': 35.93,\n            'f': \"35.93\",\n        }],\n [{\n            'v': 556009,\n            'f': \"556009\",\n        },\n\"2019-11-02\",\n\"TR\",\n\"Adapazar\\u0131\",\n\"wind-gust\",\n{\n            'v': 72,\n            'f': \"72\",\n        },\n{\n            'v': 0.7,\n            'f': \"0.7\",\n        },\n{\n            'v': 11.8,\n            'f': \"11.8\",\n        },\n{\n            'v': 2.8,\n            'f': \"2.8\",\n        },\n{\n            'v': 91.62,\n            'f': \"91.62\",\n        }],\n [{\n            'v': 556010,\n            'f': \"556010\",\n        },\n\"2019-11-12\",\n\"TR\",\n\"Adapazar\\u0131\",\n\"wind-gust\",\n{\n            'v': 72,\n            'f': \"72\",\n        },\n{\n            'v': 0.3,\n            'f': \"0.3\",\n        },\n{\n            'v': 3.2,\n            'f': \"3.2\",\n        },\n{\n            'v': 1.1,\n            'f': \"1.1\",\n        },\n{\n            'v': 6.04,\n            'f': \"6.04\",\n        }],\n [{\n            'v': 556011,\n            'f': \"556011\",\n        },\n\"2019-12-03\",\n\"TR\",\n\"Adapazar\\u0131\",\n\"wind-gust\",\n{\n            'v': 33,\n            'f': \"33\",\n        },\n{\n            'v': 0.2,\n            'f': \"0.2\",\n        },\n{\n            'v': 12.0,\n            'f': \"12.0\",\n        },\n{\n            'v': 5.2,\n            'f': \"5.2\",\n        },\n{\n            'v': 122.34,\n            'f': \"122.34\",\n        }],\n [{\n            'v': 556012,\n            'f': \"556012\",\n        },\n\"2019-10-11\",\n\"TR\",\n\"Adapazar\\u0131\",\n\"wind-gust\",\n{\n            'v': 72,\n            'f': \"72\",\n        },\n{\n            'v': 0.6,\n            'f': \"0.6\",\n        },\n{\n            'v': 11.2,\n            'f': \"11.2\",\n        },\n{\n            'v': 5.5,\n            'f': \"5.5\",\n        },\n{\n            'v': 82.45,\n            'f': \"82.45\",\n        }],\n [{\n            'v': 556013,\n            'f': \"556013\",\n        },\n\"2019-10-10\",\n\"TR\",\n\"Adapazar\\u0131\",\n\"wind-gust\",\n{\n            'v': 72,\n            'f': \"72\",\n        },\n{\n            'v': 2.0,\n            'f': \"2.0\",\n        },\n{\n            'v': 11.6,\n            'f': \"11.6\",\n        },\n{\n            'v': 3.6,\n            'f': \"3.6\",\n        },\n{\n            'v': 111.12,\n            'f': \"111.12\",\n        }],\n [{\n            'v': 556014,\n            'f': \"556014\",\n        },\n\"2019-10-14\",\n\"TR\",\n\"Adapazar\\u0131\",\n\"wind-gust\",\n{\n            'v': 69,\n            'f': \"69\",\n        },\n{\n            'v': 0.3,\n            'f': \"0.3\",\n        },\n{\n            'v': 6.0,\n            'f': \"6.0\",\n        },\n{\n            'v': 2.0,\n            'f': \"2.0\",\n        },\n{\n            'v': 29.58,\n            'f': \"29.58\",\n        }],\n [{\n            'v': 556015,\n            'f': \"556015\",\n        },\n\"2019-11-01\",\n\"TR\",\n\"Adapazar\\u0131\",\n\"wind-gust\",\n{\n            'v': 72,\n            'f': \"72\",\n        },\n{\n            'v': 2.3,\n            'f': \"2.3\",\n        },\n{\n            'v': 23.8,\n            'f': \"23.8\",\n        },\n{\n            'v': 15.6,\n            'f': \"15.6\",\n        },\n{\n            'v': 204.29,\n            'f': \"204.29\",\n        }],\n [{\n            'v': 556016,\n            'f': \"556016\",\n        },\n\"2019-11-04\",\n\"TR\",\n\"Adapazar\\u0131\",\n\"wind-gust\",\n{\n            'v': 39,\n            'f': \"39\",\n        },\n{\n            'v': 0.2,\n            'f': \"0.2\",\n        },\n{\n            'v': 8.0,\n            'f': \"8.0\",\n        },\n{\n            'v': 4.0,\n            'f': \"4.0\",\n        },\n{\n            'v': 49.69,\n            'f': \"49.69\",\n        }],\n [{\n            'v': 556017,\n            'f': \"556017\",\n        },\n\"2019-12-27\",\n\"TR\",\n\"Adapazar\\u0131\",\n\"wind-gust\",\n{\n            'v': 72,\n            'f': \"72\",\n        },\n{\n            'v': 1.0,\n            'f': \"1.0\",\n        },\n{\n            'v': 14.2,\n            'f': \"14.2\",\n        },\n{\n            'v': 4.6,\n            'f': \"4.6\",\n        },\n{\n            'v': 149.79,\n            'f': \"149.79\",\n        }],\n [{\n            'v': 556018,\n            'f': \"556018\",\n        },\n\"2019-09-30\",\n\"TR\",\n\"Adapazar\\u0131\",\n\"wind-gust\",\n{\n            'v': 72,\n            'f': \"72\",\n        },\n{\n            'v': 0.2,\n            'f': \"0.2\",\n        },\n{\n            'v': 6.7,\n            'f': \"6.7\",\n        },\n{\n            'v': 2.0,\n            'f': \"2.0\",\n        },\n{\n            'v': 32.0,\n            'f': \"32.0\",\n        }],\n [{\n            'v': 556019,\n            'f': \"556019\",\n        },\n\"2019-10-03\",\n\"TR\",\n\"Adapazar\\u0131\",\n\"wind-gust\",\n{\n            'v': 63,\n            'f': \"63\",\n        },\n{\n            'v': 0.1,\n            'f': \"0.1\",\n        },\n{\n            'v': 18.7,\n            'f': \"18.7\",\n        },\n{\n            'v': 4.2,\n            'f': \"4.2\",\n        },\n{\n            'v': 336.72,\n            'f': \"336.72\",\n        }],\n [{\n            'v': 556020,\n            'f': \"556020\",\n        },\n\"2019-10-28\",\n\"TR\",\n\"Adapazar\\u0131\",\n\"wind-gust\",\n{\n            'v': 72,\n            'f': \"72\",\n        },\n{\n            'v': 0.2,\n            'f': \"0.2\",\n        },\n{\n            'v': 7.1,\n            'f': \"7.1\",\n        },\n{\n            'v': 1.8,\n            'f': \"1.8\",\n        },\n{\n            'v': 46.56,\n            'f': \"46.56\",\n        }],\n [{\n            'v': 556021,\n            'f': \"556021\",\n        },\n\"2019-11-09\",\n\"TR\",\n\"Adapazar\\u0131\",\n\"wind-gust\",\n{\n            'v': 24,\n            'f': \"24\",\n        },\n{\n            'v': 0.2,\n            'f': \"0.2\",\n        },\n{\n            'v': 7.0,\n            'f': \"7.0\",\n        },\n{\n            'v': 2.3,\n            'f': \"2.3\",\n        },\n{\n            'v': 47.45,\n            'f': \"47.45\",\n        }],\n [{\n            'v': 556022,\n            'f': \"556022\",\n        },\n\"2019-11-11\",\n\"TR\",\n\"Adapazar\\u0131\",\n\"wind-gust\",\n{\n            'v': 72,\n            'f': \"72\",\n        },\n{\n            'v': 1.0,\n            'f': \"1.0\",\n        },\n{\n            'v': 8.0,\n            'f': \"8.0\",\n        },\n{\n            'v': 2.8,\n            'f': \"2.8\",\n        },\n{\n            'v': 22.72,\n            'f': \"22.72\",\n        }],\n [{\n            'v': 556023,\n            'f': \"556023\",\n        },\n\"2019-11-24\",\n\"TR\",\n\"Adapazar\\u0131\",\n\"wind-gust\",\n{\n            'v': 69,\n            'f': \"69\",\n        },\n{\n            'v': 0.2,\n            'f': \"0.2\",\n        },\n{\n            'v': 4.7,\n            'f': \"4.7\",\n        },\n{\n            'v': 1.1,\n            'f': \"1.1\",\n        },\n{\n            'v': 11.02,\n            'f': \"11.02\",\n        }],\n [{\n            'v': 556024,\n            'f': \"556024\",\n        },\n\"2019-12-02\",\n\"TR\",\n\"Adapazar\\u0131\",\n\"wind-gust\",\n{\n            'v': 36,\n            'f': \"36\",\n        },\n{\n            'v': 0.2,\n            'f': \"0.2\",\n        },\n{\n            'v': 8.0,\n            'f': \"8.0\",\n        },\n{\n            'v': 4.5,\n            'f': \"4.5\",\n        },\n{\n            'v': 93.4,\n            'f': \"93.4\",\n        }],\n [{\n            'v': 556025,\n            'f': \"556025\",\n        },\n\"2019-10-02\",\n\"TR\",\n\"Adapazar\\u0131\",\n\"wind-gust\",\n{\n            'v': 57,\n            'f': \"57\",\n        },\n{\n            'v': 0.5,\n            'f': \"0.5\",\n        },\n{\n            'v': 11.7,\n            'f': \"11.7\",\n        },\n{\n            'v': 9.2,\n            'f': \"9.2\",\n        },\n{\n            'v': 122.05,\n            'f': \"122.05\",\n        }],\n [{\n            'v': 556026,\n            'f': \"556026\",\n        },\n\"2019-10-21\",\n\"TR\",\n\"Adapazar\\u0131\",\n\"wind-gust\",\n{\n            'v': 70,\n            'f': \"70\",\n        },\n{\n            'v': 0.2,\n            'f': \"0.2\",\n        },\n{\n            'v': 10.7,\n            'f': \"10.7\",\n        },\n{\n            'v': 3.6,\n            'f': \"3.6\",\n        },\n{\n            'v': 123.65,\n            'f': \"123.65\",\n        }],\n [{\n            'v': 556027,\n            'f': \"556027\",\n        },\n\"2019-10-29\",\n\"TR\",\n\"Adapazar\\u0131\",\n\"wind-gust\",\n{\n            'v': 66,\n            'f': \"66\",\n        },\n{\n            'v': 0.2,\n            'f': \"0.2\",\n        },\n{\n            'v': 8.1,\n            'f': \"8.1\",\n        },\n{\n            'v': 1.0,\n            'f': \"1.0\",\n        },\n{\n            'v': 58.53,\n            'f': \"58.53\",\n        }],\n [{\n            'v': 556028,\n            'f': \"556028\",\n        },\n\"2019-10-30\",\n\"TR\",\n\"Adapazar\\u0131\",\n\"wind-gust\",\n{\n            'v': 72,\n            'f': \"72\",\n        },\n{\n            'v': 0.6,\n            'f': \"0.6\",\n        },\n{\n            'v': 3.6,\n            'f': \"3.6\",\n        },\n{\n            'v': 1.6,\n            'f': \"1.6\",\n        },\n{\n            'v': 7.65,\n            'f': \"7.65\",\n        }],\n [{\n            'v': 556029,\n            'f': \"556029\",\n        },\n\"2019-11-13\",\n\"TR\",\n\"Adapazar\\u0131\",\n\"wind-gust\",\n{\n            'v': 72,\n            'f': \"72\",\n        },\n{\n            'v': 0.2,\n            'f': \"0.2\",\n        },\n{\n            'v': 3.2,\n            'f': \"3.2\",\n        },\n{\n            'v': 1.4,\n            'f': \"1.4\",\n        },\n{\n            'v': 6.05,\n            'f': \"6.05\",\n        }],\n [{\n            'v': 556030,\n            'f': \"556030\",\n        },\n\"2019-11-28\",\n\"TR\",\n\"Adapazar\\u0131\",\n\"wind-gust\",\n{\n            'v': 66,\n            'f': \"66\",\n        },\n{\n            'v': 0.5,\n            'f': \"0.5\",\n        },\n{\n            'v': 14.4,\n            'f': \"14.4\",\n        },\n{\n            'v': 5.8,\n            'f': \"5.8\",\n        },\n{\n            'v': 170.06,\n            'f': \"170.06\",\n        }],\n [{\n            'v': 556031,\n            'f': \"556031\",\n        },\n\"2019-12-18\",\n\"TR\",\n\"Adapazar\\u0131\",\n\"wind-gust\",\n{\n            'v': 72,\n            'f': \"72\",\n        },\n{\n            'v': 0.1,\n            'f': \"0.1\",\n        },\n{\n            'v': 12.3,\n            'f': \"12.3\",\n        },\n{\n            'v': 1.4,\n            'f': \"1.4\",\n        },\n{\n            'v': 135.64,\n            'f': \"135.64\",\n        }],\n [{\n            'v': 556032,\n            'f': \"556032\",\n        },\n\"2019-12-19\",\n\"TR\",\n\"Adapazar\\u0131\",\n\"wind-gust\",\n{\n            'v': 69,\n            'f': \"69\",\n        },\n{\n            'v': 0.2,\n            'f': \"0.2\",\n        },\n{\n            'v': 7.8,\n            'f': \"7.8\",\n        },\n{\n            'v': 1.4,\n            'f': \"1.4\",\n        },\n{\n            'v': 62.37,\n            'f': \"62.37\",\n        }],\n [{\n            'v': 556033,\n            'f': \"556033\",\n        },\n\"2019-10-07\",\n\"TR\",\n\"Adapazar\\u0131\",\n\"wind-gust\",\n{\n            'v': 72,\n            'f': \"72\",\n        },\n{\n            'v': 1.5,\n            'f': \"1.5\",\n        },\n{\n            'v': 16.2,\n            'f': \"16.2\",\n        },\n{\n            'v': 5.5,\n            'f': \"5.5\",\n        },\n{\n            'v': 248.44,\n            'f': \"248.44\",\n        }],\n [{\n            'v': 556034,\n            'f': \"556034\",\n        },\n\"2019-12-28\",\n\"TR\",\n\"Adapazar\\u0131\",\n\"wind-gust\",\n{\n            'v': 70,\n            'f': \"70\",\n        },\n{\n            'v': 0.8,\n            'f': \"0.8\",\n        },\n{\n            'v': 15.2,\n            'f': \"15.2\",\n        },\n{\n            'v': 4.0,\n            'f': \"4.0\",\n        },\n{\n            'v': 171.1,\n            'f': \"171.1\",\n        }],\n [{\n            'v': 556035,\n            'f': \"556035\",\n        },\n\"2019-11-14\",\n\"TR\",\n\"Adapazar\\u0131\",\n\"wind-gust\",\n{\n            'v': 69,\n            'f': \"69\",\n        },\n{\n            'v': 0.3,\n            'f': \"0.3\",\n        },\n{\n            'v': 12.2,\n            'f': \"12.2\",\n        },\n{\n            'v': 2.0,\n            'f': \"2.0\",\n        },\n{\n            'v': 98.35,\n            'f': \"98.35\",\n        }],\n [{\n            'v': 556036,\n            'f': \"556036\",\n        },\n\"2019-11-20\",\n\"TR\",\n\"Adapazar\\u0131\",\n\"wind-gust\",\n{\n            'v': 69,\n            'f': \"69\",\n        },\n{\n            'v': 0.2,\n            'f': \"0.2\",\n        },\n{\n            'v': 3.7,\n            'f': \"3.7\",\n        },\n{\n            'v': 0.8,\n            'f': \"0.8\",\n        },\n{\n            'v': 9.66,\n            'f': \"9.66\",\n        }],\n [{\n            'v': 556037,\n            'f': \"556037\",\n        },\n\"2019-11-26\",\n\"TR\",\n\"Adapazar\\u0131\",\n\"wind-gust\",\n{\n            'v': 72,\n            'f': \"72\",\n        },\n{\n            'v': 0.1,\n            'f': \"0.1\",\n        },\n{\n            'v': 5.5,\n            'f': \"5.5\",\n        },\n{\n            'v': 0.8,\n            'f': \"0.8\",\n        },\n{\n            'v': 19.77,\n            'f': \"19.77\",\n        }],\n [{\n            'v': 556038,\n            'f': \"556038\",\n        },\n\"2019-11-27\",\n\"TR\",\n\"Adapazar\\u0131\",\n\"wind-gust\",\n{\n            'v': 66,\n            'f': \"66\",\n        },\n{\n            'v': 0.1,\n            'f': \"0.1\",\n        },\n{\n            'v': 12.6,\n            'f': \"12.6\",\n        },\n{\n            'v': 7.6,\n            'f': \"7.6\",\n        },\n{\n            'v': 175.29,\n            'f': \"175.29\",\n        }],\n [{\n            'v': 556039,\n            'f': \"556039\",\n        },\n\"2019-11-30\",\n\"TR\",\n\"Adapazar\\u0131\",\n\"wind-gust\",\n{\n            'v': 72,\n            'f': \"72\",\n        },\n{\n            'v': 1.0,\n            'f': \"1.0\",\n        },\n{\n            'v': 14.8,\n            'f': \"14.8\",\n        },\n{\n            'v': 5.2,\n            'f': \"5.2\",\n        },\n{\n            'v': 137.51,\n            'f': \"137.51\",\n        }],\n [{\n            'v': 556040,\n            'f': \"556040\",\n        },\n\"2019-12-14\",\n\"TR\",\n\"Adapazar\\u0131\",\n\"wind-gust\",\n{\n            'v': 63,\n            'f': \"63\",\n        },\n{\n            'v': 0.1,\n            'f': \"0.1\",\n        },\n{\n            'v': 5.6,\n            'f': \"5.6\",\n        },\n{\n            'v': 1.3,\n            'f': \"1.3\",\n        },\n{\n            'v': 35.74,\n            'f': \"35.74\",\n        }],\n [{\n            'v': 556041,\n            'f': \"556041\",\n        },\n\"2019-12-15\",\n\"TR\",\n\"Adapazar\\u0131\",\n\"wind-gust\",\n{\n            'v': 72,\n            'f': \"72\",\n        },\n{\n            'v': 0.3,\n            'f': \"0.3\",\n        },\n{\n            'v': 8.2,\n            'f': \"8.2\",\n        },\n{\n            'v': 2.0,\n            'f': \"2.0\",\n        },\n{\n            'v': 42.04,\n            'f': \"42.04\",\n        }],\n [{\n            'v': 556042,\n            'f': \"556042\",\n        },\n\"2019-11-06\",\n\"TR\",\n\"Adapazar\\u0131\",\n\"wind-gust\",\n{\n            'v': 45,\n            'f': \"45\",\n        },\n{\n            'v': 0.3,\n            'f': \"0.3\",\n        },\n{\n            'v': 18.7,\n            'f': \"18.7\",\n        },\n{\n            'v': 3.5,\n            'f': \"3.5\",\n        },\n{\n            'v': 319.32,\n            'f': \"319.32\",\n        }],\n [{\n            'v': 556043,\n            'f': \"556043\",\n        },\n\"2020-01-03\",\n\"TR\",\n\"Adapazar\\u0131\",\n\"wind-gust\",\n{\n            'v': 18,\n            'f': \"18\",\n        },\n{\n            'v': 0.3,\n            'f': \"0.3\",\n        },\n{\n            'v': 3.0,\n            'f': \"3.0\",\n        },\n{\n            'v': 1.3,\n            'f': \"1.3\",\n        },\n{\n            'v': 8.45,\n            'f': \"8.45\",\n        }],\n [{\n            'v': 556044,\n            'f': \"556044\",\n        },\n\"2019-11-18\",\n\"TR\",\n\"Adapazar\\u0131\",\n\"wind-gust\",\n{\n            'v': 72,\n            'f': \"72\",\n        },\n{\n            'v': 0.2,\n            'f': \"0.2\",\n        },\n{\n            'v': 3.8,\n            'f': \"3.8\",\n        },\n{\n            'v': 1.4,\n            'f': \"1.4\",\n        },\n{\n            'v': 8.76,\n            'f': \"8.76\",\n        }],\n [{\n            'v': 556045,\n            'f': \"556045\",\n        },\n\"2019-11-21\",\n\"TR\",\n\"Adapazar\\u0131\",\n\"wind-gust\",\n{\n            'v': 72,\n            'f': \"72\",\n        },\n{\n            'v': 0.5,\n            'f': \"0.5\",\n        },\n{\n            'v': 12.2,\n            'f': \"12.2\",\n        },\n{\n            'v': 2.5,\n            'f': \"2.5\",\n        },\n{\n            'v': 104.49,\n            'f': \"104.49\",\n        }],\n [{\n            'v': 556046,\n            'f': \"556046\",\n        },\n\"2019-10-25\",\n\"TR\",\n\"Adapazar\\u0131\",\n\"wind-gust\",\n{\n            'v': 72,\n            'f': \"72\",\n        },\n{\n            'v': 0.7,\n            'f': \"0.7\",\n        },\n{\n            'v': 11.2,\n            'f': \"11.2\",\n        },\n{\n            'v': 2.4,\n            'f': \"2.4\",\n        },\n{\n            'v': 116.77,\n            'f': \"116.77\",\n        }],\n [{\n            'v': 556047,\n            'f': \"556047\",\n        },\n\"2019-10-09\",\n\"TR\",\n\"Adapazar\\u0131\",\n\"wind-gust\",\n{\n            'v': 69,\n            'f': \"69\",\n        },\n{\n            'v': 0.5,\n            'f': \"0.5\",\n        },\n{\n            'v': 9.4,\n            'f': \"9.4\",\n        },\n{\n            'v': 3.0,\n            'f': \"3.0\",\n        },\n{\n            'v': 100.1,\n            'f': \"100.1\",\n        }],\n [{\n            'v': 556048,\n            'f': \"556048\",\n        },\n\"2019-10-22\",\n\"TR\",\n\"Adapazar\\u0131\",\n\"wind-gust\",\n{\n            'v': 63,\n            'f': \"63\",\n        },\n{\n            'v': 1.7,\n            'f': \"1.7\",\n        },\n{\n            'v': 11.5,\n            'f': \"11.5\",\n        },\n{\n            'v': 7.2,\n            'f': \"7.2\",\n        },\n{\n            'v': 67.01,\n            'f': \"67.01\",\n        }],\n [{\n            'v': 556049,\n            'f': \"556049\",\n        },\n\"2019-10-24\",\n\"TR\",\n\"Adapazar\\u0131\",\n\"wind-gust\",\n{\n            'v': 58,\n            'f': \"58\",\n        },\n{\n            'v': 0.2,\n            'f': \"0.2\",\n        },\n{\n            'v': 12.5,\n            'f': \"12.5\",\n        },\n{\n            'v': 5.5,\n            'f': \"5.5\",\n        },\n{\n            'v': 204.9,\n            'f': \"204.9\",\n        }],\n [{\n            'v': 556050,\n            'f': \"556050\",\n        },\n\"2019-11-25\",\n\"TR\",\n\"Adapazar\\u0131\",\n\"wind-gust\",\n{\n            'v': 69,\n            'f': \"69\",\n        },\n{\n            'v': 0.1,\n            'f': \"0.1\",\n        },\n{\n            'v': 6.4,\n            'f': \"6.4\",\n        },\n{\n            'v': 1.3,\n            'f': \"1.3\",\n        },\n{\n            'v': 38.7,\n            'f': \"38.7\",\n        }],\n [{\n            'v': 556051,\n            'f': \"556051\",\n        },\n\"2019-12-17\",\n\"TR\",\n\"Adapazar\\u0131\",\n\"wind-gust\",\n{\n            'v': 72,\n            'f': \"72\",\n        },\n{\n            'v': 0.1,\n            'f': \"0.1\",\n        },\n{\n            'v': 8.8,\n            'f': \"8.8\",\n        },\n{\n            'v': 2.0,\n            'f': \"2.0\",\n        },\n{\n            'v': 59.42,\n            'f': \"59.42\",\n        }],\n [{\n            'v': 556052,\n            'f': \"556052\",\n        },\n\"2019-12-23\",\n\"TR\",\n\"Adapazar\\u0131\",\n\"wind-gust\",\n{\n            'v': 72,\n            'f': \"72\",\n        },\n{\n            'v': 0.2,\n            'f': \"0.2\",\n        },\n{\n            'v': 13.1,\n            'f': \"13.1\",\n        },\n{\n            'v': 5.0,\n            'f': \"5.0\",\n        },\n{\n            'v': 141.29,\n            'f': \"141.29\",\n        }],\n [{\n            'v': 556053,\n            'f': \"556053\",\n        },\n\"2019-12-24\",\n\"TR\",\n\"Adapazar\\u0131\",\n\"wind-gust\",\n{\n            'v': 66,\n            'f': \"66\",\n        },\n{\n            'v': 0.3,\n            'f': \"0.3\",\n        },\n{\n            'v': 14.6,\n            'f': \"14.6\",\n        },\n{\n            'v': 9.6,\n            'f': \"9.6\",\n        },\n{\n            'v': 257.53,\n            'f': \"257.53\",\n        }],\n [{\n            'v': 556054,\n            'f': \"556054\",\n        },\n\"2019-10-06\",\n\"TR\",\n\"Adapazar\\u0131\",\n\"wind-gust\",\n{\n            'v': 72,\n            'f': \"72\",\n        },\n{\n            'v': 0.6,\n            'f': \"0.6\",\n        },\n{\n            'v': 14.6,\n            'f': \"14.6\",\n        },\n{\n            'v': 2.2,\n            'f': \"2.2\",\n        },\n{\n            'v': 123.67,\n            'f': \"123.67\",\n        }],\n [{\n            'v': 556055,\n            'f': \"556055\",\n        },\n\"2019-10-16\",\n\"TR\",\n\"Adapazar\\u0131\",\n\"wind-gust\",\n{\n            'v': 63,\n            'f': \"63\",\n        },\n{\n            'v': 0.1,\n            'f': \"0.1\",\n        },\n{\n            'v': 6.5,\n            'f': \"6.5\",\n        },\n{\n            'v': 3.5,\n            'f': \"3.5\",\n        },\n{\n            'v': 60.18,\n            'f': \"60.18\",\n        }],\n [{\n            'v': 556056,\n            'f': \"556056\",\n        },\n\"2019-11-03\",\n\"TR\",\n\"Adapazar\\u0131\",\n\"wind-gust\",\n{\n            'v': 69,\n            'f': \"69\",\n        },\n{\n            'v': 0.2,\n            'f': \"0.2\",\n        },\n{\n            'v': 10.4,\n            'f': \"10.4\",\n        },\n{\n            'v': 2.4,\n            'f': \"2.4\",\n        },\n{\n            'v': 84.83,\n            'f': \"84.83\",\n        }],\n [{\n            'v': 556057,\n            'f': \"556057\",\n        },\n\"2019-11-05\",\n\"TR\",\n\"Adapazar\\u0131\",\n\"wind-gust\",\n{\n            'v': 58,\n            'f': \"58\",\n        },\n{\n            'v': 0.5,\n            'f': \"0.5\",\n        },\n{\n            'v': 14.6,\n            'f': \"14.6\",\n        },\n{\n            'v': 6.5,\n            'f': \"6.5\",\n        },\n{\n            'v': 205.68,\n            'f': \"205.68\",\n        }],\n [{\n            'v': 556058,\n            'f': \"556058\",\n        },\n\"2019-11-23\",\n\"TR\",\n\"Adapazar\\u0131\",\n\"wind-gust\",\n{\n            'v': 69,\n            'f': \"69\",\n        },\n{\n            'v': 0.1,\n            'f': \"0.1\",\n        },\n{\n            'v': 9.2,\n            'f': \"9.2\",\n        },\n{\n            'v': 1.6,\n            'f': \"1.6\",\n        },\n{\n            'v': 77.42,\n            'f': \"77.42\",\n        }],\n [{\n            'v': 556059,\n            'f': \"556059\",\n        },\n\"2019-12-22\",\n\"TR\",\n\"Adapazar\\u0131\",\n\"wind-gust\",\n{\n            'v': 72,\n            'f': \"72\",\n        },\n{\n            'v': 0.8,\n            'f': \"0.8\",\n        },\n{\n            'v': 20.0,\n            'f': \"20.0\",\n        },\n{\n            'v': 6.4,\n            'f': \"6.4\",\n        },\n{\n            'v': 313.16,\n            'f': \"313.16\",\n        }],\n [{\n            'v': 556060,\n            'f': \"556060\",\n        },\n\"2019-10-15\",\n\"TR\",\n\"Adapazar\\u0131\",\n\"wind-gust\",\n{\n            'v': 72,\n            'f': \"72\",\n        },\n{\n            'v': 0.2,\n            'f': \"0.2\",\n        },\n{\n            'v': 4.6,\n            'f': \"4.6\",\n        },\n{\n            'v': 1.6,\n            'f': \"1.6\",\n        },\n{\n            'v': 24.56,\n            'f': \"24.56\",\n        }],\n [{\n            'v': 556061,\n            'f': \"556061\",\n        },\n\"2019-11-08\",\n\"TR\",\n\"Adapazar\\u0131\",\n\"wind-gust\",\n{\n            'v': 24,\n            'f': \"24\",\n        },\n{\n            'v': 0.6,\n            'f': \"0.6\",\n        },\n{\n            'v': 10.2,\n            'f': \"10.2\",\n        },\n{\n            'v': 2.0,\n            'f': \"2.0\",\n        },\n{\n            'v': 104.26,\n            'f': \"104.26\",\n        }],\n [{\n            'v': 556062,\n            'f': \"556062\",\n        },\n\"2019-11-10\",\n\"TR\",\n\"Adapazar\\u0131\",\n\"wind-gust\",\n{\n            'v': 44,\n            'f': \"44\",\n        },\n{\n            'v': 0.5,\n            'f': \"0.5\",\n        },\n{\n            'v': 11.2,\n            'f': \"11.2\",\n        },\n{\n            'v': 2.1,\n            'f': \"2.1\",\n        },\n{\n            'v': 117.8,\n            'f': \"117.8\",\n        }],\n [{\n            'v': 556063,\n            'f': \"556063\",\n        },\n\"2019-12-06\",\n\"TR\",\n\"Adapazar\\u0131\",\n\"wind-gust\",\n{\n            'v': 39,\n            'f': \"39\",\n        },\n{\n            'v': 0.3,\n            'f': \"0.3\",\n        },\n{\n            'v': 10.0,\n            'f': \"10.0\",\n        },\n{\n            'v': 2.5,\n            'f': \"2.5\",\n        },\n{\n            'v': 121.71,\n            'f': \"121.71\",\n        }],\n [{\n            'v': 556064,\n            'f': \"556064\",\n        },\n\"2019-10-17\",\n\"TR\",\n\"Adapazar\\u0131\",\n\"wind-gust\",\n{\n            'v': 48,\n            'f': \"48\",\n        },\n{\n            'v': 0.1,\n            'f': \"0.1\",\n        },\n{\n            'v': 8.5,\n            'f': \"8.5\",\n        },\n{\n            'v': 3.6,\n            'f': \"3.6\",\n        },\n{\n            'v': 77.9,\n            'f': \"77.9\",\n        }],\n [{\n            'v': 556065,\n            'f': \"556065\",\n        },\n\"2019-10-12\",\n\"TR\",\n\"Adapazar\\u0131\",\n\"wind-gust\",\n{\n            'v': 72,\n            'f': \"72\",\n        },\n{\n            'v': 1.1,\n            'f': \"1.1\",\n        },\n{\n            'v': 10.6,\n            'f': \"10.6\",\n        },\n{\n            'v': 7.8,\n            'f': \"7.8\",\n        },\n{\n            'v': 74.65,\n            'f': \"74.65\",\n        }],\n [{\n            'v': 556066,\n            'f': \"556066\",\n        },\n\"2019-11-17\",\n\"TR\",\n\"Adapazar\\u0131\",\n\"wind-gust\",\n{\n            'v': 69,\n            'f': \"69\",\n        },\n{\n            'v': 0.1,\n            'f': \"0.1\",\n        },\n{\n            'v': 8.0,\n            'f': \"8.0\",\n        },\n{\n            'v': 1.5,\n            'f': \"1.5\",\n        },\n{\n            'v': 70.47,\n            'f': \"70.47\",\n        }],\n [{\n            'v': 556067,\n            'f': \"556067\",\n        },\n\"2019-11-19\",\n\"TR\",\n\"Adapazar\\u0131\",\n\"wind-gust\",\n{\n            'v': 66,\n            'f': \"66\",\n        },\n{\n            'v': 0.1,\n            'f': \"0.1\",\n        },\n{\n            'v': 6.5,\n            'f': \"6.5\",\n        },\n{\n            'v': 1.8,\n            'f': \"1.8\",\n        },\n{\n            'v': 23.65,\n            'f': \"23.65\",\n        }],\n [{\n            'v': 556068,\n            'f': \"556068\",\n        },\n\"2019-11-22\",\n\"TR\",\n\"Adapazar\\u0131\",\n\"wind-gust\",\n{\n            'v': 72,\n            'f': \"72\",\n        },\n{\n            'v': 0.2,\n            'f': \"0.2\",\n        },\n{\n            'v': 15.7,\n            'f': \"15.7\",\n        },\n{\n            'v': 8.5,\n            'f': \"8.5\",\n        },\n{\n            'v': 191.95,\n            'f': \"191.95\",\n        }],\n [{\n            'v': 556069,\n            'f': \"556069\",\n        },\n\"2019-11-29\",\n\"TR\",\n\"Adapazar\\u0131\",\n\"wind-gust\",\n{\n            'v': 72,\n            'f': \"72\",\n        },\n{\n            'v': 1.4,\n            'f': \"1.4\",\n        },\n{\n            'v': 17.8,\n            'f': \"17.8\",\n        },\n{\n            'v': 8.3,\n            'f': \"8.3\",\n        },\n{\n            'v': 215.84,\n            'f': \"215.84\",\n        }],\n [{\n            'v': 556070,\n            'f': \"556070\",\n        },\n\"2019-10-01\",\n\"TR\",\n\"Adapazar\\u0131\",\n\"wind-gust\",\n{\n            'v': 66,\n            'f': \"66\",\n        },\n{\n            'v': 1.0,\n            'f': \"1.0\",\n        },\n{\n            'v': 8.1,\n            'f': \"8.1\",\n        },\n{\n            'v': 3.3,\n            'f': \"3.3\",\n        },\n{\n            'v': 38.68,\n            'f': \"38.68\",\n        }],\n [{\n            'v': 556658,\n            'f': \"556658\",\n        },\n\"2019-11-17\",\n\"TR\",\n\"Trabzon\",\n\"wind-gust\",\n{\n            'v': 10,\n            'f': \"10\",\n        },\n{\n            'v': 8.2,\n            'f': \"8.2\",\n        },\n{\n            'v': 8.4,\n            'f': \"8.4\",\n        },\n{\n            'v': 8.2,\n            'f': \"8.2\",\n        },\n{\n            'v': 0.11,\n            'f': \"0.11\",\n        }],\n [{\n            'v': 556659,\n            'f': \"556659\",\n        },\n\"2019-12-03\",\n\"TR\",\n\"Trabzon\",\n\"wind-gust\",\n{\n            'v': 5,\n            'f': \"5\",\n        },\n{\n            'v': 6.6,\n            'f': \"6.6\",\n        },\n{\n            'v': 6.6,\n            'f': \"6.6\",\n        },\n{\n            'v': 6.6,\n            'f': \"6.6\",\n        },\n{\n            'v': 0.0,\n            'f': \"0.0\",\n        }],\n [{\n            'v': 556660,\n            'f': \"556660\",\n        },\n\"2019-10-21\",\n\"TR\",\n\"Trabzon\",\n\"wind-gust\",\n{\n            'v': 15,\n            'f': \"15\",\n        },\n{\n            'v': 8.7,\n            'f': \"8.7\",\n        },\n{\n            'v': 9.2,\n            'f': \"9.2\",\n        },\n{\n            'v': 8.7,\n            'f': \"8.7\",\n        },\n{\n            'v': 0.6,\n            'f': \"0.6\",\n        }],\n [{\n            'v': 556661,\n            'f': \"556661\",\n        },\n\"2019-12-04\",\n\"TR\",\n\"Trabzon\",\n\"wind-gust\",\n{\n            'v': 5,\n            'f': \"5\",\n        },\n{\n            'v': 8.7,\n            'f': \"8.7\",\n        },\n{\n            'v': 8.7,\n            'f': \"8.7\",\n        },\n{\n            'v': 8.7,\n            'f': \"8.7\",\n        },\n{\n            'v': 0.0,\n            'f': \"0.0\",\n        }],\n [{\n            'v': 556662,\n            'f': \"556662\",\n        },\n\"2019-10-13\",\n\"TR\",\n\"Trabzon\",\n\"wind-gust\",\n{\n            'v': 5,\n            'f': \"5\",\n        },\n{\n            'v': 8.7,\n            'f': \"8.7\",\n        },\n{\n            'v': 8.7,\n            'f': \"8.7\",\n        },\n{\n            'v': 8.7,\n            'f': \"8.7\",\n        },\n{\n            'v': 0.0,\n            'f': \"0.0\",\n        }],\n [{\n            'v': 556663,\n            'f': \"556663\",\n        },\n\"2019-10-17\",\n\"TR\",\n\"Trabzon\",\n\"wind-gust\",\n{\n            'v': 10,\n            'f': \"10\",\n        },\n{\n            'v': 7.2,\n            'f': \"7.2\",\n        },\n{\n            'v': 8.2,\n            'f': \"8.2\",\n        },\n{\n            'v': 7.2,\n            'f': \"7.2\",\n        },\n{\n            'v': 2.78,\n            'f': \"2.78\",\n        }],\n [{\n            'v': 556664,\n            'f': \"556664\",\n        },\n\"2019-10-28\",\n\"TR\",\n\"Trabzon\",\n\"wind-gust\",\n{\n            'v': 15,\n            'f': \"15\",\n        },\n{\n            'v': 7.2,\n            'f': \"7.2\",\n        },\n{\n            'v': 8.2,\n            'f': \"8.2\",\n        },\n{\n            'v': 8.2,\n            'f': \"8.2\",\n        },\n{\n            'v': 2.38,\n            'f': \"2.38\",\n        }],\n [{\n            'v': 556665,\n            'f': \"556665\",\n        },\n\"2019-11-28\",\n\"TR\",\n\"Trabzon\",\n\"wind-gust\",\n{\n            'v': 5,\n            'f': \"5\",\n        },\n{\n            'v': 7.2,\n            'f': \"7.2\",\n        },\n{\n            'v': 7.2,\n            'f': \"7.2\",\n        },\n{\n            'v': 7.2,\n            'f': \"7.2\",\n        },\n{\n            'v': 0.0,\n            'f': \"0.0\",\n        }],\n [{\n            'v': 556666,\n            'f': \"556666\",\n        },\n\"2019-12-08\",\n\"TR\",\n\"Trabzon\",\n\"wind-gust\",\n{\n            'v': 10,\n            'f': \"10\",\n        },\n{\n            'v': 9.2,\n            'f': \"9.2\",\n        },\n{\n            'v': 9.2,\n            'f': \"9.2\",\n        },\n{\n            'v': 9.2,\n            'f': \"9.2\",\n        },\n{\n            'v': 0.0,\n            'f': \"0.0\",\n        }],\n [{\n            'v': 556667,\n            'f': \"556667\",\n        },\n\"2019-12-09\",\n\"TR\",\n\"Trabzon\",\n\"wind-gust\",\n{\n            'v': 10,\n            'f': \"10\",\n        },\n{\n            'v': 9.2,\n            'f': \"9.2\",\n        },\n{\n            'v': 10.2,\n            'f': \"10.2\",\n        },\n{\n            'v': 9.2,\n            'f': \"9.2\",\n        },\n{\n            'v': 2.78,\n            'f': \"2.78\",\n        }],\n [{\n            'v': 556668,\n            'f': \"556668\",\n        },\n\"2019-10-06\",\n\"TR\",\n\"Trabzon\",\n\"wind-gust\",\n{\n            'v': 15,\n            'f': \"15\",\n        },\n{\n            'v': 9.2,\n            'f': \"9.2\",\n        },\n{\n            'v': 16.7,\n            'f': \"16.7\",\n        },\n{\n            'v': 12.8,\n            'f': \"12.8\",\n        },\n{\n            'v': 100.5,\n            'f': \"100.5\",\n        }],\n [{\n            'v': 556669,\n            'f': \"556669\",\n        },\n\"2019-10-09\",\n\"TR\",\n\"Trabzon\",\n\"wind-gust\",\n{\n            'v': 15,\n            'f': \"15\",\n        },\n{\n            'v': 8.7,\n            'f': \"8.7\",\n        },\n{\n            'v': 14.2,\n            'f': \"14.2\",\n        },\n{\n            'v': 9.7,\n            'f': \"9.7\",\n        },\n{\n            'v': 61.31,\n            'f': \"61.31\",\n        }],\n [{\n            'v': 556670,\n            'f': \"556670\",\n        },\n\"2020-01-04\",\n\"TR\",\n\"Trabzon\",\n\"wind-gust\",\n{\n            'v': 5,\n            'f': \"5\",\n        },\n{\n            'v': 8.2,\n            'f': \"8.2\",\n        },\n{\n            'v': 8.2,\n            'f': \"8.2\",\n        },\n{\n            'v': 8.2,\n            'f': \"8.2\",\n        },\n{\n            'v': 0.0,\n            'f': \"0.0\",\n        }],\n [{\n            'v': 556671,\n            'f': \"556671\",\n        },\n\"2019-12-23\",\n\"TR\",\n\"Trabzon\",\n\"wind-gust\",\n{\n            'v': 5,\n            'f': \"5\",\n        },\n{\n            'v': 12.3,\n            'f': \"12.3\",\n        },\n{\n            'v': 12.3,\n            'f': \"12.3\",\n        },\n{\n            'v': 12.3,\n            'f': \"12.3\",\n        },\n{\n            'v': 0.0,\n            'f': \"0.0\",\n        }],\n [{\n            'v': 556672,\n            'f': \"556672\",\n        },\n\"2020-01-03\",\n\"TR\",\n\"Trabzon\",\n\"wind-gust\",\n{\n            'v': 5,\n            'f': \"5\",\n        },\n{\n            'v': 6.6,\n            'f': \"6.6\",\n        },\n{\n            'v': 6.6,\n            'f': \"6.6\",\n        },\n{\n            'v': 6.6,\n            'f': \"6.6\",\n        },\n{\n            'v': 0.0,\n            'f': \"0.0\",\n        }],\n [{\n            'v': 556673,\n            'f': \"556673\",\n        },\n\"2019-11-20\",\n\"TR\",\n\"Trabzon\",\n\"wind-gust\",\n{\n            'v': 5,\n            'f': \"5\",\n        },\n{\n            'v': 9.2,\n            'f': \"9.2\",\n        },\n{\n            'v': 9.2,\n            'f': \"9.2\",\n        },\n{\n            'v': 9.2,\n            'f': \"9.2\",\n        },\n{\n            'v': 0.0,\n            'f': \"0.0\",\n        }],\n [{\n            'v': 556674,\n            'f': \"556674\",\n        },\n\"2020-01-05\",\n\"TR\",\n\"Trabzon\",\n\"wind-gust\",\n{\n            'v': 5,\n            'f': \"5\",\n        },\n{\n            'v': 7.7,\n            'f': \"7.7\",\n        },\n{\n            'v': 7.7,\n            'f': \"7.7\",\n        },\n{\n            'v': 7.7,\n            'f': \"7.7\",\n        },\n{\n            'v': 0.0,\n            'f': \"0.0\",\n        }],\n [{\n            'v': 556675,\n            'f': \"556675\",\n        },\n\"2019-11-10\",\n\"TR\",\n\"Trabzon\",\n\"wind-gust\",\n{\n            'v': 5,\n            'f': \"5\",\n        },\n{\n            'v': 8.7,\n            'f': \"8.7\",\n        },\n{\n            'v': 8.7,\n            'f': \"8.7\",\n        },\n{\n            'v': 8.7,\n            'f': \"8.7\",\n        },\n{\n            'v': 0.0,\n            'f': \"0.0\",\n        }],\n [{\n            'v': 556676,\n            'f': \"556676\",\n        },\n\"2019-10-30\",\n\"TR\",\n\"Trabzon\",\n\"wind-gust\",\n{\n            'v': 10,\n            'f': \"10\",\n        },\n{\n            'v': 7.7,\n            'f': \"7.7\",\n        },\n{\n            'v': 8.2,\n            'f': \"8.2\",\n        },\n{\n            'v': 7.7,\n            'f': \"7.7\",\n        },\n{\n            'v': 0.69,\n            'f': \"0.69\",\n        }],\n [{\n            'v': 556677,\n            'f': \"556677\",\n        },\n\"2019-11-08\",\n\"TR\",\n\"Trabzon\",\n\"wind-gust\",\n{\n            'v': 5,\n            'f': \"5\",\n        },\n{\n            'v': 9.7,\n            'f': \"9.7\",\n        },\n{\n            'v': 9.7,\n            'f': \"9.7\",\n        },\n{\n            'v': 9.7,\n            'f': \"9.7\",\n        },\n{\n            'v': 0.0,\n            'f': \"0.0\",\n        }],\n [{\n            'v': 556678,\n            'f': \"556678\",\n        },\n\"2019-12-22\",\n\"TR\",\n\"Trabzon\",\n\"wind-gust\",\n{\n            'v': 5,\n            'f': \"5\",\n        },\n{\n            'v': 7.2,\n            'f': \"7.2\",\n        },\n{\n            'v': 7.2,\n            'f': \"7.2\",\n        },\n{\n            'v': 7.2,\n            'f': \"7.2\",\n        },\n{\n            'v': 0.0,\n            'f': \"0.0\",\n        }],\n [{\n            'v': 556679,\n            'f': \"556679\",\n        },\n\"2019-10-08\",\n\"TR\",\n\"Trabzon\",\n\"wind-gust\",\n{\n            'v': 10,\n            'f': \"10\",\n        },\n{\n            'v': 8.2,\n            'f': \"8.2\",\n        },\n{\n            'v': 10.2,\n            'f': \"10.2\",\n        },\n{\n            'v': 8.2,\n            'f': \"8.2\",\n        },\n{\n            'v': 11.11,\n            'f': \"11.11\",\n        }],\n [{\n            'v': 556680,\n            'f': \"556680\",\n        },\n\"2019-10-04\",\n\"TR\",\n\"Trabzon\",\n\"wind-gust\",\n{\n            'v': 10,\n            'f': \"10\",\n        },\n{\n            'v': 7.7,\n            'f': \"7.7\",\n        },\n{\n            'v': 8.2,\n            'f': \"8.2\",\n        },\n{\n            'v': 7.7,\n            'f': \"7.7\",\n        },\n{\n            'v': 0.69,\n            'f': \"0.69\",\n        }],\n [{\n            'v': 556681,\n            'f': \"556681\",\n        },\n\"2019-12-20\",\n\"TR\",\n\"Trabzon\",\n\"wind-gust\",\n{\n            'v': 5,\n            'f': \"5\",\n        },\n{\n            'v': 7.2,\n            'f': \"7.2\",\n        },\n{\n            'v': 7.2,\n            'f': \"7.2\",\n        },\n{\n            'v': 7.2,\n            'f': \"7.2\",\n        },\n{\n            'v': 0.0,\n            'f': \"0.0\",\n        }],\n [{\n            'v': 556682,\n            'f': \"556682\",\n        },\n\"2019-10-25\",\n\"TR\",\n\"Trabzon\",\n\"wind-gust\",\n{\n            'v': 25,\n            'f': \"25\",\n        },\n{\n            'v': 8.2,\n            'f': \"8.2\",\n        },\n{\n            'v': 9.7,\n            'f': \"9.7\",\n        },\n{\n            'v': 8.7,\n            'f': \"8.7\",\n        },\n{\n            'v': 3.12,\n            'f': \"3.12\",\n        }],\n [{\n            'v': 556683,\n            'f': \"556683\",\n        },\n\"2019-11-23\",\n\"TR\",\n\"Trabzon\",\n\"wind-gust\",\n{\n            'v': 5,\n            'f': \"5\",\n        },\n{\n            'v': 7.7,\n            'f': \"7.7\",\n        },\n{\n            'v': 7.7,\n            'f': \"7.7\",\n        },\n{\n            'v': 7.7,\n            'f': \"7.7\",\n        },\n{\n            'v': 0.0,\n            'f': \"0.0\",\n        }],\n [{\n            'v': 556684,\n            'f': \"556684\",\n        },\n\"2019-11-01\",\n\"TR\",\n\"Trabzon\",\n\"wind-gust\",\n{\n            'v': 10,\n            'f': \"10\",\n        },\n{\n            'v': 12.3,\n            'f': \"12.3\",\n        },\n{\n            'v': 12.8,\n            'f': \"12.8\",\n        },\n{\n            'v': 12.3,\n            'f': \"12.3\",\n        },\n{\n            'v': 0.69,\n            'f': \"0.69\",\n        }],\n [{\n            'v': 556685,\n            'f': \"556685\",\n        },\n\"2019-11-12\",\n\"TR\",\n\"Trabzon\",\n\"wind-gust\",\n{\n            'v': 5,\n            'f': \"5\",\n        },\n{\n            'v': 6.1,\n            'f': \"6.1\",\n        },\n{\n            'v': 6.1,\n            'f': \"6.1\",\n        },\n{\n            'v': 6.1,\n            'f': \"6.1\",\n        },\n{\n            'v': 0.0,\n            'f': \"0.0\",\n        }],\n [{\n            'v': 556686,\n            'f': \"556686\",\n        },\n\"2019-11-13\",\n\"TR\",\n\"Trabzon\",\n\"wind-gust\",\n{\n            'v': 5,\n            'f': \"5\",\n        },\n{\n            'v': 8.7,\n            'f': \"8.7\",\n        },\n{\n            'v': 8.7,\n            'f': \"8.7\",\n        },\n{\n            'v': 8.7,\n            'f': \"8.7\",\n        },\n{\n            'v': 0.0,\n            'f': \"0.0\",\n        }],\n [{\n            'v': 556687,\n            'f': \"556687\",\n        },\n\"2019-11-29\",\n\"TR\",\n\"Trabzon\",\n\"wind-gust\",\n{\n            'v': 10,\n            'f': \"10\",\n        },\n{\n            'v': 7.2,\n            'f': \"7.2\",\n        },\n{\n            'v': 7.7,\n            'f': \"7.7\",\n        },\n{\n            'v': 7.2,\n            'f': \"7.2\",\n        },\n{\n            'v': 0.69,\n            'f': \"0.69\",\n        }],\n [{\n            'v': 556688,\n            'f': \"556688\",\n        },\n\"2019-10-22\",\n\"TR\",\n\"Trabzon\",\n\"wind-gust\",\n{\n            'v': 10,\n            'f': \"10\",\n        },\n{\n            'v': 7.9,\n            'f': \"7.9\",\n        },\n{\n            'v': 7.9,\n            'f': \"7.9\",\n        },\n{\n            'v': 7.9,\n            'f': \"7.9\",\n        },\n{\n            'v': 0.0,\n            'f': \"0.0\",\n        }],\n [{\n            'v': 556689,\n            'f': \"556689\",\n        },\n\"2019-12-14\",\n\"TR\",\n\"Trabzon\",\n\"wind-gust\",\n{\n            'v': 10,\n            'f': \"10\",\n        },\n{\n            'v': 11.3,\n            'f': \"11.3\",\n        },\n{\n            'v': 12.3,\n            'f': \"12.3\",\n        },\n{\n            'v': 11.3,\n            'f': \"11.3\",\n        },\n{\n            'v': 2.78,\n            'f': \"2.78\",\n        }],\n [{\n            'v': 556690,\n            'f': \"556690\",\n        },\n\"2019-12-10\",\n\"TR\",\n\"Trabzon\",\n\"wind-gust\",\n{\n            'v': 10,\n            'f': \"10\",\n        },\n{\n            'v': 7.2,\n            'f': \"7.2\",\n        },\n{\n            'v': 7.7,\n            'f': \"7.7\",\n        },\n{\n            'v': 7.2,\n            'f': \"7.2\",\n        },\n{\n            'v': 0.69,\n            'f': \"0.69\",\n        }],\n [{\n            'v': 556691,\n            'f': \"556691\",\n        },\n\"2019-12-01\",\n\"TR\",\n\"Trabzon\",\n\"wind-gust\",\n{\n            'v': 10,\n            'f': \"10\",\n        },\n{\n            'v': 7.2,\n            'f': \"7.2\",\n        },\n{\n            'v': 9.2,\n            'f': \"9.2\",\n        },\n{\n            'v': 7.2,\n            'f': \"7.2\",\n        },\n{\n            'v': 11.11,\n            'f': \"11.11\",\n        }],\n [{\n            'v': 556692,\n            'f': \"556692\",\n        },\n\"2019-10-31\",\n\"TR\",\n\"Trabzon\",\n\"wind-gust\",\n{\n            'v': 15,\n            'f': \"15\",\n        },\n{\n            'v': 7.2,\n            'f': \"7.2\",\n        },\n{\n            'v': 7.2,\n            'f': \"7.2\",\n        },\n{\n            'v': 7.2,\n            'f': \"7.2\",\n        },\n{\n            'v': 0.0,\n            'f': \"0.0\",\n        }],\n [{\n            'v': 556693,\n            'f': \"556693\",\n        },\n\"2019-11-21\",\n\"TR\",\n\"Trabzon\",\n\"wind-gust\",\n{\n            'v': 10,\n            'f': \"10\",\n        },\n{\n            'v': 9.7,\n            'f': \"9.7\",\n        },\n{\n            'v': 9.7,\n            'f': \"9.7\",\n        },\n{\n            'v': 9.7,\n            'f': \"9.7\",\n        },\n{\n            'v': 0.0,\n            'f': \"0.0\",\n        }],\n [{\n            'v': 556694,\n            'f': \"556694\",\n        },\n\"2019-12-13\",\n\"TR\",\n\"Trabzon\",\n\"wind-gust\",\n{\n            'v': 5,\n            'f': \"5\",\n        },\n{\n            'v': 6.1,\n            'f': \"6.1\",\n        },\n{\n            'v': 6.1,\n            'f': \"6.1\",\n        },\n{\n            'v': 6.1,\n            'f': \"6.1\",\n        },\n{\n            'v': 0.0,\n            'f': \"0.0\",\n        }],\n [{\n            'v': 556695,\n            'f': \"556695\",\n        },\n\"2019-10-14\",\n\"TR\",\n\"Trabzon\",\n\"wind-gust\",\n{\n            'v': 15,\n            'f': \"15\",\n        },\n{\n            'v': 8.2,\n            'f': \"8.2\",\n        },\n{\n            'v': 8.7,\n            'f': \"8.7\",\n        },\n{\n            'v': 8.2,\n            'f': \"8.2\",\n        },\n{\n            'v': 0.6,\n            'f': \"0.6\",\n        }],\n [{\n            'v': 556696,\n            'f': \"556696\",\n        },\n\"2019-10-26\",\n\"TR\",\n\"Trabzon\",\n\"wind-gust\",\n{\n            'v': 10,\n            'f': \"10\",\n        },\n{\n            'v': 8.7,\n            'f': \"8.7\",\n        },\n{\n            'v': 8.7,\n            'f': \"8.7\",\n        },\n{\n            'v': 8.7,\n            'f': \"8.7\",\n        },\n{\n            'v': 0.0,\n            'f': \"0.0\",\n        }],\n [{\n            'v': 556697,\n            'f': \"556697\",\n        },\n\"2019-11-25\",\n\"TR\",\n\"Trabzon\",\n\"wind-gust\",\n{\n            'v': 5,\n            'f': \"5\",\n        },\n{\n            'v': 8.2,\n            'f': \"8.2\",\n        },\n{\n            'v': 8.2,\n            'f': \"8.2\",\n        },\n{\n            'v': 8.2,\n            'f': \"8.2\",\n        },\n{\n            'v': 0.0,\n            'f': \"0.0\",\n        }],\n [{\n            'v': 556698,\n            'f': \"556698\",\n        },\n\"2019-12-12\",\n\"TR\",\n\"Trabzon\",\n\"wind-gust\",\n{\n            'v': 5,\n            'f': \"5\",\n        },\n{\n            'v': 7.2,\n            'f': \"7.2\",\n        },\n{\n            'v': 7.2,\n            'f': \"7.2\",\n        },\n{\n            'v': 7.2,\n            'f': \"7.2\",\n        },\n{\n            'v': 0.0,\n            'f': \"0.0\",\n        }],\n [{\n            'v': 556699,\n            'f': \"556699\",\n        },\n\"2019-11-19\",\n\"TR\",\n\"Trabzon\",\n\"wind-gust\",\n{\n            'v': 5,\n            'f': \"5\",\n        },\n{\n            'v': 7.7,\n            'f': \"7.7\",\n        },\n{\n            'v': 7.7,\n            'f': \"7.7\",\n        },\n{\n            'v': 7.7,\n            'f': \"7.7\",\n        },\n{\n            'v': 0.0,\n            'f': \"0.0\",\n        }],\n [{\n            'v': 556700,\n            'f': \"556700\",\n        },\n\"2019-11-24\",\n\"TR\",\n\"Trabzon\",\n\"wind-gust\",\n{\n            'v': 5,\n            'f': \"5\",\n        },\n{\n            'v': 8.7,\n            'f': \"8.7\",\n        },\n{\n            'v': 8.7,\n            'f': \"8.7\",\n        },\n{\n            'v': 8.7,\n            'f': \"8.7\",\n        },\n{\n            'v': 0.0,\n            'f': \"0.0\",\n        }],\n [{\n            'v': 556701,\n            'f': \"556701\",\n        },\n\"2019-12-06\",\n\"TR\",\n\"Trabzon\",\n\"wind-gust\",\n{\n            'v': 5,\n            'f': \"5\",\n        },\n{\n            'v': 8.7,\n            'f': \"8.7\",\n        },\n{\n            'v': 8.7,\n            'f': \"8.7\",\n        },\n{\n            'v': 8.7,\n            'f': \"8.7\",\n        },\n{\n            'v': 0.0,\n            'f': \"0.0\",\n        }],\n [{\n            'v': 556702,\n            'f': \"556702\",\n        },\n\"2019-12-16\",\n\"TR\",\n\"Trabzon\",\n\"wind-gust\",\n{\n            'v': 5,\n            'f': \"5\",\n        },\n{\n            'v': 7.7,\n            'f': \"7.7\",\n        },\n{\n            'v': 7.7,\n            'f': \"7.7\",\n        },\n{\n            'v': 7.7,\n            'f': \"7.7\",\n        },\n{\n            'v': 0.0,\n            'f': \"0.0\",\n        }],\n [{\n            'v': 556703,\n            'f': \"556703\",\n        },\n\"2019-10-01\",\n\"TR\",\n\"Trabzon\",\n\"wind-gust\",\n{\n            'v': 5,\n            'f': \"5\",\n        },\n{\n            'v': 8.2,\n            'f': \"8.2\",\n        },\n{\n            'v': 8.2,\n            'f': \"8.2\",\n        },\n{\n            'v': 8.2,\n            'f': \"8.2\",\n        },\n{\n            'v': 0.0,\n            'f': \"0.0\",\n        }],\n [{\n            'v': 556704,\n            'f': \"556704\",\n        },\n\"2019-11-16\",\n\"TR\",\n\"Trabzon\",\n\"wind-gust\",\n{\n            'v': 5,\n            'f': \"5\",\n        },\n{\n            'v': 8.2,\n            'f': \"8.2\",\n        },\n{\n            'v': 8.2,\n            'f': \"8.2\",\n        },\n{\n            'v': 8.2,\n            'f': \"8.2\",\n        },\n{\n            'v': 0.0,\n            'f': \"0.0\",\n        }],\n [{\n            'v': 556705,\n            'f': \"556705\",\n        },\n\"2019-10-27\",\n\"TR\",\n\"Trabzon\",\n\"wind-gust\",\n{\n            'v': 5,\n            'f': \"5\",\n        },\n{\n            'v': 7.2,\n            'f': \"7.2\",\n        },\n{\n            'v': 7.2,\n            'f': \"7.2\",\n        },\n{\n            'v': 7.2,\n            'f': \"7.2\",\n        },\n{\n            'v': 0.0,\n            'f': \"0.0\",\n        }],\n [{\n            'v': 556706,\n            'f': \"556706\",\n        },\n\"2019-11-27\",\n\"TR\",\n\"Trabzon\",\n\"wind-gust\",\n{\n            'v': 20,\n            'f': \"20\",\n        },\n{\n            'v': 8.2,\n            'f': \"8.2\",\n        },\n{\n            'v': 13.8,\n            'f': \"13.8\",\n        },\n{\n            'v': 8.7,\n            'f': \"8.7\",\n        },\n{\n            'v': 52.65,\n            'f': \"52.65\",\n        }],\n [{\n            'v': 556707,\n            'f': \"556707\",\n        },\n\"2019-12-25\",\n\"TR\",\n\"Trabzon\",\n\"wind-gust\",\n{\n            'v': 20,\n            'f': \"20\",\n        },\n{\n            'v': 9.2,\n            'f': \"9.2\",\n        },\n{\n            'v': 11.8,\n            'f': \"11.8\",\n        },\n{\n            'v': 9.7,\n            'f': \"9.7\",\n        },\n{\n            'v': 12.26,\n            'f': \"12.26\",\n        }],\n [{\n            'v': 556708,\n            'f': \"556708\",\n        },\n\"2019-10-18\",\n\"TR\",\n\"Trabzon\",\n\"wind-gust\",\n{\n            'v': 10,\n            'f': \"10\",\n        },\n{\n            'v': 7.2,\n            'f': \"7.2\",\n        },\n{\n            'v': 8.7,\n            'f': \"8.7\",\n        },\n{\n            'v': 7.2,\n            'f': \"7.2\",\n        },\n{\n            'v': 6.25,\n            'f': \"6.25\",\n        }],\n [{\n            'v': 556709,\n            'f': \"556709\",\n        },\n\"2019-12-24\",\n\"TR\",\n\"Trabzon\",\n\"wind-gust\",\n{\n            'v': 15,\n            'f': \"15\",\n        },\n{\n            'v': 9.7,\n            'f': \"9.7\",\n        },\n{\n            'v': 16.4,\n            'f': \"16.4\",\n        },\n{\n            'v': 12.3,\n            'f': \"12.3\",\n        },\n{\n            'v': 81.5,\n            'f': \"81.5\",\n        }],\n [{\n            'v': 556710,\n            'f': \"556710\",\n        },\n\"2019-10-10\",\n\"TR\",\n\"Trabzon\",\n\"wind-gust\",\n{\n            'v': 5,\n            'f': \"5\",\n        },\n{\n            'v': 7.7,\n            'f': \"7.7\",\n        },\n{\n            'v': 7.7,\n            'f': \"7.7\",\n        },\n{\n            'v': 7.7,\n            'f': \"7.7\",\n        },\n{\n            'v': 0.0,\n            'f': \"0.0\",\n        }],\n [{\n            'v': 556711,\n            'f': \"556711\",\n        },\n\"2019-10-24\",\n\"TR\",\n\"Trabzon\",\n\"wind-gust\",\n{\n            'v': 20,\n            'f': \"20\",\n        },\n{\n            'v': 6.1,\n            'f': \"6.1\",\n        },\n{\n            'v': 7.7,\n            'f': \"7.7\",\n        },\n{\n            'v': 6.1,\n            'f': \"6.1\",\n        },\n{\n            'v': 6.74,\n            'f': \"6.74\",\n        }],\n [{\n            'v': 557869,\n            'f': \"557869\",\n        },\n\"2019-10-14\",\n\"TR\",\n\"Antakya\",\n\"wind-gust\",\n{\n            'v': 22,\n            'f': \"22\",\n        },\n{\n            'v': 0.5,\n            'f': \"0.5\",\n        },\n{\n            'v': 21.5,\n            'f': \"21.5\",\n        },\n{\n            'v': 16.7,\n            'f': \"16.7\",\n        },\n{\n            'v': 592.2,\n            'f': \"592.2\",\n        }],\n [{\n            'v': 557870,\n            'f': \"557870\",\n        },\n\"2019-10-23\",\n\"TR\",\n\"Antakya\",\n\"wind-gust\",\n{\n            'v': 19,\n            'f': \"19\",\n        },\n{\n            'v': 4.6,\n            'f': \"4.6\",\n        },\n{\n            'v': 20.4,\n            'f': \"20.4\",\n        },\n{\n            'v': 17.8,\n            'f': \"17.8\",\n        },\n{\n            'v': 337.75,\n            'f': \"337.75\",\n        }],\n [{\n            'v': 557871,\n            'f': \"557871\",\n        },\n\"2019-10-24\",\n\"TR\",\n\"Antakya\",\n\"wind-gust\",\n{\n            'v': 24,\n            'f': \"24\",\n        },\n{\n            'v': 0.8,\n            'f': \"0.8\",\n        },\n{\n            'v': 17.9,\n            'f': \"17.9\",\n        },\n{\n            'v': 12.6,\n            'f': \"12.6\",\n        },\n{\n            'v': 216.75,\n            'f': \"216.75\",\n        }],\n [{\n            'v': 557872,\n            'f': \"557872\",\n        },\n\"2019-11-15\",\n\"TR\",\n\"Antakya\",\n\"wind-gust\",\n{\n            'v': 30,\n            'f': \"30\",\n        },\n{\n            'v': 1.4,\n            'f': \"1.4\",\n        },\n{\n            'v': 16.8,\n            'f': \"16.8\",\n        },\n{\n            'v': 14.8,\n            'f': \"14.8\",\n        },\n{\n            'v': 148.43,\n            'f': \"148.43\",\n        }],\n [{\n            'v': 557873,\n            'f': \"557873\",\n        },\n\"2019-11-24\",\n\"TR\",\n\"Antakya\",\n\"wind-gust\",\n{\n            'v': 19,\n            'f': \"19\",\n        },\n{\n            'v': 0.1,\n            'f': \"0.1\",\n        },\n{\n            'v': 18.2,\n            'f': \"18.2\",\n        },\n{\n            'v': 15.9,\n            'f': \"15.9\",\n        },\n{\n            'v': 393.1,\n            'f': \"393.1\",\n        }],\n [{\n            'v': 557874,\n            'f': \"557874\",\n        },\n\"2019-12-12\",\n\"TR\",\n\"Antakya\",\n\"wind-gust\",\n{\n            'v': 24,\n            'f': \"24\",\n        },\n{\n            'v': 3.5,\n            'f': \"3.5\",\n        },\n{\n            'v': 18.1,\n            'f': \"18.1\",\n        },\n{\n            'v': 12.2,\n            'f': \"12.2\",\n        },\n{\n            'v': 151.89,\n            'f': \"151.89\",\n        }],\n [{\n            'v': 557875,\n            'f': \"557875\",\n        },\n\"2020-01-03\",\n\"TR\",\n\"Antakya\",\n\"wind-gust\",\n{\n            'v': 15,\n            'f': \"15\",\n        },\n{\n            'v': 1.8,\n            'f': \"1.8\",\n        },\n{\n            'v': 15.0,\n            'f': \"15.0\",\n        },\n{\n            'v': 8.4,\n            'f': \"8.4\",\n        },\n{\n            'v': 223.24,\n            'f': \"223.24\",\n        }],\n [{\n            'v': 557876,\n            'f': \"557876\",\n        },\n\"2020-01-05\",\n\"TR\",\n\"Antakya\",\n\"wind-gust\",\n{\n            'v': 18,\n            'f': \"18\",\n        },\n{\n            'v': 0.2,\n            'f': \"0.2\",\n        },\n{\n            'v': 17.3,\n            'f': \"17.3\",\n        },\n{\n            'v': 6.6,\n            'f': \"6.6\",\n        },\n{\n            'v': 241.33,\n            'f': \"241.33\",\n        }],\n [{\n            'v': 557877,\n            'f': \"557877\",\n        },\n\"2019-10-02\",\n\"TR\",\n\"Antakya\",\n\"wind-gust\",\n{\n            'v': 21,\n            'f': \"21\",\n        },\n{\n            'v': 1.9,\n            'f': \"1.9\",\n        },\n{\n            'v': 24.0,\n            'f': \"24.0\",\n        },\n{\n            'v': 9.0,\n            'f': \"9.0\",\n        },\n{\n            'v': 399.76,\n            'f': \"399.76\",\n        }],\n [{\n            'v': 557878,\n            'f': \"557878\",\n        },\n\"2019-10-03\",\n\"TR\",\n\"Antakya\",\n\"wind-gust\",\n{\n            'v': 24,\n            'f': \"24\",\n        },\n{\n            'v': 5.2,\n            'f': \"5.2\",\n        },\n{\n            'v': 26.6,\n            'f': \"26.6\",\n        },\n{\n            'v': 11.3,\n            'f': \"11.3\",\n        },\n{\n            'v': 432.32,\n            'f': \"432.32\",\n        }],\n [{\n            'v': 557879,\n            'f': \"557879\",\n        },\n\"2019-10-04\",\n\"TR\",\n\"Antakya\",\n\"wind-gust\",\n{\n            'v': 24,\n            'f': \"24\",\n        },\n{\n            'v': 5.2,\n            'f': \"5.2\",\n        },\n{\n            'v': 17.2,\n            'f': \"17.2\",\n        },\n{\n            'v': 9.8,\n            'f': \"9.8\",\n        },\n{\n            'v': 122.97,\n            'f': \"122.97\",\n        }],\n [{\n            'v': 557880,\n            'f': \"557880\",\n        },\n\"2019-10-09\",\n\"TR\",\n\"Antakya\",\n\"wind-gust\",\n{\n            'v': 24,\n            'f': \"24\",\n        },\n{\n            'v': 5.5,\n            'f': \"5.5\",\n        },\n{\n            'v': 16.6,\n            'f': \"16.6\",\n        },\n{\n            'v': 10.9,\n            'f': \"10.9\",\n        },\n{\n            'v': 70.49,\n            'f': \"70.49\",\n        }],\n [{\n            'v': 557881,\n            'f': \"557881\",\n        },\n\"2019-10-10\",\n\"TR\",\n\"Antakya\",\n\"wind-gust\",\n{\n            'v': 23,\n            'f': \"23\",\n        },\n{\n            'v': 4.3,\n            'f': \"4.3\",\n        },\n{\n            'v': 15.0,\n            'f': \"15.0\",\n        },\n{\n            'v': 8.0,\n            'f': \"8.0\",\n        },\n{\n            'v': 106.48,\n            'f': \"106.48\",\n        }],\n [{\n            'v': 557882,\n            'f': \"557882\",\n        },\n\"2019-10-12\",\n\"TR\",\n\"Antakya\",\n\"wind-gust\",\n{\n            'v': 24,\n            'f': \"24\",\n        },\n{\n            'v': 3.6,\n            'f': \"3.6\",\n        },\n{\n            'v': 14.1,\n            'f': \"14.1\",\n        },\n{\n            'v': 9.0,\n            'f': \"9.0\",\n        },\n{\n            'v': 82.05,\n            'f': \"82.05\",\n        }],\n [{\n            'v': 557883,\n            'f': \"557883\",\n        },\n\"2019-10-18\",\n\"TR\",\n\"Antakya\",\n\"wind-gust\",\n{\n            'v': 24,\n            'f': \"24\",\n        },\n{\n            'v': 3.1,\n            'f': \"3.1\",\n        },\n{\n            'v': 15.2,\n            'f': \"15.2\",\n        },\n{\n            'v': 9.6,\n            'f': \"9.6\",\n        },\n{\n            'v': 138.68,\n            'f': \"138.68\",\n        }],\n [{\n            'v': 557884,\n            'f': \"557884\",\n        },\n\"2019-12-01\",\n\"TR\",\n\"Antakya\",\n\"wind-gust\",\n{\n            'v': 17,\n            'f': \"17\",\n        },\n{\n            'v': 0.3,\n            'f': \"0.3\",\n        },\n{\n            'v': 19.4,\n            'f': \"19.4\",\n        },\n{\n            'v': 6.2,\n            'f': \"6.2\",\n        },\n{\n            'v': 259.34,\n            'f': \"259.34\",\n        }],\n [{\n            'v': 557885,\n            'f': \"557885\",\n        },\n\"2019-12-09\",\n\"TR\",\n\"Antakya\",\n\"wind-gust\",\n{\n            'v': 24,\n            'f': \"24\",\n        },\n{\n            'v': 1.3,\n            'f': \"1.3\",\n        },\n{\n            'v': 19.3,\n            'f': \"19.3\",\n        },\n{\n            'v': 13.7,\n            'f': \"13.7\",\n        },\n{\n            'v': 260.96,\n            'f': \"260.96\",\n        }],\n [{\n            'v': 557886,\n            'f': \"557886\",\n        },\n\"2019-12-10\",\n\"TR\",\n\"Antakya\",\n\"wind-gust\",\n{\n            'v': 18,\n            'f': \"18\",\n        },\n{\n            'v': 0.1,\n            'f': \"0.1\",\n        },\n{\n            'v': 15.0,\n            'f': \"15.0\",\n        },\n{\n            'v': 10.3,\n            'f': \"10.3\",\n        },\n{\n            'v': 371.28,\n            'f': \"371.28\",\n        }],\n [{\n            'v': 557887,\n            'f': \"557887\",\n        },\n\"2019-12-20\",\n\"TR\",\n\"Antakya\",\n\"wind-gust\",\n{\n            'v': 16,\n            'f': \"16\",\n        },\n{\n            'v': 0.1,\n            'f': \"0.1\",\n        },\n{\n            'v': 13.4,\n            'f': \"13.4\",\n        },\n{\n            'v': 5.5,\n            'f': \"5.5\",\n        },\n{\n            'v': 226.39,\n            'f': \"226.39\",\n        }],\n [{\n            'v': 557888,\n            'f': \"557888\",\n        },\n\"2019-12-28\",\n\"TR\",\n\"Antakya\",\n\"wind-gust\",\n{\n            'v': 23,\n            'f': \"23\",\n        },\n{\n            'v': 0.8,\n            'f': \"0.8\",\n        },\n{\n            'v': 15.8,\n            'f': \"15.8\",\n        },\n{\n            'v': 9.4,\n            'f': \"9.4\",\n        },\n{\n            'v': 236.27,\n            'f': \"236.27\",\n        }],\n [{\n            'v': 557889,\n            'f': \"557889\",\n        },\n\"2019-10-07\",\n\"TR\",\n\"Antakya\",\n\"wind-gust\",\n{\n            'v': 24,\n            'f': \"24\",\n        },\n{\n            'v': 5.2,\n            'f': \"5.2\",\n        },\n{\n            'v': 30.5,\n            'f': \"30.5\",\n        },\n{\n            'v': 13.0,\n            'f': \"13.0\",\n        },\n{\n            'v': 655.62,\n            'f': \"655.62\",\n        }],\n [{\n            'v': 557890,\n            'f': \"557890\",\n        },\n\"2019-11-21\",\n\"TR\",\n\"Antakya\",\n\"wind-gust\",\n{\n            'v': 19,\n            'f': \"19\",\n        },\n{\n            'v': 0.1,\n            'f': \"0.1\",\n        },\n{\n            'v': 18.1,\n            'f': \"18.1\",\n        },\n{\n            'v': 9.4,\n            'f': \"9.4\",\n        },\n{\n            'v': 368.32,\n            'f': \"368.32\",\n        }],\n [{\n            'v': 557891,\n            'f': \"557891\",\n        },\n\"2019-11-22\",\n\"TR\",\n\"Antakya\",\n\"wind-gust\",\n{\n            'v': 16,\n            'f': \"16\",\n        },\n{\n            'v': 5.1,\n            'f': \"5.1\",\n        },\n{\n            'v': 19.3,\n            'f': \"19.3\",\n        },\n{\n            'v': 15.8,\n            'f': \"15.8\",\n        },\n{\n            'v': 159.34,\n            'f': \"159.34\",\n        }],\n [{\n            'v': 557892,\n            'f': \"557892\",\n        },\n\"2019-12-13\",\n\"TR\",\n\"Antakya\",\n\"wind-gust\",\n{\n            'v': 23,\n            'f': \"23\",\n        },\n{\n            'v': 1.0,\n            'f': \"1.0\",\n        },\n{\n            'v': 16.4,\n            'f': \"16.4\",\n        },\n{\n            'v': 11.9,\n            'f': \"11.9\",\n        },\n{\n            'v': 115.14,\n            'f': \"115.14\",\n        }],\n [{\n            'v': 557893,\n            'f': \"557893\",\n        },\n\"2019-11-16\",\n\"TR\",\n\"Antakya\",\n\"wind-gust\",\n{\n            'v': 16,\n            'f': \"16\",\n        },\n{\n            'v': 0.1,\n            'f': \"0.1\",\n        },\n{\n            'v': 18.2,\n            'f': \"18.2\",\n        },\n{\n            'v': 6.2,\n            'f': \"6.2\",\n        },\n{\n            'v': 536.21,\n            'f': \"536.21\",\n        }],\n [{\n            'v': 557894,\n            'f': \"557894\",\n        },\n\"2019-11-18\",\n\"TR\",\n\"Antakya\",\n\"wind-gust\",\n{\n            'v': 17,\n            'f': \"17\",\n        },\n{\n            'v': 0.1,\n            'f': \"0.1\",\n        },\n{\n            'v': 16.1,\n            'f': \"16.1\",\n        },\n{\n            'v': 10.0,\n            'f': \"10.0\",\n        },\n{\n            'v': 406.35,\n            'f': \"406.35\",\n        }],\n [{\n            'v': 557895,\n            'f': \"557895\",\n        },\n\"2019-12-03\",\n\"TR\",\n\"Antakya\",\n\"wind-gust\",\n{\n            'v': 18,\n            'f': \"18\",\n        },\n{\n            'v': 0.4,\n            'f': \"0.4\",\n        },\n{\n            'v': 17.8,\n            'f': \"17.8\",\n        },\n{\n            'v': 14.3,\n            'f': \"14.3\",\n        },\n{\n            'v': 307.08,\n            'f': \"307.08\",\n        }],\n [{\n            'v': 557896,\n            'f': \"557896\",\n        },\n\"2019-12-16\",\n\"TR\",\n\"Antakya\",\n\"wind-gust\",\n{\n            'v': 15,\n            'f': \"15\",\n        },\n{\n            'v': 0.2,\n            'f': \"0.2\",\n        },\n{\n            'v': 14.7,\n            'f': \"14.7\",\n        },\n{\n            'v': 10.1,\n            'f': \"10.1\",\n        },\n{\n            'v': 234.43,\n            'f': \"234.43\",\n        }],\n [{\n            'v': 557897,\n            'f': \"557897\",\n        },\n\"2019-12-22\",\n\"TR\",\n\"Antakya\",\n\"wind-gust\",\n{\n            'v': 21,\n            'f': \"21\",\n        },\n{\n            'v': 0.2,\n            'f': \"0.2\",\n        },\n{\n            'v': 14.1,\n            'f': \"14.1\",\n        },\n{\n            'v': 5.5,\n            'f': \"5.5\",\n        },\n{\n            'v': 218.81,\n            'f': \"218.81\",\n        }],\n [{\n            'v': 557898,\n            'f': \"557898\",\n        },\n\"2019-10-31\",\n\"TR\",\n\"Antakya\",\n\"wind-gust\",\n{\n            'v': 23,\n            'f': \"23\",\n        },\n{\n            'v': 0.3,\n            'f': \"0.3\",\n        },\n{\n            'v': 16.9,\n            'f': \"16.9\",\n        },\n{\n            'v': 11.2,\n            'f': \"11.2\",\n        },\n{\n            'v': 332.74,\n            'f': \"332.74\",\n        }],\n [{\n            'v': 557899,\n            'f': \"557899\",\n        },\n\"2019-11-01\",\n\"TR\",\n\"Antakya\",\n\"wind-gust\",\n{\n            'v': 16,\n            'f': \"16\",\n        },\n{\n            'v': 0.1,\n            'f': \"0.1\",\n        },\n{\n            'v': 20.7,\n            'f': \"20.7\",\n        },\n{\n            'v': 10.0,\n            'f': \"10.0\",\n        },\n{\n            'v': 298.14,\n            'f': \"298.14\",\n        }],\n [{\n            'v': 557900,\n            'f': \"557900\",\n        },\n\"2019-12-08\",\n\"TR\",\n\"Antakya\",\n\"wind-gust\",\n{\n            'v': 22,\n            'f': \"22\",\n        },\n{\n            'v': 0.2,\n            'f': \"0.2\",\n        },\n{\n            'v': 16.3,\n            'f': \"16.3\",\n        },\n{\n            'v': 10.5,\n            'f': \"10.5\",\n        },\n{\n            'v': 371.64,\n            'f': \"371.64\",\n        }],\n [{\n            'v': 557901,\n            'f': \"557901\",\n        },\n\"2019-12-23\",\n\"TR\",\n\"Antakya\",\n\"wind-gust\",\n{\n            'v': 21,\n            'f': \"21\",\n        },\n{\n            'v': 0.1,\n            'f': \"0.1\",\n        },\n{\n            'v': 36.7,\n            'f': \"36.7\",\n        },\n{\n            'v': 14.2,\n            'f': \"14.2\",\n        },\n{\n            'v': 1440.29,\n            'f': \"1440.29\",\n        }],\n [{\n            'v': 557902,\n            'f': \"557902\",\n        },\n\"2019-10-13\",\n\"TR\",\n\"Antakya\",\n\"wind-gust\",\n{\n            'v': 24,\n            'f': \"24\",\n        },\n{\n            'v': 0.1,\n            'f': \"0.1\",\n        },\n{\n            'v': 20.1,\n            'f': \"20.1\",\n        },\n{\n            'v': 12.8,\n            'f': \"12.8\",\n        },\n{\n            'v': 445.98,\n            'f': \"445.98\",\n        }],\n [{\n            'v': 557903,\n            'f': \"557903\",\n        },\n\"2019-10-20\",\n\"TR\",\n\"Antakya\",\n\"wind-gust\",\n{\n            'v': 24,\n            'f': \"24\",\n        },\n{\n            'v': 5.0,\n            'f': \"5.0\",\n        },\n{\n            'v': 22.0,\n            'f': \"22.0\",\n        },\n{\n            'v': 9.8,\n            'f': \"9.8\",\n        },\n{\n            'v': 234.72,\n            'f': \"234.72\",\n        }],\n [{\n            'v': 557904,\n            'f': \"557904\",\n        },\n\"2019-10-21\",\n\"TR\",\n\"Antakya\",\n\"wind-gust\",\n{\n            'v': 23,\n            'f': \"23\",\n        },\n{\n            'v': 2.0,\n            'f': \"2.0\",\n        },\n{\n            'v': 22.2,\n            'f': \"22.2\",\n        },\n{\n            'v': 9.3,\n            'f': \"9.3\",\n        },\n{\n            'v': 259.93,\n            'f': \"259.93\",\n        }],\n [{\n            'v': 557905,\n            'f': \"557905\",\n        },\n\"2019-11-02\",\n\"TR\",\n\"Antakya\",\n\"wind-gust\",\n{\n            'v': 19,\n            'f': \"19\",\n        },\n{\n            'v': 4.5,\n            'f': \"4.5\",\n        },\n{\n            'v': 26.6,\n            'f': \"26.6\",\n        },\n{\n            'v': 16.2,\n            'f': \"16.2\",\n        },\n{\n            'v': 270.01,\n            'f': \"270.01\",\n        }],\n [{\n            'v': 557906,\n            'f': \"557906\",\n        },\n\"2019-11-25\",\n\"TR\",\n\"Antakya\",\n\"wind-gust\",\n{\n            'v': 18,\n            'f': \"18\",\n        },\n{\n            'v': 0.8,\n            'f': \"0.8\",\n        },\n{\n            'v': 19.7,\n            'f': \"19.7\",\n        },\n{\n            'v': 17.0,\n            'f': \"17.0\",\n        },\n{\n            'v': 439.06,\n            'f': \"439.06\",\n        }],\n [{\n            'v': 557907,\n            'f': \"557907\",\n        },\n\"2019-12-02\",\n\"TR\",\n\"Antakya\",\n\"wind-gust\",\n{\n            'v': 24,\n            'f': \"24\",\n        },\n{\n            'v': 7.3,\n            'f': \"7.3\",\n        },\n{\n            'v': 20.7,\n            'f': \"20.7\",\n        },\n{\n            'v': 12.8,\n            'f': \"12.8\",\n        },\n{\n            'v': 137.58,\n            'f': \"137.58\",\n        }],\n [{\n            'v': 557908,\n            'f': \"557908\",\n        },\n\"2019-10-16\",\n\"TR\",\n\"Antakya\",\n\"wind-gust\",\n{\n            'v': 24,\n            'f': \"24\",\n        },\n{\n            'v': 1.0,\n            'f': \"1.0\",\n        },\n{\n            'v': 27.5,\n            'f': \"27.5\",\n        },\n{\n            'v': 9.5,\n            'f': \"9.5\",\n        },\n{\n            'v': 482.84,\n            'f': \"482.84\",\n        }],\n [{\n            'v': 557909,\n            'f': \"557909\",\n        },\n\"2019-11-04\",\n\"TR\",\n\"Antakya\",\n\"wind-gust\",\n{\n            'v': 17,\n            'f': \"17\",\n        },\n{\n            'v': 1.0,\n            'f': \"1.0\",\n        },\n{\n            'v': 20.5,\n            'f': \"20.5\",\n        },\n{\n            'v': 18.2,\n            'f': \"18.2\",\n        },\n{\n            'v': 443.84,\n            'f': \"443.84\",\n        }],\n [{\n            'v': 557910,\n            'f': \"557910\",\n        },\n\"2019-12-05\",\n\"TR\",\n\"Antakya\",\n\"wind-gust\",\n{\n            'v': 24,\n            'f': \"24\",\n        },\n{\n            'v': 1.7,\n            'f': \"1.7\",\n        },\n{\n            'v': 21.0,\n            'f': \"21.0\",\n        },\n{\n            'v': 15.8,\n            'f': \"15.8\",\n        },\n{\n            'v': 314.53,\n            'f': \"314.53\",\n        }],\n [{\n            'v': 557911,\n            'f': \"557911\",\n        },\n\"2019-12-26\",\n\"TR\",\n\"Antakya\",\n\"wind-gust\",\n{\n            'v': 24,\n            'f': \"24\",\n        },\n{\n            'v': 5.1,\n            'f': \"5.1\",\n        },\n{\n            'v': 18.0,\n            'f': \"18.0\",\n        },\n{\n            'v': 9.6,\n            'f': \"9.6\",\n        },\n{\n            'v': 136.95,\n            'f': \"136.95\",\n        }],\n [{\n            'v': 557912,\n            'f': \"557912\",\n        },\n\"2019-10-06\",\n\"TR\",\n\"Antakya\",\n\"wind-gust\",\n{\n            'v': 24,\n            'f': \"24\",\n        },\n{\n            'v': 0.6,\n            'f': \"0.6\",\n        },\n{\n            'v': 28.8,\n            'f': \"28.8\",\n        },\n{\n            'v': 10.3,\n            'f': \"10.3\",\n        },\n{\n            'v': 975.61,\n            'f': \"975.61\",\n        }],\n [{\n            'v': 557913,\n            'f': \"557913\",\n        },\n\"2019-10-08\",\n\"TR\",\n\"Antakya\",\n\"wind-gust\",\n{\n            'v': 24,\n            'f': \"24\",\n        },\n{\n            'v': 1.8,\n            'f': \"1.8\",\n        },\n{\n            'v': 16.7,\n            'f': \"16.7\",\n        },\n{\n            'v': 10.6,\n            'f': \"10.6\",\n        },\n{\n            'v': 184.36,\n            'f': \"184.36\",\n        }],\n [{\n            'v': 557914,\n            'f': \"557914\",\n        },\n\"2019-11-14\",\n\"TR\",\n\"Antakya\",\n\"wind-gust\",\n{\n            'v': 36,\n            'f': \"36\",\n        },\n{\n            'v': 0.1,\n            'f': \"0.1\",\n        },\n{\n            'v': 20.5,\n            'f': \"20.5\",\n        },\n{\n            'v': 18.0,\n            'f': \"18.0\",\n        },\n{\n            'v': 530.55,\n            'f': \"530.55\",\n        }],\n [{\n            'v': 557915,\n            'f': \"557915\",\n        },\n\"2019-11-23\",\n\"TR\",\n\"Antakya\",\n\"wind-gust\",\n{\n            'v': 19,\n            'f': \"19\",\n        },\n{\n            'v': 0.2,\n            'f': \"0.2\",\n        },\n{\n            'v': 19.4,\n            'f': \"19.4\",\n        },\n{\n            'v': 15.7,\n            'f': \"15.7\",\n        },\n{\n            'v': 479.87,\n            'f': \"479.87\",\n        }],\n [{\n            'v': 557916,\n            'f': \"557916\",\n        },\n\"2019-11-28\",\n\"TR\",\n\"Antakya\",\n\"wind-gust\",\n{\n            'v': 17,\n            'f': \"17\",\n        },\n{\n            'v': 0.1,\n            'f': \"0.1\",\n        },\n{\n            'v': 16.0,\n            'f': \"16.0\",\n        },\n{\n            'v': 12.8,\n            'f': \"12.8\",\n        },\n{\n            'v': 376.65,\n            'f': \"376.65\",\n        }],\n [{\n            'v': 557917,\n            'f': \"557917\",\n        },\n\"2019-11-29\",\n\"TR\",\n\"Antakya\",\n\"wind-gust\",\n{\n            'v': 24,\n            'f': \"24\",\n        },\n{\n            'v': 2.0,\n            'f': \"2.0\",\n        },\n{\n            'v': 14.2,\n            'f': \"14.2\",\n        },\n{\n            'v': 10.9,\n            'f': \"10.9\",\n        },\n{\n            'v': 123.93,\n            'f': \"123.93\",\n        }],\n [{\n            'v': 557918,\n            'f': \"557918\",\n        },\n\"2019-12-04\",\n\"TR\",\n\"Antakya\",\n\"wind-gust\",\n{\n            'v': 23,\n            'f': \"23\",\n        },\n{\n            'v': 0.2,\n            'f': \"0.2\",\n        },\n{\n            'v': 17.3,\n            'f': \"17.3\",\n        },\n{\n            'v': 13.0,\n            'f': \"13.0\",\n        },\n{\n            'v': 447.72,\n            'f': \"447.72\",\n        }],\n [{\n            'v': 557919,\n            'f': \"557919\",\n        },\n\"2019-12-07\",\n\"TR\",\n\"Antakya\",\n\"wind-gust\",\n{\n            'v': 21,\n            'f': \"21\",\n        },\n{\n            'v': 0.2,\n            'f': \"0.2\",\n        },\n{\n            'v': 14.5,\n            'f': \"14.5\",\n        },\n{\n            'v': 11.3,\n            'f': \"11.3\",\n        },\n{\n            'v': 324.11,\n            'f': \"324.11\",\n        }],\n [{\n            'v': 557920,\n            'f': \"557920\",\n        },\n\"2019-12-19\",\n\"TR\",\n\"Antakya\",\n\"wind-gust\",\n{\n            'v': 17,\n            'f': \"17\",\n        },\n{\n            'v': 0.1,\n            'f': \"0.1\",\n        },\n{\n            'v': 14.8,\n            'f': \"14.8\",\n        },\n{\n            'v': 10.1,\n            'f': \"10.1\",\n        },\n{\n            'v': 310.42,\n            'f': \"310.42\",\n        }],\n [{\n            'v': 557921,\n            'f': \"557921\",\n        },\n\"2019-11-09\",\n\"TR\",\n\"Antakya\",\n\"wind-gust\",\n{\n            'v': 20,\n            'f': \"20\",\n        },\n{\n            'v': 0.1,\n            'f': \"0.1\",\n        },\n{\n            'v': 21.0,\n            'f': \"21.0\",\n        },\n{\n            'v': 16.4,\n            'f': \"16.4\",\n        },\n{\n            'v': 646.55,\n            'f': \"646.55\",\n        }],\n [{\n            'v': 557922,\n            'f': \"557922\",\n        },\n\"2019-11-26\",\n\"TR\",\n\"Antakya\",\n\"wind-gust\",\n{\n            'v': 21,\n            'f': \"21\",\n        },\n{\n            'v': 0.2,\n            'f': \"0.2\",\n        },\n{\n            'v': 16.0,\n            'f': \"16.0\",\n        },\n{\n            'v': 11.0,\n            'f': \"11.0\",\n        },\n{\n            'v': 274.48,\n            'f': \"274.48\",\n        }],\n [{\n            'v': 557923,\n            'f': \"557923\",\n        },\n\"2019-12-24\",\n\"TR\",\n\"Antakya\",\n\"wind-gust\",\n{\n            'v': 24,\n            'f': \"24\",\n        },\n{\n            'v': 28.5,\n            'f': \"28.5\",\n        },\n{\n            'v': 51.4,\n            'f': \"51.4\",\n        },\n{\n            'v': 42.9,\n            'f': \"42.9\",\n        },\n{\n            'v': 317.62,\n            'f': \"317.62\",\n        }],\n [{\n            'v': 557924,\n            'f': \"557924\",\n        },\n\"2020-01-04\",\n\"TR\",\n\"Antakya\",\n\"wind-gust\",\n{\n            'v': 20,\n            'f': \"20\",\n        },\n{\n            'v': 0.2,\n            'f': \"0.2\",\n        },\n{\n            'v': 11.8,\n            'f': \"11.8\",\n        },\n{\n            'v': 6.1,\n            'f': \"6.1\",\n        },\n{\n            'v': 118.95,\n            'f': \"118.95\",\n        }],\n [{\n            'v': 557925,\n            'f': \"557925\",\n        },\n\"2019-10-05\",\n\"TR\",\n\"Antakya\",\n\"wind-gust\",\n{\n            'v': 24,\n            'f': \"24\",\n        },\n{\n            'v': 5.1,\n            'f': \"5.1\",\n        },\n{\n            'v': 16.5,\n            'f': \"16.5\",\n        },\n{\n            'v': 8.1,\n            'f': \"8.1\",\n        },\n{\n            'v': 125.91,\n            'f': \"125.91\",\n        }],\n [{\n            'v': 557926,\n            'f': \"557926\",\n        },\n\"2019-10-15\",\n\"TR\",\n\"Antakya\",\n\"wind-gust\",\n{\n            'v': 23,\n            'f': \"23\",\n        },\n{\n            'v': 0.5,\n            'f': \"0.5\",\n        },\n{\n            'v': 21.7,\n            'f': \"21.7\",\n        },\n{\n            'v': 16.3,\n            'f': \"16.3\",\n        },\n{\n            'v': 418.58,\n            'f': \"418.58\",\n        }],\n [{\n            'v': 557927,\n            'f': \"557927\",\n        },\n\"2019-10-22\",\n\"TR\",\n\"Antakya\",\n\"wind-gust\",\n{\n            'v': 24,\n            'f': \"24\",\n        },\n{\n            'v': 0.5,\n            'f': \"0.5\",\n        },\n{\n            'v': 15.3,\n            'f': \"15.3\",\n        },\n{\n            'v': 11.4,\n            'f': \"11.4\",\n        },\n{\n            'v': 171.45,\n            'f': \"171.45\",\n        }],\n [{\n            'v': 557928,\n            'f': \"557928\",\n        },\n\"2019-10-27\",\n\"TR\",\n\"Antakya\",\n\"wind-gust\",\n{\n            'v': 21,\n            'f': \"21\",\n        },\n{\n            'v': 0.2,\n            'f': \"0.2\",\n        },\n{\n            'v': 30.4,\n            'f': \"30.4\",\n        },\n{\n            'v': 15.6,\n            'f': \"15.6\",\n        },\n{\n            'v': 483.0,\n            'f': \"483.0\",\n        }],\n [{\n            'v': 557929,\n            'f': \"557929\",\n        },\n\"2019-12-11\",\n\"TR\",\n\"Antakya\",\n\"wind-gust\",\n{\n            'v': 21,\n            'f': \"21\",\n        },\n{\n            'v': 0.7,\n            'f': \"0.7\",\n        },\n{\n            'v': 16.0,\n            'f': \"16.0\",\n        },\n{\n            'v': 11.6,\n            'f': \"11.6\",\n        },\n{\n            'v': 229.0,\n            'f': \"229.0\",\n        }],\n [{\n            'v': 557930,\n            'f': \"557930\",\n        },\n\"2019-12-18\",\n\"TR\",\n\"Antakya\",\n\"wind-gust\",\n{\n            'v': 16,\n            'f': \"16\",\n        },\n{\n            'v': 0.1,\n            'f': \"0.1\",\n        },\n{\n            'v': 15.9,\n            'f': \"15.9\",\n        },\n{\n            'v': 10.3,\n            'f': \"10.3\",\n        },\n{\n            'v': 266.84,\n            'f': \"266.84\",\n        }],\n [{\n            'v': 557931,\n            'f': \"557931\",\n        },\n\"2019-11-10\",\n\"TR\",\n\"Antakya\",\n\"wind-gust\",\n{\n            'v': 23,\n            'f': \"23\",\n        },\n{\n            'v': 5.8,\n            'f': \"5.8\",\n        },\n{\n            'v': 21.6,\n            'f': \"21.6\",\n        },\n{\n            'v': 19.6,\n            'f': \"19.6\",\n        },\n{\n            'v': 193.98,\n            'f': \"193.98\",\n        }],\n [{\n            'v': 557932,\n            'f': \"557932\",\n        },\n\"2019-11-19\",\n\"TR\",\n\"Antakya\",\n\"wind-gust\",\n{\n            'v': 19,\n            'f': \"19\",\n        },\n{\n            'v': 0.1,\n            'f': \"0.1\",\n        },\n{\n            'v': 18.7,\n            'f': \"18.7\",\n        },\n{\n            'v': 9.0,\n            'f': \"9.0\",\n        },\n{\n            'v': 508.73,\n            'f': \"508.73\",\n        }],\n [{\n            'v': 557933,\n            'f': \"557933\",\n        },\n\"2019-12-06\",\n\"TR\",\n\"Antakya\",\n\"wind-gust\",\n{\n            'v': 21,\n            'f': \"21\",\n        },\n{\n            'v': 0.9,\n            'f': \"0.9\",\n        },\n{\n            'v': 20.1,\n            'f': \"20.1\",\n        },\n{\n            'v': 13.3,\n            'f': \"13.3\",\n        },\n{\n            'v': 211.49,\n            'f': \"211.49\",\n        }],\n [{\n            'v': 557934,\n            'f': \"557934\",\n        },\n\"2019-10-19\",\n\"TR\",\n\"Antakya\",\n\"wind-gust\",\n{\n            'v': 24,\n            'f': \"24\",\n        },\n{\n            'v': 5.0,\n            'f': \"5.0\",\n        },\n{\n            'v': 17.1,\n            'f': \"17.1\",\n        },\n{\n            'v': 10.4,\n            'f': \"10.4\",\n        },\n{\n            'v': 117.01,\n            'f': \"117.01\",\n        }],\n [{\n            'v': 557935,\n            'f': \"557935\",\n        },\n\"2019-10-26\",\n\"TR\",\n\"Antakya\",\n\"wind-gust\",\n{\n            'v': 23,\n            'f': \"23\",\n        },\n{\n            'v': 0.1,\n            'f': \"0.1\",\n        },\n{\n            'v': 15.1,\n            'f': \"15.1\",\n        },\n{\n            'v': 7.5,\n            'f': \"7.5\",\n        },\n{\n            'v': 247.77,\n            'f': \"247.77\",\n        }],\n [{\n            'v': 557936,\n            'f': \"557936\",\n        },\n\"2019-10-30\",\n\"TR\",\n\"Antakya\",\n\"wind-gust\",\n{\n            'v': 20,\n            'f': \"20\",\n        },\n{\n            'v': 0.1,\n            'f': \"0.1\",\n        },\n{\n            'v': 16.9,\n            'f': \"16.9\",\n        },\n{\n            'v': 6.7,\n            'f': \"6.7\",\n        },\n{\n            'v': 415.91,\n            'f': \"415.91\",\n        }],\n [{\n            'v': 557937,\n            'f': \"557937\",\n        },\n\"2019-11-03\",\n\"TR\",\n\"Antakya\",\n\"wind-gust\",\n{\n            'v': 17,\n            'f': \"17\",\n        },\n{\n            'v': 0.6,\n            'f': \"0.6\",\n        },\n{\n            'v': 20.3,\n            'f': \"20.3\",\n        },\n{\n            'v': 17.0,\n            'f': \"17.0\",\n        },\n{\n            'v': 539.66,\n            'f': \"539.66\",\n        }],\n [{\n            'v': 557938,\n            'f': \"557938\",\n        },\n\"2019-11-06\",\n\"TR\",\n\"Antakya\",\n\"wind-gust\",\n{\n            'v': 15,\n            'f': \"15\",\n        },\n{\n            'v': 3.8,\n            'f': \"3.8\",\n        },\n{\n            'v': 21.0,\n            'f': \"21.0\",\n        },\n{\n            'v': 17.6,\n            'f': \"17.6\",\n        },\n{\n            'v': 305.98,\n            'f': \"305.98\",\n        }],\n [{\n            'v': 557939,\n            'f': \"557939\",\n        },\n\"2019-11-08\",\n\"TR\",\n\"Antakya\",\n\"wind-gust\",\n{\n            'v': 22,\n            'f': \"22\",\n        },\n{\n            'v': 0.2,\n            'f': \"0.2\",\n        },\n{\n            'v': 20.3,\n            'f': \"20.3\",\n        },\n{\n            'v': 14.6,\n            'f': \"14.6\",\n        },\n{\n            'v': 605.0,\n            'f': \"605.0\",\n        }],\n [{\n            'v': 557940,\n            'f': \"557940\",\n        },\n\"2019-12-17\",\n\"TR\",\n\"Antakya\",\n\"wind-gust\",\n{\n            'v': 16,\n            'f': \"16\",\n        },\n{\n            'v': 0.2,\n            'f': \"0.2\",\n        },\n{\n            'v': 12.5,\n            'f': \"12.5\",\n        },\n{\n            'v': 8.0,\n            'f': \"8.0\",\n        },\n{\n            'v': 178.44,\n            'f': \"178.44\",\n        }],\n [{\n            'v': 557941,\n            'f': \"557941\",\n        },\n\"2019-12-21\",\n\"TR\",\n\"Antakya\",\n\"wind-gust\",\n{\n            'v': 12,\n            'f': \"12\",\n        },\n{\n            'v': 0.5,\n            'f': \"0.5\",\n        },\n{\n            'v': 11.6,\n            'f': \"11.6\",\n        },\n{\n            'v': 9.0,\n            'f': \"9.0\",\n        },\n{\n            'v': 193.81,\n            'f': \"193.81\",\n        }],\n [{\n            'v': 557942,\n            'f': \"557942\",\n        },\n\"2019-12-25\",\n\"TR\",\n\"Antakya\",\n\"wind-gust\",\n{\n            'v': 24,\n            'f': \"24\",\n        },\n{\n            'v': 4.1,\n            'f': \"4.1\",\n        },\n{\n            'v': 38.3,\n            'f': \"38.3\",\n        },\n{\n            'v': 11.3,\n            'f': \"11.3\",\n        },\n{\n            'v': 699.09,\n            'f': \"699.09\",\n        }],\n [{\n            'v': 557943,\n            'f': \"557943\",\n        },\n\"2019-10-11\",\n\"TR\",\n\"Antakya\",\n\"wind-gust\",\n{\n            'v': 24,\n            'f': \"24\",\n        },\n{\n            'v': 1.1,\n            'f': \"1.1\",\n        },\n{\n            'v': 14.7,\n            'f': \"14.7\",\n        },\n{\n            'v': 9.0,\n            'f': \"9.0\",\n        },\n{\n            'v': 134.37,\n            'f': \"134.37\",\n        }],\n [{\n            'v': 557944,\n            'f': \"557944\",\n        },\n\"2019-10-17\",\n\"TR\",\n\"Antakya\",\n\"wind-gust\",\n{\n            'v': 22,\n            'f': \"22\",\n        },\n{\n            'v': 3.3,\n            'f': \"3.3\",\n        },\n{\n            'v': 21.3,\n            'f': \"21.3\",\n        },\n{\n            'v': 15.1,\n            'f': \"15.1\",\n        },\n{\n            'v': 244.6,\n            'f': \"244.6\",\n        }],\n [{\n            'v': 557945,\n            'f': \"557945\",\n        },\n\"2019-11-12\",\n\"TR\",\n\"Antakya\",\n\"wind-gust\",\n{\n            'v': 34,\n            'f': \"34\",\n        },\n{\n            'v': 0.2,\n            'f': \"0.2\",\n        },\n{\n            'v': 19.1,\n            'f': \"19.1\",\n        },\n{\n            'v': 15.5,\n            'f': \"15.5\",\n        },\n{\n            'v': 399.55,\n            'f': \"399.55\",\n        }],\n [{\n            'v': 557946,\n            'f': \"557946\",\n        },\n\"2019-11-17\",\n\"TR\",\n\"Antakya\",\n\"wind-gust\",\n{\n            'v': 24,\n            'f': \"24\",\n        },\n{\n            'v': 0.7,\n            'f': \"0.7\",\n        },\n{\n            'v': 25.9,\n            'f': \"25.9\",\n        },\n{\n            'v': 13.8,\n            'f': \"13.8\",\n        },\n{\n            'v': 418.79,\n            'f': \"418.79\",\n        }],\n [{\n            'v': 557947,\n            'f': \"557947\",\n        },\n\"2019-11-27\",\n\"TR\",\n\"Antakya\",\n\"wind-gust\",\n{\n            'v': 24,\n            'f': \"24\",\n        },\n{\n            'v': 3.5,\n            'f': \"3.5\",\n        },\n{\n            'v': 22.2,\n            'f': \"22.2\",\n        },\n{\n            'v': 14.4,\n            'f': \"14.4\",\n        },\n{\n            'v': 146.42,\n            'f': \"146.42\",\n        }],\n [{\n            'v': 557948,\n            'f': \"557948\",\n        },\n\"2019-11-30\",\n\"TR\",\n\"Antakya\",\n\"wind-gust\",\n{\n            'v': 23,\n            'f': \"23\",\n        },\n{\n            'v': 0.2,\n            'f': \"0.2\",\n        },\n{\n            'v': 13.3,\n            'f': \"13.3\",\n        },\n{\n            'v': 7.4,\n            'f': \"7.4\",\n        },\n{\n            'v': 169.67,\n            'f': \"169.67\",\n        }],\n [{\n            'v': 557949,\n            'f': \"557949\",\n        },\n\"2019-12-15\",\n\"TR\",\n\"Antakya\",\n\"wind-gust\",\n{\n            'v': 22,\n            'f': \"22\",\n        },\n{\n            'v': 0.2,\n            'f': \"0.2\",\n        },\n{\n            'v': 13.7,\n            'f': \"13.7\",\n        },\n{\n            'v': 7.3,\n            'f': \"7.3\",\n        },\n{\n            'v': 167.41,\n            'f': \"167.41\",\n        }],\n [{\n            'v': 557950,\n            'f': \"557950\",\n        },\n\"2019-10-28\",\n\"TR\",\n\"Antakya\",\n\"wind-gust\",\n{\n            'v': 24,\n            'f': \"24\",\n        },\n{\n            'v': 2.8,\n            'f': \"2.8\",\n        },\n{\n            'v': 28.4,\n            'f': \"28.4\",\n        },\n{\n            'v': 16.4,\n            'f': \"16.4\",\n        },\n{\n            'v': 421.24,\n            'f': \"421.24\",\n        }],\n [{\n            'v': 557951,\n            'f': \"557951\",\n        },\n\"2019-10-29\",\n\"TR\",\n\"Antakya\",\n\"wind-gust\",\n{\n            'v': 18,\n            'f': \"18\",\n        },\n{\n            'v': 0.1,\n            'f': \"0.1\",\n        },\n{\n            'v': 16.9,\n            'f': \"16.9\",\n        },\n{\n            'v': 10.9,\n            'f': \"10.9\",\n        },\n{\n            'v': 250.66,\n            'f': \"250.66\",\n        }],\n [{\n            'v': 557952,\n            'f': \"557952\",\n        },\n\"2019-11-05\",\n\"TR\",\n\"Antakya\",\n\"wind-gust\",\n{\n            'v': 17,\n            'f': \"17\",\n        },\n{\n            'v': 0.9,\n            'f': \"0.9\",\n        },\n{\n            'v': 21.9,\n            'f': \"21.9\",\n        },\n{\n            'v': 18.3,\n            'f': \"18.3\",\n        },\n{\n            'v': 492.96,\n            'f': \"492.96\",\n        }],\n [{\n            'v': 557953,\n            'f': \"557953\",\n        },\n\"2019-11-13\",\n\"TR\",\n\"Antakya\",\n\"wind-gust\",\n{\n            'v': 34,\n            'f': \"34\",\n        },\n{\n            'v': 1.6,\n            'f': \"1.6\",\n        },\n{\n            'v': 21.6,\n            'f': \"21.6\",\n        },\n{\n            'v': 17.5,\n            'f': \"17.5\",\n        },\n{\n            'v': 364.42,\n            'f': \"364.42\",\n        }],\n [{\n            'v': 557954,\n            'f': \"557954\",\n        },\n\"2019-11-20\",\n\"TR\",\n\"Antakya\",\n\"wind-gust\",\n{\n            'v': 17,\n            'f': \"17\",\n        },\n{\n            'v': 0.1,\n            'f': \"0.1\",\n        },\n{\n            'v': 18.3,\n            'f': \"18.3\",\n        },\n{\n            'v': 12.6,\n            'f': \"12.6\",\n        },\n{\n            'v': 398.97,\n            'f': \"398.97\",\n        }],\n [{\n            'v': 557955,\n            'f': \"557955\",\n        },\n\"2019-09-30\",\n\"TR\",\n\"Antakya\",\n\"wind-gust\",\n{\n            'v': 24,\n            'f': \"24\",\n        },\n{\n            'v': 4.9,\n            'f': \"4.9\",\n        },\n{\n            'v': 16.7,\n            'f': \"16.7\",\n        },\n{\n            'v': 11.0,\n            'f': \"11.0\",\n        },\n{\n            'v': 148.21,\n            'f': \"148.21\",\n        }],\n [{\n            'v': 557956,\n            'f': \"557956\",\n        },\n\"2019-10-01\",\n\"TR\",\n\"Antakya\",\n\"wind-gust\",\n{\n            'v': 23,\n            'f': \"23\",\n        },\n{\n            'v': 2.4,\n            'f': \"2.4\",\n        },\n{\n            'v': 14.5,\n            'f': \"14.5\",\n        },\n{\n            'v': 9.4,\n            'f': \"9.4\",\n        },\n{\n            'v': 141.1,\n            'f': \"141.1\",\n        }],\n [{\n            'v': 557957,\n            'f': \"557957\",\n        },\n\"2019-10-25\",\n\"TR\",\n\"Antakya\",\n\"wind-gust\",\n{\n            'v': 24,\n            'f': \"24\",\n        },\n{\n            'v': 1.2,\n            'f': \"1.2\",\n        },\n{\n            'v': 20.8,\n            'f': \"20.8\",\n        },\n{\n            'v': 10.2,\n            'f': \"10.2\",\n        },\n{\n            'v': 318.2,\n            'f': \"318.2\",\n        }],\n [{\n            'v': 557958,\n            'f': \"557958\",\n        },\n\"2019-11-07\",\n\"TR\",\n\"Antakya\",\n\"wind-gust\",\n{\n            'v': 18,\n            'f': \"18\",\n        },\n{\n            'v': 0.2,\n            'f': \"0.2\",\n        },\n{\n            'v': 20.0,\n            'f': \"20.0\",\n        },\n{\n            'v': 17.0,\n            'f': \"17.0\",\n        },\n{\n            'v': 467.19,\n            'f': \"467.19\",\n        }],\n [{\n            'v': 557959,\n            'f': \"557959\",\n        },\n\"2019-11-11\",\n\"TR\",\n\"Antakya\",\n\"wind-gust\",\n{\n            'v': 32,\n            'f': \"32\",\n        },\n{\n            'v': 0.1,\n            'f': \"0.1\",\n        },\n{\n            'v': 18.4,\n            'f': \"18.4\",\n        },\n{\n            'v': 16.8,\n            'f': \"16.8\",\n        },\n{\n            'v': 444.46,\n            'f': \"444.46\",\n        }],\n [{\n            'v': 557960,\n            'f': \"557960\",\n        },\n\"2019-12-14\",\n\"TR\",\n\"Antakya\",\n\"wind-gust\",\n{\n            'v': 23,\n            'f': \"23\",\n        },\n{\n            'v': 2.7,\n            'f': \"2.7\",\n        },\n{\n            'v': 33.8,\n            'f': \"33.8\",\n        },\n{\n            'v': 11.7,\n            'f': \"11.7\",\n        },\n{\n            'v': 436.34,\n            'f': \"436.34\",\n        }],\n [{\n            'v': 557961,\n            'f': \"557961\",\n        },\n\"2019-12-27\",\n\"TR\",\n\"Antakya\",\n\"wind-gust\",\n{\n            'v': 20,\n            'f': \"20\",\n        },\n{\n            'v': 0.2,\n            'f': \"0.2\",\n        },\n{\n            'v': 14.5,\n            'f': \"14.5\",\n        },\n{\n            'v': 7.6,\n            'f': \"7.6\",\n        },\n{\n            'v': 230.98,\n            'f': \"230.98\",\n        }],\n [{\n            'v': 559355,\n            'f': \"559355\",\n        },\n\"2019-10-06\",\n\"TR\",\n\"Samsun\",\n\"wind-gust\",\n{\n            'v': 12,\n            'f': \"12\",\n        },\n{\n            'v': 11.3,\n            'f': \"11.3\",\n        },\n{\n            'v': 21.6,\n            'f': \"21.6\",\n        },\n{\n            'v': 20.5,\n            'f': \"20.5\",\n        },\n{\n            'v': 232.65,\n            'f': \"232.65\",\n        }],\n [{\n            'v': 559356,\n            'f': \"559356\",\n        },\n\"2019-12-01\",\n\"TR\",\n\"Samsun\",\n\"wind-gust\",\n{\n            'v': 5,\n            'f': \"5\",\n        },\n{\n            'v': 15.9,\n            'f': \"15.9\",\n        },\n{\n            'v': 15.9,\n            'f': \"15.9\",\n        },\n{\n            'v': 15.9,\n            'f': \"15.9\",\n        },\n{\n            'v': 0.0,\n            'f': \"0.0\",\n        }],\n [{\n            'v': 559357,\n            'f': \"559357\",\n        },\n\"2019-12-23\",\n\"TR\",\n\"Samsun\",\n\"wind-gust\",\n{\n            'v': 10,\n            'f': \"10\",\n        },\n{\n            'v': 9.7,\n            'f': \"9.7\",\n        },\n{\n            'v': 13.8,\n            'f': \"13.8\",\n        },\n{\n            'v': 9.7,\n            'f': \"9.7\",\n        },\n{\n            'v': 46.69,\n            'f': \"46.69\",\n        }],\n [{\n            'v': 559358,\n            'f': \"559358\",\n        },\n\"2019-12-24\",\n\"TR\",\n\"Samsun\",\n\"wind-gust\",\n{\n            'v': 15,\n            'f': \"15\",\n        },\n{\n            'v': 11.3,\n            'f': \"11.3\",\n        },\n{\n            'v': 13.8,\n            'f': \"13.8\",\n        },\n{\n            'v': 12.3,\n            'f': \"12.3\",\n        },\n{\n            'v': 11.31,\n            'f': \"11.31\",\n        }],\n [{\n            'v': 559359,\n            'f': \"559359\",\n        },\n\"2019-10-05\",\n\"TR\",\n\"Samsun\",\n\"wind-gust\",\n{\n            'v': 4,\n            'f': \"4\",\n        },\n{\n            'v': 22.6,\n            'f': \"22.6\",\n        },\n{\n            'v': 22.6,\n            'f': \"22.6\",\n        },\n{\n            'v': 22.6,\n            'f': \"22.6\",\n        },\n{\n            'v': 0.0,\n            'f': \"0.0\",\n        }],\n [{\n            'v': 560320,\n            'f': \"560320\",\n        },\n\"2019-10-15\",\n\"TR\",\n\"\\u0130zmir\",\n\"wind-gust\",\n{\n            'v': 8,\n            'f': \"8\",\n        },\n{\n            'v': 8.2,\n            'f': \"8.2\",\n        },\n{\n            'v': 8.2,\n            'f': \"8.2\",\n        },\n{\n            'v': 8.2,\n            'f': \"8.2\",\n        },\n{\n            'v': 0.0,\n            'f': \"0.0\",\n        }],\n [{\n            'v': 560321,\n            'f': \"560321\",\n        },\n\"2019-11-29\",\n\"TR\",\n\"\\u0130zmir\",\n\"wind-gust\",\n{\n            'v': 21,\n            'f': \"21\",\n        },\n{\n            'v': 11.8,\n            'f': \"11.8\",\n        },\n{\n            'v': 12.3,\n            'f': \"12.3\",\n        },\n{\n            'v': 11.8,\n            'f': \"11.8\",\n        },\n{\n            'v': 0.58,\n            'f': \"0.58\",\n        }],\n [{\n            'v': 560322,\n            'f': \"560322\",\n        },\n\"2019-12-01\",\n\"TR\",\n\"\\u0130zmir\",\n\"wind-gust\",\n{\n            'v': 7,\n            'f': \"7\",\n        },\n{\n            'v': 7.7,\n            'f': \"7.7\",\n        },\n{\n            'v': 7.7,\n            'f': \"7.7\",\n        },\n{\n            'v': 7.7,\n            'f': \"7.7\",\n        },\n{\n            'v': 0.0,\n            'f': \"0.0\",\n        }],\n [{\n            'v': 560323,\n            'f': \"560323\",\n        },\n\"2019-12-14\",\n\"TR\",\n\"\\u0130zmir\",\n\"wind-gust\",\n{\n            'v': 7,\n            'f': \"7\",\n        },\n{\n            'v': 8.7,\n            'f': \"8.7\",\n        },\n{\n            'v': 8.7,\n            'f': \"8.7\",\n        },\n{\n            'v': 8.7,\n            'f': \"8.7\",\n        },\n{\n            'v': 0.0,\n            'f': \"0.0\",\n        }],\n [{\n            'v': 560324,\n            'f': \"560324\",\n        },\n\"2019-12-23\",\n\"TR\",\n\"\\u0130zmir\",\n\"wind-gust\",\n{\n            'v': 42,\n            'f': \"42\",\n        },\n{\n            'v': 12.0,\n            'f': \"12.0\",\n        },\n{\n            'v': 17.4,\n            'f': \"17.4\",\n        },\n{\n            'v': 14.9,\n            'f': \"14.9\",\n        },\n{\n            'v': 35.87,\n            'f': \"35.87\",\n        }],\n [{\n            'v': 560325,\n            'f': \"560325\",\n        },\n\"2019-10-05\",\n\"TR\",\n\"\\u0130zmir\",\n\"wind-gust\",\n{\n            'v': 23,\n            'f': \"23\",\n        },\n{\n            'v': 7.7,\n            'f': \"7.7\",\n        },\n{\n            'v': 18.5,\n            'f': \"18.5\",\n        },\n{\n            'v': 14.9,\n            'f': \"14.9\",\n        },\n{\n            'v': 244.35,\n            'f': \"244.35\",\n        }],\n [{\n            'v': 560326,\n            'f': \"560326\",\n        },\n\"2019-10-21\",\n\"TR\",\n\"\\u0130zmir\",\n\"wind-gust\",\n{\n            'v': 16,\n            'f': \"16\",\n        },\n{\n            'v': 12.8,\n            'f': \"12.8\",\n        },\n{\n            'v': 12.8,\n            'f': \"12.8\",\n        },\n{\n            'v': 12.8,\n            'f': \"12.8\",\n        },\n{\n            'v': 0.0,\n            'f': \"0.0\",\n        }],\n [{\n            'v': 560327,\n            'f': \"560327\",\n        },\n\"2019-11-12\",\n\"TR\",\n\"\\u0130zmir\",\n\"wind-gust\",\n{\n            'v': 8,\n            'f': \"8\",\n        },\n{\n            'v': 6.1,\n            'f': \"6.1\",\n        },\n{\n            'v': 6.1,\n            'f': \"6.1\",\n        },\n{\n            'v': 6.1,\n            'f': \"6.1\",\n        },\n{\n            'v': 0.0,\n            'f': \"0.0\",\n        }],\n [{\n            'v': 560328,\n            'f': \"560328\",\n        },\n\"2019-11-25\",\n\"TR\",\n\"\\u0130zmir\",\n\"wind-gust\",\n{\n            'v': 5,\n            'f': \"5\",\n        },\n{\n            'v': 12.3,\n            'f': \"12.3\",\n        },\n{\n            'v': 12.3,\n            'f': \"12.3\",\n        },\n{\n            'v': 12.3,\n            'f': \"12.3\",\n        },\n{\n            'v': 0.0,\n            'f': \"0.0\",\n        }],\n [{\n            'v': 560329,\n            'f': \"560329\",\n        },\n\"2019-12-05\",\n\"TR\",\n\"\\u0130zmir\",\n\"wind-gust\",\n{\n            'v': 7,\n            'f': \"7\",\n        },\n{\n            'v': 10.2,\n            'f': \"10.2\",\n        },\n{\n            'v': 10.2,\n            'f': \"10.2\",\n        },\n{\n            'v': 10.2,\n            'f': \"10.2\",\n        },\n{\n            'v': 0.0,\n            'f': \"0.0\",\n        }],\n [{\n            'v': 560330,\n            'f': \"560330\",\n        },\n\"2019-12-21\",\n\"TR\",\n\"\\u0130zmir\",\n\"wind-gust\",\n{\n            'v': 8,\n            'f': \"8\",\n        },\n{\n            'v': 8.7,\n            'f': \"8.7\",\n        },\n{\n            'v': 8.7,\n            'f': \"8.7\",\n        },\n{\n            'v': 8.7,\n            'f': \"8.7\",\n        },\n{\n            'v': 0.0,\n            'f': \"0.0\",\n        }],\n [{\n            'v': 560331,\n            'f': \"560331\",\n        },\n\"2019-12-22\",\n\"TR\",\n\"\\u0130zmir\",\n\"wind-gust\",\n{\n            'v': 40,\n            'f': \"40\",\n        },\n{\n            'v': 13.3,\n            'f': \"13.3\",\n        },\n{\n            'v': 16.4,\n            'f': \"16.4\",\n        },\n{\n            'v': 13.8,\n            'f': \"13.8\",\n        },\n{\n            'v': 22.07,\n            'f': \"22.07\",\n        }],\n [{\n            'v': 560332,\n            'f': \"560332\",\n        },\n\"2019-10-04\",\n\"TR\",\n\"\\u0130zmir\",\n\"wind-gust\",\n{\n            'v': 49,\n            'f': \"49\",\n        },\n{\n            'v': 7.2,\n            'f': \"7.2\",\n        },\n{\n            'v': 13.3,\n            'f': \"13.3\",\n        },\n{\n            'v': 12.8,\n            'f': \"12.8\",\n        },\n{\n            'v': 51.03,\n            'f': \"51.03\",\n        }],\n [{\n            'v': 560333,\n            'f': \"560333\",\n        },\n\"2019-10-19\",\n\"TR\",\n\"\\u0130zmir\",\n\"wind-gust\",\n{\n            'v': 16,\n            'f': \"16\",\n        },\n{\n            'v': 7.2,\n            'f': \"7.2\",\n        },\n{\n            'v': 8.7,\n            'f': \"8.7\",\n        },\n{\n            'v': 7.2,\n            'f': \"7.2\",\n        },\n{\n            'v': 6.0,\n            'f': \"6.0\",\n        }],\n [{\n            'v': 560334,\n            'f': \"560334\",\n        },\n\"2019-11-14\",\n\"TR\",\n\"\\u0130zmir\",\n\"wind-gust\",\n{\n            'v': 7,\n            'f': \"7\",\n        },\n{\n            'v': 9.7,\n            'f': \"9.7\",\n        },\n{\n            'v': 9.7,\n            'f': \"9.7\",\n        },\n{\n            'v': 9.7,\n            'f': \"9.7\",\n        },\n{\n            'v': 0.0,\n            'f': \"0.0\",\n        }],\n [{\n            'v': 560335,\n            'f': \"560335\",\n        },\n\"2019-12-20\",\n\"TR\",\n\"\\u0130zmir\",\n\"wind-gust\",\n{\n            'v': 8,\n            'f': \"8\",\n        },\n{\n            'v': 7.2,\n            'f': \"7.2\",\n        },\n{\n            'v': 7.2,\n            'f': \"7.2\",\n        },\n{\n            'v': 7.2,\n            'f': \"7.2\",\n        },\n{\n            'v': 0.0,\n            'f': \"0.0\",\n        }],\n [{\n            'v': 561410,\n            'f': \"561410\",\n        },\n\"2019-10-05\",\n\"TR\",\n\"Konya\",\n\"wind-gust\",\n{\n            'v': 4,\n            'f': \"4\",\n        },\n{\n            'v': 16.2,\n            'f': \"16.2\",\n        },\n{\n            'v': 16.2,\n            'f': \"16.2\",\n        },\n{\n            'v': 16.2,\n            'f': \"16.2\",\n        },\n{\n            'v': 0.0,\n            'f': \"0.0\",\n        }],\n [{\n            'v': 561411,\n            'f': \"561411\",\n        },\n\"2019-10-16\",\n\"TR\",\n\"Konya\",\n\"wind-gust\",\n{\n            'v': 4,\n            'f': \"4\",\n        },\n{\n            'v': 15.4,\n            'f': \"15.4\",\n        },\n{\n            'v': 15.4,\n            'f': \"15.4\",\n        },\n{\n            'v': 15.4,\n            'f': \"15.4\",\n        },\n{\n            'v': 0.0,\n            'f': \"0.0\",\n        }],\n [{\n            'v': 561412,\n            'f': \"561412\",\n        },\n\"2019-12-01\",\n\"TR\",\n\"Konya\",\n\"wind-gust\",\n{\n            'v': 4,\n            'f': \"4\",\n        },\n{\n            'v': 12.3,\n            'f': \"12.3\",\n        },\n{\n            'v': 12.3,\n            'f': \"12.3\",\n        },\n{\n            'v': 12.3,\n            'f': \"12.3\",\n        },\n{\n            'v': 0.0,\n            'f': \"0.0\",\n        }],\n [{\n            'v': 561413,\n            'f': \"561413\",\n        },\n\"2019-12-23\",\n\"TR\",\n\"Konya\",\n\"wind-gust\",\n{\n            'v': 15,\n            'f': \"15\",\n        },\n{\n            'v': 13.3,\n            'f': \"13.3\",\n        },\n{\n            'v': 21.0,\n            'f': \"21.0\",\n        },\n{\n            'v': 17.4,\n            'f': \"17.4\",\n        },\n{\n            'v': 106.02,\n            'f': \"106.02\",\n        }],\n [{\n            'v': 561414,\n            'f': \"561414\",\n        },\n\"2019-10-01\",\n\"TR\",\n\"Konya\",\n\"wind-gust\",\n{\n            'v': 4,\n            'f': \"4\",\n        },\n{\n            'v': 10.8,\n            'f': \"10.8\",\n        },\n{\n            'v': 10.8,\n            'f': \"10.8\",\n        },\n{\n            'v': 10.8,\n            'f': \"10.8\",\n        },\n{\n            'v': 0.0,\n            'f': \"0.0\",\n        }],\n [{\n            'v': 561960,\n            'f': \"561960\",\n        },\n\"2019-10-05\",\n\"TR\",\n\"Sivas\",\n\"wind-gust\",\n{\n            'v': 6,\n            'f': \"6\",\n        },\n{\n            'v': 13.3,\n            'f': \"13.3\",\n        },\n{\n            'v': 20.5,\n            'f': \"20.5\",\n        },\n{\n            'v': 13.3,\n            'f': \"13.3\",\n        },\n{\n            'v': 155.52,\n            'f': \"155.52\",\n        }],\n [{\n            'v': 561961,\n            'f': \"561961\",\n        },\n\"2019-10-06\",\n\"TR\",\n\"Sivas\",\n\"wind-gust\",\n{\n            'v': 3,\n            'f': \"3\",\n        },\n{\n            'v': 14.9,\n            'f': \"14.9\",\n        },\n{\n            'v': 14.9,\n            'f': \"14.9\",\n        },\n{\n            'v': 14.9,\n            'f': \"14.9\",\n        },\n{\n            'v': 0.0,\n            'f': \"0.0\",\n        }],\n [{\n            'v': 561962,\n            'f': \"561962\",\n        },\n\"2019-10-28\",\n\"TR\",\n\"Sivas\",\n\"wind-gust\",\n{\n            'v': 3,\n            'f': \"3\",\n        },\n{\n            'v': 12.8,\n            'f': \"12.8\",\n        },\n{\n            'v': 12.8,\n            'f': \"12.8\",\n        },\n{\n            'v': 12.8,\n            'f': \"12.8\",\n        },\n{\n            'v': 0.0,\n            'f': \"0.0\",\n        }],\n [{\n            'v': 561963,\n            'f': \"561963\",\n        },\n\"2019-11-26\",\n\"TR\",\n\"Sivas\",\n\"wind-gust\",\n{\n            'v': 3,\n            'f': \"3\",\n        },\n{\n            'v': 15.4,\n            'f': \"15.4\",\n        },\n{\n            'v': 15.4,\n            'f': \"15.4\",\n        },\n{\n            'v': 15.4,\n            'f': \"15.4\",\n        },\n{\n            'v': 0.0,\n            'f': \"0.0\",\n        }],\n [{\n            'v': 561964,\n            'f': \"561964\",\n        },\n\"2019-11-27\",\n\"TR\",\n\"Sivas\",\n\"wind-gust\",\n{\n            'v': 3,\n            'f': \"3\",\n        },\n{\n            'v': 12.8,\n            'f': \"12.8\",\n        },\n{\n            'v': 12.8,\n            'f': \"12.8\",\n        },\n{\n            'v': 12.8,\n            'f': \"12.8\",\n        },\n{\n            'v': 0.0,\n            'f': \"0.0\",\n        }],\n [{\n            'v': 561965,\n            'f': \"561965\",\n        },\n\"2019-12-24\",\n\"TR\",\n\"Sivas\",\n\"wind-gust\",\n{\n            'v': 15,\n            'f': \"15\",\n        },\n{\n            'v': 16.9,\n            'f': \"16.9\",\n        },\n{\n            'v': 20.0,\n            'f': \"20.0\",\n        },\n{\n            'v': 18.5,\n            'f': \"18.5\",\n        },\n{\n            'v': 12.1,\n            'f': \"12.1\",\n        }],\n [{\n            'v': 562644,\n            'f': \"562644\",\n        },\n\"2019-11-30\",\n\"TR\",\n\"Istanbul\",\n\"wind-gust\",\n{\n            'v': 492,\n            'f': \"492\",\n        },\n{\n            'v': 1.0,\n            'f': \"1.0\",\n        },\n{\n            'v': 23.7,\n            'f': \"23.7\",\n        },\n{\n            'v': 8.2,\n            'f': \"8.2\",\n        },\n{\n            'v': 171.57,\n            'f': \"171.57\",\n        }],\n [{\n            'v': 562645,\n            'f': \"562645\",\n        },\n\"2019-10-14\",\n\"TR\",\n\"Istanbul\",\n\"wind-gust\",\n{\n            'v': 185,\n            'f': \"185\",\n        },\n{\n            'v': 0.3,\n            'f': \"0.3\",\n        },\n{\n            'v': 11.0,\n            'f': \"11.0\",\n        },\n{\n            'v': 2.2,\n            'f': \"2.2\",\n        },\n{\n            'v': 67.74,\n            'f': \"67.74\",\n        }],\n [{\n            'v': 562646,\n            'f': \"562646\",\n        },\n\"2019-10-18\",\n\"TR\",\n\"Istanbul\",\n\"wind-gust\",\n{\n            'v': 142,\n            'f': \"142\",\n        },\n{\n            'v': 0.2,\n            'f': \"0.2\",\n        },\n{\n            'v': 5.5,\n            'f': \"5.5\",\n        },\n{\n            'v': 2.0,\n            'f': \"2.0\",\n        },\n{\n            'v': 34.71,\n            'f': \"34.71\",\n        }],\n [{\n            'v': 562647,\n            'f': \"562647\",\n        },\n\"2019-10-30\",\n\"TR\",\n\"Istanbul\",\n\"wind-gust\",\n{\n            'v': 192,\n            'f': \"192\",\n        },\n{\n            'v': 0.6,\n            'f': \"0.6\",\n        },\n{\n            'v': 20.3,\n            'f': \"20.3\",\n        },\n{\n            'v': 2.7,\n            'f': \"2.7\",\n        },\n{\n            'v': 121.36,\n            'f': \"121.36\",\n        }],\n [{\n            'v': 562648,\n            'f': \"562648\",\n        },\n\"2019-11-17\",\n\"TR\",\n\"Istanbul\",\n\"wind-gust\",\n{\n            'v': 549,\n            'f': \"549\",\n        },\n{\n            'v': 0.1,\n            'f': \"0.1\",\n        },\n{\n            'v': 8.0,\n            'f': \"8.0\",\n        },\n{\n            'v': 1.5,\n            'f': \"1.5\",\n        },\n{\n            'v': 50.46,\n            'f': \"50.46\",\n        }],\n [{\n            'v': 562649,\n            'f': \"562649\",\n        },\n\"2019-11-20\",\n\"TR\",\n\"Istanbul\",\n\"wind-gust\",\n{\n            'v': 570,\n            'f': \"570\",\n        },\n{\n            'v': 0.2,\n            'f': \"0.2\",\n        },\n{\n            'v': 12.1,\n            'f': \"12.1\",\n        },\n{\n            'v': 1.6,\n            'f': \"1.6\",\n        },\n{\n            'v': 60.26,\n            'f': \"60.26\",\n        }],\n [{\n            'v': 562650,\n            'f': \"562650\",\n        },\n\"2019-11-26\",\n\"TR\",\n\"Istanbul\",\n\"wind-gust\",\n{\n            'v': 533,\n            'f': \"533\",\n        },\n{\n            'v': 0.1,\n            'f': \"0.1\",\n        },\n{\n            'v': 28.0,\n            'f': \"28.0\",\n        },\n{\n            'v': 0.8,\n            'f': \"0.8\",\n        },\n{\n            'v': 172.68,\n            'f': \"172.68\",\n        }],\n [{\n            'v': 562651,\n            'f': \"562651\",\n        },\n\"2019-11-28\",\n\"TR\",\n\"Istanbul\",\n\"wind-gust\",\n{\n            'v': 517,\n            'f': \"517\",\n        },\n{\n            'v': 0.5,\n            'f': \"0.5\",\n        },\n{\n            'v': 20.3,\n            'f': \"20.3\",\n        },\n{\n            'v': 6.0,\n            'f': \"6.0\",\n        },\n{\n            'v': 176.97,\n            'f': \"176.97\",\n        }],\n [{\n            'v': 562652,\n            'f': \"562652\",\n        },\n\"2019-12-12\",\n\"TR\",\n\"Istanbul\",\n\"wind-gust\",\n{\n            'v': 534,\n            'f': \"534\",\n        },\n{\n            'v': 0.2,\n            'f': \"0.2\",\n        },\n{\n            'v': 12.3,\n            'f': \"12.3\",\n        },\n{\n            'v': 1.4,\n            'f': \"1.4\",\n        },\n{\n            'v': 27.77,\n            'f': \"27.77\",\n        }],\n [{\n            'v': 562653,\n            'f': \"562653\",\n        },\n\"2019-10-19\",\n\"TR\",\n\"Istanbul\",\n\"wind-gust\",\n{\n            'v': 171,\n            'f': \"171\",\n        },\n{\n            'v': 0.1,\n            'f': \"0.1\",\n        },\n{\n            'v': 8.7,\n            'f': \"8.7\",\n        },\n{\n            'v': 2.0,\n            'f': \"2.0\",\n        },\n{\n            'v': 68.11,\n            'f': \"68.11\",\n        }],\n [{\n            'v': 562654,\n            'f': \"562654\",\n        },\n\"2019-10-21\",\n\"TR\",\n\"Istanbul\",\n\"wind-gust\",\n{\n            'v': 190,\n            'f': \"190\",\n        },\n{\n            'v': 0.2,\n            'f': \"0.2\",\n        },\n{\n            'v': 11.2,\n            'f': \"11.2\",\n        },\n{\n            'v': 6.0,\n            'f': \"6.0\",\n        },\n{\n            'v': 102.66,\n            'f': \"102.66\",\n        }],\n [{\n            'v': 562655,\n            'f': \"562655\",\n        },\n\"2019-11-29\",\n\"TR\",\n\"Istanbul\",\n\"wind-gust\",\n{\n            'v': 588,\n            'f': \"588\",\n        },\n{\n            'v': 1.4,\n            'f': \"1.4\",\n        },\n{\n            'v': 20.6,\n            'f': \"20.6\",\n        },\n{\n            'v': 8.5,\n            'f': \"8.5\",\n        },\n{\n            'v': 231.61,\n            'f': \"231.61\",\n        }],\n [{\n            'v': 562656,\n            'f': \"562656\",\n        },\n\"2019-12-15\",\n\"TR\",\n\"Istanbul\",\n\"wind-gust\",\n{\n            'v': 600,\n            'f': \"600\",\n        },\n{\n            'v': 0.3,\n            'f': \"0.3\",\n        },\n{\n            'v': 9.6,\n            'f': \"9.6\",\n        },\n{\n            'v': 2.2,\n            'f': \"2.2\",\n        },\n{\n            'v': 43.6,\n            'f': \"43.6\",\n        }],\n [{\n            'v': 562657,\n            'f': \"562657\",\n        },\n\"2020-01-04\",\n\"TR\",\n\"Istanbul\",\n\"wind-gust\",\n{\n            'v': 504,\n            'f': \"504\",\n        },\n{\n            'v': 0.5,\n            'f': \"0.5\",\n        },\n{\n            'v': 7.8,\n            'f': \"7.8\",\n        },\n{\n            'v': 3.6,\n            'f': \"3.6\",\n        },\n{\n            'v': 38.84,\n            'f': \"38.84\",\n        }],\n [{\n            'v': 562658,\n            'f': \"562658\",\n        },\n\"2019-10-01\",\n\"TR\",\n\"Istanbul\",\n\"wind-gust\",\n{\n            'v': 166,\n            'f': \"166\",\n        },\n{\n            'v': 0.2,\n            'f': \"0.2\",\n        },\n{\n            'v': 10.0,\n            'f': \"10.0\",\n        },\n{\n            'v': 3.6,\n            'f': \"3.6\",\n        },\n{\n            'v': 46.43,\n            'f': \"46.43\",\n        }],\n [{\n            'v': 562659,\n            'f': \"562659\",\n        },\n\"2019-10-06\",\n\"TR\",\n\"Istanbul\",\n\"wind-gust\",\n{\n            'v': 192,\n            'f': \"192\",\n        },\n{\n            'v': 0.6,\n            'f': \"0.6\",\n        },\n{\n            'v': 18.2,\n            'f': \"18.2\",\n        },\n{\n            'v': 3.3,\n            'f': \"3.3\",\n        },\n{\n            'v': 129.98,\n            'f': \"129.98\",\n        }],\n [{\n            'v': 562660,\n            'f': \"562660\",\n        },\n\"2019-12-05\",\n\"TR\",\n\"Istanbul\",\n\"wind-gust\",\n{\n            'v': 400,\n            'f': \"400\",\n        },\n{\n            'v': 10.5,\n            'f': \"10.5\",\n        },\n{\n            'v': 18.6,\n            'f': \"18.6\",\n        },\n{\n            'v': 14.2,\n            'f': \"14.2\",\n        },\n{\n            'v': 61.72,\n            'f': \"61.72\",\n        }],\n [{\n            'v': 562661,\n            'f': \"562661\",\n        },\n\"2019-12-19\",\n\"TR\",\n\"Istanbul\",\n\"wind-gust\",\n{\n            'v': 554,\n            'f': \"554\",\n        },\n{\n            'v': 0.2,\n            'f': \"0.2\",\n        },\n{\n            'v': 14.3,\n            'f': \"14.3\",\n        },\n{\n            'v': 1.4,\n            'f': \"1.4\",\n        },\n{\n            'v': 82.51,\n            'f': \"82.51\",\n        }],\n [{\n            'v': 562662,\n            'f': \"562662\",\n        },\n\"2019-12-20\",\n\"TR\",\n\"Istanbul\",\n\"wind-gust\",\n{\n            'v': 554,\n            'f': \"554\",\n        },\n{\n            'v': 0.1,\n            'f': \"0.1\",\n        },\n{\n            'v': 20.3,\n            'f': \"20.3\",\n        },\n{\n            'v': 2.5,\n            'f': \"2.5\",\n        },\n{\n            'v': 54.9,\n            'f': \"54.9\",\n        }],\n [{\n            'v': 562663,\n            'f': \"562663\",\n        },\n\"2019-10-10\",\n\"TR\",\n\"Istanbul\",\n\"wind-gust\",\n{\n            'v': 192,\n            'f': \"192\",\n        },\n{\n            'v': 2.0,\n            'f': \"2.0\",\n        },\n{\n            'v': 25.5,\n            'f': \"25.5\",\n        },\n{\n            'v': 4.3,\n            'f': \"4.3\",\n        },\n{\n            'v': 193.51,\n            'f': \"193.51\",\n        }],\n [{\n            'v': 562664,\n            'f': \"562664\",\n        },\n\"2019-10-27\",\n\"TR\",\n\"Istanbul\",\n\"wind-gust\",\n{\n            'v': 192,\n            'f': \"192\",\n        },\n{\n            'v': 0.6,\n            'f': \"0.6\",\n        },\n{\n            'v': 9.8,\n            'f': \"9.8\",\n        },\n{\n            'v': 6.3,\n            'f': \"6.3\",\n        },\n{\n            'v': 57.27,\n            'f': \"57.27\",\n        }],\n [{\n            'v': 562665,\n            'f': \"562665\",\n        },\n\"2019-11-03\",\n\"TR\",\n\"Istanbul\",\n\"wind-gust\",\n{\n            'v': 184,\n            'f': \"184\",\n        },\n{\n            'v': 1.0,\n            'f': \"1.0\",\n        },\n{\n            'v': 14.6,\n            'f': \"14.6\",\n        },\n{\n            'v': 4.5,\n            'f': \"4.5\",\n        },\n{\n            'v': 122.56,\n            'f': \"122.56\",\n        }],\n [{\n            'v': 562666,\n            'f': \"562666\",\n        },\n\"2019-11-06\",\n\"TR\",\n\"Istanbul\",\n\"wind-gust\",\n{\n            'v': 127,\n            'f': \"127\",\n        },\n{\n            'v': 0.3,\n            'f': \"0.3\",\n        },\n{\n            'v': 31.5,\n            'f': \"31.5\",\n        },\n{\n            'v': 4.6,\n            'f': \"4.6\",\n        },\n{\n            'v': 447.16,\n            'f': \"447.16\",\n        }],\n [{\n            'v': 562667,\n            'f': \"562667\",\n        },\n\"2019-11-09\",\n\"TR\",\n\"Istanbul\",\n\"wind-gust\",\n{\n            'v': 400,\n            'f': \"400\",\n        },\n{\n            'v': 1.7,\n            'f': \"1.7\",\n        },\n{\n            'v': 10.3,\n            'f': \"10.3\",\n        },\n{\n            'v': 5.4,\n            'f': \"5.4\",\n        },\n{\n            'v': 71.01,\n            'f': \"71.01\",\n        }],\n [{\n            'v': 562668,\n            'f': \"562668\",\n        },\n\"2019-11-19\",\n\"TR\",\n\"Istanbul\",\n\"wind-gust\",\n{\n            'v': 578,\n            'f': \"578\",\n        },\n{\n            'v': 0.1,\n            'f': \"0.1\",\n        },\n{\n            'v': 6.3,\n            'f': \"6.3\",\n        },\n{\n            'v': 1.8,\n            'f': \"1.8\",\n        },\n{\n            'v': 18.44,\n            'f': \"18.44\",\n        }],\n [{\n            'v': 562669,\n            'f': \"562669\",\n        },\n\"2019-10-23\",\n\"TR\",\n\"Istanbul\",\n\"wind-gust\",\n{\n            'v': 187,\n            'f': \"187\",\n        },\n{\n            'v': 0.2,\n            'f': \"0.2\",\n        },\n{\n            'v': 14.5,\n            'f': \"14.5\",\n        },\n{\n            'v': 8.1,\n            'f': \"8.1\",\n        },\n{\n            'v': 133.15,\n            'f': \"133.15\",\n        }],\n [{\n            'v': 562670,\n            'f': \"562670\",\n        },\n\"2019-10-31\",\n\"TR\",\n\"Istanbul\",\n\"wind-gust\",\n{\n            'v': 192,\n            'f': \"192\",\n        },\n{\n            'v': 0.6,\n            'f': \"0.6\",\n        },\n{\n            'v': 32.8,\n            'f': \"32.8\",\n        },\n{\n            'v': 2.1,\n            'f': \"2.1\",\n        },\n{\n            'v': 1497.97,\n            'f': \"1497.97\",\n        }],\n [{\n            'v': 562671,\n            'f': \"562671\",\n        },\n\"2019-11-02\",\n\"TR\",\n\"Istanbul\",\n\"wind-gust\",\n{\n            'v': 192,\n            'f': \"192\",\n        },\n{\n            'v': 0.7,\n            'f': \"0.7\",\n        },\n{\n            'v': 18.8,\n            'f': \"18.8\",\n        },\n{\n            'v': 4.1,\n            'f': \"4.1\",\n        },\n{\n            'v': 135.13,\n            'f': \"135.13\",\n        }],\n [{\n            'v': 562672,\n            'f': \"562672\",\n        },\n\"2019-10-28\",\n\"TR\",\n\"Istanbul\",\n\"wind-gust\",\n{\n            'v': 192,\n            'f': \"192\",\n        },\n{\n            'v': 0.2,\n            'f': \"0.2\",\n        },\n{\n            'v': 7.9,\n            'f': \"7.9\",\n        },\n{\n            'v': 2.0,\n            'f': \"2.0\",\n        },\n{\n            'v': 46.89,\n            'f': \"46.89\",\n        }],\n [{\n            'v': 562673,\n            'f': \"562673\",\n        },\n\"2019-11-23\",\n\"TR\",\n\"Istanbul\",\n\"wind-gust\",\n{\n            'v': 566,\n            'f': \"566\",\n        },\n{\n            'v': 0.1,\n            'f': \"0.1\",\n        },\n{\n            'v': 17.7,\n            'f': \"17.7\",\n        },\n{\n            'v': 2.5,\n            'f': \"2.5\",\n        },\n{\n            'v': 91.52,\n            'f': \"91.52\",\n        }],\n [{\n            'v': 562674,\n            'f': \"562674\",\n        },\n\"2019-12-03\",\n\"TR\",\n\"Istanbul\",\n\"wind-gust\",\n{\n            'v': 600,\n            'f': \"600\",\n        },\n{\n            'v': 0.2,\n            'f': \"0.2\",\n        },\n{\n            'v': 21.0,\n            'f': \"21.0\",\n        },\n{\n            'v': 7.9,\n            'f': \"7.9\",\n        },\n{\n            'v': 439.66,\n            'f': \"439.66\",\n        }],\n [{\n            'v': 562675,\n            'f': \"562675\",\n        },\n\"2019-12-16\",\n\"TR\",\n\"Istanbul\",\n\"wind-gust\",\n{\n            'v': 577,\n            'f': \"577\",\n        },\n{\n            'v': 0.2,\n            'f': \"0.2\",\n        },\n{\n            'v': 9.3,\n            'f': \"9.3\",\n        },\n{\n            'v': 2.6,\n            'f': \"2.6\",\n        },\n{\n            'v': 23.27,\n            'f': \"23.27\",\n        }],\n [{\n            'v': 562676,\n            'f': \"562676\",\n        },\n\"2019-12-25\",\n\"TR\",\n\"Istanbul\",\n\"wind-gust\",\n{\n            'v': 600,\n            'f': \"600\",\n        },\n{\n            'v': 7.0,\n            'f': \"7.0\",\n        },\n{\n            'v': 15.2,\n            'f': \"15.2\",\n        },\n{\n            'v': 9.2,\n            'f': \"9.2\",\n        },\n{\n            'v': 17.9,\n            'f': \"17.9\",\n        }],\n [{\n            'v': 562677,\n            'f': \"562677\",\n        },\n\"2019-12-28\",\n\"TR\",\n\"Istanbul\",\n\"wind-gust\",\n{\n            'v': 576,\n            'f': \"576\",\n        },\n{\n            'v': 0.8,\n            'f': \"0.8\",\n        },\n{\n            'v': 26.5,\n            'f': \"26.5\",\n        },\n{\n            'v': 4.6,\n            'f': \"4.6\",\n        },\n{\n            'v': 239.94,\n            'f': \"239.94\",\n        }],\n [{\n            'v': 562678,\n            'f': \"562678\",\n        },\n\"2019-10-15\",\n\"TR\",\n\"Istanbul\",\n\"wind-gust\",\n{\n            'v': 192,\n            'f': \"192\",\n        },\n{\n            'v': 0.2,\n            'f': \"0.2\",\n        },\n{\n            'v': 4.6,\n            'f': \"4.6\",\n        },\n{\n            'v': 1.6,\n            'f': \"1.6\",\n        },\n{\n            'v': 24.34,\n            'f': \"24.34\",\n        }],\n [{\n            'v': 562679,\n            'f': \"562679\",\n        },\n\"2019-10-29\",\n\"TR\",\n\"Istanbul\",\n\"wind-gust\",\n{\n            'v': 177,\n            'f': \"177\",\n        },\n{\n            'v': 0.2,\n            'f': \"0.2\",\n        },\n{\n            'v': 8.5,\n            'f': \"8.5\",\n        },\n{\n            'v': 1.2,\n            'f': \"1.2\",\n        },\n{\n            'v': 58.5,\n            'f': \"58.5\",\n        }],\n [{\n            'v': 562680,\n            'f': \"562680\",\n        },\n\"2019-11-21\",\n\"TR\",\n\"Istanbul\",\n\"wind-gust\",\n{\n            'v': 600,\n            'f': \"600\",\n        },\n{\n            'v': 0.5,\n            'f': \"0.5\",\n        },\n{\n            'v': 20.4,\n            'f': \"20.4\",\n        },\n{\n            'v': 2.7,\n            'f': \"2.7\",\n        },\n{\n            'v': 126.53,\n            'f': \"126.53\",\n        }],\n [{\n            'v': 562681,\n            'f': \"562681\",\n        },\n\"2019-11-27\",\n\"TR\",\n\"Istanbul\",\n\"wind-gust\",\n{\n            'v': 517,\n            'f': \"517\",\n        },\n{\n            'v': 0.1,\n            'f': \"0.1\",\n        },\n{\n            'v': 26.0,\n            'f': \"26.0\",\n        },\n{\n            'v': 7.7,\n            'f': \"7.7\",\n        },\n{\n            'v': 230.08,\n            'f': \"230.08\",\n        }],\n [{\n            'v': 562682,\n            'f': \"562682\",\n        },\n\"2019-12-06\",\n\"TR\",\n\"Istanbul\",\n\"wind-gust\",\n{\n            'v': 600,\n            'f': \"600\",\n        },\n{\n            'v': 0.3,\n            'f': \"0.3\",\n        },\n{\n            'v': 12.0,\n            'f': \"12.0\",\n        },\n{\n            'v': 4.5,\n            'f': \"4.5\",\n        },\n{\n            'v': 89.32,\n            'f': \"89.32\",\n        }],\n [{\n            'v': 562683,\n            'f': \"562683\",\n        },\n\"2019-10-07\",\n\"TR\",\n\"Istanbul\",\n\"wind-gust\",\n{\n            'v': 192,\n            'f': \"192\",\n        },\n{\n            'v': 1.5,\n            'f': \"1.5\",\n        },\n{\n            'v': 16.2,\n            'f': \"16.2\",\n        },\n{\n            'v': 5.6,\n            'f': \"5.6\",\n        },\n{\n            'v': 227.6,\n            'f': \"227.6\",\n        }],\n [{\n            'v': 562684,\n            'f': \"562684\",\n        },\n\"2019-10-08\",\n\"TR\",\n\"Istanbul\",\n\"wind-gust\",\n{\n            'v': 192,\n            'f': \"192\",\n        },\n{\n            'v': 4.0,\n            'f': \"4.0\",\n        },\n{\n            'v': 22.5,\n            'f': \"22.5\",\n        },\n{\n            'v': 12.6,\n            'f': \"12.6\",\n        },\n{\n            'v': 229.93,\n            'f': \"229.93\",\n        }],\n [{\n            'v': 562685,\n            'f': \"562685\",\n        },\n\"2019-12-07\",\n\"TR\",\n\"Istanbul\",\n\"wind-gust\",\n{\n            'v': 600,\n            'f': \"600\",\n        },\n{\n            'v': 0.2,\n            'f': \"0.2\",\n        },\n{\n            'v': 9.6,\n            'f': \"9.6\",\n        },\n{\n            'v': 3.0,\n            'f': \"3.0\",\n        },\n{\n            'v': 56.21,\n            'f': \"56.21\",\n        }],\n [{\n            'v': 562686,\n            'f': \"562686\",\n        },\n\"2019-12-10\",\n\"TR\",\n\"Istanbul\",\n\"wind-gust\",\n{\n            'v': 578,\n            'f': \"578\",\n        },\n{\n            'v': 0.2,\n            'f': \"0.2\",\n        },\n{\n            'v': 4.6,\n            'f': \"4.6\",\n        },\n{\n            'v': 2.0,\n            'f': \"2.0\",\n        },\n{\n            'v': 15.38,\n            'f': \"15.38\",\n        }],\n [{\n            'v': 562687,\n            'f': \"562687\",\n        },\n\"2019-12-24\",\n\"TR\",\n\"Istanbul\",\n\"wind-gust\",\n{\n            'v': 550,\n            'f': \"550\",\n        },\n{\n            'v': 0.3,\n            'f': \"0.3\",\n        },\n{\n            'v': 14.6,\n            'f': \"14.6\",\n        },\n{\n            'v': 9.6,\n            'f': \"9.6\",\n        },\n{\n            'v': 254.45,\n            'f': \"254.45\",\n        }],\n [{\n            'v': 562688,\n            'f': \"562688\",\n        },\n\"2019-10-04\",\n\"TR\",\n\"Istanbul\",\n\"wind-gust\",\n{\n            'v': 188,\n            'f': \"188\",\n        },\n{\n            'v': 0.2,\n            'f': \"0.2\",\n        },\n{\n            'v': 17.2,\n            'f': \"17.2\",\n        },\n{\n            'v': 4.6,\n            'f': \"4.6\",\n        },\n{\n            'v': 207.9,\n            'f': \"207.9\",\n        }],\n [{\n            'v': 562689,\n            'f': \"562689\",\n        },\n\"2019-10-09\",\n\"TR\",\n\"Istanbul\",\n\"wind-gust\",\n{\n            'v': 181,\n            'f': \"181\",\n        },\n{\n            'v': 0.5,\n            'f': \"0.5\",\n        },\n{\n            'v': 13.0,\n            'f': \"13.0\",\n        },\n{\n            'v': 3.2,\n            'f': \"3.2\",\n        },\n{\n            'v': 103.5,\n            'f': \"103.5\",\n        }],\n [{\n            'v': 562690,\n            'f': \"562690\",\n        },\n\"2019-10-26\",\n\"TR\",\n\"Istanbul\",\n\"wind-gust\",\n{\n            'v': 192,\n            'f': \"192\",\n        },\n{\n            'v': 3.4,\n            'f': \"3.4\",\n        },\n{\n            'v': 13.7,\n            'f': \"13.7\",\n        },\n{\n            'v': 7.4,\n            'f': \"7.4\",\n        },\n{\n            'v': 42.34,\n            'f': \"42.34\",\n        }],\n [{\n            'v': 562691,\n            'f': \"562691\",\n        },\n\"2019-11-01\",\n\"TR\",\n\"Istanbul\",\n\"wind-gust\",\n{\n            'v': 192,\n            'f': \"192\",\n        },\n{\n            'v': 2.3,\n            'f': \"2.3\",\n        },\n{\n            'v': 23.8,\n            'f': \"23.8\",\n        },\n{\n            'v': 15.6,\n            'f': \"15.6\",\n        },\n{\n            'v': 182.62,\n            'f': \"182.62\",\n        }],\n [{\n            'v': 562692,\n            'f': \"562692\",\n        },\n\"2019-11-04\",\n\"TR\",\n\"Istanbul\",\n\"wind-gust\",\n{\n            'v': 176,\n            'f': \"176\",\n        },\n{\n            'v': 0.2,\n            'f': \"0.2\",\n        },\n{\n            'v': 29.0,\n            'f': \"29.0\",\n        },\n{\n            'v': 24.6,\n            'f': \"24.6\",\n        },\n{\n            'v': 916.0,\n            'f': \"916.0\",\n        }],\n [{\n            'v': 562693,\n            'f': \"562693\",\n        },\n\"2019-11-05\",\n\"TR\",\n\"Istanbul\",\n\"wind-gust\",\n{\n            'v': 156,\n            'f': \"156\",\n        },\n{\n            'v': 0.5,\n            'f': \"0.5\",\n        },\n{\n            'v': 17.2,\n            'f': \"17.2\",\n        },\n{\n            'v': 6.5,\n            'f': \"6.5\",\n        },\n{\n            'v': 207.06,\n            'f': \"207.06\",\n        }],\n [{\n            'v': 562694,\n            'f': \"562694\",\n        },\n\"2019-10-03\",\n\"TR\",\n\"Istanbul\",\n\"wind-gust\",\n{\n            'v': 162,\n            'f': \"162\",\n        },\n{\n            'v': 0.1,\n            'f': \"0.1\",\n        },\n{\n            'v': 18.7,\n            'f': \"18.7\",\n        },\n{\n            'v': 3.0,\n            'f': \"3.0\",\n        },\n{\n            'v': 265.06,\n            'f': \"265.06\",\n        }],\n [{\n            'v': 562695,\n            'f': \"562695\",\n        },\n\"2019-10-24\",\n\"TR\",\n\"Istanbul\",\n\"wind-gust\",\n{\n            'v': 181,\n            'f': \"181\",\n        },\n{\n            'v': 0.2,\n            'f': \"0.2\",\n        },\n{\n            'v': 12.9,\n            'f': \"12.9\",\n        },\n{\n            'v': 9.0,\n            'f': \"9.0\",\n        },\n{\n            'v': 98.99,\n            'f': \"98.99\",\n        }],\n [{\n            'v': 562696,\n            'f': \"562696\",\n        },\n\"2019-10-25\",\n\"TR\",\n\"Istanbul\",\n\"wind-gust\",\n{\n            'v': 192,\n            'f': \"192\",\n        },\n{\n            'v': 0.8,\n            'f': \"0.8\",\n        },\n{\n            'v': 13.2,\n            'f': \"13.2\",\n        },\n{\n            'v': 5.1,\n            'f': \"5.1\",\n        },\n{\n            'v': 110.3,\n            'f': \"110.3\",\n        }],\n [{\n            'v': 562697,\n            'f': \"562697\",\n        },\n\"2019-12-02\",\n\"TR\",\n\"Istanbul\",\n\"wind-gust\",\n{\n            'v': 600,\n            'f': \"600\",\n        },\n{\n            'v': 0.5,\n            'f': \"0.5\",\n        },\n{\n            'v': 12.5,\n            'f': \"12.5\",\n        },\n{\n            'v': 6.5,\n            'f': \"6.5\",\n        },\n{\n            'v': 96.66,\n            'f': \"96.66\",\n        }],\n [{\n            'v': 562698,\n            'f': \"562698\",\n        },\n\"2019-12-11\",\n\"TR\",\n\"Istanbul\",\n\"wind-gust\",\n{\n            'v': 578,\n            'f': \"578\",\n        },\n{\n            'v': 0.7,\n            'f': \"0.7\",\n        },\n{\n            'v': 9.0,\n            'f': \"9.0\",\n        },\n{\n            'v': 2.1,\n            'f': \"2.1\",\n        },\n{\n            'v': 62.9,\n            'f': \"62.9\",\n        }],\n [{\n            'v': 562699,\n            'f': \"562699\",\n        },\n\"2019-12-21\",\n\"TR\",\n\"Istanbul\",\n\"wind-gust\",\n{\n            'v': 600,\n            'f': \"600\",\n        },\n{\n            'v': 1.1,\n            'f': \"1.1\",\n        },\n{\n            'v': 13.0,\n            'f': \"13.0\",\n        },\n{\n            'v': 5.0,\n            'f': \"5.0\",\n        },\n{\n            'v': 151.53,\n            'f': \"151.53\",\n        }],\n [{\n            'v': 562700,\n            'f': \"562700\",\n        },\n\"2019-11-22\",\n\"TR\",\n\"Istanbul\",\n\"wind-gust\",\n{\n            'v': 600,\n            'f': \"600\",\n        },\n{\n            'v': 0.2,\n            'f': \"0.2\",\n        },\n{\n            'v': 21.3,\n            'f': \"21.3\",\n        },\n{\n            'v': 9.7,\n            'f': \"9.7\",\n        },\n{\n            'v': 198.32,\n            'f': \"198.32\",\n        }],\n [{\n            'v': 562701,\n            'f': \"562701\",\n        },\n\"2019-11-24\",\n\"TR\",\n\"Istanbul\",\n\"wind-gust\",\n{\n            'v': 552,\n            'f': \"552\",\n        },\n{\n            'v': 0.2,\n            'f': \"0.2\",\n        },\n{\n            'v': 8.7,\n            'f': \"8.7\",\n        },\n{\n            'v': 1.3,\n            'f': \"1.3\",\n        },\n{\n            'v': 14.39,\n            'f': \"14.39\",\n        }],\n [{\n            'v': 562702,\n            'f': \"562702\",\n        },\n\"2019-12-14\",\n\"TR\",\n\"Istanbul\",\n\"wind-gust\",\n{\n            'v': 525,\n            'f': \"525\",\n        },\n{\n            'v': 0.1,\n            'f': \"0.1\",\n        },\n{\n            'v': 5.6,\n            'f': \"5.6\",\n        },\n{\n            'v': 1.3,\n            'f': \"1.3\",\n        },\n{\n            'v': 35.24,\n            'f': \"35.24\",\n        }],\n [{\n            'v': 562703,\n            'f': \"562703\",\n        },\n\"2019-12-23\",\n\"TR\",\n\"Istanbul\",\n\"wind-gust\",\n{\n            'v': 600,\n            'f': \"600\",\n        },\n{\n            'v': 0.2,\n            'f': \"0.2\",\n        },\n{\n            'v': 33.0,\n            'f': \"33.0\",\n        },\n{\n            'v': 6.1,\n            'f': \"6.1\",\n        },\n{\n            'v': 383.66,\n            'f': \"383.66\",\n        }],\n [{\n            'v': 562704,\n            'f': \"562704\",\n        },\n\"2019-09-30\",\n\"TR\",\n\"Istanbul\",\n\"wind-gust\",\n{\n            'v': 192,\n            'f': \"192\",\n        },\n{\n            'v': 0.4,\n            'f': \"0.4\",\n        },\n{\n            'v': 7.2,\n            'f': \"7.2\",\n        },\n{\n            'v': 2.2,\n            'f': \"2.2\",\n        },\n{\n            'v': 41.74,\n            'f': \"41.74\",\n        }],\n [{\n            'v': 562705,\n            'f': \"562705\",\n        },\n\"2019-11-10\",\n\"TR\",\n\"Istanbul\",\n\"wind-gust\",\n{\n            'v': 598,\n            'f': \"598\",\n        },\n{\n            'v': 3.1,\n            'f': \"3.1\",\n        },\n{\n            'v': 15.9,\n            'f': \"15.9\",\n        },\n{\n            'v': 4.5,\n            'f': \"4.5\",\n        },\n{\n            'v': 210.04,\n            'f': \"210.04\",\n        }],\n [{\n            'v': 562706,\n            'f': \"562706\",\n        },\n\"2019-11-11\",\n\"TR\",\n\"Istanbul\",\n\"wind-gust\",\n{\n            'v': 588,\n            'f': \"588\",\n        },\n{\n            'v': 0.8,\n            'f': \"0.8\",\n        },\n{\n            'v': 9.8,\n            'f': \"9.8\",\n        },\n{\n            'v': 2.6,\n            'f': \"2.6\",\n        },\n{\n            'v': 17.09,\n            'f': \"17.09\",\n        }],\n [{\n            'v': 562707,\n            'f': \"562707\",\n        },\n\"2019-11-12\",\n\"TR\",\n\"Istanbul\",\n\"wind-gust\",\n{\n            'v': 600,\n            'f': \"600\",\n        },\n{\n            'v': 0.3,\n            'f': \"0.3\",\n        },\n{\n            'v': 8.0,\n            'f': \"8.0\",\n        },\n{\n            'v': 1.7,\n            'f': \"1.7\",\n        },\n{\n            'v': 15.15,\n            'f': \"15.15\",\n        }],\n [{\n            'v': 562708,\n            'f': \"562708\",\n        },\n\"2019-12-01\",\n\"TR\",\n\"Istanbul\",\n\"wind-gust\",\n{\n            'v': 439,\n            'f': \"439\",\n        },\n{\n            'v': 7.0,\n            'f': \"7.0\",\n        },\n{\n            'v': 26.9,\n            'f': \"26.9\",\n        },\n{\n            'v': 14.8,\n            'f': \"14.8\",\n        },\n{\n            'v': 136.19,\n            'f': \"136.19\",\n        }],\n [{\n            'v': 562709,\n            'f': \"562709\",\n        },\n\"2019-12-17\",\n\"TR\",\n\"Istanbul\",\n\"wind-gust\",\n{\n            'v': 577,\n            'f': \"577\",\n        },\n{\n            'v': 0.1,\n            'f': \"0.1\",\n        },\n{\n            'v': 17.7,\n            'f': \"17.7\",\n        },\n{\n            'v': 2.3,\n            'f': \"2.3\",\n        },\n{\n            'v': 81.17,\n            'f': \"81.17\",\n        }],\n [{\n            'v': 562710,\n            'f': \"562710\",\n        },\n\"2019-12-26\",\n\"TR\",\n\"Istanbul\",\n\"wind-gust\",\n{\n            'v': 598,\n            'f': \"598\",\n        },\n{\n            'v': 9.6,\n            'f': \"9.6\",\n        },\n{\n            'v': 16.8,\n            'f': \"16.8\",\n        },\n{\n            'v': 14.0,\n            'f': \"14.0\",\n        },\n{\n            'v': 34.79,\n            'f': \"34.79\",\n        }],\n [{\n            'v': 562711,\n            'f': \"562711\",\n        },\n\"2019-10-17\",\n\"TR\",\n\"Istanbul\",\n\"wind-gust\",\n{\n            'v': 134,\n            'f': \"134\",\n        },\n{\n            'v': 0.1,\n            'f': \"0.1\",\n        },\n{\n            'v': 11.4,\n            'f': \"11.4\",\n        },\n{\n            'v': 4.6,\n            'f': \"4.6\",\n        },\n{\n            'v': 86.58,\n            'f': \"86.58\",\n        }],\n [{\n            'v': 562712,\n            'f': \"562712\",\n        },\n\"2019-10-20\",\n\"TR\",\n\"Istanbul\",\n\"wind-gust\",\n{\n            'v': 185,\n            'f': \"185\",\n        },\n{\n            'v': 0.2,\n            'f': \"0.2\",\n        },\n{\n            'v': 9.0,\n            'f': \"9.0\",\n        },\n{\n            'v': 1.8,\n            'f': \"1.8\",\n        },\n{\n            'v': 46.32,\n            'f': \"46.32\",\n        }],\n [{\n            'v': 562713,\n            'f': \"562713\",\n        },\n\"2019-12-08\",\n\"TR\",\n\"Istanbul\",\n\"wind-gust\",\n{\n            'v': 600,\n            'f': \"600\",\n        },\n{\n            'v': 0.8,\n            'f': \"0.8\",\n        },\n{\n            'v': 8.1,\n            'f': \"8.1\",\n        },\n{\n            'v': 4.0,\n            'f': \"4.0\",\n        },\n{\n            'v': 45.69,\n            'f': \"45.69\",\n        }],\n [{\n            'v': 562714,\n            'f': \"562714\",\n        },\n\"2019-12-18\",\n\"TR\",\n\"Istanbul\",\n\"wind-gust\",\n{\n            'v': 485,\n            'f': \"485\",\n        },\n{\n            'v': 0.1,\n            'f': \"0.1\",\n        },\n{\n            'v': 18.0,\n            'f': \"18.0\",\n        },\n{\n            'v': 1.8,\n            'f': \"1.8\",\n        },\n{\n            'v': 184.65,\n            'f': \"184.65\",\n        }],\n [{\n            'v': 562715,\n            'f': \"562715\",\n        },\n\"2019-10-11\",\n\"TR\",\n\"Istanbul\",\n\"wind-gust\",\n{\n            'v': 192,\n            'f': \"192\",\n        },\n{\n            'v': 0.6,\n            'f': \"0.6\",\n        },\n{\n            'v': 11.2,\n            'f': \"11.2\",\n        },\n{\n            'v': 5.5,\n            'f': \"5.5\",\n        },\n{\n            'v': 81.73,\n            'f': \"81.73\",\n        }],\n [{\n            'v': 562716,\n            'f': \"562716\",\n        },\n\"2019-10-16\",\n\"TR\",\n\"Istanbul\",\n\"wind-gust\",\n{\n            'v': 170,\n            'f': \"170\",\n        },\n{\n            'v': 0.1,\n            'f': \"0.1\",\n        },\n{\n            'v': 9.0,\n            'f': \"9.0\",\n        },\n{\n            'v': 3.5,\n            'f': \"3.5\",\n        },\n{\n            'v': 65.54,\n            'f': \"65.54\",\n        }],\n [{\n            'v': 562717,\n            'f': \"562717\",\n        },\n\"2019-12-22\",\n\"TR\",\n\"Istanbul\",\n\"wind-gust\",\n{\n            'v': 600,\n            'f': \"600\",\n        },\n{\n            'v': 0.8,\n            'f': \"0.8\",\n        },\n{\n            'v': 20.0,\n            'f': \"20.0\",\n        },\n{\n            'v': 6.4,\n            'f': \"6.4\",\n        },\n{\n            'v': 295.08,\n            'f': \"295.08\",\n        }],\n [{\n            'v': 562718,\n            'f': \"562718\",\n        },\n\"2019-12-27\",\n\"TR\",\n\"Istanbul\",\n\"wind-gust\",\n{\n            'v': 600,\n            'f': \"600\",\n        },\n{\n            'v': 1.0,\n            'f': \"1.0\",\n        },\n{\n            'v': 14.2,\n            'f': \"14.2\",\n        },\n{\n            'v': 5.6,\n            'f': \"5.6\",\n        },\n{\n            'v': 142.54,\n            'f': \"142.54\",\n        }],\n [{\n            'v': 562719,\n            'f': \"562719\",\n        },\n\"2020-01-03\",\n\"TR\",\n\"Istanbul\",\n\"wind-gust\",\n{\n            'v': 21,\n            'f': \"21\",\n        },\n{\n            'v': 1.2,\n            'f': \"1.2\",\n        },\n{\n            'v': 1.2,\n            'f': \"1.2\",\n        },\n{\n            'v': 1.2,\n            'f': \"1.2\",\n        },\n{\n            'v': 0.0,\n            'f': \"0.0\",\n        }],\n [{\n            'v': 562720,\n            'f': \"562720\",\n        },\n\"2020-01-05\",\n\"TR\",\n\"Istanbul\",\n\"wind-gust\",\n{\n            'v': 504,\n            'f': \"504\",\n        },\n{\n            'v': 0.8,\n            'f': \"0.8\",\n        },\n{\n            'v': 10.8,\n            'f': \"10.8\",\n        },\n{\n            'v': 2.7,\n            'f': \"2.7\",\n        },\n{\n            'v': 89.0,\n            'f': \"89.0\",\n        }],\n [{\n            'v': 562721,\n            'f': \"562721\",\n        },\n\"2019-10-12\",\n\"TR\",\n\"Istanbul\",\n\"wind-gust\",\n{\n            'v': 192,\n            'f': \"192\",\n        },\n{\n            'v': 1.1,\n            'f': \"1.1\",\n        },\n{\n            'v': 11.0,\n            'f': \"11.0\",\n        },\n{\n            'v': 8.0,\n            'f': \"8.0\",\n        },\n{\n            'v': 70.7,\n            'f': \"70.7\",\n        }],\n [{\n            'v': 562722,\n            'f': \"562722\",\n        },\n\"2019-11-13\",\n\"TR\",\n\"Istanbul\",\n\"wind-gust\",\n{\n            'v': 600,\n            'f': \"600\",\n        },\n{\n            'v': 0.5,\n            'f': \"0.5\",\n        },\n{\n            'v': 6.1,\n            'f': \"6.1\",\n        },\n{\n            'v': 1.4,\n            'f': \"1.4\",\n        },\n{\n            'v': 7.18,\n            'f': \"7.18\",\n        }],\n [{\n            'v': 562723,\n            'f': \"562723\",\n        },\n\"2019-11-25\",\n\"TR\",\n\"Istanbul\",\n\"wind-gust\",\n{\n            'v': 563,\n            'f': \"563\",\n        },\n{\n            'v': 0.1,\n            'f': \"0.1\",\n        },\n{\n            'v': 15.8,\n            'f': \"15.8\",\n        },\n{\n            'v': 1.4,\n            'f': \"1.4\",\n        },\n{\n            'v': 85.4,\n            'f': \"85.4\",\n        }],\n [{\n            'v': 562724,\n            'f': \"562724\",\n        },\n\"2019-12-09\",\n\"TR\",\n\"Istanbul\",\n\"wind-gust\",\n{\n            'v': 600,\n            'f': \"600\",\n        },\n{\n            'v': 0.3,\n            'f': \"0.3\",\n        },\n{\n            'v': 7.8,\n            'f': \"7.8\",\n        },\n{\n            'v': 1.8,\n            'f': \"1.8\",\n        },\n{\n            'v': 36.38,\n            'f': \"36.38\",\n        }],\n [{\n            'v': 562725,\n            'f': \"562725\",\n        },\n\"2019-11-16\",\n\"TR\",\n\"Istanbul\",\n\"wind-gust\",\n{\n            'v': 600,\n            'f': \"600\",\n        },\n{\n            'v': 1.5,\n            'f': \"1.5\",\n        },\n{\n            'v': 13.5,\n            'f': \"13.5\",\n        },\n{\n            'v': 3.5,\n            'f': \"3.5\",\n        },\n{\n            'v': 99.8,\n            'f': \"99.8\",\n        }],\n [{\n            'v': 562726,\n            'f': \"562726\",\n        },\n\"2019-10-02\",\n\"TR\",\n\"Istanbul\",\n\"wind-gust\",\n{\n            'v': 125,\n            'f': \"125\",\n        },\n{\n            'v': 0.1,\n            'f': \"0.1\",\n        },\n{\n            'v': 11.7,\n            'f': \"11.7\",\n        },\n{\n            'v': 7.5,\n            'f': \"7.5\",\n        },\n{\n            'v': 129.51,\n            'f': \"129.51\",\n        }],\n [{\n            'v': 562727,\n            'f': \"562727\",\n        },\n\"2019-10-05\",\n\"TR\",\n\"Istanbul\",\n\"wind-gust\",\n{\n            'v': 192,\n            'f': \"192\",\n        },\n{\n            'v': 0.5,\n            'f': \"0.5\",\n        },\n{\n            'v': 19.8,\n            'f': \"19.8\",\n        },\n{\n            'v': 4.9,\n            'f': \"4.9\",\n        },\n{\n            'v': 196.29,\n            'f': \"196.29\",\n        }],\n [{\n            'v': 562728,\n            'f': \"562728\",\n        },\n\"2019-10-13\",\n\"TR\",\n\"Istanbul\",\n\"wind-gust\",\n{\n            'v': 192,\n            'f': \"192\",\n        },\n{\n            'v': 0.7,\n            'f': \"0.7\",\n        },\n{\n            'v': 11.2,\n            'f': \"11.2\",\n        },\n{\n            'v': 2.4,\n            'f': \"2.4\",\n        },\n{\n            'v': 58.35,\n            'f': \"58.35\",\n        }],\n [{\n            'v': 562729,\n            'f': \"562729\",\n        },\n\"2019-10-22\",\n\"TR\",\n\"Istanbul\",\n\"wind-gust\",\n{\n            'v': 183,\n            'f': \"183\",\n        },\n{\n            'v': 1.7,\n            'f': \"1.7\",\n        },\n{\n            'v': 17.5,\n            'f': \"17.5\",\n        },\n{\n            'v': 8.2,\n            'f': \"8.2\",\n        },\n{\n            'v': 92.47,\n            'f': \"92.47\",\n        }],\n [{\n            'v': 562730,\n            'f': \"562730\",\n        },\n\"2019-11-07\",\n\"TR\",\n\"Istanbul\",\n\"wind-gust\",\n{\n            'v': 136,\n            'f': \"136\",\n        },\n{\n            'v': 0.3,\n            'f': \"0.3\",\n        },\n{\n            'v': 19.6,\n            'f': \"19.6\",\n        },\n{\n            'v': 1.6,\n            'f': \"1.6\",\n        },\n{\n            'v': 176.63,\n            'f': \"176.63\",\n        }],\n [{\n            'v': 562731,\n            'f': \"562731\",\n        },\n\"2019-11-14\",\n\"TR\",\n\"Istanbul\",\n\"wind-gust\",\n{\n            'v': 577,\n            'f': \"577\",\n        },\n{\n            'v': 0.3,\n            'f': \"0.3\",\n        },\n{\n            'v': 6.7,\n            'f': \"6.7\",\n        },\n{\n            'v': 2.1,\n            'f': \"2.1\",\n        },\n{\n            'v': 25.81,\n            'f': \"25.81\",\n        }],\n [{\n            'v': 562732,\n            'f': \"562732\",\n        },\n\"2019-11-15\",\n\"TR\",\n\"Istanbul\",\n\"wind-gust\",\n{\n            'v': 554,\n            'f': \"554\",\n        },\n{\n            'v': 0.4,\n            'f': \"0.4\",\n        },\n{\n            'v': 13.6,\n            'f': \"13.6\",\n        },\n{\n            'v': 2.0,\n            'f': \"2.0\",\n        },\n{\n            'v': 50.13,\n            'f': \"50.13\",\n        }],\n [{\n            'v': 562733,\n            'f': \"562733\",\n        },\n\"2019-11-18\",\n\"TR\",\n\"Istanbul\",\n\"wind-gust\",\n{\n            'v': 600,\n            'f': \"600\",\n        },\n{\n            'v': 0.2,\n            'f': \"0.2\",\n        },\n{\n            'v': 4.8,\n            'f': \"4.8\",\n        },\n{\n            'v': 1.8,\n            'f': \"1.8\",\n        },\n{\n            'v': 13.95,\n            'f': \"13.95\",\n        }],\n [{\n            'v': 562734,\n            'f': \"562734\",\n        },\n\"2019-12-04\",\n\"TR\",\n\"Istanbul\",\n\"wind-gust\",\n{\n            'v': 600,\n            'f': \"600\",\n        },\n{\n            'v': 13.3,\n            'f': \"13.3\",\n        },\n{\n            'v': 29.5,\n            'f': \"29.5\",\n        },\n{\n            'v': 22.8,\n            'f': \"22.8\",\n        },\n{\n            'v': 126.49,\n            'f': \"126.49\",\n        }],\n [{\n            'v': 562735,\n            'f': \"562735\",\n        },\n\"2019-12-13\",\n\"TR\",\n\"Istanbul\",\n\"wind-gust\",\n{\n            'v': 550,\n            'f': \"550\",\n        },\n{\n            'v': 0.3,\n            'f': \"0.3\",\n        },\n{\n            'v': 8.0,\n            'f': \"8.0\",\n        },\n{\n            'v': 2.4,\n            'f': \"2.4\",\n        },\n{\n            'v': 37.89,\n            'f': \"37.89\",\n        }],\n [{\n            'v': 563824,\n            'f': \"563824\",\n        },\n\"2019-11-25\",\n\"TR\",\n\"Denizli\",\n\"wind-gust\",\n{\n            'v': 2,\n            'f': \"2\",\n        },\n{\n            'v': 14.9,\n            'f': \"14.9\",\n        },\n{\n            'v': 14.9,\n            'f': \"14.9\",\n        },\n{\n            'v': 14.9,\n            'f': \"14.9\",\n        },\n{\n            'v': 0.0,\n            'f': \"0.0\",\n        }],\n [{\n            'v': 563825,\n            'f': \"563825\",\n        },\n\"2019-12-23\",\n\"TR\",\n\"Denizli\",\n\"wind-gust\",\n{\n            'v': 6,\n            'f': \"6\",\n        },\n{\n            'v': 13.3,\n            'f': \"13.3\",\n        },\n{\n            'v': 15.4,\n            'f': \"15.4\",\n        },\n{\n            'v': 14.9,\n            'f': \"14.9\",\n        },\n{\n            'v': 9.63,\n            'f': \"9.63\",\n        }],\n [{\n            'v': 563826,\n            'f': \"563826\",\n        },\n\"2019-10-04\",\n\"TR\",\n\"Denizli\",\n\"wind-gust\",\n{\n            'v': 2,\n            'f': \"2\",\n        },\n{\n            'v': 9.7,\n            'f': \"9.7\",\n        },\n{\n            'v': 9.7,\n            'f': \"9.7\",\n        },\n{\n            'v': 9.7,\n            'f': \"9.7\",\n        },\n{\n            'v': 0.0,\n            'f': \"0.0\",\n        }],\n [{\n            'v': 563827,\n            'f': \"563827\",\n        },\n\"2019-10-05\",\n\"TR\",\n\"Denizli\",\n\"wind-gust\",\n{\n            'v': 4,\n            'f': \"4\",\n        },\n{\n            'v': 15.9,\n            'f': \"15.9\",\n        },\n{\n            'v': 18.0,\n            'f': \"18.0\",\n        },\n{\n            'v': 15.9,\n            'f': \"15.9\",\n        },\n{\n            'v': 14.7,\n            'f': \"14.7\",\n        }],\n [{\n            'v': 563828,\n            'f': \"563828\",\n        },\n\"2019-10-15\",\n\"TR\",\n\"Denizli\",\n\"wind-gust\",\n{\n            'v': 4,\n            'f': \"4\",\n        },\n{\n            'v': 7.7,\n            'f': \"7.7\",\n        },\n{\n            'v': 15.9,\n            'f': \"15.9\",\n        },\n{\n            'v': 7.7,\n            'f': \"7.7\",\n        },\n{\n            'v': 224.13,\n            'f': \"224.13\",\n        }],\n [{\n            'v': 564359,\n            'f': \"564359\",\n        },\n\"2019-12-24\",\n\"TR\",\n\"Erzurum\",\n\"wind-gust\",\n{\n            'v': 12,\n            'f': \"12\",\n        },\n{\n            'v': 9.7,\n            'f': \"9.7\",\n        },\n{\n            'v': 11.3,\n            'f': \"11.3\",\n        },\n{\n            'v': 11.3,\n            'f': \"11.3\",\n        },\n{\n            'v': 6.21,\n            'f': \"6.21\",\n        }],\n [{\n            'v': 564360,\n            'f': \"564360\",\n        },\n\"2019-12-25\",\n\"TR\",\n\"Erzurum\",\n\"wind-gust\",\n{\n            'v': 8,\n            'f': \"8\",\n        },\n{\n            'v': 11.3,\n            'f': \"11.3\",\n        },\n{\n            'v': 13.8,\n            'f': \"13.8\",\n        },\n{\n            'v': 11.3,\n            'f': \"11.3\",\n        },\n{\n            'v': 17.86,\n            'f': \"17.86\",\n        }],\n [{\n            'v': 564361,\n            'f': \"564361\",\n        },\n\"2019-10-03\",\n\"TR\",\n\"Erzurum\",\n\"wind-gust\",\n{\n            'v': 8,\n            'f': \"8\",\n        },\n{\n            'v': 10.8,\n            'f': \"10.8\",\n        },\n{\n            'v': 14.1,\n            'f': \"14.1\",\n        },\n{\n            'v': 10.8,\n            'f': \"10.8\",\n        },\n{\n            'v': 31.11,\n            'f': \"31.11\",\n        }],\n [{\n            'v': 564362,\n            'f': \"564362\",\n        },\n\"2019-10-06\",\n\"TR\",\n\"Erzurum\",\n\"wind-gust\",\n{\n            'v': 20,\n            'f': \"20\",\n        },\n{\n            'v': 12.6,\n            'f': \"12.6\",\n        },\n{\n            'v': 18.5,\n            'f': \"18.5\",\n        },\n{\n            'v': 12.8,\n            'f': \"12.8\",\n        },\n{\n            'v': 53.45,\n            'f': \"53.45\",\n        }],\n [{\n            'v': 564363,\n            'f': \"564363\",\n        },\n\"2019-11-03\",\n\"TR\",\n\"Erzurum\",\n\"wind-gust\",\n{\n            'v': 4,\n            'f': \"4\",\n        },\n{\n            'v': 6.6,\n            'f': \"6.6\",\n        },\n{\n            'v': 6.6,\n            'f': \"6.6\",\n        },\n{\n            'v': 6.6,\n            'f': \"6.6\",\n        },\n{\n            'v': 0.0,\n            'f': \"0.0\",\n        }],\n [{\n            'v': 564364,\n            'f': \"564364\",\n        },\n\"2019-11-27\",\n\"TR\",\n\"Erzurum\",\n\"wind-gust\",\n{\n            'v': 4,\n            'f': \"4\",\n        },\n{\n            'v': 9.7,\n            'f': \"9.7\",\n        },\n{\n            'v': 9.7,\n            'f': \"9.7\",\n        },\n{\n            'v': 9.7,\n            'f': \"9.7\",\n        },\n{\n            'v': 0.0,\n            'f': \"0.0\",\n        }],\n [{\n            'v': 564365,\n            'f': \"564365\",\n        },\n\"2019-11-29\",\n\"TR\",\n\"Erzurum\",\n\"wind-gust\",\n{\n            'v': 16,\n            'f': \"16\",\n        },\n{\n            'v': 9.2,\n            'f': \"9.2\",\n        },\n{\n            'v': 12.3,\n            'f': \"12.3\",\n        },\n{\n            'v': 10.8,\n            'f': \"10.8\",\n        },\n{\n            'v': 13.39,\n            'f': \"13.39\",\n        }],\n [{\n            'v': 564366,\n            'f': \"564366\",\n        },\n\"2019-10-08\",\n\"TR\",\n\"Erzurum\",\n\"wind-gust\",\n{\n            'v': 12,\n            'f': \"12\",\n        },\n{\n            'v': 11.3,\n            'f': \"11.3\",\n        },\n{\n            'v': 12.3,\n            'f': \"12.3\",\n        },\n{\n            'v': 11.3,\n            'f': \"11.3\",\n        },\n{\n            'v': 2.42,\n            'f': \"2.42\",\n        }],\n [{\n            'v': 564367,\n            'f': \"564367\",\n        },\n\"2019-10-18\",\n\"TR\",\n\"Erzurum\",\n\"wind-gust\",\n{\n            'v': 4,\n            'f': \"4\",\n        },\n{\n            'v': 12.8,\n            'f': \"12.8\",\n        },\n{\n            'v': 12.8,\n            'f': \"12.8\",\n        },\n{\n            'v': 12.8,\n            'f': \"12.8\",\n        },\n{\n            'v': 0.0,\n            'f': \"0.0\",\n        }]],\n        columns: [[\"number\", \"index\"], [\"string\", \"date\"], [\"string\", \"country\"], [\"string\", \"city\"], [\"string\", \"specie\"], [\"number\", \"count\"], [\"number\", \"min\"], [\"number\", \"max\"], [\"number\", \"median\"], [\"number\", \"variance\"]],\n        columnOptions: [{\"width\": \"1px\", \"className\": \"index_column\"}],\n        rowsPerPage: 25,\n        helpUrl: \"https://colab.research.google.com/notebooks/data_table.ipynb\",\n        suppressOutputScrolling: true,\n        minimumWidth: undefined,\n      });\n    ",
            "text/html": [
              "<div>\n",
              "<style scoped>\n",
              "    .dataframe tbody tr th:only-of-type {\n",
              "        vertical-align: middle;\n",
              "    }\n",
              "\n",
              "    .dataframe tbody tr th {\n",
              "        vertical-align: top;\n",
              "    }\n",
              "\n",
              "    .dataframe thead th {\n",
              "        text-align: right;\n",
              "    }\n",
              "</style>\n",
              "<table border=\"1\" class=\"dataframe\">\n",
              "  <thead>\n",
              "    <tr style=\"text-align: right;\">\n",
              "      <th></th>\n",
              "      <th>date</th>\n",
              "      <th>country</th>\n",
              "      <th>city</th>\n",
              "      <th>specie</th>\n",
              "      <th>count</th>\n",
              "      <th>min</th>\n",
              "      <th>max</th>\n",
              "      <th>median</th>\n",
              "      <th>variance</th>\n",
              "    </tr>\n",
              "  </thead>\n",
              "  <tbody>\n",
              "    <tr>\n",
              "      <th>548141</th>\n",
              "      <td>2019-12-23</td>\n",
              "      <td>TR</td>\n",
              "      <td>Eskişehir</td>\n",
              "      <td>wind-gust</td>\n",
              "      <td>2</td>\n",
              "      <td>9.2</td>\n",
              "      <td>9.7</td>\n",
              "      <td>9.2</td>\n",
              "      <td>1.25</td>\n",
              "    </tr>\n",
              "    <tr>\n",
              "      <th>548974</th>\n",
              "      <td>2019-11-02</td>\n",
              "      <td>TR</td>\n",
              "      <td>İzmit</td>\n",
              "      <td>wind-gust</td>\n",
              "      <td>144</td>\n",
              "      <td>0.7</td>\n",
              "      <td>11.8</td>\n",
              "      <td>2.8</td>\n",
              "      <td>90.98</td>\n",
              "    </tr>\n",
              "    <tr>\n",
              "      <th>548975</th>\n",
              "      <td>2019-11-12</td>\n",
              "      <td>TR</td>\n",
              "      <td>İzmit</td>\n",
              "      <td>wind-gust</td>\n",
              "      <td>144</td>\n",
              "      <td>0.3</td>\n",
              "      <td>3.2</td>\n",
              "      <td>1.1</td>\n",
              "      <td>5.99</td>\n",
              "    </tr>\n",
              "    <tr>\n",
              "      <th>548976</th>\n",
              "      <td>2019-11-15</td>\n",
              "      <td>TR</td>\n",
              "      <td>İzmit</td>\n",
              "      <td>wind-gust</td>\n",
              "      <td>144</td>\n",
              "      <td>0.5</td>\n",
              "      <td>3.0</td>\n",
              "      <td>1.2</td>\n",
              "      <td>5.92</td>\n",
              "    </tr>\n",
              "    <tr>\n",
              "      <th>548977</th>\n",
              "      <td>2019-12-11</td>\n",
              "      <td>TR</td>\n",
              "      <td>İzmit</td>\n",
              "      <td>wind-gust</td>\n",
              "      <td>138</td>\n",
              "      <td>0.7</td>\n",
              "      <td>9.0</td>\n",
              "      <td>2.1</td>\n",
              "      <td>63.33</td>\n",
              "    </tr>\n",
              "    <tr>\n",
              "      <th>...</th>\n",
              "      <td>...</td>\n",
              "      <td>...</td>\n",
              "      <td>...</td>\n",
              "      <td>...</td>\n",
              "      <td>...</td>\n",
              "      <td>...</td>\n",
              "      <td>...</td>\n",
              "      <td>...</td>\n",
              "      <td>...</td>\n",
              "    </tr>\n",
              "    <tr>\n",
              "      <th>564363</th>\n",
              "      <td>2019-11-03</td>\n",
              "      <td>TR</td>\n",
              "      <td>Erzurum</td>\n",
              "      <td>wind-gust</td>\n",
              "      <td>4</td>\n",
              "      <td>6.6</td>\n",
              "      <td>6.6</td>\n",
              "      <td>6.6</td>\n",
              "      <td>0.00</td>\n",
              "    </tr>\n",
              "    <tr>\n",
              "      <th>564364</th>\n",
              "      <td>2019-11-27</td>\n",
              "      <td>TR</td>\n",
              "      <td>Erzurum</td>\n",
              "      <td>wind-gust</td>\n",
              "      <td>4</td>\n",
              "      <td>9.7</td>\n",
              "      <td>9.7</td>\n",
              "      <td>9.7</td>\n",
              "      <td>0.00</td>\n",
              "    </tr>\n",
              "    <tr>\n",
              "      <th>564365</th>\n",
              "      <td>2019-11-29</td>\n",
              "      <td>TR</td>\n",
              "      <td>Erzurum</td>\n",
              "      <td>wind-gust</td>\n",
              "      <td>16</td>\n",
              "      <td>9.2</td>\n",
              "      <td>12.3</td>\n",
              "      <td>10.8</td>\n",
              "      <td>13.39</td>\n",
              "    </tr>\n",
              "    <tr>\n",
              "      <th>564366</th>\n",
              "      <td>2019-10-08</td>\n",
              "      <td>TR</td>\n",
              "      <td>Erzurum</td>\n",
              "      <td>wind-gust</td>\n",
              "      <td>12</td>\n",
              "      <td>11.3</td>\n",
              "      <td>12.3</td>\n",
              "      <td>11.3</td>\n",
              "      <td>2.42</td>\n",
              "    </tr>\n",
              "    <tr>\n",
              "      <th>564367</th>\n",
              "      <td>2019-10-18</td>\n",
              "      <td>TR</td>\n",
              "      <td>Erzurum</td>\n",
              "      <td>wind-gust</td>\n",
              "      <td>4</td>\n",
              "      <td>12.8</td>\n",
              "      <td>12.8</td>\n",
              "      <td>12.8</td>\n",
              "      <td>0.00</td>\n",
              "    </tr>\n",
              "  </tbody>\n",
              "</table>\n",
              "<p>682 rows × 9 columns</p>\n",
              "</div>"
            ],
            "text/plain": [
              "              date country       city     specie  ...   min   max  median  variance\n",
              "548141  2019-12-23      TR  Eskişehir  wind-gust  ...   9.2   9.7     9.2      1.25\n",
              "548974  2019-11-02      TR      İzmit  wind-gust  ...   0.7  11.8     2.8     90.98\n",
              "548975  2019-11-12      TR      İzmit  wind-gust  ...   0.3   3.2     1.1      5.99\n",
              "548976  2019-11-15      TR      İzmit  wind-gust  ...   0.5   3.0     1.2      5.92\n",
              "548977  2019-12-11      TR      İzmit  wind-gust  ...   0.7   9.0     2.1     63.33\n",
              "...            ...     ...        ...        ...  ...   ...   ...     ...       ...\n",
              "564363  2019-11-03      TR    Erzurum  wind-gust  ...   6.6   6.6     6.6      0.00\n",
              "564364  2019-11-27      TR    Erzurum  wind-gust  ...   9.7   9.7     9.7      0.00\n",
              "564365  2019-11-29      TR    Erzurum  wind-gust  ...   9.2  12.3    10.8     13.39\n",
              "564366  2019-10-08      TR    Erzurum  wind-gust  ...  11.3  12.3    11.3      2.42\n",
              "564367  2019-10-18      TR    Erzurum  wind-gust  ...  12.8  12.8    12.8      0.00\n",
              "\n",
              "[682 rows x 9 columns]"
            ]
          },
          "metadata": {},
          "execution_count": 21
        }
      ]
    },
    {
      "cell_type": "code",
      "metadata": {
        "colab": {
          "base_uri": "https://localhost:8080/",
          "height": 425
        },
        "id": "o5tL2MZ7p4sZ",
        "outputId": "0ac56f59-89af-4e1b-d99d-47d845842608"
      },
      "source": [
        "# merged both data and sorted them based on city\n",
        "df3 = pd.concat([df1, df2]).sort_values(by='city', ascending=True)\n",
        "# selecting a date and a city where we have both types of columns\n",
        "# for brevity\n",
        "df3[df3.date == '2020-01-05']\n",
        "# we can clearly see that the rows are duplicated so we can safely drop\n",
        "# either of them"
      ],
      "execution_count": null,
      "outputs": [
        {
          "output_type": "display_data",
          "data": {
            "text/html": [
              "\n",
              "  <style>\n",
              "    pre {\n",
              "        white-space: pre-wrap;\n",
              "    }\n",
              "  </style>\n",
              "  "
            ],
            "text/plain": [
              "<IPython.core.display.HTML object>"
            ]
          },
          "metadata": {}
        },
        {
          "output_type": "execute_result",
          "data": {
            "application/vnd.google.colaboratory.module+javascript": "\n      import \"https://ssl.gstatic.com/colaboratory/data_table/a6224c040fa35dcf/data_table.js\";\n\n      window.createDataTable({\n        data: [[{\n            'v': 552642,\n            'f': \"552642\",\n        },\n\"2020-01-05\",\n\"TR\",\n\"Adana\",\n\"wind-gust\",\n{\n            'v': 72,\n            'f': \"72\",\n        },\n{\n            'v': 0.2,\n            'f': \"0.2\",\n        },\n{\n            'v': 17.3,\n            'f': \"17.3\",\n        },\n{\n            'v': 6.6,\n            'f': \"6.6\",\n        },\n{\n            'v': 231.13,\n            'f': \"231.13\",\n        }],\n [{\n            'v': 552002,\n            'f': \"552002\",\n        },\n\"2020-01-05\",\n\"TR\",\n\"Adana\",\n\"wind gust\",\n{\n            'v': 72,\n            'f': \"72\",\n        },\n{\n            'v': 0.2,\n            'f': \"0.2\",\n        },\n{\n            'v': 17.3,\n            'f': \"17.3\",\n        },\n{\n            'v': 6.6,\n            'f': \"6.6\",\n        },\n{\n            'v': 231.13,\n            'f': \"231.13\",\n        }],\n [{\n            'v': 555981,\n            'f': \"555981\",\n        },\n\"2020-01-05\",\n\"TR\",\n\"Adapazar\\u0131\",\n\"wind-gust\",\n{\n            'v': 72,\n            'f': \"72\",\n        },\n{\n            'v': 0.3,\n            'f': \"0.3\",\n        },\n{\n            'v': 7.0,\n            'f': \"7.0\",\n        },\n{\n            'v': 2.5,\n            'f': \"2.5\",\n        },\n{\n            'v': 28.97,\n            'f': \"28.97\",\n        }],\n [{\n            'v': 556454,\n            'f': \"556454\",\n        },\n\"2020-01-05\",\n\"TR\",\n\"Adapazar\\u0131\",\n\"wind gust\",\n{\n            'v': 72,\n            'f': \"72\",\n        },\n{\n            'v': 0.3,\n            'f': \"0.3\",\n        },\n{\n            'v': 7.0,\n            'f': \"7.0\",\n        },\n{\n            'v': 2.5,\n            'f': \"2.5\",\n        },\n{\n            'v': 28.97,\n            'f': \"28.97\",\n        }],\n [{\n            'v': 550752,\n            'f': \"550752\",\n        },\n\"2020-01-05\",\n\"TR\",\n\"Ankara\",\n\"wind gust\",\n{\n            'v': 96,\n            'f': \"96\",\n        },\n{\n            'v': 0.2,\n            'f': \"0.2\",\n        },\n{\n            'v': 2.7,\n            'f': \"2.7\",\n        },\n{\n            'v': 0.8,\n            'f': \"0.8\",\n        },\n{\n            'v': 4.81,\n            'f': \"4.81\",\n        }],\n [{\n            'v': 551098,\n            'f': \"551098\",\n        },\n\"2020-01-05\",\n\"TR\",\n\"Ankara\",\n\"wind-gust\",\n{\n            'v': 96,\n            'f': \"96\",\n        },\n{\n            'v': 0.2,\n            'f': \"0.2\",\n        },\n{\n            'v': 2.7,\n            'f': \"2.7\",\n        },\n{\n            'v': 0.8,\n            'f': \"0.8\",\n        },\n{\n            'v': 4.81,\n            'f': \"4.81\",\n        }],\n [{\n            'v': 558489,\n            'f': \"558489\",\n        },\n\"2020-01-05\",\n\"TR\",\n\"Antakya\",\n\"wind gust\",\n{\n            'v': 18,\n            'f': \"18\",\n        },\n{\n            'v': 0.2,\n            'f': \"0.2\",\n        },\n{\n            'v': 17.3,\n            'f': \"17.3\",\n        },\n{\n            'v': 6.6,\n            'f': \"6.6\",\n        },\n{\n            'v': 241.33,\n            'f': \"241.33\",\n        }],\n [{\n            'v': 557876,\n            'f': \"557876\",\n        },\n\"2020-01-05\",\n\"TR\",\n\"Antakya\",\n\"wind-gust\",\n{\n            'v': 18,\n            'f': \"18\",\n        },\n{\n            'v': 0.2,\n            'f': \"0.2\",\n        },\n{\n            'v': 17.3,\n            'f': \"17.3\",\n        },\n{\n            'v': 6.6,\n            'f': \"6.6\",\n        },\n{\n            'v': 241.33,\n            'f': \"241.33\",\n        }],\n [{\n            'v': 555514,\n            'f': \"555514\",\n        },\n\"2020-01-05\",\n\"TR\",\n\"Bal\\u0131kesir\",\n\"wind gust\",\n{\n            'v': 12,\n            'f': \"12\",\n        },\n{\n            'v': 14.9,\n            'f': \"14.9\",\n        },\n{\n            'v': 16.9,\n            'f': \"16.9\",\n        },\n{\n            'v': 15.9,\n            'f': \"15.9\",\n        },\n{\n            'v': 4.92,\n            'f': \"4.92\",\n        }],\n [{\n            'v': 554969,\n            'f': \"554969\",\n        },\n\"2020-01-05\",\n\"TR\",\n\"Bal\\u0131kesir\",\n\"wind-gust\",\n{\n            'v': 12,\n            'f': \"12\",\n        },\n{\n            'v': 14.9,\n            'f': \"14.9\",\n        },\n{\n            'v': 16.9,\n            'f': \"16.9\",\n        },\n{\n            'v': 15.9,\n            'f': \"15.9\",\n        },\n{\n            'v': 4.92,\n            'f': \"4.92\",\n        }],\n [{\n            'v': 562720,\n            'f': \"562720\",\n        },\n\"2020-01-05\",\n\"TR\",\n\"Istanbul\",\n\"wind-gust\",\n{\n            'v': 504,\n            'f': \"504\",\n        },\n{\n            'v': 0.8,\n            'f': \"0.8\",\n        },\n{\n            'v': 10.8,\n            'f': \"10.8\",\n        },\n{\n            'v': 2.7,\n            'f': \"2.7\",\n        },\n{\n            'v': 89.0,\n            'f': \"89.0\",\n        }],\n [{\n            'v': 563015,\n            'f': \"563015\",\n        },\n\"2020-01-05\",\n\"TR\",\n\"Istanbul\",\n\"wind gust\",\n{\n            'v': 504,\n            'f': \"504\",\n        },\n{\n            'v': 0.8,\n            'f': \"0.8\",\n        },\n{\n            'v': 10.8,\n            'f': \"10.8\",\n        },\n{\n            'v': 2.7,\n            'f': \"2.7\",\n        },\n{\n            'v': 89.0,\n            'f': \"89.0\",\n        }],\n [{\n            'v': 557398,\n            'f': \"557398\",\n        },\n\"2020-01-05\",\n\"TR\",\n\"Trabzon\",\n\"wind gust\",\n{\n            'v': 5,\n            'f': \"5\",\n        },\n{\n            'v': 7.7,\n            'f': \"7.7\",\n        },\n{\n            'v': 7.7,\n            'f': \"7.7\",\n        },\n{\n            'v': 7.7,\n            'f': \"7.7\",\n        },\n{\n            'v': 0.0,\n            'f': \"0.0\",\n        }],\n [{\n            'v': 556674,\n            'f': \"556674\",\n        },\n\"2020-01-05\",\n\"TR\",\n\"Trabzon\",\n\"wind-gust\",\n{\n            'v': 5,\n            'f': \"5\",\n        },\n{\n            'v': 7.7,\n            'f': \"7.7\",\n        },\n{\n            'v': 7.7,\n            'f': \"7.7\",\n        },\n{\n            'v': 7.7,\n            'f': \"7.7\",\n        },\n{\n            'v': 0.0,\n            'f': \"0.0\",\n        }],\n [{\n            'v': 549452,\n            'f': \"549452\",\n        },\n\"2020-01-05\",\n\"TR\",\n\"\\u0130zmit\",\n\"wind gust\",\n{\n            'v': 144,\n            'f': \"144\",\n        },\n{\n            'v': 0.3,\n            'f': \"0.3\",\n        },\n{\n            'v': 7.0,\n            'f': \"7.0\",\n        },\n{\n            'v': 2.5,\n            'f': \"2.5\",\n        },\n{\n            'v': 28.76,\n            'f': \"28.76\",\n        }],\n [{\n            'v': 549009,\n            'f': \"549009\",\n        },\n\"2020-01-05\",\n\"TR\",\n\"\\u0130zmit\",\n\"wind-gust\",\n{\n            'v': 144,\n            'f': \"144\",\n        },\n{\n            'v': 0.3,\n            'f': \"0.3\",\n        },\n{\n            'v': 7.0,\n            'f': \"7.0\",\n        },\n{\n            'v': 2.5,\n            'f': \"2.5\",\n        },\n{\n            'v': 28.76,\n            'f': \"28.76\",\n        }]],\n        columns: [[\"number\", \"index\"], [\"string\", \"date\"], [\"string\", \"country\"], [\"string\", \"city\"], [\"string\", \"specie\"], [\"number\", \"count\"], [\"number\", \"min\"], [\"number\", \"max\"], [\"number\", \"median\"], [\"number\", \"variance\"]],\n        columnOptions: [{\"width\": \"1px\", \"className\": \"index_column\"}],\n        rowsPerPage: 25,\n        helpUrl: \"https://colab.research.google.com/notebooks/data_table.ipynb\",\n        suppressOutputScrolling: true,\n        minimumWidth: undefined,\n      });\n    ",
            "text/html": [
              "<div>\n",
              "<style scoped>\n",
              "    .dataframe tbody tr th:only-of-type {\n",
              "        vertical-align: middle;\n",
              "    }\n",
              "\n",
              "    .dataframe tbody tr th {\n",
              "        vertical-align: top;\n",
              "    }\n",
              "\n",
              "    .dataframe thead th {\n",
              "        text-align: right;\n",
              "    }\n",
              "</style>\n",
              "<table border=\"1\" class=\"dataframe\">\n",
              "  <thead>\n",
              "    <tr style=\"text-align: right;\">\n",
              "      <th></th>\n",
              "      <th>date</th>\n",
              "      <th>country</th>\n",
              "      <th>city</th>\n",
              "      <th>specie</th>\n",
              "      <th>count</th>\n",
              "      <th>min</th>\n",
              "      <th>max</th>\n",
              "      <th>median</th>\n",
              "      <th>variance</th>\n",
              "    </tr>\n",
              "  </thead>\n",
              "  <tbody>\n",
              "    <tr>\n",
              "      <th>552642</th>\n",
              "      <td>2020-01-05</td>\n",
              "      <td>TR</td>\n",
              "      <td>Adana</td>\n",
              "      <td>wind-gust</td>\n",
              "      <td>72</td>\n",
              "      <td>0.2</td>\n",
              "      <td>17.3</td>\n",
              "      <td>6.6</td>\n",
              "      <td>231.13</td>\n",
              "    </tr>\n",
              "    <tr>\n",
              "      <th>552002</th>\n",
              "      <td>2020-01-05</td>\n",
              "      <td>TR</td>\n",
              "      <td>Adana</td>\n",
              "      <td>wind gust</td>\n",
              "      <td>72</td>\n",
              "      <td>0.2</td>\n",
              "      <td>17.3</td>\n",
              "      <td>6.6</td>\n",
              "      <td>231.13</td>\n",
              "    </tr>\n",
              "    <tr>\n",
              "      <th>555981</th>\n",
              "      <td>2020-01-05</td>\n",
              "      <td>TR</td>\n",
              "      <td>Adapazarı</td>\n",
              "      <td>wind-gust</td>\n",
              "      <td>72</td>\n",
              "      <td>0.3</td>\n",
              "      <td>7.0</td>\n",
              "      <td>2.5</td>\n",
              "      <td>28.97</td>\n",
              "    </tr>\n",
              "    <tr>\n",
              "      <th>556454</th>\n",
              "      <td>2020-01-05</td>\n",
              "      <td>TR</td>\n",
              "      <td>Adapazarı</td>\n",
              "      <td>wind gust</td>\n",
              "      <td>72</td>\n",
              "      <td>0.3</td>\n",
              "      <td>7.0</td>\n",
              "      <td>2.5</td>\n",
              "      <td>28.97</td>\n",
              "    </tr>\n",
              "    <tr>\n",
              "      <th>550752</th>\n",
              "      <td>2020-01-05</td>\n",
              "      <td>TR</td>\n",
              "      <td>Ankara</td>\n",
              "      <td>wind gust</td>\n",
              "      <td>96</td>\n",
              "      <td>0.2</td>\n",
              "      <td>2.7</td>\n",
              "      <td>0.8</td>\n",
              "      <td>4.81</td>\n",
              "    </tr>\n",
              "    <tr>\n",
              "      <th>551098</th>\n",
              "      <td>2020-01-05</td>\n",
              "      <td>TR</td>\n",
              "      <td>Ankara</td>\n",
              "      <td>wind-gust</td>\n",
              "      <td>96</td>\n",
              "      <td>0.2</td>\n",
              "      <td>2.7</td>\n",
              "      <td>0.8</td>\n",
              "      <td>4.81</td>\n",
              "    </tr>\n",
              "    <tr>\n",
              "      <th>558489</th>\n",
              "      <td>2020-01-05</td>\n",
              "      <td>TR</td>\n",
              "      <td>Antakya</td>\n",
              "      <td>wind gust</td>\n",
              "      <td>18</td>\n",
              "      <td>0.2</td>\n",
              "      <td>17.3</td>\n",
              "      <td>6.6</td>\n",
              "      <td>241.33</td>\n",
              "    </tr>\n",
              "    <tr>\n",
              "      <th>557876</th>\n",
              "      <td>2020-01-05</td>\n",
              "      <td>TR</td>\n",
              "      <td>Antakya</td>\n",
              "      <td>wind-gust</td>\n",
              "      <td>18</td>\n",
              "      <td>0.2</td>\n",
              "      <td>17.3</td>\n",
              "      <td>6.6</td>\n",
              "      <td>241.33</td>\n",
              "    </tr>\n",
              "    <tr>\n",
              "      <th>555514</th>\n",
              "      <td>2020-01-05</td>\n",
              "      <td>TR</td>\n",
              "      <td>Balıkesir</td>\n",
              "      <td>wind gust</td>\n",
              "      <td>12</td>\n",
              "      <td>14.9</td>\n",
              "      <td>16.9</td>\n",
              "      <td>15.9</td>\n",
              "      <td>4.92</td>\n",
              "    </tr>\n",
              "    <tr>\n",
              "      <th>554969</th>\n",
              "      <td>2020-01-05</td>\n",
              "      <td>TR</td>\n",
              "      <td>Balıkesir</td>\n",
              "      <td>wind-gust</td>\n",
              "      <td>12</td>\n",
              "      <td>14.9</td>\n",
              "      <td>16.9</td>\n",
              "      <td>15.9</td>\n",
              "      <td>4.92</td>\n",
              "    </tr>\n",
              "    <tr>\n",
              "      <th>562720</th>\n",
              "      <td>2020-01-05</td>\n",
              "      <td>TR</td>\n",
              "      <td>Istanbul</td>\n",
              "      <td>wind-gust</td>\n",
              "      <td>504</td>\n",
              "      <td>0.8</td>\n",
              "      <td>10.8</td>\n",
              "      <td>2.7</td>\n",
              "      <td>89.00</td>\n",
              "    </tr>\n",
              "    <tr>\n",
              "      <th>563015</th>\n",
              "      <td>2020-01-05</td>\n",
              "      <td>TR</td>\n",
              "      <td>Istanbul</td>\n",
              "      <td>wind gust</td>\n",
              "      <td>504</td>\n",
              "      <td>0.8</td>\n",
              "      <td>10.8</td>\n",
              "      <td>2.7</td>\n",
              "      <td>89.00</td>\n",
              "    </tr>\n",
              "    <tr>\n",
              "      <th>557398</th>\n",
              "      <td>2020-01-05</td>\n",
              "      <td>TR</td>\n",
              "      <td>Trabzon</td>\n",
              "      <td>wind gust</td>\n",
              "      <td>5</td>\n",
              "      <td>7.7</td>\n",
              "      <td>7.7</td>\n",
              "      <td>7.7</td>\n",
              "      <td>0.00</td>\n",
              "    </tr>\n",
              "    <tr>\n",
              "      <th>556674</th>\n",
              "      <td>2020-01-05</td>\n",
              "      <td>TR</td>\n",
              "      <td>Trabzon</td>\n",
              "      <td>wind-gust</td>\n",
              "      <td>5</td>\n",
              "      <td>7.7</td>\n",
              "      <td>7.7</td>\n",
              "      <td>7.7</td>\n",
              "      <td>0.00</td>\n",
              "    </tr>\n",
              "    <tr>\n",
              "      <th>549452</th>\n",
              "      <td>2020-01-05</td>\n",
              "      <td>TR</td>\n",
              "      <td>İzmit</td>\n",
              "      <td>wind gust</td>\n",
              "      <td>144</td>\n",
              "      <td>0.3</td>\n",
              "      <td>7.0</td>\n",
              "      <td>2.5</td>\n",
              "      <td>28.76</td>\n",
              "    </tr>\n",
              "    <tr>\n",
              "      <th>549009</th>\n",
              "      <td>2020-01-05</td>\n",
              "      <td>TR</td>\n",
              "      <td>İzmit</td>\n",
              "      <td>wind-gust</td>\n",
              "      <td>144</td>\n",
              "      <td>0.3</td>\n",
              "      <td>7.0</td>\n",
              "      <td>2.5</td>\n",
              "      <td>28.76</td>\n",
              "    </tr>\n",
              "  </tbody>\n",
              "</table>\n",
              "</div>"
            ],
            "text/plain": [
              "              date country       city     specie  ...   min   max  median  variance\n",
              "552642  2020-01-05      TR      Adana  wind-gust  ...   0.2  17.3     6.6    231.13\n",
              "552002  2020-01-05      TR      Adana  wind gust  ...   0.2  17.3     6.6    231.13\n",
              "555981  2020-01-05      TR  Adapazarı  wind-gust  ...   0.3   7.0     2.5     28.97\n",
              "556454  2020-01-05      TR  Adapazarı  wind gust  ...   0.3   7.0     2.5     28.97\n",
              "550752  2020-01-05      TR     Ankara  wind gust  ...   0.2   2.7     0.8      4.81\n",
              "551098  2020-01-05      TR     Ankara  wind-gust  ...   0.2   2.7     0.8      4.81\n",
              "558489  2020-01-05      TR    Antakya  wind gust  ...   0.2  17.3     6.6    241.33\n",
              "557876  2020-01-05      TR    Antakya  wind-gust  ...   0.2  17.3     6.6    241.33\n",
              "555514  2020-01-05      TR  Balıkesir  wind gust  ...  14.9  16.9    15.9      4.92\n",
              "554969  2020-01-05      TR  Balıkesir  wind-gust  ...  14.9  16.9    15.9      4.92\n",
              "562720  2020-01-05      TR   Istanbul  wind-gust  ...   0.8  10.8     2.7     89.00\n",
              "563015  2020-01-05      TR   Istanbul  wind gust  ...   0.8  10.8     2.7     89.00\n",
              "557398  2020-01-05      TR    Trabzon  wind gust  ...   7.7   7.7     7.7      0.00\n",
              "556674  2020-01-05      TR    Trabzon  wind-gust  ...   7.7   7.7     7.7      0.00\n",
              "549452  2020-01-05      TR      İzmit  wind gust  ...   0.3   7.0     2.5     28.76\n",
              "549009  2020-01-05      TR      İzmit  wind-gust  ...   0.3   7.0     2.5     28.76\n",
              "\n",
              "[16 rows x 9 columns]"
            ]
          },
          "metadata": {},
          "execution_count": 22
        }
      ]
    },
    {
      "cell_type": "code",
      "metadata": {
        "colab": {
          "base_uri": "https://localhost:8080/",
          "height": 17
        },
        "id": "n8gv9f8tsmSQ",
        "outputId": "4354800a-d5ab-44f7-a7ee-2a8cf9a5a570"
      },
      "source": [
        "# let's check if this is the same thing for 'wind speed' and 'wind-speed'\n",
        "df1 = df[(df.country == 'TR') & (df.specie == 'wind speed')]\n",
        "df2 = df[(df.country == 'TR') & (df.specie == 'wind-speed')]\n",
        "df3 = pd.concat([df1, df2]).sort_values(by=['date', 'city'], ascending=True)"
      ],
      "execution_count": null,
      "outputs": [
        {
          "output_type": "display_data",
          "data": {
            "text/html": [
              "\n",
              "  <style>\n",
              "    pre {\n",
              "        white-space: pre-wrap;\n",
              "    }\n",
              "  </style>\n",
              "  "
            ],
            "text/plain": [
              "<IPython.core.display.HTML object>"
            ]
          },
          "metadata": {}
        }
      ]
    },
    {
      "cell_type": "code",
      "metadata": {
        "colab": {
          "base_uri": "https://localhost:8080/",
          "height": 215
        },
        "id": "9qrzOgBLtHHR",
        "outputId": "d8032023-7ad9-4ad5-cb7b-a418097b9480"
      },
      "source": [
        "df3[(df3.date.str.startswith('2020-01')) & (df3.city == 'İzmir')]\n",
        "# we can see here as well that the rows are duplicated so, we can safely drop\n",
        "# either one or the other"
      ],
      "execution_count": null,
      "outputs": [
        {
          "output_type": "display_data",
          "data": {
            "text/html": [
              "\n",
              "  <style>\n",
              "    pre {\n",
              "        white-space: pre-wrap;\n",
              "    }\n",
              "  </style>\n",
              "  "
            ],
            "text/plain": [
              "<IPython.core.display.HTML object>"
            ]
          },
          "metadata": {}
        },
        {
          "output_type": "execute_result",
          "data": {
            "application/vnd.google.colaboratory.module+javascript": "\n      import \"https://ssl.gstatic.com/colaboratory/data_table/a6224c040fa35dcf/data_table.js\";\n\n      window.createDataTable({\n        data: [[{\n            'v': 560349,\n            'f': \"560349\",\n        },\n\"2020-01-03\",\n\"TR\",\n\"\\u0130zmir\",\n\"wind speed\",\n{\n            'v': 128,\n            'f': \"128\",\n        },\n{\n            'v': 6.1,\n            'f': \"6.1\",\n        },\n{\n            'v': 11.5,\n            'f': \"11.5\",\n        },\n{\n            'v': 7.9,\n            'f': \"7.9\",\n        },\n{\n            'v': 23.08,\n            'f': \"23.08\",\n        }],\n [{\n            'v': 560239,\n            'f': \"560239\",\n        },\n\"2020-01-03\",\n\"TR\",\n\"\\u0130zmir\",\n\"wind-speed\",\n{\n            'v': 128,\n            'f': \"128\",\n        },\n{\n            'v': 6.1,\n            'f': \"6.1\",\n        },\n{\n            'v': 11.5,\n            'f': \"11.5\",\n        },\n{\n            'v': 7.9,\n            'f': \"7.9\",\n        },\n{\n            'v': 23.08,\n            'f': \"23.08\",\n        }],\n [{\n            'v': 560343,\n            'f': \"560343\",\n        },\n\"2020-01-04\",\n\"TR\",\n\"\\u0130zmir\",\n\"wind speed\",\n{\n            'v': 192,\n            'f': \"192\",\n        },\n{\n            'v': 0.5,\n            'f': \"0.5\",\n        },\n{\n            'v': 7.9,\n            'f': \"7.9\",\n        },\n{\n            'v': 4.3,\n            'f': \"4.3\",\n        },\n{\n            'v': 39.33,\n            'f': \"39.33\",\n        }],\n [{\n            'v': 560310,\n            'f': \"560310\",\n        },\n\"2020-01-04\",\n\"TR\",\n\"\\u0130zmir\",\n\"wind-speed\",\n{\n            'v': 192,\n            'f': \"192\",\n        },\n{\n            'v': 0.5,\n            'f': \"0.5\",\n        },\n{\n            'v': 7.9,\n            'f': \"7.9\",\n        },\n{\n            'v': 4.3,\n            'f': \"4.3\",\n        },\n{\n            'v': 39.33,\n            'f': \"39.33\",\n        }],\n [{\n            'v': 560344,\n            'f': \"560344\",\n        },\n\"2020-01-05\",\n\"TR\",\n\"\\u0130zmir\",\n\"wind speed\",\n{\n            'v': 168,\n            'f': \"168\",\n        },\n{\n            'v': 0.2,\n            'f': \"0.2\",\n        },\n{\n            'v': 4.6,\n            'f': \"4.6\",\n        },\n{\n            'v': 1.5,\n            'f': \"1.5\",\n        },\n{\n            'v': 16.25,\n            'f': \"16.25\",\n        }],\n [{\n            'v': 560254,\n            'f': \"560254\",\n        },\n\"2020-01-05\",\n\"TR\",\n\"\\u0130zmir\",\n\"wind-speed\",\n{\n            'v': 168,\n            'f': \"168\",\n        },\n{\n            'v': 0.2,\n            'f': \"0.2\",\n        },\n{\n            'v': 4.6,\n            'f': \"4.6\",\n        },\n{\n            'v': 1.5,\n            'f': \"1.5\",\n        },\n{\n            'v': 16.25,\n            'f': \"16.25\",\n        }]],\n        columns: [[\"number\", \"index\"], [\"string\", \"date\"], [\"string\", \"country\"], [\"string\", \"city\"], [\"string\", \"specie\"], [\"number\", \"count\"], [\"number\", \"min\"], [\"number\", \"max\"], [\"number\", \"median\"], [\"number\", \"variance\"]],\n        columnOptions: [{\"width\": \"1px\", \"className\": \"index_column\"}],\n        rowsPerPage: 25,\n        helpUrl: \"https://colab.research.google.com/notebooks/data_table.ipynb\",\n        suppressOutputScrolling: true,\n        minimumWidth: undefined,\n      });\n    ",
            "text/html": [
              "<div>\n",
              "<style scoped>\n",
              "    .dataframe tbody tr th:only-of-type {\n",
              "        vertical-align: middle;\n",
              "    }\n",
              "\n",
              "    .dataframe tbody tr th {\n",
              "        vertical-align: top;\n",
              "    }\n",
              "\n",
              "    .dataframe thead th {\n",
              "        text-align: right;\n",
              "    }\n",
              "</style>\n",
              "<table border=\"1\" class=\"dataframe\">\n",
              "  <thead>\n",
              "    <tr style=\"text-align: right;\">\n",
              "      <th></th>\n",
              "      <th>date</th>\n",
              "      <th>country</th>\n",
              "      <th>city</th>\n",
              "      <th>specie</th>\n",
              "      <th>count</th>\n",
              "      <th>min</th>\n",
              "      <th>max</th>\n",
              "      <th>median</th>\n",
              "      <th>variance</th>\n",
              "    </tr>\n",
              "  </thead>\n",
              "  <tbody>\n",
              "    <tr>\n",
              "      <th>560349</th>\n",
              "      <td>2020-01-03</td>\n",
              "      <td>TR</td>\n",
              "      <td>İzmir</td>\n",
              "      <td>wind speed</td>\n",
              "      <td>128</td>\n",
              "      <td>6.1</td>\n",
              "      <td>11.5</td>\n",
              "      <td>7.9</td>\n",
              "      <td>23.08</td>\n",
              "    </tr>\n",
              "    <tr>\n",
              "      <th>560239</th>\n",
              "      <td>2020-01-03</td>\n",
              "      <td>TR</td>\n",
              "      <td>İzmir</td>\n",
              "      <td>wind-speed</td>\n",
              "      <td>128</td>\n",
              "      <td>6.1</td>\n",
              "      <td>11.5</td>\n",
              "      <td>7.9</td>\n",
              "      <td>23.08</td>\n",
              "    </tr>\n",
              "    <tr>\n",
              "      <th>560343</th>\n",
              "      <td>2020-01-04</td>\n",
              "      <td>TR</td>\n",
              "      <td>İzmir</td>\n",
              "      <td>wind speed</td>\n",
              "      <td>192</td>\n",
              "      <td>0.5</td>\n",
              "      <td>7.9</td>\n",
              "      <td>4.3</td>\n",
              "      <td>39.33</td>\n",
              "    </tr>\n",
              "    <tr>\n",
              "      <th>560310</th>\n",
              "      <td>2020-01-04</td>\n",
              "      <td>TR</td>\n",
              "      <td>İzmir</td>\n",
              "      <td>wind-speed</td>\n",
              "      <td>192</td>\n",
              "      <td>0.5</td>\n",
              "      <td>7.9</td>\n",
              "      <td>4.3</td>\n",
              "      <td>39.33</td>\n",
              "    </tr>\n",
              "    <tr>\n",
              "      <th>560344</th>\n",
              "      <td>2020-01-05</td>\n",
              "      <td>TR</td>\n",
              "      <td>İzmir</td>\n",
              "      <td>wind speed</td>\n",
              "      <td>168</td>\n",
              "      <td>0.2</td>\n",
              "      <td>4.6</td>\n",
              "      <td>1.5</td>\n",
              "      <td>16.25</td>\n",
              "    </tr>\n",
              "    <tr>\n",
              "      <th>560254</th>\n",
              "      <td>2020-01-05</td>\n",
              "      <td>TR</td>\n",
              "      <td>İzmir</td>\n",
              "      <td>wind-speed</td>\n",
              "      <td>168</td>\n",
              "      <td>0.2</td>\n",
              "      <td>4.6</td>\n",
              "      <td>1.5</td>\n",
              "      <td>16.25</td>\n",
              "    </tr>\n",
              "  </tbody>\n",
              "</table>\n",
              "</div>"
            ],
            "text/plain": [
              "              date country   city      specie  ...  min   max  median  variance\n",
              "560349  2020-01-03      TR  İzmir  wind speed  ...  6.1  11.5     7.9     23.08\n",
              "560239  2020-01-03      TR  İzmir  wind-speed  ...  6.1  11.5     7.9     23.08\n",
              "560343  2020-01-04      TR  İzmir  wind speed  ...  0.5   7.9     4.3     39.33\n",
              "560310  2020-01-04      TR  İzmir  wind-speed  ...  0.5   7.9     4.3     39.33\n",
              "560344  2020-01-05      TR  İzmir  wind speed  ...  0.2   4.6     1.5     16.25\n",
              "560254  2020-01-05      TR  İzmir  wind-speed  ...  0.2   4.6     1.5     16.25\n",
              "\n",
              "[6 rows x 9 columns]"
            ]
          },
          "metadata": {},
          "execution_count": 24
        }
      ]
    },
    {
      "cell_type": "code",
      "metadata": {
        "colab": {
          "base_uri": "https://localhost:8080/",
          "height": 17
        },
        "id": "paIWJGHe3fzD",
        "outputId": "7bf20e1e-99cf-4bd0-cd25-beb56619cadd"
      },
      "source": [
        "def update_specie_values(old_value):\n",
        "  if old_value == 'wind gust': return 'wind-gust'\n",
        "  if old_value == 'wind speed': return 'wind-speed'\n",
        "  return old_value"
      ],
      "execution_count": 11,
      "outputs": [
        {
          "output_type": "display_data",
          "data": {
            "text/html": [
              "\n",
              "  <style>\n",
              "    pre {\n",
              "        white-space: pre-wrap;\n",
              "    }\n",
              "  </style>\n",
              "  "
            ],
            "text/plain": [
              "<IPython.core.display.HTML object>"
            ]
          },
          "metadata": {}
        }
      ]
    },
    {
      "cell_type": "code",
      "metadata": {
        "colab": {
          "base_uri": "https://localhost:8080/",
          "height": 85
        },
        "id": "yX8KEs5k4BUw",
        "outputId": "1376526b-aa7d-407a-a20e-70273b4d2734"
      },
      "source": [
        "df.specie.apply(update_specie_values).unique()"
      ],
      "execution_count": null,
      "outputs": [
        {
          "output_type": "display_data",
          "data": {
            "text/html": [
              "\n",
              "  <style>\n",
              "    pre {\n",
              "        white-space: pre-wrap;\n",
              "    }\n",
              "  </style>\n",
              "  "
            ],
            "text/plain": [
              "<IPython.core.display.HTML object>"
            ]
          },
          "metadata": {}
        },
        {
          "output_type": "execute_result",
          "data": {
            "text/plain": [
              "array(['o3', 'so2', 'pressure', 'temperature', 'humidity', 'no2',\n",
              "       'wind-speed', 'wind-gust', 'precipitation', 'dew', 'co', 'pm10',\n",
              "       'pm25', 'wd', 'pm1', 'neph', 'aqi', 'pol', 'uvi', 'mepaqi'],\n",
              "      dtype=object)"
            ]
          },
          "metadata": {},
          "execution_count": 26
        }
      ]
    },
    {
      "cell_type": "code",
      "metadata": {
        "colab": {
          "base_uri": "https://localhost:8080/",
          "height": 17
        },
        "id": "0ZjbN35Y4JZ6",
        "outputId": "ed00812d-1be8-4fcc-fa7a-51740b70c76d"
      },
      "source": [
        "df.specie = df.specie.apply(update_specie_values)"
      ],
      "execution_count": null,
      "outputs": [
        {
          "output_type": "display_data",
          "data": {
            "text/html": [
              "\n",
              "  <style>\n",
              "    pre {\n",
              "        white-space: pre-wrap;\n",
              "    }\n",
              "  </style>\n",
              "  "
            ],
            "text/plain": [
              "<IPython.core.display.HTML object>"
            ]
          },
          "metadata": {}
        }
      ]
    },
    {
      "cell_type": "code",
      "metadata": {
        "colab": {
          "base_uri": "https://localhost:8080/",
          "height": 85
        },
        "id": "W4DCe4kD4Lnj",
        "outputId": "7f336798-8ce6-4175-a931-0bb430bde693"
      },
      "source": [
        "df.specie.unique()"
      ],
      "execution_count": null,
      "outputs": [
        {
          "output_type": "display_data",
          "data": {
            "text/html": [
              "\n",
              "  <style>\n",
              "    pre {\n",
              "        white-space: pre-wrap;\n",
              "    }\n",
              "  </style>\n",
              "  "
            ],
            "text/plain": [
              "<IPython.core.display.HTML object>"
            ]
          },
          "metadata": {}
        },
        {
          "output_type": "execute_result",
          "data": {
            "text/plain": [
              "array(['o3', 'so2', 'pressure', 'temperature', 'humidity', 'no2',\n",
              "       'wind-speed', 'wind-gust', 'precipitation', 'dew', 'co', 'pm10',\n",
              "       'pm25', 'wd', 'pm1', 'neph', 'aqi', 'pol', 'uvi', 'mepaqi'],\n",
              "      dtype=object)"
            ]
          },
          "metadata": {},
          "execution_count": 28
        }
      ]
    },
    {
      "cell_type": "code",
      "metadata": {
        "colab": {
          "base_uri": "https://localhost:8080/",
          "height": 34
        },
        "id": "I1mVObpn4m1g",
        "outputId": "459a2a43-9489-4cd1-c0f9-7706802b85ee"
      },
      "source": [
        "# getting the number of rows in the data before and after removing duplicates\n",
        "n_rows_before = len(df.index)\n",
        "n_rows_before"
      ],
      "execution_count": null,
      "outputs": [
        {
          "output_type": "display_data",
          "data": {
            "text/html": [
              "\n",
              "  <style>\n",
              "    pre {\n",
              "        white-space: pre-wrap;\n",
              "    }\n",
              "  </style>\n",
              "  "
            ],
            "text/plain": [
              "<IPython.core.display.HTML object>"
            ]
          },
          "metadata": {}
        },
        {
          "output_type": "execute_result",
          "data": {
            "text/plain": [
              "578226"
            ]
          },
          "metadata": {},
          "execution_count": 29
        }
      ]
    },
    {
      "cell_type": "code",
      "metadata": {
        "colab": {
          "base_uri": "https://localhost:8080/",
          "height": 17
        },
        "id": "4N0yndpY5NV1",
        "outputId": "3c5310dd-4210-45a0-a963-118781916520"
      },
      "source": [
        "df = df.drop_duplicates()"
      ],
      "execution_count": null,
      "outputs": [
        {
          "output_type": "display_data",
          "data": {
            "text/html": [
              "\n",
              "  <style>\n",
              "    pre {\n",
              "        white-space: pre-wrap;\n",
              "    }\n",
              "  </style>\n",
              "  "
            ],
            "text/plain": [
              "<IPython.core.display.HTML object>"
            ]
          },
          "metadata": {}
        }
      ]
    },
    {
      "cell_type": "code",
      "metadata": {
        "colab": {
          "base_uri": "https://localhost:8080/",
          "height": 34
        },
        "id": "7ZlieMss5PES",
        "outputId": "0959ccd7-7b99-49e2-b91f-a6a5be5013ff"
      },
      "source": [
        "n_rows_after = len(df.index)\n",
        "n_rows_after"
      ],
      "execution_count": null,
      "outputs": [
        {
          "output_type": "display_data",
          "data": {
            "text/html": [
              "\n",
              "  <style>\n",
              "    pre {\n",
              "        white-space: pre-wrap;\n",
              "    }\n",
              "  </style>\n",
              "  "
            ],
            "text/plain": [
              "<IPython.core.display.HTML object>"
            ]
          },
          "metadata": {}
        },
        {
          "output_type": "execute_result",
          "data": {
            "text/plain": [
              "570834"
            ]
          },
          "metadata": {},
          "execution_count": 31
        }
      ]
    },
    {
      "cell_type": "code",
      "metadata": {
        "id": "WVSPUcdQ5SLv",
        "colab": {
          "base_uri": "https://localhost:8080/",
          "height": 34
        },
        "outputId": "9c13ba47-9bd7-4915-b48c-d45f82190169"
      },
      "source": [
        "# 7392 duplicated rows found and removed\n",
        "n_rows_before - n_rows_after"
      ],
      "execution_count": null,
      "outputs": [
        {
          "output_type": "display_data",
          "data": {
            "text/html": [
              "\n",
              "  <style>\n",
              "    pre {\n",
              "        white-space: pre-wrap;\n",
              "    }\n",
              "  </style>\n",
              "  "
            ],
            "text/plain": [
              "<IPython.core.display.HTML object>"
            ]
          },
          "metadata": {}
        },
        {
          "output_type": "execute_result",
          "data": {
            "text/plain": [
              "7392"
            ]
          },
          "metadata": {},
          "execution_count": 33
        }
      ]
    },
    {
      "cell_type": "code",
      "metadata": {
        "colab": {
          "base_uri": "https://localhost:8080/",
          "height": 289
        },
        "id": "4r-KpH_d5vpM",
        "outputId": "060dade8-9f95-4aee-b3a8-a7ebf86cdf3c"
      },
      "source": [
        "df.info()\n",
        "# we can see that we don't have any missing value, so, we can consider this\n",
        "# version, the clean and processed version of our dataset"
      ],
      "execution_count": null,
      "outputs": [
        {
          "output_type": "display_data",
          "data": {
            "text/html": [
              "\n",
              "  <style>\n",
              "    pre {\n",
              "        white-space: pre-wrap;\n",
              "    }\n",
              "  </style>\n",
              "  "
            ],
            "text/plain": [
              "<IPython.core.display.HTML object>"
            ]
          },
          "metadata": {}
        },
        {
          "output_type": "stream",
          "name": "stdout",
          "text": [
            "<class 'pandas.core.frame.DataFrame'>\n",
            "Int64Index: 570834 entries, 0 to 578225\n",
            "Data columns (total 9 columns):\n",
            " #   Column    Non-Null Count   Dtype  \n",
            "---  ------    --------------   -----  \n",
            " 0   date      570834 non-null  object \n",
            " 1   country   570834 non-null  object \n",
            " 2   city      570834 non-null  object \n",
            " 3   specie    570834 non-null  object \n",
            " 4   count     570834 non-null  int64  \n",
            " 5   min       570834 non-null  float64\n",
            " 6   max       570834 non-null  float64\n",
            " 7   median    570834 non-null  float64\n",
            " 8   variance  570834 non-null  float64\n",
            "dtypes: float64(4), int64(1), object(4)\n",
            "memory usage: 43.6+ MB\n"
          ]
        }
      ]
    },
    {
      "cell_type": "code",
      "metadata": {
        "colab": {
          "base_uri": "https://localhost:8080/",
          "height": 17
        },
        "id": "jM42Lek2ztcE",
        "outputId": "a5fbbcde-ca38-4fbb-e5fe-bd8a5c288fd0"
      },
      "source": [
        "# save a clean version of the data\n",
        "TEST_AQ_DATA_FILE_DST = AIR_QUALITY_CLEAN_DATA_FOLDER / '2019Q4.csv'\n",
        "df.to_csv(TEST_AQ_DATA_FILE_DST, index=False, header=True)"
      ],
      "execution_count": null,
      "outputs": [
        {
          "output_type": "display_data",
          "data": {
            "text/html": [
              "\n",
              "  <style>\n",
              "    pre {\n",
              "        white-space: pre-wrap;\n",
              "    }\n",
              "  </style>\n",
              "  "
            ],
            "text/plain": [
              "<IPython.core.display.HTML object>"
            ]
          },
          "metadata": {}
        }
      ]
    },
    {
      "cell_type": "code",
      "metadata": {
        "colab": {
          "base_uri": "https://localhost:8080/",
          "height": 17
        },
        "id": "CgP1NCJC7KMC",
        "outputId": "0875f45d-73b9-4b3b-afc2-ffd5c4d324ba"
      },
      "source": [
        "# pd.set_option('display.max_rows', None)\n",
        "# pd.reset_option('display.max_rows')"
      ],
      "execution_count": null,
      "outputs": [
        {
          "output_type": "display_data",
          "data": {
            "text/html": [
              "\n",
              "  <style>\n",
              "    pre {\n",
              "        white-space: pre-wrap;\n",
              "    }\n",
              "  </style>\n",
              "  "
            ],
            "text/plain": [
              "<IPython.core.display.HTML object>"
            ]
          },
          "metadata": {}
        }
      ]
    },
    {
      "cell_type": "code",
      "metadata": {
        "colab": {
          "base_uri": "https://localhost:8080/",
          "height": 17
        },
        "id": "k-fcglZ06mZK",
        "outputId": "387943ba-4086-4cbf-d6db-75f55b1871bd"
      },
      "source": [
        "# and this processing should be done on all the remaining CSV files\n",
        "# df = pd.read_csv(AIR_QUALITY_RAW_DATA_FOLDER / '2020Q1.csv', comment='#')\n",
        "# df"
      ],
      "execution_count": null,
      "outputs": [
        {
          "output_type": "display_data",
          "data": {
            "text/html": [
              "\n",
              "  <style>\n",
              "    pre {\n",
              "        white-space: pre-wrap;\n",
              "    }\n",
              "  </style>\n",
              "  "
            ],
            "text/plain": [
              "<IPython.core.display.HTML object>"
            ]
          },
          "metadata": {}
        }
      ]
    },
    {
      "cell_type": "code",
      "metadata": {
        "colab": {
          "base_uri": "https://localhost:8080/",
          "height": 17
        },
        "id": "c9aCYN378enr",
        "outputId": "e6ed59c3-c95a-4a19-819d-b362fd3f19b8"
      },
      "source": [
        "# processing steps\n",
        "\n",
        "# - load file\n",
        "# - lowercase column names\n",
        "# - update_specie_values\n",
        "# - drop_duplicates\n",
        "# - save clean version\n",
        "\n",
        "def process_file(src_file_path, dst_file_path):\n",
        "  # check if dst_file already there, if so, skip this file\n",
        "  if dst_file_path.exists():\n",
        "    print(f'{dst_file_path} found, skipping...')\n",
        "    return\n",
        "  df = pd.read_csv(src_file_path, comment='#') # load file\n",
        "  df.columns = map(lambda x : x.lower(), df.columns) # lowercase column names\n",
        "  df.specie = df.specie.apply(update_specie_values) # update_specie_values\n",
        "  df = df.drop_duplicates() # drop_duplicates\n",
        "  df.to_csv(dst_file_path, index=False, header=True) # save clean version\n",
        "  print(f'{dst_file_path} saved.')"
      ],
      "execution_count": 12,
      "outputs": [
        {
          "output_type": "display_data",
          "data": {
            "text/html": [
              "\n",
              "  <style>\n",
              "    pre {\n",
              "        white-space: pre-wrap;\n",
              "    }\n",
              "  </style>\n",
              "  "
            ],
            "text/plain": [
              "<IPython.core.display.HTML object>"
            ]
          },
          "metadata": {}
        }
      ]
    },
    {
      "cell_type": "code",
      "metadata": {
        "colab": {
          "base_uri": "https://localhost:8080/",
          "height": 153
        },
        "id": "7CrtOYSU5bBR",
        "outputId": "06e32ada-cd49-4f7c-a714-57823edbfa2a"
      },
      "source": [
        "for period in periods:\n",
        "  SRC_FILE_PATH = AIR_QUALITY_RAW_DATA_FOLDER / f'{period}.csv'\n",
        "  DST_FILE_PATH = AIR_QUALITY_CLEAN_DATA_FOLDER / f'{period}.csv'\n",
        "  process_file(SRC_FILE_PATH, DST_FILE_PATH)"
      ],
      "execution_count": 13,
      "outputs": [
        {
          "output_type": "display_data",
          "data": {
            "text/html": [
              "\n",
              "  <style>\n",
              "    pre {\n",
              "        white-space: pre-wrap;\n",
              "    }\n",
              "  </style>\n",
              "  "
            ],
            "text/plain": [
              "<IPython.core.display.HTML object>"
            ]
          },
          "metadata": {}
        },
        {
          "output_type": "stream",
          "name": "stdout",
          "text": [
            "data/air_quality/clean/2020Q1.csv saved.\n",
            "data/air_quality/clean/2020Q2.csv saved.\n",
            "data/air_quality/clean/2020Q3.csv saved.\n",
            "data/air_quality/clean/2020Q4.csv saved.\n",
            "data/air_quality/clean/2019Q1.csv saved.\n",
            "data/air_quality/clean/2019Q2.csv saved.\n",
            "data/air_quality/clean/2019Q3.csv saved.\n",
            "data/air_quality/clean/2019Q4.csv saved.\n"
          ]
        }
      ]
    },
    {
      "cell_type": "code",
      "metadata": {
        "colab": {
          "base_uri": "https://localhost:8080/",
          "height": 153
        },
        "id": "DN9OrbYDpoHV",
        "outputId": "e0e8e984-120f-4f76-a34b-15bd27799f69"
      },
      "source": [
        "# put all clean data in one zip file (to make downloading easier)\n",
        "!zip clean_data.zip data/air_quality/clean/*.csv"
      ],
      "execution_count": 14,
      "outputs": [
        {
          "output_type": "display_data",
          "data": {
            "text/html": [
              "\n",
              "  <style>\n",
              "    pre {\n",
              "        white-space: pre-wrap;\n",
              "    }\n",
              "  </style>\n",
              "  "
            ],
            "text/plain": [
              "<IPython.core.display.HTML object>"
            ]
          },
          "metadata": {}
        },
        {
          "output_type": "stream",
          "name": "stdout",
          "text": [
            "  adding: data/air_quality/clean/2019Q1.csv (deflated 78%)\n",
            "  adding: data/air_quality/clean/2019Q2.csv (deflated 78%)\n",
            "  adding: data/air_quality/clean/2019Q3.csv (deflated 78%)\n",
            "  adding: data/air_quality/clean/2019Q4.csv (deflated 77%)\n",
            "  adding: data/air_quality/clean/2020Q1.csv (deflated 77%)\n",
            "  adding: data/air_quality/clean/2020Q2.csv (deflated 78%)\n",
            "  adding: data/air_quality/clean/2020Q3.csv (deflated 78%)\n",
            "  adding: data/air_quality/clean/2020Q4.csv (deflated 78%)\n"
          ]
        }
      ]
    },
    {
      "cell_type": "code",
      "metadata": {
        "colab": {
          "base_uri": "https://localhost:8080/",
          "height": 51
        },
        "id": "WErLMOc-zJVQ",
        "outputId": "c07faaca-efcd-41dc-a697-89c6a7972f7c"
      },
      "source": [
        "!ls -alh *.zip"
      ],
      "execution_count": 15,
      "outputs": [
        {
          "output_type": "display_data",
          "data": {
            "text/html": [
              "\n",
              "  <style>\n",
              "    pre {\n",
              "        white-space: pre-wrap;\n",
              "    }\n",
              "  </style>\n",
              "  "
            ],
            "text/plain": [
              "<IPython.core.display.HTML object>"
            ]
          },
          "metadata": {}
        },
        {
          "output_type": "stream",
          "name": "stdout",
          "text": [
            "-rw-r--r-- 1 root root 52M Nov 19 15:24 clean_data.zip\n",
            "-rw-r--r-- 1 root root 52M Nov 19 15:22 raw_data.zip\n"
          ]
        }
      ]
    },
    {
      "cell_type": "code",
      "metadata": {
        "colab": {
          "base_uri": "https://localhost:8080/",
          "height": 17
        },
        "id": "0E8iYpml0Njw",
        "outputId": "ab354fab-2a0b-4282-976b-e7511dea56c6"
      },
      "source": [
        "from google.colab import files"
      ],
      "execution_count": 16,
      "outputs": [
        {
          "output_type": "display_data",
          "data": {
            "text/html": [
              "\n",
              "  <style>\n",
              "    pre {\n",
              "        white-space: pre-wrap;\n",
              "    }\n",
              "  </style>\n",
              "  "
            ],
            "text/plain": [
              "<IPython.core.display.HTML object>"
            ]
          },
          "metadata": {}
        }
      ]
    },
    {
      "cell_type": "code",
      "metadata": {
        "colab": {
          "base_uri": "https://localhost:8080/",
          "height": 17
        },
        "id": "gzmtKw8o0Oof",
        "outputId": "801c7324-b752-4499-b94d-3b551bbe5959"
      },
      "source": [
        "files.download('raw_data.zip')"
      ],
      "execution_count": 17,
      "outputs": [
        {
          "output_type": "display_data",
          "data": {
            "text/html": [
              "\n",
              "  <style>\n",
              "    pre {\n",
              "        white-space: pre-wrap;\n",
              "    }\n",
              "  </style>\n",
              "  "
            ],
            "text/plain": [
              "<IPython.core.display.HTML object>"
            ]
          },
          "metadata": {}
        },
        {
          "output_type": "display_data",
          "data": {
            "application/javascript": [
              "\n",
              "    async function download(id, filename, size) {\n",
              "      if (!google.colab.kernel.accessAllowed) {\n",
              "        return;\n",
              "      }\n",
              "      const div = document.createElement('div');\n",
              "      const label = document.createElement('label');\n",
              "      label.textContent = `Downloading \"${filename}\": `;\n",
              "      div.appendChild(label);\n",
              "      const progress = document.createElement('progress');\n",
              "      progress.max = size;\n",
              "      div.appendChild(progress);\n",
              "      document.body.appendChild(div);\n",
              "\n",
              "      const buffers = [];\n",
              "      let downloaded = 0;\n",
              "\n",
              "      const channel = await google.colab.kernel.comms.open(id);\n",
              "      // Send a message to notify the kernel that we're ready.\n",
              "      channel.send({})\n",
              "\n",
              "      for await (const message of channel.messages) {\n",
              "        // Send a message to notify the kernel that we're ready.\n",
              "        channel.send({})\n",
              "        if (message.buffers) {\n",
              "          for (const buffer of message.buffers) {\n",
              "            buffers.push(buffer);\n",
              "            downloaded += buffer.byteLength;\n",
              "            progress.value = downloaded;\n",
              "          }\n",
              "        }\n",
              "      }\n",
              "      const blob = new Blob(buffers, {type: 'application/binary'});\n",
              "      const a = document.createElement('a');\n",
              "      a.href = window.URL.createObjectURL(blob);\n",
              "      a.download = filename;\n",
              "      div.appendChild(a);\n",
              "      a.click();\n",
              "      div.remove();\n",
              "    }\n",
              "  "
            ],
            "text/plain": [
              "<IPython.core.display.Javascript object>"
            ]
          },
          "metadata": {}
        },
        {
          "output_type": "display_data",
          "data": {
            "application/javascript": [
              "download(\"download_af3f591c-bb24-498d-af4f-7a5695e308e7\", \"raw_data.zip\", 54502141)"
            ],
            "text/plain": [
              "<IPython.core.display.Javascript object>"
            ]
          },
          "metadata": {}
        }
      ]
    },
    {
      "cell_type": "code",
      "metadata": {
        "colab": {
          "base_uri": "https://localhost:8080/",
          "height": 17
        },
        "id": "gzWH-TJ011lP",
        "outputId": "5c2c35b6-85d5-4d40-e6f1-18226ca51369"
      },
      "source": [
        "files.download('clean_data.zip')"
      ],
      "execution_count": 18,
      "outputs": [
        {
          "output_type": "display_data",
          "data": {
            "text/html": [
              "\n",
              "  <style>\n",
              "    pre {\n",
              "        white-space: pre-wrap;\n",
              "    }\n",
              "  </style>\n",
              "  "
            ],
            "text/plain": [
              "<IPython.core.display.HTML object>"
            ]
          },
          "metadata": {}
        },
        {
          "output_type": "display_data",
          "data": {
            "application/javascript": [
              "\n",
              "    async function download(id, filename, size) {\n",
              "      if (!google.colab.kernel.accessAllowed) {\n",
              "        return;\n",
              "      }\n",
              "      const div = document.createElement('div');\n",
              "      const label = document.createElement('label');\n",
              "      label.textContent = `Downloading \"${filename}\": `;\n",
              "      div.appendChild(label);\n",
              "      const progress = document.createElement('progress');\n",
              "      progress.max = size;\n",
              "      div.appendChild(progress);\n",
              "      document.body.appendChild(div);\n",
              "\n",
              "      const buffers = [];\n",
              "      let downloaded = 0;\n",
              "\n",
              "      const channel = await google.colab.kernel.comms.open(id);\n",
              "      // Send a message to notify the kernel that we're ready.\n",
              "      channel.send({})\n",
              "\n",
              "      for await (const message of channel.messages) {\n",
              "        // Send a message to notify the kernel that we're ready.\n",
              "        channel.send({})\n",
              "        if (message.buffers) {\n",
              "          for (const buffer of message.buffers) {\n",
              "            buffers.push(buffer);\n",
              "            downloaded += buffer.byteLength;\n",
              "            progress.value = downloaded;\n",
              "          }\n",
              "        }\n",
              "      }\n",
              "      const blob = new Blob(buffers, {type: 'application/binary'});\n",
              "      const a = document.createElement('a');\n",
              "      a.href = window.URL.createObjectURL(blob);\n",
              "      a.download = filename;\n",
              "      div.appendChild(a);\n",
              "      a.click();\n",
              "      div.remove();\n",
              "    }\n",
              "  "
            ],
            "text/plain": [
              "<IPython.core.display.Javascript object>"
            ]
          },
          "metadata": {}
        },
        {
          "output_type": "display_data",
          "data": {
            "application/javascript": [
              "download(\"download_fdb4ab24-393d-4681-a40b-c06df5981abc\", \"clean_data.zip\", 54199967)"
            ],
            "text/plain": [
              "<IPython.core.display.Javascript object>"
            ]
          },
          "metadata": {}
        }
      ]
    },
    {
      "cell_type": "markdown",
      "metadata": {
        "id": "XPDwc_sqP-v4"
      },
      "source": [
        "# References\n",
        "* [python - Running for loop terminal commands in Jupyter - Stack Overflow](https://stackoverflow.com/questions/46920538/running-for-loop-terminal-commands-in-jupyter/50730032)\n",
        "* [shell - How to mkdir only if a directory does not already exist? - Stack Overflow](https://stackoverflow.com/questions/793858/how-to-mkdir-only-if-a-directory-does-not-already-exist)\n",
        "* [How do I append a string to a Path in Python? - Stack Overflow](https://stackoverflow.com/questions/48190959/how-do-i-append-a-string-to-a-path-in-python)\n",
        "* [Line Wrapping in Collaboratory Google results - Stack Overflow](https://stackoverflow.com/questions/58890109/line-wrapping-in-collaboratory-google-results)\n",
        "* [python - How to see complete rows in Google Colab * Stack Overflow](https://stackoverflow.com/questions/60013721/how-to-see-complete-rows-in-google-colab)\n",
        "* [python - Pandas: Setting no. of max rows - Stack Overflow](https://stackoverflow.com/questions/16424493/pandas-setting-no-of-max-rows)\n",
        "* [command line - how to pass multiple files to zip for zipping - Ask Ubuntu](https://askubuntu.com/questions/1001258/how-to-pass-multiple-files-to-zip-for-zipping)"
      ]
    },
    {
      "cell_type": "markdown",
      "metadata": {
        "id": "zHzMgnyIP8GS"
      },
      "source": [
        "---"
      ]
    }
  ]
}